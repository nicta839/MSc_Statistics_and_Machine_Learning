{
 "cells": [
  {
   "cell_type": "markdown",
   "metadata": {},
   "source": [
    "# Deep Neural Networks Laboration\n",
    "\n",
    "Data used in this laboration are from the Kitsune Network Attack Dataset, https://archive.ics.uci.edu/ml/datasets/Kitsune+Network+Attack+Dataset . We will focus on the 'Mirai' part of the dataset. Your task is to make a DNN that can classify if each attack is benign or malicious. The dataset has 116 covariates, but to make it a bit more difficult we will remove the first 24 covariates.\n",
    "\n",
    "You need to answer all questions in this notebook."
   ]
  },
  {
   "cell_type": "markdown",
   "metadata": {},
   "source": [
    "# Part 1: Get the data\n",
    "\n",
    "Skip this part if you load stored numpy arrays (Mirai*.npy) (which is recommended)\n",
    "\n",
    "Use `wget` in the terminal of your cloud machine (in the same directory as where you have saved this notebook) to download the data, i.e.\n",
    "\n",
    "wget https://archive.ics.uci.edu/ml/machine-learning-databases/00516/mirai/Mirai_dataset.csv.gz\n",
    "\n",
    "wget https://archive.ics.uci.edu/ml/machine-learning-databases/00516/mirai/Mirai_labels.csv.gz\n",
    "\n",
    "Then unpack the files using `gunzip` in the terminal, i.e.\n",
    "\n",
    "gunzip Mirai_dataset.csv.gz\n",
    "\n",
    "gunzip Mirai_labels.csv.gz"
   ]
  },
  {
   "cell_type": "markdown",
   "metadata": {},
   "source": [
    "# Part 2: Get a graphics card\n",
    "\n",
    "Skip this part if you run on the CPU\n",
    "\n",
    "Lets make sure that our script can see the graphics card that will be used. The graphics cards will perform all the time consuming calculations in every training iteration."
   ]
  },
  {
   "cell_type": "code",
   "execution_count": null,
   "metadata": {},
   "outputs": [],
   "source": [
    "import os\n",
    "import warnings\n",
    "\n",
    "# Ignore FutureWarning from numpy\n",
    "warnings.simplefilter(action='ignore', category=FutureWarning)\n",
    "\n",
    "import keras.backend as K\n",
    "import tensorflow as tf\n",
    "\n",
    "os.environ[\"CUDA_DEVICE_ORDER\"]=\"PCI_BUS_ID\";\n",
    " \n",
    "# The GPU id to use, usually either \"0\" or \"1\";\n",
    "os.environ[\"CUDA_VISIBLE_DEVICES\"]=\"0\";\n",
    "\n",
    "# Allow growth of GPU memory, otherwise it will always look like all the memory is being used\n",
    "physical_devices = tf.config.experimental.list_physical_devices('GPU')\n",
    "tf.config.experimental.set_memory_growth(physical_devices[0], True) "
   ]
  },
  {
   "cell_type": "markdown",
   "metadata": {},
   "source": [
    "# Part 3: Hardware\n",
    "\n",
    "Skip questions 1, 2, 3, 5, 6 if you use your own computer.\n",
    "\n",
    "In deep learning, the computer hardware is very important. You should always know what kind of hardware you are working on.\n",
    "\n",
    "Question 1: What graphics card is available in the cloud machine? Run 'nvidia-smi' in the terminal. \n",
    "\n",
    "Question 2: Google the name of the graphics card, how many CUDA cores does it have?\n",
    "\n",
    "Question 3: How much memory does the graphics card have?\n",
    "\n",
    "Question 4: What is stored in the GPU memory while training a DNN ?\n",
    "\n",
    "**Answer**: \n",
    "\n",
    "During the training of a DNN the GPU memory stores:\n",
    "- Weights and Biases of the network\n",
    "- Intermediate calculation results from the forward pass\n",
    "- Workspace such as local variables\n",
    "\n",
    "Question 5: What CPU is available in the cloud machine? How many cores does it have? Run 'lscpu' in the terminal.\n",
    "\n",
    "Question 6: How much CPU memory (RAM) is available in the cloud machine? Run 'free -g' in the terminal."
   ]
  },
  {
   "cell_type": "markdown",
   "metadata": {},
   "source": [
    "# Part 4: Load the data\n",
    "\n",
    "To make this step easier, directly load the data from saved numpy arrays (.npy) (recommended)\n",
    "\n",
    "\n",
    "Load the dataset from the csv files, it will take some time since it is almost 1.4 GB. \n",
    "\n",
    "We will use the function `genfromtxt` to load the data.\n",
    "\n",
    "https://docs.scipy.org/doc/numpy/reference/generated/numpy.genfromtxt.html\n",
    "\n",
    "Load the data from csv files the first time, then save the data as numpy files for faster loading the next time.\n"
   ]
  },
  {
   "cell_type": "code",
   "execution_count": 1,
   "metadata": {},
   "outputs": [
    {
     "name": "stdout",
     "output_type": "stream",
     "text": [
      "The covariates have size (764137, 92).\n",
      "The labels have size (764137,).\n",
      "################\n",
      "# cls | number #\n",
      "################\n",
      "# 0.0 | 121621 #\n",
      "# 1.0 | 642516 #\n",
      "################\n"
     ]
    }
   ],
   "source": [
    "from numpy import genfromtxt\n",
    "import numpy as np\n",
    "\n",
    "\n",
    "# Load data from numpy arrays\n",
    "X = np.load('Mirai_data.npy')\n",
    "Y = np.load('Mirai_labels.npy')\n",
    "\n",
    "# Remove the first 24 covariates (columns)\n",
    "X = np.delete(X, np.s_[0:24], 1)\n",
    "\n",
    "print('The covariates have size {}.'.format(X.shape))\n",
    "print('The labels have size {}.'.format(Y.shape))\n",
    "\n",
    "# Print the number of examples of each class\n",
    "unique, counts = np.unique(Y, return_counts=True)\n",
    "print('################')\n",
    "print('# cls | number #')\n",
    "print('################')\n",
    "for cls, count in zip(unique, counts):\n",
    "    print(f'# {cls} | {count} #')\n",
    "print('################')"
   ]
  },
  {
   "cell_type": "markdown",
   "metadata": {},
   "source": [
    "# Part 5: How good is a naive classifier?\n",
    "\n",
    "Question 7: Given the number of examples from each class, how high classification performance can a naive classifier obtain? The naive classifier will assume that all examples belong to one class. Note: you do not need to make a naive classifier, this is a theoretical question, just to understand how good performance we can obtain by guessing that all examples belong to one class.\n",
    "\n",
    "**Answer**: The naive classifier can reach $\\max({\\frac{NumberObjectsClass_1}{NumberAllObjects},\\frac{NumberObjectsClass_2}{NumberAllObjects}})$ accuracy."
   ]
  },
  {
   "cell_type": "code",
   "execution_count": 2,
   "metadata": {},
   "outputs": [
    {
     "name": "stdout",
     "output_type": "stream",
     "text": [
      "Number of NaNs in labels: 0\n",
      "Number of NaNs in covariates: [0 0 0 0 0 0 0 0 0 0 0 0 0 0 0 0 0 0 0 0 0 0 0 0 0 0 0 0 0 0 0 0 0 0 0 0 0\n",
      " 0 0 0 0 0 0 0 0 0 0 0 0 0 0 0 0 0 0 0 0 0 0 0 0 0 0 0 0 0 0 0 0 0 0 0 0 0\n",
      " 0 0 0 0 0 0 0 0 0 0 0 0 0 0 0 0 0 0]\n"
     ]
    }
   ],
   "source": [
    "# It is common to have NaNs in the data, lets check for it. Hint: np.isnan()\n",
    "\n",
    "# Print the number of NaNs (not a number) in the labels\n",
    "print(f'Number of NaNs in labels: {sum(np.isnan(Y))}')\n",
    "\n",
    "# Print the number of NaNs in the covariates\n",
    "print(f'Number of NaNs in covariates: {sum(np.isnan(X))}')\n"
   ]
  },
  {
   "cell_type": "markdown",
   "metadata": {},
   "source": [
    "# Part 6: Preprocessing\n",
    "\n",
    "Lets do some simple preprocessing"
   ]
  },
  {
   "cell_type": "code",
   "execution_count": 3,
   "metadata": {},
   "outputs": [
    {
     "name": "stdout",
     "output_type": "stream",
     "text": [
      "Mean: 0\n",
      "Std: 1\n"
     ]
    }
   ],
   "source": [
    "# Convert covariates to floats\n",
    "X = X.astype(float)\n",
    "\n",
    "# Convert labels to integers\n",
    "Y = Y.astype(int)\n",
    "\n",
    "# Remove mean of each covariate (column)\n",
    "for cov in range(X.shape[1]):\n",
    "    X[:, cov] = X[:, cov]-np.mean(X[:, cov])\n",
    "    \n",
    "# Divide each covariate (column) by its standard deviation\n",
    "for cov in range(X.shape[1]):\n",
    "    X[:, cov] = X[:, cov] / np.std(X[:, cov])\n",
    "\n",
    "# Check that mean is 0 and standard deviation is 1 for all covariates, by printing mean and std\n",
    "print(f'Mean: {round(np.mean(X))}')\n",
    "print(f'Std: {round(np.std(X))}')"
   ]
  },
  {
   "cell_type": "markdown",
   "metadata": {},
   "source": [
    "# Part 7: Split the dataset\n",
    "\n",
    "Use the first 70% of the dataset for training, leave the other 30% for validation and test, call the variables\n",
    "\n",
    "Xtrain (70%)\n",
    "\n",
    "Xtemp  (30%)\n",
    "\n",
    "Ytrain (70%)\n",
    "\n",
    "Ytemp  (30%)\n",
    "\n",
    "We use a function from scikit learn.\n",
    "https://scikit-learn.org/stable/modules/generated/sklearn.model_selection.train_test_split.html\n"
   ]
  },
  {
   "cell_type": "code",
   "execution_count": 4,
   "metadata": {},
   "outputs": [
    {
     "name": "stdout",
     "output_type": "stream",
     "text": [
      "Xtrain has size (534895, 92).\n",
      "Ytrain has size (534895,).\n",
      "Xtemp has size (229242, 92).\n",
      "Ytemp has size (229242,).\n",
      "\n",
      "TRAINING DATA\n",
      "################\n",
      "# cls | number #\n",
      "################\n",
      "# 0 | 85248 \n",
      "# 1 | 449647 \n",
      "################\n",
      "\n",
      "REMAINING DATA\n",
      "################\n",
      "# cls | number #\n",
      "################\n",
      "# 0 | 36373 \n",
      "# 1 | 192869 \n",
      "################\n"
     ]
    }
   ],
   "source": [
    "from sklearn.model_selection import train_test_split\n",
    "\n",
    "# Your code\n",
    "Xtrain, Xtemp, Ytrain, Ytemp = train_test_split(X, Y, test_size=0.3, random_state=42)\n",
    "\n",
    "print('Xtrain has size {}.'.format(Xtrain.shape))\n",
    "print('Ytrain has size {}.'.format(Ytrain.shape))\n",
    "\n",
    "print('Xtemp has size {}.'.format(Xtemp.shape))\n",
    "print('Ytemp has size {}.'.format(Ytemp.shape))\n",
    "\n",
    "# Print the number of examples of each class, for the training data and the remaining 30%\n",
    "\n",
    "# TRAIN DATA\n",
    "uniqueTrain, countsTrain = np.unique(Ytrain, return_counts=True)\n",
    "print('\\nTRAINING DATA')\n",
    "print('################')\n",
    "print('# cls | number #')\n",
    "print('################')\n",
    "for cls, count in zip(uniqueTrain, countsTrain):\n",
    "    print(f'# {cls} | {count} ')\n",
    "print('################')\n",
    "\n",
    "# REMAINING DATA\n",
    "uniqueTemp, countsTemp = np.unique(Ytemp, return_counts=True)\n",
    "print('\\nREMAINING DATA')\n",
    "print('################')\n",
    "print('# cls | number #')\n",
    "print('################')\n",
    "for cls, count in zip(uniqueTemp, countsTemp):\n",
    "    print(f'# {cls} | {count} ')\n",
    "print('################')"
   ]
  },
  {
   "cell_type": "markdown",
   "metadata": {},
   "source": [
    "#  Part 8: Split non-training data data into validation and test\n",
    "Now split your non-training data (Xtemp, Ytemp) into 50% validation (Xval, Yval) and 50% testing (Xtest, Ytest), we use a function from scikit learn. \n",
    "\n",
    "https://scikit-learn.org/stable/modules/generated/sklearn.model_selection.train_test_split.html\n",
    "\n",
    "Do all variables (Xtrain,Ytrain), (Xval,Yval), (Xtest,Ytest) have the shape that you expect?"
   ]
  },
  {
   "cell_type": "code",
   "execution_count": 5,
   "metadata": {},
   "outputs": [
    {
     "name": "stdout",
     "output_type": "stream",
     "text": [
      "The validation and test data have size (114621, 92), (114621, 92), (114621,) and (114621,)\n"
     ]
    }
   ],
   "source": [
    "from sklearn.model_selection import train_test_split\n",
    "\n",
    "\n",
    "Xval, Xtest, Yval, Ytest = train_test_split(Xtemp, Ytemp, test_size=0.5, random_state=42)\n",
    "\n",
    "print('The validation and test data have size {}, {}, {} and {}'.format(Xval.shape, Xtest.shape, Yval.shape, Ytest.shape))"
   ]
  },
  {
   "cell_type": "markdown",
   "metadata": {},
   "source": [
    "# Part 9: DNN classification\n",
    "\n",
    "Finish this code to create a first version of the classifier using a DNN. Start with a simple network with 2 dense layers (with 20 nodes each), using sigmoid activation functions. The final dense layer should have a single node and a sigmoid activation function. We start with the SGD optimizer.\n",
    "\n",
    "For different parts of this notebook you need to go back here, add more things, and re-run this cell to re-define the build function.\n",
    "\n",
    "Relevant functions are\n",
    "\n",
    "`model.add()`, adds a layer to the network\n",
    "\n",
    "`Dense()`, a dense network layer\n",
    "\n",
    "`model.compile()`, compile the model, add \" metrics=['accuracy'] \" to print the classification accuracy during the training\n",
    "\n",
    "See https://keras.io/layers/core/ for information on how the `Dense()` function works\n",
    "\n",
    "Import a relevant cost / loss function for binary classification from keras.losses (https://keras.io/losses/)\n",
    "\n",
    "See the following links for how to compile, train and evaluate the model\n",
    "\n",
    "https://keras.io/api/models/model_training_apis/#compile-method\n",
    "\n",
    "https://keras.io/api/models/model_training_apis/#fit-method\n",
    "\n",
    "https://keras.io/api/models/model_training_apis/#evaluate-method\n"
   ]
  },
  {
   "cell_type": "code",
   "execution_count": 124,
   "metadata": {},
   "outputs": [],
   "source": [
    "from keras.models import Sequential, Model\n",
    "from keras.layers import Input, Dense, BatchNormalization, Dropout\n",
    "from keras.optimizers import SGD, Adam\n",
    "from keras.losses import BinaryCrossentropy\n",
    "\n",
    "# Set seed from random number generator, for better comparisons\n",
    "from numpy.random import seed\n",
    "seed(123)\n",
    "\n",
    "def build_DNN(input_shape, n_layers, n_nodes, act_fun='sigmoid', optimizer='sgd', learning_rate=0.01, \n",
    "              use_bn=False, use_dropout=False, use_custom_dropout=False):\n",
    "    \n",
    "    # Setup optimizer, depending on input parameter string\n",
    "    if optimizer == 'sgd':\n",
    "        optimizer = SGD(learning_rate=learning_rate)\n",
    "    elif optimizer == 'adam':\n",
    "        optimizer = Adam(learning_rate=learning_rate)\n",
    "    \n",
    "    # Setup a sequential model\n",
    "    model = Sequential()\n",
    "\n",
    "    # Add layers to the model, using the input parameters of the build_DNN function\n",
    "    \n",
    "    # Add first layer, requires input shape\n",
    "    model.add(Input(shape=input_shape))\n",
    "    model.add(Dense(n_nodes, activation=act_fun))\n",
    "    \n",
    "    # Add BatchNormalization\n",
    "    if use_bn:\n",
    "        model.add(BatchNormalization())\n",
    "    \n",
    "    # Add Dropout\n",
    "    if use_dropout:\n",
    "        model.add(Dropout(0.5))\n",
    "        \n",
    "    # Add Custom Dropout\n",
    "    if use_custom_dropout:\n",
    "        model.add(myDropout(0.5))\n",
    "        \n",
    "    # Add remaining layers, do not require input shape\n",
    "    for i in range(n_layers-1):\n",
    "        model.add(Dense(n_nodes, activation=act_fun))\n",
    "        if use_bn:\n",
    "            model.add(BatchNormalization())\n",
    "        if use_dropout:\n",
    "            model.add(Dropout(0.5))\n",
    "        if use_custom_dropout:\n",
    "            model.add(myDropout(0.5))\n",
    "    \n",
    "    # Final layer\n",
    "    model.add(Dense(1, activation=act_fun))\n",
    "    \n",
    "    # Compile model\n",
    "    model.compile(optimizer=optimizer,\n",
    "                  loss=BinaryCrossentropy(),\n",
    "                  metrics=['accuracy'])\n",
    "    \n",
    "    return model"
   ]
  },
  {
   "cell_type": "code",
   "execution_count": 63,
   "metadata": {},
   "outputs": [],
   "source": [
    "# Lets define a help function for plotting the training results\n",
    "\n",
    "import matplotlib.pyplot as plt\n",
    "def plot_results(history):\n",
    "    \n",
    "    val_loss = history.history['val_loss']\n",
    "    acc = history.history['accuracy']\n",
    "    loss = history.history['loss']\n",
    "    val_acc = history.history['val_accuracy']\n",
    "    \n",
    "    plt.figure(figsize=(10,4))\n",
    "    plt.xlabel('Epochs')\n",
    "    plt.ylabel('Loss')\n",
    "    plt.plot(loss)\n",
    "    plt.plot(val_loss)\n",
    "    plt.legend(['Training','Validation'])\n",
    "\n",
    "    plt.figure(figsize=(10,4))\n",
    "    plt.xlabel('Epochs')\n",
    "    plt.ylabel('Accuracy')\n",
    "    plt.plot(acc)\n",
    "    plt.plot(val_acc)\n",
    "    plt.legend(['Training','Validation'])\n",
    "\n",
    "    plt.show()"
   ]
  },
  {
   "cell_type": "markdown",
   "metadata": {},
   "source": [
    "# Part 10: Train the DNN\n",
    "\n",
    "Time to train the DNN, we start simple with 2 layers with 20 nodes each, learning rate 0.1.\n",
    "\n",
    "Relevant functions\n",
    "\n",
    "`build_DNN`, the function we defined in Part 9, call it with the parameters you want to use\n",
    "\n",
    "`model.fit()`, train the model with some training data\n",
    "\n",
    "`model.evaluate()`, apply the trained model to some test data\n",
    "\n",
    "See the following links for how to train and evaluate the model\n",
    "\n",
    "https://keras.io/api/models/model_training_apis/#fit-method\n",
    "\n",
    "https://keras.io/api/models/model_training_apis/#evaluate-method\n"
   ]
  },
  {
   "cell_type": "markdown",
   "metadata": {},
   "source": [
    "### 2 layers, 20 nodes"
   ]
  },
  {
   "cell_type": "code",
   "execution_count": 65,
   "metadata": {
    "scrolled": true
   },
   "outputs": [
    {
     "name": "stdout",
     "output_type": "stream",
     "text": [
      "WARNING:tensorflow:Please add `keras.layers.InputLayer` instead of `keras.Input` to Sequential model. `keras.Input` is intended to be used by Functional model.\n",
      "Epoch 1/20\n",
      "54/54 [==============================] - 1s 8ms/step - loss: 0.4588 - accuracy: 0.7448 - val_loss: 0.2149 - val_accuracy: 0.8841\n",
      "Epoch 2/20\n",
      "54/54 [==============================] - 0s 4ms/step - loss: 0.2079 - accuracy: 0.8917 - val_loss: 0.1901 - val_accuracy: 0.9055\n",
      "Epoch 3/20\n",
      "54/54 [==============================] - 0s 4ms/step - loss: 0.1892 - accuracy: 0.9040 - val_loss: 0.1815 - val_accuracy: 0.9072\n",
      "Epoch 4/20\n",
      "54/54 [==============================] - 0s 4ms/step - loss: 0.1819 - accuracy: 0.9056 - val_loss: 0.1766 - val_accuracy: 0.9082\n",
      "Epoch 5/20\n",
      "54/54 [==============================] - 0s 4ms/step - loss: 0.1776 - accuracy: 0.9063 - val_loss: 0.1734 - val_accuracy: 0.9087\n",
      "Epoch 6/20\n",
      "54/54 [==============================] - 0s 4ms/step - loss: 0.1750 - accuracy: 0.9062 - val_loss: 0.1708 - val_accuracy: 0.9091\n",
      "Epoch 7/20\n",
      "54/54 [==============================] - 0s 4ms/step - loss: 0.1726 - accuracy: 0.9064 - val_loss: 0.1689 - val_accuracy: 0.9095\n",
      "Epoch 8/20\n",
      "54/54 [==============================] - 0s 5ms/step - loss: 0.1703 - accuracy: 0.9076 - val_loss: 0.1674 - val_accuracy: 0.9099\n",
      "Epoch 9/20\n",
      "54/54 [==============================] - 0s 5ms/step - loss: 0.1681 - accuracy: 0.9085 - val_loss: 0.1661 - val_accuracy: 0.9102\n",
      "Epoch 10/20\n",
      "54/54 [==============================] - 0s 4ms/step - loss: 0.1681 - accuracy: 0.9075 - val_loss: 0.1650 - val_accuracy: 0.9107\n",
      "Epoch 11/20\n",
      "54/54 [==============================] - 0s 4ms/step - loss: 0.1670 - accuracy: 0.9086 - val_loss: 0.1640 - val_accuracy: 0.9114\n",
      "Epoch 12/20\n",
      "54/54 [==============================] - 0s 4ms/step - loss: 0.1652 - accuracy: 0.9097 - val_loss: 0.1632 - val_accuracy: 0.9117\n",
      "Epoch 13/20\n",
      "54/54 [==============================] - 0s 5ms/step - loss: 0.1647 - accuracy: 0.9100 - val_loss: 0.1624 - val_accuracy: 0.9120\n",
      "Epoch 14/20\n",
      "54/54 [==============================] - 0s 4ms/step - loss: 0.1642 - accuracy: 0.9101 - val_loss: 0.1617 - val_accuracy: 0.9140\n",
      "Epoch 15/20\n",
      "54/54 [==============================] - 0s 6ms/step - loss: 0.1637 - accuracy: 0.9110 - val_loss: 0.1610 - val_accuracy: 0.9147\n",
      "Epoch 16/20\n",
      "54/54 [==============================] - 0s 5ms/step - loss: 0.1630 - accuracy: 0.9123 - val_loss: 0.1604 - val_accuracy: 0.9171\n",
      "Epoch 17/20\n",
      "54/54 [==============================] - 0s 5ms/step - loss: 0.1616 - accuracy: 0.9152 - val_loss: 0.1599 - val_accuracy: 0.9157\n",
      "Epoch 18/20\n",
      "54/54 [==============================] - 0s 5ms/step - loss: 0.1617 - accuracy: 0.9153 - val_loss: 0.1593 - val_accuracy: 0.9174\n",
      "Epoch 19/20\n",
      "54/54 [==============================] - 0s 5ms/step - loss: 0.1626 - accuracy: 0.9143 - val_loss: 0.1589 - val_accuracy: 0.9174\n",
      "Epoch 20/20\n",
      "54/54 [==============================] - 0s 5ms/step - loss: 0.1610 - accuracy: 0.9158 - val_loss: 0.1585 - val_accuracy: 0.9172\n"
     ]
    }
   ],
   "source": [
    "# Setup some training parameters\n",
    "batch_size = 10000\n",
    "epochs = 20\n",
    "\n",
    "input_shape = (X.shape[1],)\n",
    "\n",
    "# Build the model\n",
    "model1 = build_DNN(input_shape, n_layers=2, n_nodes=20, learning_rate=0.1)\n",
    "\n",
    "# Train the model, provide training data and validation data\n",
    "history1 = model1.fit(Xtrain,\n",
    "                      Ytrain, \n",
    "                      batch_size=batch_size, \n",
    "                      epochs=epochs, \n",
    "                      validation_data=(Xval, Yval))"
   ]
  },
  {
   "cell_type": "code",
   "execution_count": 66,
   "metadata": {},
   "outputs": [
    {
     "name": "stdout",
     "output_type": "stream",
     "text": [
      "3582/3582 [==============================] - 2s 677us/step - loss: 0.1596 - accuracy: 0.9154\n",
      "Test loss: 0.1596\n",
      "Test accuracy: 0.9154\n"
     ]
    }
   ],
   "source": [
    "# Evaluate the model on the test data\n",
    "score = model1.evaluate(Xtest, Ytest)\n",
    "\n",
    "print('Test loss: %.4f' % score[0])\n",
    "print('Test accuracy: %.4f' % score[1])"
   ]
  },
  {
   "cell_type": "code",
   "execution_count": 67,
   "metadata": {},
   "outputs": [
    {
     "data": {
      "image/png": "[encoded data removed]",
      "text/plain": [
       "<Figure size 720x288 with 1 Axes>"
      ]
     },
     "metadata": {
      "needs_background": "light"
     },
     "output_type": "display_data"
    },
    {
     "data": {
      "image/png": "[encoded data removed]",
      "text/plain": [
       "<Figure size 720x288 with 1 Axes>"
      ]
     },
     "metadata": {
      "needs_background": "light"
     },
     "output_type": "display_data"
    }
   ],
   "source": [
    "# Plot the history from the training run\n",
    "plot_results(history1)"
   ]
  },
  {
   "cell_type": "markdown",
   "metadata": {},
   "source": [
    "# Part 11: More questions\n",
    "\n",
    "Question 8: What happens if you add several Dense layers without specifying the activation function?\n",
    "\n",
    "Answer: There won't be any activation which results in a linear model.\n",
    "\n",
    "Question 9: How are the weights in each dense layer initialized as default? How are the bias weights initialized?\n",
    "\n",
    "Answer: The Dense layer class offers the attributes **kernel_initializer** and **bias_initializer** which are used to initialize the kernel weights matrix as well as the bias vector. By default the weights and bias are initialized as **glorot_uniform** and **zeros** respectively."
   ]
  },
  {
   "cell_type": "markdown",
   "metadata": {},
   "source": [
    "# Part 12: Balancing the classes\n",
    "\n",
    "This dataset is rather unbalanced, we need to define class weights so that the training pays more attention to the class with fewer samples. We use a function in scikit learn\n",
    "\n",
    "https://scikit-learn.org/stable/modules/generated/sklearn.utils.class_weight.compute_class_weight.html"
   ]
  },
  {
   "cell_type": "code",
   "execution_count": 32,
   "metadata": {},
   "outputs": [
    {
     "name": "stdout",
     "output_type": "stream",
     "text": [
      "[3.14146817 0.59464434]\n",
      "{0: 3.1414681675039673, 1: 0.5946443357052587}\n"
     ]
    }
   ],
   "source": [
    "from sklearn.utils import class_weight\n",
    "\n",
    "# Calculate class weights\n",
    "class_weights = class_weight.compute_class_weight(\"balanced\", unique, Y)\n",
    "\n",
    "# Print the class weights\n",
    "print(class_weights)\n",
    "\n",
    "# Keras wants the weights in this form, uncomment and change value1 and value2 to your weights, \n",
    "# or get them from the array that is returned from class_weight\n",
    "\n",
    "class_weights = {0: class_weights[0],\n",
    "                 1: class_weights[1]}\n",
    "\n",
    "print(class_weights)"
   ]
  },
  {
   "cell_type": "markdown",
   "metadata": {},
   "source": [
    "### 2 layers, 20 nodes, class weights"
   ]
  },
  {
   "cell_type": "code",
   "execution_count": 36,
   "metadata": {
    "scrolled": true
   },
   "outputs": [
    {
     "name": "stdout",
     "output_type": "stream",
     "text": [
      "WARNING:tensorflow:Please add `keras.layers.InputLayer` instead of `keras.Input` to Sequential model. `keras.Input` is intended to be used by Functional model.\n",
      "WARNING:tensorflow:From /Users/yuki/opt/miniconda3/envs/deeplearning/lib/python3.9/site-packages/tensorflow/python/ops/array_ops.py:5043: calling gather (from tensorflow.python.ops.array_ops) with validate_indices is deprecated and will be removed in a future version.\n",
      "Instructions for updating:\n",
      "The `validate_indices` argument has no effect. Indices are always validated on CPU and never validated on GPU.\n",
      "Epoch 1/20\n",
      "54/54 [==============================] - 1s 8ms/step - loss: 0.4213 - accuracy: 0.8707 - val_loss: 0.2823 - val_accuracy: 0.8821\n",
      "Epoch 2/20\n",
      "54/54 [==============================] - 0s 4ms/step - loss: 0.2274 - accuracy: 0.8813 - val_loss: 0.2597 - val_accuracy: 0.8865\n",
      "Epoch 3/20\n",
      "54/54 [==============================] - 0s 4ms/step - loss: 0.2085 - accuracy: 0.8868 - val_loss: 0.2463 - val_accuracy: 0.8944\n",
      "Epoch 4/20\n",
      "54/54 [==============================] - 0s 4ms/step - loss: 0.2006 - accuracy: 0.8945 - val_loss: 0.2398 - val_accuracy: 0.8999\n",
      "Epoch 5/20\n",
      "54/54 [==============================] - 0s 4ms/step - loss: 0.1944 - accuracy: 0.8987 - val_loss: 0.2360 - val_accuracy: 0.9017\n",
      "Epoch 6/20\n",
      "54/54 [==============================] - 0s 4ms/step - loss: 0.1911 - accuracy: 0.9003 - val_loss: 0.2321 - val_accuracy: 0.9032\n",
      "Epoch 7/20\n",
      "54/54 [==============================] - 0s 4ms/step - loss: 0.1885 - accuracy: 0.9015 - val_loss: 0.2327 - val_accuracy: 0.9039\n",
      "Epoch 8/20\n",
      "54/54 [==============================] - 0s 4ms/step - loss: 0.1852 - accuracy: 0.9031 - val_loss: 0.2297 - val_accuracy: 0.9052\n",
      "Epoch 9/20\n",
      "54/54 [==============================] - 0s 4ms/step - loss: 0.1841 - accuracy: 0.9043 - val_loss: 0.2266 - val_accuracy: 0.9066\n",
      "Epoch 10/20\n",
      "54/54 [==============================] - 0s 4ms/step - loss: 0.1826 - accuracy: 0.9053 - val_loss: 0.2243 - val_accuracy: 0.9088\n",
      "Epoch 11/20\n",
      "54/54 [==============================] - 0s 4ms/step - loss: 0.1815 - accuracy: 0.9072 - val_loss: 0.2241 - val_accuracy: 0.9099\n",
      "Epoch 12/20\n",
      "54/54 [==============================] - 0s 4ms/step - loss: 0.1800 - accuracy: 0.9083 - val_loss: 0.2208 - val_accuracy: 0.9108\n",
      "Epoch 13/20\n",
      "54/54 [==============================] - 0s 4ms/step - loss: 0.1785 - accuracy: 0.9093 - val_loss: 0.2213 - val_accuracy: 0.9112\n",
      "Epoch 14/20\n",
      "54/54 [==============================] - 0s 4ms/step - loss: 0.1786 - accuracy: 0.9092 - val_loss: 0.2198 - val_accuracy: 0.9116\n",
      "Epoch 15/20\n",
      "54/54 [==============================] - 0s 4ms/step - loss: 0.1775 - accuracy: 0.9099 - val_loss: 0.2193 - val_accuracy: 0.9118\n",
      "Epoch 16/20\n",
      "54/54 [==============================] - 0s 4ms/step - loss: 0.1766 - accuracy: 0.9099 - val_loss: 0.2170 - val_accuracy: 0.9122\n",
      "Epoch 17/20\n",
      "54/54 [==============================] - 0s 4ms/step - loss: 0.1762 - accuracy: 0.9101 - val_loss: 0.2179 - val_accuracy: 0.9122\n",
      "Epoch 18/20\n",
      "54/54 [==============================] - 0s 4ms/step - loss: 0.1755 - accuracy: 0.9102 - val_loss: 0.2182 - val_accuracy: 0.9123\n",
      "Epoch 19/20\n",
      "54/54 [==============================] - 0s 4ms/step - loss: 0.1750 - accuracy: 0.9102 - val_loss: 0.2173 - val_accuracy: 0.9124\n",
      "Epoch 20/20\n",
      "54/54 [==============================] - 0s 4ms/step - loss: 0.1743 - accuracy: 0.9106 - val_loss: 0.2195 - val_accuracy: 0.9124\n"
     ]
    }
   ],
   "source": [
    "# Setup some training parameters\n",
    "batch_size = 10000\n",
    "epochs = 20\n",
    "input_shape = (X.shape[1],)\n",
    "\n",
    "# Build and train model\n",
    "model2 = build_DNN(input_shape, \n",
    "                   n_layers=2, \n",
    "                   n_nodes=20, \n",
    "                   learning_rate=0.1)\n",
    "\n",
    "history2 = model2.fit(Xtrain,\n",
    "                      Ytrain,\n",
    "                      batch_size=batch_size,\n",
    "                      epochs=epochs,\n",
    "                      validation_data=(Xval, Yval), \n",
    "                      class_weight=class_weights)"
   ]
  },
  {
   "cell_type": "code",
   "execution_count": 38,
   "metadata": {},
   "outputs": [
    {
     "name": "stdout",
     "output_type": "stream",
     "text": [
      "3582/3582 [==============================] - 2s 510us/step - loss: 0.2232 - accuracy: 0.9107\n",
      "Test loss: 0.2232\n",
      "Test accuracy: 0.9107\n"
     ]
    }
   ],
   "source": [
    "# Evaluate model on test data\n",
    "score = model2.evaluate(Xtest, Ytest)\n",
    "\n",
    "print('Test loss: %.4f' % score[0])\n",
    "print('Test accuracy: %.4f' % score[1])"
   ]
  },
  {
   "cell_type": "code",
   "execution_count": 39,
   "metadata": {},
   "outputs": [
    {
     "data": {
      "image/png": "[encoded data removed]",
      "text/plain": [
       "<Figure size 720x288 with 1 Axes>"
      ]
     },
     "metadata": {
      "needs_background": "light"
     },
     "output_type": "display_data"
    },
    {
     "data": {
      "image/png": "[encoded data removed]",
      "text/plain": [
       "<Figure size 720x288 with 1 Axes>"
      ]
     },
     "metadata": {
      "needs_background": "light"
     },
     "output_type": "display_data"
    }
   ],
   "source": [
    "plot_results(history2)"
   ]
  },
  {
   "cell_type": "markdown",
   "metadata": {},
   "source": [
    "# Part 13: More questions\n",
    "\n",
    "Skip questions 11 and 12 if you run on the CPU\n",
    "\n",
    "Question 10: Why do we have to use a batch size? Why can't we simply use all data at once? This is more relevant for even larger datasets.\n",
    "\n",
    "**Answer**: In most cases the training data would not fit into GPU memory. Thus, we need to split up the data into batches of smaller size. We try to store the data in CPU memory and feed the batches to GPU memory.\n",
    "\n",
    "Question 11: How busy is the GPU for a batch size of 100? How much GPU memory is used? Hint: run 'nvidia-smi' on the cloud computer a few times during training.\n",
    "\n",
    "Skip\n",
    "\n",
    "Question 12: What is the processing time for one training epoch when the batch size is 100? What is the processing time for one epoch when the batch size is 1,000? What is the processing time for one epoch when the batch size is 10,000? Explain the results. \n",
    "\n",
    "Skip\n",
    "\n",
    "Question 13: How many times are the weights in the DNN updated in each training epoch if the batch size is 100? How many times are the weights in the DNN updated in each training epoch if the batch size is 1,000? How many times are the weights in the DNN updated in each training epoch if the batch size is 10,000?  \n",
    "\n",
    "**Answer**: \n",
    "\n",
    "$WeightUpdatesPerEpoch = \\frac{NumberTrainingExamples}{BatchSize}$\n",
    "\n",
    "$5349 = \\frac{534895}{100}$\n",
    "\n",
    "$535 = \\frac{534895}{1000}$\n",
    "\n",
    "$54 = \\frac{534895}{10000}$\n",
    "\n",
    "Question 14: What limits how large the batch size can be?\n",
    "\n",
    "**Answer**: \n",
    "\n",
    "- A larger batch size will cause a higher generalization error. Thus, if we want a model that generalizes well, we cannot choose too big of a batch size.\n",
    "- GPU memory strictly limits how large the batch size can be because the batch size determines the amount of intermediate calculations that need to be stored in memory. \n",
    "\n",
    "\n",
    "Question 15: Generally speaking, how is the learning rate related to the batch size? If the batch size is decreased, how should the learning rate be changed?\n",
    "\n",
    "**Answer**: Batch size and learning rate are closely related. If the batch size is decreased, the learning rate should be decreased as well as the gradient becomes more uncertain having less samples.\n",
    "\n",
    "Lets use a batch size of 10,000 from now on, and a learning rate of 0.1."
   ]
  },
  {
   "cell_type": "markdown",
   "metadata": {},
   "source": [
    "# Part 14: Increasing the complexity\n",
    "\n",
    "Lets try some different configurations of number of layers and number of nodes per layer.\n",
    "\n",
    "Question 16: How many trainable parameters does the network with 4 dense layers with 50 nodes each have, compared to the initial network with 2 layers and 20 nodes per layer? Hint: use model.summary()\n",
    "\n",
    "**Answer**: \n",
    "\n",
    "- Network with 4 dense layers and 50 nodes: **12351** parameters\n",
    "- Network with 2 dense layers and 20 nodes: **2301** parameters"
   ]
  },
  {
   "cell_type": "markdown",
   "metadata": {},
   "source": [
    "### 4 layers, 20 nodes, class weights"
   ]
  },
  {
   "cell_type": "code",
   "execution_count": 70,
   "metadata": {
    "scrolled": true
   },
   "outputs": [
    {
     "name": "stdout",
     "output_type": "stream",
     "text": [
      "WARNING:tensorflow:Please add `keras.layers.InputLayer` instead of `keras.Input` to Sequential model. `keras.Input` is intended to be used by Functional model.\n",
      "Epoch 1/20\n",
      "54/54 [==============================] - 1s 11ms/step - loss: 0.4261 - accuracy: 0.8298 - val_loss: 0.2436 - val_accuracy: 0.9024\n",
      "Epoch 2/20\n",
      "54/54 [==============================] - 0s 6ms/step - loss: 0.1952 - accuracy: 0.9010 - val_loss: 0.2269 - val_accuracy: 0.9053\n",
      "Epoch 3/20\n",
      "54/54 [==============================] - 0s 5ms/step - loss: 0.1857 - accuracy: 0.9037 - val_loss: 0.2250 - val_accuracy: 0.9079\n",
      "Epoch 4/20\n",
      "54/54 [==============================] - 0s 6ms/step - loss: 0.1825 - accuracy: 0.9065 - val_loss: 0.2265 - val_accuracy: 0.9095\n",
      "Epoch 5/20\n",
      "54/54 [==============================] - 0s 5ms/step - loss: 0.1796 - accuracy: 0.9081 - val_loss: 0.2203 - val_accuracy: 0.9107\n",
      "Epoch 6/20\n",
      "54/54 [==============================] - 0s 6ms/step - loss: 0.1786 - accuracy: 0.9087 - val_loss: 0.2162 - val_accuracy: 0.9115\n",
      "Epoch 7/20\n",
      "54/54 [==============================] - 0s 6ms/step - loss: 0.1765 - accuracy: 0.9096 - val_loss: 0.2204 - val_accuracy: 0.9118\n",
      "Epoch 8/20\n",
      "54/54 [==============================] - 0s 5ms/step - loss: 0.1748 - accuracy: 0.9112 - val_loss: 0.2163 - val_accuracy: 0.9142\n",
      "Epoch 9/20\n",
      "54/54 [==============================] - 0s 6ms/step - loss: 0.1740 - accuracy: 0.9122 - val_loss: 0.2170 - val_accuracy: 0.9145\n",
      "Epoch 10/20\n",
      "54/54 [==============================] - 0s 6ms/step - loss: 0.1724 - accuracy: 0.9130 - val_loss: 0.2060 - val_accuracy: 0.9155\n",
      "Epoch 11/20\n",
      "54/54 [==============================] - 0s 6ms/step - loss: 0.1736 - accuracy: 0.9120 - val_loss: 0.2250 - val_accuracy: 0.9147\n",
      "Epoch 12/20\n",
      "54/54 [==============================] - 0s 6ms/step - loss: 0.1712 - accuracy: 0.9132 - val_loss: 0.2056 - val_accuracy: 0.9161\n",
      "Epoch 13/20\n",
      "54/54 [==============================] - 0s 6ms/step - loss: 0.1713 - accuracy: 0.9135 - val_loss: 0.2062 - val_accuracy: 0.9163\n",
      "Epoch 14/20\n",
      "54/54 [==============================] - 0s 6ms/step - loss: 0.1693 - accuracy: 0.9140 - val_loss: 0.2192 - val_accuracy: 0.9160\n",
      "Epoch 15/20\n",
      "54/54 [==============================] - 0s 6ms/step - loss: 0.1691 - accuracy: 0.9140 - val_loss: 0.2037 - val_accuracy: 0.9166\n",
      "Epoch 16/20\n",
      "54/54 [==============================] - 0s 6ms/step - loss: 0.1678 - accuracy: 0.9147 - val_loss: 0.2107 - val_accuracy: 0.9166\n",
      "Epoch 17/20\n",
      "54/54 [==============================] - 0s 6ms/step - loss: 0.1675 - accuracy: 0.9149 - val_loss: 0.1990 - val_accuracy: 0.9172\n",
      "Epoch 18/20\n",
      "54/54 [==============================] - 0s 6ms/step - loss: 0.1671 - accuracy: 0.9151 - val_loss: 0.2155 - val_accuracy: 0.9169\n",
      "Epoch 19/20\n",
      "54/54 [==============================] - 0s 6ms/step - loss: 0.1671 - accuracy: 0.9151 - val_loss: 0.2252 - val_accuracy: 0.9167\n",
      "Epoch 20/20\n",
      "54/54 [==============================] - 0s 6ms/step - loss: 0.1663 - accuracy: 0.9152 - val_loss: 0.2073 - val_accuracy: 0.9174\n"
     ]
    }
   ],
   "source": [
    "# Setup some training parameters\n",
    "batch_size = 10000\n",
    "epochs = 20\n",
    "input_shape = (X.shape[1],)\n",
    "\n",
    "# Build and train model\n",
    "model3 = build_DNN(input_shape, \n",
    "                   n_layers=4, \n",
    "                   n_nodes=20, \n",
    "                   learning_rate=0.1)\n",
    "\n",
    "history3 = model3.fit(Xtrain,\n",
    "                      Ytrain,\n",
    "                      batch_size=batch_size,\n",
    "                      epochs=epochs,\n",
    "                      validation_data=(Xval, Yval), \n",
    "                      class_weight=class_weights)"
   ]
  },
  {
   "cell_type": "code",
   "execution_count": 48,
   "metadata": {},
   "outputs": [
    {
     "name": "stdout",
     "output_type": "stream",
     "text": [
      "Model: \"sequential_5\"\n",
      "_________________________________________________________________\n",
      "Layer (type)                 Output Shape              Param #   \n",
      "=================================================================\n",
      "dense_15 (Dense)             (None, 20)                1860      \n",
      "_________________________________________________________________\n",
      "dense_16 (Dense)             (None, 20)                420       \n",
      "_________________________________________________________________\n",
      "dense_17 (Dense)             (None, 1)                 21        \n",
      "=================================================================\n",
      "Total params: 2,301\n",
      "Trainable params: 2,301\n",
      "Non-trainable params: 0\n",
      "_________________________________________________________________\n"
     ]
    }
   ],
   "source": [
    "# Trainable parameters 2 layers 20 nodes\n",
    "model2.summary()"
   ]
  },
  {
   "cell_type": "code",
   "execution_count": 69,
   "metadata": {},
   "outputs": [
    {
     "name": "stdout",
     "output_type": "stream",
     "text": [
      "Model: \"sequential_9\"\n",
      "_________________________________________________________________\n",
      "Layer (type)                 Output Shape              Param #   \n",
      "=================================================================\n",
      "dense_33 (Dense)             (None, 50)                4650      \n",
      "_________________________________________________________________\n",
      "dense_34 (Dense)             (None, 50)                2550      \n",
      "_________________________________________________________________\n",
      "dense_35 (Dense)             (None, 50)                2550      \n",
      "_________________________________________________________________\n",
      "dense_36 (Dense)             (None, 50)                2550      \n",
      "_________________________________________________________________\n",
      "dense_37 (Dense)             (None, 1)                 51        \n",
      "=================================================================\n",
      "Total params: 12,351\n",
      "Trainable params: 12,351\n",
      "Non-trainable params: 0\n",
      "_________________________________________________________________\n"
     ]
    }
   ],
   "source": [
    "# Trainable parameters 4 layers 50 nodes\n",
    "model3.summary()"
   ]
  },
  {
   "cell_type": "code",
   "execution_count": 50,
   "metadata": {},
   "outputs": [
    {
     "name": "stdout",
     "output_type": "stream",
     "text": [
      "3582/3582 [==============================] - 2s 550us/step - loss: 0.2534 - accuracy: 0.9106\n",
      "Test loss: 0.2534\n",
      "Test accuracy: 0.9106\n"
     ]
    }
   ],
   "source": [
    "# Evaluate model on test data\n",
    "score = model3.evaluate(Xtest, Ytest)\n",
    "\n",
    "print('Test loss: %.4f' % score[0])\n",
    "print('Test accuracy: %.4f' % score[1])"
   ]
  },
  {
   "cell_type": "code",
   "execution_count": 51,
   "metadata": {},
   "outputs": [
    {
     "data": {
      "image/png": "[encoded data removed]",
      "text/plain": [
       "<Figure size 720x288 with 1 Axes>"
      ]
     },
     "metadata": {
      "needs_background": "light"
     },
     "output_type": "display_data"
    },
    {
     "data": {
      "image/png": "[encoded data removed]",
      "text/plain": [
       "<Figure size 720x288 with 1 Axes>"
      ]
     },
     "metadata": {
      "needs_background": "light"
     },
     "output_type": "display_data"
    }
   ],
   "source": [
    "plot_results(history3)"
   ]
  },
  {
   "cell_type": "markdown",
   "metadata": {},
   "source": [
    "### 2 layers, 50 nodes, class weights"
   ]
  },
  {
   "cell_type": "code",
   "execution_count": 54,
   "metadata": {
    "scrolled": true
   },
   "outputs": [
    {
     "name": "stdout",
     "output_type": "stream",
     "text": [
      "WARNING:tensorflow:Please add `keras.layers.InputLayer` instead of `keras.Input` to Sequential model. `keras.Input` is intended to be used by Functional model.\n",
      "Epoch 1/20\n",
      "54/54 [==============================] - 1s 9ms/step - loss: 0.3655 - accuracy: 0.8832 - val_loss: 0.2740 - val_accuracy: 0.8926\n",
      "Epoch 2/20\n",
      "54/54 [==============================] - 0s 6ms/step - loss: 0.2169 - accuracy: 0.8930 - val_loss: 0.2482 - val_accuracy: 0.8981\n",
      "Epoch 3/20\n",
      "54/54 [==============================] - 0s 5ms/step - loss: 0.2027 - accuracy: 0.8964 - val_loss: 0.2381 - val_accuracy: 0.8997\n",
      "Epoch 4/20\n",
      "54/54 [==============================] - 0s 5ms/step - loss: 0.1951 - accuracy: 0.8981 - val_loss: 0.2373 - val_accuracy: 0.9007\n",
      "Epoch 5/20\n",
      "54/54 [==============================] - 0s 5ms/step - loss: 0.1908 - accuracy: 0.8992 - val_loss: 0.2330 - val_accuracy: 0.9019\n",
      "Epoch 6/20\n",
      "54/54 [==============================] - 0s 6ms/step - loss: 0.1875 - accuracy: 0.9005 - val_loss: 0.2273 - val_accuracy: 0.9040\n",
      "Epoch 7/20\n",
      "54/54 [==============================] - 0s 6ms/step - loss: 0.1860 - accuracy: 0.9019 - val_loss: 0.2282 - val_accuracy: 0.9052\n",
      "Epoch 8/20\n",
      "54/54 [==============================] - 0s 6ms/step - loss: 0.1842 - accuracy: 0.9031 - val_loss: 0.2255 - val_accuracy: 0.9072\n",
      "Epoch 9/20\n",
      "54/54 [==============================] - 0s 6ms/step - loss: 0.1811 - accuracy: 0.9062 - val_loss: 0.2241 - val_accuracy: 0.9084\n",
      "Epoch 10/20\n",
      "54/54 [==============================] - 0s 6ms/step - loss: 0.1806 - accuracy: 0.9072 - val_loss: 0.2229 - val_accuracy: 0.9092\n",
      "Epoch 11/20\n",
      "54/54 [==============================] - 0s 6ms/step - loss: 0.1803 - accuracy: 0.9070 - val_loss: 0.2235 - val_accuracy: 0.9098\n",
      "Epoch 12/20\n",
      "54/54 [==============================] - 0s 6ms/step - loss: 0.1782 - accuracy: 0.9087 - val_loss: 0.2192 - val_accuracy: 0.9106\n",
      "Epoch 13/20\n",
      "54/54 [==============================] - 0s 6ms/step - loss: 0.1782 - accuracy: 0.9086 - val_loss: 0.2192 - val_accuracy: 0.9110\n",
      "Epoch 14/20\n",
      "54/54 [==============================] - 0s 6ms/step - loss: 0.1764 - accuracy: 0.9093 - val_loss: 0.2191 - val_accuracy: 0.9114\n",
      "Epoch 15/20\n",
      "54/54 [==============================] - 0s 6ms/step - loss: 0.1768 - accuracy: 0.9094 - val_loss: 0.2188 - val_accuracy: 0.9116\n",
      "Epoch 16/20\n",
      "54/54 [==============================] - 0s 6ms/step - loss: 0.1754 - accuracy: 0.9098 - val_loss: 0.2195 - val_accuracy: 0.9117\n",
      "Epoch 17/20\n",
      "54/54 [==============================] - 0s 5ms/step - loss: 0.1745 - accuracy: 0.9102 - val_loss: 0.2181 - val_accuracy: 0.9119\n",
      "Epoch 18/20\n",
      "54/54 [==============================] - 0s 6ms/step - loss: 0.1741 - accuracy: 0.9103 - val_loss: 0.2164 - val_accuracy: 0.9122\n",
      "Epoch 19/20\n",
      "54/54 [==============================] - 0s 6ms/step - loss: 0.1738 - accuracy: 0.9107 - val_loss: 0.2145 - val_accuracy: 0.9124\n",
      "Epoch 20/20\n",
      "54/54 [==============================] - 0s 6ms/step - loss: 0.1730 - accuracy: 0.9103 - val_loss: 0.2140 - val_accuracy: 0.9124\n"
     ]
    }
   ],
   "source": [
    "# Setup some training parameters\n",
    "batch_size = 10000\n",
    "epochs = 20\n",
    "input_shape = (X.shape[1],)\n",
    "\n",
    "# Build and train model\n",
    "model4 = build_DNN(input_shape, \n",
    "                   n_layers=2, \n",
    "                   n_nodes=50, \n",
    "                   learning_rate=0.1)\n",
    "\n",
    "history4 = model4.fit(Xtrain,\n",
    "                      Ytrain,\n",
    "                      batch_size=batch_size,\n",
    "                      epochs=epochs,\n",
    "                      validation_data=(Xval, Yval), \n",
    "                      class_weight=class_weights)"
   ]
  },
  {
   "cell_type": "code",
   "execution_count": 55,
   "metadata": {},
   "outputs": [
    {
     "name": "stdout",
     "output_type": "stream",
     "text": [
      "3582/3582 [==============================] - 2s 594us/step - loss: 0.2179 - accuracy: 0.9110\n",
      "Test loss: 0.2179\n",
      "Test accuracy: 0.9110\n"
     ]
    }
   ],
   "source": [
    "# Evaluate model on test data\n",
    "score = model4.evaluate(Xtest, Ytest)\n",
    "\n",
    "print('Test loss: %.4f' % score[0])\n",
    "print('Test accuracy: %.4f' % score[1])"
   ]
  },
  {
   "cell_type": "code",
   "execution_count": 56,
   "metadata": {},
   "outputs": [
    {
     "data": {
      "image/png": "[encoded data removed]",
      "text/plain": [
       "<Figure size 720x288 with 1 Axes>"
      ]
     },
     "metadata": {
      "needs_background": "light"
     },
     "output_type": "display_data"
    },
    {
     "data": {
      "image/png": "[encoded data removed]",
      "text/plain": [
       "<Figure size 720x288 with 1 Axes>"
      ]
     },
     "metadata": {
      "needs_background": "light"
     },
     "output_type": "display_data"
    }
   ],
   "source": [
    "plot_results(history4)"
   ]
  },
  {
   "cell_type": "markdown",
   "metadata": {},
   "source": [
    "### 4 layers, 50 nodes, class weights"
   ]
  },
  {
   "cell_type": "code",
   "execution_count": 71,
   "metadata": {
    "scrolled": true
   },
   "outputs": [
    {
     "name": "stdout",
     "output_type": "stream",
     "text": [
      "WARNING:tensorflow:Please add `keras.layers.InputLayer` instead of `keras.Input` to Sequential model. `keras.Input` is intended to be used by Functional model.\n",
      "Epoch 1/20\n",
      "54/54 [==============================] - 2s 15ms/step - loss: 0.3265 - accuracy: 0.8879 - val_loss: 0.2446 - val_accuracy: 0.8989\n",
      "Epoch 2/20\n",
      "54/54 [==============================] - 1s 11ms/step - loss: 0.1956 - accuracy: 0.8980 - val_loss: 0.2389 - val_accuracy: 0.9024\n",
      "Epoch 3/20\n",
      "54/54 [==============================] - 1s 11ms/step - loss: 0.1864 - accuracy: 0.9019 - val_loss: 0.2856 - val_accuracy: 0.9004\n",
      "Epoch 4/20\n",
      "54/54 [==============================] - 1s 11ms/step - loss: 0.1863 - accuracy: 0.9041 - val_loss: 0.2609 - val_accuracy: 0.9035\n",
      "Epoch 5/20\n",
      "54/54 [==============================] - 1s 11ms/step - loss: 0.1817 - accuracy: 0.9066 - val_loss: 0.1908 - val_accuracy: 0.9122\n",
      "Epoch 6/20\n",
      "54/54 [==============================] - 1s 11ms/step - loss: 0.1828 - accuracy: 0.9069 - val_loss: 0.2054 - val_accuracy: 0.9116\n",
      "Epoch 7/20\n",
      "54/54 [==============================] - 1s 11ms/step - loss: 0.1796 - accuracy: 0.9084 - val_loss: 0.2122 - val_accuracy: 0.9116\n",
      "Epoch 8/20\n",
      "54/54 [==============================] - 1s 13ms/step - loss: 0.1796 - accuracy: 0.9088 - val_loss: 0.2049 - val_accuracy: 0.9120\n",
      "Epoch 9/20\n",
      "54/54 [==============================] - 1s 12ms/step - loss: 0.1777 - accuracy: 0.9093 - val_loss: 0.1860 - val_accuracy: 0.9141\n",
      "Epoch 10/20\n",
      "54/54 [==============================] - 1s 11ms/step - loss: 0.1785 - accuracy: 0.9097 - val_loss: 0.2148 - val_accuracy: 0.9121\n",
      "Epoch 11/20\n",
      "54/54 [==============================] - 1s 11ms/step - loss: 0.1770 - accuracy: 0.9107 - val_loss: 0.2471 - val_accuracy: 0.9107\n",
      "Epoch 12/20\n",
      "54/54 [==============================] - 1s 12ms/step - loss: 0.1797 - accuracy: 0.9095 - val_loss: 0.2199 - val_accuracy: 0.9122\n",
      "Epoch 13/20\n",
      "54/54 [==============================] - 1s 12ms/step - loss: 0.1729 - accuracy: 0.9112 - val_loss: 0.2067 - val_accuracy: 0.9127\n",
      "Epoch 14/20\n",
      "54/54 [==============================] - 1s 12ms/step - loss: 0.1734 - accuracy: 0.9107 - val_loss: 0.1873 - val_accuracy: 0.9152\n",
      "Epoch 15/20\n",
      "54/54 [==============================] - 1s 12ms/step - loss: 0.1752 - accuracy: 0.9110 - val_loss: 0.2611 - val_accuracy: 0.9111\n",
      "Epoch 16/20\n",
      "54/54 [==============================] - 1s 12ms/step - loss: 0.1738 - accuracy: 0.9114 - val_loss: 0.2424 - val_accuracy: 0.9120\n",
      "Epoch 17/20\n",
      "54/54 [==============================] - 1s 11ms/step - loss: 0.1751 - accuracy: 0.9114 - val_loss: 0.2196 - val_accuracy: 0.9125\n",
      "Epoch 18/20\n",
      "54/54 [==============================] - 1s 12ms/step - loss: 0.1711 - accuracy: 0.9116 - val_loss: 0.2485 - val_accuracy: 0.9119\n",
      "Epoch 19/20\n",
      "54/54 [==============================] - 1s 11ms/step - loss: 0.1731 - accuracy: 0.9118 - val_loss: 0.2319 - val_accuracy: 0.9123\n",
      "Epoch 20/20\n",
      "54/54 [==============================] - 1s 11ms/step - loss: 0.1727 - accuracy: 0.9119 - val_loss: 0.2069 - val_accuracy: 0.9134\n"
     ]
    }
   ],
   "source": [
    "# Setup some training parameters\n",
    "batch_size = 10000\n",
    "epochs = 20\n",
    "input_shape = (X.shape[1],)\n",
    "\n",
    "# Build and train model\n",
    "model5 = build_DNN(input_shape, \n",
    "                   n_layers=4, \n",
    "                   n_nodes=50, \n",
    "                   learning_rate=0.1)\n",
    "\n",
    "history5 = model5.fit(Xtrain,\n",
    "                      Ytrain,\n",
    "                      batch_size=batch_size,\n",
    "                      epochs=epochs,\n",
    "                      validation_data=(Xval, Yval), \n",
    "                      class_weight=class_weights)"
   ]
  },
  {
   "cell_type": "code",
   "execution_count": 72,
   "metadata": {},
   "outputs": [
    {
     "name": "stdout",
     "output_type": "stream",
     "text": [
      "3582/3582 [==============================] - 3s 811us/step - loss: 0.2106 - accuracy: 0.91170s - loss: 0.210\n",
      "Test loss: 0.2106\n",
      "Test accuracy: 0.9117\n"
     ]
    }
   ],
   "source": [
    "# Evaluate model on test data\n",
    "score = model5.evaluate(Xtest, Ytest)\n",
    "\n",
    "print('Test loss: %.4f' % score[0])\n",
    "print('Test accuracy: %.4f' % score[1])"
   ]
  },
  {
   "cell_type": "code",
   "execution_count": 73,
   "metadata": {},
   "outputs": [
    {
     "data": {
      "image/png": "[encoded data removed]",
      "text/plain": [
       "<Figure size 720x288 with 1 Axes>"
      ]
     },
     "metadata": {
      "needs_background": "light"
     },
     "output_type": "display_data"
    },
    {
     "data": {
      "image/png": "[encoded data removed]",
      "text/plain": [
       "<Figure size 720x288 with 1 Axes>"
      ]
     },
     "metadata": {
      "needs_background": "light"
     },
     "output_type": "display_data"
    }
   ],
   "source": [
    "plot_results(history5)"
   ]
  },
  {
   "cell_type": "markdown",
   "metadata": {},
   "source": [
    "# Part 15: Batch normalization\n",
    "\n",
    "Now add batch normalization after each dense layer in `build_DNN`. Remember to import BatchNormalization from keras.layers. \n",
    "\n",
    "See https://keras.io/layers/normalization/ for information about how to call the function.\n",
    "\n",
    "Question 17: Why is batch normalization important when training deep networks?\n",
    "\n",
    "**Answer**: Batch normalization is used to normalize inputs and keep the mean output around 0 as well as the  output standard deviation around 1. Thus, it is a method to make the network more performant, robust and stable.\n",
    "For deep neural networks, we use batch normalization not only to normalize the inputs but also the output of each layer."
   ]
  },
  {
   "cell_type": "markdown",
   "metadata": {},
   "source": [
    "### 2 layers, 20 nodes, class weights, batch normalization"
   ]
  },
  {
   "cell_type": "code",
   "execution_count": 78,
   "metadata": {
    "scrolled": true
   },
   "outputs": [
    {
     "name": "stdout",
     "output_type": "stream",
     "text": [
      "WARNING:tensorflow:Please add `keras.layers.InputLayer` instead of `keras.Input` to Sequential model. `keras.Input` is intended to be used by Functional model.\n",
      "Epoch 1/20\n",
      "54/54 [==============================] - 4s 15ms/step - loss: 0.3559 - accuracy: 0.8413 - val_loss: 0.4142 - val_accuracy: 0.8404\n",
      "Epoch 2/20\n",
      "54/54 [==============================] - 0s 9ms/step - loss: 0.2341 - accuracy: 0.8938 - val_loss: 0.3529 - val_accuracy: 0.8404\n",
      "Epoch 3/20\n",
      "54/54 [==============================] - 1s 9ms/step - loss: 0.2071 - accuracy: 0.9019 - val_loss: 0.3073 - val_accuracy: 0.8404\n",
      "Epoch 4/20\n",
      "54/54 [==============================] - 1s 9ms/step - loss: 0.1957 - accuracy: 0.9063 - val_loss: 0.2544 - val_accuracy: 0.8407\n",
      "Epoch 5/20\n",
      "54/54 [==============================] - 0s 9ms/step - loss: 0.1882 - accuracy: 0.9081 - val_loss: 0.2086 - val_accuracy: 0.8660\n",
      "Epoch 6/20\n",
      "54/54 [==============================] - 0s 9ms/step - loss: 0.1852 - accuracy: 0.9085 - val_loss: 0.1811 - val_accuracy: 0.9086\n",
      "Epoch 7/20\n",
      "54/54 [==============================] - 0s 9ms/step - loss: 0.1810 - accuracy: 0.9106 - val_loss: 0.1766 - val_accuracy: 0.9155\n",
      "Epoch 8/20\n",
      "54/54 [==============================] - 0s 9ms/step - loss: 0.1789 - accuracy: 0.9119 - val_loss: 0.1838 - val_accuracy: 0.9163\n",
      "Epoch 9/20\n",
      "54/54 [==============================] - 1s 10ms/step - loss: 0.1754 - accuracy: 0.9143 - val_loss: 0.1926 - val_accuracy: 0.9164\n",
      "Epoch 10/20\n",
      "54/54 [==============================] - 1s 10ms/step - loss: 0.1744 - accuracy: 0.9143 - val_loss: 0.2105 - val_accuracy: 0.9163\n",
      "Epoch 11/20\n",
      "54/54 [==============================] - 1s 10ms/step - loss: 0.1729 - accuracy: 0.9148 - val_loss: 0.2054 - val_accuracy: 0.9170\n",
      "Epoch 12/20\n",
      "54/54 [==============================] - 0s 9ms/step - loss: 0.1716 - accuracy: 0.9149 - val_loss: 0.2215 - val_accuracy: 0.9168\n",
      "Epoch 13/20\n",
      "54/54 [==============================] - 0s 9ms/step - loss: 0.1713 - accuracy: 0.9148 - val_loss: 0.2117 - val_accuracy: 0.9174\n",
      "Epoch 14/20\n",
      "54/54 [==============================] - 1s 9ms/step - loss: 0.1691 - accuracy: 0.9159 - val_loss: 0.2145 - val_accuracy: 0.9175\n",
      "Epoch 15/20\n",
      "54/54 [==============================] - 1s 10ms/step - loss: 0.1690 - accuracy: 0.9155 - val_loss: 0.2116 - val_accuracy: 0.9177\n",
      "Epoch 16/20\n",
      "54/54 [==============================] - 1s 9ms/step - loss: 0.1686 - accuracy: 0.9155 - val_loss: 0.2094 - val_accuracy: 0.9179\n",
      "Epoch 17/20\n",
      "54/54 [==============================] - 0s 9ms/step - loss: 0.1666 - accuracy: 0.9166 - val_loss: 0.2061 - val_accuracy: 0.9183\n",
      "Epoch 18/20\n",
      "54/54 [==============================] - 0s 8ms/step - loss: 0.1661 - accuracy: 0.9167 - val_loss: 0.2098 - val_accuracy: 0.9185\n",
      "Epoch 19/20\n",
      "54/54 [==============================] - 0s 9ms/step - loss: 0.1657 - accuracy: 0.9166 - val_loss: 0.2155 - val_accuracy: 0.9184\n",
      "Epoch 20/20\n",
      "54/54 [==============================] - 0s 9ms/step - loss: 0.1643 - accuracy: 0.9173 - val_loss: 0.2003 - val_accuracy: 0.9187\n"
     ]
    }
   ],
   "source": [
    "# Setup some training parameters\n",
    "batch_size = 10000\n",
    "epochs = 20\n",
    "input_shape = (X.shape[1],)\n",
    "\n",
    "# Build and train model\n",
    "model6 = build_DNN(input_shape, \n",
    "                   n_layers=2, \n",
    "                   n_nodes=20, \n",
    "                   learning_rate=0.1, \n",
    "                   use_bn=True)\n",
    "\n",
    "history6 = model6.fit(Xtrain,\n",
    "                      Ytrain,\n",
    "                      batch_size=batch_size,\n",
    "                      epochs=epochs,\n",
    "                      validation_data=(Xval, Yval), \n",
    "                      class_weight=class_weights)"
   ]
  },
  {
   "cell_type": "code",
   "execution_count": 79,
   "metadata": {},
   "outputs": [
    {
     "name": "stdout",
     "output_type": "stream",
     "text": [
      "3582/3582 [==============================] - 3s 772us/step - loss: 0.2035 - accuracy: 0.9174\n",
      "Test loss: 0.2035\n",
      "Test accuracy: 0.9174\n"
     ]
    }
   ],
   "source": [
    "# Evaluate model on test data\n",
    "score = model6.evaluate(Xtest, Ytest)\n",
    "\n",
    "print('Test loss: %.4f' % score[0])\n",
    "print('Test accuracy: %.4f' % score[1])"
   ]
  },
  {
   "cell_type": "code",
   "execution_count": 80,
   "metadata": {},
   "outputs": [
    {
     "data": {
      "image/png": "[encoded data removed]",
      "text/plain": [
       "<Figure size 720x288 with 1 Axes>"
      ]
     },
     "metadata": {
      "needs_background": "light"
     },
     "output_type": "display_data"
    },
    {
     "data": {
      "image/png": "[encoded data removed]",
      "text/plain": [
       "<Figure size 720x288 with 1 Axes>"
      ]
     },
     "metadata": {
      "needs_background": "light"
     },
     "output_type": "display_data"
    }
   ],
   "source": [
    "plot_results(history6)"
   ]
  },
  {
   "cell_type": "markdown",
   "metadata": {},
   "source": [
    "# Part 16: Activation function\n",
    "\n",
    "Try changing the activation function in each layer from sigmoid to ReLU, write down the test accuracy.\n",
    "\n",
    "Note: the last layer should still have a sigmoid activation function.\n",
    "\n",
    "https://keras.io/api/layers/activations/"
   ]
  },
  {
   "cell_type": "markdown",
   "metadata": {},
   "source": [
    "### 2 layers, 20 nodes, class weights, ReLU, no batch normalization"
   ]
  },
  {
   "cell_type": "code",
   "execution_count": 81,
   "metadata": {
    "scrolled": true
   },
   "outputs": [
    {
     "name": "stdout",
     "output_type": "stream",
     "text": [
      "WARNING:tensorflow:Please add `keras.layers.InputLayer` instead of `keras.Input` to Sequential model. `keras.Input` is intended to be used by Functional model.\n",
      "Epoch 1/20\n",
      "54/54 [==============================] - 1s 9ms/step - loss: 5.2054 - accuracy: 0.8013 - val_loss: 2.4334 - val_accuracy: 0.8404\n",
      "Epoch 2/20\n",
      "54/54 [==============================] - 0s 5ms/step - loss: 7.6499 - accuracy: 0.8403 - val_loss: 2.4334 - val_accuracy: 0.8404\n",
      "Epoch 3/20\n",
      "54/54 [==============================] - 0s 5ms/step - loss: 7.6212 - accuracy: 0.8409 - val_loss: 2.4334 - val_accuracy: 0.8404\n",
      "Epoch 4/20\n",
      "54/54 [==============================] - 0s 5ms/step - loss: 7.6224 - accuracy: 0.8409 - val_loss: 2.4334 - val_accuracy: 0.8404\n",
      "Epoch 5/20\n",
      "54/54 [==============================] - 0s 5ms/step - loss: 7.6439 - accuracy: 0.8404 - val_loss: 2.4334 - val_accuracy: 0.8404\n",
      "Epoch 6/20\n",
      "54/54 [==============================] - 0s 5ms/step - loss: 7.6757 - accuracy: 0.8398 - val_loss: 2.4334 - val_accuracy: 0.8404\n",
      "Epoch 7/20\n",
      "54/54 [==============================] - 0s 5ms/step - loss: 7.6352 - accuracy: 0.8406 - val_loss: 2.4334 - val_accuracy: 0.8404\n",
      "Epoch 8/20\n",
      "54/54 [==============================] - 0s 4ms/step - loss: 7.6543 - accuracy: 0.8402 - val_loss: 2.4334 - val_accuracy: 0.8404\n",
      "Epoch 9/20\n",
      "54/54 [==============================] - 0s 4ms/step - loss: 7.6322 - accuracy: 0.8407 - val_loss: 2.4334 - val_accuracy: 0.8404\n",
      "Epoch 10/20\n",
      "54/54 [==============================] - 0s 4ms/step - loss: 7.6212 - accuracy: 0.8409 - val_loss: 2.4334 - val_accuracy: 0.8404\n",
      "Epoch 11/20\n",
      "54/54 [==============================] - 0s 5ms/step - loss: 7.6599 - accuracy: 0.8401 - val_loss: 2.4334 - val_accuracy: 0.8404\n",
      "Epoch 12/20\n",
      "54/54 [==============================] - 0s 5ms/step - loss: 7.6512 - accuracy: 0.8403 - val_loss: 2.4334 - val_accuracy: 0.8404\n",
      "Epoch 13/20\n",
      "54/54 [==============================] - 0s 4ms/step - loss: 7.6684 - accuracy: 0.8399 - val_loss: 2.4334 - val_accuracy: 0.8404\n",
      "Epoch 14/20\n",
      "54/54 [==============================] - 0s 4ms/step - loss: 7.6396 - accuracy: 0.8405 - val_loss: 2.4334 - val_accuracy: 0.8404\n",
      "Epoch 15/20\n",
      "54/54 [==============================] - 0s 4ms/step - loss: 7.6223 - accuracy: 0.8409 - val_loss: 2.4334 - val_accuracy: 0.8404\n",
      "Epoch 16/20\n",
      "54/54 [==============================] - 0s 4ms/step - loss: 7.6541 - accuracy: 0.8402 - val_loss: 2.4334 - val_accuracy: 0.8404\n",
      "Epoch 17/20\n",
      "54/54 [==============================] - 0s 6ms/step - loss: 7.5918 - accuracy: 0.8415 - val_loss: 2.4334 - val_accuracy: 0.8404\n",
      "Epoch 18/20\n",
      "54/54 [==============================] - 0s 5ms/step - loss: 7.6388 - accuracy: 0.8405 - val_loss: 2.4334 - val_accuracy: 0.8404\n",
      "Epoch 19/20\n",
      "54/54 [==============================] - 0s 5ms/step - loss: 7.6031 - accuracy: 0.8413 - val_loss: 2.4334 - val_accuracy: 0.8404\n",
      "Epoch 20/20\n",
      "54/54 [==============================] - 0s 5ms/step - loss: 7.6208 - accuracy: 0.8409 - val_loss: 2.4334 - val_accuracy: 0.8404\n"
     ]
    }
   ],
   "source": [
    "# Setup some training parameters\n",
    "batch_size = 10000\n",
    "epochs = 20\n",
    "input_shape = (X.shape[1],)\n",
    "\n",
    "# Build and train model\n",
    "model7 = build_DNN(input_shape, \n",
    "                   n_layers=2, \n",
    "                   n_nodes=20, \n",
    "                   learning_rate=0.1, \n",
    "                   act_fun=\"relu\")\n",
    "\n",
    "history7 = model7.fit(Xtrain,\n",
    "                      Ytrain,\n",
    "                      batch_size=batch_size,\n",
    "                      epochs=epochs,\n",
    "                      validation_data=(Xval, Yval), \n",
    "                      class_weight=class_weights)"
   ]
  },
  {
   "cell_type": "code",
   "execution_count": 82,
   "metadata": {},
   "outputs": [
    {
     "name": "stdout",
     "output_type": "stream",
     "text": [
      "3582/3582 [==============================] - 2s 654us/step - loss: 2.4057 - accuracy: 0.8422\n",
      "Test loss: 2.4057\n",
      "Test accuracy: 0.8422\n"
     ]
    }
   ],
   "source": [
    "# Evaluate model on test data\n",
    "score = model7.evaluate(Xtest, Ytest)\n",
    "\n",
    "print('Test loss: %.4f' % score[0])\n",
    "print('Test accuracy: %.4f' % score[1])"
   ]
  },
  {
   "cell_type": "code",
   "execution_count": 83,
   "metadata": {},
   "outputs": [
    {
     "data": {
      "image/png": "[encoded data removed]",
      "text/plain": [
       "<Figure size 720x288 with 1 Axes>"
      ]
     },
     "metadata": {
      "needs_background": "light"
     },
     "output_type": "display_data"
    },
    {
     "data": {
      "image/png": "[encoded data removed]",
      "text/plain": [
       "<Figure size 720x288 with 1 Axes>"
      ]
     },
     "metadata": {
      "needs_background": "light"
     },
     "output_type": "display_data"
    }
   ],
   "source": [
    "plot_results(history7)"
   ]
  },
  {
   "cell_type": "markdown",
   "metadata": {},
   "source": [
    "# Part 17: Optimizer\n",
    "\n",
    "Try changing the optimizer from SGD to Adam (with learning rate 0.1 as before). Remember to import the Adam optimizer from keras.optimizers. \n",
    "\n",
    "https://keras.io/optimizers/\n"
   ]
  },
  {
   "cell_type": "markdown",
   "metadata": {},
   "source": [
    "### 2 layers, 20 nodes, class weights, Adam optimizer, no batch normalization, sigmoid activations"
   ]
  },
  {
   "cell_type": "code",
   "execution_count": 86,
   "metadata": {
    "scrolled": true
   },
   "outputs": [
    {
     "name": "stdout",
     "output_type": "stream",
     "text": [
      "WARNING:tensorflow:Please add `keras.layers.InputLayer` instead of `keras.Input` to Sequential model. `keras.Input` is intended to be used by Functional model.\n",
      "Epoch 1/20\n",
      "54/54 [==============================] - 1s 12ms/step - loss: 0.3004 - accuracy: 0.8359 - val_loss: 0.2236 - val_accuracy: 0.9098\n",
      "Epoch 2/20\n",
      "54/54 [==============================] - 0s 6ms/step - loss: 0.1743 - accuracy: 0.9112 - val_loss: 0.2104 - val_accuracy: 0.9173\n",
      "Epoch 3/20\n",
      "54/54 [==============================] - 0s 6ms/step - loss: 0.1657 - accuracy: 0.9164 - val_loss: 0.2166 - val_accuracy: 0.9186\n",
      "Epoch 4/20\n",
      "54/54 [==============================] - 0s 6ms/step - loss: 0.1619 - accuracy: 0.9179 - val_loss: 0.2124 - val_accuracy: 0.9198\n",
      "Epoch 5/20\n",
      "54/54 [==============================] - 0s 5ms/step - loss: 0.1601 - accuracy: 0.9184 - val_loss: 0.1959 - val_accuracy: 0.9192\n",
      "Epoch 6/20\n",
      "54/54 [==============================] - 0s 5ms/step - loss: 0.1614 - accuracy: 0.9178 - val_loss: 0.1998 - val_accuracy: 0.9199\n",
      "Epoch 7/20\n",
      "54/54 [==============================] - 0s 5ms/step - loss: 0.1576 - accuracy: 0.9181 - val_loss: 0.1951 - val_accuracy: 0.9209\n",
      "Epoch 8/20\n",
      "54/54 [==============================] - 0s 5ms/step - loss: 0.1548 - accuracy: 0.9195 - val_loss: 0.1793 - val_accuracy: 0.9224\n",
      "Epoch 9/20\n",
      "54/54 [==============================] - 0s 6ms/step - loss: 0.1535 - accuracy: 0.9202 - val_loss: 0.1780 - val_accuracy: 0.9254\n",
      "Epoch 10/20\n",
      "54/54 [==============================] - 0s 5ms/step - loss: 0.1518 - accuracy: 0.9213 - val_loss: 0.1807 - val_accuracy: 0.9244\n",
      "Epoch 11/20\n",
      "54/54 [==============================] - 0s 5ms/step - loss: 0.1549 - accuracy: 0.9213 - val_loss: 0.1979 - val_accuracy: 0.9204\n",
      "Epoch 12/20\n",
      "54/54 [==============================] - 0s 6ms/step - loss: 0.1544 - accuracy: 0.9198 - val_loss: 0.1874 - val_accuracy: 0.9215\n",
      "Epoch 13/20\n",
      "54/54 [==============================] - 0s 5ms/step - loss: 0.1530 - accuracy: 0.9189 - val_loss: 0.1750 - val_accuracy: 0.9216\n",
      "Epoch 14/20\n",
      "54/54 [==============================] - 0s 6ms/step - loss: 0.1511 - accuracy: 0.9202 - val_loss: 0.1695 - val_accuracy: 0.9239\n",
      "Epoch 15/20\n",
      "54/54 [==============================] - 0s 7ms/step - loss: 0.1499 - accuracy: 0.9212 - val_loss: 0.1761 - val_accuracy: 0.9242\n",
      "Epoch 16/20\n",
      "54/54 [==============================] - 0s 7ms/step - loss: 0.1487 - accuracy: 0.9222 - val_loss: 0.1754 - val_accuracy: 0.9256\n",
      "Epoch 17/20\n",
      "54/54 [==============================] - 0s 6ms/step - loss: 0.1486 - accuracy: 0.9234 - val_loss: 0.1661 - val_accuracy: 0.9261\n",
      "Epoch 18/20\n",
      "54/54 [==============================] - 0s 6ms/step - loss: 0.1459 - accuracy: 0.9243 - val_loss: 0.1684 - val_accuracy: 0.9284\n",
      "Epoch 19/20\n",
      "54/54 [==============================] - 0s 5ms/step - loss: 0.1421 - accuracy: 0.9255 - val_loss: 0.1826 - val_accuracy: 0.9273\n",
      "Epoch 20/20\n",
      "54/54 [==============================] - 0s 5ms/step - loss: 0.1407 - accuracy: 0.9265 - val_loss: 0.1633 - val_accuracy: 0.9260\n"
     ]
    }
   ],
   "source": [
    "# Setup some training parameters\n",
    "batch_size = 10000\n",
    "epochs = 20\n",
    "input_shape = (X.shape[1],)\n",
    "\n",
    "# Build and train model\n",
    "model8 = build_DNN(input_shape, \n",
    "                   n_layers=2, \n",
    "                   n_nodes=20, \n",
    "                   learning_rate=0.1, \n",
    "                   optimizer='adam')\n",
    "\n",
    "history8 = model8.fit(Xtrain,\n",
    "                      Ytrain,\n",
    "                      batch_size=batch_size,\n",
    "                      epochs=epochs,\n",
    "                      validation_data=(Xval, Yval), \n",
    "                      class_weight=class_weights)"
   ]
  },
  {
   "cell_type": "code",
   "execution_count": 87,
   "metadata": {},
   "outputs": [
    {
     "name": "stdout",
     "output_type": "stream",
     "text": [
      "3582/3582 [==============================] - 2s 659us/step - loss: 0.1653 - accuracy: 0.9248\n",
      "Test loss: 0.1653\n",
      "Test accuracy: 0.9248\n"
     ]
    }
   ],
   "source": [
    "# Evaluate model on test data\n",
    "score = model8.evaluate(Xtest, Ytest)\n",
    "\n",
    "print('Test loss: %.4f' % score[0])\n",
    "print('Test accuracy: %.4f' % score[1])"
   ]
  },
  {
   "cell_type": "code",
   "execution_count": 88,
   "metadata": {},
   "outputs": [
    {
     "data": {
      "image/png": "[encoded data removed]",
      "text/plain": [
       "<Figure size 720x288 with 1 Axes>"
      ]
     },
     "metadata": {
      "needs_background": "light"
     },
     "output_type": "display_data"
    },
    {
     "data": {
      "image/png": "[encoded data removed]",
      "text/plain": [
       "<Figure size 720x288 with 1 Axes>"
      ]
     },
     "metadata": {
      "needs_background": "light"
     },
     "output_type": "display_data"
    }
   ],
   "source": [
    "plot_results(history8)"
   ]
  },
  {
   "cell_type": "markdown",
   "metadata": {},
   "source": [
    "# Part 18: Dropout regularization\n",
    "\n",
    "Dropout is a type of regularization that can improve accuracy for validation and test data. \n",
    "\n",
    "Add a Dropout layer after each Dense layer (but not after the final dense layer) in `build_DNN`, with a dropout probability of 50%. Remember to first import the Dropout layer from keras.layers\n",
    "\n",
    "See https://keras.io/api/layers/regularization_layers/dropout/ for how the Dropout layer works.\n",
    "\n",
    "---\n",
    "\n",
    "Question 18: How does the validation accuracy change when adding dropout?\n",
    "\n",
    "Question 19: How does the test accuracy change when adding dropout?"
   ]
  },
  {
   "cell_type": "markdown",
   "metadata": {},
   "source": [
    "### 2 layers, 20 nodes, class weights, dropout, SGD optimizer, no batch normalization, sigmoid activations"
   ]
  },
  {
   "cell_type": "code",
   "execution_count": 237,
   "metadata": {
    "scrolled": true
   },
   "outputs": [
    {
     "name": "stdout",
     "output_type": "stream",
     "text": [
      "WARNING:tensorflow:Please add `keras.layers.InputLayer` instead of `keras.Input` to Sequential model. `keras.Input` is intended to be used by Functional model.\n",
      "Epoch 1/20\n",
      "54/54 [==============================] - 1s 11ms/step - loss: 0.7222 - accuracy: 0.4749 - val_loss: 0.6024 - val_accuracy: 0.8836\n",
      "Epoch 2/20\n",
      "54/54 [==============================] - 0s 6ms/step - loss: 0.6342 - accuracy: 0.6230 - val_loss: 0.5245 - val_accuracy: 0.8831\n",
      "Epoch 3/20\n",
      "54/54 [==============================] - 0s 6ms/step - loss: 0.5714 - accuracy: 0.6891 - val_loss: 0.4406 - val_accuracy: 0.8819\n",
      "Epoch 4/20\n",
      "54/54 [==============================] - 0s 6ms/step - loss: 0.5087 - accuracy: 0.7377 - val_loss: 0.3660 - val_accuracy: 0.8819\n",
      "Epoch 5/20\n",
      "54/54 [==============================] - 0s 6ms/step - loss: 0.4522 - accuracy: 0.7780 - val_loss: 0.3233 - val_accuracy: 0.8819\n",
      "Epoch 6/20\n",
      "54/54 [==============================] - 0s 6ms/step - loss: 0.4069 - accuracy: 0.8062 - val_loss: 0.2954 - val_accuracy: 0.8818\n",
      "Epoch 7/20\n",
      "54/54 [==============================] - 0s 6ms/step - loss: 0.3781 - accuracy: 0.8238 - val_loss: 0.2836 - val_accuracy: 0.8818\n",
      "Epoch 8/20\n",
      "54/54 [==============================] - 0s 6ms/step - loss: 0.3546 - accuracy: 0.8372 - val_loss: 0.2761 - val_accuracy: 0.8818\n",
      "Epoch 9/20\n",
      "54/54 [==============================] - 0s 6ms/step - loss: 0.3403 - accuracy: 0.8460 - val_loss: 0.2725 - val_accuracy: 0.8818\n",
      "Epoch 10/20\n",
      "54/54 [==============================] - 0s 6ms/step - loss: 0.3300 - accuracy: 0.8511 - val_loss: 0.2714 - val_accuracy: 0.8818\n",
      "Epoch 11/20\n",
      "54/54 [==============================] - 0s 5ms/step - loss: 0.3193 - accuracy: 0.8566 - val_loss: 0.2701 - val_accuracy: 0.8818\n",
      "Epoch 12/20\n",
      "54/54 [==============================] - 0s 6ms/step - loss: 0.3130 - accuracy: 0.8591 - val_loss: 0.2690 - val_accuracy: 0.8818\n",
      "Epoch 13/20\n",
      "54/54 [==============================] - 0s 6ms/step - loss: 0.3051 - accuracy: 0.8625 - val_loss: 0.2677 - val_accuracy: 0.8823\n",
      "Epoch 14/20\n",
      "54/54 [==============================] - 0s 6ms/step - loss: 0.3032 - accuracy: 0.8628 - val_loss: 0.2672 - val_accuracy: 0.8830\n",
      "Epoch 15/20\n",
      "54/54 [==============================] - 0s 6ms/step - loss: 0.2945 - accuracy: 0.8661 - val_loss: 0.2656 - val_accuracy: 0.8835\n",
      "Epoch 16/20\n",
      "54/54 [==============================] - 0s 6ms/step - loss: 0.2910 - accuracy: 0.8670 - val_loss: 0.2649 - val_accuracy: 0.8839\n",
      "Epoch 17/20\n",
      "54/54 [==============================] - 0s 6ms/step - loss: 0.2870 - accuracy: 0.8678 - val_loss: 0.2645 - val_accuracy: 0.8842\n",
      "Epoch 18/20\n",
      "54/54 [==============================] - 0s 6ms/step - loss: 0.2832 - accuracy: 0.8689 - val_loss: 0.2628 - val_accuracy: 0.8850\n",
      "Epoch 19/20\n",
      "54/54 [==============================] - 0s 6ms/step - loss: 0.2805 - accuracy: 0.8696 - val_loss: 0.2620 - val_accuracy: 0.8855\n",
      "Epoch 20/20\n",
      "54/54 [==============================] - 0s 6ms/step - loss: 0.2763 - accuracy: 0.8710 - val_loss: 0.2608 - val_accuracy: 0.8860\n"
     ]
    }
   ],
   "source": [
    "# Setup some training parameters\n",
    "batch_size = 10000\n",
    "epochs = 20\n",
    "input_shape = (X.shape[1],)\n",
    "\n",
    "# Build and train model\n",
    "model9 = build_DNN(input_shape, \n",
    "                   n_layers=2, \n",
    "                   n_nodes=20, \n",
    "                   learning_rate=0.1, \n",
    "                   use_dropout=True)\n",
    "\n",
    "history9 = model9.fit(Xtrain,\n",
    "                      Ytrain,\n",
    "                      batch_size=batch_size,\n",
    "                      epochs=epochs,\n",
    "                      validation_data=(Xval, Yval), \n",
    "                      class_weight=class_weights)"
   ]
  },
  {
   "cell_type": "code",
   "execution_count": 238,
   "metadata": {},
   "outputs": [
    {
     "name": "stdout",
     "output_type": "stream",
     "text": [
      "3582/3582 [==============================] - 2s 601us/step - loss: 0.2645 - accuracy: 0.8842\n",
      "Test loss: 0.2645\n",
      "Test accuracy: 0.8842\n"
     ]
    }
   ],
   "source": [
    "# Evaluate model on test data\n",
    "score = model9.evaluate(Xtest, Ytest)\n",
    "\n",
    "print('Test loss: %.4f' % score[0])\n",
    "print('Test accuracy: %.4f' % score[1])"
   ]
  },
  {
   "cell_type": "code",
   "execution_count": 239,
   "metadata": {},
   "outputs": [
    {
     "data": {
      "image/png": "[encoded data removed]",
      "text/plain": [
       "<Figure size 720x288 with 1 Axes>"
      ]
     },
     "metadata": {
      "needs_background": "light"
     },
     "output_type": "display_data"
    },
    {
     "data": {
      "image/png": "[encoded data removed]",
      "text/plain": [
       "<Figure size 720x288 with 1 Axes>"
      ]
     },
     "metadata": {
      "needs_background": "light"
     },
     "output_type": "display_data"
    }
   ],
   "source": [
    "plot_results(history9)"
   ]
  },
  {
   "cell_type": "markdown",
   "metadata": {},
   "source": [
    "# Part 19: Improving performance\n",
    "\n",
    "Spend some time (30 - 90 minutes) playing with the network architecture (number of layers, number of nodes per layer, activation function) and other hyper parameters (optimizer, learning rate, batch size, number of epochs, degree of regularization). For example, try a much deeper network. How much does the training time increase for a network with 10 layers?\n",
    "\n",
    "Question 20: How high classification accuracy can you achieve for the test data? What is your best configuration?"
   ]
  },
  {
   "cell_type": "code",
   "execution_count": 233,
   "metadata": {},
   "outputs": [],
   "source": [
    "from tensorflow import keras\n",
    "from tensorflow.keras import layers\n",
    "from tensorflow.keras.optimizers import Adam\n",
    "\n",
    "# Adding batch_size to hyperparameter optimization \n",
    "# Overriding run_trial method in Hyperband class as suggested in \n",
    "# https://github.com/keras-team/keras-tuner/issues/122\n",
    "class MyTuner(kerastuner.tuners.Hyperband):\n",
    "    def run_trial(self, trial, *args, **kwargs):\n",
    "        kwargs['batch_size'] = trial.hyperparameters.Choice('batch_size', values=[32,64,128,256,512,1024,2048])\n",
    "        super(MyTuner, self).run_trial(trial, *args, **kwargs)\n",
    "\n",
    "\n",
    "def tune_model(hp):\n",
    "    # Setting hyperparameter options\n",
    "    n_layers = hp.Int('n_layers', min_value=2, max_value=5, step=1)\n",
    "    n_nodes = hp.Int('n_nodes', min_value=20, max_value=50, step=10)\n",
    "    learning_rate = hp.Choice('learning_rate', values=[1e-2, 5e-2, 1e-3])\n",
    "    act_fun = hp.Choice('act_fun', values=[\"sigmoid\", \"relu\"])\n",
    "    use_dropout = hp.Choice('use_dropout', values=[True, False])\n",
    "    if use_dropout:\n",
    "        dropout_rate = hp.Choice('dropout_rate', values=[0.1, 0.3, 0.5])\n",
    "    use_bn = hp.Choice('use_bn', values=[True, False])\n",
    "\n",
    "    # Setup optimizer, depending on input parameter string\n",
    "    optimizer = Adam(learning_rate=learning_rate)\n",
    "    \n",
    "    # Add first layer, requires input shape\n",
    "    inputs = keras.Input(shape=(92,))\n",
    "    x = layers.Dense(units=n_nodes, activation=act_fun)(inputs)\n",
    "    \n",
    "    # Add BatchNormalization\n",
    "    if use_bn:\n",
    "        x = layers.BatchNormalization()(x)\n",
    "    \n",
    "    # Add Dropout\n",
    "    if use_dropout:\n",
    "        x = layers.Dropout(dropout_rate)(x)\n",
    "\n",
    "        \n",
    "    # Add remaining layers, do not require input shape\n",
    "    for i in range(n_layers-1):\n",
    "        x = layers.Dense(units=n_nodes, activation=act_fun)(x)\n",
    "        if use_bn:\n",
    "            x = layers.BatchNormalization()(x)\n",
    "        if use_dropout:\n",
    "            x = layers.Dropout(dropout_rate)(x)\n",
    "    \n",
    "    # Final layer\n",
    "    outputs = layers.Dense(1, activation=hp.Choice('out_act_fun', values=[\"sigmoid\", \"relu\", \"softmax\"]))(x)\n",
    "    \n",
    "    # Compile model\n",
    "    model = keras.Model(inputs, outputs)\n",
    "    model.compile(\n",
    "        optimizer=optimizer,\n",
    "        loss=BinaryCrossentropy(),\n",
    "        metrics=['accuracy'])\n",
    "    \n",
    "    return model"
   ]
  },
  {
   "cell_type": "code",
   "execution_count": 235,
   "metadata": {},
   "outputs": [],
   "source": [
    "import kerastuner\n",
    "\n",
    "tuner = MyTuner(\n",
    "    tune_model,\n",
    "    objective='val_accuracy',\n",
    "    max_epochs=30,\n",
    "    hyperband_iterations=2)"
   ]
  },
  {
   "cell_type": "code",
   "execution_count": 236,
   "metadata": {
    "scrolled": true
   },
   "outputs": [
    {
     "name": "stdout",
     "output_type": "stream",
     "text": [
      "Trial 180 Complete [00h 12m 09s]\n",
      "val_accuracy: 0.9389902353286743\n",
      "\n",
      "Best val_accuracy So Far: 0.946170449256897\n",
      "Total elapsed time: 03h 04m 22s\n",
      "INFO:tensorflow:Oracle triggered exit\n"
     ]
    }
   ],
   "source": [
    "tuner.search(Xtrain, Ytrain, validation_data=(Xval, Yval), class_weight=class_weights)"
   ]
  },
  {
   "cell_type": "code",
   "execution_count": 244,
   "metadata": {},
   "outputs": [
    {
     "name": "stdout",
     "output_type": "stream",
     "text": [
      "Results summary\n",
      "Results in ./untitled_project\n",
      "Showing 10 best trials\n",
      "Objective(name='val_accuracy', direction='max')\n",
      "Trial summary\n",
      "Hyperparameters:\n",
      "n_layers: 4\n",
      "n_nodes: 40\n",
      "learning_rate: 0.001\n",
      "act_fun: sigmoid\n",
      "use_dropout: 0\n",
      "dropout_rate: 0.1\n",
      "use_bn: 1\n",
      "out_act_fun: sigmoid\n",
      "batch_size: 256\n",
      "tuner/epochs: 30\n",
      "tuner/initial_epoch: 10\n",
      "tuner/bracket: 3\n",
      "tuner/round: 3\n",
      "tuner/trial_id: 1609a0f52248e247c9cc85876c82b825\n",
      "Score: 0.946170449256897\n",
      "Trial summary\n",
      "Hyperparameters:\n",
      "n_layers: 3\n",
      "n_nodes: 50\n",
      "learning_rate: 0.001\n",
      "act_fun: relu\n",
      "use_dropout: 1\n",
      "dropout_rate: 0.1\n",
      "use_bn: 0\n",
      "out_act_fun: sigmoid\n",
      "batch_size: 32\n",
      "tuner/epochs: 30\n",
      "tuner/initial_epoch: 10\n",
      "tuner/bracket: 2\n",
      "tuner/round: 2\n",
      "tuner/trial_id: f9eae1272c9602c832481db0340fda66\n",
      "Score: 0.9430471062660217\n",
      "Trial summary\n",
      "Hyperparameters:\n",
      "n_layers: 5\n",
      "n_nodes: 30\n",
      "learning_rate: 0.01\n",
      "act_fun: sigmoid\n",
      "use_dropout: 0\n",
      "dropout_rate: 0.3\n",
      "use_bn: 1\n",
      "out_act_fun: sigmoid\n",
      "batch_size: 1024\n",
      "tuner/epochs: 30\n",
      "tuner/initial_epoch: 10\n",
      "tuner/bracket: 2\n",
      "tuner/round: 2\n",
      "tuner/trial_id: 04b48c977fd79af1ef72867303b6c1d1\n",
      "Score: 0.9426283240318298\n",
      "Trial summary\n",
      "Hyperparameters:\n",
      "n_layers: 3\n",
      "n_nodes: 40\n",
      "learning_rate: 0.001\n",
      "act_fun: sigmoid\n",
      "use_dropout: 0\n",
      "dropout_rate: 0.3\n",
      "use_bn: 0\n",
      "out_act_fun: sigmoid\n",
      "batch_size: 128\n",
      "tuner/epochs: 30\n",
      "tuner/initial_epoch: 10\n",
      "tuner/bracket: 3\n",
      "tuner/round: 3\n",
      "tuner/trial_id: 9effb6b4c133b56cce89ca10747e90cb\n",
      "Score: 0.9422880411148071\n",
      "Trial summary\n",
      "Hyperparameters:\n",
      "n_layers: 2\n",
      "n_nodes: 40\n",
      "learning_rate: 0.001\n",
      "act_fun: relu\n",
      "use_dropout: 0\n",
      "dropout_rate: 0.5\n",
      "use_bn: 0\n",
      "out_act_fun: sigmoid\n",
      "batch_size: 2048\n",
      "tuner/epochs: 30\n",
      "tuner/initial_epoch: 10\n",
      "tuner/bracket: 2\n",
      "tuner/round: 2\n",
      "tuner/trial_id: f62094d72349e3d208bc68c60ac1129a\n",
      "Score: 0.9420786499977112\n",
      "Trial summary\n",
      "Hyperparameters:\n",
      "n_layers: 4\n",
      "n_nodes: 40\n",
      "learning_rate: 0.001\n",
      "act_fun: sigmoid\n",
      "use_dropout: 0\n",
      "dropout_rate: 0.1\n",
      "use_bn: 1\n",
      "out_act_fun: sigmoid\n",
      "batch_size: 256\n",
      "tuner/epochs: 10\n",
      "tuner/initial_epoch: 4\n",
      "tuner/bracket: 3\n",
      "tuner/round: 2\n",
      "tuner/trial_id: 84d032931fadfb63a0417140ac9c51ea\n",
      "Score: 0.94193035364151\n",
      "Trial summary\n",
      "Hyperparameters:\n",
      "n_layers: 4\n",
      "n_nodes: 40\n",
      "learning_rate: 0.01\n",
      "act_fun: relu\n",
      "use_dropout: 1\n",
      "dropout_rate: 0.1\n",
      "use_bn: 1\n",
      "out_act_fun: sigmoid\n",
      "batch_size: 512\n",
      "tuner/epochs: 30\n",
      "tuner/initial_epoch: 0\n",
      "tuner/bracket: 0\n",
      "tuner/round: 0\n",
      "Score: 0.941223680973053\n",
      "Trial summary\n",
      "Hyperparameters:\n",
      "n_layers: 2\n",
      "n_nodes: 50\n",
      "learning_rate: 0.01\n",
      "act_fun: relu\n",
      "use_dropout: 0\n",
      "dropout_rate: 0.5\n",
      "use_bn: 1\n",
      "out_act_fun: sigmoid\n",
      "batch_size: 512\n",
      "tuner/epochs: 30\n",
      "tuner/initial_epoch: 10\n",
      "tuner/bracket: 1\n",
      "tuner/round: 1\n",
      "tuner/trial_id: 11dce2e74243e39248dc0ad04088dde7\n",
      "Score: 0.941023051738739\n",
      "Trial summary\n",
      "Hyperparameters:\n",
      "n_layers: 2\n",
      "n_nodes: 40\n",
      "learning_rate: 0.01\n",
      "act_fun: relu\n",
      "use_dropout: 0\n",
      "dropout_rate: 0.3\n",
      "use_bn: 1\n",
      "out_act_fun: sigmoid\n",
      "batch_size: 1024\n",
      "tuner/epochs: 30\n",
      "tuner/initial_epoch: 10\n",
      "tuner/bracket: 3\n",
      "tuner/round: 3\n",
      "tuner/trial_id: cf0b37b48fc6df58d458a6b697fc7242\n",
      "Score: 0.9402203559875488\n",
      "Trial summary\n",
      "Hyperparameters:\n",
      "n_layers: 3\n",
      "n_nodes: 20\n",
      "learning_rate: 0.001\n",
      "act_fun: relu\n",
      "use_dropout: 0\n",
      "dropout_rate: 0.3\n",
      "use_bn: 1\n",
      "out_act_fun: relu\n",
      "batch_size: 32\n",
      "tuner/epochs: 30\n",
      "tuner/initial_epoch: 0\n",
      "tuner/bracket: 0\n",
      "tuner/round: 0\n",
      "Score: 0.9389902353286743\n"
     ]
    }
   ],
   "source": [
    "tuner.results_summary()"
   ]
  },
  {
   "cell_type": "code",
   "execution_count": 245,
   "metadata": {
    "scrolled": true
   },
   "outputs": [
    {
     "name": "stdout",
     "output_type": "stream",
     "text": [
      "WARNING:tensorflow:Please add `keras.layers.InputLayer` instead of `keras.Input` to Sequential model. `keras.Input` is intended to be used by Functional model.\n",
      "Epoch 1/30\n",
      "2090/2090 [==============================] - 6s 2ms/step - loss: 0.2107 - accuracy: 0.9076 - val_loss: 0.2109 - val_accuracy: 0.9191\n",
      "Epoch 2/30\n",
      "2090/2090 [==============================] - 4s 2ms/step - loss: 0.1519 - accuracy: 0.9210 - val_loss: 0.1693 - val_accuracy: 0.9310\n",
      "Epoch 3/30\n",
      "2090/2090 [==============================] - 5s 2ms/step - loss: 0.1386 - accuracy: 0.9284 - val_loss: 0.1750 - val_accuracy: 0.9319\n",
      "Epoch 4/30\n",
      "2090/2090 [==============================] - 4s 2ms/step - loss: 0.1311 - accuracy: 0.9322 - val_loss: 0.1621 - val_accuracy: 0.9337\n",
      "Epoch 5/30\n",
      "2090/2090 [==============================] - 4s 2ms/step - loss: 0.1285 - accuracy: 0.9333 - val_loss: 0.1751 - val_accuracy: 0.9337\n",
      "Epoch 6/30\n",
      "2090/2090 [==============================] - 4s 2ms/step - loss: 0.1256 - accuracy: 0.9347 - val_loss: 0.1499 - val_accuracy: 0.9348\n",
      "Epoch 7/30\n",
      "2090/2090 [==============================] - 5s 2ms/step - loss: 0.1243 - accuracy: 0.9349 - val_loss: 0.1490 - val_accuracy: 0.9343\n",
      "Epoch 8/30\n",
      "2090/2090 [==============================] - 5s 2ms/step - loss: 0.1232 - accuracy: 0.9356 - val_loss: 0.1438 - val_accuracy: 0.9366\n",
      "Epoch 9/30\n",
      "2090/2090 [==============================] - 5s 2ms/step - loss: 0.1229 - accuracy: 0.9354 - val_loss: 0.1361 - val_accuracy: 0.9397\n",
      "Epoch 10/30\n",
      "2090/2090 [==============================] - 5s 2ms/step - loss: 0.1200 - accuracy: 0.9370 - val_loss: 0.1515 - val_accuracy: 0.9390\n",
      "Epoch 11/30\n",
      "2090/2090 [==============================] - 5s 2ms/step - loss: 0.1199 - accuracy: 0.9370 - val_loss: 0.1618 - val_accuracy: 0.9376\n",
      "Epoch 12/30\n",
      "2090/2090 [==============================] - 5s 2ms/step - loss: 0.1174 - accuracy: 0.9381 - val_loss: 0.1367 - val_accuracy: 0.9434\n",
      "Epoch 13/30\n",
      "2090/2090 [==============================] - 5s 2ms/step - loss: 0.1161 - accuracy: 0.9389 - val_loss: 0.1737 - val_accuracy: 0.9372\n",
      "Epoch 14/30\n",
      "2090/2090 [==============================] - 5s 3ms/step - loss: 0.1152 - accuracy: 0.9394 - val_loss: 0.1776 - val_accuracy: 0.9385\n",
      "Epoch 15/30\n",
      "2090/2090 [==============================] - 5s 2ms/step - loss: 0.1132 - accuracy: 0.9407 - val_loss: 0.1321 - val_accuracy: 0.9391\n",
      "Epoch 16/30\n",
      "2090/2090 [==============================] - 5s 2ms/step - loss: 0.1108 - accuracy: 0.9422 - val_loss: 0.1705 - val_accuracy: 0.9306\n",
      "Epoch 17/30\n",
      "2090/2090 [==============================] - 5s 2ms/step - loss: 0.1098 - accuracy: 0.9425 - val_loss: 0.4256 - val_accuracy: 0.9284\n",
      "Epoch 18/30\n",
      "2090/2090 [==============================] - 5s 2ms/step - loss: 0.1116 - accuracy: 0.9418 - val_loss: 0.1382 - val_accuracy: 0.9428\n",
      "Epoch 19/30\n",
      "2090/2090 [==============================] - 5s 2ms/step - loss: 0.1099 - accuracy: 0.9428 - val_loss: 0.1564 - val_accuracy: 0.9414\n",
      "Epoch 20/30\n",
      "2090/2090 [==============================] - 5s 2ms/step - loss: 0.1096 - accuracy: 0.9431 - val_loss: 0.1882 - val_accuracy: 0.9364\n",
      "Epoch 21/30\n",
      "2090/2090 [==============================] - 5s 2ms/step - loss: 0.1081 - accuracy: 0.9440 - val_loss: 0.2147 - val_accuracy: 0.9301\n",
      "Epoch 22/30\n",
      "2090/2090 [==============================] - 5s 2ms/step - loss: 0.1078 - accuracy: 0.9439 - val_loss: 0.1257 - val_accuracy: 0.9468\n",
      "Epoch 23/30\n",
      "2090/2090 [==============================] - 5s 2ms/step - loss: 0.1080 - accuracy: 0.9439 - val_loss: 0.4038 - val_accuracy: 0.9293\n",
      "Epoch 24/30\n",
      "2090/2090 [==============================] - 5s 2ms/step - loss: 0.1065 - accuracy: 0.9444 - val_loss: 0.3882 - val_accuracy: 0.9299\n",
      "Epoch 25/30\n",
      "2090/2090 [==============================] - 5s 2ms/step - loss: 0.1068 - accuracy: 0.9444 - val_loss: 0.2384 - val_accuracy: 0.9302\n",
      "Epoch 26/30\n",
      "2090/2090 [==============================] - 5s 2ms/step - loss: 0.1054 - accuracy: 0.9452 - val_loss: 0.1313 - val_accuracy: 0.9461\n",
      "Epoch 27/30\n",
      "2090/2090 [==============================] - 5s 2ms/step - loss: 0.1085 - accuracy: 0.9432 - val_loss: 0.1770 - val_accuracy: 0.9398\n",
      "Epoch 28/30\n",
      "2090/2090 [==============================] - 5s 2ms/step - loss: 0.1056 - accuracy: 0.9447 - val_loss: 0.1468 - val_accuracy: 0.9371\n",
      "Epoch 29/30\n",
      "2090/2090 [==============================] - 5s 2ms/step - loss: 0.1054 - accuracy: 0.9450 - val_loss: 0.1265 - val_accuracy: 0.9473\n",
      "Epoch 30/30\n",
      "2090/2090 [==============================] - 5s 2ms/step - loss: 0.1043 - accuracy: 0.9456 - val_loss: 0.1620 - val_accuracy: 0.9429\n"
     ]
    }
   ],
   "source": [
    "# Find your best configuration for the DNN\n",
    "\n",
    "# By implementing hyperparameter optimization we found the following parameters to return the best results.n_layers: 4\n",
    "# n_layers: 4\n",
    "# n_nodes: 40\n",
    "# learning_rate: 0.001\n",
    "# act_fun: sigmoid\n",
    "# use_dropout: 0\n",
    "# dropout_rate: 0.1 (can be ignored since use_dropout=False)\n",
    "# use_bn: 1\n",
    "# out_act_fun: sigmoid\n",
    "# batch_size: 256\n",
    "# tuner/epochs: 30\n",
    "\n",
    "\n",
    "batch_size = 256\n",
    "epochs = 30\n",
    "input_shape = (X.shape[1],)\n",
    "\n",
    "# Build and train model\n",
    "model10 = build_DNN(input_shape, \n",
    "                   n_layers=4, \n",
    "                   n_nodes=40, \n",
    "                   learning_rate=0.001, \n",
    "                   optimizer='adam',\n",
    "                   use_bn=True)\n",
    "\n",
    "history10 = model10.fit(Xtrain,\n",
    "                      Ytrain,\n",
    "                      batch_size=batch_size,\n",
    "                      epochs=epochs,\n",
    "                      validation_data=(Xval, Yval), \n",
    "                      class_weight=class_weights)"
   ]
  },
  {
   "cell_type": "code",
   "execution_count": 246,
   "metadata": {},
   "outputs": [
    {
     "name": "stdout",
     "output_type": "stream",
     "text": [
      "3582/3582 [==============================] - 3s 796us/step - loss: 0.1670 - accuracy: 0.9414\n",
      "Test loss: 0.1670\n",
      "Test accuracy: 0.9414\n"
     ]
    }
   ],
   "source": [
    "# Evaluate DNN on test data\n",
    "score = model10.evaluate(Xtest, Ytest)\n",
    "\n",
    "print('Test loss: %.4f' % score[0])\n",
    "print('Test accuracy: %.4f' % score[1])"
   ]
  },
  {
   "cell_type": "code",
   "execution_count": 222,
   "metadata": {},
   "outputs": [
    {
     "data": {
      "image/png": "[encoded data removed]",
      "text/plain": [
       "<Figure size 720x288 with 1 Axes>"
      ]
     },
     "metadata": {
      "needs_background": "light"
     },
     "output_type": "display_data"
    },
    {
     "data": {
      "image/png": "[encoded data removed]",
      "text/plain": [
       "<Figure size 720x288 with 1 Axes>"
      ]
     },
     "metadata": {
      "needs_background": "light"
     },
     "output_type": "display_data"
    }
   ],
   "source": [
    "plot_results(history10)"
   ]
  },
  {
   "cell_type": "markdown",
   "metadata": {},
   "source": [
    "# Part 20: Dropout uncertainty\n",
    "\n",
    "Dropout can also be used during testing, to obtain an estimate of the model uncertainty. Since dropout will randomly remove connections, the network will produce different results every time the same (test) data is put into the network. This technique is called Monte Carlo dropout. For more information, see this paper http://proceedings.mlr.press/v48/gal16.pdf\n",
    "\n",
    "To achieve this, we need to redefine the Keras Dropout call by running the cell below, and use 'myDropout' in each call to Dropout, in the cell that defines the DNN. The `build_DNN` function takes two boolean arguments, use_dropout and use_custom_dropout, add a standard Dropout layer if use_dropout is true, add a myDropout layer if use_custom_dropout is true.\n",
    "\n",
    "Run the same test data through the trained network 100 times, with dropout turned on. \n",
    "\n",
    "Question 21: What is the mean and the standard deviation of the test accuracy?"
   ]
  },
  {
   "cell_type": "code",
   "execution_count": 122,
   "metadata": {},
   "outputs": [],
   "source": [
    "import keras.backend as K\n",
    "import keras\n",
    "\n",
    "class myDropout(keras.layers.Dropout):\n",
    "    \"\"\"Applies Dropout to the input.\n",
    "    Dropout consists in randomly setting\n",
    "    a fraction `rate` of input units to 0 at each update during training time,\n",
    "    which helps prevent overfitting.\n",
    "    # Arguments\n",
    "        rate: float between 0 and 1. Fraction of the input units to drop.\n",
    "        noise_shape: 1D integer tensor representing the shape of the\n",
    "            binary dropout mask that will be multiplied with the input.\n",
    "            For instance, if your inputs have shape\n",
    "            `(batch_size, timesteps, features)` and\n",
    "            you want the dropout mask to be the same for all timesteps,\n",
    "            you can use `noise_shape=(batch_size, 1, features)`.\n",
    "        seed: A Python integer to use as random seed.\n",
    "    # References\n",
    "        - [Dropout: A Simple Way to Prevent Neural Networks from Overfitting](\n",
    "           http://www.jmlr.org/papers/volume15/srivastava14a/srivastava14a.pdf)\n",
    "    \"\"\"\n",
    "    def __init__(self, rate, training=True, noise_shape=None, seed=None, **kwargs):\n",
    "        super(myDropout, self).__init__(rate, noise_shape=None, seed=None,**kwargs)\n",
    "        self.training = training\n",
    "\n",
    "        \n",
    "    def call(self, inputs, training=None):\n",
    "        if 0. < self.rate < 1.:\n",
    "            noise_shape = self._get_noise_shape(inputs)\n",
    "\n",
    "            def dropped_inputs():\n",
    "                return K.dropout(inputs, self.rate, noise_shape,\n",
    "                                 seed=self.seed)\n",
    "            if not training: \n",
    "                return K.in_train_phase(dropped_inputs, inputs, training=self.training)\n",
    "            return K.in_train_phase(dropped_inputs, inputs, training=training)\n",
    "        return inputs"
   ]
  },
  {
   "cell_type": "markdown",
   "metadata": {},
   "source": [
    "### Your best config, custom dropout"
   ]
  },
  {
   "cell_type": "code",
   "execution_count": 247,
   "metadata": {
    "scrolled": true
   },
   "outputs": [
    {
     "name": "stdout",
     "output_type": "stream",
     "text": [
      "WARNING:tensorflow:Please add `keras.layers.InputLayer` instead of `keras.Input` to Sequential model. `keras.Input` is intended to be used by Functional model.\n",
      "Epoch 1/30\n",
      "2090/2090 [==============================] - 7s 3ms/step - loss: 0.3229 - accuracy: 0.8561 - val_loss: 0.2268 - val_accuracy: 0.9144\n",
      "Epoch 2/30\n",
      "2090/2090 [==============================] - 5s 3ms/step - loss: 0.1852 - accuracy: 0.9121 - val_loss: 0.2333 - val_accuracy: 0.9152\n",
      "Epoch 3/30\n",
      "2090/2090 [==============================] - 6s 3ms/step - loss: 0.1827 - accuracy: 0.9130 - val_loss: 0.2281 - val_accuracy: 0.9171\n",
      "Epoch 4/30\n",
      "2090/2090 [==============================] - 5s 3ms/step - loss: 0.1787 - accuracy: 0.9141 - val_loss: 0.2252 - val_accuracy: 0.9174\n",
      "Epoch 5/30\n",
      "2090/2090 [==============================] - 5s 3ms/step - loss: 0.1760 - accuracy: 0.9148 - val_loss: 0.2145 - val_accuracy: 0.9174\n",
      "Epoch 6/30\n",
      "2090/2090 [==============================] - 5s 3ms/step - loss: 0.1735 - accuracy: 0.9153 - val_loss: 0.2108 - val_accuracy: 0.9168\n",
      "Epoch 7/30\n",
      "2090/2090 [==============================] - 6s 3ms/step - loss: 0.1735 - accuracy: 0.9146 - val_loss: 0.2120 - val_accuracy: 0.9172\n",
      "Epoch 8/30\n",
      "2090/2090 [==============================] - 6s 3ms/step - loss: 0.1722 - accuracy: 0.9151 - val_loss: 0.2121 - val_accuracy: 0.9176\n",
      "Epoch 9/30\n",
      "2090/2090 [==============================] - 6s 3ms/step - loss: 0.1723 - accuracy: 0.9151 - val_loss: 0.2135 - val_accuracy: 0.9173\n",
      "Epoch 10/30\n",
      "2090/2090 [==============================] - 5s 3ms/step - loss: 0.1714 - accuracy: 0.9154 - val_loss: 0.2175 - val_accuracy: 0.9175\n",
      "Epoch 11/30\n",
      "2090/2090 [==============================] - 6s 3ms/step - loss: 0.1719 - accuracy: 0.9152 - val_loss: 0.2179 - val_accuracy: 0.9178\n",
      "Epoch 12/30\n",
      "2090/2090 [==============================] - 6s 3ms/step - loss: 0.1702 - accuracy: 0.9159 - val_loss: 0.2126 - val_accuracy: 0.9177\n",
      "Epoch 13/30\n",
      "2090/2090 [==============================] - 5s 3ms/step - loss: 0.1699 - accuracy: 0.9160 - val_loss: 0.2149 - val_accuracy: 0.9175\n",
      "Epoch 14/30\n",
      "2090/2090 [==============================] - 6s 3ms/step - loss: 0.1694 - accuracy: 0.9160 - val_loss: 0.2170 - val_accuracy: 0.9175\n",
      "Epoch 15/30\n",
      "2090/2090 [==============================] - 6s 3ms/step - loss: 0.1698 - accuracy: 0.9157 - val_loss: 0.2140 - val_accuracy: 0.9176\n",
      "Epoch 16/30\n",
      "2090/2090 [==============================] - 6s 3ms/step - loss: 0.1700 - accuracy: 0.9156 - val_loss: 0.2116 - val_accuracy: 0.9180\n",
      "Epoch 17/30\n",
      "2090/2090 [==============================] - 6s 3ms/step - loss: 0.1698 - accuracy: 0.9157 - val_loss: 0.2115 - val_accuracy: 0.9185\n",
      "Epoch 18/30\n",
      "2090/2090 [==============================] - 6s 3ms/step - loss: 0.1681 - accuracy: 0.9168 - val_loss: 0.2067 - val_accuracy: 0.9192\n",
      "Epoch 19/30\n",
      "2090/2090 [==============================] - 6s 3ms/step - loss: 0.1687 - accuracy: 0.9164 - val_loss: 0.2057 - val_accuracy: 0.9183\n",
      "Epoch 20/30\n",
      "2090/2090 [==============================] - 6s 3ms/step - loss: 0.1680 - accuracy: 0.9166 - val_loss: 0.2105 - val_accuracy: 0.9194\n",
      "Epoch 21/30\n",
      "2090/2090 [==============================] - 6s 3ms/step - loss: 0.1676 - accuracy: 0.9172 - val_loss: 0.2065 - val_accuracy: 0.9190\n",
      "Epoch 22/30\n",
      "2090/2090 [==============================] - 6s 3ms/step - loss: 0.1658 - accuracy: 0.9182 - val_loss: 0.2096 - val_accuracy: 0.9190\n",
      "Epoch 23/30\n",
      "2090/2090 [==============================] - 6s 3ms/step - loss: 0.1662 - accuracy: 0.9178 - val_loss: 0.2087 - val_accuracy: 0.9193\n",
      "Epoch 24/30\n",
      "2090/2090 [==============================] - 6s 3ms/step - loss: 0.1666 - accuracy: 0.9173 - val_loss: 0.2087 - val_accuracy: 0.9193\n",
      "Epoch 25/30\n",
      "2090/2090 [==============================] - 6s 3ms/step - loss: 0.1662 - accuracy: 0.9178 - val_loss: 0.2130 - val_accuracy: 0.9195\n",
      "Epoch 26/30\n",
      "2090/2090 [==============================] - 6s 3ms/step - loss: 0.1660 - accuracy: 0.9180 - val_loss: 0.2034 - val_accuracy: 0.9202\n",
      "Epoch 27/30\n",
      "2090/2090 [==============================] - 6s 3ms/step - loss: 0.1656 - accuracy: 0.9181 - val_loss: 0.2051 - val_accuracy: 0.9202\n",
      "Epoch 28/30\n",
      "2090/2090 [==============================] - 6s 3ms/step - loss: 0.1669 - accuracy: 0.9174 - val_loss: 0.2087 - val_accuracy: 0.9199\n",
      "Epoch 29/30\n",
      "2090/2090 [==============================] - 6s 3ms/step - loss: 0.1653 - accuracy: 0.9187 - val_loss: 0.2132 - val_accuracy: 0.9202\n",
      "Epoch 30/30\n",
      "2090/2090 [==============================] - 6s 3ms/step - loss: 0.1653 - accuracy: 0.9188 - val_loss: 0.2064 - val_accuracy: 0.9206\n"
     ]
    }
   ],
   "source": [
    "# Your best training parameters\n",
    "batch_size = 256\n",
    "epochs = 30\n",
    "input_shape = (X.shape[1],)\n",
    "\n",
    "# Build and train model\n",
    "model11 = build_DNN(input_shape, \n",
    "                   n_layers=4, \n",
    "                   n_nodes=40, \n",
    "                   learning_rate=0.001, \n",
    "                   optimizer='adam',\n",
    "                   use_bn=True,\n",
    "                   use_custom_dropout=True)\n",
    "\n",
    "history11 = model11.fit(Xtrain,\n",
    "                      Ytrain,\n",
    "                      batch_size=batch_size,\n",
    "                      epochs=epochs,\n",
    "                      validation_data=(Xval, Yval), \n",
    "                      class_weight=class_weights)"
   ]
  },
  {
   "cell_type": "code",
   "execution_count": 248,
   "metadata": {},
   "outputs": [
    {
     "name": "stdout",
     "output_type": "stream",
     "text": [
      "3582/3582 [==============================] - 3s 856us/step - loss: 0.2088 - accuracy: 0.9193\n",
      "Test accuracy: 0.9193\n"
     ]
    }
   ],
   "source": [
    "# Run this cell a few times to evalute the model on test data, \n",
    "# if you get slightly different test accuracy every time, Dropout during testing is working\n",
    "\n",
    "# Evaluate model on test data\n",
    "score = model11.evaluate(Xtest, Ytest)\n",
    "                       \n",
    "print('Test accuracy: %.4f' % score[1])"
   ]
  },
  {
   "cell_type": "code",
   "execution_count": 249,
   "metadata": {},
   "outputs": [
    {
     "name": "stdout",
     "output_type": "stream",
     "text": [
      "3582/3582 [==============================] - 3s 778us/step - loss: 0.2088 - accuracy: 0.9194\n",
      "3582/3582 [==============================] - 3s 727us/step - loss: 0.2091 - accuracy: 0.9194\n",
      "3582/3582 [==============================] - 3s 735us/step - loss: 0.2094 - accuracy: 0.9190\n",
      "3582/3582 [==============================] - 3s 748us/step - loss: 0.2091 - accuracy: 0.9193\n",
      "3582/3582 [==============================] - 3s 726us/step - loss: 0.2091 - accuracy: 0.9193\n",
      "3582/3582 [==============================] - 3s 726us/step - loss: 0.2085 - accuracy: 0.9195\n",
      "3582/3582 [==============================] - 3s 726us/step - loss: 0.2089 - accuracy: 0.9193\n",
      "3582/3582 [==============================] - 3s 724us/step - loss: 0.2088 - accuracy: 0.9194\n",
      "3582/3582 [==============================] - 3s 715us/step - loss: 0.2092 - accuracy: 0.9191\n",
      "3582/3582 [==============================] - 3s 737us/step - loss: 0.2090 - accuracy: 0.9193\n",
      "3582/3582 [==============================] - 3s 745us/step - loss: 0.2091 - accuracy: 0.9193\n",
      "3582/3582 [==============================] - 3s 731us/step - loss: 0.2089 - accuracy: 0.9196\n",
      "3582/3582 [==============================] - 3s 729us/step - loss: 0.2091 - accuracy: 0.9193\n",
      "3582/3582 [==============================] - 3s 734us/step - loss: 0.2089 - accuracy: 0.9193\n",
      "3582/3582 [==============================] - 3s 722us/step - loss: 0.2089 - accuracy: 0.9192\n",
      "3582/3582 [==============================] - 3s 716us/step - loss: 0.2091 - accuracy: 0.9193\n",
      "3582/3582 [==============================] - 3s 752us/step - loss: 0.2091 - accuracy: 0.9194\n",
      "3582/3582 [==============================] - 3s 726us/step - loss: 0.2091 - accuracy: 0.9193\n",
      "3582/3582 [==============================] - 3s 737us/step - loss: 0.2089 - accuracy: 0.9193\n",
      "3582/3582 [==============================] - 3s 738us/step - loss: 0.2090 - accuracy: 0.9192\n",
      "3582/3582 [==============================] - 3s 741us/step - loss: 0.2084 - accuracy: 0.9197\n",
      "3582/3582 [==============================] - 3s 738us/step - loss: 0.2087 - accuracy: 0.9194\n",
      "3582/3582 [==============================] - 3s 736us/step - loss: 0.2092 - accuracy: 0.9192\n",
      "3582/3582 [==============================] - 3s 746us/step - loss: 0.2093 - accuracy: 0.9192\n",
      "3582/3582 [==============================] - 3s 747us/step - loss: 0.2086 - accuracy: 0.9195\n",
      "3582/3582 [==============================] - 3s 747us/step - loss: 0.2091 - accuracy: 0.9193\n",
      "3582/3582 [==============================] - 3s 765us/step - loss: 0.2089 - accuracy: 0.9195\n",
      "3582/3582 [==============================] - 3s 805us/step - loss: 0.2090 - accuracy: 0.9194\n",
      "3582/3582 [==============================] - 3s 764us/step - loss: 0.2091 - accuracy: 0.9194\n",
      "3582/3582 [==============================] - 3s 735us/step - loss: 0.2088 - accuracy: 0.9194\n",
      "3582/3582 [==============================] - 3s 733us/step - loss: 0.2090 - accuracy: 0.9193\n",
      "3582/3582 [==============================] - 3s 734us/step - loss: 0.2091 - accuracy: 0.9195\n",
      "3582/3582 [==============================] - 3s 723us/step - loss: 0.2090 - accuracy: 0.9193\n",
      "3582/3582 [==============================] - 3s 738us/step - loss: 0.2090 - accuracy: 0.9194\n",
      "3582/3582 [==============================] - 3s 739us/step - loss: 0.2090 - accuracy: 0.9194\n",
      "3582/3582 [==============================] - 3s 741us/step - loss: 0.2090 - accuracy: 0.9194\n",
      "3582/3582 [==============================] - 3s 739us/step - loss: 0.2090 - accuracy: 0.9194\n",
      "3582/3582 [==============================] - 3s 743us/step - loss: 0.2089 - accuracy: 0.9194\n",
      "3582/3582 [==============================] - 3s 738us/step - loss: 0.2091 - accuracy: 0.9195\n",
      "3582/3582 [==============================] - 3s 736us/step - loss: 0.2087 - accuracy: 0.9195\n",
      "3582/3582 [==============================] - 3s 732us/step - loss: 0.2086 - accuracy: 0.9196\n",
      "3582/3582 [==============================] - 3s 737us/step - loss: 0.2090 - accuracy: 0.9192\n",
      "3582/3582 [==============================] - 3s 743us/step - loss: 0.2089 - accuracy: 0.9193\n",
      "3582/3582 [==============================] - 3s 741us/step - loss: 0.2092 - accuracy: 0.9192\n",
      "3582/3582 [==============================] - 3s 730us/step - loss: 0.2093 - accuracy: 0.9193\n",
      "3582/3582 [==============================] - 3s 734us/step - loss: 0.2089 - accuracy: 0.9195\n",
      "3582/3582 [==============================] - 3s 742us/step - loss: 0.2090 - accuracy: 0.9194\n",
      "3582/3582 [==============================] - 3s 746us/step - loss: 0.2093 - accuracy: 0.9192\n",
      "3582/3582 [==============================] - 3s 741us/step - loss: 0.2091 - accuracy: 0.9193\n",
      "3582/3582 [==============================] - 3s 746us/step - loss: 0.2093 - accuracy: 0.9192\n",
      "3582/3582 [==============================] - 3s 749us/step - loss: 0.2089 - accuracy: 0.9194\n",
      "3582/3582 [==============================] - 3s 741us/step - loss: 0.2090 - accuracy: 0.9194\n",
      "3582/3582 [==============================] - 3s 742us/step - loss: 0.2090 - accuracy: 0.9193\n",
      "3582/3582 [==============================] - 3s 750us/step - loss: 0.2089 - accuracy: 0.9193\n",
      "3582/3582 [==============================] - 3s 747us/step - loss: 0.2093 - accuracy: 0.9192\n",
      "3582/3582 [==============================] - 3s 746us/step - loss: 0.2090 - accuracy: 0.9194\n",
      "3582/3582 [==============================] - 3s 743us/step - loss: 0.2090 - accuracy: 0.9193\n",
      "3582/3582 [==============================] - 3s 753us/step - loss: 0.2092 - accuracy: 0.9192\n",
      "3582/3582 [==============================] - 3s 742us/step - loss: 0.2087 - accuracy: 0.9193\n",
      "3582/3582 [==============================] - 3s 747us/step - loss: 0.2089 - accuracy: 0.9194\n",
      "3582/3582 [==============================] - 3s 743us/step - loss: 0.2092 - accuracy: 0.9193\n",
      "3582/3582 [==============================] - 3s 745us/step - loss: 0.2090 - accuracy: 0.9194\n",
      "3582/3582 [==============================] - 3s 745us/step - loss: 0.2088 - accuracy: 0.9194\n",
      "3582/3582 [==============================] - 3s 749us/step - loss: 0.2087 - accuracy: 0.9194\n",
      "3582/3582 [==============================] - 3s 754us/step - loss: 0.2088 - accuracy: 0.9194\n",
      "3582/3582 [==============================] - 3s 751us/step - loss: 0.2090 - accuracy: 0.9194\n",
      "3582/3582 [==============================] - 3s 752us/step - loss: 0.2090 - accuracy: 0.9194\n",
      "3582/3582 [==============================] - 3s 767us/step - loss: 0.2091 - accuracy: 0.9193\n",
      "3582/3582 [==============================] - 3s 753us/step - loss: 0.2091 - accuracy: 0.9191\n",
      "3582/3582 [==============================] - 3s 760us/step - loss: 0.2092 - accuracy: 0.9193\n",
      "3582/3582 [==============================] - 3s 760us/step - loss: 0.2091 - accuracy: 0.9194\n",
      "3582/3582 [==============================] - 3s 777us/step - loss: 0.2090 - accuracy: 0.9194\n",
      "3582/3582 [==============================] - 3s 773us/step - loss: 0.2092 - accuracy: 0.9194\n",
      "3582/3582 [==============================] - 3s 767us/step - loss: 0.2090 - accuracy: 0.9193\n",
      "3582/3582 [==============================] - 3s 756us/step - loss: 0.2092 - accuracy: 0.9191\n",
      "3582/3582 [==============================] - 3s 763us/step - loss: 0.2090 - accuracy: 0.9191\n",
      "3582/3582 [==============================] - 3s 743us/step - loss: 0.2089 - accuracy: 0.9196\n",
      "3582/3582 [==============================] - 3s 757us/step - loss: 0.2091 - accuracy: 0.9192\n",
      "3582/3582 [==============================] - 3s 755us/step - loss: 0.2094 - accuracy: 0.9192\n",
      "3582/3582 [==============================] - 3s 752us/step - loss: 0.2088 - accuracy: 0.9194\n",
      "3582/3582 [==============================] - 3s 749us/step - loss: 0.2092 - accuracy: 0.9193\n",
      "3582/3582 [==============================] - 3s 745us/step - loss: 0.2087 - accuracy: 0.9193\n",
      "3582/3582 [==============================] - 3s 753us/step - loss: 0.2093 - accuracy: 0.9193\n",
      "3582/3582 [==============================] - 3s 747us/step - loss: 0.2092 - accuracy: 0.9193\n",
      "3582/3582 [==============================] - 3s 750us/step - loss: 0.2089 - accuracy: 0.9193\n",
      "3582/3582 [==============================] - 3s 772us/step - loss: 0.2092 - accuracy: 0.9192\n",
      "3582/3582 [==============================] - 3s 912us/step - loss: 0.2090 - accuracy: 0.9195\n"
     ]
    },
    {
     "name": "stdout",
     "output_type": "stream",
     "text": [
      "3582/3582 [==============================] - 3s 838us/step - loss: 0.2090 - accuracy: 0.9193\n",
      "3582/3582 [==============================] - 3s 759us/step - loss: 0.2091 - accuracy: 0.9193\n",
      "3582/3582 [==============================] - 3s 722us/step - loss: 0.2088 - accuracy: 0.9194\n",
      "3582/3582 [==============================] - 3s 772us/step - loss: 0.2090 - accuracy: 0.9193\n",
      "3582/3582 [==============================] - 3s 936us/step - loss: 0.2090 - accuracy: 0.9194\n",
      "3582/3582 [==============================] - 3s 914us/step - loss: 0.2091 - accuracy: 0.9192\n",
      "3582/3582 [==============================] - 3s 839us/step - loss: 0.2091 - accuracy: 0.9192\n",
      "3582/3582 [==============================] - 3s 783us/step - loss: 0.2092 - accuracy: 0.9194\n",
      "3582/3582 [==============================] - 3s 865us/step - loss: 0.2090 - accuracy: 0.9194\n",
      "3582/3582 [==============================] - 3s 841us/step - loss: 0.2088 - accuracy: 0.9194\n",
      "3582/3582 [==============================] - 3s 760us/step - loss: 0.2087 - accuracy: 0.9194\n",
      "3582/3582 [==============================] - 3s 770us/step - loss: 0.2088 - accuracy: 0.9194\n",
      "Mean: 0.9193406725170636\n",
      "Std: 0.00011291050872139227\n"
     ]
    }
   ],
   "source": [
    "# Run the testing 100 times, and save the accuracies in an array\n",
    "results = []\n",
    "\n",
    "for _ in range(1,100):\n",
    "    results.append(model11.evaluate(Xtest, Ytest)[1])\n",
    "    \n",
    "# Calculate and print mean and std of accuracies\n",
    "print(f\"Mean: {np.mean(results)}\\nStd: {np.std(results)}\")\n"
   ]
  },
  {
   "cell_type": "markdown",
   "metadata": {},
   "source": [
    "# Part 21: Cross validation uncertainty\n",
    "\n",
    "Cross validation (CV) is often used to evaluate a model, by training and testing using different subsets of the data it is possible to get the uncertainty as the standard deviation over folds. We here use a help function from scikit-learn to setup the CV, see https://scikit-learn.org/stable/modules/generated/sklearn.model_selection.StratifiedKFold.html . Use 10 folds with shuffling, random state 1234. \n",
    "\n",
    "Note: We here assume that you have found the best hyper parameters, so here the data are only split into training and testing, no validation.\n",
    "\n",
    "---\n",
    "\n",
    "Question 22: What is the mean and the standard deviation of the test accuracy?\n",
    "\n",
    "Question 23: What is the main advantage of dropout compared to CV for estimating test uncertainty? The difference may not be so large in this notebook, but imagine that you have a network that takes 24 hours to train."
   ]
  },
  {
   "cell_type": "code",
   "execution_count": 250,
   "metadata": {},
   "outputs": [
    {
     "name": "stdout",
     "output_type": "stream",
     "text": [
      "TRAIN: [     0      1      2 ... 764134 764135 764136] TEST: [    18     28     33 ... 764111 764114 764116]\n",
      "WARNING:tensorflow:Please add `keras.layers.InputLayer` instead of `keras.Input` to Sequential model. `keras.Input` is intended to be used by Functional model.\n"
     ]
    },
    {
     "name": "stderr",
     "output_type": "stream",
     "text": [
      "/Users/yuki/opt/miniconda3/envs/deeplearning/lib/python3.9/site-packages/sklearn/utils/validation.py:70: FutureWarning: Pass classes=[0 1], y=[0 0 0 ... 1 1 1] as keyword args. From version 1.0 (renaming of 0.25) passing these as positional arguments will result in an error\n",
      "  warnings.warn(f\"Pass {args_msg} as keyword args. From version \"\n"
     ]
    },
    {
     "name": "stdout",
     "output_type": "stream",
     "text": [
      "Epoch 1/30\n",
      "2687/2687 [==============================] - 8s 2ms/step - loss: 0.1953 - accuracy: 0.9122\n",
      "Epoch 2/30\n",
      "2687/2687 [==============================] - 6s 2ms/step - loss: 0.1401 - accuracy: 0.9282\n",
      "Epoch 3/30\n",
      "2687/2687 [==============================] - 5s 2ms/step - loss: 0.1311 - accuracy: 0.9328\n",
      "Epoch 4/30\n",
      "2687/2687 [==============================] - 6s 2ms/step - loss: 0.1273 - accuracy: 0.9341\n",
      "Epoch 5/30\n",
      "2687/2687 [==============================] - 5s 2ms/step - loss: 0.1259 - accuracy: 0.9351\n",
      "Epoch 6/30\n",
      "2687/2687 [==============================] - 5s 2ms/step - loss: 0.1234 - accuracy: 0.9359\n",
      "Epoch 7/30\n",
      "2687/2687 [==============================] - 5s 2ms/step - loss: 0.1201 - accuracy: 0.9372\n",
      "Epoch 8/30\n",
      "2687/2687 [==============================] - 5s 2ms/step - loss: 0.1180 - accuracy: 0.9382\n",
      "Epoch 9/30\n",
      "2687/2687 [==============================] - 5s 2ms/step - loss: 0.1137 - accuracy: 0.9411\n",
      "Epoch 10/30\n",
      "2687/2687 [==============================] - 5s 2ms/step - loss: 0.1130 - accuracy: 0.9414\n",
      "Epoch 11/30\n",
      "2687/2687 [==============================] - 5s 2ms/step - loss: 0.1105 - accuracy: 0.9427\n",
      "Epoch 12/30\n",
      "2687/2687 [==============================] - 5s 2ms/step - loss: 0.1111 - accuracy: 0.9423\n",
      "Epoch 13/30\n",
      "2687/2687 [==============================] - 5s 2ms/step - loss: 0.1104 - accuracy: 0.9429\n",
      "Epoch 14/30\n",
      "2687/2687 [==============================] - 5s 2ms/step - loss: 0.1072 - accuracy: 0.9445\n",
      "Epoch 15/30\n",
      "2687/2687 [==============================] - 5s 2ms/step - loss: 0.1071 - accuracy: 0.9448\n",
      "Epoch 16/30\n",
      "2687/2687 [==============================] - 5s 2ms/step - loss: 0.1063 - accuracy: 0.9451\n",
      "Epoch 17/30\n",
      "2687/2687 [==============================] - 5s 2ms/step - loss: 0.1047 - accuracy: 0.9458\n",
      "Epoch 18/30\n",
      "2687/2687 [==============================] - 5s 2ms/step - loss: 0.1115 - accuracy: 0.9415\n",
      "Epoch 19/30\n",
      "2687/2687 [==============================] - 5s 2ms/step - loss: 0.1131 - accuracy: 0.9393\n",
      "Epoch 20/30\n",
      "2687/2687 [==============================] - 5s 2ms/step - loss: 0.1078 - accuracy: 0.9438\n",
      "Epoch 21/30\n",
      "2687/2687 [==============================] - 5s 2ms/step - loss: 0.1045 - accuracy: 0.9456\n",
      "Epoch 22/30\n",
      "2687/2687 [==============================] - 5s 2ms/step - loss: 0.1041 - accuracy: 0.9460\n",
      "Epoch 23/30\n",
      "2687/2687 [==============================] - 5s 2ms/step - loss: 0.1056 - accuracy: 0.9452\n",
      "Epoch 24/30\n",
      "2687/2687 [==============================] - 5s 2ms/step - loss: 0.1037 - accuracy: 0.9462\n",
      "Epoch 25/30\n",
      "2687/2687 [==============================] - 5s 2ms/step - loss: 0.1026 - accuracy: 0.9467\n",
      "Epoch 26/30\n",
      "2687/2687 [==============================] - 5s 2ms/step - loss: 0.1040 - accuracy: 0.9461\n",
      "Epoch 27/30\n",
      "2687/2687 [==============================] - 5s 2ms/step - loss: 0.1027 - accuracy: 0.9464\n",
      "Epoch 28/30\n",
      "2687/2687 [==============================] - 5s 2ms/step - loss: 0.1021 - accuracy: 0.9465\n",
      "Epoch 29/30\n",
      "2687/2687 [==============================] - 5s 2ms/step - loss: 0.1026 - accuracy: 0.9466\n",
      "Epoch 30/30\n",
      "2687/2687 [==============================] - 5s 2ms/step - loss: 0.1025 - accuracy: 0.9464\n",
      "3582/3582 [==============================] - 3s 655us/step - loss: 0.1678 - accuracy: 0.9372\n",
      "TRAIN: [     0      1      2 ... 764134 764135 764136] TEST: [     9     15     26 ... 764097 764123 764125]\n",
      "WARNING:tensorflow:Please add `keras.layers.InputLayer` instead of `keras.Input` to Sequential model. `keras.Input` is intended to be used by Functional model.\n",
      "Epoch 1/30\n",
      "2687/2687 [==============================] - 7s 2ms/step - loss: 0.2031 - accuracy: 0.9066\n",
      "Epoch 2/30\n",
      "2687/2687 [==============================] - 5s 2ms/step - loss: 0.1426 - accuracy: 0.9276\n",
      "Epoch 3/30\n",
      "2687/2687 [==============================] - 5s 2ms/step - loss: 0.1319 - accuracy: 0.9327\n",
      "Epoch 4/30\n",
      "2687/2687 [==============================] - 5s 2ms/step - loss: 0.1282 - accuracy: 0.9342\n",
      "Epoch 5/30\n",
      "2687/2687 [==============================] - 5s 2ms/step - loss: 0.1251 - accuracy: 0.9352\n",
      "Epoch 6/30\n",
      "2687/2687 [==============================] - 5s 2ms/step - loss: 0.1240 - accuracy: 0.9352\n",
      "Epoch 7/30\n",
      "2687/2687 [==============================] - 5s 2ms/step - loss: 0.1232 - accuracy: 0.9353\n",
      "Epoch 8/30\n",
      "2687/2687 [==============================] - 5s 2ms/step - loss: 0.1207 - accuracy: 0.9365\n",
      "Epoch 9/30\n",
      "2687/2687 [==============================] - 5s 2ms/step - loss: 0.1191 - accuracy: 0.9376\n",
      "Epoch 10/30\n",
      "2687/2687 [==============================] - 5s 2ms/step - loss: 0.1154 - accuracy: 0.9397\n",
      "Epoch 11/30\n",
      "2687/2687 [==============================] - 5s 2ms/step - loss: 0.1136 - accuracy: 0.9410\n",
      "Epoch 12/30\n",
      "2687/2687 [==============================] - 5s 2ms/step - loss: 0.1121 - accuracy: 0.9419\n",
      "Epoch 13/30\n",
      "2687/2687 [==============================] - 5s 2ms/step - loss: 0.1100 - accuracy: 0.9431\n",
      "Epoch 14/30\n",
      "2687/2687 [==============================] - 5s 2ms/step - loss: 0.1101 - accuracy: 0.9433\n",
      "Epoch 15/30\n",
      "2687/2687 [==============================] - 5s 2ms/step - loss: 0.1106 - accuracy: 0.9425\n",
      "Epoch 16/30\n",
      "2687/2687 [==============================] - 5s 2ms/step - loss: 0.1085 - accuracy: 0.9439\n",
      "Epoch 17/30\n",
      "2687/2687 [==============================] - 5s 2ms/step - loss: 0.1082 - accuracy: 0.9442\n",
      "Epoch 18/30\n",
      "2687/2687 [==============================] - 5s 2ms/step - loss: 0.1064 - accuracy: 0.9450\n",
      "Epoch 19/30\n",
      "2687/2687 [==============================] - 5s 2ms/step - loss: 0.1059 - accuracy: 0.9455\n",
      "Epoch 20/30\n",
      "2687/2687 [==============================] - 5s 2ms/step - loss: 0.1059 - accuracy: 0.9452\n",
      "Epoch 21/30\n",
      "2687/2687 [==============================] - 5s 2ms/step - loss: 0.1050 - accuracy: 0.9457\n",
      "Epoch 22/30\n",
      "2687/2687 [==============================] - 5s 2ms/step - loss: 0.1059 - accuracy: 0.9451\n",
      "Epoch 23/30\n",
      "2687/2687 [==============================] - 5s 2ms/step - loss: 0.1059 - accuracy: 0.9452\n",
      "Epoch 24/30\n",
      "2687/2687 [==============================] - 5s 2ms/step - loss: 0.1079 - accuracy: 0.9440\n",
      "Epoch 25/30\n",
      "2687/2687 [==============================] - 5s 2ms/step - loss: 0.1039 - accuracy: 0.9463\n",
      "Epoch 26/30\n",
      "2687/2687 [==============================] - 5s 2ms/step - loss: 0.1035 - accuracy: 0.9465\n",
      "Epoch 27/30\n",
      "2687/2687 [==============================] - 5s 2ms/step - loss: 0.1061 - accuracy: 0.9446\n",
      "Epoch 28/30\n",
      "2687/2687 [==============================] - 5s 2ms/step - loss: 0.1035 - accuracy: 0.9464\n",
      "Epoch 29/30\n",
      "2687/2687 [==============================] - 5s 2ms/step - loss: 0.1109 - accuracy: 0.9413\n",
      "Epoch 30/30\n",
      "2687/2687 [==============================] - 5s 2ms/step - loss: 0.1032 - accuracy: 0.9466\n",
      "3582/3582 [==============================] - 3s 661us/step - loss: 0.2383 - accuracy: 0.9295\n",
      "TRAIN: [     0      1      2 ... 764133 764134 764136] TEST: [    11     12     19 ... 764127 764130 764135]\n",
      "WARNING:tensorflow:Please add `keras.layers.InputLayer` instead of `keras.Input` to Sequential model. `keras.Input` is intended to be used by Functional model.\n",
      "Epoch 1/30\n",
      "2687/2687 [==============================] - 7s 2ms/step - loss: 0.2020 - accuracy: 0.9090\n",
      "Epoch 2/30\n",
      "2687/2687 [==============================] - 5s 2ms/step - loss: 0.1412 - accuracy: 0.9277\n",
      "Epoch 3/30\n",
      "2687/2687 [==============================] - 5s 2ms/step - loss: 0.1315 - accuracy: 0.9324\n",
      "Epoch 4/30\n",
      "2687/2687 [==============================] - 5s 2ms/step - loss: 0.1278 - accuracy: 0.9341\n",
      "Epoch 5/30\n",
      "2687/2687 [==============================] - 5s 2ms/step - loss: 0.1263 - accuracy: 0.9345\n",
      "Epoch 6/30\n",
      "2687/2687 [==============================] - 5s 2ms/step - loss: 0.1246 - accuracy: 0.9348\n",
      "Epoch 7/30\n",
      "2687/2687 [==============================] - 5s 2ms/step - loss: 0.1221 - accuracy: 0.9360\n",
      "Epoch 8/30\n",
      "2687/2687 [==============================] - 5s 2ms/step - loss: 0.1213 - accuracy: 0.9362\n",
      "Epoch 9/30\n",
      "2687/2687 [==============================] - 5s 2ms/step - loss: 0.1208 - accuracy: 0.9360\n",
      "Epoch 10/30\n",
      "2687/2687 [==============================] - 5s 2ms/step - loss: 0.1179 - accuracy: 0.9376\n",
      "Epoch 11/30\n",
      "2687/2687 [==============================] - 5s 2ms/step - loss: 0.1181 - accuracy: 0.9379\n",
      "Epoch 12/30\n",
      "2687/2687 [==============================] - 5s 2ms/step - loss: 0.1159 - accuracy: 0.9392\n",
      "Epoch 13/30\n"
     ]
    },
    {
     "name": "stdout",
     "output_type": "stream",
     "text": [
      "2687/2687 [==============================] - 5s 2ms/step - loss: 0.1147 - accuracy: 0.9398\n",
      "Epoch 14/30\n",
      "2687/2687 [==============================] - 5s 2ms/step - loss: 0.1119 - accuracy: 0.9414\n",
      "Epoch 15/30\n",
      "2687/2687 [==============================] - 5s 2ms/step - loss: 0.1110 - accuracy: 0.9423\n",
      "Epoch 16/30\n",
      "2687/2687 [==============================] - 5s 2ms/step - loss: 0.1098 - accuracy: 0.9434\n",
      "Epoch 17/30\n",
      "2687/2687 [==============================] - 5s 2ms/step - loss: 0.1072 - accuracy: 0.9444\n",
      "Epoch 18/30\n",
      "2687/2687 [==============================] - 5s 2ms/step - loss: 0.1068 - accuracy: 0.9452\n",
      "Epoch 19/30\n",
      "2687/2687 [==============================] - 5s 2ms/step - loss: 0.1063 - accuracy: 0.9454\n",
      "Epoch 20/30\n",
      "2687/2687 [==============================] - 5s 2ms/step - loss: 0.1061 - accuracy: 0.9453\n",
      "Epoch 21/30\n",
      "2687/2687 [==============================] - 5s 2ms/step - loss: 0.1065 - accuracy: 0.9452\n",
      "Epoch 22/30\n",
      "2687/2687 [==============================] - 5s 2ms/step - loss: 0.1051 - accuracy: 0.9459\n",
      "Epoch 23/30\n",
      "2687/2687 [==============================] - 5s 2ms/step - loss: 0.1090 - accuracy: 0.9429\n",
      "Epoch 24/30\n",
      "2687/2687 [==============================] - 5s 2ms/step - loss: 0.1044 - accuracy: 0.9461\n",
      "Epoch 25/30\n",
      "2687/2687 [==============================] - 5s 2ms/step - loss: 0.1037 - accuracy: 0.9466\n",
      "Epoch 26/30\n",
      "2687/2687 [==============================] - 5s 2ms/step - loss: 0.1103 - accuracy: 0.9421\n",
      "Epoch 27/30\n",
      "2687/2687 [==============================] - 5s 2ms/step - loss: 0.1029 - accuracy: 0.9470\n",
      "Epoch 28/30\n",
      "2687/2687 [==============================] - 5s 2ms/step - loss: 0.1027 - accuracy: 0.9470\n",
      "Epoch 29/30\n",
      "2687/2687 [==============================] - 5s 2ms/step - loss: 0.1027 - accuracy: 0.9471\n",
      "Epoch 30/30\n",
      "2687/2687 [==============================] - 5s 2ms/step - loss: 0.1020 - accuracy: 0.9473\n",
      "3582/3582 [==============================] - 3s 643us/step - loss: 0.1444 - accuracy: 0.9378\n",
      "TRAIN: [     0      1      2 ... 764134 764135 764136] TEST: [     3      7     13 ... 764101 764102 764104]\n",
      "WARNING:tensorflow:Please add `keras.layers.InputLayer` instead of `keras.Input` to Sequential model. `keras.Input` is intended to be used by Functional model.\n",
      "Epoch 1/30\n",
      "2687/2687 [==============================] - 7s 2ms/step - loss: 0.2014 - accuracy: 0.9073\n",
      "Epoch 2/30\n",
      "2687/2687 [==============================] - 6s 2ms/step - loss: 0.1413 - accuracy: 0.9275\n",
      "Epoch 3/30\n",
      "2687/2687 [==============================] - 5s 2ms/step - loss: 0.1312 - accuracy: 0.9329\n",
      "Epoch 4/30\n",
      "2687/2687 [==============================] - 5s 2ms/step - loss: 0.1273 - accuracy: 0.9341\n",
      "Epoch 5/30\n",
      "2687/2687 [==============================] - 5s 2ms/step - loss: 0.1254 - accuracy: 0.9347\n",
      "Epoch 6/30\n",
      "2687/2687 [==============================] - 5s 2ms/step - loss: 0.1242 - accuracy: 0.9352\n",
      "Epoch 7/30\n",
      "2687/2687 [==============================] - 5s 2ms/step - loss: 0.1218 - accuracy: 0.9362\n",
      "Epoch 8/30\n",
      "2687/2687 [==============================] - 5s 2ms/step - loss: 0.1204 - accuracy: 0.9362\n",
      "Epoch 9/30\n",
      "2687/2687 [==============================] - 5s 2ms/step - loss: 0.1176 - accuracy: 0.9374\n",
      "Epoch 10/30\n",
      "2687/2687 [==============================] - 5s 2ms/step - loss: 0.1164 - accuracy: 0.9384\n",
      "Epoch 11/30\n",
      "2687/2687 [==============================] - 5s 2ms/step - loss: 0.1150 - accuracy: 0.9392\n",
      "Epoch 12/30\n",
      "2687/2687 [==============================] - 5s 2ms/step - loss: 0.1133 - accuracy: 0.9401\n",
      "Epoch 13/30\n",
      "2687/2687 [==============================] - 5s 2ms/step - loss: 0.1121 - accuracy: 0.9407\n",
      "Epoch 14/30\n",
      "2687/2687 [==============================] - 5s 2ms/step - loss: 0.1120 - accuracy: 0.9410\n",
      "Epoch 15/30\n",
      "2687/2687 [==============================] - 5s 2ms/step - loss: 0.1094 - accuracy: 0.9428\n",
      "Epoch 16/30\n",
      "2687/2687 [==============================] - 5s 2ms/step - loss: 0.1076 - accuracy: 0.9438\n",
      "Epoch 17/30\n",
      "2687/2687 [==============================] - 5s 2ms/step - loss: 0.1068 - accuracy: 0.9443\n",
      "Epoch 18/30\n",
      "2687/2687 [==============================] - 5s 2ms/step - loss: 0.1072 - accuracy: 0.9439\n",
      "Epoch 19/30\n",
      "2687/2687 [==============================] - 5s 2ms/step - loss: 0.1058 - accuracy: 0.9447\n",
      "Epoch 20/30\n",
      "2687/2687 [==============================] - 5s 2ms/step - loss: 0.1055 - accuracy: 0.9450\n",
      "Epoch 21/30\n",
      "2687/2687 [==============================] - 5s 2ms/step - loss: 0.1064 - accuracy: 0.9443\n",
      "Epoch 22/30\n",
      "2687/2687 [==============================] - 5s 2ms/step - loss: 0.1051 - accuracy: 0.9451\n",
      "Epoch 23/30\n",
      "2687/2687 [==============================] - 5s 2ms/step - loss: 0.1046 - accuracy: 0.9454\n",
      "Epoch 24/30\n",
      "2687/2687 [==============================] - 5s 2ms/step - loss: 0.1037 - accuracy: 0.9460\n",
      "Epoch 25/30\n",
      "2687/2687 [==============================] - 5s 2ms/step - loss: 0.1042 - accuracy: 0.9455\n",
      "Epoch 26/30\n",
      "2687/2687 [==============================] - 5s 2ms/step - loss: 0.1036 - accuracy: 0.9464\n",
      "Epoch 27/30\n",
      "2687/2687 [==============================] - 5s 2ms/step - loss: 0.1036 - accuracy: 0.9465\n",
      "Epoch 28/30\n",
      "2687/2687 [==============================] - 6s 2ms/step - loss: 0.1035 - accuracy: 0.9465\n",
      "Epoch 29/30\n",
      "2687/2687 [==============================] - 5s 2ms/step - loss: 0.1016 - accuracy: 0.9473\n",
      "Epoch 30/30\n",
      "2687/2687 [==============================] - 5s 2ms/step - loss: 0.1024 - accuracy: 0.9471\n",
      "3582/3582 [==============================] - 3s 629us/step - loss: 0.1831 - accuracy: 0.9312\n",
      "TRAIN: [     0      1      2 ... 764134 764135 764136] TEST: [     5      6     14 ... 764119 764121 764129]\n",
      "WARNING:tensorflow:Please add `keras.layers.InputLayer` instead of `keras.Input` to Sequential model. `keras.Input` is intended to be used by Functional model.\n",
      "Epoch 1/30\n",
      "2687/2687 [==============================] - 7s 2ms/step - loss: 0.1974 - accuracy: 0.9114\n",
      "Epoch 2/30\n",
      "2687/2687 [==============================] - 5s 2ms/step - loss: 0.1405 - accuracy: 0.9279\n",
      "Epoch 3/30\n",
      "2687/2687 [==============================] - 5s 2ms/step - loss: 0.1326 - accuracy: 0.9318\n",
      "Epoch 4/30\n",
      "2687/2687 [==============================] - 5s 2ms/step - loss: 0.1277 - accuracy: 0.9338\n",
      "Epoch 5/30\n",
      "2687/2687 [==============================] - 5s 2ms/step - loss: 0.1266 - accuracy: 0.9343\n",
      "Epoch 6/30\n",
      "2687/2687 [==============================] - 5s 2ms/step - loss: 0.1236 - accuracy: 0.9358\n",
      "Epoch 7/30\n",
      "2687/2687 [==============================] - 5s 2ms/step - loss: 0.1227 - accuracy: 0.9358\n",
      "Epoch 8/30\n",
      "2687/2687 [==============================] - 5s 2ms/step - loss: 0.1210 - accuracy: 0.9364\n",
      "Epoch 9/30\n",
      "2687/2687 [==============================] - 5s 2ms/step - loss: 0.1200 - accuracy: 0.9367\n",
      "Epoch 10/30\n",
      "2687/2687 [==============================] - 5s 2ms/step - loss: 0.1206 - accuracy: 0.9365\n",
      "Epoch 11/30\n",
      "2687/2687 [==============================] - 5s 2ms/step - loss: 0.1192 - accuracy: 0.9368\n",
      "Epoch 12/30\n",
      "2687/2687 [==============================] - 5s 2ms/step - loss: 0.1181 - accuracy: 0.9375\n",
      "Epoch 13/30\n",
      "2687/2687 [==============================] - 5s 2ms/step - loss: 0.1180 - accuracy: 0.9374\n",
      "Epoch 14/30\n",
      "2687/2687 [==============================] - 5s 2ms/step - loss: 0.1151 - accuracy: 0.9395\n",
      "Epoch 15/30\n",
      "2687/2687 [==============================] - 5s 2ms/step - loss: 0.1124 - accuracy: 0.9410\n",
      "Epoch 16/30\n",
      "2687/2687 [==============================] - 5s 2ms/step - loss: 0.1105 - accuracy: 0.9425\n",
      "Epoch 17/30\n",
      "2687/2687 [==============================] - 5s 2ms/step - loss: 0.1102 - accuracy: 0.9428\n",
      "Epoch 18/30\n",
      "2687/2687 [==============================] - 5s 2ms/step - loss: 0.1084 - accuracy: 0.9438\n",
      "Epoch 19/30\n",
      "2687/2687 [==============================] - 5s 2ms/step - loss: 0.1072 - accuracy: 0.9447\n",
      "Epoch 20/30\n",
      "2687/2687 [==============================] - 5s 2ms/step - loss: 0.1068 - accuracy: 0.9448: 0s - loss:\n",
      "Epoch 21/30\n",
      "2687/2687 [==============================] - 5s 2ms/step - loss: 0.1062 - accuracy: 0.9453\n",
      "Epoch 22/30\n",
      "2687/2687 [==============================] - 5s 2ms/step - loss: 0.1050 - accuracy: 0.9456\n",
      "Epoch 23/30\n",
      "2687/2687 [==============================] - 5s 2ms/step - loss: 0.1058 - accuracy: 0.9452\n",
      "Epoch 24/30\n",
      "2687/2687 [==============================] - 5s 2ms/step - loss: 0.1051 - accuracy: 0.9456\n",
      "Epoch 25/30\n"
     ]
    },
    {
     "name": "stdout",
     "output_type": "stream",
     "text": [
      "2687/2687 [==============================] - 5s 2ms/step - loss: 0.1041 - accuracy: 0.9463\n",
      "Epoch 26/30\n",
      "2687/2687 [==============================] - 5s 2ms/step - loss: 0.1042 - accuracy: 0.9462\n",
      "Epoch 27/30\n",
      "2687/2687 [==============================] - 5s 2ms/step - loss: 0.1040 - accuracy: 0.9464\n",
      "Epoch 28/30\n",
      "2687/2687 [==============================] - 5s 2ms/step - loss: 0.1030 - accuracy: 0.9465\n",
      "Epoch 29/30\n",
      "2687/2687 [==============================] - 5s 2ms/step - loss: 0.1030 - accuracy: 0.9467\n",
      "Epoch 30/30\n",
      "2687/2687 [==============================] - 5s 2ms/step - loss: 0.1031 - accuracy: 0.9468\n",
      "3582/3582 [==============================] - 3s 631us/step - loss: 0.3069 - accuracy: 0.9302\n",
      "TRAIN: [     1      2      3 ... 764133 764134 764135] TEST: [     0     24     29 ... 764108 764124 764136]\n",
      "WARNING:tensorflow:Please add `keras.layers.InputLayer` instead of `keras.Input` to Sequential model. `keras.Input` is intended to be used by Functional model.\n",
      "Epoch 1/30\n",
      "2687/2687 [==============================] - 8s 2ms/step - loss: 0.2034 - accuracy: 0.9078\n",
      "Epoch 2/30\n",
      "2687/2687 [==============================] - 5s 2ms/step - loss: 0.1448 - accuracy: 0.9252\n",
      "Epoch 3/30\n",
      "2687/2687 [==============================] - 5s 2ms/step - loss: 0.1332 - accuracy: 0.9316\n",
      "Epoch 4/30\n",
      "2687/2687 [==============================] - 5s 2ms/step - loss: 0.1280 - accuracy: 0.9335\n",
      "Epoch 5/30\n",
      "2687/2687 [==============================] - 5s 2ms/step - loss: 0.1268 - accuracy: 0.9341\n",
      "Epoch 6/30\n",
      "2687/2687 [==============================] - 5s 2ms/step - loss: 0.1252 - accuracy: 0.9345\n",
      "Epoch 7/30\n",
      "2687/2687 [==============================] - 5s 2ms/step - loss: 0.1225 - accuracy: 0.9360\n",
      "Epoch 8/30\n",
      "2687/2687 [==============================] - 5s 2ms/step - loss: 0.1220 - accuracy: 0.9358\n",
      "Epoch 9/30\n",
      "2687/2687 [==============================] - 5s 2ms/step - loss: 0.1205 - accuracy: 0.9369\n",
      "Epoch 10/30\n",
      "2687/2687 [==============================] - 5s 2ms/step - loss: 0.1195 - accuracy: 0.9368\n",
      "Epoch 11/30\n",
      "2687/2687 [==============================] - 5s 2ms/step - loss: 0.1198 - accuracy: 0.9368\n",
      "Epoch 12/30\n",
      "2687/2687 [==============================] - 5s 2ms/step - loss: 0.1194 - accuracy: 0.9370\n",
      "Epoch 13/30\n",
      "2687/2687 [==============================] - 5s 2ms/step - loss: 0.1152 - accuracy: 0.9394\n",
      "Epoch 14/30\n",
      "2687/2687 [==============================] - 5s 2ms/step - loss: 0.1123 - accuracy: 0.9413\n",
      "Epoch 15/30\n",
      "2687/2687 [==============================] - 5s 2ms/step - loss: 0.1095 - accuracy: 0.9431\n",
      "Epoch 16/30\n",
      "2687/2687 [==============================] - 5s 2ms/step - loss: 0.1087 - accuracy: 0.9434\n",
      "Epoch 17/30\n",
      "2687/2687 [==============================] - 5s 2ms/step - loss: 0.1080 - accuracy: 0.9441\n",
      "Epoch 18/30\n",
      "2687/2687 [==============================] - 5s 2ms/step - loss: 0.1080 - accuracy: 0.9444\n",
      "Epoch 19/30\n",
      "2687/2687 [==============================] - 5s 2ms/step - loss: 0.1069 - accuracy: 0.9446\n",
      "Epoch 20/30\n",
      "2687/2687 [==============================] - 5s 2ms/step - loss: 0.1056 - accuracy: 0.9456\n",
      "Epoch 21/30\n",
      "2687/2687 [==============================] - 5s 2ms/step - loss: 0.1069 - accuracy: 0.9447\n",
      "Epoch 22/30\n",
      "2687/2687 [==============================] - 6s 2ms/step - loss: 0.1044 - accuracy: 0.9461\n",
      "Epoch 23/30\n",
      "2687/2687 [==============================] - 6s 2ms/step - loss: 0.1055 - accuracy: 0.9454\n",
      "Epoch 24/30\n",
      "2687/2687 [==============================] - 6s 2ms/step - loss: 0.1047 - accuracy: 0.9459\n",
      "Epoch 25/30\n",
      "2687/2687 [==============================] - 6s 2ms/step - loss: 0.1034 - accuracy: 0.9465\n",
      "Epoch 26/30\n",
      "2687/2687 [==============================] - 5s 2ms/step - loss: 0.1035 - accuracy: 0.9467\n",
      "Epoch 27/30\n",
      "2687/2687 [==============================] - 5s 2ms/step - loss: 0.1042 - accuracy: 0.9459\n",
      "Epoch 28/30\n",
      "2687/2687 [==============================] - 5s 2ms/step - loss: 0.1041 - accuracy: 0.9460\n",
      "Epoch 29/30\n",
      "2687/2687 [==============================] - 5s 2ms/step - loss: 0.1031 - accuracy: 0.9466\n",
      "Epoch 30/30\n",
      "2687/2687 [==============================] - 6s 2ms/step - loss: 0.1035 - accuracy: 0.9464\n",
      "3582/3582 [==============================] - 3s 667us/step - loss: 0.1657 - accuracy: 0.9392\n",
      "TRAIN: [     0      1      2 ... 764134 764135 764136] TEST: [     4     10     30 ... 764094 764096 764113]\n",
      "WARNING:tensorflow:Please add `keras.layers.InputLayer` instead of `keras.Input` to Sequential model. `keras.Input` is intended to be used by Functional model.\n",
      "Epoch 1/30\n",
      "2687/2687 [==============================] - 7s 2ms/step - loss: 0.1960 - accuracy: 0.9116\n",
      "Epoch 2/30\n",
      "2687/2687 [==============================] - 5s 2ms/step - loss: 0.1441 - accuracy: 0.9257\n",
      "Epoch 3/30\n",
      "2687/2687 [==============================] - 5s 2ms/step - loss: 0.1328 - accuracy: 0.9317\n",
      "Epoch 4/30\n",
      "2687/2687 [==============================] - 5s 2ms/step - loss: 0.1295 - accuracy: 0.9328\n",
      "Epoch 5/30\n",
      "2687/2687 [==============================] - 5s 2ms/step - loss: 0.1258 - accuracy: 0.9345\n",
      "Epoch 6/30\n",
      "2687/2687 [==============================] - 5s 2ms/step - loss: 0.1250 - accuracy: 0.9343\n",
      "Epoch 7/30\n",
      "2687/2687 [==============================] - 5s 2ms/step - loss: 0.1235 - accuracy: 0.9350\n",
      "Epoch 8/30\n",
      "2687/2687 [==============================] - 5s 2ms/step - loss: 0.1222 - accuracy: 0.9354\n",
      "Epoch 9/30\n",
      "2687/2687 [==============================] - 5s 2ms/step - loss: 0.1207 - accuracy: 0.9362\n",
      "Epoch 10/30\n",
      "2687/2687 [==============================] - 5s 2ms/step - loss: 0.1215 - accuracy: 0.9354\n",
      "Epoch 11/30\n",
      "2687/2687 [==============================] - 5s 2ms/step - loss: 0.1179 - accuracy: 0.9373\n",
      "Epoch 12/30\n",
      "2687/2687 [==============================] - 5s 2ms/step - loss: 0.1185 - accuracy: 0.9372\n",
      "Epoch 13/30\n",
      "2687/2687 [==============================] - 6s 2ms/step - loss: 0.1168 - accuracy: 0.9378\n",
      "Epoch 14/30\n",
      "2687/2687 [==============================] - 5s 2ms/step - loss: 0.1164 - accuracy: 0.9382\n",
      "Epoch 15/30\n",
      "2687/2687 [==============================] - 5s 2ms/step - loss: 0.1154 - accuracy: 0.9390\n",
      "Epoch 16/30\n",
      "2687/2687 [==============================] - 5s 2ms/step - loss: 0.1140 - accuracy: 0.9396\n",
      "Epoch 17/30\n",
      "2687/2687 [==============================] - 5s 2ms/step - loss: 0.1125 - accuracy: 0.9408\n",
      "Epoch 18/30\n",
      "2687/2687 [==============================] - 5s 2ms/step - loss: 0.1138 - accuracy: 0.9398\n",
      "Epoch 19/30\n",
      "2687/2687 [==============================] - 6s 2ms/step - loss: 0.1127 - accuracy: 0.9405\n",
      "Epoch 20/30\n",
      "2687/2687 [==============================] - 5s 2ms/step - loss: 0.1112 - accuracy: 0.9409\n",
      "Epoch 21/30\n",
      "2687/2687 [==============================] - 6s 2ms/step - loss: 0.1081 - accuracy: 0.9433\n",
      "Epoch 22/30\n",
      "2687/2687 [==============================] - 7s 3ms/step - loss: 0.1070 - accuracy: 0.9438\n",
      "Epoch 23/30\n",
      "2687/2687 [==============================] - 6s 2ms/step - loss: 0.1060 - accuracy: 0.9446\n",
      "Epoch 24/30\n",
      "2687/2687 [==============================] - 6s 2ms/step - loss: 0.1055 - accuracy: 0.9447\n",
      "Epoch 25/30\n",
      "2687/2687 [==============================] - 6s 2ms/step - loss: 0.1058 - accuracy: 0.9443\n",
      "Epoch 26/30\n",
      "2687/2687 [==============================] - 6s 2ms/step - loss: 0.1045 - accuracy: 0.9454\n",
      "Epoch 27/30\n",
      "2687/2687 [==============================] - 6s 2ms/step - loss: 0.1042 - accuracy: 0.9453\n",
      "Epoch 28/30\n",
      "2687/2687 [==============================] - 6s 2ms/step - loss: 0.1047 - accuracy: 0.9452\n",
      "Epoch 29/30\n",
      "2687/2687 [==============================] - 6s 2ms/step - loss: 0.1073 - accuracy: 0.9434\n",
      "Epoch 30/30\n",
      "2687/2687 [==============================] - 6s 2ms/step - loss: 0.1048 - accuracy: 0.9452\n",
      "3582/3582 [==============================] - 4s 900us/step - loss: 0.1775 - accuracy: 0.9378\n",
      "TRAIN: [     0      1      3 ... 764133 764135 764136] TEST: [     2      8     61 ... 764115 764126 764134]\n",
      "WARNING:tensorflow:Please add `keras.layers.InputLayer` instead of `keras.Input` to Sequential model. `keras.Input` is intended to be used by Functional model.\n",
      "Epoch 1/30\n",
      "2687/2687 [==============================] - 8s 2ms/step - loss: 0.2014 - accuracy: 0.9076\n",
      "Epoch 2/30\n",
      "2687/2687 [==============================] - 6s 2ms/step - loss: 0.1418 - accuracy: 0.9272\n",
      "Epoch 3/30\n",
      "2687/2687 [==============================] - 6s 2ms/step - loss: 0.1319 - accuracy: 0.9318\n",
      "Epoch 4/30\n"
     ]
    },
    {
     "name": "stdout",
     "output_type": "stream",
     "text": [
      "2687/2687 [==============================] - 6s 2ms/step - loss: 0.1282 - accuracy: 0.9334\n",
      "Epoch 5/30\n",
      "2687/2687 [==============================] - 6s 2ms/step - loss: 0.1269 - accuracy: 0.9338\n",
      "Epoch 6/30\n",
      "2687/2687 [==============================] - 6s 2ms/step - loss: 0.1239 - accuracy: 0.9352\n",
      "Epoch 7/30\n",
      "2687/2687 [==============================] - 6s 2ms/step - loss: 0.1210 - accuracy: 0.9366\n",
      "Epoch 8/30\n",
      "2687/2687 [==============================] - 6s 2ms/step - loss: 0.1189 - accuracy: 0.9380\n",
      "Epoch 9/30\n",
      "2687/2687 [==============================] - 6s 2ms/step - loss: 0.1167 - accuracy: 0.9391\n",
      "Epoch 10/30\n",
      "2687/2687 [==============================] - 6s 2ms/step - loss: 0.1146 - accuracy: 0.9401\n",
      "Epoch 11/30\n",
      "2687/2687 [==============================] - 6s 2ms/step - loss: 0.1134 - accuracy: 0.9408\n",
      "Epoch 12/30\n",
      "2687/2687 [==============================] - 6s 2ms/step - loss: 0.1143 - accuracy: 0.9404\n",
      "Epoch 13/30\n",
      "2687/2687 [==============================] - 6s 2ms/step - loss: 0.1114 - accuracy: 0.9423\n",
      "Epoch 14/30\n",
      "2687/2687 [==============================] - 5s 2ms/step - loss: 0.1140 - accuracy: 0.9406\n",
      "Epoch 15/30\n",
      "2687/2687 [==============================] - 5s 2ms/step - loss: 0.1130 - accuracy: 0.9404\n",
      "Epoch 16/30\n",
      "2687/2687 [==============================] - 5s 2ms/step - loss: 0.1108 - accuracy: 0.9421\n",
      "Epoch 17/30\n",
      "2687/2687 [==============================] - 5s 2ms/step - loss: 0.1081 - accuracy: 0.9439\n",
      "Epoch 18/30\n",
      "2687/2687 [==============================] - 5s 2ms/step - loss: 0.1075 - accuracy: 0.9442\n",
      "Epoch 19/30\n",
      "2687/2687 [==============================] - 5s 2ms/step - loss: 0.1132 - accuracy: 0.9406\n",
      "Epoch 20/30\n",
      "2687/2687 [==============================] - 5s 2ms/step - loss: 0.1062 - accuracy: 0.9448\n",
      "Epoch 21/30\n",
      "2687/2687 [==============================] - 5s 2ms/step - loss: 0.1067 - accuracy: 0.9448\n",
      "Epoch 22/30\n",
      "2687/2687 [==============================] - 5s 2ms/step - loss: 0.1047 - accuracy: 0.9457\n",
      "Epoch 23/30\n",
      "2687/2687 [==============================] - 5s 2ms/step - loss: 0.1071 - accuracy: 0.9440\n",
      "Epoch 24/30\n",
      "2687/2687 [==============================] - 6s 2ms/step - loss: 0.1042 - accuracy: 0.9460\n",
      "Epoch 25/30\n",
      "2687/2687 [==============================] - 5s 2ms/step - loss: 0.1049 - accuracy: 0.9454\n",
      "Epoch 26/30\n",
      "2687/2687 [==============================] - 5s 2ms/step - loss: 0.1031 - accuracy: 0.9468\n",
      "Epoch 27/30\n",
      "2687/2687 [==============================] - 6s 2ms/step - loss: 0.1033 - accuracy: 0.9465\n",
      "Epoch 28/30\n",
      "2687/2687 [==============================] - 5s 2ms/step - loss: 0.1036 - accuracy: 0.9465\n",
      "Epoch 29/30\n",
      "2687/2687 [==============================] - 5s 2ms/step - loss: 0.1045 - accuracy: 0.9458\n",
      "Epoch 30/30\n",
      "2687/2687 [==============================] - 5s 2ms/step - loss: 0.1041 - accuracy: 0.9460\n",
      "3582/3582 [==============================] - 3s 696us/step - loss: 0.1209 - accuracy: 0.9484\n",
      "TRAIN: [     0      1      2 ... 764134 764135 764136] TEST: [    17     21     25 ... 764057 764100 764132]\n",
      "WARNING:tensorflow:Please add `keras.layers.InputLayer` instead of `keras.Input` to Sequential model. `keras.Input` is intended to be used by Functional model.\n",
      "Epoch 1/30\n",
      "2687/2687 [==============================] - 7s 2ms/step - loss: 0.1965 - accuracy: 0.9100\n",
      "Epoch 2/30\n",
      "2687/2687 [==============================] - 5s 2ms/step - loss: 0.1424 - accuracy: 0.9271\n",
      "Epoch 3/30\n",
      "2687/2687 [==============================] - 5s 2ms/step - loss: 0.1307 - accuracy: 0.9329\n",
      "Epoch 4/30\n",
      "2687/2687 [==============================] - 6s 2ms/step - loss: 0.1282 - accuracy: 0.9338\n",
      "Epoch 5/30\n",
      "2687/2687 [==============================] - 5s 2ms/step - loss: 0.1261 - accuracy: 0.9343\n",
      "Epoch 6/30\n",
      "2687/2687 [==============================] - 6s 2ms/step - loss: 0.1229 - accuracy: 0.9359\n",
      "Epoch 7/30\n",
      "2687/2687 [==============================] - 5s 2ms/step - loss: 0.1216 - accuracy: 0.9362\n",
      "Epoch 8/30\n",
      "2687/2687 [==============================] - 5s 2ms/step - loss: 0.1178 - accuracy: 0.9388\n",
      "Epoch 9/30\n",
      "2687/2687 [==============================] - 5s 2ms/step - loss: 0.1166 - accuracy: 0.9397\n",
      "Epoch 10/30\n",
      "2687/2687 [==============================] - 5s 2ms/step - loss: 0.1140 - accuracy: 0.9411\n",
      "Epoch 11/30\n",
      "2687/2687 [==============================] - 5s 2ms/step - loss: 0.1132 - accuracy: 0.9417\n",
      "Epoch 12/30\n",
      "2687/2687 [==============================] - 5s 2ms/step - loss: 0.1121 - accuracy: 0.9419\n",
      "Epoch 13/30\n",
      "2687/2687 [==============================] - 6s 2ms/step - loss: 0.1137 - accuracy: 0.9410\n",
      "Epoch 14/30\n",
      "2687/2687 [==============================] - 5s 2ms/step - loss: 0.1088 - accuracy: 0.9440\n",
      "Epoch 15/30\n",
      "2687/2687 [==============================] - 5s 2ms/step - loss: 0.1116 - accuracy: 0.9419\n",
      "Epoch 16/30\n",
      "2687/2687 [==============================] - 5s 2ms/step - loss: 0.1097 - accuracy: 0.9431\n",
      "Epoch 17/30\n",
      "2687/2687 [==============================] - 5s 2ms/step - loss: 0.1155 - accuracy: 0.9395\n",
      "Epoch 18/30\n",
      "2687/2687 [==============================] - 5s 2ms/step - loss: 0.1071 - accuracy: 0.9446\n",
      "Epoch 19/30\n",
      "2687/2687 [==============================] - 5s 2ms/step - loss: 0.1102 - accuracy: 0.9424\n",
      "Epoch 20/30\n",
      "2687/2687 [==============================] - 5s 2ms/step - loss: 0.1079 - accuracy: 0.9438\n",
      "Epoch 21/30\n",
      "2687/2687 [==============================] - 5s 2ms/step - loss: 0.1087 - accuracy: 0.9434\n",
      "Epoch 22/30\n",
      "2687/2687 [==============================] - 5s 2ms/step - loss: 0.1079 - accuracy: 0.9437\n",
      "Epoch 23/30\n",
      "2687/2687 [==============================] - 5s 2ms/step - loss: 0.1084 - accuracy: 0.9435\n",
      "Epoch 24/30\n",
      "2687/2687 [==============================] - 5s 2ms/step - loss: 0.1063 - accuracy: 0.9449\n",
      "Epoch 25/30\n",
      "2687/2687 [==============================] - 5s 2ms/step - loss: 0.1036 - accuracy: 0.9462\n",
      "Epoch 26/30\n",
      "2687/2687 [==============================] - 5s 2ms/step - loss: 0.1128 - accuracy: 0.9400\n",
      "Epoch 27/30\n",
      "2687/2687 [==============================] - 6s 2ms/step - loss: 0.1093 - accuracy: 0.9426\n",
      "Epoch 28/30\n",
      "2687/2687 [==============================] - 5s 2ms/step - loss: 0.1051 - accuracy: 0.9453\n",
      "Epoch 29/30\n",
      "2687/2687 [==============================] - 6s 2ms/step - loss: 0.1043 - accuracy: 0.9458\n",
      "Epoch 30/30\n",
      "2687/2687 [==============================] - 5s 2ms/step - loss: 0.1046 - accuracy: 0.9454\n",
      "3582/3582 [==============================] - 3s 677us/step - loss: 0.1226 - accuracy: 0.9444\n",
      "TRAIN: [     0      2      3 ... 764134 764135 764136] TEST: [     1     54     64 ... 764128 764131 764133]\n",
      "WARNING:tensorflow:Please add `keras.layers.InputLayer` instead of `keras.Input` to Sequential model. `keras.Input` is intended to be used by Functional model.\n",
      "Epoch 1/30\n",
      "2687/2687 [==============================] - 7s 2ms/step - loss: 0.1938 - accuracy: 0.9120\n",
      "Epoch 2/30\n",
      "2687/2687 [==============================] - 5s 2ms/step - loss: 0.1388 - accuracy: 0.9292\n",
      "Epoch 3/30\n",
      "2687/2687 [==============================] - 5s 2ms/step - loss: 0.1310 - accuracy: 0.9329\n",
      "Epoch 4/30\n",
      "2687/2687 [==============================] - 5s 2ms/step - loss: 0.1263 - accuracy: 0.9346\n",
      "Epoch 5/30\n",
      "2687/2687 [==============================] - 5s 2ms/step - loss: 0.1248 - accuracy: 0.9351\n",
      "Epoch 6/30\n",
      "2687/2687 [==============================] - 6s 2ms/step - loss: 0.1248 - accuracy: 0.9349\n",
      "Epoch 7/30\n",
      "2687/2687 [==============================] - 6s 2ms/step - loss: 0.1222 - accuracy: 0.9363\n",
      "Epoch 8/30\n",
      "2687/2687 [==============================] - 6s 2ms/step - loss: 0.1208 - accuracy: 0.9364\n",
      "Epoch 9/30\n",
      "2687/2687 [==============================] - 6s 2ms/step - loss: 0.1199 - accuracy: 0.9364\n",
      "Epoch 10/30\n",
      "2687/2687 [==============================] - 6s 2ms/step - loss: 0.1198 - accuracy: 0.9366\n",
      "Epoch 11/30\n",
      "2687/2687 [==============================] - 6s 2ms/step - loss: 0.1191 - accuracy: 0.9368\n",
      "Epoch 12/30\n",
      "2687/2687 [==============================] - 6s 2ms/step - loss: 0.1177 - accuracy: 0.9372\n",
      "Epoch 13/30\n",
      "2687/2687 [==============================] - 6s 2ms/step - loss: 0.1175 - accuracy: 0.9374\n",
      "Epoch 14/30\n",
      "2687/2687 [==============================] - 6s 2ms/step - loss: 0.1161 - accuracy: 0.9385\n",
      "Epoch 15/30\n",
      "2687/2687 [==============================] - 6s 2ms/step - loss: 0.1147 - accuracy: 0.9392\n",
      "Epoch 16/30\n"
     ]
    },
    {
     "name": "stdout",
     "output_type": "stream",
     "text": [
      "2687/2687 [==============================] - 6s 2ms/step - loss: 0.1149 - accuracy: 0.9389\n",
      "Epoch 17/30\n",
      "2687/2687 [==============================] - 5s 2ms/step - loss: 0.1127 - accuracy: 0.9403\n",
      "Epoch 18/30\n",
      "2687/2687 [==============================] - 6s 2ms/step - loss: 0.1122 - accuracy: 0.9404\n",
      "Epoch 19/30\n",
      "2687/2687 [==============================] - 6s 2ms/step - loss: 0.1134 - accuracy: 0.9399\n",
      "Epoch 20/30\n",
      "2687/2687 [==============================] - 6s 2ms/step - loss: 0.1090 - accuracy: 0.9430\n",
      "Epoch 21/30\n",
      "2687/2687 [==============================] - 5s 2ms/step - loss: 0.1097 - accuracy: 0.9416\n",
      "Epoch 22/30\n",
      "2687/2687 [==============================] - 5s 2ms/step - loss: 0.1068 - accuracy: 0.9440\n",
      "Epoch 23/30\n",
      "2687/2687 [==============================] - 5s 2ms/step - loss: 0.1072 - accuracy: 0.9436\n",
      "Epoch 24/30\n",
      "2687/2687 [==============================] - 5s 2ms/step - loss: 0.1058 - accuracy: 0.9444\n",
      "Epoch 25/30\n",
      "2687/2687 [==============================] - 5s 2ms/step - loss: 0.1053 - accuracy: 0.9448\n",
      "Epoch 26/30\n",
      "2687/2687 [==============================] - 5s 2ms/step - loss: 0.1054 - accuracy: 0.9450\n",
      "Epoch 27/30\n",
      "2687/2687 [==============================] - 5s 2ms/step - loss: 0.1053 - accuracy: 0.9447\n",
      "Epoch 28/30\n",
      "2687/2687 [==============================] - 5s 2ms/step - loss: 0.1048 - accuracy: 0.9450\n",
      "Epoch 29/30\n",
      "2687/2687 [==============================] - 5s 2ms/step - loss: 0.1054 - accuracy: 0.9448\n",
      "Epoch 30/30\n",
      "2687/2687 [==============================] - 6s 2ms/step - loss: 0.1045 - accuracy: 0.9452\n",
      "3582/3582 [==============================] - 3s 666us/step - loss: 0.3257 - accuracy: 0.9299\n"
     ]
    }
   ],
   "source": [
    "from sklearn.model_selection import StratifiedKFold\n",
    "\n",
    "# Store results\n",
    "results_cv = {}\n",
    "\n",
    "# Define 10-fold cross validation\n",
    "skf = StratifiedKFold(n_splits=10, random_state=1234, shuffle=True)\n",
    "\n",
    "i = 1\n",
    "# Loop over cross validation folds\n",
    "for train_index, test_index in skf.split(X, Y):\n",
    "    print(\"TRAIN:\", train_index, \"TEST:\", test_index)\n",
    "    X_train, X_test = X[train_index], X[test_index]\n",
    "    y_train, y_test = Y[train_index], Y[test_index] \n",
    "    \n",
    "    # Calculate class weights for current split\n",
    "    class_weights = class_weight.compute_class_weight(\"balanced\", np.unique(y_train), y_train)\n",
    "    class_weights = {0: class_weights[0], 1: class_weights[1]}\n",
    "    \n",
    "    # Rebuild the DNN model, to not continue training on the previously trained model\n",
    "    batch_size = 256\n",
    "    epochs = 30\n",
    "    input_shape = (X_train.shape[1],)\n",
    "\n",
    "    # Build and train model\n",
    "    model12 = build_DNN(input_shape, \n",
    "                       n_layers=4, \n",
    "                       n_nodes=40, \n",
    "                       learning_rate=0.001, \n",
    "                       optimizer='adam',\n",
    "                       use_bn=True)\n",
    "\n",
    "\n",
    "    # Fit the model with training set and class weights for this fold\n",
    "    history12 = model12.fit(X_train,\n",
    "                          y_train,\n",
    "                          batch_size=batch_size,\n",
    "                          epochs=epochs,\n",
    "                          class_weight=class_weights)\n",
    "    \n",
    "    # Evaluate the model using the test set for this fold\n",
    "    score = model12.evaluate(Xtest, Ytest)\n",
    "    # Save the test accuracy in an array\n",
    "    \n",
    "    results_cv[i] = score[1]\n",
    "    i += 1\n"
   ]
  },
  {
   "cell_type": "code",
   "execution_count": 251,
   "metadata": {},
   "outputs": [
    {
     "name": "stdout",
     "output_type": "stream",
     "text": [
      "Accuracies for each fold\n",
      "############################\n",
      "1-Fold: 0.9371581077575684\n",
      "2-Fold: 0.929515540599823\n",
      "3-Fold: 0.9378037452697754\n",
      "4-Fold: 0.931208074092865\n",
      "5-Fold: 0.9302047491073608\n",
      "6-Fold: 0.9391734600067139\n",
      "7-Fold: 0.937838613986969\n",
      "8-Fold: 0.9484387636184692\n",
      "9-Fold: 0.9443818926811218\n",
      "10-Fold: 0.9298645257949829\n",
      "############################\n",
      "\n",
      "Mean accuracy: 0.936558747291565\n",
      "Std accuracy: 0.006133048055742219\n"
     ]
    }
   ],
   "source": [
    "from numpy import array\n",
    "\n",
    "# Calculate and print mean and std of accuracies\n",
    "print(\"Accuracies for each fold\")\n",
    "print(\"############################\")\n",
    "for k, v in results_cv.items():\n",
    "    print(f\"{k}-Fold: {v}\")\n",
    "print(\"############################\\n\")\n",
    "\n",
    "\n",
    "print(f\"Mean accuracy: {array([*results_cv.values()]).mean()}\")\n",
    "print(f\"Std accuracy: {array([*results_cv.values()]).std()}\")"
   ]
  },
  {
   "cell_type": "markdown",
   "metadata": {},
   "source": [
    "# Part 22: DNN regression\n",
    "\n",
    "A similar DNN can be used for regression, instead of classification.\n",
    "\n",
    "Question 24: How would you change the DNN in order to use it for regression instead?"
   ]
  },
  {
   "cell_type": "markdown",
   "metadata": {},
   "source": [
    "## Report\n",
    "\n",
    "Send in this jupyter notebook, with answers to all questions."
   ]
  }
 ],
 "metadata": {
  "kernelspec": {
   "display_name": "Python 3",
   "language": "python",
   "name": "python3"
  },
  "language_info": {
   "codemirror_mode": {
    "name": "ipython",
    "version": 3
   },
   "file_extension": ".py",
   "mimetype": "text/x-python",
   "name": "python",
   "nbconvert_exporter": "python",
   "pygments_lexer": "ipython3",
   "version": "3.9.2"
  }
 },
 "nbformat": 4,
 "nbformat_minor": 4
}
