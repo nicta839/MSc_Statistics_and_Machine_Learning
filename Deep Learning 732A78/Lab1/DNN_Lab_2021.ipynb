{
 "cells": [
  {
   "cell_type": "markdown",
   "metadata": {},
   "source": [
    "# Deep Neural Networks Laboration\n",
    "\n",
    "Data used in this laboration are from the Kitsune Network Attack Dataset, https://archive.ics.uci.edu/ml/datasets/Kitsune+Network+Attack+Dataset . We will focus on the 'Mirai' part of the dataset. Your task is to make a DNN that can classify if each attack is benign or malicious. The dataset has 116 covariates, but to make it a bit more difficult we will remove the first 24 covariates.\n",
    "\n",
    "You need to answer all questions in this notebook."
   ]
  },
  {
   "cell_type": "markdown",
   "metadata": {},
   "source": [
    "# Part 1: Get the data\n",
    "\n",
    "Skip this part if you load stored numpy arrays (Mirai*.npy) (which is recommended)\n",
    "\n",
    "Use `wget` in the terminal of your cloud machine (in the same directory as where you have saved this notebook) to download the data, i.e.\n",
    "\n",
    "wget https://archive.ics.uci.edu/ml/machine-learning-databases/00516/mirai/Mirai_dataset.csv.gz\n",
    "\n",
    "wget https://archive.ics.uci.edu/ml/machine-learning-databases/00516/mirai/Mirai_labels.csv.gz\n",
    "\n",
    "Then unpack the files using `gunzip` in the terminal, i.e.\n",
    "\n",
    "gunzip Mirai_dataset.csv.gz\n",
    "\n",
    "gunzip Mirai_labels.csv.gz"
   ]
  },
  {
   "cell_type": "markdown",
   "metadata": {},
   "source": [
    "# Part 2: Get a graphics card\n",
    "\n",
    "Skip this part if you run on the CPU\n",
    "\n",
    "Lets make sure that our script can see the graphics card that will be used. The graphics cards will perform all the time consuming calculations in every training iteration."
   ]
  },
  {
   "cell_type": "code",
   "execution_count": null,
   "metadata": {},
   "outputs": [],
   "source": [
    "import os\n",
    "import warnings\n",
    "\n",
    "# Ignore FutureWarning from numpy\n",
    "warnings.simplefilter(action='ignore', category=FutureWarning)\n",
    "\n",
    "import keras.backend as K\n",
    "import tensorflow as tf\n",
    "\n",
    "os.environ[\"CUDA_DEVICE_ORDER\"]=\"PCI_BUS_ID\";\n",
    " \n",
    "# The GPU id to use, usually either \"0\" or \"1\";\n",
    "os.environ[\"CUDA_VISIBLE_DEVICES\"]=\"0\";\n",
    "\n",
    "# Allow growth of GPU memory, otherwise it will always look like all the memory is being used\n",
    "physical_devices = tf.config.experimental.list_physical_devices('GPU')\n",
    "tf.config.experimental.set_memory_growth(physical_devices[0], True) "
   ]
  },
  {
   "cell_type": "markdown",
   "metadata": {},
   "source": [
    "# Part 3: Hardware\n",
    "\n",
    "Skip questions 1, 2, 3, 5, 6 if you use your own computer.\n",
    "\n",
    "In deep learning, the computer hardware is very important. You should always know what kind of hardware you are working on.\n",
    "\n",
    "Question 1: What graphics card is available in the cloud machine? Run 'nvidia-smi' in the terminal. \n",
    "\n",
    "Question 2: Google the name of the graphics card, how many CUDA cores does it have?\n",
    "\n",
    "Question 3: How much memory does the graphics card have?\n",
    "\n",
    "Question 4: What is stored in the GPU memory while training a DNN ?\n",
    "\n",
    "Answer: \n",
    "\n",
    "Question 5: What CPU is available in the cloud machine? How many cores does it have? Run 'lscpu' in the terminal.\n",
    "\n",
    "Question 6: How much CPU memory (RAM) is available in the cloud machine? Run 'free -g' in the terminal."
   ]
  },
  {
   "cell_type": "markdown",
   "metadata": {},
   "source": [
    "# Part 4: Load the data\n",
    "\n",
    "To make this step easier, directly load the data from saved numpy arrays (.npy) (recommended)\n",
    "\n",
    "\n",
    "Load the dataset from the csv files, it will take some time since it is almost 1.4 GB. \n",
    "\n",
    "We will use the function `genfromtxt` to load the data.\n",
    "\n",
    "https://docs.scipy.org/doc/numpy/reference/generated/numpy.genfromtxt.html\n",
    "\n",
    "Load the data from csv files the first time, then save the data as numpy files for faster loading the next time.\n"
   ]
  },
  {
   "cell_type": "code",
   "execution_count": 1,
   "metadata": {},
   "outputs": [
    {
     "name": "stdout",
     "output_type": "stream",
     "text": [
      "The covariates have size (764137, 92).\n",
      "The labels have size (764137,).\n",
      "################\n",
      "# cls | number #\n",
      "################\n",
      "# 0.0 | 121621 #\n",
      "# 1.0 | 642516 #\n",
      "################\n"
     ]
    }
   ],
   "source": [
    "from numpy import genfromtxt\n",
    "import numpy as np\n",
    "\n",
    "\n",
    "# Load data from numpy arrays\n",
    "X = np.load('Mirai_data.npy')\n",
    "Y = np.load('Mirai_labels.npy')\n",
    "\n",
    "# Remove the first 24 covariates (columns)\n",
    "X = np.delete(X, np.s_[0:24], 1)\n",
    "\n",
    "print('The covariates have size {}.'.format(X.shape))\n",
    "print('The labels have size {}.'.format(Y.shape))\n",
    "\n",
    "# Print the number of examples of each class\n",
    "unique, counts = np.unique(Y, return_counts=True)\n",
    "print('################')\n",
    "print('# cls | number #')\n",
    "print('################')\n",
    "for cls, count in zip(unique, counts):\n",
    "    print(f'# {cls} | {count} #')\n",
    "print('################')"
   ]
  },
  {
   "cell_type": "markdown",
   "metadata": {},
   "source": [
    "# Part 5: How good is a naive classifier?\n",
    "\n",
    "Question 7: Given the number of examples from each class, how high classification performance can a naive classifier obtain? The naive classifier will assume that all examples belong to one class. Note: you do not need to make a naive classifier, this is a theoretical question, just to understand how good performance we can obtain by guessing that all examples belong to one class."
   ]
  },
  {
   "cell_type": "code",
   "execution_count": 2,
   "metadata": {},
   "outputs": [
    {
     "name": "stdout",
     "output_type": "stream",
     "text": [
      "Number of NaNs in labels: 0\n",
      "Number of NaNs in covariates: [0 0 0 0 0 0 0 0 0 0 0 0 0 0 0 0 0 0 0 0 0 0 0 0 0 0 0 0 0 0 0 0 0 0 0 0 0\n",
      " 0 0 0 0 0 0 0 0 0 0 0 0 0 0 0 0 0 0 0 0 0 0 0 0 0 0 0 0 0 0 0 0 0 0 0 0 0\n",
      " 0 0 0 0 0 0 0 0 0 0 0 0 0 0 0 0 0 0]\n"
     ]
    }
   ],
   "source": [
    "# It is common to have NaNs in the data, lets check for it. Hint: np.isnan()\n",
    "\n",
    "# Print the number of NaNs (not a number) in the labels\n",
    "print(f'Number of NaNs in labels: {sum(np.isnan(Y))}')\n",
    "\n",
    "# Print the number of NaNs in the covariates\n",
    "print(f'Number of NaNs in covariates: {sum(np.isnan(X))}')\n"
   ]
  },
  {
   "cell_type": "markdown",
   "metadata": {},
   "source": [
    "# Part 6: Preprocessing\n",
    "\n",
    "Lets do some simple preprocessing"
   ]
  },
  {
   "cell_type": "code",
   "execution_count": 3,
   "metadata": {},
   "outputs": [
    {
     "name": "stdout",
     "output_type": "stream",
     "text": [
      "Mean: 0\n",
      "Std: 1\n"
     ]
    }
   ],
   "source": [
    "# Convert covariates to floats\n",
    "X = X.astype(float)\n",
    "\n",
    "# Convert labels to integers\n",
    "Y = Y.astype(int)\n",
    "\n",
    "# Remove mean of each covariate (column)\n",
    "for cov in range(X.shape[1]):\n",
    "    X[:, cov] = X[:, cov]-np.mean(X[:, cov])\n",
    "    \n",
    "# Divide each covariate (column) by its standard deviation\n",
    "for cov in range(X.shape[1]):\n",
    "    X[:, cov] = X[:, cov] / np.std(X[:, cov])\n",
    "\n",
    "# Check that mean is 0 and standard deviation is 1 for all covariates, by printing mean and std\n",
    "print(f'Mean: {round(np.mean(X))}')\n",
    "print(f'Std: {round(np.std(X))}')"
   ]
  },
  {
   "cell_type": "markdown",
   "metadata": {},
   "source": [
    "# Part 7: Split the dataset\n",
    "\n",
    "Use the first 70% of the dataset for training, leave the other 30% for validation and test, call the variables\n",
    "\n",
    "Xtrain (70%)\n",
    "\n",
    "Xtemp  (30%)\n",
    "\n",
    "Ytrain (70%)\n",
    "\n",
    "Ytemp  (30%)\n",
    "\n",
    "We use a function from scikit learn.\n",
    "https://scikit-learn.org/stable/modules/generated/sklearn.model_selection.train_test_split.html\n"
   ]
  },
  {
   "cell_type": "code",
   "execution_count": 4,
   "metadata": {},
   "outputs": [
    {
     "name": "stdout",
     "output_type": "stream",
     "text": [
      "Xtrain has size (534895, 92).\n",
      "Ytrain has size (534895,).\n",
      "Xtemp has size (229242, 92).\n",
      "Ytemp has size (229242,).\n",
      "\n",
      "TRAINING DATA\n",
      "################\n",
      "# cls | number #\n",
      "################\n",
      "# 0 | 85248 \n",
      "# 1 | 449647 \n",
      "################\n",
      "\n",
      "REMAINING DATA\n",
      "################\n",
      "# cls | number #\n",
      "################\n",
      "# 0 | 36373 \n",
      "# 1 | 192869 \n",
      "################\n"
     ]
    }
   ],
   "source": [
    "from sklearn.model_selection import train_test_split\n",
    "\n",
    "# Your code\n",
    "Xtrain, Xtemp, Ytrain, Ytemp = train_test_split(X, Y, test_size=0.3, random_state=42)\n",
    "\n",
    "print('Xtrain has size {}.'.format(Xtrain.shape))\n",
    "print('Ytrain has size {}.'.format(Ytrain.shape))\n",
    "\n",
    "print('Xtemp has size {}.'.format(Xtemp.shape))\n",
    "print('Ytemp has size {}.'.format(Ytemp.shape))\n",
    "\n",
    "# Print the number of examples of each class, for the training data and the remaining 30%\n",
    "\n",
    "# TRAIN DATA\n",
    "uniqueTrain, countsTrain = np.unique(Ytrain, return_counts=True)\n",
    "print('\\nTRAINING DATA')\n",
    "print('################')\n",
    "print('# cls | number #')\n",
    "print('################')\n",
    "for cls, count in zip(uniqueTrain, countsTrain):\n",
    "    print(f'# {cls} | {count} ')\n",
    "print('################')\n",
    "\n",
    "# REMAINING DATA\n",
    "uniqueTemp, countsTemp = np.unique(Ytemp, return_counts=True)\n",
    "print('\\nREMAINING DATA')\n",
    "print('################')\n",
    "print('# cls | number #')\n",
    "print('################')\n",
    "for cls, count in zip(uniqueTemp, countsTemp):\n",
    "    print(f'# {cls} | {count} ')\n",
    "print('################')"
   ]
  },
  {
   "cell_type": "markdown",
   "metadata": {},
   "source": [
    "#  Part 8: Split non-training data data into validation and test\n",
    "Now split your non-training data (Xtemp, Ytemp) into 50% validation (Xval, Yval) and 50% testing (Xtest, Ytest), we use a function from scikit learn. \n",
    "\n",
    "https://scikit-learn.org/stable/modules/generated/sklearn.model_selection.train_test_split.html\n",
    "\n",
    "Do all variables (Xtrain,Ytrain), (Xval,Yval), (Xtest,Ytest) have the shape that you expect?"
   ]
  },
  {
   "cell_type": "code",
   "execution_count": 5,
   "metadata": {},
   "outputs": [
    {
     "name": "stdout",
     "output_type": "stream",
     "text": [
      "The validation and test data have size (114621, 92), (114621, 92), (114621,) and (114621,)\n"
     ]
    }
   ],
   "source": [
    "from sklearn.model_selection import train_test_split\n",
    "\n",
    "\n",
    "Xval, Xtest, Yval, Ytest = train_test_split(Xtemp, Ytemp, test_size=0.5, random_state=42)\n",
    "\n",
    "print('The validation and test data have size {}, {}, {} and {}'.format(Xval.shape, Xtest.shape, Yval.shape, Ytest.shape))"
   ]
  },
  {
   "cell_type": "markdown",
   "metadata": {},
   "source": [
    "# Part 9: DNN classification\n",
    "\n",
    "Finish this code to create a first version of the classifier using a DNN. Start with a simple network with 2 dense layers (with 20 nodes each), using sigmoid activation functions. The final dense layer should have a single node and a sigmoid activation function. We start with the SGD optimizer.\n",
    "\n",
    "For different parts of this notebook you need to go back here, add more things, and re-run this cell to re-define the build function.\n",
    "\n",
    "Relevant functions are\n",
    "\n",
    "`model.add()`, adds a layer to the network\n",
    "\n",
    "`Dense()`, a dense network layer\n",
    "\n",
    "`model.compile()`, compile the model, add \" metrics=['accuracy'] \" to print the classification accuracy during the training\n",
    "\n",
    "See https://keras.io/layers/core/ for information on how the `Dense()` function works\n",
    "\n",
    "Import a relevant cost / loss function for binary classification from keras.losses (https://keras.io/losses/)\n",
    "\n",
    "See the following links for how to compile, train and evaluate the model\n",
    "\n",
    "https://keras.io/api/models/model_training_apis/#compile-method\n",
    "\n",
    "https://keras.io/api/models/model_training_apis/#fit-method\n",
    "\n",
    "https://keras.io/api/models/model_training_apis/#evaluate-method\n"
   ]
  },
  {
   "cell_type": "code",
   "execution_count": 124,
   "metadata": {},
   "outputs": [],
   "source": [
    "from keras.models import Sequential, Model\n",
    "from keras.layers import Input, Dense, BatchNormalization, Dropout\n",
    "from keras.optimizers import SGD, Adam\n",
    "from keras.losses import BinaryCrossentropy\n",
    "\n",
    "# Set seed from random number generator, for better comparisons\n",
    "from numpy.random import seed\n",
    "seed(123)\n",
    "\n",
    "def build_DNN(input_shape, n_layers, n_nodes, act_fun='sigmoid', optimizer='sgd', learning_rate=0.01, \n",
    "              use_bn=False, use_dropout=False, use_custom_dropout=False):\n",
    "    \n",
    "    # Setup optimizer, depending on input parameter string\n",
    "    if optimizer == 'sgd':\n",
    "        optimizer = SGD(learning_rate=learning_rate)\n",
    "    elif optimizer == 'adam':\n",
    "        optimizer = Adam(learning_rate=learning_rate)\n",
    "    \n",
    "    # Setup a sequential model\n",
    "    model = Sequential()\n",
    "\n",
    "    # Add layers to the model, using the input parameters of the build_DNN function\n",
    "    \n",
    "    # Add first layer, requires input shape\n",
    "    model.add(Input(shape=input_shape))\n",
    "    model.add(Dense(n_nodes, activation=act_fun))\n",
    "    \n",
    "    # Add BatchNormalization\n",
    "    if use_bn:\n",
    "        model.add(BatchNormalization())\n",
    "    \n",
    "    # Add Dropout\n",
    "    if use_dropout:\n",
    "        model.add(Dropout(0.5))\n",
    "        \n",
    "    # Add Custom Dropout\n",
    "    if use_custom_dropout:\n",
    "        model.add(myDropout(0.5))\n",
    "        \n",
    "    # Add remaining layers, do not require input shape\n",
    "    for i in range(n_layers-1):\n",
    "        model.add(Dense(n_nodes, activation=act_fun))\n",
    "        if use_bn:\n",
    "            model.add(BatchNormalization())\n",
    "        if use_dropout:\n",
    "            model.add(Dropout(0.5))\n",
    "        if use_custom_dropout:\n",
    "            model.add(myDropout(0.5))\n",
    "    \n",
    "    # Final layer\n",
    "    model.add(Dense(1, activation=act_fun))\n",
    "    \n",
    "    # Compile model\n",
    "    model.compile(optimizer=optimizer,\n",
    "                  loss=BinaryCrossentropy(),\n",
    "                  metrics=['accuracy'])\n",
    "    \n",
    "    return model"
   ]
  },
  {
   "cell_type": "code",
   "execution_count": 63,
   "metadata": {},
   "outputs": [],
   "source": [
    "# Lets define a help function for plotting the training results\n",
    "\n",
    "import matplotlib.pyplot as plt\n",
    "def plot_results(history):\n",
    "    \n",
    "    val_loss = history.history['val_loss']\n",
    "    acc = history.history['accuracy']\n",
    "    loss = history.history['loss']\n",
    "    val_acc = history.history['val_accuracy']\n",
    "    \n",
    "    plt.figure(figsize=(10,4))\n",
    "    plt.xlabel('Epochs')\n",
    "    plt.ylabel('Loss')\n",
    "    plt.plot(loss)\n",
    "    plt.plot(val_loss)\n",
    "    plt.legend(['Training','Validation'])\n",
    "\n",
    "    plt.figure(figsize=(10,4))\n",
    "    plt.xlabel('Epochs')\n",
    "    plt.ylabel('Accuracy')\n",
    "    plt.plot(acc)\n",
    "    plt.plot(val_acc)\n",
    "    plt.legend(['Training','Validation'])\n",
    "\n",
    "    plt.show()"
   ]
  },
  {
   "cell_type": "markdown",
   "metadata": {},
   "source": [
    "# Part 10: Train the DNN\n",
    "\n",
    "Time to train the DNN, we start simple with 2 layers with 20 nodes each, learning rate 0.1.\n",
    "\n",
    "Relevant functions\n",
    "\n",
    "`build_DNN`, the function we defined in Part 9, call it with the parameters you want to use\n",
    "\n",
    "`model.fit()`, train the model with some training data\n",
    "\n",
    "`model.evaluate()`, apply the trained model to some test data\n",
    "\n",
    "See the following links for how to train and evaluate the model\n",
    "\n",
    "https://keras.io/api/models/model_training_apis/#fit-method\n",
    "\n",
    "https://keras.io/api/models/model_training_apis/#evaluate-method\n"
   ]
  },
  {
   "cell_type": "markdown",
   "metadata": {},
   "source": [
    "### 2 layers, 20 nodes"
   ]
  },
  {
   "cell_type": "code",
   "execution_count": 65,
   "metadata": {
    "scrolled": true
   },
   "outputs": [
    {
     "name": "stdout",
     "output_type": "stream",
     "text": [
      "WARNING:tensorflow:Please add `keras.layers.InputLayer` instead of `keras.Input` to Sequential model. `keras.Input` is intended to be used by Functional model.\n",
      "Epoch 1/20\n",
      "54/54 [==============================] - 1s 8ms/step - loss: 0.4588 - accuracy: 0.7448 - val_loss: 0.2149 - val_accuracy: 0.8841\n",
      "Epoch 2/20\n",
      "54/54 [==============================] - 0s 4ms/step - loss: 0.2079 - accuracy: 0.8917 - val_loss: 0.1901 - val_accuracy: 0.9055\n",
      "Epoch 3/20\n",
      "54/54 [==============================] - 0s 4ms/step - loss: 0.1892 - accuracy: 0.9040 - val_loss: 0.1815 - val_accuracy: 0.9072\n",
      "Epoch 4/20\n",
      "54/54 [==============================] - 0s 4ms/step - loss: 0.1819 - accuracy: 0.9056 - val_loss: 0.1766 - val_accuracy: 0.9082\n",
      "Epoch 5/20\n",
      "54/54 [==============================] - 0s 4ms/step - loss: 0.1776 - accuracy: 0.9063 - val_loss: 0.1734 - val_accuracy: 0.9087\n",
      "Epoch 6/20\n",
      "54/54 [==============================] - 0s 4ms/step - loss: 0.1750 - accuracy: 0.9062 - val_loss: 0.1708 - val_accuracy: 0.9091\n",
      "Epoch 7/20\n",
      "54/54 [==============================] - 0s 4ms/step - loss: 0.1726 - accuracy: 0.9064 - val_loss: 0.1689 - val_accuracy: 0.9095\n",
      "Epoch 8/20\n",
      "54/54 [==============================] - 0s 5ms/step - loss: 0.1703 - accuracy: 0.9076 - val_loss: 0.1674 - val_accuracy: 0.9099\n",
      "Epoch 9/20\n",
      "54/54 [==============================] - 0s 5ms/step - loss: 0.1681 - accuracy: 0.9085 - val_loss: 0.1661 - val_accuracy: 0.9102\n",
      "Epoch 10/20\n",
      "54/54 [==============================] - 0s 4ms/step - loss: 0.1681 - accuracy: 0.9075 - val_loss: 0.1650 - val_accuracy: 0.9107\n",
      "Epoch 11/20\n",
      "54/54 [==============================] - 0s 4ms/step - loss: 0.1670 - accuracy: 0.9086 - val_loss: 0.1640 - val_accuracy: 0.9114\n",
      "Epoch 12/20\n",
      "54/54 [==============================] - 0s 4ms/step - loss: 0.1652 - accuracy: 0.9097 - val_loss: 0.1632 - val_accuracy: 0.9117\n",
      "Epoch 13/20\n",
      "54/54 [==============================] - 0s 5ms/step - loss: 0.1647 - accuracy: 0.9100 - val_loss: 0.1624 - val_accuracy: 0.9120\n",
      "Epoch 14/20\n",
      "54/54 [==============================] - 0s 4ms/step - loss: 0.1642 - accuracy: 0.9101 - val_loss: 0.1617 - val_accuracy: 0.9140\n",
      "Epoch 15/20\n",
      "54/54 [==============================] - 0s 6ms/step - loss: 0.1637 - accuracy: 0.9110 - val_loss: 0.1610 - val_accuracy: 0.9147\n",
      "Epoch 16/20\n",
      "54/54 [==============================] - 0s 5ms/step - loss: 0.1630 - accuracy: 0.9123 - val_loss: 0.1604 - val_accuracy: 0.9171\n",
      "Epoch 17/20\n",
      "54/54 [==============================] - 0s 5ms/step - loss: 0.1616 - accuracy: 0.9152 - val_loss: 0.1599 - val_accuracy: 0.9157\n",
      "Epoch 18/20\n",
      "54/54 [==============================] - 0s 5ms/step - loss: 0.1617 - accuracy: 0.9153 - val_loss: 0.1593 - val_accuracy: 0.9174\n",
      "Epoch 19/20\n",
      "54/54 [==============================] - 0s 5ms/step - loss: 0.1626 - accuracy: 0.9143 - val_loss: 0.1589 - val_accuracy: 0.9174\n",
      "Epoch 20/20\n",
      "54/54 [==============================] - 0s 5ms/step - loss: 0.1610 - accuracy: 0.9158 - val_loss: 0.1585 - val_accuracy: 0.9172\n"
     ]
    }
   ],
   "source": [
    "# Setup some training parameters\n",
    "batch_size = 10000\n",
    "epochs = 20\n",
    "\n",
    "input_shape = (X.shape[1],)\n",
    "\n",
    "# Build the model\n",
    "model1 = build_DNN(input_shape, n_layers=2, n_nodes=20, learning_rate=0.1)\n",
    "\n",
    "# Train the model, provide training data and validation data\n",
    "history1 = model1.fit(Xtrain,\n",
    "                      Ytrain, \n",
    "                      batch_size=batch_size, \n",
    "                      epochs=epochs, \n",
    "                      validation_data=(Xval, Yval))"
   ]
  },
  {
   "cell_type": "code",
   "execution_count": 66,
   "metadata": {},
   "outputs": [
    {
     "name": "stdout",
     "output_type": "stream",
     "text": [
      "3582/3582 [==============================] - 2s 677us/step - loss: 0.1596 - accuracy: 0.9154\n",
      "Test loss: 0.1596\n",
      "Test accuracy: 0.9154\n"
     ]
    }
   ],
   "source": [
    "# Evaluate the model on the test data\n",
    "score = model1.evaluate(Xtest, Ytest)\n",
    "\n",
    "print('Test loss: %.4f' % score[0])\n",
    "print('Test accuracy: %.4f' % score[1])"
   ]
  },
  {
   "cell_type": "code",
   "execution_count": 67,
   "metadata": {},
   "outputs": [
    {
     "data": {
      "image/png": "[encoded data removed]",
      "text/plain": [
       "<Figure size 720x288 with 1 Axes>"
      ]
     },
     "metadata": {
      "needs_background": "light"
     },
     "output_type": "display_data"
    },
    {
     "data": {
      "image/png": "[encoded data removed]",
      "text/plain": [
       "<Figure size 720x288 with 1 Axes>"
      ]
     },
     "metadata": {
      "needs_background": "light"
     },
     "output_type": "display_data"
    }
   ],
   "source": [
    "# Plot the history from the training run\n",
    "plot_results(history1)"
   ]
  },
  {
   "cell_type": "markdown",
   "metadata": {},
   "source": [
    "# Part 11: More questions\n",
    "\n",
    "Question 8: What happens if you add several Dense layers without specifying the activation function?\n",
    "\n",
    "Answer: There won't be any activation which results in a linear model.\n",
    "\n",
    "Question 9: How are the weights in each dense layer initialized as default? How are the bias weights initialized?\n",
    "\n",
    "Answer: The Dense layer class offers the attributes **kernel_initializer** and **bias_initializer** which are used to initialize the kernel weights matrix as well as the bias vector. By default the weights and bias are initialized as **glorot_uniform** and **zeros** respectively."
   ]
  },
  {
   "cell_type": "markdown",
   "metadata": {},
   "source": [
    "# Part 12: Balancing the classes\n",
    "\n",
    "This dataset is rather unbalanced, we need to define class weights so that the training pays more attention to the class with fewer samples. We use a function in scikit learn\n",
    "\n",
    "https://scikit-learn.org/stable/modules/generated/sklearn.utils.class_weight.compute_class_weight.html"
   ]
  },
  {
   "cell_type": "code",
   "execution_count": 32,
   "metadata": {},
   "outputs": [
    {
     "name": "stdout",
     "output_type": "stream",
     "text": [
      "[3.14146817 0.59464434]\n",
      "{0: 3.1414681675039673, 1: 0.5946443357052587}\n"
     ]
    }
   ],
   "source": [
    "from sklearn.utils import class_weight\n",
    "\n",
    "# Calculate class weights\n",
    "class_weights = class_weight.compute_class_weight(\"balanced\", unique, Y)\n",
    "\n",
    "# Print the class weights\n",
    "print(class_weights)\n",
    "\n",
    "# Keras wants the weights in this form, uncomment and change value1 and value2 to your weights, \n",
    "# or get them from the array that is returned from class_weight\n",
    "\n",
    "class_weights = {0: class_weights[0],\n",
    "                 1: class_weights[1]}\n",
    "\n",
    "print(class_weights)"
   ]
  },
  {
   "cell_type": "markdown",
   "metadata": {},
   "source": [
    "### 2 layers, 20 nodes, class weights"
   ]
  },
  {
   "cell_type": "code",
   "execution_count": 36,
   "metadata": {
    "scrolled": true
   },
   "outputs": [
    {
     "name": "stdout",
     "output_type": "stream",
     "text": [
      "WARNING:tensorflow:Please add `keras.layers.InputLayer` instead of `keras.Input` to Sequential model. `keras.Input` is intended to be used by Functional model.\n",
      "WARNING:tensorflow:From /Users/yuki/opt/miniconda3/envs/deeplearning/lib/python3.9/site-packages/tensorflow/python/ops/array_ops.py:5043: calling gather (from tensorflow.python.ops.array_ops) with validate_indices is deprecated and will be removed in a future version.\n",
      "Instructions for updating:\n",
      "The `validate_indices` argument has no effect. Indices are always validated on CPU and never validated on GPU.\n",
      "Epoch 1/20\n",
      "54/54 [==============================] - 1s 8ms/step - loss: 0.4213 - accuracy: 0.8707 - val_loss: 0.2823 - val_accuracy: 0.8821\n",
      "Epoch 2/20\n",
      "54/54 [==============================] - 0s 4ms/step - loss: 0.2274 - accuracy: 0.8813 - val_loss: 0.2597 - val_accuracy: 0.8865\n",
      "Epoch 3/20\n",
      "54/54 [==============================] - 0s 4ms/step - loss: 0.2085 - accuracy: 0.8868 - val_loss: 0.2463 - val_accuracy: 0.8944\n",
      "Epoch 4/20\n",
      "54/54 [==============================] - 0s 4ms/step - loss: 0.2006 - accuracy: 0.8945 - val_loss: 0.2398 - val_accuracy: 0.8999\n",
      "Epoch 5/20\n",
      "54/54 [==============================] - 0s 4ms/step - loss: 0.1944 - accuracy: 0.8987 - val_loss: 0.2360 - val_accuracy: 0.9017\n",
      "Epoch 6/20\n",
      "54/54 [==============================] - 0s 4ms/step - loss: 0.1911 - accuracy: 0.9003 - val_loss: 0.2321 - val_accuracy: 0.9032\n",
      "Epoch 7/20\n",
      "54/54 [==============================] - 0s 4ms/step - loss: 0.1885 - accuracy: 0.9015 - val_loss: 0.2327 - val_accuracy: 0.9039\n",
      "Epoch 8/20\n",
      "54/54 [==============================] - 0s 4ms/step - loss: 0.1852 - accuracy: 0.9031 - val_loss: 0.2297 - val_accuracy: 0.9052\n",
      "Epoch 9/20\n",
      "54/54 [==============================] - 0s 4ms/step - loss: 0.1841 - accuracy: 0.9043 - val_loss: 0.2266 - val_accuracy: 0.9066\n",
      "Epoch 10/20\n",
      "54/54 [==============================] - 0s 4ms/step - loss: 0.1826 - accuracy: 0.9053 - val_loss: 0.2243 - val_accuracy: 0.9088\n",
      "Epoch 11/20\n",
      "54/54 [==============================] - 0s 4ms/step - loss: 0.1815 - accuracy: 0.9072 - val_loss: 0.2241 - val_accuracy: 0.9099\n",
      "Epoch 12/20\n",
      "54/54 [==============================] - 0s 4ms/step - loss: 0.1800 - accuracy: 0.9083 - val_loss: 0.2208 - val_accuracy: 0.9108\n",
      "Epoch 13/20\n",
      "54/54 [==============================] - 0s 4ms/step - loss: 0.1785 - accuracy: 0.9093 - val_loss: 0.2213 - val_accuracy: 0.9112\n",
      "Epoch 14/20\n",
      "54/54 [==============================] - 0s 4ms/step - loss: 0.1786 - accuracy: 0.9092 - val_loss: 0.2198 - val_accuracy: 0.9116\n",
      "Epoch 15/20\n",
      "54/54 [==============================] - 0s 4ms/step - loss: 0.1775 - accuracy: 0.9099 - val_loss: 0.2193 - val_accuracy: 0.9118\n",
      "Epoch 16/20\n",
      "54/54 [==============================] - 0s 4ms/step - loss: 0.1766 - accuracy: 0.9099 - val_loss: 0.2170 - val_accuracy: 0.9122\n",
      "Epoch 17/20\n",
      "54/54 [==============================] - 0s 4ms/step - loss: 0.1762 - accuracy: 0.9101 - val_loss: 0.2179 - val_accuracy: 0.9122\n",
      "Epoch 18/20\n",
      "54/54 [==============================] - 0s 4ms/step - loss: 0.1755 - accuracy: 0.9102 - val_loss: 0.2182 - val_accuracy: 0.9123\n",
      "Epoch 19/20\n",
      "54/54 [==============================] - 0s 4ms/step - loss: 0.1750 - accuracy: 0.9102 - val_loss: 0.2173 - val_accuracy: 0.9124\n",
      "Epoch 20/20\n",
      "54/54 [==============================] - 0s 4ms/step - loss: 0.1743 - accuracy: 0.9106 - val_loss: 0.2195 - val_accuracy: 0.9124\n"
     ]
    }
   ],
   "source": [
    "# Setup some training parameters\n",
    "batch_size = 10000\n",
    "epochs = 20\n",
    "input_shape = (X.shape[1],)\n",
    "\n",
    "# Build and train model\n",
    "model2 = build_DNN(input_shape, \n",
    "                   n_layers=2, \n",
    "                   n_nodes=20, \n",
    "                   learning_rate=0.1)\n",
    "\n",
    "history2 = model2.fit(Xtrain,\n",
    "                      Ytrain,\n",
    "                      batch_size=batch_size,\n",
    "                      epochs=epochs,\n",
    "                      validation_data=(Xval, Yval), \n",
    "                      class_weight=class_weights)"
   ]
  },
  {
   "cell_type": "code",
   "execution_count": 38,
   "metadata": {},
   "outputs": [
    {
     "name": "stdout",
     "output_type": "stream",
     "text": [
      "3582/3582 [==============================] - 2s 510us/step - loss: 0.2232 - accuracy: 0.9107\n",
      "Test loss: 0.2232\n",
      "Test accuracy: 0.9107\n"
     ]
    }
   ],
   "source": [
    "# Evaluate model on test data\n",
    "score = model2.evaluate(Xtest, Ytest)\n",
    "\n",
    "print('Test loss: %.4f' % score[0])\n",
    "print('Test accuracy: %.4f' % score[1])"
   ]
  },
  {
   "cell_type": "code",
   "execution_count": 39,
   "metadata": {},
   "outputs": [
    {
     "data": {
      "image/png": "[encoded data removed]",
      "text/plain": [
       "<Figure size 720x288 with 1 Axes>"
      ]
     },
     "metadata": {
      "needs_background": "light"
     },
     "output_type": "display_data"
    },
    {
     "data": {
      "image/png": "[encoded data removed]",
      "text/plain": [
       "<Figure size 720x288 with 1 Axes>"
      ]
     },
     "metadata": {
      "needs_background": "light"
     },
     "output_type": "display_data"
    }
   ],
   "source": [
    "plot_results(history2)"
   ]
  },
  {
   "cell_type": "markdown",
   "metadata": {},
   "source": [
    "# Part 13: More questions\n",
    "\n",
    "Skip questions 11 and 12 if you run on the CPU\n",
    "\n",
    "Question 10: Why do we have to use a batch size? Why can't we simply use all data at once? This is more relevant for even larger datasets.\n",
    "\n",
    "Answer:\n",
    "\n",
    "Question 11: How busy is the GPU for a batch size of 100? How much GPU memory is used? Hint: run 'nvidia-smi' on the cloud computer a few times during training.\n",
    "\n",
    "Skip\n",
    "\n",
    "Question 12: What is the processing time for one training epoch when the batch size is 100? What is the processing time for one epoch when the batch size is 1,000? What is the processing time for one epoch when the batch size is 10,000? Explain the results. \n",
    "\n",
    "Skip\n",
    "\n",
    "Question 13: How many times are the weights in the DNN updated in each training epoch if the batch size is 100? How many times are the weights in the DNN updated in each training epoch if the batch size is 1,000? How many times are the weights in the DNN updated in each training epoch if the batch size is 10,000?  \n",
    "\n",
    "Answer:\n",
    "\n",
    "Question 14: What limits how large the batch size can be?\n",
    "\n",
    "Answer:\n",
    "\n",
    "Question 15: Generally speaking, how is the learning rate related to the batch size? If the batch size is decreased, how should the learning rate be changed?\n",
    "\n",
    "Answer:\n",
    "\n",
    "Lets use a batch size of 10,000 from now on, and a learning rate of 0.1."
   ]
  },
  {
   "cell_type": "markdown",
   "metadata": {},
   "source": [
    "# Part 14: Increasing the complexity\n",
    "\n",
    "Lets try some different configurations of number of layers and number of nodes per layer.\n",
    "\n",
    "Question 16: How many trainable parameters does the network with 4 dense layers with 50 nodes each have, compared to the initial network with 2 layers and 20 nodes per layer? Hint: use model.summary()"
   ]
  },
  {
   "cell_type": "markdown",
   "metadata": {},
   "source": [
    "### 4 layers, 20 nodes, class weights"
   ]
  },
  {
   "cell_type": "code",
   "execution_count": 70,
   "metadata": {
    "scrolled": true
   },
   "outputs": [
    {
     "name": "stdout",
     "output_type": "stream",
     "text": [
      "WARNING:tensorflow:Please add `keras.layers.InputLayer` instead of `keras.Input` to Sequential model. `keras.Input` is intended to be used by Functional model.\n",
      "Epoch 1/20\n",
      "54/54 [==============================] - 1s 11ms/step - loss: 0.4261 - accuracy: 0.8298 - val_loss: 0.2436 - val_accuracy: 0.9024\n",
      "Epoch 2/20\n",
      "54/54 [==============================] - 0s 6ms/step - loss: 0.1952 - accuracy: 0.9010 - val_loss: 0.2269 - val_accuracy: 0.9053\n",
      "Epoch 3/20\n",
      "54/54 [==============================] - 0s 5ms/step - loss: 0.1857 - accuracy: 0.9037 - val_loss: 0.2250 - val_accuracy: 0.9079\n",
      "Epoch 4/20\n",
      "54/54 [==============================] - 0s 6ms/step - loss: 0.1825 - accuracy: 0.9065 - val_loss: 0.2265 - val_accuracy: 0.9095\n",
      "Epoch 5/20\n",
      "54/54 [==============================] - 0s 5ms/step - loss: 0.1796 - accuracy: 0.9081 - val_loss: 0.2203 - val_accuracy: 0.9107\n",
      "Epoch 6/20\n",
      "54/54 [==============================] - 0s 6ms/step - loss: 0.1786 - accuracy: 0.9087 - val_loss: 0.2162 - val_accuracy: 0.9115\n",
      "Epoch 7/20\n",
      "54/54 [==============================] - 0s 6ms/step - loss: 0.1765 - accuracy: 0.9096 - val_loss: 0.2204 - val_accuracy: 0.9118\n",
      "Epoch 8/20\n",
      "54/54 [==============================] - 0s 5ms/step - loss: 0.1748 - accuracy: 0.9112 - val_loss: 0.2163 - val_accuracy: 0.9142\n",
      "Epoch 9/20\n",
      "54/54 [==============================] - 0s 6ms/step - loss: 0.1740 - accuracy: 0.9122 - val_loss: 0.2170 - val_accuracy: 0.9145\n",
      "Epoch 10/20\n",
      "54/54 [==============================] - 0s 6ms/step - loss: 0.1724 - accuracy: 0.9130 - val_loss: 0.2060 - val_accuracy: 0.9155\n",
      "Epoch 11/20\n",
      "54/54 [==============================] - 0s 6ms/step - loss: 0.1736 - accuracy: 0.9120 - val_loss: 0.2250 - val_accuracy: 0.9147\n",
      "Epoch 12/20\n",
      "54/54 [==============================] - 0s 6ms/step - loss: 0.1712 - accuracy: 0.9132 - val_loss: 0.2056 - val_accuracy: 0.9161\n",
      "Epoch 13/20\n",
      "54/54 [==============================] - 0s 6ms/step - loss: 0.1713 - accuracy: 0.9135 - val_loss: 0.2062 - val_accuracy: 0.9163\n",
      "Epoch 14/20\n",
      "54/54 [==============================] - 0s 6ms/step - loss: 0.1693 - accuracy: 0.9140 - val_loss: 0.2192 - val_accuracy: 0.9160\n",
      "Epoch 15/20\n",
      "54/54 [==============================] - 0s 6ms/step - loss: 0.1691 - accuracy: 0.9140 - val_loss: 0.2037 - val_accuracy: 0.9166\n",
      "Epoch 16/20\n",
      "54/54 [==============================] - 0s 6ms/step - loss: 0.1678 - accuracy: 0.9147 - val_loss: 0.2107 - val_accuracy: 0.9166\n",
      "Epoch 17/20\n",
      "54/54 [==============================] - 0s 6ms/step - loss: 0.1675 - accuracy: 0.9149 - val_loss: 0.1990 - val_accuracy: 0.9172\n",
      "Epoch 18/20\n",
      "54/54 [==============================] - 0s 6ms/step - loss: 0.1671 - accuracy: 0.9151 - val_loss: 0.2155 - val_accuracy: 0.9169\n",
      "Epoch 19/20\n",
      "54/54 [==============================] - 0s 6ms/step - loss: 0.1671 - accuracy: 0.9151 - val_loss: 0.2252 - val_accuracy: 0.9167\n",
      "Epoch 20/20\n",
      "54/54 [==============================] - 0s 6ms/step - loss: 0.1663 - accuracy: 0.9152 - val_loss: 0.2073 - val_accuracy: 0.9174\n"
     ]
    }
   ],
   "source": [
    "# Setup some training parameters\n",
    "batch_size = 10000\n",
    "epochs = 20\n",
    "input_shape = (X.shape[1],)\n",
    "\n",
    "# Build and train model\n",
    "model3 = build_DNN(input_shape, \n",
    "                   n_layers=4, \n",
    "                   n_nodes=20, \n",
    "                   learning_rate=0.1)\n",
    "\n",
    "history3 = model3.fit(Xtrain,\n",
    "                      Ytrain,\n",
    "                      batch_size=batch_size,\n",
    "                      epochs=epochs,\n",
    "                      validation_data=(Xval, Yval), \n",
    "                      class_weight=class_weights)"
   ]
  },
  {
   "cell_type": "code",
   "execution_count": 48,
   "metadata": {},
   "outputs": [
    {
     "name": "stdout",
     "output_type": "stream",
     "text": [
      "Model: \"sequential_5\"\n",
      "_________________________________________________________________\n",
      "Layer (type)                 Output Shape              Param #   \n",
      "=================================================================\n",
      "dense_15 (Dense)             (None, 20)                1860      \n",
      "_________________________________________________________________\n",
      "dense_16 (Dense)             (None, 20)                420       \n",
      "_________________________________________________________________\n",
      "dense_17 (Dense)             (None, 1)                 21        \n",
      "=================================================================\n",
      "Total params: 2,301\n",
      "Trainable params: 2,301\n",
      "Non-trainable params: 0\n",
      "_________________________________________________________________\n"
     ]
    }
   ],
   "source": [
    "# Trainable parameters 2 layers 20 nodes\n",
    "model2.summary()"
   ]
  },
  {
   "cell_type": "code",
   "execution_count": 69,
   "metadata": {},
   "outputs": [
    {
     "name": "stdout",
     "output_type": "stream",
     "text": [
      "Model: \"sequential_9\"\n",
      "_________________________________________________________________\n",
      "Layer (type)                 Output Shape              Param #   \n",
      "=================================================================\n",
      "dense_33 (Dense)             (None, 50)                4650      \n",
      "_________________________________________________________________\n",
      "dense_34 (Dense)             (None, 50)                2550      \n",
      "_________________________________________________________________\n",
      "dense_35 (Dense)             (None, 50)                2550      \n",
      "_________________________________________________________________\n",
      "dense_36 (Dense)             (None, 50)                2550      \n",
      "_________________________________________________________________\n",
      "dense_37 (Dense)             (None, 1)                 51        \n",
      "=================================================================\n",
      "Total params: 12,351\n",
      "Trainable params: 12,351\n",
      "Non-trainable params: 0\n",
      "_________________________________________________________________\n"
     ]
    }
   ],
   "source": [
    "# Trainable parameters 4 layers 50 nodes\n",
    "model3.summary()"
   ]
  },
  {
   "cell_type": "code",
   "execution_count": 50,
   "metadata": {},
   "outputs": [
    {
     "name": "stdout",
     "output_type": "stream",
     "text": [
      "3582/3582 [==============================] - 2s 550us/step - loss: 0.2534 - accuracy: 0.9106\n",
      "Test loss: 0.2534\n",
      "Test accuracy: 0.9106\n"
     ]
    }
   ],
   "source": [
    "# Evaluate model on test data\n",
    "score = model3.evaluate(Xtest, Ytest)\n",
    "\n",
    "print('Test loss: %.4f' % score[0])\n",
    "print('Test accuracy: %.4f' % score[1])"
   ]
  },
  {
   "cell_type": "code",
   "execution_count": 51,
   "metadata": {},
   "outputs": [
    {
     "data": {
      "image/png": "[encoded data removed]",
      "text/plain": [
       "<Figure size 720x288 with 1 Axes>"
      ]
     },
     "metadata": {
      "needs_background": "light"
     },
     "output_type": "display_data"
    },
    {
     "data": {
      "image/png": "[encoded data removed]",
      "text/plain": [
       "<Figure size 720x288 with 1 Axes>"
      ]
     },
     "metadata": {
      "needs_background": "light"
     },
     "output_type": "display_data"
    }
   ],
   "source": [
    "plot_results(history3)"
   ]
  },
  {
   "cell_type": "markdown",
   "metadata": {},
   "source": [
    "### 2 layers, 50 nodes, class weights"
   ]
  },
  {
   "cell_type": "code",
   "execution_count": 54,
   "metadata": {
    "scrolled": true
   },
   "outputs": [
    {
     "name": "stdout",
     "output_type": "stream",
     "text": [
      "WARNING:tensorflow:Please add `keras.layers.InputLayer` instead of `keras.Input` to Sequential model. `keras.Input` is intended to be used by Functional model.\n",
      "Epoch 1/20\n",
      "54/54 [==============================] - 1s 9ms/step - loss: 0.3655 - accuracy: 0.8832 - val_loss: 0.2740 - val_accuracy: 0.8926\n",
      "Epoch 2/20\n",
      "54/54 [==============================] - 0s 6ms/step - loss: 0.2169 - accuracy: 0.8930 - val_loss: 0.2482 - val_accuracy: 0.8981\n",
      "Epoch 3/20\n",
      "54/54 [==============================] - 0s 5ms/step - loss: 0.2027 - accuracy: 0.8964 - val_loss: 0.2381 - val_accuracy: 0.8997\n",
      "Epoch 4/20\n",
      "54/54 [==============================] - 0s 5ms/step - loss: 0.1951 - accuracy: 0.8981 - val_loss: 0.2373 - val_accuracy: 0.9007\n",
      "Epoch 5/20\n",
      "54/54 [==============================] - 0s 5ms/step - loss: 0.1908 - accuracy: 0.8992 - val_loss: 0.2330 - val_accuracy: 0.9019\n",
      "Epoch 6/20\n",
      "54/54 [==============================] - 0s 6ms/step - loss: 0.1875 - accuracy: 0.9005 - val_loss: 0.2273 - val_accuracy: 0.9040\n",
      "Epoch 7/20\n",
      "54/54 [==============================] - 0s 6ms/step - loss: 0.1860 - accuracy: 0.9019 - val_loss: 0.2282 - val_accuracy: 0.9052\n",
      "Epoch 8/20\n",
      "54/54 [==============================] - 0s 6ms/step - loss: 0.1842 - accuracy: 0.9031 - val_loss: 0.2255 - val_accuracy: 0.9072\n",
      "Epoch 9/20\n",
      "54/54 [==============================] - 0s 6ms/step - loss: 0.1811 - accuracy: 0.9062 - val_loss: 0.2241 - val_accuracy: 0.9084\n",
      "Epoch 10/20\n",
      "54/54 [==============================] - 0s 6ms/step - loss: 0.1806 - accuracy: 0.9072 - val_loss: 0.2229 - val_accuracy: 0.9092\n",
      "Epoch 11/20\n",
      "54/54 [==============================] - 0s 6ms/step - loss: 0.1803 - accuracy: 0.9070 - val_loss: 0.2235 - val_accuracy: 0.9098\n",
      "Epoch 12/20\n",
      "54/54 [==============================] - 0s 6ms/step - loss: 0.1782 - accuracy: 0.9087 - val_loss: 0.2192 - val_accuracy: 0.9106\n",
      "Epoch 13/20\n",
      "54/54 [==============================] - 0s 6ms/step - loss: 0.1782 - accuracy: 0.9086 - val_loss: 0.2192 - val_accuracy: 0.9110\n",
      "Epoch 14/20\n",
      "54/54 [==============================] - 0s 6ms/step - loss: 0.1764 - accuracy: 0.9093 - val_loss: 0.2191 - val_accuracy: 0.9114\n",
      "Epoch 15/20\n",
      "54/54 [==============================] - 0s 6ms/step - loss: 0.1768 - accuracy: 0.9094 - val_loss: 0.2188 - val_accuracy: 0.9116\n",
      "Epoch 16/20\n",
      "54/54 [==============================] - 0s 6ms/step - loss: 0.1754 - accuracy: 0.9098 - val_loss: 0.2195 - val_accuracy: 0.9117\n",
      "Epoch 17/20\n",
      "54/54 [==============================] - 0s 5ms/step - loss: 0.1745 - accuracy: 0.9102 - val_loss: 0.2181 - val_accuracy: 0.9119\n",
      "Epoch 18/20\n",
      "54/54 [==============================] - 0s 6ms/step - loss: 0.1741 - accuracy: 0.9103 - val_loss: 0.2164 - val_accuracy: 0.9122\n",
      "Epoch 19/20\n",
      "54/54 [==============================] - 0s 6ms/step - loss: 0.1738 - accuracy: 0.9107 - val_loss: 0.2145 - val_accuracy: 0.9124\n",
      "Epoch 20/20\n",
      "54/54 [==============================] - 0s 6ms/step - loss: 0.1730 - accuracy: 0.9103 - val_loss: 0.2140 - val_accuracy: 0.9124\n"
     ]
    }
   ],
   "source": [
    "# Setup some training parameters\n",
    "batch_size = 10000\n",
    "epochs = 20\n",
    "input_shape = (X.shape[1],)\n",
    "\n",
    "# Build and train model\n",
    "model4 = build_DNN(input_shape, \n",
    "                   n_layers=2, \n",
    "                   n_nodes=50, \n",
    "                   learning_rate=0.1)\n",
    "\n",
    "history4 = model4.fit(Xtrain,\n",
    "                      Ytrain,\n",
    "                      batch_size=batch_size,\n",
    "                      epochs=epochs,\n",
    "                      validation_data=(Xval, Yval), \n",
    "                      class_weight=class_weights)"
   ]
  },
  {
   "cell_type": "code",
   "execution_count": 55,
   "metadata": {},
   "outputs": [
    {
     "name": "stdout",
     "output_type": "stream",
     "text": [
      "3582/3582 [==============================] - 2s 594us/step - loss: 0.2179 - accuracy: 0.9110\n",
      "Test loss: 0.2179\n",
      "Test accuracy: 0.9110\n"
     ]
    }
   ],
   "source": [
    "# Evaluate model on test data\n",
    "score = model4.evaluate(Xtest, Ytest)\n",
    "\n",
    "print('Test loss: %.4f' % score[0])\n",
    "print('Test accuracy: %.4f' % score[1])"
   ]
  },
  {
   "cell_type": "code",
   "execution_count": 56,
   "metadata": {},
   "outputs": [
    {
     "data": {
      "image/png": "[encoded data removed]",
      "text/plain": [
       "<Figure size 720x288 with 1 Axes>"
      ]
     },
     "metadata": {
      "needs_background": "light"
     },
     "output_type": "display_data"
    },
    {
     "data": {
      "image/png": "[encoded data removed]",
      "text/plain": [
       "<Figure size 720x288 with 1 Axes>"
      ]
     },
     "metadata": {
      "needs_background": "light"
     },
     "output_type": "display_data"
    }
   ],
   "source": [
    "plot_results(history4)"
   ]
  },
  {
   "cell_type": "markdown",
   "metadata": {},
   "source": [
    "### 4 layers, 50 nodes, class weights"
   ]
  },
  {
   "cell_type": "code",
   "execution_count": 71,
   "metadata": {
    "scrolled": true
   },
   "outputs": [
    {
     "name": "stdout",
     "output_type": "stream",
     "text": [
      "WARNING:tensorflow:Please add `keras.layers.InputLayer` instead of `keras.Input` to Sequential model. `keras.Input` is intended to be used by Functional model.\n",
      "Epoch 1/20\n",
      "54/54 [==============================] - 2s 15ms/step - loss: 0.3265 - accuracy: 0.8879 - val_loss: 0.2446 - val_accuracy: 0.8989\n",
      "Epoch 2/20\n",
      "54/54 [==============================] - 1s 11ms/step - loss: 0.1956 - accuracy: 0.8980 - val_loss: 0.2389 - val_accuracy: 0.9024\n",
      "Epoch 3/20\n",
      "54/54 [==============================] - 1s 11ms/step - loss: 0.1864 - accuracy: 0.9019 - val_loss: 0.2856 - val_accuracy: 0.9004\n",
      "Epoch 4/20\n",
      "54/54 [==============================] - 1s 11ms/step - loss: 0.1863 - accuracy: 0.9041 - val_loss: 0.2609 - val_accuracy: 0.9035\n",
      "Epoch 5/20\n",
      "54/54 [==============================] - 1s 11ms/step - loss: 0.1817 - accuracy: 0.9066 - val_loss: 0.1908 - val_accuracy: 0.9122\n",
      "Epoch 6/20\n",
      "54/54 [==============================] - 1s 11ms/step - loss: 0.1828 - accuracy: 0.9069 - val_loss: 0.2054 - val_accuracy: 0.9116\n",
      "Epoch 7/20\n",
      "54/54 [==============================] - 1s 11ms/step - loss: 0.1796 - accuracy: 0.9084 - val_loss: 0.2122 - val_accuracy: 0.9116\n",
      "Epoch 8/20\n",
      "54/54 [==============================] - 1s 13ms/step - loss: 0.1796 - accuracy: 0.9088 - val_loss: 0.2049 - val_accuracy: 0.9120\n",
      "Epoch 9/20\n",
      "54/54 [==============================] - 1s 12ms/step - loss: 0.1777 - accuracy: 0.9093 - val_loss: 0.1860 - val_accuracy: 0.9141\n",
      "Epoch 10/20\n",
      "54/54 [==============================] - 1s 11ms/step - loss: 0.1785 - accuracy: 0.9097 - val_loss: 0.2148 - val_accuracy: 0.9121\n",
      "Epoch 11/20\n",
      "54/54 [==============================] - 1s 11ms/step - loss: 0.1770 - accuracy: 0.9107 - val_loss: 0.2471 - val_accuracy: 0.9107\n",
      "Epoch 12/20\n",
      "54/54 [==============================] - 1s 12ms/step - loss: 0.1797 - accuracy: 0.9095 - val_loss: 0.2199 - val_accuracy: 0.9122\n",
      "Epoch 13/20\n",
      "54/54 [==============================] - 1s 12ms/step - loss: 0.1729 - accuracy: 0.9112 - val_loss: 0.2067 - val_accuracy: 0.9127\n",
      "Epoch 14/20\n",
      "54/54 [==============================] - 1s 12ms/step - loss: 0.1734 - accuracy: 0.9107 - val_loss: 0.1873 - val_accuracy: 0.9152\n",
      "Epoch 15/20\n",
      "54/54 [==============================] - 1s 12ms/step - loss: 0.1752 - accuracy: 0.9110 - val_loss: 0.2611 - val_accuracy: 0.9111\n",
      "Epoch 16/20\n",
      "54/54 [==============================] - 1s 12ms/step - loss: 0.1738 - accuracy: 0.9114 - val_loss: 0.2424 - val_accuracy: 0.9120\n",
      "Epoch 17/20\n",
      "54/54 [==============================] - 1s 11ms/step - loss: 0.1751 - accuracy: 0.9114 - val_loss: 0.2196 - val_accuracy: 0.9125\n",
      "Epoch 18/20\n",
      "54/54 [==============================] - 1s 12ms/step - loss: 0.1711 - accuracy: 0.9116 - val_loss: 0.2485 - val_accuracy: 0.9119\n",
      "Epoch 19/20\n",
      "54/54 [==============================] - 1s 11ms/step - loss: 0.1731 - accuracy: 0.9118 - val_loss: 0.2319 - val_accuracy: 0.9123\n",
      "Epoch 20/20\n",
      "54/54 [==============================] - 1s 11ms/step - loss: 0.1727 - accuracy: 0.9119 - val_loss: 0.2069 - val_accuracy: 0.9134\n"
     ]
    }
   ],
   "source": [
    "# Setup some training parameters\n",
    "batch_size = 10000\n",
    "epochs = 20\n",
    "input_shape = (X.shape[1],)\n",
    "\n",
    "# Build and train model\n",
    "model5 = build_DNN(input_shape, \n",
    "                   n_layers=4, \n",
    "                   n_nodes=50, \n",
    "                   learning_rate=0.1)\n",
    "\n",
    "history5 = model5.fit(Xtrain,\n",
    "                      Ytrain,\n",
    "                      batch_size=batch_size,\n",
    "                      epochs=epochs,\n",
    "                      validation_data=(Xval, Yval), \n",
    "                      class_weight=class_weights)"
   ]
  },
  {
   "cell_type": "code",
   "execution_count": 72,
   "metadata": {},
   "outputs": [
    {
     "name": "stdout",
     "output_type": "stream",
     "text": [
      "3582/3582 [==============================] - 3s 811us/step - loss: 0.2106 - accuracy: 0.91170s - loss: 0.210\n",
      "Test loss: 0.2106\n",
      "Test accuracy: 0.9117\n"
     ]
    }
   ],
   "source": [
    "# Evaluate model on test data\n",
    "score = model5.evaluate(Xtest, Ytest)\n",
    "\n",
    "print('Test loss: %.4f' % score[0])\n",
    "print('Test accuracy: %.4f' % score[1])"
   ]
  },
  {
   "cell_type": "code",
   "execution_count": 73,
   "metadata": {},
   "outputs": [
    {
     "data": {
      "image/png": "[encoded data removed]",
      "text/plain": [
       "<Figure size 720x288 with 1 Axes>"
      ]
     },
     "metadata": {
      "needs_background": "light"
     },
     "output_type": "display_data"
    },
    {
     "data": {
      "image/png": "[encoded data removed]",
      "text/plain": [
       "<Figure size 720x288 with 1 Axes>"
      ]
     },
     "metadata": {
      "needs_background": "light"
     },
     "output_type": "display_data"
    }
   ],
   "source": [
    "plot_results(history5)"
   ]
  },
  {
   "cell_type": "markdown",
   "metadata": {},
   "source": [
    "# Part 15: Batch normalization\n",
    "\n",
    "Now add batch normalization after each dense layer in `build_DNN`. Remember to import BatchNormalization from keras.layers. \n",
    "\n",
    "See https://keras.io/layers/normalization/ for information about how to call the function.\n",
    "\n",
    "Question 17: Why is batch normalization important when training deep networks?"
   ]
  },
  {
   "cell_type": "markdown",
   "metadata": {},
   "source": [
    "### 2 layers, 20 nodes, class weights, batch normalization"
   ]
  },
  {
   "cell_type": "code",
   "execution_count": 78,
   "metadata": {
    "scrolled": true
   },
   "outputs": [
    {
     "name": "stdout",
     "output_type": "stream",
     "text": [
      "WARNING:tensorflow:Please add `keras.layers.InputLayer` instead of `keras.Input` to Sequential model. `keras.Input` is intended to be used by Functional model.\n",
      "Epoch 1/20\n",
      "54/54 [==============================] - 4s 15ms/step - loss: 0.3559 - accuracy: 0.8413 - val_loss: 0.4142 - val_accuracy: 0.8404\n",
      "Epoch 2/20\n",
      "54/54 [==============================] - 0s 9ms/step - loss: 0.2341 - accuracy: 0.8938 - val_loss: 0.3529 - val_accuracy: 0.8404\n",
      "Epoch 3/20\n",
      "54/54 [==============================] - 1s 9ms/step - loss: 0.2071 - accuracy: 0.9019 - val_loss: 0.3073 - val_accuracy: 0.8404\n",
      "Epoch 4/20\n",
      "54/54 [==============================] - 1s 9ms/step - loss: 0.1957 - accuracy: 0.9063 - val_loss: 0.2544 - val_accuracy: 0.8407\n",
      "Epoch 5/20\n",
      "54/54 [==============================] - 0s 9ms/step - loss: 0.1882 - accuracy: 0.9081 - val_loss: 0.2086 - val_accuracy: 0.8660\n",
      "Epoch 6/20\n",
      "54/54 [==============================] - 0s 9ms/step - loss: 0.1852 - accuracy: 0.9085 - val_loss: 0.1811 - val_accuracy: 0.9086\n",
      "Epoch 7/20\n",
      "54/54 [==============================] - 0s 9ms/step - loss: 0.1810 - accuracy: 0.9106 - val_loss: 0.1766 - val_accuracy: 0.9155\n",
      "Epoch 8/20\n",
      "54/54 [==============================] - 0s 9ms/step - loss: 0.1789 - accuracy: 0.9119 - val_loss: 0.1838 - val_accuracy: 0.9163\n",
      "Epoch 9/20\n",
      "54/54 [==============================] - 1s 10ms/step - loss: 0.1754 - accuracy: 0.9143 - val_loss: 0.1926 - val_accuracy: 0.9164\n",
      "Epoch 10/20\n",
      "54/54 [==============================] - 1s 10ms/step - loss: 0.1744 - accuracy: 0.9143 - val_loss: 0.2105 - val_accuracy: 0.9163\n",
      "Epoch 11/20\n",
      "54/54 [==============================] - 1s 10ms/step - loss: 0.1729 - accuracy: 0.9148 - val_loss: 0.2054 - val_accuracy: 0.9170\n",
      "Epoch 12/20\n",
      "54/54 [==============================] - 0s 9ms/step - loss: 0.1716 - accuracy: 0.9149 - val_loss: 0.2215 - val_accuracy: 0.9168\n",
      "Epoch 13/20\n",
      "54/54 [==============================] - 0s 9ms/step - loss: 0.1713 - accuracy: 0.9148 - val_loss: 0.2117 - val_accuracy: 0.9174\n",
      "Epoch 14/20\n",
      "54/54 [==============================] - 1s 9ms/step - loss: 0.1691 - accuracy: 0.9159 - val_loss: 0.2145 - val_accuracy: 0.9175\n",
      "Epoch 15/20\n",
      "54/54 [==============================] - 1s 10ms/step - loss: 0.1690 - accuracy: 0.9155 - val_loss: 0.2116 - val_accuracy: 0.9177\n",
      "Epoch 16/20\n",
      "54/54 [==============================] - 1s 9ms/step - loss: 0.1686 - accuracy: 0.9155 - val_loss: 0.2094 - val_accuracy: 0.9179\n",
      "Epoch 17/20\n",
      "54/54 [==============================] - 0s 9ms/step - loss: 0.1666 - accuracy: 0.9166 - val_loss: 0.2061 - val_accuracy: 0.9183\n",
      "Epoch 18/20\n",
      "54/54 [==============================] - 0s 8ms/step - loss: 0.1661 - accuracy: 0.9167 - val_loss: 0.2098 - val_accuracy: 0.9185\n",
      "Epoch 19/20\n",
      "54/54 [==============================] - 0s 9ms/step - loss: 0.1657 - accuracy: 0.9166 - val_loss: 0.2155 - val_accuracy: 0.9184\n",
      "Epoch 20/20\n",
      "54/54 [==============================] - 0s 9ms/step - loss: 0.1643 - accuracy: 0.9173 - val_loss: 0.2003 - val_accuracy: 0.9187\n"
     ]
    }
   ],
   "source": [
    "# Setup some training parameters\n",
    "batch_size = 10000\n",
    "epochs = 20\n",
    "input_shape = (X.shape[1],)\n",
    "\n",
    "# Build and train model\n",
    "model6 = build_DNN(input_shape, \n",
    "                   n_layers=2, \n",
    "                   n_nodes=20, \n",
    "                   learning_rate=0.1, \n",
    "                   use_bn=True)\n",
    "\n",
    "history6 = model6.fit(Xtrain,\n",
    "                      Ytrain,\n",
    "                      batch_size=batch_size,\n",
    "                      epochs=epochs,\n",
    "                      validation_data=(Xval, Yval), \n",
    "                      class_weight=class_weights)"
   ]
  },
  {
   "cell_type": "code",
   "execution_count": 79,
   "metadata": {},
   "outputs": [
    {
     "name": "stdout",
     "output_type": "stream",
     "text": [
      "3582/3582 [==============================] - 3s 772us/step - loss: 0.2035 - accuracy: 0.9174\n",
      "Test loss: 0.2035\n",
      "Test accuracy: 0.9174\n"
     ]
    }
   ],
   "source": [
    "# Evaluate model on test data\n",
    "score = model6.evaluate(Xtest, Ytest)\n",
    "\n",
    "print('Test loss: %.4f' % score[0])\n",
    "print('Test accuracy: %.4f' % score[1])"
   ]
  },
  {
   "cell_type": "code",
   "execution_count": 80,
   "metadata": {},
   "outputs": [
    {
     "data": {
      "image/png": "[encoded data removed]",
      "text/plain": [
       "<Figure size 720x288 with 1 Axes>"
      ]
     },
     "metadata": {
      "needs_background": "light"
     },
     "output_type": "display_data"
    },
    {
     "data": {
      "image/png": "[encoded data removed]",
      "text/plain": [
       "<Figure size 720x288 with 1 Axes>"
      ]
     },
     "metadata": {
      "needs_background": "light"
     },
     "output_type": "display_data"
    }
   ],
   "source": [
    "plot_results(history6)"
   ]
  },
  {
   "cell_type": "markdown",
   "metadata": {},
   "source": [
    "# Part 16: Activation function\n",
    "\n",
    "Try changing the activation function in each layer from sigmoid to ReLU, write down the test accuracy.\n",
    "\n",
    "Note: the last layer should still have a sigmoid activation function.\n",
    "\n",
    "https://keras.io/api/layers/activations/"
   ]
  },
  {
   "cell_type": "markdown",
   "metadata": {},
   "source": [
    "### 2 layers, 20 nodes, class weights, ReLU, no batch normalization"
   ]
  },
  {
   "cell_type": "code",
   "execution_count": 81,
   "metadata": {
    "scrolled": true
   },
   "outputs": [
    {
     "name": "stdout",
     "output_type": "stream",
     "text": [
      "WARNING:tensorflow:Please add `keras.layers.InputLayer` instead of `keras.Input` to Sequential model. `keras.Input` is intended to be used by Functional model.\n",
      "Epoch 1/20\n",
      "54/54 [==============================] - 1s 9ms/step - loss: 5.2054 - accuracy: 0.8013 - val_loss: 2.4334 - val_accuracy: 0.8404\n",
      "Epoch 2/20\n",
      "54/54 [==============================] - 0s 5ms/step - loss: 7.6499 - accuracy: 0.8403 - val_loss: 2.4334 - val_accuracy: 0.8404\n",
      "Epoch 3/20\n",
      "54/54 [==============================] - 0s 5ms/step - loss: 7.6212 - accuracy: 0.8409 - val_loss: 2.4334 - val_accuracy: 0.8404\n",
      "Epoch 4/20\n",
      "54/54 [==============================] - 0s 5ms/step - loss: 7.6224 - accuracy: 0.8409 - val_loss: 2.4334 - val_accuracy: 0.8404\n",
      "Epoch 5/20\n",
      "54/54 [==============================] - 0s 5ms/step - loss: 7.6439 - accuracy: 0.8404 - val_loss: 2.4334 - val_accuracy: 0.8404\n",
      "Epoch 6/20\n",
      "54/54 [==============================] - 0s 5ms/step - loss: 7.6757 - accuracy: 0.8398 - val_loss: 2.4334 - val_accuracy: 0.8404\n",
      "Epoch 7/20\n",
      "54/54 [==============================] - 0s 5ms/step - loss: 7.6352 - accuracy: 0.8406 - val_loss: 2.4334 - val_accuracy: 0.8404\n",
      "Epoch 8/20\n",
      "54/54 [==============================] - 0s 4ms/step - loss: 7.6543 - accuracy: 0.8402 - val_loss: 2.4334 - val_accuracy: 0.8404\n",
      "Epoch 9/20\n",
      "54/54 [==============================] - 0s 4ms/step - loss: 7.6322 - accuracy: 0.8407 - val_loss: 2.4334 - val_accuracy: 0.8404\n",
      "Epoch 10/20\n",
      "54/54 [==============================] - 0s 4ms/step - loss: 7.6212 - accuracy: 0.8409 - val_loss: 2.4334 - val_accuracy: 0.8404\n",
      "Epoch 11/20\n",
      "54/54 [==============================] - 0s 5ms/step - loss: 7.6599 - accuracy: 0.8401 - val_loss: 2.4334 - val_accuracy: 0.8404\n",
      "Epoch 12/20\n",
      "54/54 [==============================] - 0s 5ms/step - loss: 7.6512 - accuracy: 0.8403 - val_loss: 2.4334 - val_accuracy: 0.8404\n",
      "Epoch 13/20\n",
      "54/54 [==============================] - 0s 4ms/step - loss: 7.6684 - accuracy: 0.8399 - val_loss: 2.4334 - val_accuracy: 0.8404\n",
      "Epoch 14/20\n",
      "54/54 [==============================] - 0s 4ms/step - loss: 7.6396 - accuracy: 0.8405 - val_loss: 2.4334 - val_accuracy: 0.8404\n",
      "Epoch 15/20\n",
      "54/54 [==============================] - 0s 4ms/step - loss: 7.6223 - accuracy: 0.8409 - val_loss: 2.4334 - val_accuracy: 0.8404\n",
      "Epoch 16/20\n",
      "54/54 [==============================] - 0s 4ms/step - loss: 7.6541 - accuracy: 0.8402 - val_loss: 2.4334 - val_accuracy: 0.8404\n",
      "Epoch 17/20\n",
      "54/54 [==============================] - 0s 6ms/step - loss: 7.5918 - accuracy: 0.8415 - val_loss: 2.4334 - val_accuracy: 0.8404\n",
      "Epoch 18/20\n",
      "54/54 [==============================] - 0s 5ms/step - loss: 7.6388 - accuracy: 0.8405 - val_loss: 2.4334 - val_accuracy: 0.8404\n",
      "Epoch 19/20\n",
      "54/54 [==============================] - 0s 5ms/step - loss: 7.6031 - accuracy: 0.8413 - val_loss: 2.4334 - val_accuracy: 0.8404\n",
      "Epoch 20/20\n",
      "54/54 [==============================] - 0s 5ms/step - loss: 7.6208 - accuracy: 0.8409 - val_loss: 2.4334 - val_accuracy: 0.8404\n"
     ]
    }
   ],
   "source": [
    "# Setup some training parameters\n",
    "batch_size = 10000\n",
    "epochs = 20\n",
    "input_shape = (X.shape[1],)\n",
    "\n",
    "# Build and train model\n",
    "model7 = build_DNN(input_shape, \n",
    "                   n_layers=2, \n",
    "                   n_nodes=20, \n",
    "                   learning_rate=0.1, \n",
    "                   act_fun=\"relu\")\n",
    "\n",
    "history7 = model7.fit(Xtrain,\n",
    "                      Ytrain,\n",
    "                      batch_size=batch_size,\n",
    "                      epochs=epochs,\n",
    "                      validation_data=(Xval, Yval), \n",
    "                      class_weight=class_weights)"
   ]
  },
  {
   "cell_type": "code",
   "execution_count": 82,
   "metadata": {},
   "outputs": [
    {
     "name": "stdout",
     "output_type": "stream",
     "text": [
      "3582/3582 [==============================] - 2s 654us/step - loss: 2.4057 - accuracy: 0.8422\n",
      "Test loss: 2.4057\n",
      "Test accuracy: 0.8422\n"
     ]
    }
   ],
   "source": [
    "# Evaluate model on test data\n",
    "score = model7.evaluate(Xtest, Ytest)\n",
    "\n",
    "print('Test loss: %.4f' % score[0])\n",
    "print('Test accuracy: %.4f' % score[1])"
   ]
  },
  {
   "cell_type": "code",
   "execution_count": 83,
   "metadata": {},
   "outputs": [
    {
     "data": {
      "image/png": "[encoded data removed]",
      "text/plain": [
       "<Figure size 720x288 with 1 Axes>"
      ]
     },
     "metadata": {
      "needs_background": "light"
     },
     "output_type": "display_data"
    },
    {
     "data": {
      "image/png": "[encoded data removed]",
      "text/plain": [
       "<Figure size 720x288 with 1 Axes>"
      ]
     },
     "metadata": {
      "needs_background": "light"
     },
     "output_type": "display_data"
    }
   ],
   "source": [
    "plot_results(history7)"
   ]
  },
  {
   "cell_type": "markdown",
   "metadata": {},
   "source": [
    "# Part 17: Optimizer\n",
    "\n",
    "Try changing the optimizer from SGD to Adam (with learning rate 0.1 as before). Remember to import the Adam optimizer from keras.optimizers. \n",
    "\n",
    "https://keras.io/optimizers/\n"
   ]
  },
  {
   "cell_type": "markdown",
   "metadata": {},
   "source": [
    "### 2 layers, 20 nodes, class weights, Adam optimizer, no batch normalization, sigmoid activations"
   ]
  },
  {
   "cell_type": "code",
   "execution_count": 86,
   "metadata": {
    "scrolled": true
   },
   "outputs": [
    {
     "name": "stdout",
     "output_type": "stream",
     "text": [
      "WARNING:tensorflow:Please add `keras.layers.InputLayer` instead of `keras.Input` to Sequential model. `keras.Input` is intended to be used by Functional model.\n",
      "Epoch 1/20\n",
      "54/54 [==============================] - 1s 12ms/step - loss: 0.3004 - accuracy: 0.8359 - val_loss: 0.2236 - val_accuracy: 0.9098\n",
      "Epoch 2/20\n",
      "54/54 [==============================] - 0s 6ms/step - loss: 0.1743 - accuracy: 0.9112 - val_loss: 0.2104 - val_accuracy: 0.9173\n",
      "Epoch 3/20\n",
      "54/54 [==============================] - 0s 6ms/step - loss: 0.1657 - accuracy: 0.9164 - val_loss: 0.2166 - val_accuracy: 0.9186\n",
      "Epoch 4/20\n",
      "54/54 [==============================] - 0s 6ms/step - loss: 0.1619 - accuracy: 0.9179 - val_loss: 0.2124 - val_accuracy: 0.9198\n",
      "Epoch 5/20\n",
      "54/54 [==============================] - 0s 5ms/step - loss: 0.1601 - accuracy: 0.9184 - val_loss: 0.1959 - val_accuracy: 0.9192\n",
      "Epoch 6/20\n",
      "54/54 [==============================] - 0s 5ms/step - loss: 0.1614 - accuracy: 0.9178 - val_loss: 0.1998 - val_accuracy: 0.9199\n",
      "Epoch 7/20\n",
      "54/54 [==============================] - 0s 5ms/step - loss: 0.1576 - accuracy: 0.9181 - val_loss: 0.1951 - val_accuracy: 0.9209\n",
      "Epoch 8/20\n",
      "54/54 [==============================] - 0s 5ms/step - loss: 0.1548 - accuracy: 0.9195 - val_loss: 0.1793 - val_accuracy: 0.9224\n",
      "Epoch 9/20\n",
      "54/54 [==============================] - 0s 6ms/step - loss: 0.1535 - accuracy: 0.9202 - val_loss: 0.1780 - val_accuracy: 0.9254\n",
      "Epoch 10/20\n",
      "54/54 [==============================] - 0s 5ms/step - loss: 0.1518 - accuracy: 0.9213 - val_loss: 0.1807 - val_accuracy: 0.9244\n",
      "Epoch 11/20\n",
      "54/54 [==============================] - 0s 5ms/step - loss: 0.1549 - accuracy: 0.9213 - val_loss: 0.1979 - val_accuracy: 0.9204\n",
      "Epoch 12/20\n",
      "54/54 [==============================] - 0s 6ms/step - loss: 0.1544 - accuracy: 0.9198 - val_loss: 0.1874 - val_accuracy: 0.9215\n",
      "Epoch 13/20\n",
      "54/54 [==============================] - 0s 5ms/step - loss: 0.1530 - accuracy: 0.9189 - val_loss: 0.1750 - val_accuracy: 0.9216\n",
      "Epoch 14/20\n",
      "54/54 [==============================] - 0s 6ms/step - loss: 0.1511 - accuracy: 0.9202 - val_loss: 0.1695 - val_accuracy: 0.9239\n",
      "Epoch 15/20\n",
      "54/54 [==============================] - 0s 7ms/step - loss: 0.1499 - accuracy: 0.9212 - val_loss: 0.1761 - val_accuracy: 0.9242\n",
      "Epoch 16/20\n",
      "54/54 [==============================] - 0s 7ms/step - loss: 0.1487 - accuracy: 0.9222 - val_loss: 0.1754 - val_accuracy: 0.9256\n",
      "Epoch 17/20\n",
      "54/54 [==============================] - 0s 6ms/step - loss: 0.1486 - accuracy: 0.9234 - val_loss: 0.1661 - val_accuracy: 0.9261\n",
      "Epoch 18/20\n",
      "54/54 [==============================] - 0s 6ms/step - loss: 0.1459 - accuracy: 0.9243 - val_loss: 0.1684 - val_accuracy: 0.9284\n",
      "Epoch 19/20\n",
      "54/54 [==============================] - 0s 5ms/step - loss: 0.1421 - accuracy: 0.9255 - val_loss: 0.1826 - val_accuracy: 0.9273\n",
      "Epoch 20/20\n",
      "54/54 [==============================] - 0s 5ms/step - loss: 0.1407 - accuracy: 0.9265 - val_loss: 0.1633 - val_accuracy: 0.9260\n"
     ]
    }
   ],
   "source": [
    "# Setup some training parameters\n",
    "batch_size = 10000\n",
    "epochs = 20\n",
    "input_shape = (X.shape[1],)\n",
    "\n",
    "# Build and train model\n",
    "model8 = build_DNN(input_shape, \n",
    "                   n_layers=2, \n",
    "                   n_nodes=20, \n",
    "                   learning_rate=0.1, \n",
    "                   optimizer='adam')\n",
    "\n",
    "history8 = model8.fit(Xtrain,\n",
    "                      Ytrain,\n",
    "                      batch_size=batch_size,\n",
    "                      epochs=epochs,\n",
    "                      validation_data=(Xval, Yval), \n",
    "                      class_weight=class_weights)"
   ]
  },
  {
   "cell_type": "code",
   "execution_count": 87,
   "metadata": {},
   "outputs": [
    {
     "name": "stdout",
     "output_type": "stream",
     "text": [
      "3582/3582 [==============================] - 2s 659us/step - loss: 0.1653 - accuracy: 0.9248\n",
      "Test loss: 0.1653\n",
      "Test accuracy: 0.9248\n"
     ]
    }
   ],
   "source": [
    "# Evaluate model on test data\n",
    "score = model8.evaluate(Xtest, Ytest)\n",
    "\n",
    "print('Test loss: %.4f' % score[0])\n",
    "print('Test accuracy: %.4f' % score[1])"
   ]
  },
  {
   "cell_type": "code",
   "execution_count": 88,
   "metadata": {},
   "outputs": [
    {
     "data": {
      "image/png": "[encoded data removed]",
      "text/plain": [
       "<Figure size 720x288 with 1 Axes>"
      ]
     },
     "metadata": {
      "needs_background": "light"
     },
     "output_type": "display_data"
    },
    {
     "data": {
      "image/png": "[encoded data removed]",
      "text/plain": [
       "<Figure size 720x288 with 1 Axes>"
      ]
     },
     "metadata": {
      "needs_background": "light"
     },
     "output_type": "display_data"
    }
   ],
   "source": [
    "plot_results(history8)"
   ]
  },
  {
   "cell_type": "markdown",
   "metadata": {},
   "source": [
    "# Part 18: Dropout regularization\n",
    "\n",
    "Dropout is a type of regularization that can improve accuracy for validation and test data. \n",
    "\n",
    "Add a Dropout layer after each Dense layer (but not after the final dense layer) in `build_DNN`, with a dropout probability of 50%. Remember to first import the Dropout layer from keras.layers\n",
    "\n",
    "See https://keras.io/api/layers/regularization_layers/dropout/ for how the Dropout layer works.\n",
    "\n",
    "---\n",
    "\n",
    "Question 18: How does the validation accuracy change when adding dropout?\n",
    "\n",
    "Question 19: How does the test accuracy change when adding dropout?"
   ]
  },
  {
   "cell_type": "markdown",
   "metadata": {},
   "source": [
    "### 2 layers, 20 nodes, class weights, dropout, SGD optimizer, no batch normalization, sigmoid activations"
   ]
  },
  {
   "cell_type": "code",
   "execution_count": 90,
   "metadata": {
    "scrolled": true
   },
   "outputs": [
    {
     "name": "stdout",
     "output_type": "stream",
     "text": [
      "WARNING:tensorflow:Please add `keras.layers.InputLayer` instead of `keras.Input` to Sequential model. `keras.Input` is intended to be used by Functional model.\n",
      "Epoch 1/20\n",
      "54/54 [==============================] - 2s 14ms/step - loss: 0.7355 - accuracy: 0.4924 - val_loss: 0.5887 - val_accuracy: 0.8929\n",
      "Epoch 2/20\n",
      "54/54 [==============================] - 0s 7ms/step - loss: 0.6323 - accuracy: 0.6531 - val_loss: 0.4988 - val_accuracy: 0.8865\n",
      "Epoch 3/20\n",
      "54/54 [==============================] - 0s 7ms/step - loss: 0.5525 - accuracy: 0.7380 - val_loss: 0.4039 - val_accuracy: 0.8841\n",
      "Epoch 4/20\n",
      "54/54 [==============================] - 0s 7ms/step - loss: 0.4777 - accuracy: 0.7908 - val_loss: 0.3359 - val_accuracy: 0.8830\n",
      "Epoch 5/20\n",
      "54/54 [==============================] - 0s 6ms/step - loss: 0.4175 - accuracy: 0.8229 - val_loss: 0.3012 - val_accuracy: 0.8824\n",
      "Epoch 6/20\n",
      "54/54 [==============================] - 0s 6ms/step - loss: 0.3809 - accuracy: 0.8410 - val_loss: 0.2870 - val_accuracy: 0.8821\n",
      "Epoch 7/20\n",
      "54/54 [==============================] - 0s 6ms/step - loss: 0.3544 - accuracy: 0.8530 - val_loss: 0.2809 - val_accuracy: 0.8821\n",
      "Epoch 8/20\n",
      "54/54 [==============================] - 0s 7ms/step - loss: 0.3378 - accuracy: 0.8594 - val_loss: 0.2790 - val_accuracy: 0.8822\n",
      "Epoch 9/20\n",
      "54/54 [==============================] - 0s 7ms/step - loss: 0.3250 - accuracy: 0.8640 - val_loss: 0.2774 - val_accuracy: 0.8824\n",
      "Epoch 10/20\n",
      "54/54 [==============================] - 0s 6ms/step - loss: 0.3145 - accuracy: 0.8678 - val_loss: 0.2747 - val_accuracy: 0.8828\n",
      "Epoch 11/20\n",
      "54/54 [==============================] - 0s 6ms/step - loss: 0.3069 - accuracy: 0.8702 - val_loss: 0.2737 - val_accuracy: 0.8829\n",
      "Epoch 12/20\n",
      "54/54 [==============================] - 0s 6ms/step - loss: 0.3028 - accuracy: 0.8706 - val_loss: 0.2738 - val_accuracy: 0.8831\n",
      "Epoch 13/20\n",
      "54/54 [==============================] - 0s 7ms/step - loss: 0.2951 - accuracy: 0.8729 - val_loss: 0.2726 - val_accuracy: 0.8836\n",
      "Epoch 14/20\n",
      "54/54 [==============================] - 0s 7ms/step - loss: 0.2905 - accuracy: 0.8732 - val_loss: 0.2713 - val_accuracy: 0.8840\n",
      "Epoch 15/20\n",
      "54/54 [==============================] - 0s 6ms/step - loss: 0.2857 - accuracy: 0.8746 - val_loss: 0.2697 - val_accuracy: 0.8846\n",
      "Epoch 16/20\n",
      "54/54 [==============================] - 0s 6ms/step - loss: 0.2811 - accuracy: 0.8761 - val_loss: 0.2683 - val_accuracy: 0.8853\n",
      "Epoch 17/20\n",
      "54/54 [==============================] - 0s 7ms/step - loss: 0.2785 - accuracy: 0.8761 - val_loss: 0.2680 - val_accuracy: 0.8858\n",
      "Epoch 18/20\n",
      "54/54 [==============================] - 0s 7ms/step - loss: 0.2747 - accuracy: 0.8774 - val_loss: 0.2662 - val_accuracy: 0.8863\n",
      "Epoch 19/20\n",
      "54/54 [==============================] - 0s 7ms/step - loss: 0.2702 - accuracy: 0.8780 - val_loss: 0.2653 - val_accuracy: 0.8867\n",
      "Epoch 20/20\n",
      "54/54 [==============================] - 0s 6ms/step - loss: 0.2682 - accuracy: 0.8780 - val_loss: 0.2646 - val_accuracy: 0.8871\n"
     ]
    }
   ],
   "source": [
    "# Setup some training parameters\n",
    "batch_size = 10000\n",
    "epochs = 20\n",
    "input_shape = (X.shape[1],)\n",
    "\n",
    "# Build and train model\n",
    "model9 = build_DNN(input_shape, \n",
    "                   n_layers=2, \n",
    "                   n_nodes=20, \n",
    "                   learning_rate=0.1, \n",
    "                   use_dropout=True)\n",
    "\n",
    "history9 = model9.fit(Xtrain,\n",
    "                      Ytrain,\n",
    "                      batch_size=batch_size,\n",
    "                      epochs=epochs,\n",
    "                      validation_data=(Xval, Yval), \n",
    "                      class_weight=class_weights)"
   ]
  },
  {
   "cell_type": "code",
   "execution_count": 91,
   "metadata": {},
   "outputs": [
    {
     "name": "stdout",
     "output_type": "stream",
     "text": [
      "3582/3582 [==============================] - 2s 629us/step - loss: 0.2688 - accuracy: 0.8852\n",
      "Test loss: 0.2688\n",
      "Test accuracy: 0.8852\n"
     ]
    }
   ],
   "source": [
    "# Evaluate model on test data\n",
    "score = model9.evaluate(Xtest, Ytest)\n",
    "\n",
    "print('Test loss: %.4f' % score[0])\n",
    "print('Test accuracy: %.4f' % score[1])"
   ]
  },
  {
   "cell_type": "code",
   "execution_count": 92,
   "metadata": {},
   "outputs": [
    {
     "data": {
      "image/png": "[encoded data removed]",
      "text/plain": [
       "<Figure size 720x288 with 1 Axes>"
      ]
     },
     "metadata": {
      "needs_background": "light"
     },
     "output_type": "display_data"
    },
    {
     "data": {
      "image/png": "[encoded data removed]",
      "text/plain": [
       "<Figure size 720x288 with 1 Axes>"
      ]
     },
     "metadata": {
      "needs_background": "light"
     },
     "output_type": "display_data"
    }
   ],
   "source": [
    "plot_results(history9)"
   ]
  },
  {
   "cell_type": "markdown",
   "metadata": {},
   "source": [
    "# Part 19: Improving performance\n",
    "\n",
    "Spend some time (30 - 90 minutes) playing with the network architecture (number of layers, number of nodes per layer, activation function) and other hyper parameters (optimizer, learning rate, batch size, number of epochs, degree of regularization). For example, try a much deeper network. How much does the training time increase for a network with 10 layers?\n",
    "\n",
    "Question 20: How high classification accuracy can you achieve for the test data? What is your best configuration?"
   ]
  },
  {
   "cell_type": "code",
   "execution_count": 104,
   "metadata": {
    "scrolled": true
   },
   "outputs": [
    {
     "name": "stdout",
     "output_type": "stream",
     "text": [
      "WARNING:tensorflow:Please add `keras.layers.InputLayer` instead of `keras.Input` to Sequential model. `keras.Input` is intended to be used by Functional model.\n",
      "Epoch 1/30\n",
      "535/535 [==============================] - 2s 3ms/step - loss: 0.2845 - accuracy: 0.8470 - val_loss: 0.2004 - val_accuracy: 0.9168\n",
      "Epoch 2/30\n",
      "535/535 [==============================] - 1s 2ms/step - loss: 0.1663 - accuracy: 0.9162 - val_loss: 0.1898 - val_accuracy: 0.9200\n",
      "Epoch 3/30\n",
      "535/535 [==============================] - 1s 2ms/step - loss: 0.1605 - accuracy: 0.9176 - val_loss: 0.1674 - val_accuracy: 0.9219\n",
      "Epoch 4/30\n",
      "535/535 [==============================] - 1s 2ms/step - loss: 0.1546 - accuracy: 0.9195 - val_loss: 0.1872 - val_accuracy: 0.9222\n",
      "Epoch 5/30\n",
      "535/535 [==============================] - 1s 2ms/step - loss: 0.1455 - accuracy: 0.9242 - val_loss: 0.2218 - val_accuracy: 0.9211\n",
      "Epoch 6/30\n",
      "535/535 [==============================] - 1s 2ms/step - loss: 0.1362 - accuracy: 0.9300 - val_loss: 0.1643 - val_accuracy: 0.9333\n",
      "Epoch 7/30\n",
      "535/535 [==============================] - 1s 2ms/step - loss: 0.1330 - accuracy: 0.9316 - val_loss: 0.1627 - val_accuracy: 0.9309\n",
      "Epoch 8/30\n",
      "535/535 [==============================] - 1s 2ms/step - loss: 0.1313 - accuracy: 0.9323 - val_loss: 0.1712 - val_accuracy: 0.9348\n",
      "Epoch 9/30\n",
      "535/535 [==============================] - 1s 2ms/step - loss: 0.1293 - accuracy: 0.9332 - val_loss: 0.1505 - val_accuracy: 0.9352\n",
      "Epoch 10/30\n",
      "535/535 [==============================] - 1s 2ms/step - loss: 0.1273 - accuracy: 0.9340 - val_loss: 0.1510 - val_accuracy: 0.9349\n",
      "Epoch 11/30\n",
      "535/535 [==============================] - 1s 2ms/step - loss: 0.1271 - accuracy: 0.9337 - val_loss: 0.1505 - val_accuracy: 0.9352\n",
      "Epoch 12/30\n",
      "535/535 [==============================] - 1s 2ms/step - loss: 0.1260 - accuracy: 0.9346 - val_loss: 0.1755 - val_accuracy: 0.9329\n",
      "Epoch 13/30\n",
      "535/535 [==============================] - 1s 2ms/step - loss: 0.1251 - accuracy: 0.9346 - val_loss: 0.1615 - val_accuracy: 0.9347\n",
      "Epoch 14/30\n",
      "535/535 [==============================] - 1s 2ms/step - loss: 0.1242 - accuracy: 0.9351 - val_loss: 0.1567 - val_accuracy: 0.9345\n",
      "Epoch 15/30\n",
      "535/535 [==============================] - 1s 2ms/step - loss: 0.1240 - accuracy: 0.9352 - val_loss: 0.1505 - val_accuracy: 0.9391\n",
      "Epoch 16/30\n",
      "535/535 [==============================] - 1s 2ms/step - loss: 0.1230 - accuracy: 0.9358 - val_loss: 0.1677 - val_accuracy: 0.9365\n",
      "Epoch 17/30\n",
      "535/535 [==============================] - 1s 2ms/step - loss: 0.1231 - accuracy: 0.9360 - val_loss: 0.1501 - val_accuracy: 0.9387\n",
      "Epoch 18/30\n",
      "535/535 [==============================] - 1s 2ms/step - loss: 0.1252 - accuracy: 0.9350 - val_loss: 0.1582 - val_accuracy: 0.9370\n",
      "Epoch 19/30\n",
      "535/535 [==============================] - 1s 2ms/step - loss: 0.1238 - accuracy: 0.9356 - val_loss: 0.1488 - val_accuracy: 0.9366\n",
      "Epoch 20/30\n",
      "535/535 [==============================] - 1s 2ms/step - loss: 0.1227 - accuracy: 0.9361 - val_loss: 0.1512 - val_accuracy: 0.9370\n",
      "Epoch 21/30\n",
      "535/535 [==============================] - 1s 2ms/step - loss: 0.1230 - accuracy: 0.9358 - val_loss: 0.1466 - val_accuracy: 0.9396\n",
      "Epoch 22/30\n",
      "535/535 [==============================] - 1s 2ms/step - loss: 0.1235 - accuracy: 0.9360 - val_loss: 0.1375 - val_accuracy: 0.9414\n",
      "Epoch 23/30\n",
      "535/535 [==============================] - 1s 2ms/step - loss: 0.1227 - accuracy: 0.9365 - val_loss: 0.1617 - val_accuracy: 0.9375\n",
      "Epoch 24/30\n",
      "535/535 [==============================] - 1s 2ms/step - loss: 0.1219 - accuracy: 0.9364 - val_loss: 0.1655 - val_accuracy: 0.9359\n",
      "Epoch 25/30\n",
      "535/535 [==============================] - 1s 3ms/step - loss: 0.1221 - accuracy: 0.9365 - val_loss: 0.1645 - val_accuracy: 0.9365\n",
      "Epoch 26/30\n",
      "535/535 [==============================] - 1s 2ms/step - loss: 0.1210 - accuracy: 0.9369 - val_loss: 0.1548 - val_accuracy: 0.9353\n",
      "Epoch 27/30\n",
      "535/535 [==============================] - 1s 2ms/step - loss: 0.1218 - accuracy: 0.9364 - val_loss: 0.1548 - val_accuracy: 0.9377\n",
      "Epoch 28/30\n",
      "535/535 [==============================] - 1s 2ms/step - loss: 0.1201 - accuracy: 0.9376 - val_loss: 0.1483 - val_accuracy: 0.9397\n",
      "Epoch 29/30\n",
      "535/535 [==============================] - 1s 2ms/step - loss: 0.1224 - accuracy: 0.9364 - val_loss: 0.1382 - val_accuracy: 0.9414\n",
      "Epoch 30/30\n",
      "535/535 [==============================] - 1s 2ms/step - loss: 0.1198 - accuracy: 0.9378 - val_loss: 0.1485 - val_accuracy: 0.9395\n"
     ]
    }
   ],
   "source": [
    "# Find your best configuration for the DNN\n",
    "\n",
    "batch_size = 1000\n",
    "epochs = 30\n",
    "input_shape = (X.shape[1],)\n",
    "\n",
    "# Build and train model\n",
    "model10 = build_DNN(input_shape, \n",
    "                   n_layers=5, \n",
    "                   n_nodes=20, \n",
    "                   learning_rate=0.01, \n",
    "                   optimizer='adam')\n",
    "\n",
    "history10 = model10.fit(Xtrain,\n",
    "                      Ytrain,\n",
    "                      batch_size=batch_size,\n",
    "                      epochs=epochs,\n",
    "                      validation_data=(Xval, Yval), \n",
    "                      class_weight=class_weights)"
   ]
  },
  {
   "cell_type": "code",
   "execution_count": 105,
   "metadata": {},
   "outputs": [
    {
     "name": "stdout",
     "output_type": "stream",
     "text": [
      "3582/3582 [==============================] - 2s 656us/step - loss: 0.1503 - accuracy: 0.9385\n",
      "Test loss: 0.1503\n",
      "Test accuracy: 0.9385\n"
     ]
    }
   ],
   "source": [
    "# Evaluate DNN on test data\n",
    "score = model10.evaluate(Xtest, Ytest)\n",
    "\n",
    "print('Test loss: %.4f' % score[0])\n",
    "print('Test accuracy: %.4f' % score[1])"
   ]
  },
  {
   "cell_type": "code",
   "execution_count": 106,
   "metadata": {},
   "outputs": [
    {
     "data": {
      "image/png": "[encoded data removed]",
      "text/plain": [
       "<Figure size 720x288 with 1 Axes>"
      ]
     },
     "metadata": {
      "needs_background": "light"
     },
     "output_type": "display_data"
    },
    {
     "data": {
      "image/png": "[encoded data removed]",
      "text/plain": [
       "<Figure size 720x288 with 1 Axes>"
      ]
     },
     "metadata": {
      "needs_background": "light"
     },
     "output_type": "display_data"
    }
   ],
   "source": [
    "plot_results(history10)"
   ]
  },
  {
   "cell_type": "markdown",
   "metadata": {},
   "source": [
    "# Part 20: Dropout uncertainty\n",
    "\n",
    "Dropout can also be used during testing, to obtain an estimate of the model uncertainty. Since dropout will randomly remove connections, the network will produce different results every time the same (test) data is put into the network. This technique is called Monte Carlo dropout. For more information, see this paper http://proceedings.mlr.press/v48/gal16.pdf\n",
    "\n",
    "To achieve this, we need to redefine the Keras Dropout call by running the cell below, and use 'myDropout' in each call to Dropout, in the cell that defines the DNN. The `build_DNN` function takes two boolean arguments, use_dropout and use_custom_dropout, add a standard Dropout layer if use_dropout is true, add a myDropout layer if use_custom_dropout is true.\n",
    "\n",
    "Run the same test data through the trained network 100 times, with dropout turned on. \n",
    "\n",
    "Question 21: What is the mean and the standard deviation of the test accuracy?"
   ]
  },
  {
   "cell_type": "code",
   "execution_count": 122,
   "metadata": {},
   "outputs": [],
   "source": [
    "import keras.backend as K\n",
    "import keras\n",
    "\n",
    "class myDropout(keras.layers.Dropout):\n",
    "    \"\"\"Applies Dropout to the input.\n",
    "    Dropout consists in randomly setting\n",
    "    a fraction `rate` of input units to 0 at each update during training time,\n",
    "    which helps prevent overfitting.\n",
    "    # Arguments\n",
    "        rate: float between 0 and 1. Fraction of the input units to drop.\n",
    "        noise_shape: 1D integer tensor representing the shape of the\n",
    "            binary dropout mask that will be multiplied with the input.\n",
    "            For instance, if your inputs have shape\n",
    "            `(batch_size, timesteps, features)` and\n",
    "            you want the dropout mask to be the same for all timesteps,\n",
    "            you can use `noise_shape=(batch_size, 1, features)`.\n",
    "        seed: A Python integer to use as random seed.\n",
    "    # References\n",
    "        - [Dropout: A Simple Way to Prevent Neural Networks from Overfitting](\n",
    "           http://www.jmlr.org/papers/volume15/srivastava14a/srivastava14a.pdf)\n",
    "    \"\"\"\n",
    "    def __init__(self, rate, training=True, noise_shape=None, seed=None, **kwargs):\n",
    "        super(myDropout, self).__init__(rate, noise_shape=None, seed=None,**kwargs)\n",
    "        self.training = training\n",
    "\n",
    "        \n",
    "    def call(self, inputs, training=None):\n",
    "        if 0. < self.rate < 1.:\n",
    "            noise_shape = self._get_noise_shape(inputs)\n",
    "\n",
    "            def dropped_inputs():\n",
    "                return K.dropout(inputs, self.rate, noise_shape,\n",
    "                                 seed=self.seed)\n",
    "            if not training: \n",
    "                return K.in_train_phase(dropped_inputs, inputs, training=self.training)\n",
    "            return K.in_train_phase(dropped_inputs, inputs, training=training)\n",
    "        return inputs"
   ]
  },
  {
   "cell_type": "markdown",
   "metadata": {},
   "source": [
    "### Your best config, custom dropout"
   ]
  },
  {
   "cell_type": "code",
   "execution_count": 125,
   "metadata": {
    "scrolled": true
   },
   "outputs": [
    {
     "name": "stdout",
     "output_type": "stream",
     "text": [
      "WARNING:tensorflow:Please add `keras.layers.InputLayer` instead of `keras.Input` to Sequential model. `keras.Input` is intended to be used by Functional model.\n",
      "Epoch 1/30\n",
      "535/535 [==============================] - 3s 4ms/step - loss: 0.3661 - accuracy: 0.8013 - val_loss: 0.2371 - val_accuracy: 0.9079\n",
      "Epoch 2/30\n",
      "535/535 [==============================] - 2s 3ms/step - loss: 0.1930 - accuracy: 0.9070 - val_loss: 0.2349 - val_accuracy: 0.9106\n",
      "Epoch 3/30\n",
      "535/535 [==============================] - 2s 3ms/step - loss: 0.1849 - accuracy: 0.9092 - val_loss: 0.2311 - val_accuracy: 0.9098\n",
      "Epoch 4/30\n",
      "535/535 [==============================] - 2s 3ms/step - loss: 0.1833 - accuracy: 0.9095 - val_loss: 0.2222 - val_accuracy: 0.9125\n",
      "Epoch 5/30\n",
      "535/535 [==============================] - 2s 3ms/step - loss: 0.1828 - accuracy: 0.9105 - val_loss: 0.2194 - val_accuracy: 0.9118\n",
      "Epoch 6/30\n",
      "535/535 [==============================] - 2s 3ms/step - loss: 0.1835 - accuracy: 0.9096 - val_loss: 0.2310 - val_accuracy: 0.9120\n",
      "Epoch 7/30\n",
      "535/535 [==============================] - 2s 3ms/step - loss: 0.1802 - accuracy: 0.9110 - val_loss: 0.2200 - val_accuracy: 0.9127\n",
      "Epoch 8/30\n",
      "535/535 [==============================] - 2s 3ms/step - loss: 0.1795 - accuracy: 0.9109 - val_loss: 0.2200 - val_accuracy: 0.9132\n",
      "Epoch 9/30\n",
      "535/535 [==============================] - 2s 3ms/step - loss: 0.1771 - accuracy: 0.9117 - val_loss: 0.2201 - val_accuracy: 0.9140\n",
      "Epoch 10/30\n",
      "535/535 [==============================] - 2s 3ms/step - loss: 0.1805 - accuracy: 0.9111 - val_loss: 0.2203 - val_accuracy: 0.9144\n",
      "Epoch 11/30\n",
      "535/535 [==============================] - 2s 3ms/step - loss: 0.1761 - accuracy: 0.9127 - val_loss: 0.2221 - val_accuracy: 0.9134\n",
      "Epoch 12/30\n",
      "535/535 [==============================] - 2s 3ms/step - loss: 0.1773 - accuracy: 0.9118 - val_loss: 0.2174 - val_accuracy: 0.9138\n",
      "Epoch 13/30\n",
      "535/535 [==============================] - 2s 3ms/step - loss: 0.1792 - accuracy: 0.9110 - val_loss: 0.2200 - val_accuracy: 0.9133\n",
      "Epoch 14/30\n",
      "535/535 [==============================] - 2s 3ms/step - loss: 0.1773 - accuracy: 0.9111 - val_loss: 0.2173 - val_accuracy: 0.9137\n",
      "Epoch 15/30\n",
      "535/535 [==============================] - 2s 4ms/step - loss: 0.1754 - accuracy: 0.9125 - val_loss: 0.2212 - val_accuracy: 0.9148\n",
      "Epoch 16/30\n",
      "535/535 [==============================] - 2s 3ms/step - loss: 0.1762 - accuracy: 0.9121 - val_loss: 0.2188 - val_accuracy: 0.9138\n",
      "Epoch 17/30\n",
      "535/535 [==============================] - 2s 3ms/step - loss: 0.1747 - accuracy: 0.9131 - val_loss: 0.2161 - val_accuracy: 0.9146\n",
      "Epoch 18/30\n",
      "535/535 [==============================] - 2s 3ms/step - loss: 0.1775 - accuracy: 0.9117 - val_loss: 0.2196 - val_accuracy: 0.9137\n",
      "Epoch 19/30\n",
      "535/535 [==============================] - 2s 3ms/step - loss: 0.1768 - accuracy: 0.9115 - val_loss: 0.2151 - val_accuracy: 0.9142\n",
      "Epoch 20/30\n",
      "535/535 [==============================] - 2s 3ms/step - loss: 0.1763 - accuracy: 0.9125 - val_loss: 0.2149 - val_accuracy: 0.9151\n",
      "Epoch 21/30\n",
      "535/535 [==============================] - 2s 3ms/step - loss: 0.1756 - accuracy: 0.9122 - val_loss: 0.2164 - val_accuracy: 0.9149\n",
      "Epoch 22/30\n",
      "535/535 [==============================] - 2s 3ms/step - loss: 0.1759 - accuracy: 0.9125 - val_loss: 0.2228 - val_accuracy: 0.9145\n",
      "Epoch 23/30\n",
      "535/535 [==============================] - 2s 3ms/step - loss: 0.1746 - accuracy: 0.9131 - val_loss: 0.2195 - val_accuracy: 0.9146\n",
      "Epoch 24/30\n",
      "535/535 [==============================] - 2s 3ms/step - loss: 0.1756 - accuracy: 0.9125 - val_loss: 0.2213 - val_accuracy: 0.9144\n",
      "Epoch 25/30\n",
      "535/535 [==============================] - 2s 3ms/step - loss: 0.1745 - accuracy: 0.9129 - val_loss: 0.2167 - val_accuracy: 0.9152\n",
      "Epoch 26/30\n",
      "535/535 [==============================] - 2s 3ms/step - loss: 0.1761 - accuracy: 0.9125 - val_loss: 0.2166 - val_accuracy: 0.9148\n",
      "Epoch 27/30\n",
      "535/535 [==============================] - 2s 3ms/step - loss: 0.1745 - accuracy: 0.9134 - val_loss: 0.2152 - val_accuracy: 0.9159\n",
      "Epoch 28/30\n",
      "535/535 [==============================] - 2s 3ms/step - loss: 0.1760 - accuracy: 0.9133 - val_loss: 0.2144 - val_accuracy: 0.9161\n",
      "Epoch 29/30\n",
      "535/535 [==============================] - 2s 3ms/step - loss: 0.1743 - accuracy: 0.9139 - val_loss: 0.2161 - val_accuracy: 0.9160\n",
      "Epoch 30/30\n",
      "535/535 [==============================] - 2s 3ms/step - loss: 0.1734 - accuracy: 0.9136 - val_loss: 0.2151 - val_accuracy: 0.9159\n"
     ]
    }
   ],
   "source": [
    "# Your best training parameters\n",
    "batch_size = 1000\n",
    "epochs = 30\n",
    "input_shape = (X.shape[1],)\n",
    "\n",
    "# Build and train model\n",
    "model11 = build_DNN(input_shape, \n",
    "                   n_layers=5, \n",
    "                   n_nodes=20, \n",
    "                   learning_rate=0.01, \n",
    "                   optimizer='adam',\n",
    "                   use_custom_dropout=True)\n",
    "\n",
    "history11 = model11.fit(Xtrain,\n",
    "                      Ytrain,\n",
    "                      batch_size=batch_size,\n",
    "                      epochs=epochs,\n",
    "                      validation_data=(Xval, Yval), \n",
    "                      class_weight=class_weights)"
   ]
  },
  {
   "cell_type": "code",
   "execution_count": 129,
   "metadata": {},
   "outputs": [
    {
     "name": "stdout",
     "output_type": "stream",
     "text": [
      "3582/3582 [==============================] - 3s 849us/step - loss: 0.2188 - accuracy: 0.91400s - los\n",
      "Test accuracy: 0.9140\n"
     ]
    }
   ],
   "source": [
    "# Run this cell a few times to evalute the model on test data, \n",
    "# if you get slightly different test accuracy every time, Dropout during testing is working\n",
    "\n",
    "# Evaluate model on test data\n",
    "score = model11.evaluate(Xtest, Ytest)\n",
    "                       \n",
    "print('Test accuracy: %.4f' % score[1])"
   ]
  },
  {
   "cell_type": "code",
   "execution_count": 131,
   "metadata": {},
   "outputs": [
    {
     "name": "stdout",
     "output_type": "stream",
     "text": [
      "3582/3582 [==============================] - 3s 824us/step - loss: 0.2187 - accuracy: 0.9142\n",
      "3582/3582 [==============================] - 3s 808us/step - loss: 0.2190 - accuracy: 0.9142\n",
      "3582/3582 [==============================] - 3s 926us/step - loss: 0.2195 - accuracy: 0.9140\n",
      "3582/3582 [==============================] - 4s 1ms/step - loss: 0.2191 - accuracy: 0.9142\n",
      "3582/3582 [==============================] - 3s 899us/step - loss: 0.2189 - accuracy: 0.91430s - loss: 0.2197 - accuracy\n",
      "3582/3582 [==============================] - 3s 875us/step - loss: 0.2187 - accuracy: 0.9143\n",
      "3582/3582 [==============================] - 3s 895us/step - loss: 0.2194 - accuracy: 0.9141\n",
      "3582/3582 [==============================] - 4s 983us/step - loss: 0.2186 - accuracy: 0.9144\n",
      "3582/3582 [==============================] - 3s 897us/step - loss: 0.2184 - accuracy: 0.9143\n",
      "3582/3582 [==============================] - 3s 884us/step - loss: 0.2188 - accuracy: 0.91410s - loss: 0.2187 \n",
      "3582/3582 [==============================] - 3s 786us/step - loss: 0.2193 - accuracy: 0.9142\n",
      "3582/3582 [==============================] - 3s 786us/step - loss: 0.2200 - accuracy: 0.9141\n",
      "3582/3582 [==============================] - 3s 920us/step - loss: 0.2189 - accuracy: 0.9141\n",
      "3582/3582 [==============================] - 3s 840us/step - loss: 0.2188 - accuracy: 0.9143\n",
      "3582/3582 [==============================] - 3s 874us/step - loss: 0.2178 - accuracy: 0.9144\n",
      "3582/3582 [==============================] - 3s 949us/step - loss: 0.2187 - accuracy: 0.9144\n",
      "3582/3582 [==============================] - 3s 913us/step - loss: 0.2184 - accuracy: 0.9145\n",
      "3582/3582 [==============================] - 3s 852us/step - loss: 0.2177 - accuracy: 0.9144\n",
      "3582/3582 [==============================] - 3s 843us/step - loss: 0.2193 - accuracy: 0.9141\n",
      "3582/3582 [==============================] - 3s 850us/step - loss: 0.2185 - accuracy: 0.9143\n",
      "3582/3582 [==============================] - 3s 858us/step - loss: 0.2193 - accuracy: 0.9141\n",
      "3582/3582 [==============================] - 3s 805us/step - loss: 0.2197 - accuracy: 0.9141\n",
      "3582/3582 [==============================] - 3s 753us/step - loss: 0.2182 - accuracy: 0.9145\n",
      "3582/3582 [==============================] - 3s 755us/step - loss: 0.2196 - accuracy: 0.9139\n",
      "3582/3582 [==============================] - 3s 745us/step - loss: 0.2188 - accuracy: 0.9143\n",
      "3582/3582 [==============================] - 3s 803us/step - loss: 0.2197 - accuracy: 0.9139\n",
      "3582/3582 [==============================] - 3s 825us/step - loss: 0.2190 - accuracy: 0.9141\n",
      "3582/3582 [==============================] - 3s 791us/step - loss: 0.2182 - accuracy: 0.9145\n",
      "3582/3582 [==============================] - 3s 763us/step - loss: 0.2188 - accuracy: 0.9142\n",
      "3582/3582 [==============================] - 3s 752us/step - loss: 0.2184 - accuracy: 0.9142\n",
      "3582/3582 [==============================] - 3s 772us/step - loss: 0.2188 - accuracy: 0.9143\n",
      "3582/3582 [==============================] - 3s 786us/step - loss: 0.2190 - accuracy: 0.9142\n",
      "3582/3582 [==============================] - 3s 968us/step - loss: 0.2184 - accuracy: 0.9142\n",
      "3582/3582 [==============================] - 3s 859us/step - loss: 0.2190 - accuracy: 0.9139\n",
      "3582/3582 [==============================] - 3s 900us/step - loss: 0.2183 - accuracy: 0.9145\n",
      "3582/3582 [==============================] - 3s 856us/step - loss: 0.2192 - accuracy: 0.9142\n",
      "3582/3582 [==============================] - 3s 826us/step - loss: 0.2191 - accuracy: 0.9140\n",
      "3582/3582 [==============================] - 3s 781us/step - loss: 0.2185 - accuracy: 0.9143\n",
      "3582/3582 [==============================] - 3s 772us/step - loss: 0.2194 - accuracy: 0.9140\n",
      "3582/3582 [==============================] - 3s 789us/step - loss: 0.2194 - accuracy: 0.9139\n",
      "3582/3582 [==============================] - 3s 770us/step - loss: 0.2194 - accuracy: 0.9138\n",
      "3582/3582 [==============================] - 3s 813us/step - loss: 0.2184 - accuracy: 0.9144\n",
      "3582/3582 [==============================] - 3s 800us/step - loss: 0.2185 - accuracy: 0.9144\n",
      "3582/3582 [==============================] - 3s 731us/step - loss: 0.2184 - accuracy: 0.9143\n",
      "3582/3582 [==============================] - 3s 739us/step - loss: 0.2184 - accuracy: 0.9143\n",
      "3582/3582 [==============================] - 3s 810us/step - loss: 0.2187 - accuracy: 0.9142\n",
      "3582/3582 [==============================] - 3s 780us/step - loss: 0.2187 - accuracy: 0.9143\n",
      "3582/3582 [==============================] - 3s 809us/step - loss: 0.2189 - accuracy: 0.9142\n",
      "3582/3582 [==============================] - 3s 826us/step - loss: 0.2181 - accuracy: 0.9145\n",
      "3582/3582 [==============================] - 3s 826us/step - loss: 0.2184 - accuracy: 0.9143\n",
      "3582/3582 [==============================] - 3s 837us/step - loss: 0.2190 - accuracy: 0.9142\n",
      "3582/3582 [==============================] - 3s 832us/step - loss: 0.2186 - accuracy: 0.9143\n",
      "3582/3582 [==============================] - 3s 793us/step - loss: 0.2185 - accuracy: 0.9143\n",
      "3582/3582 [==============================] - 3s 757us/step - loss: 0.2188 - accuracy: 0.9142\n",
      "3582/3582 [==============================] - 3s 754us/step - loss: 0.2200 - accuracy: 0.9138\n",
      "3582/3582 [==============================] - 3s 805us/step - loss: 0.2190 - accuracy: 0.9141\n",
      "3582/3582 [==============================] - 3s 783us/step - loss: 0.2185 - accuracy: 0.9142\n",
      "3582/3582 [==============================] - 3s 741us/step - loss: 0.2188 - accuracy: 0.9142\n",
      "3582/3582 [==============================] - 3s 809us/step - loss: 0.2185 - accuracy: 0.9143\n",
      "3582/3582 [==============================] - 3s 747us/step - loss: 0.2189 - accuracy: 0.9142\n",
      "3582/3582 [==============================] - 3s 833us/step - loss: 0.2185 - accuracy: 0.9144\n",
      "3582/3582 [==============================] - 3s 915us/step - loss: 0.2193 - accuracy: 0.9141\n",
      "3582/3582 [==============================] - 3s 830us/step - loss: 0.2183 - accuracy: 0.9144\n",
      "3582/3582 [==============================] - 3s 842us/step - loss: 0.2192 - accuracy: 0.9140\n",
      "3582/3582 [==============================] - 3s 841us/step - loss: 0.2194 - accuracy: 0.9141\n",
      "3582/3582 [==============================] - 3s 865us/step - loss: 0.2183 - accuracy: 0.9142\n",
      "3582/3582 [==============================] - 3s 878us/step - loss: 0.2191 - accuracy: 0.9140\n",
      "3582/3582 [==============================] - 4s 1ms/step - loss: 0.2183 - accuracy: 0.9145: 1s - loss: 0.2185  - ETA: 0s -\n",
      "3582/3582 [==============================] - 4s 1ms/step - loss: 0.2183 - accuracy: 0.9143\n",
      "3582/3582 [==============================] - 4s 1ms/step - loss: 0.2200 - accuracy: 0.9139\n",
      "3582/3582 [==============================] - 3s 906us/step - loss: 0.2200 - accuracy: 0.9139\n",
      "3582/3582 [==============================] - 3s 828us/step - loss: 0.2189 - accuracy: 0.9142\n",
      "3582/3582 [==============================] - 3s 758us/step - loss: 0.2199 - accuracy: 0.9140\n",
      "3582/3582 [==============================] - 3s 743us/step - loss: 0.2192 - accuracy: 0.9142\n",
      "3582/3582 [==============================] - 3s 782us/step - loss: 0.2193 - accuracy: 0.9140\n",
      "3582/3582 [==============================] - 3s 751us/step - loss: 0.2187 - accuracy: 0.9141\n",
      "3582/3582 [==============================] - 3s 783us/step - loss: 0.2188 - accuracy: 0.9142\n",
      "3582/3582 [==============================] - 3s 769us/step - loss: 0.2189 - accuracy: 0.9144\n",
      "3582/3582 [==============================] - 3s 741us/step - loss: 0.2185 - accuracy: 0.9145\n",
      "3582/3582 [==============================] - 3s 737us/step - loss: 0.2190 - accuracy: 0.9140\n",
      "3582/3582 [==============================] - 3s 760us/step - loss: 0.2183 - accuracy: 0.9144\n",
      "3582/3582 [==============================] - 3s 787us/step - loss: 0.2191 - accuracy: 0.91410s - loss: 0.2194 - accuracy: 0.\n",
      "3582/3582 [==============================] - 3s 737us/step - loss: 0.2185 - accuracy: 0.9141\n",
      "3582/3582 [==============================] - 3s 786us/step - loss: 0.2188 - accuracy: 0.9140\n",
      "3582/3582 [==============================] - 3s 816us/step - loss: 0.2198 - accuracy: 0.9139\n",
      "3582/3582 [==============================] - 3s 710us/step - loss: 0.2187 - accuracy: 0.9145\n",
      "3582/3582 [==============================] - 3s 707us/step - loss: 0.2183 - accuracy: 0.9144\n"
     ]
    },
    {
     "name": "stdout",
     "output_type": "stream",
     "text": [
      "3582/3582 [==============================] - 3s 718us/step - loss: 0.2192 - accuracy: 0.9139\n",
      "3582/3582 [==============================] - 3s 705us/step - loss: 0.2187 - accuracy: 0.9144\n",
      "3582/3582 [==============================] - 3s 801us/step - loss: 0.2185 - accuracy: 0.9144\n",
      "3582/3582 [==============================] - 3s 736us/step - loss: 0.2187 - accuracy: 0.9144\n",
      "3582/3582 [==============================] - 3s 712us/step - loss: 0.2183 - accuracy: 0.9144\n",
      "3582/3582 [==============================] - 3s 737us/step - loss: 0.2188 - accuracy: 0.9142\n",
      "3582/3582 [==============================] - 3s 778us/step - loss: 0.2191 - accuracy: 0.9141\n",
      "3582/3582 [==============================] - 3s 867us/step - loss: 0.2187 - accuracy: 0.9142\n",
      "3582/3582 [==============================] - 3s 728us/step - loss: 0.2181 - accuracy: 0.9144\n",
      "3582/3582 [==============================] - 3s 841us/step - loss: 0.2184 - accuracy: 0.9146\n",
      "3582/3582 [==============================] - 3s 816us/step - loss: 0.2187 - accuracy: 0.9141\n",
      "3582/3582 [==============================] - 3s 827us/step - loss: 0.2197 - accuracy: 0.9141\n",
      "Mean: 0.9142056155686427\n",
      "Std: 0.00017722203098341746\n"
     ]
    }
   ],
   "source": [
    "# Run the testing 100 times, and save the accuracies in an array\n",
    "results = []\n",
    "\n",
    "for _ in range(1,100):\n",
    "    results.append(model11.evaluate(Xtest, Ytest)[1])\n",
    "    \n",
    "# Calculate and print mean and std of accuracies\n",
    "print(f\"Mean: {np.mean(results)}\\nStd: {np.std(results)}\")\n"
   ]
  },
  {
   "cell_type": "markdown",
   "metadata": {},
   "source": [
    "# Part 21: Cross validation uncertainty\n",
    "\n",
    "Cross validation (CV) is often used to evaluate a model, by training and testing using different subsets of the data it is possible to get the uncertainty as the standard deviation over folds. We here use a help function from scikit-learn to setup the CV, see https://scikit-learn.org/stable/modules/generated/sklearn.model_selection.StratifiedKFold.html . Use 10 folds with shuffling, random state 1234. \n",
    "\n",
    "Note: We here assume that you have found the best hyper parameters, so here the data are only split into training and testing, no validation.\n",
    "\n",
    "---\n",
    "\n",
    "Question 22: What is the mean and the standard deviation of the test accuracy?\n",
    "\n",
    "Question 23: What is the main advantage of dropout compared to CV for estimating test uncertainty? The difference may not be so large in this notebook, but imagine that you have a network that takes 24 hours to train."
   ]
  },
  {
   "cell_type": "code",
   "execution_count": 135,
   "metadata": {},
   "outputs": [
    {
     "name": "stdout",
     "output_type": "stream",
     "text": [
      "TRAIN: [     0      1      2 ... 764134 764135 764136] TEST: [    18     28     33 ... 764111 764114 764116]\n",
      "WARNING:tensorflow:Please add `keras.layers.InputLayer` instead of `keras.Input` to Sequential model. `keras.Input` is intended to be used by Functional model.\n"
     ]
    },
    {
     "name": "stderr",
     "output_type": "stream",
     "text": [
      "/Users/yuki/opt/miniconda3/envs/deeplearning/lib/python3.9/site-packages/sklearn/utils/validation.py:70: FutureWarning: Pass classes=[0 1], y=[0 0 0 ... 1 1 1] as keyword args. From version 1.0 (renaming of 0.25) passing these as positional arguments will result in an error\n",
      "  warnings.warn(f\"Pass {args_msg} as keyword args. From version \"\n"
     ]
    },
    {
     "name": "stdout",
     "output_type": "stream",
     "text": [
      "Epoch 1/30\n",
      "688/688 [==============================] - 3s 2ms/step - loss: 0.3557 - accuracy: 0.8097\n",
      "Epoch 2/30\n",
      "688/688 [==============================] - 2s 3ms/step - loss: 0.1944 - accuracy: 0.9032\n",
      "Epoch 3/30\n",
      "688/688 [==============================] - 2s 3ms/step - loss: 0.1886 - accuracy: 0.9057\n",
      "Epoch 4/30\n",
      "688/688 [==============================] - 2s 3ms/step - loss: 0.1859 - accuracy: 0.9073\n",
      "Epoch 5/30\n",
      "688/688 [==============================] - 2s 3ms/step - loss: 0.1815 - accuracy: 0.9094\n",
      "Epoch 6/30\n",
      "688/688 [==============================] - 2s 3ms/step - loss: 0.1805 - accuracy: 0.9099\n",
      "Epoch 7/30\n",
      "688/688 [==============================] - 2s 3ms/step - loss: 0.1787 - accuracy: 0.9108\n",
      "Epoch 8/30\n",
      "688/688 [==============================] - 2s 3ms/step - loss: 0.1791 - accuracy: 0.9106\n",
      "Epoch 9/30\n",
      "688/688 [==============================] - 2s 3ms/step - loss: 0.1776 - accuracy: 0.9115\n",
      "Epoch 10/30\n",
      "688/688 [==============================] - 2s 3ms/step - loss: 0.1777 - accuracy: 0.9113\n",
      "Epoch 11/30\n",
      "688/688 [==============================] - 2s 3ms/step - loss: 0.1765 - accuracy: 0.9119\n",
      "Epoch 12/30\n",
      "688/688 [==============================] - 2s 3ms/step - loss: 0.1770 - accuracy: 0.9113\n",
      "Epoch 13/30\n",
      "688/688 [==============================] - 2s 3ms/step - loss: 0.1756 - accuracy: 0.9123\n",
      "Epoch 14/30\n",
      "688/688 [==============================] - 2s 3ms/step - loss: 0.1745 - accuracy: 0.9132\n",
      "Epoch 15/30\n",
      "688/688 [==============================] - 2s 3ms/step - loss: 0.1730 - accuracy: 0.9140\n",
      "Epoch 16/30\n",
      "688/688 [==============================] - 2s 3ms/step - loss: 0.1731 - accuracy: 0.9138\n",
      "Epoch 17/30\n",
      "688/688 [==============================] - 2s 3ms/step - loss: 0.1730 - accuracy: 0.9139: 0s - loss: 0.1730 - accuracy: \n",
      "Epoch 18/30\n",
      "688/688 [==============================] - 2s 3ms/step - loss: 0.1748 - accuracy: 0.9133\n",
      "Epoch 19/30\n",
      "688/688 [==============================] - 2s 3ms/step - loss: 0.1716 - accuracy: 0.9147\n",
      "Epoch 20/30\n",
      "688/688 [==============================] - 2s 3ms/step - loss: 0.1731 - accuracy: 0.9136\n",
      "Epoch 21/30\n",
      "688/688 [==============================] - 2s 3ms/step - loss: 0.1720 - accuracy: 0.9145\n",
      "Epoch 22/30\n",
      "688/688 [==============================] - 2s 3ms/step - loss: 0.1724 - accuracy: 0.9141\n",
      "Epoch 23/30\n",
      "688/688 [==============================] - 2s 3ms/step - loss: 0.1719 - accuracy: 0.9143\n",
      "Epoch 24/30\n",
      "688/688 [==============================] - 2s 3ms/step - loss: 0.1706 - accuracy: 0.9151: 0s - loss: 0.1705 - accuracy: 0.91\n",
      "Epoch 25/30\n",
      "688/688 [==============================] - 2s 3ms/step - loss: 0.1715 - accuracy: 0.9147\n",
      "Epoch 26/30\n",
      "688/688 [==============================] - 2s 3ms/step - loss: 0.1721 - accuracy: 0.9142\n",
      "Epoch 27/30\n",
      "688/688 [==============================] - 2s 3ms/step - loss: 0.1728 - accuracy: 0.9138\n",
      "Epoch 28/30\n",
      "688/688 [==============================] - 2s 3ms/step - loss: 0.1714 - accuracy: 0.9148\n",
      "Epoch 29/30\n",
      "688/688 [==============================] - 2s 3ms/step - loss: 0.1720 - accuracy: 0.9141\n",
      "Epoch 30/30\n",
      "688/688 [==============================] - 2s 3ms/step - loss: 0.1717 - accuracy: 0.9146\n",
      "3582/3582 [==============================] - 3s 743us/step - loss: 0.2198 - accuracy: 0.9143\n",
      "TRAIN: [     0      1      2 ... 764134 764135 764136] TEST: [     9     15     26 ... 764097 764123 764125]\n",
      "WARNING:tensorflow:Please add `keras.layers.InputLayer` instead of `keras.Input` to Sequential model. `keras.Input` is intended to be used by Functional model.\n",
      "Epoch 1/30\n",
      "688/688 [==============================] - 3s 3ms/step - loss: 0.3414 - accuracy: 0.8191\n",
      "Epoch 2/30\n",
      "688/688 [==============================] - 2s 3ms/step - loss: 0.1920 - accuracy: 0.9046\n",
      "Epoch 3/30\n",
      "688/688 [==============================] - 2s 3ms/step - loss: 0.1863 - accuracy: 0.9068\n",
      "Epoch 4/30\n",
      "688/688 [==============================] - 2s 3ms/step - loss: 0.1832 - accuracy: 0.9083\n",
      "Epoch 5/30\n",
      "688/688 [==============================] - 2s 3ms/step - loss: 0.1798 - accuracy: 0.9094\n",
      "Epoch 6/30\n",
      "688/688 [==============================] - 2s 3ms/step - loss: 0.1804 - accuracy: 0.9094\n",
      "Epoch 7/30\n",
      "688/688 [==============================] - 2s 3ms/step - loss: 0.1793 - accuracy: 0.9099\n",
      "Epoch 8/30\n",
      "688/688 [==============================] - 2s 3ms/step - loss: 0.1788 - accuracy: 0.9098\n",
      "Epoch 9/30\n",
      "688/688 [==============================] - 2s 3ms/step - loss: 0.1805 - accuracy: 0.9100\n",
      "Epoch 10/30\n",
      "688/688 [==============================] - 2s 3ms/step - loss: 0.1788 - accuracy: 0.9100\n",
      "Epoch 11/30\n",
      "688/688 [==============================] - 2s 3ms/step - loss: 0.1778 - accuracy: 0.9108\n",
      "Epoch 12/30\n",
      "688/688 [==============================] - 2s 3ms/step - loss: 0.1775 - accuracy: 0.9108\n",
      "Epoch 13/30\n",
      "688/688 [==============================] - 2s 3ms/step - loss: 0.1766 - accuracy: 0.9112\n",
      "Epoch 14/30\n",
      "688/688 [==============================] - 2s 3ms/step - loss: 0.1770 - accuracy: 0.9109\n",
      "Epoch 15/30\n",
      "688/688 [==============================] - 2s 3ms/step - loss: 0.1765 - accuracy: 0.9114\n",
      "Epoch 16/30\n",
      "688/688 [==============================] - 2s 3ms/step - loss: 0.1774 - accuracy: 0.9105\n",
      "Epoch 17/30\n",
      "688/688 [==============================] - 2s 3ms/step - loss: 0.1759 - accuracy: 0.9117\n",
      "Epoch 18/30\n",
      "688/688 [==============================] - 2s 3ms/step - loss: 0.1772 - accuracy: 0.9112\n",
      "Epoch 19/30\n",
      "688/688 [==============================] - 2s 3ms/step - loss: 0.1758 - accuracy: 0.9123\n",
      "Epoch 20/30\n",
      "688/688 [==============================] - 2s 3ms/step - loss: 0.1762 - accuracy: 0.9126\n",
      "Epoch 21/30\n",
      "688/688 [==============================] - 2s 3ms/step - loss: 0.1761 - accuracy: 0.9116\n",
      "Epoch 22/30\n",
      "688/688 [==============================] - 2s 3ms/step - loss: 0.1755 - accuracy: 0.9118\n",
      "Epoch 23/30\n",
      "688/688 [==============================] - 2s 3ms/step - loss: 0.1751 - accuracy: 0.9123\n",
      "Epoch 24/30\n",
      "688/688 [==============================] - 2s 3ms/step - loss: 0.1786 - accuracy: 0.9119\n",
      "Epoch 25/30\n",
      "688/688 [==============================] - 2s 3ms/step - loss: 0.1759 - accuracy: 0.9124\n",
      "Epoch 26/30\n",
      "688/688 [==============================] - 2s 3ms/step - loss: 0.1755 - accuracy: 0.9124\n",
      "Epoch 27/30\n",
      "688/688 [==============================] - 2s 3ms/step - loss: 0.1758 - accuracy: 0.9120\n",
      "Epoch 28/30\n",
      "688/688 [==============================] - 2s 3ms/step - loss: 0.1764 - accuracy: 0.9126\n",
      "Epoch 29/30\n",
      "688/688 [==============================] - 2s 3ms/step - loss: 0.1768 - accuracy: 0.9113\n",
      "Epoch 30/30\n",
      "688/688 [==============================] - 2s 3ms/step - loss: 0.1767 - accuracy: 0.9118\n",
      "3582/3582 [==============================] - 3s 760us/step - loss: 0.2220 - accuracy: 0.9128\n",
      "TRAIN: [     0      1      2 ... 764133 764134 764136] TEST: [    11     12     19 ... 764127 764130 764135]\n",
      "WARNING:tensorflow:Please add `keras.layers.InputLayer` instead of `keras.Input` to Sequential model. `keras.Input` is intended to be used by Functional model.\n",
      "Epoch 1/30\n",
      "688/688 [==============================] - 3s 3ms/step - loss: 0.3345 - accuracy: 0.8273\n",
      "Epoch 2/30\n",
      "688/688 [==============================] - 2s 3ms/step - loss: 0.1888 - accuracy: 0.9066\n",
      "Epoch 3/30\n",
      "688/688 [==============================] - 2s 3ms/step - loss: 0.1843 - accuracy: 0.9082\n",
      "Epoch 4/30\n",
      "688/688 [==============================] - 2s 3ms/step - loss: 0.1808 - accuracy: 0.9104\n",
      "Epoch 5/30\n",
      "688/688 [==============================] - 2s 3ms/step - loss: 0.1788 - accuracy: 0.9108\n",
      "Epoch 6/30\n",
      "688/688 [==============================] - 2s 3ms/step - loss: 0.1778 - accuracy: 0.9107\n",
      "Epoch 7/30\n",
      "688/688 [==============================] - 2s 3ms/step - loss: 0.1805 - accuracy: 0.9095\n",
      "Epoch 8/30\n",
      "688/688 [==============================] - 2s 3ms/step - loss: 0.1766 - accuracy: 0.9116\n",
      "Epoch 9/30\n",
      "688/688 [==============================] - 2s 3ms/step - loss: 0.1755 - accuracy: 0.9122\n",
      "Epoch 10/30\n",
      "688/688 [==============================] - 2s 3ms/step - loss: 0.1768 - accuracy: 0.9114\n",
      "Epoch 11/30\n",
      "688/688 [==============================] - 2s 3ms/step - loss: 0.1761 - accuracy: 0.9125\n",
      "Epoch 12/30\n",
      "688/688 [==============================] - 2s 3ms/step - loss: 0.1739 - accuracy: 0.9127\n",
      "Epoch 13/30\n",
      "688/688 [==============================] - 2s 3ms/step - loss: 0.1745 - accuracy: 0.9121\n",
      "Epoch 14/30\n"
     ]
    },
    {
     "name": "stdout",
     "output_type": "stream",
     "text": [
      "688/688 [==============================] - 2s 3ms/step - loss: 0.1748 - accuracy: 0.9124\n",
      "Epoch 15/30\n",
      "688/688 [==============================] - 2s 3ms/step - loss: 0.1748 - accuracy: 0.9121\n",
      "Epoch 16/30\n",
      "688/688 [==============================] - 2s 3ms/step - loss: 0.1741 - accuracy: 0.9131\n",
      "Epoch 17/30\n",
      "688/688 [==============================] - 2s 3ms/step - loss: 0.1729 - accuracy: 0.9132\n",
      "Epoch 18/30\n",
      "688/688 [==============================] - 2s 3ms/step - loss: 0.1735 - accuracy: 0.9128\n",
      "Epoch 19/30\n",
      "688/688 [==============================] - 2s 3ms/step - loss: 0.1725 - accuracy: 0.9131\n",
      "Epoch 20/30\n",
      "688/688 [==============================] - 2s 3ms/step - loss: 0.1719 - accuracy: 0.9135\n",
      "Epoch 21/30\n",
      "688/688 [==============================] - 2s 3ms/step - loss: 0.1724 - accuracy: 0.9136\n",
      "Epoch 22/30\n",
      "688/688 [==============================] - 2s 3ms/step - loss: 0.1733 - accuracy: 0.9129\n",
      "Epoch 23/30\n",
      "688/688 [==============================] - 2s 3ms/step - loss: 0.1714 - accuracy: 0.9139\n",
      "Epoch 24/30\n",
      "688/688 [==============================] - 2s 3ms/step - loss: 0.1711 - accuracy: 0.9141\n",
      "Epoch 25/30\n",
      "688/688 [==============================] - 2s 3ms/step - loss: 0.1723 - accuracy: 0.9136\n",
      "Epoch 26/30\n",
      "688/688 [==============================] - 2s 3ms/step - loss: 0.1727 - accuracy: 0.9138\n",
      "Epoch 27/30\n",
      "688/688 [==============================] - 2s 3ms/step - loss: 0.1721 - accuracy: 0.9136\n",
      "Epoch 28/30\n",
      "688/688 [==============================] - 2s 3ms/step - loss: 0.1724 - accuracy: 0.9132\n",
      "Epoch 29/30\n",
      "688/688 [==============================] - 2s 3ms/step - loss: 0.1718 - accuracy: 0.9135\n",
      "Epoch 30/30\n",
      "688/688 [==============================] - 2s 3ms/step - loss: 0.1719 - accuracy: 0.9134\n",
      "3582/3582 [==============================] - 4s 882us/step - loss: 0.2170 - accuracy: 0.9132\n",
      "TRAIN: [     0      1      2 ... 764134 764135 764136] TEST: [     3      7     13 ... 764101 764102 764104]\n",
      "WARNING:tensorflow:Please add `keras.layers.InputLayer` instead of `keras.Input` to Sequential model. `keras.Input` is intended to be used by Functional model.\n",
      "Epoch 1/30\n",
      "688/688 [==============================] - 3s 3ms/step - loss: 0.3443 - accuracy: 0.8210\n",
      "Epoch 2/30\n",
      "688/688 [==============================] - 2s 3ms/step - loss: 0.1907 - accuracy: 0.9043\n",
      "Epoch 3/30\n",
      "688/688 [==============================] - 2s 3ms/step - loss: 0.1850 - accuracy: 0.9080\n",
      "Epoch 4/30\n",
      "688/688 [==============================] - 2s 3ms/step - loss: 0.1797 - accuracy: 0.9107\n",
      "Epoch 5/30\n",
      "688/688 [==============================] - 2s 3ms/step - loss: 0.1784 - accuracy: 0.9114\n",
      "Epoch 6/30\n",
      "688/688 [==============================] - 2s 3ms/step - loss: 0.1793 - accuracy: 0.9103\n",
      "Epoch 7/30\n",
      "688/688 [==============================] - 2s 3ms/step - loss: 0.1773 - accuracy: 0.9114\n",
      "Epoch 8/30\n",
      "688/688 [==============================] - 2s 3ms/step - loss: 0.1771 - accuracy: 0.9119\n",
      "Epoch 9/30\n",
      "688/688 [==============================] - 2s 3ms/step - loss: 0.1759 - accuracy: 0.9122\n",
      "Epoch 10/30\n",
      "688/688 [==============================] - 2s 3ms/step - loss: 0.1751 - accuracy: 0.9124\n",
      "Epoch 11/30\n",
      "688/688 [==============================] - 2s 3ms/step - loss: 0.1762 - accuracy: 0.9119\n",
      "Epoch 12/30\n",
      "688/688 [==============================] - 2s 3ms/step - loss: 0.1751 - accuracy: 0.9129\n",
      "Epoch 13/30\n",
      "688/688 [==============================] - 2s 3ms/step - loss: 0.1748 - accuracy: 0.9130: 1s - loss: 0.1751 - accuracy\n",
      "Epoch 14/30\n",
      "688/688 [==============================] - 2s 3ms/step - loss: 0.1739 - accuracy: 0.9130\n",
      "Epoch 15/30\n",
      "688/688 [==============================] - 2s 3ms/step - loss: 0.1735 - accuracy: 0.9132\n",
      "Epoch 16/30\n",
      "688/688 [==============================] - 2s 3ms/step - loss: 0.1737 - accuracy: 0.9131\n",
      "Epoch 17/30\n",
      "688/688 [==============================] - 2s 3ms/step - loss: 0.1740 - accuracy: 0.9128\n",
      "Epoch 18/30\n",
      "688/688 [==============================] - 2s 3ms/step - loss: 0.1717 - accuracy: 0.9137\n",
      "Epoch 19/30\n",
      "688/688 [==============================] - 2s 3ms/step - loss: 0.1723 - accuracy: 0.9136\n",
      "Epoch 20/30\n",
      "688/688 [==============================] - 2s 3ms/step - loss: 0.1732 - accuracy: 0.9134\n",
      "Epoch 21/30\n",
      "688/688 [==============================] - 2s 3ms/step - loss: 0.1730 - accuracy: 0.9140\n",
      "Epoch 22/30\n",
      "688/688 [==============================] - 2s 3ms/step - loss: 0.1728 - accuracy: 0.9137\n",
      "Epoch 23/30\n",
      "688/688 [==============================] - 2s 3ms/step - loss: 0.1731 - accuracy: 0.9141\n",
      "Epoch 24/30\n",
      "688/688 [==============================] - 2s 3ms/step - loss: 0.1719 - accuracy: 0.9143\n",
      "Epoch 25/30\n",
      "688/688 [==============================] - 2s 3ms/step - loss: 0.1717 - accuracy: 0.9142\n",
      "Epoch 26/30\n",
      "688/688 [==============================] - 2s 3ms/step - loss: 0.1729 - accuracy: 0.9137\n",
      "Epoch 27/30\n",
      "688/688 [==============================] - 2s 3ms/step - loss: 0.1715 - accuracy: 0.9140\n",
      "Epoch 28/30\n",
      "688/688 [==============================] - 2s 3ms/step - loss: 0.1719 - accuracy: 0.9140\n",
      "Epoch 29/30\n",
      "688/688 [==============================] - 2s 3ms/step - loss: 0.1711 - accuracy: 0.9147\n",
      "Epoch 30/30\n",
      "688/688 [==============================] - 2s 3ms/step - loss: 0.1725 - accuracy: 0.9144\n",
      "3582/3582 [==============================] - 3s 806us/step - loss: 0.2196 - accuracy: 0.9138\n",
      "TRAIN: [     0      1      2 ... 764134 764135 764136] TEST: [     5      6     14 ... 764119 764121 764129]\n",
      "WARNING:tensorflow:Please add `keras.layers.InputLayer` instead of `keras.Input` to Sequential model. `keras.Input` is intended to be used by Functional model.\n",
      "Epoch 1/30\n",
      "688/688 [==============================] - 3s 3ms/step - loss: 0.3481 - accuracy: 0.8143\n",
      "Epoch 2/30\n",
      "688/688 [==============================] - 2s 3ms/step - loss: 0.1875 - accuracy: 0.9097\n",
      "Epoch 3/30\n",
      "688/688 [==============================] - 2s 3ms/step - loss: 0.1829 - accuracy: 0.9110\n",
      "Epoch 4/30\n",
      "688/688 [==============================] - 2s 3ms/step - loss: 0.1806 - accuracy: 0.9115\n",
      "Epoch 5/30\n",
      "688/688 [==============================] - 2s 3ms/step - loss: 0.1799 - accuracy: 0.9117\n",
      "Epoch 6/30\n",
      "688/688 [==============================] - 2s 3ms/step - loss: 0.1779 - accuracy: 0.9123\n",
      "Epoch 7/30\n",
      "688/688 [==============================] - 2s 3ms/step - loss: 0.1776 - accuracy: 0.9121\n",
      "Epoch 8/30\n",
      "688/688 [==============================] - 2s 3ms/step - loss: 0.1771 - accuracy: 0.9117\n",
      "Epoch 9/30\n",
      "688/688 [==============================] - 2s 3ms/step - loss: 0.1761 - accuracy: 0.9122\n",
      "Epoch 10/30\n",
      "688/688 [==============================] - 2s 3ms/step - loss: 0.1746 - accuracy: 0.9134\n",
      "Epoch 11/30\n",
      "688/688 [==============================] - 2s 3ms/step - loss: 0.1753 - accuracy: 0.9133\n",
      "Epoch 12/30\n",
      "688/688 [==============================] - 2s 3ms/step - loss: 0.1729 - accuracy: 0.9144\n",
      "Epoch 13/30\n",
      "688/688 [==============================] - 2s 3ms/step - loss: 0.1725 - accuracy: 0.9143\n",
      "Epoch 14/30\n",
      "688/688 [==============================] - 2s 3ms/step - loss: 0.1725 - accuracy: 0.9142\n",
      "Epoch 15/30\n",
      "688/688 [==============================] - 2s 3ms/step - loss: 0.1720 - accuracy: 0.9154\n",
      "Epoch 16/30\n",
      "688/688 [==============================] - 2s 3ms/step - loss: 0.1710 - accuracy: 0.9156\n",
      "Epoch 17/30\n",
      "688/688 [==============================] - 2s 3ms/step - loss: 0.1725 - accuracy: 0.9146\n",
      "Epoch 18/30\n",
      "688/688 [==============================] - 2s 3ms/step - loss: 0.1709 - accuracy: 0.9159\n",
      "Epoch 19/30\n",
      "688/688 [==============================] - 2s 3ms/step - loss: 0.1699 - accuracy: 0.9165\n",
      "Epoch 20/30\n",
      "688/688 [==============================] - 2s 2ms/step - loss: 0.1705 - accuracy: 0.9159\n",
      "Epoch 21/30\n",
      "688/688 [==============================] - 2s 2ms/step - loss: 0.1702 - accuracy: 0.9161\n",
      "Epoch 22/30\n",
      "688/688 [==============================] - 2s 3ms/step - loss: 0.1698 - accuracy: 0.9165\n",
      "Epoch 23/30\n",
      "688/688 [==============================] - 2s 3ms/step - loss: 0.1707 - accuracy: 0.9160\n",
      "Epoch 24/30\n",
      "688/688 [==============================] - 2s 2ms/step - loss: 0.1700 - accuracy: 0.9167\n",
      "Epoch 25/30\n",
      "688/688 [==============================] - 2s 3ms/step - loss: 0.1695 - accuracy: 0.9167\n",
      "Epoch 26/30\n",
      "688/688 [==============================] - 2s 3ms/step - loss: 0.1688 - accuracy: 0.9175\n",
      "Epoch 27/30\n"
     ]
    },
    {
     "name": "stdout",
     "output_type": "stream",
     "text": [
      "688/688 [==============================] - 2s 2ms/step - loss: 0.1698 - accuracy: 0.9165\n",
      "Epoch 28/30\n",
      "688/688 [==============================] - 2s 2ms/step - loss: 0.1697 - accuracy: 0.9167\n",
      "Epoch 29/30\n",
      "688/688 [==============================] - 2s 2ms/step - loss: 0.1693 - accuracy: 0.9168\n",
      "Epoch 30/30\n",
      "688/688 [==============================] - 2s 2ms/step - loss: 0.1688 - accuracy: 0.9172\n",
      "3582/3582 [==============================] - 2s 594us/step - loss: 0.2150 - accuracy: 0.9171\n",
      "TRAIN: [     1      2      3 ... 764133 764134 764135] TEST: [     0     24     29 ... 764108 764124 764136]\n",
      "WARNING:tensorflow:Please add `keras.layers.InputLayer` instead of `keras.Input` to Sequential model. `keras.Input` is intended to be used by Functional model.\n",
      "Epoch 1/30\n",
      "688/688 [==============================] - 2s 2ms/step - loss: 0.3527 - accuracy: 0.8073\n",
      "Epoch 2/30\n",
      "688/688 [==============================] - 2s 2ms/step - loss: 0.1904 - accuracy: 0.9066\n",
      "Epoch 3/30\n",
      "688/688 [==============================] - 2s 2ms/step - loss: 0.1846 - accuracy: 0.9084\n",
      "Epoch 4/30\n",
      "688/688 [==============================] - 2s 2ms/step - loss: 0.1808 - accuracy: 0.9104\n",
      "Epoch 5/30\n",
      "688/688 [==============================] - 2s 2ms/step - loss: 0.1801 - accuracy: 0.9104\n",
      "Epoch 6/30\n",
      "688/688 [==============================] - 2s 2ms/step - loss: 0.1790 - accuracy: 0.9110\n",
      "Epoch 7/30\n",
      "688/688 [==============================] - 2s 2ms/step - loss: 0.1772 - accuracy: 0.9124\n",
      "Epoch 8/30\n",
      "688/688 [==============================] - 2s 2ms/step - loss: 0.1763 - accuracy: 0.9125\n",
      "Epoch 9/30\n",
      "688/688 [==============================] - 2s 2ms/step - loss: 0.1728 - accuracy: 0.9138\n",
      "Epoch 10/30\n",
      "688/688 [==============================] - 2s 2ms/step - loss: 0.1764 - accuracy: 0.9123\n",
      "Epoch 11/30\n",
      "688/688 [==============================] - 2s 2ms/step - loss: 0.1753 - accuracy: 0.9121\n",
      "Epoch 12/30\n",
      "688/688 [==============================] - 2s 2ms/step - loss: 0.1759 - accuracy: 0.9129\n",
      "Epoch 13/30\n",
      "688/688 [==============================] - 2s 2ms/step - loss: 0.1741 - accuracy: 0.9136\n",
      "Epoch 14/30\n",
      "688/688 [==============================] - 2s 2ms/step - loss: 0.1727 - accuracy: 0.9142\n",
      "Epoch 15/30\n",
      "688/688 [==============================] - 2s 2ms/step - loss: 0.1730 - accuracy: 0.9140\n",
      "Epoch 16/30\n",
      "688/688 [==============================] - 2s 2ms/step - loss: 0.1726 - accuracy: 0.9138\n",
      "Epoch 17/30\n",
      "688/688 [==============================] - 2s 2ms/step - loss: 0.1737 - accuracy: 0.9129\n",
      "Epoch 18/30\n",
      "688/688 [==============================] - 2s 2ms/step - loss: 0.1719 - accuracy: 0.9147\n",
      "Epoch 19/30\n",
      "688/688 [==============================] - 2s 2ms/step - loss: 0.1713 - accuracy: 0.9154\n",
      "Epoch 20/30\n",
      "688/688 [==============================] - 2s 2ms/step - loss: 0.1711 - accuracy: 0.9150\n",
      "Epoch 21/30\n",
      "688/688 [==============================] - 2s 2ms/step - loss: 0.1703 - accuracy: 0.9154\n",
      "Epoch 22/30\n",
      "688/688 [==============================] - 2s 2ms/step - loss: 0.1698 - accuracy: 0.9156\n",
      "Epoch 23/30\n",
      "688/688 [==============================] - 2s 2ms/step - loss: 0.1695 - accuracy: 0.9160\n",
      "Epoch 24/30\n",
      "688/688 [==============================] - 2s 2ms/step - loss: 0.1708 - accuracy: 0.9157\n",
      "Epoch 25/30\n",
      "688/688 [==============================] - 2s 2ms/step - loss: 0.1703 - accuracy: 0.9159\n",
      "Epoch 26/30\n",
      "688/688 [==============================] - 2s 2ms/step - loss: 0.1693 - accuracy: 0.9162\n",
      "Epoch 27/30\n",
      "688/688 [==============================] - 2s 2ms/step - loss: 0.1706 - accuracy: 0.9156\n",
      "Epoch 28/30\n",
      "688/688 [==============================] - 2s 2ms/step - loss: 0.1703 - accuracy: 0.9160\n",
      "Epoch 29/30\n",
      "688/688 [==============================] - 2s 2ms/step - loss: 0.1707 - accuracy: 0.9156\n",
      "Epoch 30/30\n",
      "688/688 [==============================] - 2s 2ms/step - loss: 0.1698 - accuracy: 0.9159\n",
      "3582/3582 [==============================] - 2s 598us/step - loss: 0.2159 - accuracy: 0.9163\n",
      "TRAIN: [     0      1      2 ... 764134 764135 764136] TEST: [     4     10     30 ... 764094 764096 764113]\n",
      "WARNING:tensorflow:Please add `keras.layers.InputLayer` instead of `keras.Input` to Sequential model. `keras.Input` is intended to be used by Functional model.\n",
      "Epoch 1/30\n",
      "688/688 [==============================] - 2s 2ms/step - loss: 0.3627 - accuracy: 0.8015\n",
      "Epoch 2/30\n",
      "688/688 [==============================] - 2s 2ms/step - loss: 0.1904 - accuracy: 0.9061\n",
      "Epoch 3/30\n",
      "688/688 [==============================] - 2s 2ms/step - loss: 0.1836 - accuracy: 0.9085\n",
      "Epoch 4/30\n",
      "688/688 [==============================] - 2s 2ms/step - loss: 0.1805 - accuracy: 0.9100\n",
      "Epoch 5/30\n",
      "688/688 [==============================] - 2s 2ms/step - loss: 0.1798 - accuracy: 0.9110\n",
      "Epoch 6/30\n",
      "688/688 [==============================] - 2s 2ms/step - loss: 0.1794 - accuracy: 0.9105\n",
      "Epoch 7/30\n",
      "688/688 [==============================] - 2s 2ms/step - loss: 0.1788 - accuracy: 0.9111\n",
      "Epoch 8/30\n",
      "688/688 [==============================] - 2s 2ms/step - loss: 0.1778 - accuracy: 0.9113\n",
      "Epoch 9/30\n",
      "688/688 [==============================] - 2s 2ms/step - loss: 0.1764 - accuracy: 0.9118\n",
      "Epoch 10/30\n",
      "688/688 [==============================] - 2s 2ms/step - loss: 0.1766 - accuracy: 0.9116\n",
      "Epoch 11/30\n",
      "688/688 [==============================] - 2s 2ms/step - loss: 0.1767 - accuracy: 0.9118\n",
      "Epoch 12/30\n",
      "688/688 [==============================] - 2s 2ms/step - loss: 0.1760 - accuracy: 0.9130\n",
      "Epoch 13/30\n",
      "688/688 [==============================] - 2s 2ms/step - loss: 0.1748 - accuracy: 0.9134\n",
      "Epoch 14/30\n",
      "688/688 [==============================] - 2s 2ms/step - loss: 0.1742 - accuracy: 0.9132\n",
      "Epoch 15/30\n",
      "688/688 [==============================] - 2s 2ms/step - loss: 0.1754 - accuracy: 0.9130\n",
      "Epoch 16/30\n",
      "688/688 [==============================] - 2s 2ms/step - loss: 0.1748 - accuracy: 0.9129\n",
      "Epoch 17/30\n",
      "688/688 [==============================] - 2s 2ms/step - loss: 0.1750 - accuracy: 0.9129\n",
      "Epoch 18/30\n",
      "688/688 [==============================] - 2s 2ms/step - loss: 0.1746 - accuracy: 0.9132\n",
      "Epoch 19/30\n",
      "688/688 [==============================] - 2s 2ms/step - loss: 0.1751 - accuracy: 0.9131\n",
      "Epoch 20/30\n",
      "688/688 [==============================] - 2s 2ms/step - loss: 0.1749 - accuracy: 0.9130\n",
      "Epoch 21/30\n",
      "688/688 [==============================] - 2s 2ms/step - loss: 0.1752 - accuracy: 0.9129\n",
      "Epoch 22/30\n",
      "688/688 [==============================] - 2s 2ms/step - loss: 0.1731 - accuracy: 0.9135\n",
      "Epoch 23/30\n",
      "688/688 [==============================] - 2s 2ms/step - loss: 0.1743 - accuracy: 0.9131\n",
      "Epoch 24/30\n",
      "688/688 [==============================] - 2s 2ms/step - loss: 0.1736 - accuracy: 0.9139\n",
      "Epoch 25/30\n",
      "688/688 [==============================] - 2s 2ms/step - loss: 0.1728 - accuracy: 0.9142\n",
      "Epoch 26/30\n",
      "688/688 [==============================] - 2s 2ms/step - loss: 0.1737 - accuracy: 0.9136\n",
      "Epoch 27/30\n",
      "688/688 [==============================] - 2s 2ms/step - loss: 0.1716 - accuracy: 0.9144\n",
      "Epoch 28/30\n",
      "688/688 [==============================] - 2s 2ms/step - loss: 0.1738 - accuracy: 0.9136\n",
      "Epoch 29/30\n",
      "688/688 [==============================] - 2s 2ms/step - loss: 0.1715 - accuracy: 0.9140\n",
      "Epoch 30/30\n",
      "688/688 [==============================] - 2s 2ms/step - loss: 0.1733 - accuracy: 0.9137\n",
      "3582/3582 [==============================] - 2s 595us/step - loss: 0.2201 - accuracy: 0.9145\n",
      "TRAIN: [     0      1      3 ... 764133 764135 764136] TEST: [     2      8     61 ... 764115 764126 764134]\n",
      "WARNING:tensorflow:Please add `keras.layers.InputLayer` instead of `keras.Input` to Sequential model. `keras.Input` is intended to be used by Functional model.\n",
      "Epoch 1/30\n",
      "688/688 [==============================] - 3s 2ms/step - loss: 0.3406 - accuracy: 0.8199\n",
      "Epoch 2/30\n",
      "688/688 [==============================] - 2s 2ms/step - loss: 0.1938 - accuracy: 0.9052\n",
      "Epoch 3/30\n",
      "688/688 [==============================] - 2s 2ms/step - loss: 0.1908 - accuracy: 0.9064\n",
      "Epoch 4/30\n",
      "688/688 [==============================] - 2s 2ms/step - loss: 0.1860 - accuracy: 0.9075\n",
      "Epoch 5/30\n",
      "688/688 [==============================] - 2s 2ms/step - loss: 0.1814 - accuracy: 0.9094\n",
      "Epoch 6/30\n",
      "688/688 [==============================] - 2s 2ms/step - loss: 0.1819 - accuracy: 0.9092\n",
      "Epoch 7/30\n"
     ]
    },
    {
     "name": "stdout",
     "output_type": "stream",
     "text": [
      "688/688 [==============================] - 2s 2ms/step - loss: 0.1802 - accuracy: 0.9098\n",
      "Epoch 8/30\n",
      "688/688 [==============================] - 2s 2ms/step - loss: 0.1771 - accuracy: 0.9111\n",
      "Epoch 9/30\n",
      "688/688 [==============================] - 2s 2ms/step - loss: 0.1782 - accuracy: 0.9104\n",
      "Epoch 10/30\n",
      "688/688 [==============================] - 2s 2ms/step - loss: 0.1774 - accuracy: 0.9110\n",
      "Epoch 11/30\n",
      "688/688 [==============================] - 2s 2ms/step - loss: 0.1784 - accuracy: 0.9106\n",
      "Epoch 12/30\n",
      "688/688 [==============================] - 2s 2ms/step - loss: 0.1783 - accuracy: 0.9102\n",
      "Epoch 13/30\n",
      "688/688 [==============================] - 2s 2ms/step - loss: 0.1788 - accuracy: 0.9107\n",
      "Epoch 14/30\n",
      "688/688 [==============================] - 2s 2ms/step - loss: 0.1766 - accuracy: 0.9113\n",
      "Epoch 15/30\n",
      "688/688 [==============================] - 2s 2ms/step - loss: 0.1761 - accuracy: 0.9111\n",
      "Epoch 16/30\n",
      "688/688 [==============================] - 2s 2ms/step - loss: 0.1755 - accuracy: 0.9118\n",
      "Epoch 17/30\n",
      "688/688 [==============================] - 2s 2ms/step - loss: 0.1748 - accuracy: 0.9124\n",
      "Epoch 18/30\n",
      "688/688 [==============================] - 2s 2ms/step - loss: 0.1750 - accuracy: 0.9129\n",
      "Epoch 19/30\n",
      "688/688 [==============================] - 2s 2ms/step - loss: 0.1748 - accuracy: 0.9120\n",
      "Epoch 20/30\n",
      "688/688 [==============================] - 2s 2ms/step - loss: 0.1737 - accuracy: 0.9125\n",
      "Epoch 21/30\n",
      "688/688 [==============================] - 2s 2ms/step - loss: 0.1747 - accuracy: 0.9131\n",
      "Epoch 22/30\n",
      "688/688 [==============================] - 2s 2ms/step - loss: 0.1761 - accuracy: 0.9122\n",
      "Epoch 23/30\n",
      "688/688 [==============================] - 2s 2ms/step - loss: 0.1759 - accuracy: 0.9119\n",
      "Epoch 24/30\n",
      "688/688 [==============================] - 2s 2ms/step - loss: 0.1743 - accuracy: 0.9125\n",
      "Epoch 25/30\n",
      "688/688 [==============================] - 2s 2ms/step - loss: 0.1736 - accuracy: 0.9131\n",
      "Epoch 26/30\n",
      "688/688 [==============================] - 2s 2ms/step - loss: 0.1739 - accuracy: 0.9127\n",
      "Epoch 27/30\n",
      "688/688 [==============================] - 2s 2ms/step - loss: 0.1733 - accuracy: 0.9130\n",
      "Epoch 28/30\n",
      "688/688 [==============================] - 2s 2ms/step - loss: 0.1746 - accuracy: 0.9130\n",
      "Epoch 29/30\n",
      "688/688 [==============================] - 2s 2ms/step - loss: 0.1751 - accuracy: 0.9127\n",
      "Epoch 30/30\n",
      "688/688 [==============================] - 2s 2ms/step - loss: 0.1723 - accuracy: 0.9139\n",
      "3582/3582 [==============================] - 2s 600us/step - loss: 0.2232 - accuracy: 0.9134\n",
      "TRAIN: [     0      1      2 ... 764134 764135 764136] TEST: [    17     21     25 ... 764057 764100 764132]\n",
      "WARNING:tensorflow:Please add `keras.layers.InputLayer` instead of `keras.Input` to Sequential model. `keras.Input` is intended to be used by Functional model.\n",
      "Epoch 1/30\n",
      "688/688 [==============================] - 2s 2ms/step - loss: 0.3457 - accuracy: 0.8154\n",
      "Epoch 2/30\n",
      "688/688 [==============================] - 2s 2ms/step - loss: 0.1932 - accuracy: 0.9048\n",
      "Epoch 3/30\n",
      "688/688 [==============================] - 2s 2ms/step - loss: 0.1874 - accuracy: 0.9064\n",
      "Epoch 4/30\n",
      "688/688 [==============================] - 2s 2ms/step - loss: 0.1852 - accuracy: 0.9068\n",
      "Epoch 5/30\n",
      "688/688 [==============================] - 2s 2ms/step - loss: 0.1812 - accuracy: 0.9096\n",
      "Epoch 6/30\n",
      "688/688 [==============================] - 2s 2ms/step - loss: 0.1806 - accuracy: 0.9096\n",
      "Epoch 7/30\n",
      "688/688 [==============================] - 2s 2ms/step - loss: 0.1788 - accuracy: 0.9109\n",
      "Epoch 8/30\n",
      "688/688 [==============================] - 2s 2ms/step - loss: 0.1787 - accuracy: 0.9108\n",
      "Epoch 9/30\n",
      "688/688 [==============================] - 2s 2ms/step - loss: 0.1776 - accuracy: 0.9116\n",
      "Epoch 10/30\n",
      "688/688 [==============================] - 2s 2ms/step - loss: 0.1784 - accuracy: 0.9119\n",
      "Epoch 11/30\n",
      "688/688 [==============================] - 2s 2ms/step - loss: 0.1768 - accuracy: 0.9117\n",
      "Epoch 12/30\n",
      "688/688 [==============================] - 2s 2ms/step - loss: 0.1764 - accuracy: 0.9121\n",
      "Epoch 13/30\n",
      "688/688 [==============================] - 2s 2ms/step - loss: 0.1757 - accuracy: 0.9129\n",
      "Epoch 14/30\n",
      "688/688 [==============================] - 2s 2ms/step - loss: 0.1769 - accuracy: 0.9121\n",
      "Epoch 15/30\n",
      "688/688 [==============================] - 2s 2ms/step - loss: 0.1756 - accuracy: 0.9127\n",
      "Epoch 16/30\n",
      "688/688 [==============================] - 2s 2ms/step - loss: 0.1766 - accuracy: 0.9122\n",
      "Epoch 17/30\n",
      "688/688 [==============================] - 2s 2ms/step - loss: 0.1740 - accuracy: 0.9134\n",
      "Epoch 18/30\n",
      "688/688 [==============================] - 2s 2ms/step - loss: 0.1751 - accuracy: 0.9127\n",
      "Epoch 19/30\n",
      "688/688 [==============================] - 2s 2ms/step - loss: 0.1747 - accuracy: 0.9133\n",
      "Epoch 20/30\n",
      "688/688 [==============================] - 2s 2ms/step - loss: 0.1738 - accuracy: 0.9137\n",
      "Epoch 21/30\n",
      "688/688 [==============================] - 2s 2ms/step - loss: 0.1743 - accuracy: 0.9133\n",
      "Epoch 22/30\n",
      "688/688 [==============================] - 2s 2ms/step - loss: 0.1744 - accuracy: 0.9133\n",
      "Epoch 23/30\n",
      "688/688 [==============================] - 2s 2ms/step - loss: 0.1745 - accuracy: 0.9133\n",
      "Epoch 24/30\n",
      "688/688 [==============================] - 2s 2ms/step - loss: 0.1753 - accuracy: 0.9130\n",
      "Epoch 25/30\n",
      "688/688 [==============================] - 2s 2ms/step - loss: 0.1754 - accuracy: 0.9137\n",
      "Epoch 26/30\n",
      "688/688 [==============================] - 2s 2ms/step - loss: 0.1739 - accuracy: 0.9138\n",
      "Epoch 27/30\n",
      "688/688 [==============================] - 2s 2ms/step - loss: 0.1737 - accuracy: 0.9140\n",
      "Epoch 28/30\n",
      "688/688 [==============================] - 2s 2ms/step - loss: 0.1723 - accuracy: 0.9146\n",
      "Epoch 29/30\n",
      "688/688 [==============================] - 2s 2ms/step - loss: 0.1747 - accuracy: 0.9134\n",
      "Epoch 30/30\n",
      "688/688 [==============================] - 2s 2ms/step - loss: 0.1743 - accuracy: 0.9136\n",
      "3582/3582 [==============================] - 2s 596us/step - loss: 0.2191 - accuracy: 0.9145\n",
      "TRAIN: [     0      2      3 ... 764134 764135 764136] TEST: [     1     54     64 ... 764128 764131 764133]\n",
      "WARNING:tensorflow:Please add `keras.layers.InputLayer` instead of `keras.Input` to Sequential model. `keras.Input` is intended to be used by Functional model.\n",
      "Epoch 1/30\n",
      "688/688 [==============================] - 2s 2ms/step - loss: 0.3262 - accuracy: 0.8269\n",
      "Epoch 2/30\n",
      "688/688 [==============================] - 2s 2ms/step - loss: 0.1900 - accuracy: 0.9056\n",
      "Epoch 3/30\n",
      "688/688 [==============================] - 2s 2ms/step - loss: 0.1832 - accuracy: 0.9099\n",
      "Epoch 4/30\n",
      "688/688 [==============================] - 2s 2ms/step - loss: 0.1807 - accuracy: 0.9111\n",
      "Epoch 5/30\n",
      "688/688 [==============================] - 2s 2ms/step - loss: 0.1798 - accuracy: 0.9113\n",
      "Epoch 6/30\n",
      "688/688 [==============================] - 2s 2ms/step - loss: 0.1778 - accuracy: 0.9124\n",
      "Epoch 7/30\n",
      "688/688 [==============================] - 2s 2ms/step - loss: 0.1764 - accuracy: 0.9130\n",
      "Epoch 8/30\n",
      "688/688 [==============================] - 2s 2ms/step - loss: 0.1761 - accuracy: 0.9127\n",
      "Epoch 9/30\n",
      "688/688 [==============================] - 2s 2ms/step - loss: 0.1757 - accuracy: 0.9125\n",
      "Epoch 10/30\n",
      "688/688 [==============================] - 2s 2ms/step - loss: 0.1747 - accuracy: 0.9137\n",
      "Epoch 11/30\n",
      "688/688 [==============================] - 2s 2ms/step - loss: 0.1734 - accuracy: 0.9139\n",
      "Epoch 12/30\n",
      "688/688 [==============================] - 2s 2ms/step - loss: 0.1733 - accuracy: 0.9140\n",
      "Epoch 13/30\n",
      "688/688 [==============================] - 2s 2ms/step - loss: 0.1741 - accuracy: 0.9137\n",
      "Epoch 14/30\n",
      "688/688 [==============================] - 2s 2ms/step - loss: 0.1723 - accuracy: 0.9148\n",
      "Epoch 15/30\n",
      "688/688 [==============================] - 2s 2ms/step - loss: 0.1739 - accuracy: 0.9142\n",
      "Epoch 16/30\n",
      "688/688 [==============================] - 2s 2ms/step - loss: 0.1735 - accuracy: 0.9141\n",
      "Epoch 17/30\n",
      "688/688 [==============================] - 2s 2ms/step - loss: 0.1725 - accuracy: 0.9142\n",
      "Epoch 18/30\n",
      "688/688 [==============================] - 2s 2ms/step - loss: 0.1732 - accuracy: 0.9144\n",
      "Epoch 19/30\n",
      "688/688 [==============================] - 2s 2ms/step - loss: 0.1725 - accuracy: 0.9149\n",
      "Epoch 20/30\n",
      "688/688 [==============================] - 2s 2ms/step - loss: 0.1724 - accuracy: 0.9152\n",
      "Epoch 21/30\n"
     ]
    },
    {
     "name": "stdout",
     "output_type": "stream",
     "text": [
      "688/688 [==============================] - 2s 2ms/step - loss: 0.1702 - accuracy: 0.9157\n",
      "Epoch 22/30\n",
      "688/688 [==============================] - 2s 2ms/step - loss: 0.1741 - accuracy: 0.9146\n",
      "Epoch 23/30\n",
      "688/688 [==============================] - 2s 2ms/step - loss: 0.1736 - accuracy: 0.9148\n",
      "Epoch 24/30\n",
      "688/688 [==============================] - 2s 2ms/step - loss: 0.1729 - accuracy: 0.9149\n",
      "Epoch 25/30\n",
      "688/688 [==============================] - 2s 2ms/step - loss: 0.1732 - accuracy: 0.9143\n",
      "Epoch 26/30\n",
      "688/688 [==============================] - 2s 2ms/step - loss: 0.1736 - accuracy: 0.9141\n",
      "Epoch 27/30\n",
      "688/688 [==============================] - 2s 2ms/step - loss: 0.1722 - accuracy: 0.9149\n",
      "Epoch 28/30\n",
      "688/688 [==============================] - 2s 2ms/step - loss: 0.1721 - accuracy: 0.9150\n",
      "Epoch 29/30\n",
      "688/688 [==============================] - 2s 2ms/step - loss: 0.1712 - accuracy: 0.9149\n",
      "Epoch 30/30\n",
      "688/688 [==============================] - 2s 2ms/step - loss: 0.1726 - accuracy: 0.9151\n",
      "3582/3582 [==============================] - 2s 598us/step - loss: 0.2190 - accuracy: 0.9149\n",
      "{1: 0.9143176078796387, 2: 0.9127821326255798, 3: 0.9131659865379333, 4: 0.9138116240501404, 5: 0.9170745611190796, 6: 0.916324257850647, 7: 0.9144746661186218, 8: 0.9134277105331421, 9: 0.9145008325576782, 10: 0.9149283170700073}\n"
     ]
    }
   ],
   "source": [
    "from sklearn.model_selection import StratifiedKFold\n",
    "\n",
    "# Store results\n",
    "results_cv = {}\n",
    "\n",
    "# Define 10-fold cross validation\n",
    "skf = StratifiedKFold(n_splits=10, random_state=1234, shuffle=True)\n",
    "\n",
    "i = 1\n",
    "# Loop over cross validation folds\n",
    "for train_index, test_index in skf.split(X, Y):\n",
    "    print(\"TRAIN:\", train_index, \"TEST:\", test_index)\n",
    "    X_train, X_test = X[train_index], X[test_index]\n",
    "    y_train, y_test = Y[train_index], Y[test_index] \n",
    "    \n",
    "    # Calculate class weights for current split\n",
    "    class_weights = class_weight.compute_class_weight(\"balanced\", np.unique(y_train), y_train)\n",
    "    class_weights = {0: class_weights[0], 1: class_weights[1]}\n",
    "    \n",
    "    # Rebuild the DNN model, to not continue training on the previously trained model\n",
    "    batch_size = 1000\n",
    "    epochs = 30\n",
    "    input_shape = (X_train.shape[1],)\n",
    "\n",
    "    # Build and train model\n",
    "    model12 = build_DNN(input_shape, \n",
    "                       n_layers=5, \n",
    "                       n_nodes=20, \n",
    "                       learning_rate=0.01, \n",
    "                       optimizer='adam',\n",
    "                       use_custom_dropout=True)\n",
    "\n",
    "\n",
    "    # Fit the model with training set and class weights for this fold\n",
    "    history12 = model12.fit(X_train,\n",
    "                          y_train,\n",
    "                          batch_size=batch_size,\n",
    "                          epochs=epochs,\n",
    "                          class_weight=class_weights)\n",
    "    \n",
    "    # Evaluate the model using the test set for this fold\n",
    "    score = model12.evaluate(Xtest, Ytest)\n",
    "    # Save the test accuracy in an array\n",
    "    \n",
    "    results_cv[i] = score[1]\n",
    "    i += 1\n"
   ]
  },
  {
   "cell_type": "code",
   "execution_count": 151,
   "metadata": {},
   "outputs": [
    {
     "name": "stdout",
     "output_type": "stream",
     "text": [
      "Accuracies for each fold\n",
      "############################\n",
      "1-Fold: 0.9143176078796387\n",
      "2-Fold: 0.9127821326255798\n",
      "3-Fold: 0.9131659865379333\n",
      "4-Fold: 0.9138116240501404\n",
      "5-Fold: 0.9170745611190796\n",
      "6-Fold: 0.916324257850647\n",
      "7-Fold: 0.9144746661186218\n",
      "8-Fold: 0.9134277105331421\n",
      "9-Fold: 0.9145008325576782\n",
      "10-Fold: 0.9149283170700073\n",
      "############################\n",
      "\n",
      "Mean accuracy: 0.9144807696342468\n",
      "Std accuracy: 0.0012854678086491635\n"
     ]
    }
   ],
   "source": [
    "from numpy import array\n",
    "\n",
    "# Calculate and print mean and std of accuracies\n",
    "print(\"Accuracies for each fold\")\n",
    "print(\"############################\")\n",
    "for k, v in results_cv.items():\n",
    "    print(f\"{k}-Fold: {v}\")\n",
    "print(\"############################\\n\")\n",
    "\n",
    "\n",
    "print(f\"Mean accuracy: {array([*results_cv.values()]).mean()}\")\n",
    "print(f\"Std accuracy: {array([*results_cv.values()]).std()}\")"
   ]
  },
  {
   "cell_type": "markdown",
   "metadata": {},
   "source": [
    "# Part 22: DNN regression\n",
    "\n",
    "A similar DNN can be used for regression, instead of classification.\n",
    "\n",
    "Question 24: How would you change the DNN in order to use it for regression instead?"
   ]
  },
  {
   "cell_type": "markdown",
   "metadata": {},
   "source": [
    "## Report\n",
    "\n",
    "Send in this jupyter notebook, with answers to all questions."
   ]
  }
 ],
 "metadata": {
  "kernelspec": {
   "display_name": "Python 3",
   "language": "python",
   "name": "python3"
  },
  "language_info": {
   "codemirror_mode": {
    "name": "ipython",
    "version": 3
   },
   "file_extension": ".py",
   "mimetype": "text/x-python",
   "name": "python",
   "nbconvert_exporter": "python",
   "pygments_lexer": "ipython3",
   "version": "3.9.2"
  }
 },
 "nbformat": 4,
 "nbformat_minor": 4
}
