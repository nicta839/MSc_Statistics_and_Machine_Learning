{
 "cells": [
  {
   "cell_type": "markdown",
   "metadata": {},
   "source": [
    "# Laboration 2"
   ]
  },
  {
   "cell_type": "markdown",
   "metadata": {},
   "source": [
    "---\n",
    "**Student:** nicta839 (Nicolas Taba)\n",
    "\n",
    "**Student:** timwa902 (Tim Yuki Washio)\n",
    "\n",
    "---"
   ]
  },
  {
   "cell_type": "markdown",
   "metadata": {},
   "source": [
    "# Introduction \n",
    "In this first part of the lab, we will be exploring \n",
    "* Functions\n",
    "    * How functions are called.\n",
    "    * Argument passing\n",
    "    * Return values.\n",
    "* Function usage\n",
    "    * Construction of simple multi-function programs.\n",
    "    * Functions that work on several kinds of inputs (ie simple polymorphism via duck typing).\n",
    "\n",
    "Additionally we will touch upon\n",
    "* Exceptions and \n",
    "* simple assertion testing and debugging."
   ]
  },
  {
   "cell_type": "markdown",
   "metadata": {},
   "source": [
    "This lab might require you to search for information on your own to a larger extent than in lab 1. As in the last lab, Lutz' Learning Python and the [official documentation](https://docs.python.org) might be helpful. Also make sure to make use of the available lab assistance!"
   ]
  },
  {
   "cell_type": "markdown",
   "metadata": {},
   "source": [
    "# A note on rules"
   ]
  },
  {
   "cell_type": "markdown",
   "metadata": {},
   "source": [
    "Please make sure to conform to the (previously mentioned) [IDA lab rules](https://www.ida.liu.se/~732A74/labs/index.en.shtml)."
   ]
  },
  {
   "cell_type": "markdown",
   "metadata": {},
   "source": [
    "## Functions in Python"
   ]
  },
  {
   "cell_type": "markdown",
   "metadata": {},
   "source": [
    "a) Write a function that takes a radius and returns area of a circle with that radius. What would be a good name for the function and the argument? Python has a value for $\\pi$ in a certain standard library module. Which might that be? Don't type in the constant yourself."
   ]
  },
  {
   "cell_type": "code",
   "execution_count": 1,
   "metadata": {},
   "outputs": [],
   "source": [
    "import math\n",
    "\n",
    "def calc_circle_area(radius):\n",
    "    return math.pi*(radius**2)"
   ]
  },
  {
   "cell_type": "markdown",
   "metadata": {},
   "source": [
    "[Hint: Google. Or consider modules we have `import`ed previously.]"
   ]
  },
  {
   "cell_type": "markdown",
   "metadata": {},
   "source": [
    "b) How would you call the function, if you wanted to calculate the area of a circle with radius 10cm?"
   ]
  },
  {
   "cell_type": "code",
   "execution_count": 2,
   "metadata": {},
   "outputs": [
    {
     "data": {
      "text/plain": [
       "314.1592653589793"
      ]
     },
     "execution_count": 2,
     "metadata": {},
     "output_type": "execute_result"
    }
   ],
   "source": [
    "calc_circle_area(10)"
   ]
  },
  {
   "cell_type": "markdown",
   "metadata": {},
   "source": [
    "c) How would you call the function using named arguments/keyword arguments?"
   ]
  },
  {
   "cell_type": "code",
   "execution_count": 3,
   "metadata": {},
   "outputs": [
    {
     "data": {
      "text/plain": [
       "314.1592653589793"
      ]
     },
     "execution_count": 3,
     "metadata": {},
     "output_type": "execute_result"
    }
   ],
   "source": [
    "calc_circle_area(radius=10)"
   ]
  },
  {
   "cell_type": "markdown",
   "metadata": {},
   "source": [
    "[Note: In this case, the calling of the function is somewhat artificial. When writing scripts or working with programs that take several parameters, this style can be quite useful. This sidesteps questions of if this particular library takes the input or the output as the first argument, or the like. The code of course becomes more verbose.]"
   ]
  },
  {
   "cell_type": "markdown",
   "metadata": {},
   "source": [
    "d) Write a function `circle_area_safe(radius)` which uses an if statement to check that the radius is positive and prints `The radius must be positive` to the screen if it is not, and otherwise calls the `circle_area` function. Also, if the radius is not positive the `circle_area_safe` function should signal to the code calling it that it has failed by returning `None`."
   ]
  },
  {
   "cell_type": "code",
   "execution_count": 4,
   "metadata": {},
   "outputs": [
    {
     "name": "stdout",
     "output_type": "stream",
     "text": [
      "The radius must be a positive number\n"
     ]
    },
    {
     "data": {
      "text/plain": [
       "3.141592653589793"
      ]
     },
     "execution_count": 4,
     "metadata": {},
     "output_type": "execute_result"
    }
   ],
   "source": [
    "def circle_area_safe(radius):\n",
    "    if radius > 0:\n",
    "        return calc_circle_area(radius)\n",
    "    else:\n",
    "        print(\"The radius must be a positive number\")\n",
    "        return None\n",
    "    \n",
    "circle_area_safe(1.1)\n",
    "circle_area_safe(-1)\n",
    "circle_area_safe(1)"
   ]
  },
  {
   "cell_type": "markdown",
   "metadata": {},
   "source": [
    "e) Recreate the `circle_area_safe` function (call this version `circle_area_safer`) but instead of printing a message to the screen and returning `None` if the radius is negative, _raise_ a ValueError exception with suitable error message as argument."
   ]
  },
  {
   "cell_type": "code",
   "execution_count": 5,
   "metadata": {},
   "outputs": [
    {
     "data": {
      "text/plain": [
       "3.8013271108436504"
      ]
     },
     "execution_count": 5,
     "metadata": {},
     "output_type": "execute_result"
    }
   ],
   "source": [
    "def circle_area_safer(radius):\n",
    "    if radius > 0:\n",
    "        return calc_circle_area(radius)\n",
    "    else:\n",
    "        raise ValueError(\"The radius must be a positive number\")\n",
    "    \n",
    "circle_area_safer(1.1)\n",
    "#circle_area_safer(-1)"
   ]
  },
  {
   "cell_type": "markdown",
   "metadata": {},
   "source": [
    "f) To test out how functions are called in Python, create a function `print_num_args` that prints the number of arguments it has been called with. The count should not include keyword arguments."
   ]
  },
  {
   "cell_type": "code",
   "execution_count": 6,
   "metadata": {
    "scrolled": true
   },
   "outputs": [
    {
     "name": "stdout",
     "output_type": "stream",
     "text": [
      "3\n"
     ]
    }
   ],
   "source": [
    "# Your definition goes here.\n",
    "def print_num_args(*args):\n",
    "    print(len(args))\n",
    "\n",
    "\n",
    "print_num_args(\"a\", \"b\", \"c\")  # Should print the number 3."
   ]
  },
  {
   "cell_type": "markdown",
   "metadata": {},
   "source": [
    "g) Write a function `print_kwargs` that prints all the keyword arguments."
   ]
  },
  {
   "cell_type": "code",
   "execution_count": 7,
   "metadata": {
    "scrolled": true
   },
   "outputs": [
    {
     "name": "stdout",
     "output_type": "stream",
     "text": [
      "The 2 regular arguments are:\n",
      "0: alonzo\n",
      "1: zeno\n",
      "And the keyword arguments are (the ordering here is arbitrary):\n",
      "foo is set to 2\n",
      "bar is set to 99\n"
     ]
    },
    {
     "data": {
      "text/plain": [
       "'Should print:\\n\\nThe 2 regular arguments are:\\n0: alonzo\\n1: zeno\\n\\nAnd the keyword arguments are (the ordering here is arbitrary):\\nfoo is set to 2\\nbar is set to 99\\n'"
      ]
     },
     "execution_count": 7,
     "metadata": {},
     "output_type": "execute_result"
    }
   ],
   "source": [
    "# Your definition goes here\n",
    "def print_kwargs(*args, **kwargs):\n",
    "    print(f\"The {len(args)} regular arguments are:\")\n",
    "    count = 0\n",
    "    for arg in args:\n",
    "        print(f\"{count}: {arg}\")\n",
    "        count += 1\n",
    "    print(\"And the keyword arguments are (the ordering here is arbitrary):\")\n",
    "    for key, value in kwargs.items():\n",
    "        print(f\"{key} is set to {value}\")\n",
    "\n",
    "print_kwargs(\"alonzo\", \"zeno\", foo=1+1,bar = 99)\n",
    "\"\"\"Should print:\n",
    "\n",
    "The 2 regular arguments are:\n",
    "0: alonzo\n",
    "1: zeno\n",
    "\n",
    "And the keyword arguments are (the ordering here is arbitrary):\n",
    "foo is set to 2\n",
    "bar is set to 99\n",
    "\"\"\""
   ]
  },
  {
   "cell_type": "markdown",
   "metadata": {},
   "source": [
    "h) Below we have a very simple program. Run the first cell. It will succeed. What happens when you run the second cell, and why? In particular, consider the error produced. What does it mean. What value has been returned from the function, and how would you modify the function in order for it to work?"
   ]
  },
  {
   "cell_type": "code",
   "execution_count": 8,
   "metadata": {},
   "outputs": [
    {
     "name": "stdout",
     "output_type": "stream",
     "text": [
      "13225\n"
     ]
    }
   ],
   "source": [
    "def my_polynomial(x):\n",
    "    \"\"\"Return the number x^2 + 30x + 225.\"\"\"\n",
    "    print(x**2 + 30*x + 225)\n",
    "\n",
    "polyval = my_polynomial(100)"
   ]
  },
  {
   "cell_type": "code",
   "execution_count": 9,
   "metadata": {},
   "outputs": [
    {
     "name": "stdout",
     "output_type": "stream",
     "text": [
      "13225\n"
     ]
    },
    {
     "ename": "TypeError",
     "evalue": "unsupported operand type(s) for *: 'int' and 'NoneType'",
     "output_type": "error",
     "traceback": [
      "\u001b[0;31m---------------------------------------------------------------------------\u001b[0m",
      "\u001b[0;31mTypeError\u001b[0m                                 Traceback (most recent call last)",
      "\u001b[0;32m<ipython-input-9-b3cd279745e9>\u001b[0m in \u001b[0;36m<module>\u001b[0;34m\u001b[0m\n\u001b[0;32m----> 1\u001b[0;31m \u001b[0mdouble_the_polyval\u001b[0m \u001b[0;34m=\u001b[0m \u001b[0;36m2\u001b[0m\u001b[0;34m*\u001b[0m\u001b[0mmy_polynomial\u001b[0m\u001b[0;34m(\u001b[0m\u001b[0;36m100\u001b[0m\u001b[0;34m)\u001b[0m\u001b[0;34m\u001b[0m\u001b[0;34m\u001b[0m\u001b[0m\n\u001b[0m",
      "\u001b[0;31mTypeError\u001b[0m: unsupported operand type(s) for *: 'int' and 'NoneType'"
     ]
    }
   ],
   "source": [
    "double_the_polyval = 2*my_polynomial(100)"
   ]
  },
  {
   "cell_type": "code",
   "execution_count": 10,
   "metadata": {},
   "outputs": [
    {
     "data": {
      "text/plain": [
       "26450"
      ]
     },
     "execution_count": 10,
     "metadata": {},
     "output_type": "execute_result"
    }
   ],
   "source": [
    "# Write your answer as a code comment here.\n",
    "# my_polynomial is returning 'None'. It only prints the result of the polynomial but doesn't assign the value to 'polyval'.\n",
    "# Therefore, we should change the print-statement to a return-statement so we can use the result and for example\n",
    "# multiply it by 2.\n",
    "\n",
    "def my_polynomial_opt(x):\n",
    "    return(x**2 + 30*x + 225)\n",
    "\n",
    "double_the_polyval = 2*my_polynomial_opt(100)\n",
    "double_the_polyval"
   ]
  },
  {
   "cell_type": "markdown",
   "metadata": {},
   "source": [
    "## Script/program construction (a tiny example)"
   ]
  },
  {
   "cell_type": "markdown",
   "metadata": {},
   "source": [
    "Regardless of which programming language we use, we will likely construct programs or scripts that consist of several functions that work in concert. Below we will create a very simple Monte Carlo simulation as a basis for breaking down a larger (though small) problem into sensible, (re)usable discrete pieces. The resulting program will likely utilise control structures that you have read about before."
   ]
  },
  {
   "cell_type": "markdown",
   "metadata": {},
   "source": [
    "**Hint: read all of the subtasks related to this task before coding.**"
   ]
  },
  {
   "cell_type": "markdown",
   "metadata": {},
   "source": [
    "a) The following is a well-known procedure for approximating $\\pi$: pick $n$ uniformly randomly selected coordinates in an $2R\\times 2R$ square. Count the number of the points that fall within the circle of radius $R$ with its center at $(R,R)$. The fraction of these points to the total number of points is used to approximate $\\pi$ (exactly how is for you to figure out). (Note that this is not to be confused with MCMC.)\n",
    "\n",
    "Write a program consisting of **several (aptly selected and named) functions**, that present the user with the following simple text user interface. The <span style=\"background: yellow;\">yellow</span> text is an example of user input (the user is prompted, and enters the value). It then prints the results of the simulations:"
   ]
  },
  {
   "cell_type": "markdown",
   "metadata": {},
   "source": [
    "`pi_simulation()`\n",
    "\n",
    "<p style=\"font-family: console, monospace\">Welcome to the Monty Carlo PI program!</p>\n",
    "\n",
    "<p style=\"font-family: console, monospace\">\n",
    "Please enter a number of points (or the letter \"q\" to quit): <span style=\"background: yellow;\">100</span><br/>\n",
    "Using 100 points we (this time) got the following value for pi: 3.08<br/>\n",
    "This would mean that tau (2xPI) would be: 6.16\n",
    "</p>\n",
    "\n",
    "<p style=\"font-family: console, monospace\">\n",
    "Please enter a number of points (or the letter \"q\" to quit): <span style=\"background: yellow;\">100</span><br/>\n",
    "Using 100 points we (this time) got the following value for pi: 3.12<br/>\n",
    "This would mean that tau (2xPI) would be: 6.24\n",
    "</p>\n",
    "\n",
    "<p style=\"font-family: console, monospace\">\n",
    "Please enter a number of points (or the letter \"q\" to quit): <span style=\"background: yellow;\">q</span>\n",
    "</p>\n",
    "\n",
    "<p style=\"font-family: console, monospace\">\n",
    "Thank you for choosing Monty Carlo.\n",
    "</p>"
   ]
  },
  {
   "cell_type": "markdown",
   "metadata": {},
   "source": [
    "[**Note**: This is a task largely about program structure. Unless there are substantial performance drawbacks, prefer readability over optimisation.]"
   ]
  },
  {
   "cell_type": "markdown",
   "metadata": {},
   "source": [
    "---\n",
    "**REMEMBER: YOU DO NOT WRITE CODE FOR THE INTERPRETER. YOU WRITE IT FOR OTHER HUMAN READERS.**\n",
    "\n",
    "---\n",
    "\n",
    "An important part of programming is to allow a reader who is perhaps unfamiliar with the code to be able to understand it, and convince themselves that it is correct with respect to specification. There should also be as few surprises as possible."
   ]
  },
  {
   "cell_type": "code",
   "execution_count": 12,
   "metadata": {},
   "outputs": [
    {
     "name": "stdout",
     "output_type": "stream",
     "text": [
      "Welcome to the Monty Carlo PI program!\n",
      "\n",
      "Please enter a number of points (or the letter \"q\" to quit): 100\n",
      "Using 100 points we (this time) got the following value for pi: 3.44\n",
      "This would mean that tau (2XPI) would be: 6.88\n",
      "####################################################################################################\n"
     ]
    },
    {
     "data": {
      "text/plain": [
       "3.44"
      ]
     },
     "execution_count": 12,
     "metadata": {},
     "output_type": "execute_result"
    }
   ],
   "source": [
    "import random\n",
    "\n",
    "def calc_distance(point, radius):\n",
    "    distance = math.sqrt((point[0]-radius)**2 + (point[1]-radius)**2)\n",
    "    if distance <= radius**2:\n",
    "        return 1\n",
    "    else:\n",
    "        return 0\n",
    "\n",
    "def approximate_pi(n, radius=1):\n",
    "    coordinates = [tuple([random.uniform(0, (2*radius)), random.uniform(0, (2*radius))]) for i in range(0,n)]\n",
    "    accepted_points = 0\n",
    "    for point in coordinates:\n",
    "        accepted_points += calc_distance(point, radius)\n",
    "    return (accepted_points/len(coordinates) * 4)\n",
    "\n",
    "def validate_input(val):\n",
    "    try:\n",
    "        val = int(val)\n",
    "        if val > 0: \n",
    "            num_points = val\n",
    "        else:\n",
    "            raise ValueError(\"The input must be a positive integer\")\n",
    "    except:\n",
    "        raise ValueError(\"The input must be a positive integer\")\n",
    "            \n",
    "\n",
    "def pi_simulation(verbose=True):\n",
    "    if verbose == True:\n",
    "        print(\"Welcome to the Monty Carlo PI program!\\n\")\n",
    "    if not \"num_points\" in globals():\n",
    "        val = input('Please enter a number of points (or the letter \"q\" to quit): ')\n",
    "        validate_input(val)\n",
    "        num_points = val\n",
    "    else:\n",
    "        num_points = globals()[\"num_points\"]\n",
    "    if num_points == \"q\":\n",
    "        if verbose == True:\n",
    "            print(\"\\nThank you for choosing Monty Carlo.\")\n",
    "        return None\n",
    "    else:\n",
    "        approx_pi = approximate_pi(int(num_points))\n",
    "        if verbose == True:\n",
    "            print(f\"Using {num_points} points we (this time) got the following value for pi: {approx_pi}\")\n",
    "            print(f\"This would mean that tau (2XPI) would be: {2*approx_pi}\")\n",
    "            print(\"#\"*100)\n",
    "        return(approx_pi)\n",
    "        \n",
    "pi_simulation()"
   ]
  },
  {
   "cell_type": "markdown",
   "metadata": {},
   "source": [
    "[Hint: You might want to consider the function `input`. Try it out and see what type of value it returns.]"
   ]
  },
  {
   "cell_type": "markdown",
   "metadata": {},
   "source": [
    "b) One feature of Python's simplicity is the possibility to (comparatively) quickly produce code to try out our intuitions. Let's say we want to compare how well our approximation performs, as compared to some gold standard for pi (here: the version in the standard library). Run 100 simulations. How large is the maximum relative error (using the definition above) in this particular run of simulations, if each simulation has $n=10^4$ points? Is it larger or smaller than 5%? Write code that returns this maximum relative error."
   ]
  },
  {
   "cell_type": "code",
   "execution_count": 13,
   "metadata": {
    "scrolled": true
   },
   "outputs": [
    {
     "name": "stdout",
     "output_type": "stream",
     "text": [
      "The maximum relative error was to be found at: 0.052\n"
     ]
    }
   ],
   "source": [
    "simulations = 100\n",
    "\n",
    "relative_errors = []\n",
    "num_points = 10**4\n",
    "\n",
    "for simulation in range(0,simulations):\n",
    "    approx_pi = pi_simulation(verbose=False)\n",
    "    relative_errors.append(round(abs(math.pi - approx_pi), 3))\n",
    "    \n",
    "print(f\"The maximum relative error was to be found at: {max(relative_errors)}\")"
   ]
  },
  {
   "cell_type": "markdown",
   "metadata": {},
   "source": [
    "[Note: This is only to show a quick way of testing out your code in a readable fashion. You might want to try to write it in a pythonic way. But in terms of performance, it is very likely that the true bottleneck will still be the approximation function itself.]"
   ]
  },
  {
   "cell_type": "markdown",
   "metadata": {},
   "source": [
    "## Fault/bugspotting and tests in a very simple setting"
   ]
  },
  {
   "cell_type": "markdown",
   "metadata": {},
   "source": [
    "It is inevitable that we will make mistakes when programming. An important skill is not only to be able to write code in the first place, but also to be able to figure where one would start looking for faults. This also involves being able to make the expectations we have on the program more explicit, and at the very least construct some sets of automatic \"sanity checks\" for the program. The latter will likely not be something done for every piece of code you write, but it is highly useful for code that might be reused or is hard to understand (due either to programming reasons, or because the underlying mathemetics is dense). When rewriting or optimising code, having such tests are also highly useful to provide hints that the changes haven't broken the code."
   ]
  },
  {
   "cell_type": "markdown",
   "metadata": {},
   "source": [
    "**Task**: The following program is supposed to return the sum of the squares of numbers $0,...,n$."
   ]
  },
  {
   "cell_type": "code",
   "execution_count": 14,
   "metadata": {},
   "outputs": [],
   "source": [
    "# Do not modify this code! You'll fix it later.\n",
    "\n",
    "def update_result(result, i):\n",
    "    result = result + i*i\n",
    "    return result\n",
    "\n",
    "def sum_squares(n):\n",
    "    \"\"\"Return the sum of squares 0^2 + 1^2 + ... + (n-1)^2 + n^2.\"\"\"\n",
    "    result = 0\n",
    "    for i in range(n):\n",
    "        result = update_result(n, result)"
   ]
  },
  {
   "cell_type": "markdown",
   "metadata": {},
   "source": [
    "a) What mistakes have the programmer made when trying to solve the problem? Name the mistakes in coding or thinking about the issue that you notice (regardless of if they affect the end result). In particular, write down what is wrong (not just \"line X should read ...\"; fixing the code comes later). Feel free to make a copy of the code (pressing `b` in a notebook creates a new cell below) and try it out, add relevant print statements, assertions or anything else that might help. Note down how you spotted the faults."
   ]
  },
  {
   "cell_type": "code",
   "execution_count": 15,
   "metadata": {},
   "outputs": [
    {
     "data": {
      "text/plain": [
       "'\\n    1. range(n): we only iterate until n-1. Therefore, n^2 would be missing\\n    2. update_result(n, result): switched parameters\\n    3. update_result(n, result): always use n instead of using i\\n    4. sum_squares(n): no return value\\n\\n    Spotted the faults by reading the code\\n'"
      ]
     },
     "execution_count": 15,
     "metadata": {},
     "output_type": "execute_result"
    }
   ],
   "source": [
    "\"\"\"\n",
    "    1. range(n): we only iterate until n-1. Therefore, n^2 would be missing\n",
    "    2. update_result(n, result): switched parameters\n",
    "    3. update_result(n, result): always use n instead of using i\n",
    "    4. sum_squares(n): no return value\n",
    "\n",
    "    Spotted the faults by reading the code\n",
    "\"\"\""
   ]
  },
  {
   "cell_type": "markdown",
   "metadata": {},
   "source": [
    "b) Write a few simple assertions that should pass if the code was correct. Don't forget to include the *why* of the test, preferably in the error message provided in the `AssertionError` if the test fails."
   ]
  },
  {
   "cell_type": "code",
   "execution_count": 16,
   "metadata": {
    "scrolled": false
   },
   "outputs": [],
   "source": [
    "def test_sum_squares():\n",
    "    # Format: assert [condition], message\n",
    "    assert sum_squares(0) == 0, \"after 0 iterations, 0 should be returned (sum_squares(0))\"\n",
    "    # Add a few more (good and justified) tests.\n",
    "    assert sum_squares(1) == 1, \"after 1 iterations, 1 should be returned (sum_squares(1))\"\n",
    "    assert sum_squares(5) == 55, \"after 5 iterations, 55 should be returned (sum_squares(5))\"\n",
    "    assert sum_squares(100) == 338350, \"after 100 iterations, 338350 should be returned (sum_squares(100))\"\n",
    "    assert sum_squares(-1) == 1, \"after 1 iterations, 1 should be returned (sum_squares(-1))\"\n",
    "    assert sum_squares(-3) == 14, \"after 3 iterations, 14 should be returned (sum_squares(-3))\"\n",
    "    assert sum_squares(-100) == 338350, \"after 100 iterations, 338350 should be returned (sum_squares(-100))\"\n",
    "    assert sum_squares(5.0) == 55, \"after 5 iterations, 55 should be returned (sum_squares(5.0))\"\n",
    "    assert sum_squares(-5.0) == 55, \"after 5 iterations, 55 should be returned (sum_squares(-5.0))\"\n",
    "    print(\"--- test_sum_squares finished successfully\")"
   ]
  },
  {
   "cell_type": "markdown",
   "metadata": {},
   "source": [
    "Hint: might there be any corner/edge cases here?"
   ]
  },
  {
   "cell_type": "markdown",
   "metadata": {},
   "source": [
    "c) Write a correct version of the code, which conforms to the specification."
   ]
  },
  {
   "cell_type": "code",
   "execution_count": 17,
   "metadata": {},
   "outputs": [
    {
     "name": "stdout",
     "output_type": "stream",
     "text": [
      "--- test_sum_squares finished successfully\n"
     ]
    }
   ],
   "source": [
    "def validate_param(val):\n",
    "    if isinstance(val, int):\n",
    "        val = abs(val)\n",
    "        return val\n",
    "    elif isinstance(val, float):\n",
    "        val = abs(int(val))\n",
    "        return val\n",
    "    else:\n",
    "        raise ValueError(\"n needs to be of type integer or float ending with .0\")\n",
    "\n",
    "def sum_squares(n):\n",
    "    n = validate_param(n)\n",
    "    res = sum([i**2 for i in range(n+1)])\n",
    "    return res\n",
    "\n",
    "test_sum_squares()  # It should pass all the tests!"
   ]
  },
  {
   "cell_type": "markdown",
   "metadata": {},
   "source": [
    "[Note: This is a rather primitive testing strategy, but it is sometimes enough. If we wanted to provide more advanced testing facilities, we might eg use a proper unit test framework, or use tools to do property based testing. This, as well as formal verification, is outside the scope of this course. The interested reader is referred to [pytest](https://docs.pytest.org/en/latest/) or the built-in [unittest](https://docs.python.org/3/library/unittest.html).\n",
    "\n",
    "Those interested in testing might want to consult the web page for the IDA course [TDDD04 Software testing](https://www.ida.liu.se/~TDDD04/) or the somewhat abbreviation-heavy book by [Ammann & Offutt](https://cs.gmu.edu/~offutt/softwaretest/), which apparently also features video lectures.]"
   ]
  },
  {
   "cell_type": "markdown",
   "metadata": {},
   "source": [
    "## Polymorphic behaviour (via duck typing)"
   ]
  },
  {
   "cell_type": "markdown",
   "metadata": {},
   "source": [
    "In Python we often write functions that can handle several different types of data. A common pattern is writing code which is expected to work with several types of collections of data, for instance. This expectation is however in the mind of the programmer (at least without type annotations), and not something that the interpreter will enforce until runtime. This provides a lot of flexibility, but also requires us to understand what our code means for the different kinds of input. Below we try this out, and in particular return to previously known control structures."
   ]
  },
  {
   "cell_type": "markdown",
   "metadata": {},
   "source": [
    "a) Write a function `last_idx` that takes two arguments `seq` and `elem` and returns the index of the last occurrence of the element `elem` in the iterable `seq`. If the sequence doesn't contain the element, return -1. (You may not use built-ins like .find() here.)"
   ]
  },
  {
   "cell_type": "code",
   "execution_count": 18,
   "metadata": {},
   "outputs": [],
   "source": [
    "def last_idx(seq, elem):\n",
    "    index = [i for i, j in enumerate(seq) if j == elem]\n",
    "    if index:\n",
    "        return index[-1]\n",
    "    else:\n",
    "        return -1\n",
    "    "
   ]
  },
  {
   "cell_type": "markdown",
   "metadata": {},
   "source": [
    "b) What does your function require of the input? Also include if it would work with a string, a list or a dictionary. In the latter case, what would `elem` be matched against? What will`last_idx(\"cat\", \"a cat catches fish\")` yield?"
   ]
  },
  {
   "cell_type": "code",
   "execution_count": 19,
   "metadata": {},
   "outputs": [
    {
     "data": {
      "text/plain": [
       "'\\n    The function requires an iterable (seq) and an element to search for in the given iterable.\\n    For a dictionary elem would need to represent the key in that dictionary. Also a dictionary should not contain\\n    duplicate keys, thus we would only find one possible match.\\n    For a string we iterate over each character. Therefore, elem would need to represent a character.\\n    last_idx(\"cat\", \"a cat catches fish\") would return -1 since a seq can\\'t be found in an elem but also \\n    last_idx(\"a cat catches fish\", \"cat\") would return -1 since we iterate over each character and would never\\n    match a word like \"cat\".\\n'"
      ]
     },
     "execution_count": 19,
     "metadata": {},
     "output_type": "execute_result"
    }
   ],
   "source": [
    "\"\"\"\n",
    "    The function requires an iterable (seq) and an element to search for in the given iterable.\n",
    "    For a dictionary elem would need to represent the key in that dictionary. Also a dictionary should not contain\n",
    "    duplicate keys, thus we would only find one possible match.\n",
    "    For a string we iterate over each character. Therefore, elem would need to represent a character.\n",
    "    last_idx(\"cat\", \"a cat catches fish\") would return -1 since a seq can't be found in an elem but also \n",
    "    last_idx(\"a cat catches fish\", \"cat\") would return -1 since we iterate over each character and would never\n",
    "    match a word like \"cat\".\n",
    "\"\"\""
   ]
  },
  {
   "cell_type": "markdown",
   "metadata": {},
   "source": [
    "c) Add some `assert`-style tests that your code should satisfy. For each test, provide a description of what it tests, and why. That can be made as part of the assert statement itself."
   ]
  },
  {
   "cell_type": "code",
   "execution_count": 20,
   "metadata": {},
   "outputs": [
    {
     "name": "stdout",
     "output_type": "stream",
     "text": [
      "--- test_last_idx finished successfully\n"
     ]
    }
   ],
   "source": [
    "def test_last_idx():\n",
    "    assert last_idx([1,2,3,2], 2) == 3, \"last_idx should return last index, for sequences with several occurrences\"\n",
    "    # More well-justified tests here.\n",
    "    assert last_idx([\"a\",\"a\",\"b\",\"c\",\"b\"], \"a\") == 1, \"last_idx should return last index, for sequences with several occurrences\"\n",
    "    assert last_idx([\"hello\",\"world\",\"world\",\"python\"], \"world\") == 2, \"last_idx should return last index, for sequences with several occurrences\"\n",
    "    assert last_idx([True,False,False,True], True) == 3, \"last_idx should return last index, for sequences with several occurrences\"\n",
    "    assert last_idx({\"a\":1,\"b\":2,\"c\":3}, \"a\") == 0, \"last_idx should return last index, for sequences with several occurrences\"\n",
    "    assert last_idx(\"hello world\", \"l\") == 9, \"last_idx should return last index, for sequences with several occurrences\"\n",
    "    \n",
    "    print(\"--- test_last_idx finished successfully\")\n",
    "        \n",
    "test_last_idx()"
   ]
  },
  {
   "cell_type": "markdown",
   "metadata": {},
   "source": [
    "The fact that a program doesn't crash when given a certain input doesn't necessarily ensure that the results are what  we expect. Thus we need to get a feel for how eg iteration over different types of data behaves, in order to understand how our function behaves."
   ]
  },
  {
   "cell_type": "markdown",
   "metadata": {},
   "source": [
    "d) Can we use `last_idx` with a text file? What would the program try to match `elem` against? What would the return value signify (eg number of words from the start of the file, lines from the start of the file, bytes read...)?"
   ]
  },
  {
   "cell_type": "markdown",
   "metadata": {},
   "source": [
    "**Answer**: \n",
    "\n",
    "Q: *Can we use last_idx with a text file?*\n",
    "\n",
    "If we wanted to use last_idx() with a text file we would need to transform the TextIOWrapper object that is returned when opening a file using the *with* statement. \n",
    "\n",
    "We could use different transformation approaches:\n",
    "\n",
    "- calling **read()** would result in a str object containing the whole content\n",
    "- calling **read().split()** would result in a list containing all words as str\n",
    "- calling **read().split(\"\\n\")** would result in a list containing all lines as str (**readlines()** or **list()** would return the same but including the linebreaks)\n",
    "- using \"rb\" instead of \"r\" as second parameter would return a BufferedReader instead of a TextIOWrapper. \n",
    "\n",
    "Q: *What would the program try to match elem against?*\n",
    "\n",
    "Depending on how we read in the file the program could match elem against a specific character, word, line or byte.\n",
    "\n",
    "Q: *What would the return value signify (eg number of words from the start of the file, lines from the start of the file, bytes read...)?*\n",
    "\n",
    "- character: number of characters from the start of the file\n",
    "- word: number of words from the start of the file\n",
    "- line: number of lines from the start of the file\n",
    "- bytes: number of bytes from the start of the file"
   ]
  },
  {
   "cell_type": "markdown",
   "metadata": {},
   "source": [
    "[Hint: Try it out! Open a file like in lab 1, using a `with` statement, and pass the file handle to the function. What is the easiest way for you to check what the function is comparing?]"
   ]
  },
  {
   "cell_type": "markdown",
   "metadata": {},
   "source": [
    "### Attribution\n",
    "\n",
    "Lab created by Anders Märak Leffler (2019), using some material by Johan Falkenjack. Feel free to reuse the material, but do so with attribution. License [CC-BY-SA 4.0](https://creativecommons.org/licenses/by-sa/4.0/)."
   ]
  }
 ],
 "metadata": {
  "kernelspec": {
   "display_name": "Python 3",
   "language": "python",
   "name": "python3"
  },
  "language_info": {
   "codemirror_mode": {
    "name": "ipython",
    "version": 3
   },
   "file_extension": ".py",
   "mimetype": "text/x-python",
   "name": "python",
   "nbconvert_exporter": "python",
   "pygments_lexer": "ipython3",
   "version": "3.9.1"
  }
 },
 "nbformat": 4,
 "nbformat_minor": 2
}
