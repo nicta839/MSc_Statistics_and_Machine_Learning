{
  "nbformat": 4,
  "nbformat_minor": 0,
  "metadata": {
    "kernelspec": {
      "display_name": "Python 3 (ipykernel)",
      "language": "python",
      "name": "python3"
    },
    "language_info": {
      "codemirror_mode": {
        "name": "ipython",
        "version": 3
      },
      "file_extension": ".py",
      "mimetype": "text/x-python",
      "name": "python",
      "nbconvert_exporter": "python",
      "pygments_lexer": "ipython3",
      "version": "3.7.0"
    },
    "colab": {
      "name": "TM-L4_colab.ipynb",
      "provenance": [],
      "collapsed_sections": []
    }
  },
  "cells": [
    {
      "cell_type": "markdown",
      "metadata": {
        "id": "24bXF1_wcR6e"
      },
      "source": [
        "# L4: Word embeddings"
      ]
    },
    {
      "cell_type": "markdown",
      "metadata": {
        "id": "YdgdZyVqcR6k"
      },
      "source": [
        "In this lab you will explore word embeddings. A **word embedding** is a mapping of words to points in a vector space such that nearby words (points) are similar in terms of their distributional properties. You will use word embedding to find similar words, and evaluate their usefulness in an inference task.\n",
        "\n",
        "You will use the word vectors that come with [spaCy](http://spacy.io). Note that you will need the &lsquo;large&rsquo; English language model; the &lsquo;small&rsquo; model that you used in previous labs does not include proper word vectors."
      ]
    },
    {
      "cell_type": "code",
      "metadata": {
        "colab": {
          "base_uri": "https://localhost:8080/"
        },
        "id": "UcVVhHdscU-4",
        "outputId": "6d9c697e-f793-4a57-8ad2-103e36e17462"
      },
      "source": [
        "from google.colab import drive\n",
        "drive.mount('/content/drive')\n"
      ],
      "execution_count": 1,
      "outputs": [
        {
          "output_type": "stream",
          "name": "stdout",
          "text": [
            "Drive already mounted at /content/drive; to attempt to forcibly remount, call drive.mount(\"/content/drive\", force_remount=True).\n"
          ]
        }
      ]
    },
    {
      "cell_type": "code",
      "metadata": {
        "colab": {
          "base_uri": "https://localhost:8080/"
        },
        "id": "jNQZlejEcW0C",
        "outputId": "c8e742bf-edc8-435a-d240-6305127f5214"
      },
      "source": [
        "%cd /content/drive/MyDrive/Colab Notebooks/l4"
      ],
      "execution_count": 2,
      "outputs": [
        {
          "output_type": "stream",
          "name": "stdout",
          "text": [
            "/content/drive/MyDrive/Colab Notebooks/l4\n"
          ]
        }
      ]
    },
    {
      "cell_type": "code",
      "metadata": {
        "id": "PjxrG37nclkT"
      },
      "source": [
        "# !python -m spacy download en_core_web_lg "
      ],
      "execution_count": 3,
      "outputs": []
    },
    {
      "cell_type": "code",
      "metadata": {
        "id": "70-Ha_x7cR6l"
      },
      "source": [
        "import spacy\n",
        "\n",
        "nlp = spacy.load('en_core_web_lg')"
      ],
      "execution_count": 4,
      "outputs": []
    },
    {
      "cell_type": "markdown",
      "metadata": {
        "id": "8JG4YGQScR6m"
      },
      "source": [
        "Every word in the model&rsquo;s vocabulary comes with a 300-dimensional vector, represented as a NumPy array. The following code cell shows how to access the vector for the word *cheese*:"
      ]
    },
    {
      "cell_type": "code",
      "metadata": {
        "colab": {
          "base_uri": "https://localhost:8080/"
        },
        "id": "7DYsN0KQcR6n",
        "outputId": "8126e6ac-5d2b-4c0d-8848-9396fd14a7f7"
      },
      "source": [
        "nlp.vocab['cheese'].vector"
      ],
      "execution_count": 5,
      "outputs": [
        {
          "output_type": "execute_result",
          "data": {
            "text/plain": [
              "array([-5.5252e-01,  1.8894e-01,  6.8737e-01, -1.9789e-01,  7.0575e-02,\n",
              "        1.0075e+00,  5.1789e-02, -1.5603e-01,  3.1941e-01,  1.1702e+00,\n",
              "       -4.7248e-01,  4.2867e-01, -4.2025e-01,  2.4803e-01,  6.8194e-01,\n",
              "       -6.7488e-01,  9.2401e-02,  1.3089e+00, -3.6278e-02,  2.0098e-01,\n",
              "        7.6005e-01, -6.6718e-02, -7.7794e-02,  2.3844e-01, -2.4351e-01,\n",
              "       -5.4164e-01, -3.3540e-01,  2.9805e-01,  3.5269e-01, -8.0594e-01,\n",
              "       -4.3611e-01,  6.1535e-01,  3.4212e-01, -3.3603e-01,  3.3282e-01,\n",
              "        3.8065e-01,  5.7427e-02,  9.9918e-02,  1.2525e-01,  1.1039e+00,\n",
              "        3.6678e-02,  3.0490e-01, -1.4942e-01,  3.2912e-01,  2.3300e-01,\n",
              "        4.3395e-01,  1.5666e-01,  2.2778e-01, -2.5830e-02,  2.4334e-01,\n",
              "       -5.8136e-02, -1.3486e-01,  2.4521e-01, -3.3459e-01,  4.2839e-01,\n",
              "       -4.8181e-01,  1.3403e-01,  2.6049e-01,  8.9933e-02, -9.3770e-02,\n",
              "        3.7672e-01, -2.9558e-02,  4.3841e-01,  6.1212e-01, -2.5720e-01,\n",
              "       -7.8506e-01,  2.3880e-01,  1.3399e-01, -7.9315e-02,  7.0582e-01,\n",
              "        3.9968e-01,  6.7779e-01, -2.0474e-03,  1.9785e-02, -4.2059e-01,\n",
              "       -5.3858e-01, -5.2155e-02,  1.7252e-01,  2.7547e-01, -4.4482e-01,\n",
              "        2.3595e-01, -2.3445e-01,  3.0103e-01, -5.5096e-01, -3.1159e-02,\n",
              "       -3.4433e-01,  1.2386e+00,  1.0317e+00, -2.2728e-01, -9.5207e-03,\n",
              "       -2.5432e-01, -2.9792e-01,  2.5934e-01, -1.0421e-01, -3.3876e-01,\n",
              "        4.2470e-01,  5.8335e-04,  1.3093e-01,  2.8786e-01,  2.3474e-01,\n",
              "        2.5905e-02, -6.4359e-01,  6.1330e-02,  6.3842e-01,  1.4705e-01,\n",
              "       -6.1594e-01,  2.5097e-01, -4.4872e-01,  8.6825e-01,  9.9555e-02,\n",
              "       -4.4734e-02, -7.4239e-01, -5.9147e-01, -5.4929e-01,  3.8108e-01,\n",
              "        5.5177e-02, -1.0487e-01, -1.2838e-01,  6.0521e-03,  2.8743e-01,\n",
              "        2.1592e-01,  7.2871e-02, -3.1644e-01, -4.3321e-01,  1.8682e-01,\n",
              "        6.7274e-02,  2.8115e-01, -4.6222e-02, -9.6803e-02,  5.6091e-01,\n",
              "       -6.7762e-01, -1.6645e-01,  1.5553e-01,  5.2301e-01, -3.0058e-01,\n",
              "       -3.7291e-01,  8.7895e-02, -1.7963e-01, -4.4193e-01, -4.4607e-01,\n",
              "       -2.4122e+00,  3.3738e-01,  6.2416e-01,  4.2787e-01, -2.5386e-01,\n",
              "       -6.1683e-01, -7.0097e-01,  4.9303e-01,  3.6916e-01, -9.7499e-02,\n",
              "        6.1411e-01, -4.7572e-03,  4.3916e-01, -2.1551e-01, -5.6745e-01,\n",
              "       -4.0278e-01,  2.9459e-01, -3.0850e-01,  1.0103e-01,  7.9741e-02,\n",
              "       -6.3811e-01,  2.4781e-01, -4.4546e-01,  1.0828e-01, -2.3624e-01,\n",
              "       -5.0838e-01, -1.7001e-01, -7.8735e-01,  3.4073e-01, -3.1830e-01,\n",
              "        4.5286e-01, -9.5118e-02,  2.0772e-01, -8.0183e-02, -3.7982e-01,\n",
              "       -4.9949e-01,  4.0759e-02, -3.7724e-01, -8.9705e-02, -6.8187e-01,\n",
              "        2.2106e-01, -3.9931e-01,  3.2329e-01, -3.6180e-01, -7.2093e-01,\n",
              "       -6.3404e-01,  4.3125e-01, -4.9743e-01, -1.7395e-01, -3.8779e-01,\n",
              "       -3.2556e-01,  1.4423e-01, -8.3401e-02, -2.2994e-01,  2.7793e-01,\n",
              "        4.9112e-01,  6.4511e-01, -7.8945e-02,  1.1171e-01,  3.7264e-01,\n",
              "        1.3070e-01, -6.1607e-02, -4.3501e-01,  2.8999e-02,  5.6224e-01,\n",
              "        5.8012e-02,  4.7078e-02,  4.2770e-01,  7.3245e-01, -2.1150e-02,\n",
              "        1.1988e-01,  7.8823e-02, -1.9106e-01,  3.5278e-02, -3.1102e-01,\n",
              "        1.3209e-01, -2.8606e-01, -1.5649e-01, -6.4339e-01,  4.4599e-01,\n",
              "       -3.0912e-01,  4.4520e-01, -3.6774e-01,  2.7327e-01,  6.7833e-01,\n",
              "       -8.3830e-02, -4.5120e-01,  1.0754e-01, -4.5908e-01,  1.5095e-01,\n",
              "       -4.5856e-01,  3.4465e-01,  7.8013e-02, -2.8319e-01, -2.8149e-02,\n",
              "        2.4404e-01, -7.1345e-01,  5.2834e-02, -2.8085e-01,  2.5344e-02,\n",
              "        4.2979e-02,  1.5663e-01, -7.4647e-01, -1.1301e+00,  4.4135e-01,\n",
              "        3.1444e-01, -1.0018e-01, -5.3526e-01, -9.0601e-01, -6.4954e-01,\n",
              "        4.2664e-02, -7.9927e-02,  3.2905e-01, -3.0797e-01, -1.9190e-02,\n",
              "        4.2765e-01,  3.1460e-01,  2.9051e-01, -2.7386e-01,  6.8483e-01,\n",
              "        1.9395e-02, -3.2884e-01, -4.8239e-01, -1.5747e-01, -1.6036e-01,\n",
              "        4.9164e-01, -7.0352e-01, -3.5591e-01, -7.4887e-01, -5.2827e-01,\n",
              "        4.4983e-02,  5.9247e-02,  4.6224e-01,  8.9697e-02, -7.5618e-01,\n",
              "        6.3682e-01,  9.0680e-02,  6.8830e-02,  1.8296e-01,  1.0754e-01,\n",
              "        6.7811e-01, -1.4716e-01,  1.7029e-01, -5.2630e-01,  1.9268e-01,\n",
              "        9.3130e-01,  8.0363e-01,  6.1324e-01, -3.0494e-01,  2.0236e-01,\n",
              "        5.8520e-01,  2.6484e-01, -4.5863e-01,  2.1035e-03, -5.6990e-01,\n",
              "       -4.9092e-01,  4.2511e-01, -1.0954e+00,  1.7124e-01,  2.2495e-01],\n",
              "      dtype=float32)"
            ]
          },
          "metadata": {},
          "execution_count": 5
        }
      ]
    },
    {
      "cell_type": "markdown",
      "metadata": {
        "id": "Znn8iFaVcR6o"
      },
      "source": [
        "## Problem 1: Finding similar words"
      ]
    },
    {
      "cell_type": "markdown",
      "metadata": {
        "id": "UuP1qD9fcR6p"
      },
      "source": [
        "Your first task is to use the word embeddings to find similar words. More specifically, we ask you to write a function `most_similar` that takes a vector $x$ and returns a list with the 10 most similar entries in spaCy&rsquo;s vocabulary, with similarity being defined by cosine.\n",
        "\n",
        "**Tip:** spaCy already has a [`most_similar`](https://spacy.io/api/vectors#most_similar) method that you can wrap."
      ]
    },
    {
      "cell_type": "code",
      "metadata": {
        "id": "erTXj1qkcR6r"
      },
      "source": [
        "import numpy as np"
      ],
      "execution_count": 6,
      "outputs": []
    },
    {
      "cell_type": "code",
      "metadata": {
        "id": "elA3H4pbcR6s"
      },
      "source": [
        "# TODO: Enter your implementation of `most_similar` here\n",
        "def most_similar(x):\n",
        "    queries = np.array([x])\n",
        "    similar_vocab_entries = nlp.vocab.vectors.most_similar(queries=queries, n=10)[0][0]\n",
        "    return([nlp.vocab[entry] for entry in similar_vocab_entries])"
      ],
      "execution_count": 7,
      "outputs": []
    },
    {
      "cell_type": "markdown",
      "metadata": {
        "id": "i4M5k-zKcR6t"
      },
      "source": [
        "Test your implementation by running the following code cell, which will print the 10 most similar words for the word *cheese*:"
      ]
    },
    {
      "cell_type": "code",
      "metadata": {
        "colab": {
          "base_uri": "https://localhost:8080/"
        },
        "id": "7Envyh-QcR6u",
        "outputId": "d43c8a09-2638-442f-d6bf-fbd01e0de174"
      },
      "source": [
        "print(' '.join(w.text for w in most_similar(nlp.vocab['cheese'].vector)))"
      ],
      "execution_count": 8,
      "outputs": [
        {
          "output_type": "stream",
          "name": "stdout",
          "text": [
            "Cheese CHEESE cheese Cheddar cheddar CHEDDAR BACON Bacon bacon cheeses\n"
          ]
        }
      ]
    },
    {
      "cell_type": "markdown",
      "metadata": {
        "id": "wSwtbcwucR6u"
      },
      "source": [
        "You should get the following output:"
      ]
    },
    {
      "cell_type": "raw",
      "metadata": {
        "id": "5PcTAh1EcR6u"
      },
      "source": [
        "CHEESE cheese Cheese Cheddar cheddar CHEDDAR BACON Bacon bacon cheeses"
      ]
    },
    {
      "cell_type": "markdown",
      "metadata": {
        "id": "JK9vsNhycR6v"
      },
      "source": [
        "Once you have a working implementation of `most_similar`, use it to think about in what sense the returned words really are &lsquo;similar&rsquo; to the cue word. Try to find examples where the cue word and at least one of the words returned by `most_similar` are in the following semantic relations:\n",
        "\n",
        "1. synonymy (exchangeable meanings)\n",
        "2. antonymy (opposite meanings)\n",
        "3. hyperonymy/hyponymy (more specific/less specific meanings)\n",
        "\n",
        "Document your examples in the code cell below."
      ]
    },
    {
      "cell_type": "code",
      "metadata": {
        "colab": {
          "base_uri": "https://localhost:8080/"
        },
        "id": "IpEpO3bocR6v",
        "outputId": "71515cab-a5b6-4239-f5f5-cdd4abcc823d"
      },
      "source": [
        "# TODO: Insert code here to generate your examples\n",
        "\n",
        "# Synonymy\n",
        "print(\"Synonymy\")\n",
        "print(\"#\" * 100)\n",
        "print(' '.join(w.text for w in most_similar(nlp.vocab['concerning'].vector)))\n",
        "print(\"#\" * 100, \"\\n\")\n",
        "\n",
        "# Antonymy\n",
        "print(\"Antonymy\")\n",
        "print(\"#\" * 100)\n",
        "print(' '.join(w.text for w in most_similar(nlp.vocab['mom'].vector)))\n",
        "print(\"#\" * 100, \"\\n\")\n",
        "\n",
        "# Hyperonymy\n",
        "print(\"Hyperonymy\")\n",
        "print(\"#\" * 100)\n",
        "print(' '.join(w.text for w in most_similar(nlp.vocab['animal'].vector)))\n",
        "print(\"#\" * 100, \"\\n\")"
      ],
      "execution_count": 9,
      "outputs": [
        {
          "output_type": "stream",
          "name": "stdout",
          "text": [
            "Synonymy\n",
            "####################################################################################################\n",
            "concerning Concerning CONCERNING Regarding regarding REGARDING relating RELATING Relating PERTAINING\n",
            "#################################################################################################### \n",
            "\n",
            "Antonymy\n",
            "####################################################################################################\n",
            "MOM Mom MoM mom DAD DaD Dad dad Grandma GRANDMA\n",
            "#################################################################################################### \n",
            "\n",
            "Hyperonymy\n",
            "####################################################################################################\n",
            "Animal ANIMAL animal animals ANIMALS Animals pet Pet PET doG\n",
            "#################################################################################################### \n",
            "\n"
          ]
        }
      ]
    },
    {
      "cell_type": "markdown",
      "metadata": {
        "id": "5WfRZxKlcR6w"
      },
      "source": [
        "## Problem 2: Plotting similar words"
      ]
    },
    {
      "cell_type": "markdown",
      "metadata": {
        "id": "MRAdHHEecR6w"
      },
      "source": [
        "Your next task is to visualize the word embedding space by a plot. To do so, you will have to reduce the dimensionality of the space from 300 to 2&nbsp;dimensions. One suitable algorithm for this is [T-distributed Stochastic Neighbor Embedding](https://en.wikipedia.org/wiki/T-distributed_stochastic_neighbor_embedding) (TSNE), which is implemented in scikit-learn&rsquo;s [TSNE](https://scikit-learn.org/stable/modules/generated/sklearn.manifold.TSNE.html) class.\n",
        "\n",
        "Write a function `plot_most_similar` that takes a list of words (lexemes) and does the following:\n",
        "\n",
        "1. For each word in the list, find the most similar words (lexemes) in the spaCy vocabulary.\n",
        "2. Compute the TSNE transformation of the corresponding vectors to 2&nbsp;dimensions.\n",
        "3. Produce a scatter plot of the transformed vectors, with the vectors as points and the corresponding word forms as labels."
      ]
    },
    {
      "cell_type": "code",
      "metadata": {
        "id": "T5ccj4z8cR6x"
      },
      "source": [
        "from sklearn.manifold import TSNE\n",
        "import matplotlib.pyplot as plt\n",
        "import matplotlib.patches as mpatches"
      ],
      "execution_count": 10,
      "outputs": []
    },
    {
      "cell_type": "code",
      "metadata": {
        "id": "f0QrmWvXcR6x"
      },
      "source": [
        "# TODO: Write code here to plot the most similar words\n",
        "\n",
        "def plot_most_similar(words):\n",
        "    # 1. For each word in the list, find the most similar words (lexemes) in the spaCy vocabulary.\n",
        "    lexemes = np.array([most_similar(word.vector) for word in words]).flatten()\n",
        "    \n",
        "    # 2. Compute the TSNE transformation of the corresponding vectors to 2 dimensions.\n",
        "    X = [lexeme.vector for lexeme in lexemes]\n",
        "    X_embedded = TSNE(n_components=2).fit_transform(X)\n",
        "   \n",
        "    # 3. Produce a scatter plot of the transformed vectors, with the vectors as points and the corresponding word forms as labels.\n",
        "    x_coords = X_embedded[:, 0]\n",
        "    y_coords = X_embedded[:, 1]\n",
        "    plt.scatter(x_coords, y_coords)\n",
        "    for label, x, y in zip([lex.text for lex in lexemes], x_coords, y_coords):\n",
        "        plt.annotate(label, (x,y), xytext=(0, 0), textcoords=\"offset points\", ha=\"center\", va=\"center\")\n",
        "    plt.title(\"Visualizing Word Embedding Space\")\n",
        "    plt.show()"
      ],
      "execution_count": 11,
      "outputs": []
    },
    {
      "cell_type": "markdown",
      "metadata": {
        "id": "6wF24ABQcR6x"
      },
      "source": [
        "Test your code by running the following cell:"
      ]
    },
    {
      "cell_type": "code",
      "metadata": {
        "colab": {
          "base_uri": "https://localhost:8080/",
          "height": 354
        },
        "id": "h2bL74DPcR6y",
        "outputId": "cb3da124-9eea-447f-8167-de476aa4a873"
      },
      "source": [
        "plot_most_similar([nlp.vocab[w] for w in ['cheese', 'goat', 'sweden', 'university', 'computer']])"
      ],
      "execution_count": 12,
      "outputs": [
        {
          "output_type": "stream",
          "name": "stderr",
          "text": [
            "/usr/local/lib/python3.7/dist-packages/sklearn/manifold/_t_sne.py:783: FutureWarning: The default initialization in TSNE will change from 'random' to 'pca' in 1.2.\n",
            "  FutureWarning,\n",
            "/usr/local/lib/python3.7/dist-packages/sklearn/manifold/_t_sne.py:793: FutureWarning: The default learning rate in TSNE will change from 200.0 to 'auto' in 1.2.\n",
            "  FutureWarning,\n"
          ]
        },
        {
          "output_type": "display_data",
          "data": {
            "image/png": "[encoded data removed]",
            "text/plain": [
              "<Figure size 432x288 with 1 Axes>"
            ]
          },
          "metadata": {
            "needs_background": "light"
          }
        }
      ]
    },
    {
      "cell_type": "markdown",
      "metadata": {
        "id": "Bw8WcqwUcR6y"
      },
      "source": [
        "Take a few minutes to look at your plot. What does it tell you? What does it *not* tell you?"
      ]
    },
    {
      "cell_type": "markdown",
      "metadata": {
        "id": "9jPEuS6ocR6y"
      },
      "source": [
        "## Problem 3: Analogies"
      ]
    },
    {
      "cell_type": "markdown",
      "metadata": {
        "id": "1K7KdF67cR6z"
      },
      "source": [
        "In a **word analogy task** you are given three words $x$, $y$, $z$ and have to predict a word $w$ that has the same semantic relation to $z$ as $y$ has to $x$. One example is *man*, *woman*, *brother*, the expected answer being *sister* (the semantic relation is *male*/*female*).\n",
        "\n",
        "[Mikolov et al. (2013)](http://www.aclweb.org/anthology/N13-1090) have shown that some types of word analogy tasks can be solved by adding and substracting word vectors in a word embedding: the vector for *sister* is the closest vector (in terms of cosine distance) to the vector *brother* $-$ *man* $+$ *woman*. Your next task is to write a function `fourth` that takes in three words (say *brother*, *man*, *woman*) and predicts the word that completes the analogy (in this case, *sister*)."
      ]
    },
    {
      "cell_type": "code",
      "metadata": {
        "id": "C53Q9ZKbcR6z"
      },
      "source": [
        "# TODO: Enter code here to solve the analogy problem\n",
        "def fourth(x, y, z):\n",
        "    analogy = most_similar((x.vector - y.vector + z.vector))[0]\n",
        "    return (analogy)"
      ],
      "execution_count": 13,
      "outputs": []
    },
    {
      "cell_type": "markdown",
      "metadata": {
        "id": "8fKwUw9DcR6z"
      },
      "source": [
        "Test your code by running the following code. You should get *sister*."
      ]
    },
    {
      "cell_type": "code",
      "metadata": {
        "colab": {
          "base_uri": "https://localhost:8080/",
          "height": 36
        },
        "id": "5XrVKeTbcR60",
        "outputId": "0712fed8-739d-4d85-c70a-ad4db71efd2e"
      },
      "source": [
        "fourth(nlp.vocab['brother'], nlp.vocab['man'], nlp.vocab['woman']).text"
      ],
      "execution_count": 14,
      "outputs": [
        {
          "output_type": "execute_result",
          "data": {
            "application/vnd.google.colaboratory.intrinsic+json": {
              "type": "string"
            },
            "text/plain": [
              "'SISTER'"
            ]
          },
          "metadata": {},
          "execution_count": 14
        }
      ]
    },
    {
      "cell_type": "code",
      "metadata": {
        "colab": {
          "base_uri": "https://localhost:8080/",
          "height": 36
        },
        "id": "HPpVanD2cR60",
        "outputId": "80f01436-2369-4366-f28e-b698b077270e"
      },
      "source": [
        "fourth(nlp.vocab['Stockholm'], nlp.vocab['Sweden'], nlp.vocab['Germany']).text"
      ],
      "execution_count": 15,
      "outputs": [
        {
          "output_type": "execute_result",
          "data": {
            "application/vnd.google.colaboratory.intrinsic+json": {
              "type": "string"
            },
            "text/plain": [
              "'BERLIN'"
            ]
          },
          "metadata": {},
          "execution_count": 15
        }
      ]
    },
    {
      "cell_type": "code",
      "metadata": {
        "colab": {
          "base_uri": "https://localhost:8080/",
          "height": 36
        },
        "id": "K1zl3km-cR61",
        "outputId": "054c6255-63f2-4218-b3db-e44e803cd16a"
      },
      "source": [
        "fourth(nlp.vocab['Swedish'], nlp.vocab['Sweden'], nlp.vocab['France']).text"
      ],
      "execution_count": 16,
      "outputs": [
        {
          "output_type": "execute_result",
          "data": {
            "application/vnd.google.colaboratory.intrinsic+json": {
              "type": "string"
            },
            "text/plain": [
              "'French'"
            ]
          },
          "metadata": {},
          "execution_count": 16
        }
      ]
    },
    {
      "cell_type": "code",
      "metadata": {
        "colab": {
          "base_uri": "https://localhost:8080/",
          "height": 36
        },
        "id": "Mk5yYcnPcR61",
        "outputId": "c57151d4-2761-4d63-a145-fd68ac8505c6"
      },
      "source": [
        "fourth(nlp.vocab['better'], nlp.vocab['good'], nlp.vocab['bad']).text"
      ],
      "execution_count": 17,
      "outputs": [
        {
          "output_type": "execute_result",
          "data": {
            "application/vnd.google.colaboratory.intrinsic+json": {
              "type": "string"
            },
            "text/plain": [
              "'WORSE'"
            ]
          },
          "metadata": {},
          "execution_count": 17
        }
      ]
    },
    {
      "cell_type": "code",
      "metadata": {
        "colab": {
          "base_uri": "https://localhost:8080/",
          "height": 36
        },
        "id": "fb5synz9cR61",
        "outputId": "3b1cea53-48e4-4357-b4ca-ca60579ec6c1"
      },
      "source": [
        "fourth(nlp.vocab['walked'], nlp.vocab['walk'], nlp.vocab['take']).text"
      ],
      "execution_count": 18,
      "outputs": [
        {
          "output_type": "execute_result",
          "data": {
            "application/vnd.google.colaboratory.intrinsic+json": {
              "type": "string"
            },
            "text/plain": [
              "'TOOK'"
            ]
          },
          "metadata": {},
          "execution_count": 18
        }
      ]
    },
    {
      "cell_type": "markdown",
      "metadata": {
        "id": "bf32Q4otcR62"
      },
      "source": [
        "You should also be able to get the following:\n",
        "\n",
        "* *Stockholm* $-$ *Sweden* $+$ *Germany* $=$ *Berlin*\n",
        "* *Swedish* $-$ *Sweden* $+$ *France* $=$ *French*\n",
        "* *better* $-$ *good* $+$ *bad* $=$ *worse*\n",
        "* *walked* $-$ *walk* $+$ *take* $=$ *took*\n",
        "\n",
        "Experiment with other examples to see whether you get the expected output. Provide three examples of analogies for which the model produces the &lsquo;correct&rsquo; answer, and three examples on which the model &lsquo;failed&rsquo;. Based on your theoretical understanding of word embeddings, do you have a hypothesis as to why the model succeeds/fails in completing the analogy? Discuss this question in a short text."
      ]
    },
    {
      "cell_type": "markdown",
      "metadata": {
        "id": "SLBqvwyycR62"
      },
      "source": [
        "**Examples: Success**"
      ]
    },
    {
      "cell_type": "code",
      "metadata": {
        "colab": {
          "base_uri": "https://localhost:8080/",
          "height": 36
        },
        "id": "INTMHlJ7cR62",
        "outputId": "1b1ac9af-f55c-4abe-dbc2-12eb853333b9"
      },
      "source": [
        "fourth(nlp.vocab['swimming'], nlp.vocab['Swimmer'], nlp.vocab['Skier']).text"
      ],
      "execution_count": 19,
      "outputs": [
        {
          "output_type": "execute_result",
          "data": {
            "application/vnd.google.colaboratory.intrinsic+json": {
              "type": "string"
            },
            "text/plain": [
              "'SKIING'"
            ]
          },
          "metadata": {},
          "execution_count": 19
        }
      ]
    },
    {
      "cell_type": "code",
      "metadata": {
        "colab": {
          "base_uri": "https://localhost:8080/",
          "height": 36
        },
        "id": "C6YGKUEkcR62",
        "outputId": "520d05c8-3de8-4987-aa00-780dd7806866"
      },
      "source": [
        "fourth(nlp.vocab['0am'], nlp.vocab['midnight'], nlp.vocab['midday']).text"
      ],
      "execution_count": 20,
      "outputs": [
        {
          "output_type": "execute_result",
          "data": {
            "application/vnd.google.colaboratory.intrinsic+json": {
              "type": "string"
            },
            "text/plain": [
              "'0am'"
            ]
          },
          "metadata": {},
          "execution_count": 20
        }
      ]
    },
    {
      "cell_type": "code",
      "metadata": {
        "colab": {
          "base_uri": "https://localhost:8080/",
          "height": 36
        },
        "id": "Ks_bCtDJcR63",
        "outputId": "54044a66-3559-4858-8503-9eed4ffec551"
      },
      "source": [
        "fourth(nlp.vocab['cat'], nlp.vocab['cats'], nlp.vocab['dogs']).text"
      ],
      "execution_count": 21,
      "outputs": [
        {
          "output_type": "execute_result",
          "data": {
            "application/vnd.google.colaboratory.intrinsic+json": {
              "type": "string"
            },
            "text/plain": [
              "'Dog'"
            ]
          },
          "metadata": {},
          "execution_count": 21
        }
      ]
    },
    {
      "cell_type": "markdown",
      "metadata": {
        "id": "OrEyn-rycR63"
      },
      "source": [
        "**Examples: Failure**"
      ]
    },
    {
      "cell_type": "code",
      "metadata": {
        "colab": {
          "base_uri": "https://localhost:8080/",
          "height": 36
        },
        "id": "e-945Yv5cR63",
        "outputId": "1b34ce55-a49c-4a27-cf55-fcba9244931f"
      },
      "source": [
        "fourth(nlp.vocab['son'], nlp.vocab['father'], nlp.vocab['mother']).text"
      ],
      "execution_count": 22,
      "outputs": [
        {
          "output_type": "execute_result",
          "data": {
            "application/vnd.google.colaboratory.intrinsic+json": {
              "type": "string"
            },
            "text/plain": [
              "'son'"
            ]
          },
          "metadata": {},
          "execution_count": 22
        }
      ]
    },
    {
      "cell_type": "code",
      "metadata": {
        "colab": {
          "base_uri": "https://localhost:8080/",
          "height": 36
        },
        "id": "SBiiVvK2cR64",
        "outputId": "4d534a98-0f81-4083-a0e4-b1facde6eef2"
      },
      "source": [
        "fourth(nlp.vocab['playstation'], nlp.vocab['sony'], nlp.vocab['microsoft']).text"
      ],
      "execution_count": 23,
      "outputs": [
        {
          "output_type": "execute_result",
          "data": {
            "application/vnd.google.colaboratory.intrinsic+json": {
              "type": "string"
            },
            "text/plain": [
              "'MicroSoft'"
            ]
          },
          "metadata": {},
          "execution_count": 23
        }
      ]
    },
    {
      "cell_type": "code",
      "metadata": {
        "colab": {
          "base_uri": "https://localhost:8080/",
          "height": 36
        },
        "id": "my7v6gGZcR64",
        "outputId": "890f4845-7866-4394-b716-892d163eb6c0"
      },
      "source": [
        "fourth(nlp.vocab['old'], nlp.vocab['parents'], nlp.vocab['kids']).text"
      ],
      "execution_count": 24,
      "outputs": [
        {
          "output_type": "execute_result",
          "data": {
            "application/vnd.google.colaboratory.intrinsic+json": {
              "type": "string"
            },
            "text/plain": [
              "'old'"
            ]
          },
          "metadata": {},
          "execution_count": 24
        }
      ]
    },
    {
      "cell_type": "markdown",
      "metadata": {
        "id": "pkZeWb9gcR64"
      },
      "source": [
        "**Answer:**\n",
        "\n",
        "In general, the model doesn't succeed that often. It took us a long time to even find 3 working examples. It is way easier to find examples that don't work out. Given that each word is represented as a vector and we know that similar words point in the same direction we think it is easier to find correct analogies if the words x and are similar. If, on the other hand, our 2 base words differ a lot, we expect a higher chance of false predictions."
      ]
    },
    {
      "cell_type": "markdown",
      "metadata": {
        "id": "v2k6Plu2cR65"
      },
      "source": [
        "## Natural language inference dataset"
      ]
    },
    {
      "cell_type": "markdown",
      "metadata": {
        "id": "WaZ2twqdcR65"
      },
      "source": [
        "In the second part of this lab, you will be evaluating the usefulness of word embeddings in the context of a natural language inference task. The data for this part is the [SNLI corpus](https://nlp.stanford.edu/projects/snli/), a collection of 570k human-written English image caption pairs manually labeled with the labels *Entailment*, *Contradiction*, and *Neutral*. Consider the following sentence pair as an example:\n",
        "\n",
        "* Sentence 1: A soccer game with multiple males playing.\n",
        "* Sentence 2: Some men are playing a sport.\n",
        "\n",
        "This pair is labeled with *Entailment*, because sentence&nbsp;2 is logically entailed (implied) by sentence&nbsp;1 – if sentence&nbsp;1 is true, then sentence&nbsp;2 is true, too. The following sentence pair, on the other hand, is labeled with *Contradiction*, because both sentences cannot be true at the same time.\n",
        "\n",
        "* Sentence 1: A black race car starts up in front of a crowd of people.\n",
        "* Sentence 2: A man is driving down a lonely road.\n",
        "\n",
        "For detailed information about the corpus, refer to [Bowman et al. (2015)](https://www.aclweb.org/anthology/D15-1075/). For this lab, we load the training portion and the development portion of the dataset.\n",
        "\n",
        "**Note:** Because the SNLI corpus is rather big, we initially only load a small portion (25,000 samples) of the training data. Once you have working code for Problems&nbsp;4–6, you should set the flag `final` to `True` and re-run all cells with the full dataset."
      ]
    },
    {
      "cell_type": "code",
      "metadata": {
        "colab": {
          "base_uri": "https://localhost:8080/"
        },
        "id": "ce3cHplZcR68",
        "outputId": "795f0443-06b2-4521-d6fd-a6396dc803a6"
      },
      "source": [
        "import bz2\n",
        "import pandas as pd\n",
        "\n",
        "final_evaluation = False    # TODO: Set to True for the final evaluation!\n",
        "\n",
        "with bz2.open('train.jsonl.bz2', 'rt') as source:\n",
        "    if final_evaluation:\n",
        "        df_train = pd.read_json(source, lines=True)\n",
        "    else:\n",
        "        df_train = pd.read_json(source, lines=True, nrows=25000)\n",
        "    print('Number of sentence pairs in the training data:', len(df_train))\n",
        "\n",
        "with bz2.open('dev.jsonl.bz2', 'rt') as source:\n",
        "    df_dev = pd.read_json(source, lines=True)\n",
        "    print('Number of sentence pairs in the development data:', len(df_dev))"
      ],
      "execution_count": 25,
      "outputs": [
        {
          "output_type": "stream",
          "name": "stdout",
          "text": [
            "Number of sentence pairs in the training data: 25000\n",
            "Number of sentence pairs in the development data: 9842\n"
          ]
        }
      ]
    },
    {
      "cell_type": "markdown",
      "metadata": {
        "id": "Bq1b_j-TcR69"
      },
      "source": [
        "When you inspect the data frames, you will see that we have preprocessed the sentences and separated tokens by spaces. In the columns `tagged1` and `tagged2`, we have added the part-of-speech tags for every token (as predicted by spaCy), also separated by spaces."
      ]
    },
    {
      "cell_type": "code",
      "metadata": {
        "colab": {
          "base_uri": "https://localhost:8080/",
          "height": 206
        },
        "id": "mynhlJgKcR6-",
        "outputId": "1b129505-7306-4163-8741-e54838d359c1"
      },
      "source": [
        "df_dev.head()"
      ],
      "execution_count": 26,
      "outputs": [
        {
          "output_type": "execute_result",
          "data": {
            "text/html": [
              "<div>\n",
              "<style scoped>\n",
              "    .dataframe tbody tr th:only-of-type {\n",
              "        vertical-align: middle;\n",
              "    }\n",
              "\n",
              "    .dataframe tbody tr th {\n",
              "        vertical-align: top;\n",
              "    }\n",
              "\n",
              "    .dataframe thead th {\n",
              "        text-align: right;\n",
              "    }\n",
              "</style>\n",
              "<table border=\"1\" class=\"dataframe\">\n",
              "  <thead>\n",
              "    <tr style=\"text-align: right;\">\n",
              "      <th></th>\n",
              "      <th>gold_label</th>\n",
              "      <th>sentence1</th>\n",
              "      <th>tags1</th>\n",
              "      <th>sentence2</th>\n",
              "      <th>tags2</th>\n",
              "    </tr>\n",
              "  </thead>\n",
              "  <tbody>\n",
              "    <tr>\n",
              "      <th>0</th>\n",
              "      <td>neutral</td>\n",
              "      <td>Two women are embracing while holding to go pa...</td>\n",
              "      <td>NUM NOUN AUX VERB SCONJ VERB PART VERB NOUN PUNCT</td>\n",
              "      <td>The sisters are hugging goodbye while holding ...</td>\n",
              "      <td>DET NOUN AUX VERB NOUN SCONJ VERB PART VERB NO...</td>\n",
              "    </tr>\n",
              "    <tr>\n",
              "      <th>1</th>\n",
              "      <td>entailment</td>\n",
              "      <td>Two women are embracing while holding to go pa...</td>\n",
              "      <td>NUM NOUN AUX VERB SCONJ VERB PART VERB NOUN PUNCT</td>\n",
              "      <td>Two woman are holding packages .</td>\n",
              "      <td>NUM NOUN AUX VERB NOUN PUNCT</td>\n",
              "    </tr>\n",
              "    <tr>\n",
              "      <th>2</th>\n",
              "      <td>contradiction</td>\n",
              "      <td>Two women are embracing while holding to go pa...</td>\n",
              "      <td>NUM NOUN AUX VERB SCONJ VERB PART VERB NOUN PUNCT</td>\n",
              "      <td>The men are fighting outside a deli .</td>\n",
              "      <td>DET NOUN AUX VERB ADP DET NOUN PUNCT</td>\n",
              "    </tr>\n",
              "    <tr>\n",
              "      <th>3</th>\n",
              "      <td>entailment</td>\n",
              "      <td>Two young children in blue jerseys , one with ...</td>\n",
              "      <td>NUM ADJ NOUN ADP ADJ NOUN PUNCT NUM ADP DET NO...</td>\n",
              "      <td>Two kids in numbered jerseys wash their hands .</td>\n",
              "      <td>NUM NOUN ADP ADJ NOUN VERB PRON NOUN PUNCT</td>\n",
              "    </tr>\n",
              "    <tr>\n",
              "      <th>4</th>\n",
              "      <td>neutral</td>\n",
              "      <td>Two young children in blue jerseys , one with ...</td>\n",
              "      <td>NUM ADJ NOUN ADP ADJ NOUN PUNCT NUM ADP DET NO...</td>\n",
              "      <td>Two kids at a ballgame wash their hands .</td>\n",
              "      <td>NUM NOUN ADP DET NOUN VERB PRON NOUN PUNCT</td>\n",
              "    </tr>\n",
              "  </tbody>\n",
              "</table>\n",
              "</div>"
            ],
            "text/plain": [
              "      gold_label  ...                                              tags2\n",
              "0        neutral  ...  DET NOUN AUX VERB NOUN SCONJ VERB PART VERB NO...\n",
              "1     entailment  ...                       NUM NOUN AUX VERB NOUN PUNCT\n",
              "2  contradiction  ...               DET NOUN AUX VERB ADP DET NOUN PUNCT\n",
              "3     entailment  ...         NUM NOUN ADP ADJ NOUN VERB PRON NOUN PUNCT\n",
              "4        neutral  ...         NUM NOUN ADP DET NOUN VERB PRON NOUN PUNCT\n",
              "\n",
              "[5 rows x 5 columns]"
            ]
          },
          "metadata": {},
          "execution_count": 26
        }
      ]
    },
    {
      "cell_type": "markdown",
      "metadata": {
        "id": "Q38TDbqrcR7E"
      },
      "source": [
        "## Problem 4: Two simple baselines"
      ]
    },
    {
      "cell_type": "markdown",
      "metadata": {
        "id": "a7gFZvyxcR7E"
      },
      "source": [
        "Your first task is to establish two simple baselines for the natural language inference task."
      ]
    },
    {
      "cell_type": "markdown",
      "metadata": {
        "id": "_KR_ZWl5cR7F"
      },
      "source": [
        "### Random baseline\n",
        "\n",
        "Implement the standard random baseline that generates prediction by sampling from the empirical distribution of the classes in the training data. Write code to evaluate the performance of this classifier on the development data."
      ]
    },
    {
      "cell_type": "code",
      "metadata": {
        "id": "oSlBUFK_fyU6"
      },
      "source": [
        "# import from sklearn\n",
        "from sklearn.dummy import DummyClassifier\n",
        "from sklearn.metrics import classification_report\n",
        "from sklearn.pipeline import Pipeline\n",
        "from sklearn.feature_extraction.text import CountVectorizer\n",
        "from sklearn.linear_model import LogisticRegression\n",
        "import itertools\n",
        "from sklearn.neural_network import MLPClassifier\n",
        "\n"
      ],
      "execution_count": 27,
      "outputs": []
    },
    {
      "cell_type": "code",
      "metadata": {
        "id": "F9v-L_n-gEdq"
      },
      "source": [
        "# function to predict from a model given train and test data\n",
        "def predictions(model, datasets):\n",
        "  return(model.predict(data) for data in datasets)"
      ],
      "execution_count": 28,
      "outputs": []
    },
    {
      "cell_type": "code",
      "metadata": {
        "id": "d-OtD166cR7F"
      },
      "source": [
        "# TODO: Enter code here to implement the random baseline. Print the classification report.\n",
        "dummy_class = DummyClassifier().fit(df_train.loc[:, df_train.columns != \"gold_label\"], df_train[\"gold_label\"])\n",
        "train_predict, dev_predict = predictions(dummy_class, [df_train.loc[:, df_train.columns != \"gold_label\"], df_dev.loc[:, df_dev.columns != \"gold_label\"]])"
      ],
      "execution_count": 29,
      "outputs": []
    },
    {
      "cell_type": "code",
      "metadata": {
        "colab": {
          "base_uri": "https://localhost:8080/",
          "height": 285
        },
        "id": "hi3YHctkjC9R",
        "outputId": "a1ba0747-63c3-432c-d458-6dab94f066db"
      },
      "source": [
        "pd.DataFrame(classification_report(train_predict, df_train[\"gold_label\"], output_dict=True))"
      ],
      "execution_count": 30,
      "outputs": [
        {
          "output_type": "stream",
          "name": "stderr",
          "text": [
            "/usr/local/lib/python3.7/dist-packages/sklearn/metrics/_classification.py:1308: UndefinedMetricWarning: Recall and F-score are ill-defined and being set to 0.0 in labels with no true samples. Use `zero_division` parameter to control this behavior.\n",
            "  _warn_prf(average, modifier, msg_start, len(result))\n",
            "/usr/local/lib/python3.7/dist-packages/sklearn/metrics/_classification.py:1308: UndefinedMetricWarning: Recall and F-score are ill-defined and being set to 0.0 in labels with no true samples. Use `zero_division` parameter to control this behavior.\n",
            "  _warn_prf(average, modifier, msg_start, len(result))\n",
            "/usr/local/lib/python3.7/dist-packages/sklearn/metrics/_classification.py:1308: UndefinedMetricWarning: Recall and F-score are ill-defined and being set to 0.0 in labels with no true samples. Use `zero_division` parameter to control this behavior.\n",
            "  _warn_prf(average, modifier, msg_start, len(result))\n"
          ]
        },
        {
          "output_type": "execute_result",
          "data": {
            "text/html": [
              "<div>\n",
              "<style scoped>\n",
              "    .dataframe tbody tr th:only-of-type {\n",
              "        vertical-align: middle;\n",
              "    }\n",
              "\n",
              "    .dataframe tbody tr th {\n",
              "        vertical-align: top;\n",
              "    }\n",
              "\n",
              "    .dataframe thead th {\n",
              "        text-align: right;\n",
              "    }\n",
              "</style>\n",
              "<table border=\"1\" class=\"dataframe\">\n",
              "  <thead>\n",
              "    <tr style=\"text-align: right;\">\n",
              "      <th></th>\n",
              "      <th>contradiction</th>\n",
              "      <th>entailment</th>\n",
              "      <th>neutral</th>\n",
              "      <th>accuracy</th>\n",
              "      <th>macro avg</th>\n",
              "      <th>weighted avg</th>\n",
              "    </tr>\n",
              "  </thead>\n",
              "  <tbody>\n",
              "    <tr>\n",
              "      <th>precision</th>\n",
              "      <td>0.0</td>\n",
              "      <td>1.000000</td>\n",
              "      <td>0.0</td>\n",
              "      <td>0.33388</td>\n",
              "      <td>0.333333</td>\n",
              "      <td>1.000000</td>\n",
              "    </tr>\n",
              "    <tr>\n",
              "      <th>recall</th>\n",
              "      <td>0.0</td>\n",
              "      <td>0.333880</td>\n",
              "      <td>0.0</td>\n",
              "      <td>0.33388</td>\n",
              "      <td>0.111293</td>\n",
              "      <td>0.333880</td>\n",
              "    </tr>\n",
              "    <tr>\n",
              "      <th>f1-score</th>\n",
              "      <td>0.0</td>\n",
              "      <td>0.500615</td>\n",
              "      <td>0.0</td>\n",
              "      <td>0.33388</td>\n",
              "      <td>0.166872</td>\n",
              "      <td>0.500615</td>\n",
              "    </tr>\n",
              "    <tr>\n",
              "      <th>support</th>\n",
              "      <td>0.0</td>\n",
              "      <td>25000.000000</td>\n",
              "      <td>0.0</td>\n",
              "      <td>0.33388</td>\n",
              "      <td>25000.000000</td>\n",
              "      <td>25000.000000</td>\n",
              "    </tr>\n",
              "  </tbody>\n",
              "</table>\n",
              "</div>"
            ],
            "text/plain": [
              "           contradiction    entailment  ...     macro avg  weighted avg\n",
              "precision            0.0      1.000000  ...      0.333333      1.000000\n",
              "recall               0.0      0.333880  ...      0.111293      0.333880\n",
              "f1-score             0.0      0.500615  ...      0.166872      0.500615\n",
              "support              0.0  25000.000000  ...  25000.000000  25000.000000\n",
              "\n",
              "[4 rows x 6 columns]"
            ]
          },
          "metadata": {},
          "execution_count": 30
        }
      ]
    },
    {
      "cell_type": "code",
      "metadata": {
        "colab": {
          "base_uri": "https://localhost:8080/",
          "height": 285
        },
        "id": "6k77uOlXjm4o",
        "outputId": "f9f045ed-2a58-4732-c5c9-2e5a859344b2"
      },
      "source": [
        "pd.DataFrame(classification_report(dev_predict, df_dev[\"gold_label\"], output_dict=True))"
      ],
      "execution_count": 31,
      "outputs": [
        {
          "output_type": "stream",
          "name": "stderr",
          "text": [
            "/usr/local/lib/python3.7/dist-packages/sklearn/metrics/_classification.py:1308: UndefinedMetricWarning: Recall and F-score are ill-defined and being set to 0.0 in labels with no true samples. Use `zero_division` parameter to control this behavior.\n",
            "  _warn_prf(average, modifier, msg_start, len(result))\n",
            "/usr/local/lib/python3.7/dist-packages/sklearn/metrics/_classification.py:1308: UndefinedMetricWarning: Recall and F-score are ill-defined and being set to 0.0 in labels with no true samples. Use `zero_division` parameter to control this behavior.\n",
            "  _warn_prf(average, modifier, msg_start, len(result))\n",
            "/usr/local/lib/python3.7/dist-packages/sklearn/metrics/_classification.py:1308: UndefinedMetricWarning: Recall and F-score are ill-defined and being set to 0.0 in labels with no true samples. Use `zero_division` parameter to control this behavior.\n",
            "  _warn_prf(average, modifier, msg_start, len(result))\n"
          ]
        },
        {
          "output_type": "execute_result",
          "data": {
            "text/html": [
              "<div>\n",
              "<style scoped>\n",
              "    .dataframe tbody tr th:only-of-type {\n",
              "        vertical-align: middle;\n",
              "    }\n",
              "\n",
              "    .dataframe tbody tr th {\n",
              "        vertical-align: top;\n",
              "    }\n",
              "\n",
              "    .dataframe thead th {\n",
              "        text-align: right;\n",
              "    }\n",
              "</style>\n",
              "<table border=\"1\" class=\"dataframe\">\n",
              "  <thead>\n",
              "    <tr style=\"text-align: right;\">\n",
              "      <th></th>\n",
              "      <th>contradiction</th>\n",
              "      <th>entailment</th>\n",
              "      <th>neutral</th>\n",
              "      <th>accuracy</th>\n",
              "      <th>macro avg</th>\n",
              "      <th>weighted avg</th>\n",
              "    </tr>\n",
              "  </thead>\n",
              "  <tbody>\n",
              "    <tr>\n",
              "      <th>precision</th>\n",
              "      <td>0.0</td>\n",
              "      <td>1.000000</td>\n",
              "      <td>0.0</td>\n",
              "      <td>0.338244</td>\n",
              "      <td>0.333333</td>\n",
              "      <td>1.000000</td>\n",
              "    </tr>\n",
              "    <tr>\n",
              "      <th>recall</th>\n",
              "      <td>0.0</td>\n",
              "      <td>0.338244</td>\n",
              "      <td>0.0</td>\n",
              "      <td>0.338244</td>\n",
              "      <td>0.112748</td>\n",
              "      <td>0.338244</td>\n",
              "    </tr>\n",
              "    <tr>\n",
              "      <th>f1-score</th>\n",
              "      <td>0.0</td>\n",
              "      <td>0.505505</td>\n",
              "      <td>0.0</td>\n",
              "      <td>0.338244</td>\n",
              "      <td>0.168502</td>\n",
              "      <td>0.505505</td>\n",
              "    </tr>\n",
              "    <tr>\n",
              "      <th>support</th>\n",
              "      <td>0.0</td>\n",
              "      <td>9842.000000</td>\n",
              "      <td>0.0</td>\n",
              "      <td>0.338244</td>\n",
              "      <td>9842.000000</td>\n",
              "      <td>9842.000000</td>\n",
              "    </tr>\n",
              "  </tbody>\n",
              "</table>\n",
              "</div>"
            ],
            "text/plain": [
              "           contradiction   entailment  ...    macro avg  weighted avg\n",
              "precision            0.0     1.000000  ...     0.333333      1.000000\n",
              "recall               0.0     0.338244  ...     0.112748      0.338244\n",
              "f1-score             0.0     0.505505  ...     0.168502      0.505505\n",
              "support              0.0  9842.000000  ...  9842.000000   9842.000000\n",
              "\n",
              "[4 rows x 6 columns]"
            ]
          },
          "metadata": {},
          "execution_count": 31
        }
      ]
    },
    {
      "cell_type": "markdown",
      "metadata": {
        "id": "1Ba4JKvGcR7F"
      },
      "source": [
        "### One-sided baseline\n",
        "\n",
        "A second obvious baseline for the inference task is to predict the class label of a sentence pair based on the text of only one of the two sentences, just as in a standard document classification task. Put together a simple [CountVectorizer](https://scikit-learn.org/stable/modules/generated/sklearn.feature_extraction.text.CountVectorizer.html) + [LogisticRegression](https://scikit-learn.org/stable/modules/generated/sklearn.linear_model.LogisticRegression.html) pipeline that implements this idea, train it, and evaluate it on the development data. Is it better to base predictions on sentence&nbsp;1 or sentence&nbsp;2? Why should one sentence be more useful than the other?"
      ]
    },
    {
      "cell_type": "code",
      "metadata": {
        "id": "NSZtVBzScR7F"
      },
      "source": [
        "# TODO: Enter code here to implement the one-sentence baselines. Print the classification reports.\n",
        "cntvectorizer = CountVectorizer(ngram_range=(1,2), min_df = 4, max_df=0.9)\n",
        "logreg = LogisticRegression(solver=\"saga\", multi_class=\"ovr\", max_iter=100)\n",
        "\n",
        "cntlog_pipeline = Pipeline([(\"cnt_vectorizer\", cntvectorizer), (\"LogisticRegression\", logreg)])"
      ],
      "execution_count": 32,
      "outputs": []
    },
    {
      "cell_type": "code",
      "metadata": {
        "colab": {
          "base_uri": "https://localhost:8080/",
          "height": 285
        },
        "id": "W_3Okn-pltgo",
        "outputId": "a2c14174-32df-465d-c159-2c5f286dc514"
      },
      "source": [
        "# sentence 1\n",
        "cntlog_model1 = cntlog_pipeline.fit(df_train[\"sentence1\"], df_train[\"gold_label\"])\n",
        "\n",
        "train_pred1, test_pred1 = predictions(cntlog_model1, [df_train[\"sentence1\"], df_dev[\"sentence1\"]])\n",
        "\n",
        "pd.DataFrame(classification_report(df_train[\"gold_label\"], train_pred1, output_dict=True))"
      ],
      "execution_count": 33,
      "outputs": [
        {
          "output_type": "stream",
          "name": "stderr",
          "text": [
            "/usr/local/lib/python3.7/dist-packages/sklearn/linear_model/_sag.py:354: ConvergenceWarning: The max_iter was reached which means the coef_ did not converge\n",
            "  ConvergenceWarning,\n",
            "/usr/local/lib/python3.7/dist-packages/sklearn/linear_model/_sag.py:354: ConvergenceWarning: The max_iter was reached which means the coef_ did not converge\n",
            "  ConvergenceWarning,\n",
            "/usr/local/lib/python3.7/dist-packages/sklearn/linear_model/_sag.py:354: ConvergenceWarning: The max_iter was reached which means the coef_ did not converge\n",
            "  ConvergenceWarning,\n"
          ]
        },
        {
          "output_type": "execute_result",
          "data": {
            "text/html": [
              "<div>\n",
              "<style scoped>\n",
              "    .dataframe tbody tr th:only-of-type {\n",
              "        vertical-align: middle;\n",
              "    }\n",
              "\n",
              "    .dataframe tbody tr th {\n",
              "        vertical-align: top;\n",
              "    }\n",
              "\n",
              "    .dataframe thead th {\n",
              "        text-align: right;\n",
              "    }\n",
              "</style>\n",
              "<table border=\"1\" class=\"dataframe\">\n",
              "  <thead>\n",
              "    <tr style=\"text-align: right;\">\n",
              "      <th></th>\n",
              "      <th>contradiction</th>\n",
              "      <th>entailment</th>\n",
              "      <th>neutral</th>\n",
              "      <th>accuracy</th>\n",
              "      <th>macro avg</th>\n",
              "      <th>weighted avg</th>\n",
              "    </tr>\n",
              "  </thead>\n",
              "  <tbody>\n",
              "    <tr>\n",
              "      <th>precision</th>\n",
              "      <td>0.336390</td>\n",
              "      <td>0.339281</td>\n",
              "      <td>0.339570</td>\n",
              "      <td>0.33864</td>\n",
              "      <td>0.338414</td>\n",
              "      <td>0.338415</td>\n",
              "    </tr>\n",
              "    <tr>\n",
              "      <th>recall</th>\n",
              "      <td>0.264353</td>\n",
              "      <td>0.343956</td>\n",
              "      <td>0.407590</td>\n",
              "      <td>0.33864</td>\n",
              "      <td>0.338633</td>\n",
              "      <td>0.338640</td>\n",
              "    </tr>\n",
              "    <tr>\n",
              "      <th>f1-score</th>\n",
              "      <td>0.296052</td>\n",
              "      <td>0.341603</td>\n",
              "      <td>0.370484</td>\n",
              "      <td>0.33864</td>\n",
              "      <td>0.336046</td>\n",
              "      <td>0.336052</td>\n",
              "    </tr>\n",
              "    <tr>\n",
              "      <th>support</th>\n",
              "      <td>8326.000000</td>\n",
              "      <td>8347.000000</td>\n",
              "      <td>8327.000000</td>\n",
              "      <td>0.33864</td>\n",
              "      <td>25000.000000</td>\n",
              "      <td>25000.000000</td>\n",
              "    </tr>\n",
              "  </tbody>\n",
              "</table>\n",
              "</div>"
            ],
            "text/plain": [
              "           contradiction   entailment  ...     macro avg  weighted avg\n",
              "precision       0.336390     0.339281  ...      0.338414      0.338415\n",
              "recall          0.264353     0.343956  ...      0.338633      0.338640\n",
              "f1-score        0.296052     0.341603  ...      0.336046      0.336052\n",
              "support      8326.000000  8347.000000  ...  25000.000000  25000.000000\n",
              "\n",
              "[4 rows x 6 columns]"
            ]
          },
          "metadata": {},
          "execution_count": 33
        }
      ]
    },
    {
      "cell_type": "code",
      "metadata": {
        "colab": {
          "base_uri": "https://localhost:8080/",
          "height": 174
        },
        "id": "4n1bVtc7z7Jw",
        "outputId": "350d238f-c47e-4ef4-83e6-9eb6b3c9f7ce"
      },
      "source": [
        "pd.DataFrame(classification_report(df_dev[\"gold_label\"], test_pred1, output_dict=True))"
      ],
      "execution_count": 34,
      "outputs": [
        {
          "output_type": "execute_result",
          "data": {
            "text/html": [
              "<div>\n",
              "<style scoped>\n",
              "    .dataframe tbody tr th:only-of-type {\n",
              "        vertical-align: middle;\n",
              "    }\n",
              "\n",
              "    .dataframe tbody tr th {\n",
              "        vertical-align: top;\n",
              "    }\n",
              "\n",
              "    .dataframe thead th {\n",
              "        text-align: right;\n",
              "    }\n",
              "</style>\n",
              "<table border=\"1\" class=\"dataframe\">\n",
              "  <thead>\n",
              "    <tr style=\"text-align: right;\">\n",
              "      <th></th>\n",
              "      <th>contradiction</th>\n",
              "      <th>entailment</th>\n",
              "      <th>neutral</th>\n",
              "      <th>accuracy</th>\n",
              "      <th>macro avg</th>\n",
              "      <th>weighted avg</th>\n",
              "    </tr>\n",
              "  </thead>\n",
              "  <tbody>\n",
              "    <tr>\n",
              "      <th>precision</th>\n",
              "      <td>0.329217</td>\n",
              "      <td>0.335819</td>\n",
              "      <td>0.325295</td>\n",
              "      <td>0.329913</td>\n",
              "      <td>0.330110</td>\n",
              "      <td>0.330161</td>\n",
              "    </tr>\n",
              "    <tr>\n",
              "      <th>recall</th>\n",
              "      <td>0.260220</td>\n",
              "      <td>0.338240</td>\n",
              "      <td>0.391963</td>\n",
              "      <td>0.329913</td>\n",
              "      <td>0.330141</td>\n",
              "      <td>0.329913</td>\n",
              "    </tr>\n",
              "    <tr>\n",
              "      <th>f1-score</th>\n",
              "      <td>0.290680</td>\n",
              "      <td>0.337025</td>\n",
              "      <td>0.355531</td>\n",
              "      <td>0.329913</td>\n",
              "      <td>0.327745</td>\n",
              "      <td>0.327672</td>\n",
              "    </tr>\n",
              "    <tr>\n",
              "      <th>support</th>\n",
              "      <td>3278.000000</td>\n",
              "      <td>3329.000000</td>\n",
              "      <td>3235.000000</td>\n",
              "      <td>0.329913</td>\n",
              "      <td>9842.000000</td>\n",
              "      <td>9842.000000</td>\n",
              "    </tr>\n",
              "  </tbody>\n",
              "</table>\n",
              "</div>"
            ],
            "text/plain": [
              "           contradiction   entailment  ...    macro avg  weighted avg\n",
              "precision       0.329217     0.335819  ...     0.330110      0.330161\n",
              "recall          0.260220     0.338240  ...     0.330141      0.329913\n",
              "f1-score        0.290680     0.337025  ...     0.327745      0.327672\n",
              "support      3278.000000  3329.000000  ...  9842.000000   9842.000000\n",
              "\n",
              "[4 rows x 6 columns]"
            ]
          },
          "metadata": {},
          "execution_count": 34
        }
      ]
    },
    {
      "cell_type": "code",
      "metadata": {
        "colab": {
          "base_uri": "https://localhost:8080/",
          "height": 285
        },
        "id": "V9o6YIF70L3N",
        "outputId": "51c0e18d-59ff-463e-a7f0-31b59c8e4bd5"
      },
      "source": [
        "#sentence 2\n",
        "cntlog_model2 = cntlog_pipeline.fit(df_train[\"sentence2\"], df_train[\"gold_label\"])\n",
        "\n",
        "train_pred2, test_pred2 = predictions(cntlog_model1, [df_train[\"sentence2\"], df_dev[\"sentence2\"]])\n",
        "\n",
        "pd.DataFrame(classification_report(df_train[\"gold_label\"], train_pred2, output_dict=True))\n"
      ],
      "execution_count": 35,
      "outputs": [
        {
          "output_type": "stream",
          "name": "stderr",
          "text": [
            "/usr/local/lib/python3.7/dist-packages/sklearn/linear_model/_sag.py:354: ConvergenceWarning: The max_iter was reached which means the coef_ did not converge\n",
            "  ConvergenceWarning,\n",
            "/usr/local/lib/python3.7/dist-packages/sklearn/linear_model/_sag.py:354: ConvergenceWarning: The max_iter was reached which means the coef_ did not converge\n",
            "  ConvergenceWarning,\n",
            "/usr/local/lib/python3.7/dist-packages/sklearn/linear_model/_sag.py:354: ConvergenceWarning: The max_iter was reached which means the coef_ did not converge\n",
            "  ConvergenceWarning,\n"
          ]
        },
        {
          "output_type": "execute_result",
          "data": {
            "text/html": [
              "<div>\n",
              "<style scoped>\n",
              "    .dataframe tbody tr th:only-of-type {\n",
              "        vertical-align: middle;\n",
              "    }\n",
              "\n",
              "    .dataframe tbody tr th {\n",
              "        vertical-align: top;\n",
              "    }\n",
              "\n",
              "    .dataframe thead th {\n",
              "        text-align: right;\n",
              "    }\n",
              "</style>\n",
              "<table border=\"1\" class=\"dataframe\">\n",
              "  <thead>\n",
              "    <tr style=\"text-align: right;\">\n",
              "      <th></th>\n",
              "      <th>contradiction</th>\n",
              "      <th>entailment</th>\n",
              "      <th>neutral</th>\n",
              "      <th>accuracy</th>\n",
              "      <th>macro avg</th>\n",
              "      <th>weighted avg</th>\n",
              "    </tr>\n",
              "  </thead>\n",
              "  <tbody>\n",
              "    <tr>\n",
              "      <th>precision</th>\n",
              "      <td>0.757564</td>\n",
              "      <td>0.732895</td>\n",
              "      <td>0.765762</td>\n",
              "      <td>0.75132</td>\n",
              "      <td>0.752074</td>\n",
              "      <td>0.752058</td>\n",
              "    </tr>\n",
              "    <tr>\n",
              "      <th>recall</th>\n",
              "      <td>0.733726</td>\n",
              "      <td>0.787948</td>\n",
              "      <td>0.732196</td>\n",
              "      <td>0.75132</td>\n",
              "      <td>0.751290</td>\n",
              "      <td>0.751320</td>\n",
              "    </tr>\n",
              "    <tr>\n",
              "      <th>f1-score</th>\n",
              "      <td>0.745455</td>\n",
              "      <td>0.759425</td>\n",
              "      <td>0.748603</td>\n",
              "      <td>0.75132</td>\n",
              "      <td>0.751161</td>\n",
              "      <td>0.751168</td>\n",
              "    </tr>\n",
              "    <tr>\n",
              "      <th>support</th>\n",
              "      <td>8326.000000</td>\n",
              "      <td>8347.000000</td>\n",
              "      <td>8327.000000</td>\n",
              "      <td>0.75132</td>\n",
              "      <td>25000.000000</td>\n",
              "      <td>25000.000000</td>\n",
              "    </tr>\n",
              "  </tbody>\n",
              "</table>\n",
              "</div>"
            ],
            "text/plain": [
              "           contradiction   entailment  ...     macro avg  weighted avg\n",
              "precision       0.757564     0.732895  ...      0.752074      0.752058\n",
              "recall          0.733726     0.787948  ...      0.751290      0.751320\n",
              "f1-score        0.745455     0.759425  ...      0.751161      0.751168\n",
              "support      8326.000000  8347.000000  ...  25000.000000  25000.000000\n",
              "\n",
              "[4 rows x 6 columns]"
            ]
          },
          "metadata": {},
          "execution_count": 35
        }
      ]
    },
    {
      "cell_type": "code",
      "metadata": {
        "colab": {
          "base_uri": "https://localhost:8080/",
          "height": 174
        },
        "id": "jT5vvrhv0ZAj",
        "outputId": "13ae08b0-37c9-435c-893a-cead56d6b0a3"
      },
      "source": [
        "pd.DataFrame(classification_report(df_dev[\"gold_label\"], test_pred2, output_dict=True))"
      ],
      "execution_count": 36,
      "outputs": [
        {
          "output_type": "execute_result",
          "data": {
            "text/html": [
              "<div>\n",
              "<style scoped>\n",
              "    .dataframe tbody tr th:only-of-type {\n",
              "        vertical-align: middle;\n",
              "    }\n",
              "\n",
              "    .dataframe tbody tr th {\n",
              "        vertical-align: top;\n",
              "    }\n",
              "\n",
              "    .dataframe thead th {\n",
              "        text-align: right;\n",
              "    }\n",
              "</style>\n",
              "<table border=\"1\" class=\"dataframe\">\n",
              "  <thead>\n",
              "    <tr style=\"text-align: right;\">\n",
              "      <th></th>\n",
              "      <th>contradiction</th>\n",
              "      <th>entailment</th>\n",
              "      <th>neutral</th>\n",
              "      <th>accuracy</th>\n",
              "      <th>macro avg</th>\n",
              "      <th>weighted avg</th>\n",
              "    </tr>\n",
              "  </thead>\n",
              "  <tbody>\n",
              "    <tr>\n",
              "      <th>precision</th>\n",
              "      <td>0.596813</td>\n",
              "      <td>0.609481</td>\n",
              "      <td>0.602356</td>\n",
              "      <td>0.602926</td>\n",
              "      <td>0.602883</td>\n",
              "      <td>0.602920</td>\n",
              "    </tr>\n",
              "    <tr>\n",
              "      <th>recall</th>\n",
              "      <td>0.605552</td>\n",
              "      <td>0.617903</td>\n",
              "      <td>0.584853</td>\n",
              "      <td>0.602926</td>\n",
              "      <td>0.602770</td>\n",
              "      <td>0.602926</td>\n",
              "    </tr>\n",
              "    <tr>\n",
              "      <th>f1-score</th>\n",
              "      <td>0.601151</td>\n",
              "      <td>0.613663</td>\n",
              "      <td>0.593476</td>\n",
              "      <td>0.602926</td>\n",
              "      <td>0.602763</td>\n",
              "      <td>0.602860</td>\n",
              "    </tr>\n",
              "    <tr>\n",
              "      <th>support</th>\n",
              "      <td>3278.000000</td>\n",
              "      <td>3329.000000</td>\n",
              "      <td>3235.000000</td>\n",
              "      <td>0.602926</td>\n",
              "      <td>9842.000000</td>\n",
              "      <td>9842.000000</td>\n",
              "    </tr>\n",
              "  </tbody>\n",
              "</table>\n",
              "</div>"
            ],
            "text/plain": [
              "           contradiction   entailment  ...    macro avg  weighted avg\n",
              "precision       0.596813     0.609481  ...     0.602883      0.602920\n",
              "recall          0.605552     0.617903  ...     0.602770      0.602926\n",
              "f1-score        0.601151     0.613663  ...     0.602763      0.602860\n",
              "support      3278.000000  3329.000000  ...  9842.000000   9842.000000\n",
              "\n",
              "[4 rows x 6 columns]"
            ]
          },
          "metadata": {},
          "execution_count": 36
        }
      ]
    },
    {
      "cell_type": "markdown",
      "metadata": {
        "id": "lgphj_htcR7F"
      },
      "source": [
        "*TODO: Enter your answer to the discussion questions here*\n",
        "\n",
        "**A** From the accuracies obtained, it seems that basing predictions on sentence 2 yields better results."
      ]
    },
    {
      "cell_type": "markdown",
      "metadata": {
        "id": "b5aVDrT4cR7G"
      },
      "source": [
        "## Problem 5: A classifier based on manually engineered features"
      ]
    },
    {
      "cell_type": "markdown",
      "metadata": {
        "id": "UpuyzLUacR7G"
      },
      "source": [
        "[Bowman et al., 2015](https://www.aclweb.org/anthology/D15-1075/) evaluate a classifier that uses (among others) **cross-unigram features**. This term is used to refer to pairs of unigrams $(w_1, w_2)$ such that $w_1$ occurs in sentence&nbsp;1, $w_2$ occurs in sentence&nbsp;2, and both have been assigned the same part-of-speech tag.\n",
        "\n",
        "Your next task is to implement the cross-unigram classifier. To this end, the next cell contains skeleton code for a transformer that you can use as the first component in a classification pipeline. This transformer converts each row of the SNLI data frame into a space-separated string consisting of\n",
        "\n",
        "* the standard unigrams (of sentence&nbsp;1 or sentence&nbsp;2 – choose whichever performed better in Problem&nbsp;4)\n",
        "* the cross-unigrams, as described above.\n",
        "\n",
        "The space-separated string forms a new &lsquo;document&rsquo; that can be passed to a vectorizer in exactly the same way as a standard sentence in Problem&nbsp;4."
      ]
    },
    {
      "cell_type": "code",
      "metadata": {
        "id": "U-werRWAcR7G"
      },
      "source": [
        "from sklearn.base import BaseEstimator, TransformerMixin\n",
        "\n",
        "class CrossUnigramsTransformer(BaseEstimator, TransformerMixin):\n",
        "    def __init__(self):\n",
        "        pass\n",
        "\n",
        "    def fit(self, X, y=None):\n",
        "        return self\n",
        "\n",
        "    # Transform a single row of the dataframe.\n",
        "    def _transform(self, row):\n",
        "        # TODO: Replace the following line with your own code\n",
        "        with nlp.disable_pipes(\"tagger\", \"parser\", \"ner\"):\n",
        "            words_tags1 = [(w.text, t) for w, t in zip(nlp(row[1]), row[2].split()) if w.is_alpha and not w.is_stop]\n",
        "            words_tags2 = [(w.text, t) for w, t in zip(nlp(row[3]), row[4].split()) if w.is_alpha and not w.is_stop]\n",
        "\n",
        "        \n",
        "        # Filter out tags that do not match\n",
        "        cross_unigrams = [wt1[0] + \"_\" + wt2[0] for wt1,wt2 in \n",
        "                          itertools.product(words_tags1, words_tags2) if wt1[1]==wt2[1]]\n",
        "        \n",
        "        # Combine standard unigrams and cross unigrams\n",
        "        return \" \".join([w for w, t in words_tags2] + cross_unigrams)\n",
        "\n",
        "    def transform(self, X):\n",
        "        return [self._transform(row) for row in X.itertuples()]"
      ],
      "execution_count": 37,
      "outputs": []
    },
    {
      "cell_type": "markdown",
      "metadata": {
        "id": "rbhtmBEWcR7G"
      },
      "source": [
        "Once you have an implementation of the transformer, extend the pipeline that you built for Problem&nbsp;4, train it, and evaluate it on the development data."
      ]
    },
    {
      "cell_type": "code",
      "metadata": {
        "colab": {
          "base_uri": "https://localhost:8080/"
        },
        "id": "bnwwWJRncR7H",
        "outputId": "db0d5cc7-c43e-4b38-cef6-0951fda8307a"
      },
      "source": [
        "# TODO: Enter code here to implement the cross-unigrams classifier. Print the classification report.\n",
        "cu_vectorizer = CountVectorizer(ngram_range=(1,1))\n",
        "cu_logreg = LogisticRegression(solver=\"saga\", multi_class=\"ovr\", max_iter= 100)\n",
        "cu_transformer = CrossUnigramsTransformer()\n",
        "\n",
        "cu_pipeline = Pipeline([(\"cross_unigram\", cu_transformer), (\"cnt_vectorizer\", cu_vectorizer),  (\"LogisticRegression\", logreg)])\n",
        "cu_logreg_model = cu_pipeline.fit(df_train.loc[:, df_train.columns !=\"gold_label\"], df_train[\"gold_label\"])"
      ],
      "execution_count": 38,
      "outputs": [
        {
          "output_type": "stream",
          "name": "stderr",
          "text": [
            "/usr/local/lib/python3.7/dist-packages/sklearn/linear_model/_sag.py:354: ConvergenceWarning: The max_iter was reached which means the coef_ did not converge\n",
            "  ConvergenceWarning,\n",
            "/usr/local/lib/python3.7/dist-packages/sklearn/linear_model/_sag.py:354: ConvergenceWarning: The max_iter was reached which means the coef_ did not converge\n",
            "  ConvergenceWarning,\n",
            "/usr/local/lib/python3.7/dist-packages/sklearn/linear_model/_sag.py:354: ConvergenceWarning: The max_iter was reached which means the coef_ did not converge\n",
            "  ConvergenceWarning,\n"
          ]
        }
      ]
    },
    {
      "cell_type": "code",
      "metadata": {
        "id": "81de2Xq66j4c"
      },
      "source": [
        "cu_train_pred, cu_dev_pred = predictions(cu_logreg_model, [df_train.loc[:, df_train.columns != \"gold_label\"], df_dev.loc[:, df_dev.columns != \"gold_label\"]])"
      ],
      "execution_count": 39,
      "outputs": []
    },
    {
      "cell_type": "code",
      "metadata": {
        "colab": {
          "base_uri": "https://localhost:8080/",
          "height": 174
        },
        "id": "tPO3T1WR698s",
        "outputId": "b1ddff69-9c5e-4f99-bc99-173ba8204293"
      },
      "source": [
        "pd.DataFrame(classification_report(df_train[\"gold_label\"], cu_train_pred, output_dict=True))"
      ],
      "execution_count": 40,
      "outputs": [
        {
          "output_type": "execute_result",
          "data": {
            "text/html": [
              "<div>\n",
              "<style scoped>\n",
              "    .dataframe tbody tr th:only-of-type {\n",
              "        vertical-align: middle;\n",
              "    }\n",
              "\n",
              "    .dataframe tbody tr th {\n",
              "        vertical-align: top;\n",
              "    }\n",
              "\n",
              "    .dataframe thead th {\n",
              "        text-align: right;\n",
              "    }\n",
              "</style>\n",
              "<table border=\"1\" class=\"dataframe\">\n",
              "  <thead>\n",
              "    <tr style=\"text-align: right;\">\n",
              "      <th></th>\n",
              "      <th>contradiction</th>\n",
              "      <th>entailment</th>\n",
              "      <th>neutral</th>\n",
              "      <th>accuracy</th>\n",
              "      <th>macro avg</th>\n",
              "      <th>weighted avg</th>\n",
              "    </tr>\n",
              "  </thead>\n",
              "  <tbody>\n",
              "    <tr>\n",
              "      <th>precision</th>\n",
              "      <td>0.944309</td>\n",
              "      <td>0.888133</td>\n",
              "      <td>0.943044</td>\n",
              "      <td>0.92408</td>\n",
              "      <td>0.925162</td>\n",
              "      <td>0.925132</td>\n",
              "    </tr>\n",
              "    <tr>\n",
              "      <th>recall</th>\n",
              "      <td>0.930699</td>\n",
              "      <td>0.938780</td>\n",
              "      <td>0.902726</td>\n",
              "      <td>0.92408</td>\n",
              "      <td>0.924068</td>\n",
              "      <td>0.924080</td>\n",
              "    </tr>\n",
              "    <tr>\n",
              "      <th>f1-score</th>\n",
              "      <td>0.937455</td>\n",
              "      <td>0.912755</td>\n",
              "      <td>0.922444</td>\n",
              "      <td>0.92408</td>\n",
              "      <td>0.924218</td>\n",
              "      <td>0.924208</td>\n",
              "    </tr>\n",
              "    <tr>\n",
              "      <th>support</th>\n",
              "      <td>8326.000000</td>\n",
              "      <td>8347.000000</td>\n",
              "      <td>8327.000000</td>\n",
              "      <td>0.92408</td>\n",
              "      <td>25000.000000</td>\n",
              "      <td>25000.000000</td>\n",
              "    </tr>\n",
              "  </tbody>\n",
              "</table>\n",
              "</div>"
            ],
            "text/plain": [
              "           contradiction   entailment  ...     macro avg  weighted avg\n",
              "precision       0.944309     0.888133  ...      0.925162      0.925132\n",
              "recall          0.930699     0.938780  ...      0.924068      0.924080\n",
              "f1-score        0.937455     0.912755  ...      0.924218      0.924208\n",
              "support      8326.000000  8347.000000  ...  25000.000000  25000.000000\n",
              "\n",
              "[4 rows x 6 columns]"
            ]
          },
          "metadata": {},
          "execution_count": 40
        }
      ]
    },
    {
      "cell_type": "code",
      "metadata": {
        "colab": {
          "base_uri": "https://localhost:8080/",
          "height": 174
        },
        "id": "kFaKLJhj7R-X",
        "outputId": "ce183ce5-46a4-4bb2-e967-ee025855518a"
      },
      "source": [
        "pd.DataFrame(classification_report(df_dev[\"gold_label\"], cu_dev_pred, output_dict=True))"
      ],
      "execution_count": 41,
      "outputs": [
        {
          "output_type": "execute_result",
          "data": {
            "text/html": [
              "<div>\n",
              "<style scoped>\n",
              "    .dataframe tbody tr th:only-of-type {\n",
              "        vertical-align: middle;\n",
              "    }\n",
              "\n",
              "    .dataframe tbody tr th {\n",
              "        vertical-align: top;\n",
              "    }\n",
              "\n",
              "    .dataframe thead th {\n",
              "        text-align: right;\n",
              "    }\n",
              "</style>\n",
              "<table border=\"1\" class=\"dataframe\">\n",
              "  <thead>\n",
              "    <tr style=\"text-align: right;\">\n",
              "      <th></th>\n",
              "      <th>contradiction</th>\n",
              "      <th>entailment</th>\n",
              "      <th>neutral</th>\n",
              "      <th>accuracy</th>\n",
              "      <th>macro avg</th>\n",
              "      <th>weighted avg</th>\n",
              "    </tr>\n",
              "  </thead>\n",
              "  <tbody>\n",
              "    <tr>\n",
              "      <th>precision</th>\n",
              "      <td>0.659797</td>\n",
              "      <td>0.616895</td>\n",
              "      <td>0.619346</td>\n",
              "      <td>0.631782</td>\n",
              "      <td>0.632013</td>\n",
              "      <td>0.631990</td>\n",
              "    </tr>\n",
              "    <tr>\n",
              "      <th>recall</th>\n",
              "      <td>0.654362</td>\n",
              "      <td>0.688795</td>\n",
              "      <td>0.550232</td>\n",
              "      <td>0.631782</td>\n",
              "      <td>0.631130</td>\n",
              "      <td>0.631782</td>\n",
              "    </tr>\n",
              "    <tr>\n",
              "      <th>f1-score</th>\n",
              "      <td>0.657068</td>\n",
              "      <td>0.650866</td>\n",
              "      <td>0.582747</td>\n",
              "      <td>0.631782</td>\n",
              "      <td>0.630227</td>\n",
              "      <td>0.630541</td>\n",
              "    </tr>\n",
              "    <tr>\n",
              "      <th>support</th>\n",
              "      <td>3278.000000</td>\n",
              "      <td>3329.000000</td>\n",
              "      <td>3235.000000</td>\n",
              "      <td>0.631782</td>\n",
              "      <td>9842.000000</td>\n",
              "      <td>9842.000000</td>\n",
              "    </tr>\n",
              "  </tbody>\n",
              "</table>\n",
              "</div>"
            ],
            "text/plain": [
              "           contradiction   entailment  ...    macro avg  weighted avg\n",
              "precision       0.659797     0.616895  ...     0.632013      0.631990\n",
              "recall          0.654362     0.688795  ...     0.631130      0.631782\n",
              "f1-score        0.657068     0.650866  ...     0.630227      0.630541\n",
              "support      3278.000000  3329.000000  ...  9842.000000   9842.000000\n",
              "\n",
              "[4 rows x 6 columns]"
            ]
          },
          "metadata": {},
          "execution_count": 41
        }
      ]
    },
    {
      "cell_type": "markdown",
      "metadata": {
        "id": "TR6Kmxof7cOc"
      },
      "source": [
        "We observe an improvement of 3% compared to the previous iteration of the problem without the cross-unigram."
      ]
    },
    {
      "cell_type": "markdown",
      "metadata": {
        "id": "RknS4t1AcR7H"
      },
      "source": [
        "## Problem 6: A classifier based on word embeddings"
      ]
    },
    {
      "cell_type": "markdown",
      "metadata": {
        "id": "P9dozjIfcR7H"
      },
      "source": [
        "Your last task in this lab is to build a classifier for the natural language inference task that uses word embeddings. More specifically, we ask you to implement a vectorizer that represents each sentence as the sum of its word vectors – a representation known as the **continuous bag-of-words**. Thus, given that spaCy&rsquo;s word vectors have 300 dimensions, each sentence will be transformed into a 300-dimensional vector. To represent a sentence pair, the vectorizer should concatenate the vectors for the individual sentences; this yields a 600-dimensional vector. This vector can then be passed to a classifier.\n",
        "\n",
        "The next code cell contains skeleton code for the vectorizer. You will have to implement two methods: one that maps a single sentence to a vector (of length 300), and one that maps a sentence pair to a vector (of length 600)."
      ]
    },
    {
      "cell_type": "code",
      "metadata": {
        "id": "VOHjT-iLcR7I"
      },
      "source": [
        "import numpy as np\n",
        "\n",
        "from sklearn.base import BaseEstimator, TransformerMixin\n",
        "\n",
        "class PairedSentenceVectorizer(BaseEstimator, TransformerMixin):\n",
        "    def __init__(self):\n",
        "        pass\n",
        "\n",
        "    def fit(self, X, y=None):\n",
        "        return self\n",
        "\n",
        "    # Vectorize a single sentence.\n",
        "    def _transform1(self, sentence):\n",
        "        # TODO: Replace the following line with your own code\n",
        "        vect = [nlp.vocab[w].vector for w in sentence.split()]\n",
        "        return np.sum(vect, axis=0)\n",
        "\n",
        "    # Vectorize a single row of the dataframe.\n",
        "    def _transform2(self, row):\n",
        "        # TODO: Replace the following line with your own code\n",
        "        ind, sentence1, sentence2 = row\n",
        "        return np.concatenate((self._transform1(sentence1), self._transform1(sentence2)), axis=0)\n",
        "\n",
        "    def transform(self, X):\n",
        "        return np.concatenate(\n",
        "            [self._transform2(row).reshape(1, -1) for row in X.itertuples()]\n",
        "        )"
      ],
      "execution_count": 47,
      "outputs": []
    },
    {
      "cell_type": "markdown",
      "metadata": {
        "id": "Tvi1d2Q-cR7I"
      },
      "source": [
        "Once you have a working implementation, build a pipeline consisting of the new vectorizer and a [multi-layer perceptron classifier](https://scikit-learn.org/stable/modules/generated/sklearn.neural_network.MLPClassifier.html). This more powerful (compared to logistic regression) classifier is called for here because we do not specify features by hand (as we did in Problem&nbsp;5), but want to let the model learn a good representation of the data by itself. Use 3&nbsp;hidden layers, each with size 300. It suffices to train the classifier for 8&nbsp;iterations (epochs)."
      ]
    },
    {
      "cell_type": "code",
      "metadata": {
        "id": "aOvcq8jqcR7I",
        "colab": {
          "base_uri": "https://localhost:8080/"
        },
        "outputId": "d1714085-5b69-4848-d228-6c746c425e33"
      },
      "source": [
        "# TODO: Enter code here to implement the word embeddings classifier. Print the classification report.\n",
        "\n",
        "train_phrase, dev_phrase = df_train[[\"sentence1\", \"sentence2\"]], df_dev[[\"sentence1\", \"sentence2\"]]\n",
        "\n",
        "cbow_pipeline = Pipeline([(\"vectorizer\", PairedSentenceVectorizer()), (\"clf\", MLPClassifier(hidden_layer_sizes=(300,300,300), max_iter=8, verbose=True))])\n",
        "\n",
        "cbow_model = cbow_pipeline.fit(train_phrase, df_train[\"gold_label\"])\n",
        "training_accuracy = cbow_model.score(train_phrase, df_train[\"gold_label\"])\n",
        "dev_accuracy = cbow_model.score(dev_phrase, df_dev[\"gold_label\"])\n",
        "cbow_pred = cbow_model.predict(dev_phrase)"
      ],
      "execution_count": 48,
      "outputs": [
        {
          "output_type": "stream",
          "name": "stdout",
          "text": [
            "Iteration 1, loss = 1.04980061\n",
            "Iteration 2, loss = 0.91956541\n",
            "Iteration 3, loss = 0.87174646\n",
            "Iteration 4, loss = 0.82190665\n",
            "Iteration 5, loss = 0.77401738\n",
            "Iteration 6, loss = 0.72477684\n",
            "Iteration 7, loss = 0.69592107\n",
            "Iteration 8, loss = 0.64783213\n"
          ]
        },
        {
          "output_type": "stream",
          "name": "stderr",
          "text": [
            "/usr/local/lib/python3.7/dist-packages/sklearn/neural_network/_multilayer_perceptron.py:696: ConvergenceWarning: Stochastic Optimizer: Maximum iterations (8) reached and the optimization hasn't converged yet.\n",
            "  ConvergenceWarning,\n"
          ]
        }
      ]
    },
    {
      "cell_type": "code",
      "metadata": {
        "colab": {
          "base_uri": "https://localhost:8080/",
          "height": 212
        },
        "id": "Tk2EX-xnqkhL",
        "outputId": "0044f834-dbc7-4d22-84b9-88f4fb29b775"
      },
      "source": [
        "print(\"The training accuracy is: \", training_accuracy)\n",
        "print(\"The development accuracy is \", dev_accuracy)\n",
        "\n",
        "pd.DataFrame(classification_report(df_dev[\"gold_label\"], cbow_pred, output_dict=True))"
      ],
      "execution_count": 49,
      "outputs": [
        {
          "output_type": "stream",
          "name": "stdout",
          "text": [
            "The training accuracy is:  0.76448\n",
            "The development accuracy is  0.6465149359886202\n"
          ]
        },
        {
          "output_type": "execute_result",
          "data": {
            "text/html": [
              "<div>\n",
              "<style scoped>\n",
              "    .dataframe tbody tr th:only-of-type {\n",
              "        vertical-align: middle;\n",
              "    }\n",
              "\n",
              "    .dataframe tbody tr th {\n",
              "        vertical-align: top;\n",
              "    }\n",
              "\n",
              "    .dataframe thead th {\n",
              "        text-align: right;\n",
              "    }\n",
              "</style>\n",
              "<table border=\"1\" class=\"dataframe\">\n",
              "  <thead>\n",
              "    <tr style=\"text-align: right;\">\n",
              "      <th></th>\n",
              "      <th>contradiction</th>\n",
              "      <th>entailment</th>\n",
              "      <th>neutral</th>\n",
              "      <th>accuracy</th>\n",
              "      <th>macro avg</th>\n",
              "      <th>weighted avg</th>\n",
              "    </tr>\n",
              "  </thead>\n",
              "  <tbody>\n",
              "    <tr>\n",
              "      <th>precision</th>\n",
              "      <td>0.689237</td>\n",
              "      <td>0.624876</td>\n",
              "      <td>0.635610</td>\n",
              "      <td>0.646515</td>\n",
              "      <td>0.649908</td>\n",
              "      <td>0.649840</td>\n",
              "    </tr>\n",
              "    <tr>\n",
              "      <th>recall</th>\n",
              "      <td>0.589994</td>\n",
              "      <td>0.754581</td>\n",
              "      <td>0.592581</td>\n",
              "      <td>0.646515</td>\n",
              "      <td>0.645719</td>\n",
              "      <td>0.646515</td>\n",
              "    </tr>\n",
              "    <tr>\n",
              "      <th>f1-score</th>\n",
              "      <td>0.635766</td>\n",
              "      <td>0.683630</td>\n",
              "      <td>0.613342</td>\n",
              "      <td>0.646515</td>\n",
              "      <td>0.644246</td>\n",
              "      <td>0.644585</td>\n",
              "    </tr>\n",
              "    <tr>\n",
              "      <th>support</th>\n",
              "      <td>3278.000000</td>\n",
              "      <td>3329.000000</td>\n",
              "      <td>3235.000000</td>\n",
              "      <td>0.646515</td>\n",
              "      <td>9842.000000</td>\n",
              "      <td>9842.000000</td>\n",
              "    </tr>\n",
              "  </tbody>\n",
              "</table>\n",
              "</div>"
            ],
            "text/plain": [
              "           contradiction   entailment  ...    macro avg  weighted avg\n",
              "precision       0.689237     0.624876  ...     0.649908      0.649840\n",
              "recall          0.589994     0.754581  ...     0.645719      0.646515\n",
              "f1-score        0.635766     0.683630  ...     0.644246      0.644585\n",
              "support      3278.000000  3329.000000  ...  9842.000000   9842.000000\n",
              "\n",
              "[4 rows x 6 columns]"
            ]
          },
          "metadata": {},
          "execution_count": 49
        }
      ]
    },
    {
      "cell_type": "markdown",
      "metadata": {
        "id": "0BaSK7M3cR7I"
      },
      "source": [
        "## Problem 7: Final evaluation"
      ]
    },
    {
      "cell_type": "markdown",
      "metadata": {
        "id": "yKt8kdbRcR7I"
      },
      "source": [
        "Once you have working code for all problems, re-run Problems&nbsp;4–6 with the full training data. This will take quite a while (expect approximately 1&;nbsp;hour on Colab). **Make sure to not overwrite your previous results.** What are your results on the full data? How do they differ from the results that you obtained for the smaller training data? How do you interpret this? Summarize your findings in a short text."
      ]
    },
    {
      "cell_type": "code",
      "metadata": {
        "colab": {
          "base_uri": "https://localhost:8080/"
        },
        "id": "XwPjqpolr1DG",
        "outputId": "3bd48313-1400-40a0-90f4-6920e15a06dc"
      },
      "source": [
        "# Copy of previous code to load all the data\n",
        "final_evaluation = True    # TODO: Set to True for the final evaluation!\n",
        "\n",
        "with bz2.open('train.jsonl.bz2', 'rt') as source:\n",
        "    if final_evaluation:\n",
        "        df_train = pd.read_json(source, lines=True)\n",
        "    else:\n",
        "        df_train = pd.read_json(source, lines=True, nrows=25000)\n",
        "    print('Number of sentence pairs in the training data:', len(df_train))\n",
        "\n",
        "with bz2.open('dev.jsonl.bz2', 'rt') as source:\n",
        "    df_dev = pd.read_json(source, lines=True)\n",
        "    print('Number of sentence pairs in the development data:', len(df_dev))"
      ],
      "execution_count": 50,
      "outputs": [
        {
          "output_type": "stream",
          "name": "stdout",
          "text": [
            "Number of sentence pairs in the training data: 549367\n",
            "Number of sentence pairs in the development data: 9842\n"
          ]
        }
      ]
    },
    {
      "cell_type": "markdown",
      "metadata": {
        "id": "S_N1prb6rk2B"
      },
      "source": [
        "**Random Baseline**"
      ]
    },
    {
      "cell_type": "code",
      "metadata": {
        "id": "04hJN5I4cR7J"
      },
      "source": [
        "# TODO: Enter your code for the full experiments here\n",
        "dummy_class = DummyClassifier().fit(df_train.loc[:, df_train.columns != \"gold_label\"], df_train[\"gold_label\"])\n",
        "train_predict, dev_predict = predictions(dummy_class, [df_train.loc[:, df_train.columns != \"gold_label\"], df_dev.loc[:, df_dev.columns != \"gold_label\"]])"
      ],
      "execution_count": 51,
      "outputs": []
    },
    {
      "cell_type": "code",
      "metadata": {
        "colab": {
          "base_uri": "https://localhost:8080/",
          "height": 285
        },
        "id": "Z8L5IEwKsPe6",
        "outputId": "88824a9d-38ec-4932-d932-2a0e983a5250"
      },
      "source": [
        "pd.DataFrame(classification_report(train_predict, df_train[\"gold_label\"], output_dict=True))"
      ],
      "execution_count": 52,
      "outputs": [
        {
          "output_type": "stream",
          "name": "stderr",
          "text": [
            "/usr/local/lib/python3.7/dist-packages/sklearn/metrics/_classification.py:1308: UndefinedMetricWarning: Recall and F-score are ill-defined and being set to 0.0 in labels with no true samples. Use `zero_division` parameter to control this behavior.\n",
            "  _warn_prf(average, modifier, msg_start, len(result))\n",
            "/usr/local/lib/python3.7/dist-packages/sklearn/metrics/_classification.py:1308: UndefinedMetricWarning: Recall and F-score are ill-defined and being set to 0.0 in labels with no true samples. Use `zero_division` parameter to control this behavior.\n",
            "  _warn_prf(average, modifier, msg_start, len(result))\n",
            "/usr/local/lib/python3.7/dist-packages/sklearn/metrics/_classification.py:1308: UndefinedMetricWarning: Recall and F-score are ill-defined and being set to 0.0 in labels with no true samples. Use `zero_division` parameter to control this behavior.\n",
            "  _warn_prf(average, modifier, msg_start, len(result))\n"
          ]
        },
        {
          "output_type": "execute_result",
          "data": {
            "text/html": [
              "<div>\n",
              "<style scoped>\n",
              "    .dataframe tbody tr th:only-of-type {\n",
              "        vertical-align: middle;\n",
              "    }\n",
              "\n",
              "    .dataframe tbody tr th {\n",
              "        vertical-align: top;\n",
              "    }\n",
              "\n",
              "    .dataframe thead th {\n",
              "        text-align: right;\n",
              "    }\n",
              "</style>\n",
              "<table border=\"1\" class=\"dataframe\">\n",
              "  <thead>\n",
              "    <tr style=\"text-align: right;\">\n",
              "      <th></th>\n",
              "      <th>contradiction</th>\n",
              "      <th>entailment</th>\n",
              "      <th>neutral</th>\n",
              "      <th>accuracy</th>\n",
              "      <th>macro avg</th>\n",
              "      <th>weighted avg</th>\n",
              "    </tr>\n",
              "  </thead>\n",
              "  <tbody>\n",
              "    <tr>\n",
              "      <th>precision</th>\n",
              "      <td>0.0</td>\n",
              "      <td>1.000000</td>\n",
              "      <td>0.0</td>\n",
              "      <td>0.333868</td>\n",
              "      <td>0.333333</td>\n",
              "      <td>1.000000</td>\n",
              "    </tr>\n",
              "    <tr>\n",
              "      <th>recall</th>\n",
              "      <td>0.0</td>\n",
              "      <td>0.333868</td>\n",
              "      <td>0.0</td>\n",
              "      <td>0.333868</td>\n",
              "      <td>0.111289</td>\n",
              "      <td>0.333868</td>\n",
              "    </tr>\n",
              "    <tr>\n",
              "      <th>f1-score</th>\n",
              "      <td>0.0</td>\n",
              "      <td>0.500601</td>\n",
              "      <td>0.0</td>\n",
              "      <td>0.333868</td>\n",
              "      <td>0.166867</td>\n",
              "      <td>0.500601</td>\n",
              "    </tr>\n",
              "    <tr>\n",
              "      <th>support</th>\n",
              "      <td>0.0</td>\n",
              "      <td>549367.000000</td>\n",
              "      <td>0.0</td>\n",
              "      <td>0.333868</td>\n",
              "      <td>549367.000000</td>\n",
              "      <td>549367.000000</td>\n",
              "    </tr>\n",
              "  </tbody>\n",
              "</table>\n",
              "</div>"
            ],
            "text/plain": [
              "           contradiction     entailment  ...      macro avg   weighted avg\n",
              "precision            0.0       1.000000  ...       0.333333       1.000000\n",
              "recall               0.0       0.333868  ...       0.111289       0.333868\n",
              "f1-score             0.0       0.500601  ...       0.166867       0.500601\n",
              "support              0.0  549367.000000  ...  549367.000000  549367.000000\n",
              "\n",
              "[4 rows x 6 columns]"
            ]
          },
          "metadata": {},
          "execution_count": 52
        }
      ]
    },
    {
      "cell_type": "code",
      "metadata": {
        "colab": {
          "base_uri": "https://localhost:8080/",
          "height": 285
        },
        "id": "zBouP-rHsTOQ",
        "outputId": "a4901fc6-b685-4e3c-bd43-001ae2676696"
      },
      "source": [
        "pd.DataFrame(classification_report(dev_predict, df_dev[\"gold_label\"], output_dict=True))"
      ],
      "execution_count": 53,
      "outputs": [
        {
          "output_type": "stream",
          "name": "stderr",
          "text": [
            "/usr/local/lib/python3.7/dist-packages/sklearn/metrics/_classification.py:1308: UndefinedMetricWarning: Recall and F-score are ill-defined and being set to 0.0 in labels with no true samples. Use `zero_division` parameter to control this behavior.\n",
            "  _warn_prf(average, modifier, msg_start, len(result))\n",
            "/usr/local/lib/python3.7/dist-packages/sklearn/metrics/_classification.py:1308: UndefinedMetricWarning: Recall and F-score are ill-defined and being set to 0.0 in labels with no true samples. Use `zero_division` parameter to control this behavior.\n",
            "  _warn_prf(average, modifier, msg_start, len(result))\n",
            "/usr/local/lib/python3.7/dist-packages/sklearn/metrics/_classification.py:1308: UndefinedMetricWarning: Recall and F-score are ill-defined and being set to 0.0 in labels with no true samples. Use `zero_division` parameter to control this behavior.\n",
            "  _warn_prf(average, modifier, msg_start, len(result))\n"
          ]
        },
        {
          "output_type": "execute_result",
          "data": {
            "text/html": [
              "<div>\n",
              "<style scoped>\n",
              "    .dataframe tbody tr th:only-of-type {\n",
              "        vertical-align: middle;\n",
              "    }\n",
              "\n",
              "    .dataframe tbody tr th {\n",
              "        vertical-align: top;\n",
              "    }\n",
              "\n",
              "    .dataframe thead th {\n",
              "        text-align: right;\n",
              "    }\n",
              "</style>\n",
              "<table border=\"1\" class=\"dataframe\">\n",
              "  <thead>\n",
              "    <tr style=\"text-align: right;\">\n",
              "      <th></th>\n",
              "      <th>contradiction</th>\n",
              "      <th>entailment</th>\n",
              "      <th>neutral</th>\n",
              "      <th>accuracy</th>\n",
              "      <th>macro avg</th>\n",
              "      <th>weighted avg</th>\n",
              "    </tr>\n",
              "  </thead>\n",
              "  <tbody>\n",
              "    <tr>\n",
              "      <th>precision</th>\n",
              "      <td>0.0</td>\n",
              "      <td>1.000000</td>\n",
              "      <td>0.0</td>\n",
              "      <td>0.338244</td>\n",
              "      <td>0.333333</td>\n",
              "      <td>1.000000</td>\n",
              "    </tr>\n",
              "    <tr>\n",
              "      <th>recall</th>\n",
              "      <td>0.0</td>\n",
              "      <td>0.338244</td>\n",
              "      <td>0.0</td>\n",
              "      <td>0.338244</td>\n",
              "      <td>0.112748</td>\n",
              "      <td>0.338244</td>\n",
              "    </tr>\n",
              "    <tr>\n",
              "      <th>f1-score</th>\n",
              "      <td>0.0</td>\n",
              "      <td>0.505505</td>\n",
              "      <td>0.0</td>\n",
              "      <td>0.338244</td>\n",
              "      <td>0.168502</td>\n",
              "      <td>0.505505</td>\n",
              "    </tr>\n",
              "    <tr>\n",
              "      <th>support</th>\n",
              "      <td>0.0</td>\n",
              "      <td>9842.000000</td>\n",
              "      <td>0.0</td>\n",
              "      <td>0.338244</td>\n",
              "      <td>9842.000000</td>\n",
              "      <td>9842.000000</td>\n",
              "    </tr>\n",
              "  </tbody>\n",
              "</table>\n",
              "</div>"
            ],
            "text/plain": [
              "           contradiction   entailment  ...    macro avg  weighted avg\n",
              "precision            0.0     1.000000  ...     0.333333      1.000000\n",
              "recall               0.0     0.338244  ...     0.112748      0.338244\n",
              "f1-score             0.0     0.505505  ...     0.168502      0.505505\n",
              "support              0.0  9842.000000  ...  9842.000000   9842.000000\n",
              "\n",
              "[4 rows x 6 columns]"
            ]
          },
          "metadata": {},
          "execution_count": 53
        }
      ]
    },
    {
      "cell_type": "markdown",
      "metadata": {
        "id": "djDpiQ9IsbzI"
      },
      "source": [
        "**One sided baseline**"
      ]
    },
    {
      "cell_type": "code",
      "metadata": {
        "id": "ECBgpNv5sh1f"
      },
      "source": [
        "# TODO: Enter code here to implement the one-sentence baselines. Print the classification reports.\n",
        "cntvectorizer = CountVectorizer(ngram_range=(1,2), min_df = 4, max_df=0.9)\n",
        "logreg = LogisticRegression(solver=\"saga\", multi_class=\"ovr\", max_iter=100)\n",
        "\n",
        "cntlog_pipeline = Pipeline([(\"cnt_vectorizer\", cntvectorizer), (\"LogisticRegression\", logreg)])"
      ],
      "execution_count": 54,
      "outputs": []
    },
    {
      "cell_type": "code",
      "metadata": {
        "colab": {
          "base_uri": "https://localhost:8080/",
          "height": 285
        },
        "id": "v5J0tuE8sojm",
        "outputId": "d902620c-ac4d-427b-943a-0805a894026d"
      },
      "source": [
        "# sentence 1\n",
        "cntlog_model1 = cntlog_pipeline.fit(df_train[\"sentence1\"], df_train[\"gold_label\"])\n",
        "\n",
        "train_pred1, test_pred1 = predictions(cntlog_model1, [df_train[\"sentence1\"], df_dev[\"sentence1\"]])\n",
        "\n",
        "pd.DataFrame(classification_report(df_train[\"gold_label\"], train_pred1, output_dict=True))"
      ],
      "execution_count": 55,
      "outputs": [
        {
          "output_type": "stream",
          "name": "stderr",
          "text": [
            "/usr/local/lib/python3.7/dist-packages/sklearn/linear_model/_sag.py:354: ConvergenceWarning: The max_iter was reached which means the coef_ did not converge\n",
            "  ConvergenceWarning,\n",
            "/usr/local/lib/python3.7/dist-packages/sklearn/linear_model/_sag.py:354: ConvergenceWarning: The max_iter was reached which means the coef_ did not converge\n",
            "  ConvergenceWarning,\n",
            "/usr/local/lib/python3.7/dist-packages/sklearn/linear_model/_sag.py:354: ConvergenceWarning: The max_iter was reached which means the coef_ did not converge\n",
            "  ConvergenceWarning,\n"
          ]
        },
        {
          "output_type": "execute_result",
          "data": {
            "text/html": [
              "<div>\n",
              "<style scoped>\n",
              "    .dataframe tbody tr th:only-of-type {\n",
              "        vertical-align: middle;\n",
              "    }\n",
              "\n",
              "    .dataframe tbody tr th {\n",
              "        vertical-align: top;\n",
              "    }\n",
              "\n",
              "    .dataframe thead th {\n",
              "        text-align: right;\n",
              "    }\n",
              "</style>\n",
              "<table border=\"1\" class=\"dataframe\">\n",
              "  <thead>\n",
              "    <tr style=\"text-align: right;\">\n",
              "      <th></th>\n",
              "      <th>contradiction</th>\n",
              "      <th>entailment</th>\n",
              "      <th>neutral</th>\n",
              "      <th>accuracy</th>\n",
              "      <th>macro avg</th>\n",
              "      <th>weighted avg</th>\n",
              "    </tr>\n",
              "  </thead>\n",
              "  <tbody>\n",
              "    <tr>\n",
              "      <th>precision</th>\n",
              "      <td>0.337035</td>\n",
              "      <td>0.339024</td>\n",
              "      <td>0.338615</td>\n",
              "      <td>0.338359</td>\n",
              "      <td>0.338224</td>\n",
              "      <td>0.338224</td>\n",
              "    </tr>\n",
              "    <tr>\n",
              "      <th>recall</th>\n",
              "      <td>0.256978</td>\n",
              "      <td>0.361097</td>\n",
              "      <td>0.397108</td>\n",
              "      <td>0.338359</td>\n",
              "      <td>0.338394</td>\n",
              "      <td>0.338359</td>\n",
              "    </tr>\n",
              "    <tr>\n",
              "      <th>f1-score</th>\n",
              "      <td>0.291612</td>\n",
              "      <td>0.349712</td>\n",
              "      <td>0.365536</td>\n",
              "      <td>0.338359</td>\n",
              "      <td>0.335620</td>\n",
              "      <td>0.335603</td>\n",
              "    </tr>\n",
              "    <tr>\n",
              "      <th>support</th>\n",
              "      <td>183187.000000</td>\n",
              "      <td>183416.000000</td>\n",
              "      <td>182764.000000</td>\n",
              "      <td>0.338359</td>\n",
              "      <td>549367.000000</td>\n",
              "      <td>549367.000000</td>\n",
              "    </tr>\n",
              "  </tbody>\n",
              "</table>\n",
              "</div>"
            ],
            "text/plain": [
              "           contradiction     entailment  ...      macro avg   weighted avg\n",
              "precision       0.337035       0.339024  ...       0.338224       0.338224\n",
              "recall          0.256978       0.361097  ...       0.338394       0.338359\n",
              "f1-score        0.291612       0.349712  ...       0.335620       0.335603\n",
              "support    183187.000000  183416.000000  ...  549367.000000  549367.000000\n",
              "\n",
              "[4 rows x 6 columns]"
            ]
          },
          "metadata": {},
          "execution_count": 55
        }
      ]
    },
    {
      "cell_type": "code",
      "metadata": {
        "colab": {
          "base_uri": "https://localhost:8080/",
          "height": 174
        },
        "id": "CPYVYEpBsv2-",
        "outputId": "ae8a6c0a-e412-406a-f70c-e95a645b8363"
      },
      "source": [
        "pd.DataFrame(classification_report(df_dev[\"gold_label\"], test_pred1, output_dict=True))"
      ],
      "execution_count": 56,
      "outputs": [
        {
          "output_type": "execute_result",
          "data": {
            "text/html": [
              "<div>\n",
              "<style scoped>\n",
              "    .dataframe tbody tr th:only-of-type {\n",
              "        vertical-align: middle;\n",
              "    }\n",
              "\n",
              "    .dataframe tbody tr th {\n",
              "        vertical-align: top;\n",
              "    }\n",
              "\n",
              "    .dataframe thead th {\n",
              "        text-align: right;\n",
              "    }\n",
              "</style>\n",
              "<table border=\"1\" class=\"dataframe\">\n",
              "  <thead>\n",
              "    <tr style=\"text-align: right;\">\n",
              "      <th></th>\n",
              "      <th>contradiction</th>\n",
              "      <th>entailment</th>\n",
              "      <th>neutral</th>\n",
              "      <th>accuracy</th>\n",
              "      <th>macro avg</th>\n",
              "      <th>weighted avg</th>\n",
              "    </tr>\n",
              "  </thead>\n",
              "  <tbody>\n",
              "    <tr>\n",
              "      <th>precision</th>\n",
              "      <td>0.335438</td>\n",
              "      <td>0.342477</td>\n",
              "      <td>0.330064</td>\n",
              "      <td>0.335907</td>\n",
              "      <td>0.335993</td>\n",
              "      <td>0.336053</td>\n",
              "    </tr>\n",
              "    <tr>\n",
              "      <th>recall</th>\n",
              "      <td>0.259304</td>\n",
              "      <td>0.363773</td>\n",
              "      <td>0.384853</td>\n",
              "      <td>0.335907</td>\n",
              "      <td>0.335977</td>\n",
              "      <td>0.335907</td>\n",
              "    </tr>\n",
              "    <tr>\n",
              "      <th>f1-score</th>\n",
              "      <td>0.292498</td>\n",
              "      <td>0.352804</td>\n",
              "      <td>0.355359</td>\n",
              "      <td>0.335907</td>\n",
              "      <td>0.333554</td>\n",
              "      <td>0.333558</td>\n",
              "    </tr>\n",
              "    <tr>\n",
              "      <th>support</th>\n",
              "      <td>3278.000000</td>\n",
              "      <td>3329.000000</td>\n",
              "      <td>3235.000000</td>\n",
              "      <td>0.335907</td>\n",
              "      <td>9842.000000</td>\n",
              "      <td>9842.000000</td>\n",
              "    </tr>\n",
              "  </tbody>\n",
              "</table>\n",
              "</div>"
            ],
            "text/plain": [
              "           contradiction   entailment  ...    macro avg  weighted avg\n",
              "precision       0.335438     0.342477  ...     0.335993      0.336053\n",
              "recall          0.259304     0.363773  ...     0.335977      0.335907\n",
              "f1-score        0.292498     0.352804  ...     0.333554      0.333558\n",
              "support      3278.000000  3329.000000  ...  9842.000000   9842.000000\n",
              "\n",
              "[4 rows x 6 columns]"
            ]
          },
          "metadata": {},
          "execution_count": 56
        }
      ]
    },
    {
      "cell_type": "code",
      "metadata": {
        "colab": {
          "base_uri": "https://localhost:8080/",
          "height": 285
        },
        "id": "k1eE12pws1VP",
        "outputId": "0780248d-aa7f-406d-c7f0-f34290605b6d"
      },
      "source": [
        "#sentence 2\n",
        "cntlog_model2 = cntlog_pipeline.fit(df_train[\"sentence2\"], df_train[\"gold_label\"])\n",
        "\n",
        "train_pred2, test_pred2 = predictions(cntlog_model1, [df_train[\"sentence2\"], df_dev[\"sentence2\"]])\n",
        "\n",
        "pd.DataFrame(classification_report(df_train[\"gold_label\"], train_pred2, output_dict=True))\n"
      ],
      "execution_count": 57,
      "outputs": [
        {
          "output_type": "stream",
          "name": "stderr",
          "text": [
            "/usr/local/lib/python3.7/dist-packages/sklearn/linear_model/_sag.py:354: ConvergenceWarning: The max_iter was reached which means the coef_ did not converge\n",
            "  ConvergenceWarning,\n",
            "/usr/local/lib/python3.7/dist-packages/sklearn/linear_model/_sag.py:354: ConvergenceWarning: The max_iter was reached which means the coef_ did not converge\n",
            "  ConvergenceWarning,\n",
            "/usr/local/lib/python3.7/dist-packages/sklearn/linear_model/_sag.py:354: ConvergenceWarning: The max_iter was reached which means the coef_ did not converge\n",
            "  ConvergenceWarning,\n"
          ]
        },
        {
          "output_type": "execute_result",
          "data": {
            "text/html": [
              "<div>\n",
              "<style scoped>\n",
              "    .dataframe tbody tr th:only-of-type {\n",
              "        vertical-align: middle;\n",
              "    }\n",
              "\n",
              "    .dataframe tbody tr th {\n",
              "        vertical-align: top;\n",
              "    }\n",
              "\n",
              "    .dataframe thead th {\n",
              "        text-align: right;\n",
              "    }\n",
              "</style>\n",
              "<table border=\"1\" class=\"dataframe\">\n",
              "  <thead>\n",
              "    <tr style=\"text-align: right;\">\n",
              "      <th></th>\n",
              "      <th>contradiction</th>\n",
              "      <th>entailment</th>\n",
              "      <th>neutral</th>\n",
              "      <th>accuracy</th>\n",
              "      <th>macro avg</th>\n",
              "      <th>weighted avg</th>\n",
              "    </tr>\n",
              "  </thead>\n",
              "  <tbody>\n",
              "    <tr>\n",
              "      <th>precision</th>\n",
              "      <td>0.736777</td>\n",
              "      <td>0.708316</td>\n",
              "      <td>0.751960</td>\n",
              "      <td>0.731107</td>\n",
              "      <td>0.732351</td>\n",
              "      <td>0.732326</td>\n",
              "    </tr>\n",
              "    <tr>\n",
              "      <th>recall</th>\n",
              "      <td>0.719265</td>\n",
              "      <td>0.773422</td>\n",
              "      <td>0.700510</td>\n",
              "      <td>0.731107</td>\n",
              "      <td>0.731066</td>\n",
              "      <td>0.731107</td>\n",
              "    </tr>\n",
              "    <tr>\n",
              "      <th>f1-score</th>\n",
              "      <td>0.727916</td>\n",
              "      <td>0.739439</td>\n",
              "      <td>0.725324</td>\n",
              "      <td>0.731107</td>\n",
              "      <td>0.730893</td>\n",
              "      <td>0.730901</td>\n",
              "    </tr>\n",
              "    <tr>\n",
              "      <th>support</th>\n",
              "      <td>183187.000000</td>\n",
              "      <td>183416.000000</td>\n",
              "      <td>182764.000000</td>\n",
              "      <td>0.731107</td>\n",
              "      <td>549367.000000</td>\n",
              "      <td>549367.000000</td>\n",
              "    </tr>\n",
              "  </tbody>\n",
              "</table>\n",
              "</div>"
            ],
            "text/plain": [
              "           contradiction     entailment  ...      macro avg   weighted avg\n",
              "precision       0.736777       0.708316  ...       0.732351       0.732326\n",
              "recall          0.719265       0.773422  ...       0.731066       0.731107\n",
              "f1-score        0.727916       0.739439  ...       0.730893       0.730901\n",
              "support    183187.000000  183416.000000  ...  549367.000000  549367.000000\n",
              "\n",
              "[4 rows x 6 columns]"
            ]
          },
          "metadata": {},
          "execution_count": 57
        }
      ]
    },
    {
      "cell_type": "code",
      "metadata": {
        "colab": {
          "base_uri": "https://localhost:8080/",
          "height": 174
        },
        "id": "9BxWAYqss7fe",
        "outputId": "a19a65d8-2050-47a4-da98-9012dd011bd4"
      },
      "source": [
        "pd.DataFrame(classification_report(df_dev[\"gold_label\"], test_pred2, output_dict=True))"
      ],
      "execution_count": 58,
      "outputs": [
        {
          "output_type": "execute_result",
          "data": {
            "text/html": [
              "<div>\n",
              "<style scoped>\n",
              "    .dataframe tbody tr th:only-of-type {\n",
              "        vertical-align: middle;\n",
              "    }\n",
              "\n",
              "    .dataframe tbody tr th {\n",
              "        vertical-align: top;\n",
              "    }\n",
              "\n",
              "    .dataframe thead th {\n",
              "        text-align: right;\n",
              "    }\n",
              "</style>\n",
              "<table border=\"1\" class=\"dataframe\">\n",
              "  <thead>\n",
              "    <tr style=\"text-align: right;\">\n",
              "      <th></th>\n",
              "      <th>contradiction</th>\n",
              "      <th>entailment</th>\n",
              "      <th>neutral</th>\n",
              "      <th>accuracy</th>\n",
              "      <th>macro avg</th>\n",
              "      <th>weighted avg</th>\n",
              "    </tr>\n",
              "  </thead>\n",
              "  <tbody>\n",
              "    <tr>\n",
              "      <th>precision</th>\n",
              "      <td>0.666871</td>\n",
              "      <td>0.674068</td>\n",
              "      <td>0.680013</td>\n",
              "      <td>0.673542</td>\n",
              "      <td>0.673651</td>\n",
              "      <td>0.673625</td>\n",
              "    </tr>\n",
              "    <tr>\n",
              "      <th>recall</th>\n",
              "      <td>0.662599</td>\n",
              "      <td>0.711325</td>\n",
              "      <td>0.645750</td>\n",
              "      <td>0.673542</td>\n",
              "      <td>0.673224</td>\n",
              "      <td>0.673542</td>\n",
              "    </tr>\n",
              "    <tr>\n",
              "      <th>f1-score</th>\n",
              "      <td>0.664728</td>\n",
              "      <td>0.692195</td>\n",
              "      <td>0.662439</td>\n",
              "      <td>0.673542</td>\n",
              "      <td>0.673121</td>\n",
              "      <td>0.673266</td>\n",
              "    </tr>\n",
              "    <tr>\n",
              "      <th>support</th>\n",
              "      <td>3278.000000</td>\n",
              "      <td>3329.000000</td>\n",
              "      <td>3235.000000</td>\n",
              "      <td>0.673542</td>\n",
              "      <td>9842.000000</td>\n",
              "      <td>9842.000000</td>\n",
              "    </tr>\n",
              "  </tbody>\n",
              "</table>\n",
              "</div>"
            ],
            "text/plain": [
              "           contradiction   entailment  ...    macro avg  weighted avg\n",
              "precision       0.666871     0.674068  ...     0.673651      0.673625\n",
              "recall          0.662599     0.711325  ...     0.673224      0.673542\n",
              "f1-score        0.664728     0.692195  ...     0.673121      0.673266\n",
              "support      3278.000000  3329.000000  ...  9842.000000   9842.000000\n",
              "\n",
              "[4 rows x 6 columns]"
            ]
          },
          "metadata": {},
          "execution_count": 58
        }
      ]
    },
    {
      "cell_type": "markdown",
      "metadata": {
        "id": "pJn7CfE0tHs-"
      },
      "source": [
        "**A classifier based on manually engineered features**"
      ]
    },
    {
      "cell_type": "code",
      "metadata": {
        "colab": {
          "base_uri": "https://localhost:8080/"
        },
        "id": "HsHHJKTztJnn",
        "outputId": "43931cda-a1a8-4146-96b1-e882b5f91423"
      },
      "source": [
        "cu_vectorizer = CountVectorizer(ngram_range=(1,1))\n",
        "cu_logreg = LogisticRegression(solver=\"saga\", multi_class=\"ovr\", max_iter= 100)\n",
        "cu_transformer = CrossUnigramsTransformer()\n",
        "\n",
        "cu_pipeline = Pipeline([(\"cross_unigram\", cu_transformer), (\"cnt_vectorizer\", cu_vectorizer),  (\"LogisticRegression\", logreg)])\n",
        "cu_logreg_model = cu_pipeline.fit(df_train.loc[:, df_train.columns !=\"gold_label\"], df_train[\"gold_label\"])"
      ],
      "execution_count": 59,
      "outputs": [
        {
          "output_type": "stream",
          "name": "stderr",
          "text": [
            "/usr/local/lib/python3.7/dist-packages/sklearn/linear_model/_sag.py:354: ConvergenceWarning: The max_iter was reached which means the coef_ did not converge\n",
            "  ConvergenceWarning,\n",
            "/usr/local/lib/python3.7/dist-packages/sklearn/linear_model/_sag.py:354: ConvergenceWarning: The max_iter was reached which means the coef_ did not converge\n",
            "  ConvergenceWarning,\n",
            "/usr/local/lib/python3.7/dist-packages/sklearn/linear_model/_sag.py:354: ConvergenceWarning: The max_iter was reached which means the coef_ did not converge\n",
            "  ConvergenceWarning,\n"
          ]
        }
      ]
    },
    {
      "cell_type": "code",
      "metadata": {
        "id": "SyrBkCIptOv3"
      },
      "source": [
        "cu_train_pred, cu_dev_pred = predictions(cu_logreg_model, [df_train.loc[:, df_train.columns != \"gold_label\"], df_dev.loc[:, df_dev.columns != \"gold_label\"]])"
      ],
      "execution_count": 60,
      "outputs": []
    },
    {
      "cell_type": "code",
      "metadata": {
        "colab": {
          "base_uri": "https://localhost:8080/",
          "height": 174
        },
        "id": "N0f-reVFtS7G",
        "outputId": "5bc55246-e2bf-4c47-fed0-f4e5cac76e54"
      },
      "source": [
        "pd.DataFrame(classification_report(df_train[\"gold_label\"], cu_train_pred, output_dict=True))"
      ],
      "execution_count": 62,
      "outputs": [
        {
          "output_type": "execute_result",
          "data": {
            "text/html": [
              "<div>\n",
              "<style scoped>\n",
              "    .dataframe tbody tr th:only-of-type {\n",
              "        vertical-align: middle;\n",
              "    }\n",
              "\n",
              "    .dataframe tbody tr th {\n",
              "        vertical-align: top;\n",
              "    }\n",
              "\n",
              "    .dataframe thead th {\n",
              "        text-align: right;\n",
              "    }\n",
              "</style>\n",
              "<table border=\"1\" class=\"dataframe\">\n",
              "  <thead>\n",
              "    <tr style=\"text-align: right;\">\n",
              "      <th></th>\n",
              "      <th>contradiction</th>\n",
              "      <th>entailment</th>\n",
              "      <th>neutral</th>\n",
              "      <th>accuracy</th>\n",
              "      <th>macro avg</th>\n",
              "      <th>weighted avg</th>\n",
              "    </tr>\n",
              "  </thead>\n",
              "  <tbody>\n",
              "    <tr>\n",
              "      <th>precision</th>\n",
              "      <td>0.877254</td>\n",
              "      <td>0.797701</td>\n",
              "      <td>0.867547</td>\n",
              "      <td>0.844332</td>\n",
              "      <td>0.847501</td>\n",
              "      <td>0.847465</td>\n",
              "    </tr>\n",
              "    <tr>\n",
              "      <th>recall</th>\n",
              "      <td>0.845950</td>\n",
              "      <td>0.900919</td>\n",
              "      <td>0.785921</td>\n",
              "      <td>0.844332</td>\n",
              "      <td>0.844263</td>\n",
              "      <td>0.844332</td>\n",
              "    </tr>\n",
              "    <tr>\n",
              "      <th>f1-score</th>\n",
              "      <td>0.861318</td>\n",
              "      <td>0.846174</td>\n",
              "      <td>0.824719</td>\n",
              "      <td>0.844332</td>\n",
              "      <td>0.844070</td>\n",
              "      <td>0.844086</td>\n",
              "    </tr>\n",
              "    <tr>\n",
              "      <th>support</th>\n",
              "      <td>183187.000000</td>\n",
              "      <td>183416.000000</td>\n",
              "      <td>182764.000000</td>\n",
              "      <td>0.844332</td>\n",
              "      <td>549367.000000</td>\n",
              "      <td>549367.000000</td>\n",
              "    </tr>\n",
              "  </tbody>\n",
              "</table>\n",
              "</div>"
            ],
            "text/plain": [
              "           contradiction     entailment  ...      macro avg   weighted avg\n",
              "precision       0.877254       0.797701  ...       0.847501       0.847465\n",
              "recall          0.845950       0.900919  ...       0.844263       0.844332\n",
              "f1-score        0.861318       0.846174  ...       0.844070       0.844086\n",
              "support    183187.000000  183416.000000  ...  549367.000000  549367.000000\n",
              "\n",
              "[4 rows x 6 columns]"
            ]
          },
          "metadata": {},
          "execution_count": 62
        }
      ]
    },
    {
      "cell_type": "code",
      "metadata": {
        "colab": {
          "base_uri": "https://localhost:8080/",
          "height": 174
        },
        "id": "bTf6x-kitbxe",
        "outputId": "ca626e95-b015-4371-9b14-f83cbb557d0a"
      },
      "source": [
        "pd.DataFrame(classification_report(df_dev[\"gold_label\"], cu_dev_pred, output_dict=True))"
      ],
      "execution_count": 63,
      "outputs": [
        {
          "output_type": "execute_result",
          "data": {
            "text/html": [
              "<div>\n",
              "<style scoped>\n",
              "    .dataframe tbody tr th:only-of-type {\n",
              "        vertical-align: middle;\n",
              "    }\n",
              "\n",
              "    .dataframe tbody tr th {\n",
              "        vertical-align: top;\n",
              "    }\n",
              "\n",
              "    .dataframe thead th {\n",
              "        text-align: right;\n",
              "    }\n",
              "</style>\n",
              "<table border=\"1\" class=\"dataframe\">\n",
              "  <thead>\n",
              "    <tr style=\"text-align: right;\">\n",
              "      <th></th>\n",
              "      <th>contradiction</th>\n",
              "      <th>entailment</th>\n",
              "      <th>neutral</th>\n",
              "      <th>accuracy</th>\n",
              "      <th>macro avg</th>\n",
              "      <th>weighted avg</th>\n",
              "    </tr>\n",
              "  </thead>\n",
              "  <tbody>\n",
              "    <tr>\n",
              "      <th>precision</th>\n",
              "      <td>0.761410</td>\n",
              "      <td>0.711223</td>\n",
              "      <td>0.730170</td>\n",
              "      <td>0.732981</td>\n",
              "      <td>0.734268</td>\n",
              "      <td>0.734166</td>\n",
              "    </tr>\n",
              "    <tr>\n",
              "      <th>recall</th>\n",
              "      <td>0.737950</td>\n",
              "      <td>0.807149</td>\n",
              "      <td>0.651623</td>\n",
              "      <td>0.732981</td>\n",
              "      <td>0.732241</td>\n",
              "      <td>0.732981</td>\n",
              "    </tr>\n",
              "    <tr>\n",
              "      <th>f1-score</th>\n",
              "      <td>0.749497</td>\n",
              "      <td>0.756156</td>\n",
              "      <td>0.688664</td>\n",
              "      <td>0.732981</td>\n",
              "      <td>0.731439</td>\n",
              "      <td>0.731754</td>\n",
              "    </tr>\n",
              "    <tr>\n",
              "      <th>support</th>\n",
              "      <td>3278.000000</td>\n",
              "      <td>3329.000000</td>\n",
              "      <td>3235.000000</td>\n",
              "      <td>0.732981</td>\n",
              "      <td>9842.000000</td>\n",
              "      <td>9842.000000</td>\n",
              "    </tr>\n",
              "  </tbody>\n",
              "</table>\n",
              "</div>"
            ],
            "text/plain": [
              "           contradiction   entailment  ...    macro avg  weighted avg\n",
              "precision       0.761410     0.711223  ...     0.734268      0.734166\n",
              "recall          0.737950     0.807149  ...     0.732241      0.732981\n",
              "f1-score        0.749497     0.756156  ...     0.731439      0.731754\n",
              "support      3278.000000  3329.000000  ...  9842.000000   9842.000000\n",
              "\n",
              "[4 rows x 6 columns]"
            ]
          },
          "metadata": {},
          "execution_count": 63
        }
      ]
    },
    {
      "cell_type": "markdown",
      "metadata": {
        "id": "YNQSWqE7thxe"
      },
      "source": [
        "**A classifier based on word embeddings**"
      ]
    },
    {
      "cell_type": "code",
      "metadata": {
        "colab": {
          "base_uri": "https://localhost:8080/"
        },
        "id": "o9alfOGdtoH-",
        "outputId": "bc263cfa-0432-4a22-e942-4519dc1315c8"
      },
      "source": [
        "train_phrase, dev_phrase = df_train[[\"sentence1\", \"sentence2\"]], df_dev[[\"sentence1\", \"sentence2\"]]\n",
        "\n",
        "cbow_pipeline = Pipeline([(\"vectorizer\", PairedSentenceVectorizer()), (\"clf\", MLPClassifier(hidden_layer_sizes=(300,300,300), max_iter=8, verbose=True))])\n",
        "\n",
        "cbow_model = cbow_pipeline.fit(train_phrase, df_train[\"gold_label\"])\n",
        "training_accuracy = cbow_model.score(train_phrase, df_train[\"gold_label\"])\n",
        "dev_accuracy = cbow_model.score(dev_phrase, df_dev[\"gold_label\"])\n",
        "cbow_pred = cbow_model.predict(dev_phrase)"
      ],
      "execution_count": 64,
      "outputs": [
        {
          "output_type": "stream",
          "name": "stdout",
          "text": [
            "Iteration 1, loss = 0.79740871\n",
            "Iteration 2, loss = 0.68328956\n",
            "Iteration 3, loss = 0.64326345\n",
            "Iteration 4, loss = 0.61644263\n",
            "Iteration 5, loss = 0.59521074\n",
            "Iteration 6, loss = 0.57762891\n",
            "Iteration 7, loss = 0.56330906\n",
            "Iteration 8, loss = 0.55010570\n"
          ]
        },
        {
          "output_type": "stream",
          "name": "stderr",
          "text": [
            "/usr/local/lib/python3.7/dist-packages/sklearn/neural_network/_multilayer_perceptron.py:696: ConvergenceWarning: Stochastic Optimizer: Maximum iterations (8) reached and the optimization hasn't converged yet.\n",
            "  ConvergenceWarning,\n"
          ]
        }
      ]
    },
    {
      "cell_type": "code",
      "metadata": {
        "colab": {
          "base_uri": "https://localhost:8080/",
          "height": 212
        },
        "id": "NQjmap0Rtxy2",
        "outputId": "07b86e59-6f05-4406-de9d-d1c9213e319d"
      },
      "source": [
        "print(\"The training accuracy is: \", training_accuracy)\n",
        "print(\"The development accuracy is \", dev_accuracy)\n",
        "\n",
        "pd.DataFrame(classification_report(df_dev[\"gold_label\"], cbow_pred, output_dict=True))"
      ],
      "execution_count": 65,
      "outputs": [
        {
          "output_type": "stream",
          "name": "stdout",
          "text": [
            "The training accuracy is:  0.7881798506280865\n",
            "The development accuracy is  0.7653932127616339\n"
          ]
        },
        {
          "output_type": "execute_result",
          "data": {
            "text/html": [
              "<div>\n",
              "<style scoped>\n",
              "    .dataframe tbody tr th:only-of-type {\n",
              "        vertical-align: middle;\n",
              "    }\n",
              "\n",
              "    .dataframe tbody tr th {\n",
              "        vertical-align: top;\n",
              "    }\n",
              "\n",
              "    .dataframe thead th {\n",
              "        text-align: right;\n",
              "    }\n",
              "</style>\n",
              "<table border=\"1\" class=\"dataframe\">\n",
              "  <thead>\n",
              "    <tr style=\"text-align: right;\">\n",
              "      <th></th>\n",
              "      <th>contradiction</th>\n",
              "      <th>entailment</th>\n",
              "      <th>neutral</th>\n",
              "      <th>accuracy</th>\n",
              "      <th>macro avg</th>\n",
              "      <th>weighted avg</th>\n",
              "    </tr>\n",
              "  </thead>\n",
              "  <tbody>\n",
              "    <tr>\n",
              "      <th>precision</th>\n",
              "      <td>0.833865</td>\n",
              "      <td>0.768300</td>\n",
              "      <td>0.706663</td>\n",
              "      <td>0.765393</td>\n",
              "      <td>0.769609</td>\n",
              "      <td>0.769877</td>\n",
              "    </tr>\n",
              "    <tr>\n",
              "      <th>recall</th>\n",
              "      <td>0.718121</td>\n",
              "      <td>0.819766</td>\n",
              "      <td>0.757342</td>\n",
              "      <td>0.765393</td>\n",
              "      <td>0.765076</td>\n",
              "      <td>0.765393</td>\n",
              "    </tr>\n",
              "    <tr>\n",
              "      <th>f1-score</th>\n",
              "      <td>0.771677</td>\n",
              "      <td>0.793199</td>\n",
              "      <td>0.731125</td>\n",
              "      <td>0.765393</td>\n",
              "      <td>0.765333</td>\n",
              "      <td>0.765627</td>\n",
              "    </tr>\n",
              "    <tr>\n",
              "      <th>support</th>\n",
              "      <td>3278.000000</td>\n",
              "      <td>3329.000000</td>\n",
              "      <td>3235.000000</td>\n",
              "      <td>0.765393</td>\n",
              "      <td>9842.000000</td>\n",
              "      <td>9842.000000</td>\n",
              "    </tr>\n",
              "  </tbody>\n",
              "</table>\n",
              "</div>"
            ],
            "text/plain": [
              "           contradiction   entailment  ...    macro avg  weighted avg\n",
              "precision       0.833865     0.768300  ...     0.769609      0.769877\n",
              "recall          0.718121     0.819766  ...     0.765076      0.765393\n",
              "f1-score        0.771677     0.793199  ...     0.765333      0.765627\n",
              "support      3278.000000  3329.000000  ...  9842.000000   9842.000000\n",
              "\n",
              "[4 rows x 6 columns]"
            ]
          },
          "metadata": {},
          "execution_count": 65
        }
      ]
    },
    {
      "cell_type": "markdown",
      "metadata": {
        "id": "dxLR5q-XcR7J"
      },
      "source": [
        "*TODO: Insert your discussion of the experimental results here*"
      ]
    },
    {
      "cell_type": "markdown",
      "metadata": {
        "id": "F5t1WxSYcR7J"
      },
      "source": [
        "<div class=\"alert alert-info\">\n",
        "    Please read the section ‘General information’ on the ‘Labs’ page of the course website before submitting this notebook!\n",
        "</div>"
      ]
    }
  ]
}