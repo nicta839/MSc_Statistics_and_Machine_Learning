{
 "cells": [
  {
   "cell_type": "markdown",
   "metadata": {
    "id": "VF_5uJuA3P4q"
   },
   "source": [
    "# L3: Text clustering and topic modelling"
   ]
  },
  {
   "cell_type": "markdown",
   "metadata": {
    "id": "BNT_e6h23P4x"
   },
   "source": [
    "Text clustering groups documents in such a way that documents within a group are more &lsquo;similar&rsquo; to other documents in the cluster than to documents not in the cluster. The exact definition of what &lsquo;similar&rsquo; means in this context varies across applications and clustering algorithms.\n",
    "\n",
    "In this lab you will experiment with both hard and soft clustering techniques. More specifically, in the first part you will be using the $k$-means algorithm, and in the second part you will be using a topic model based on the Latent Dirichlet Allocation (LDA)."
   ]
  },
  {
   "cell_type": "markdown",
   "metadata": {
    "id": "PGRY43BB3P4z"
   },
   "source": [
    "## Hard clustering data set"
   ]
  },
  {
   "cell_type": "markdown",
   "metadata": {
    "id": "PUWQ_FmR3P4z"
   },
   "source": [
    "The raw data for the hard clustering part of this lab is a collection of product reviews. We have preprocessed the data by tokenization and lowercasing."
   ]
  },
  {
   "cell_type": "code",
   "execution_count": 1,
   "metadata": {
    "colab": {
     "base_uri": "https://localhost:8080/"
    },
    "executionInfo": {
     "elapsed": 19444,
     "status": "ok",
     "timestamp": 1637496494302,
     "user": {
      "displayName": "Nicolas Taba",
      "photoUrl": "https://lh3.googleusercontent.com/a-/AOh14GgGA9SnI4R5Et9M9EKoyPEtW0lGQ2uM2Oe93h3tIA=s64",
      "userId": "00004745109023396946"
     },
     "user_tz": -60
    },
    "id": "zTKjdH9s3SmF",
    "outputId": "5eaeb461-ea48-482f-d526-6408ff68f0e6"
   },
   "outputs": [
    {
     "name": "stdout",
     "output_type": "stream",
     "text": [
      "Mounted at /content/drive\n"
     ]
    }
   ],
   "source": [
    "from google.colab import drive\n",
    "drive.mount('/content/drive')\n"
   ]
  },
  {
   "cell_type": "code",
   "execution_count": 2,
   "metadata": {
    "colab": {
     "base_uri": "https://localhost:8080/"
    },
    "executionInfo": {
     "elapsed": 9,
     "status": "ok",
     "timestamp": 1637496494303,
     "user": {
      "displayName": "Nicolas Taba",
      "photoUrl": "https://lh3.googleusercontent.com/a-/AOh14GgGA9SnI4R5Et9M9EKoyPEtW0lGQ2uM2Oe93h3tIA=s64",
      "userId": "00004745109023396946"
     },
     "user_tz": -60
    },
    "id": "HZ5L-OoB3p7C",
    "outputId": "39dbc4bd-4220-4ce6-a71b-b6ee0d274987"
   },
   "outputs": [
    {
     "name": "stdout",
     "output_type": "stream",
     "text": [
      "/content/drive/MyDrive/Colab Notebooks/l3\n"
     ]
    }
   ],
   "source": [
    "%cd /content/drive/MyDrive/Colab Notebooks/l3"
   ]
  },
  {
   "cell_type": "code",
   "execution_count": 3,
   "metadata": {
    "executionInfo": {
     "elapsed": 1838,
     "status": "ok",
     "timestamp": 1637496496135,
     "user": {
      "displayName": "Nicolas Taba",
      "photoUrl": "https://lh3.googleusercontent.com/a-/AOh14GgGA9SnI4R5Et9M9EKoyPEtW0lGQ2uM2Oe93h3tIA=s64",
      "userId": "00004745109023396946"
     },
     "user_tz": -60
    },
    "id": "XePLKd2M3P40"
   },
   "outputs": [],
   "source": [
    "import pandas as pd\n",
    "import bz2\n",
    "\n",
    "with bz2.open('reviews.json.bz2') as source:\n",
    "    df = pd.read_json(source)"
   ]
  },
  {
   "cell_type": "markdown",
   "metadata": {
    "id": "dD_d_Y2j3P43"
   },
   "source": [
    "When you inspect the data frame, you can see that there are three labelled columns: `category` (the product category), `sentiment` (whether the product review was classified as &lsquo;positive&rsquo; or &lsquo;negative&rsquo; towards the product), and `text` (the space-separated text of the review)."
   ]
  },
  {
   "cell_type": "code",
   "execution_count": 4,
   "metadata": {
    "colab": {
     "base_uri": "https://localhost:8080/",
     "height": 206
    },
    "executionInfo": {
     "elapsed": 14,
     "status": "ok",
     "timestamp": 1637496496136,
     "user": {
      "displayName": "Nicolas Taba",
      "photoUrl": "https://lh3.googleusercontent.com/a-/AOh14GgGA9SnI4R5Et9M9EKoyPEtW0lGQ2uM2Oe93h3tIA=s64",
      "userId": "00004745109023396946"
     },
     "user_tz": -60
    },
    "id": "ndAXPSy43P44",
    "outputId": "3891f134-0580-40dd-db2f-dbd36ab8b58e"
   },
   "outputs": [
    {
     "data": {
      "text/html": [
       "<div>\n",
       "<style scoped>\n",
       "    .dataframe tbody tr th:only-of-type {\n",
       "        vertical-align: middle;\n",
       "    }\n",
       "\n",
       "    .dataframe tbody tr th {\n",
       "        vertical-align: top;\n",
       "    }\n",
       "\n",
       "    .dataframe thead th {\n",
       "        text-align: right;\n",
       "    }\n",
       "</style>\n",
       "<table border=\"1\" class=\"dataframe\">\n",
       "  <thead>\n",
       "    <tr style=\"text-align: right;\">\n",
       "      <th></th>\n",
       "      <th>category</th>\n",
       "      <th>sentiment</th>\n",
       "      <th>text</th>\n",
       "    </tr>\n",
       "  </thead>\n",
       "  <tbody>\n",
       "    <tr>\n",
       "      <th>0</th>\n",
       "      <td>music</td>\n",
       "      <td>neg</td>\n",
       "      <td>i bought this album because i loved the title ...</td>\n",
       "    </tr>\n",
       "    <tr>\n",
       "      <th>1</th>\n",
       "      <td>music</td>\n",
       "      <td>neg</td>\n",
       "      <td>i was misled and thought i was buying the enti...</td>\n",
       "    </tr>\n",
       "    <tr>\n",
       "      <th>2</th>\n",
       "      <td>books</td>\n",
       "      <td>neg</td>\n",
       "      <td>i have introduced many of my ell , high school...</td>\n",
       "    </tr>\n",
       "    <tr>\n",
       "      <th>3</th>\n",
       "      <td>books</td>\n",
       "      <td>pos</td>\n",
       "      <td>anything you purchase in the left behind serie...</td>\n",
       "    </tr>\n",
       "    <tr>\n",
       "      <th>4</th>\n",
       "      <td>dvd</td>\n",
       "      <td>pos</td>\n",
       "      <td>i loved these movies , and i cant wiat for the...</td>\n",
       "    </tr>\n",
       "  </tbody>\n",
       "</table>\n",
       "</div>"
      ],
      "text/plain": [
       "  category sentiment                                               text\n",
       "0    music       neg  i bought this album because i loved the title ...\n",
       "1    music       neg  i was misled and thought i was buying the enti...\n",
       "2    books       neg  i have introduced many of my ell , high school...\n",
       "3    books       pos  anything you purchase in the left behind serie...\n",
       "4      dvd       pos  i loved these movies , and i cant wiat for the..."
      ]
     },
     "execution_count": 4,
     "metadata": {},
     "output_type": "execute_result"
    }
   ],
   "source": [
    "df.head()"
   ]
  },
  {
   "cell_type": "code",
   "execution_count": 5,
   "metadata": {
    "executionInfo": {
     "elapsed": 12,
     "status": "ok",
     "timestamp": 1637496496137,
     "user": {
      "displayName": "Nicolas Taba",
      "photoUrl": "https://lh3.googleusercontent.com/a-/AOh14GgGA9SnI4R5Et9M9EKoyPEtW0lGQ2uM2Oe93h3tIA=s64",
      "userId": "00004745109023396946"
     },
     "user_tz": -60
    },
    "id": "GGy5WEEJ3P47"
   },
   "outputs": [],
   "source": [
    "import numpy as np"
   ]
  },
  {
   "cell_type": "code",
   "execution_count": 6,
   "metadata": {
    "colab": {
     "base_uri": "https://localhost:8080/"
    },
    "executionInfo": {
     "elapsed": 13,
     "status": "ok",
     "timestamp": 1637496496138,
     "user": {
      "displayName": "Nicolas Taba",
      "photoUrl": "https://lh3.googleusercontent.com/a-/AOh14GgGA9SnI4R5Et9M9EKoyPEtW0lGQ2uM2Oe93h3tIA=s64",
      "userId": "00004745109023396946"
     },
     "user_tz": -60
    },
    "id": "CWWkuvqE3P48",
    "outputId": "0b51949e-bb29-4300-d760-836df11a9e3d"
   },
   "outputs": [
    {
     "data": {
      "text/plain": [
       "array(['books', 'camera', 'dvd', 'health', 'music', 'software'],\n",
       "      dtype=object)"
      ]
     },
     "execution_count": 6,
     "metadata": {},
     "output_type": "execute_result"
    }
   ],
   "source": [
    "np.unique(df[\"category\"])"
   ]
  },
  {
   "cell_type": "markdown",
   "metadata": {
    "id": "7V1jKOel3P49"
   },
   "source": [
    "## Problem 1: K-means clustering"
   ]
  },
  {
   "cell_type": "markdown",
   "metadata": {
    "id": "UU8VyHJb3P4-"
   },
   "source": [
    "Your first task is to cluster the product review data using a tf–idf vectorizer and a $k$-means clusterer."
   ]
  },
  {
   "cell_type": "markdown",
   "metadata": {
    "id": "vquSrdsx3P4_"
   },
   "source": [
    "Start by doing the vectorization. In connection with vectorization, you should also filter out standard English stop words. While you could use [spaCy](https://spacy.io/) for this task, here it suffices to use the word list implemented in [TfidfVectorizer](https://scikit-learn.org/stable/modules/generated/sklearn.feature_extraction.text.TfidfVectorizer.html)."
   ]
  },
  {
   "cell_type": "code",
   "execution_count": 7,
   "metadata": {
    "executionInfo": {
     "elapsed": 2357,
     "status": "ok",
     "timestamp": 1637496498485,
     "user": {
      "displayName": "Nicolas Taba",
      "photoUrl": "https://lh3.googleusercontent.com/a-/AOh14GgGA9SnI4R5Et9M9EKoyPEtW0lGQ2uM2Oe93h3tIA=s64",
      "userId": "00004745109023396946"
     },
     "user_tz": -60
    },
    "id": "1PePlUMd3P5A"
   },
   "outputs": [],
   "source": [
    "# TODO: Enter code here to vectorize the data and store it in a variable `reviews`\n",
    "from sklearn.feature_extraction.text import TfidfVectorizer\n",
    "\n",
    "vectorizer = TfidfVectorizer(stop_words=\"english\")\n",
    "reviews = vectorizer.fit_transform(df[\"text\"])"
   ]
  },
  {
   "cell_type": "markdown",
   "metadata": {
    "id": "1R4m11Zt3P5A"
   },
   "source": [
    "Test your vectorization by running the following code cell:"
   ]
  },
  {
   "cell_type": "code",
   "execution_count": 8,
   "metadata": {
    "colab": {
     "base_uri": "https://localhost:8080/"
    },
    "executionInfo": {
     "elapsed": 10,
     "status": "ok",
     "timestamp": 1637496498486,
     "user": {
      "displayName": "Nicolas Taba",
      "photoUrl": "https://lh3.googleusercontent.com/a-/AOh14GgGA9SnI4R5Et9M9EKoyPEtW0lGQ2uM2Oe93h3tIA=s64",
      "userId": "00004745109023396946"
     },
     "user_tz": -60
    },
    "id": "IZsESM5C3P5B",
    "outputId": "2fd36a7a-b4ed-44c1-babd-55ea1241ed57"
   },
   "outputs": [
    {
     "data": {
      "text/plain": [
       "(11914, 46619)"
      ]
     },
     "execution_count": 8,
     "metadata": {},
     "output_type": "execute_result"
    }
   ],
   "source": [
    "reviews.shape"
   ]
  },
  {
   "cell_type": "markdown",
   "metadata": {
    "id": "Mi1zYhQa3P5B"
   },
   "source": [
    "If you used the English stop word list from scikit-learn, then the resulting vocabulary should have 46,619 entries."
   ]
  },
  {
   "cell_type": "markdown",
   "metadata": {
    "id": "QRoXDp6J3P5C"
   },
   "source": [
    "Next, cluster the vectorized data. Before doing so, you should read the documentation of the [KMeans](https://scikit-learn.org/stable/modules/generated/sklearn.cluster.KMeans.html) class, which is scikit-learn&rsquo;s implementation of the $k$-means algorithm. As you can see, this class has several parameters that you can tweak. For now, the only parameter that you will have to set is the number of clusters. We recommend that you choose $k=3$.\n",
    "\n",
    "**Tip:** Training $k$-means models will take some time. To speed things up, you can use the `n_init` parameter to control the number of times that the clustering is re-computed with different initial values. The default value for this parameter is 10; here and in the rest of this lab, you may want to set this to a lower value."
   ]
  },
  {
   "cell_type": "code",
   "execution_count": 9,
   "metadata": {
    "executionInfo": {
     "elapsed": 1517,
     "status": "ok",
     "timestamp": 1637496499997,
     "user": {
      "displayName": "Nicolas Taba",
      "photoUrl": "https://lh3.googleusercontent.com/a-/AOh14GgGA9SnI4R5Et9M9EKoyPEtW0lGQ2uM2Oe93h3tIA=s64",
      "userId": "00004745109023396946"
     },
     "user_tz": -60
    },
    "id": "FttYldX93P5C"
   },
   "outputs": [],
   "source": [
    "# TODO: Enter code here to cluster the vectorized data\n",
    "from sklearn.cluster import KMeans\n",
    "\n",
    "kmeans = KMeans(n_clusters=3, random_state=0).fit(reviews)"
   ]
  },
  {
   "cell_type": "markdown",
   "metadata": {
    "id": "6mMnfZdr3P5D"
   },
   "source": [
    "To sanity-check your clustering, create a bar plot with the number of documents per cluster."
   ]
  },
  {
   "cell_type": "code",
   "execution_count": 10,
   "metadata": {
    "colab": {
     "base_uri": "https://localhost:8080/",
     "height": 282
    },
    "executionInfo": {
     "elapsed": 422,
     "status": "ok",
     "timestamp": 1637496500416,
     "user": {
      "displayName": "Nicolas Taba",
      "photoUrl": "https://lh3.googleusercontent.com/a-/AOh14GgGA9SnI4R5Et9M9EKoyPEtW0lGQ2uM2Oe93h3tIA=s64",
      "userId": "00004745109023396946"
     },
     "user_tz": -60
    },
    "id": "kRlgX-pi3P5E",
    "outputId": "483892c2-e47d-42d8-dad6-4733ea55564d"
   },
   "outputs": [
    {
     "data": {
      "image/png": "[encoded data removed]",
      "text/plain": [
       "<Figure size 432x288 with 1 Axes>"
      ]
     },
     "metadata": {
      "needs_background": "light"
     },
     "output_type": "display_data"
    }
   ],
   "source": [
    "# TODO: Enter code here to produce a bar plot of the cluster size\n",
    "import matplotlib.pyplot as plt\n",
    "\n",
    "(unique, counts) = np.unique(kmeans.labels_, return_counts=True)\n",
    "\n",
    "plt.bar(unique, counts, tick_label=unique)\n",
    "plt.xlabel(\"cluster number\")\n",
    "plt.ylabel(\"document entries\")\n",
    "plt.show()"
   ]
  },
  {
   "cell_type": "markdown",
   "metadata": {
    "id": "zQIMlsHm3P5F"
   },
   "source": [
    "Note that sizes may vary considerable between clusters and among different random seeds."
   ]
  },
  {
   "cell_type": "markdown",
   "metadata": {
    "id": "STwM8tTe3P5F"
   },
   "source": [
    "## Problem 2: Summarize clusters"
   ]
  },
  {
   "cell_type": "markdown",
   "metadata": {
    "id": "XXOfcolx3P5F"
   },
   "source": [
    "Once you have a clustering, you can try to see whether it is meaningful. One useful technique in that context is to generate a **summary** for each cluster by extracting the $n$ highest-weighted terms from the centroid of each cluster. Your next task is to implement this approach.\n",
    "\n",
    "**Hint:** You will need to construct an &lsquo;inverted vocabulary&rsquo; that allows you to map from the index of a term back to the original term."
   ]
  },
  {
   "cell_type": "code",
   "execution_count": 11,
   "metadata": {
    "executionInfo": {
     "elapsed": 10,
     "status": "ok",
     "timestamp": 1637496500417,
     "user": {
      "displayName": "Nicolas Taba",
      "photoUrl": "https://lh3.googleusercontent.com/a-/AOh14GgGA9SnI4R5Et9M9EKoyPEtW0lGQ2uM2Oe93h3tIA=s64",
      "userId": "00004745109023396946"
     },
     "user_tz": -60
    },
    "id": "f_XA7WWp3P5G"
   },
   "outputs": [],
   "source": [
    "# TODO: Enter code here to compute the cluster summaries and print them\n",
    "import pprint\n",
    "\n",
    "n = 10\n",
    "inverted_vocab = {vectorizer.vocabulary_[k]:k for k in vectorizer.vocabulary_}\n",
    "\n",
    "def summarize_clusters(clusters_centers, n_terms):\n",
    "    highest_weighted_dict = {}\n",
    "    for num, cluster in enumerate(clusters_centers):\n",
    "        ind = np.argpartition(cluster, -n_terms)[-n_terms:]\n",
    "        n_highest_weighted_ind = ind[np.argsort(cluster[ind])]\n",
    "        highest_weighted_dict[num] = [inverted_vocab[i] for i in n_highest_weighted_ind]\n",
    "    return highest_weighted_dict        "
   ]
  },
  {
   "cell_type": "code",
   "execution_count": 12,
   "metadata": {
    "colab": {
     "base_uri": "https://localhost:8080/"
    },
    "executionInfo": {
     "elapsed": 10,
     "status": "ok",
     "timestamp": 1637496500418,
     "user": {
      "displayName": "Nicolas Taba",
      "photoUrl": "https://lh3.googleusercontent.com/a-/AOh14GgGA9SnI4R5Et9M9EKoyPEtW0lGQ2uM2Oe93h3tIA=s64",
      "userId": "00004745109023396946"
     },
     "user_tz": -60
    },
    "id": "Qiy5o52V3P5H",
    "outputId": "567b7d7a-05d9-47a7-eaaa-800e4ae90bcb"
   },
   "outputs": [
    {
     "name": "stdout",
     "output_type": "stream",
     "text": [
      "{0: ['great',\n",
      "     'quality',\n",
      "     'battery',\n",
      "     'flash',\n",
      "     'use',\n",
      "     'digital',\n",
      "     'canon',\n",
      "     'pictures',\n",
      "     'lens',\n",
      "     'camera'],\n",
      " 1: ['good',\n",
      "     'great',\n",
      "     'quot',\n",
      "     'music',\n",
      "     'just',\n",
      "     'cd',\n",
      "     'like',\n",
      "     'album',\n",
      "     'movie',\n",
      "     'book'],\n",
      " 2: ['time',\n",
      "     'just',\n",
      "     'work',\n",
      "     'used',\n",
      "     'program',\n",
      "     'great',\n",
      "     'does',\n",
      "     'software',\n",
      "     'use',\n",
      "     'product']}\n"
     ]
    }
   ],
   "source": [
    "highest_weighted_dict_3 = summarize_clusters(kmeans.cluster_centers_, n)\n",
    "pprint.pprint(highest_weighted_dict_3)"
   ]
  },
  {
   "cell_type": "markdown",
   "metadata": {
    "id": "wkKo2tqg3P5I"
   },
   "source": [
    "**A:** The highest weighted terms per cluster do not clearly project the corresponding category. While the first cluster seems to show a clear connection to the *camera*-category, the second cluster contains high-weighted terms such as \"music\", \"movie\" and \"book\" which doesn't conclude any clear category. The third cluster mostly contains terms that connect to the *software*-category, but it is not as clear as the first cluster."
   ]
  },
  {
   "cell_type": "markdown",
   "metadata": {
    "id": "oFYhKQZc3P5I"
   },
   "source": [
    "Once you have computed the cluster summaries, discuss their quality. Is it clear what the reviews in a given cluster are about? Which clusters are clearest? Which are less clear? Do the cluster summaries contain any unexpected terms? What happens if you re-cluster with, say, $k=6$?"
   ]
  },
  {
   "cell_type": "code",
   "execution_count": 13,
   "metadata": {
    "colab": {
     "base_uri": "https://localhost:8080/"
    },
    "executionInfo": {
     "elapsed": 5002,
     "status": "ok",
     "timestamp": 1637496505413,
     "user": {
      "displayName": "Nicolas Taba",
      "photoUrl": "https://lh3.googleusercontent.com/a-/AOh14GgGA9SnI4R5Et9M9EKoyPEtW0lGQ2uM2Oe93h3tIA=s64",
      "userId": "00004745109023396946"
     },
     "user_tz": -60
    },
    "id": "k-SPx8L03P5I",
    "outputId": "ff8ab0fb-adba-4e1b-fdec-6b31d14a36eb"
   },
   "outputs": [
    {
     "name": "stdout",
     "output_type": "stream",
     "text": [
      "{0: ['work',\n",
      "     'software',\n",
      "     'time',\n",
      "     'does',\n",
      "     'good',\n",
      "     'like',\n",
      "     'just',\n",
      "     'great',\n",
      "     'use',\n",
      "     'product'],\n",
      " 1: ['great',\n",
      "     'best',\n",
      "     'song',\n",
      "     'like',\n",
      "     'just',\n",
      "     'music',\n",
      "     'album',\n",
      "     'cd',\n",
      "     'book',\n",
      "     'quot'],\n",
      " 2: ['written',\n",
      "     'good',\n",
      "     'just',\n",
      "     'like',\n",
      "     'story',\n",
      "     'reading',\n",
      "     'author',\n",
      "     'books',\n",
      "     'read',\n",
      "     'book'],\n",
      " 3: ['acting',\n",
      "     'great',\n",
      "     'good',\n",
      "     'just',\n",
      "     'watch',\n",
      "     'story',\n",
      "     'like',\n",
      "     'movies',\n",
      "     'film',\n",
      "     'movie'],\n",
      " 4: ['great',\n",
      "     'quality',\n",
      "     'flash',\n",
      "     'battery',\n",
      "     'use',\n",
      "     'digital',\n",
      "     'canon',\n",
      "     'pictures',\n",
      "     'lens',\n",
      "     'camera'],\n",
      " 5: ['good',\n",
      "     'band',\n",
      "     'great',\n",
      "     'just',\n",
      "     'like',\n",
      "     'song',\n",
      "     'songs',\n",
      "     'music',\n",
      "     'cd',\n",
      "     'album']}\n"
     ]
    }
   ],
   "source": [
    "kmeans6 = KMeans(n_clusters=6, random_state=0).fit(reviews)\n",
    "\n",
    "highest_weighted_dict_6 = summarize_clusters(kmeans6.cluster_centers_, n)\n",
    "pprint.pprint(highest_weighted_dict_6)"
   ]
  },
  {
   "cell_type": "markdown",
   "metadata": {
    "id": "8IvZTOyJ3P5J"
   },
   "source": [
    "**A:** Using 6 clusters, we can observe a more clear cluster separation. Most of the clusters seem to have a clear term to category connection, but we can still observe some imperfect clusters. The second and the last cluster both seem to contain terms connected to the *music*-category. We can't find any cluster that represents the *health*-category. Also, eventhough the second cluster mostly contains music terms we can also see the term \"book\" inside the highest-weighted terms."
   ]
  },
  {
   "cell_type": "markdown",
   "metadata": {
    "id": "I3v4WD6E3P5J"
   },
   "source": [
    "## Problem 3: Compare clusterings using the Rand index"
   ]
  },
  {
   "cell_type": "markdown",
   "metadata": {
    "id": "aw_6nFMz3P5J"
   },
   "source": [
    "In some scenarios, you may have gold-standard class labels available for at least a subset of your documents. In these cases you can compute the **Rand index** of a clustering, and use this measure to compare the quality of different clusterings.\n",
    "\n",
    "To compute the Rand index, we view a clustering as a binary classifier on (unordered) pairs of documents. The classifier predicts &lsquo;positive&rsquo; if and only if the two documents belong to the same cluster. The (non-normalized) Rand index of the clustering is the accuracy of this classifier relative to a reference in which a document pair belongs to the &lsquo;positive&rsquo; class if and only if the two documents in the pair have the same gold-standard class label.\n",
    "\n",
    "Compare clusterings with $k \\in \\{1,3,5,7\\}$ clusters. As your evaluation data, use the first 500 documents from the original data set along with their gold-standard categories (from the `category` column). What do you observe? How do you interpret your observations?"
   ]
  },
  {
   "cell_type": "code",
   "execution_count": 14,
   "metadata": {
    "colab": {
     "base_uri": "https://localhost:8080/"
    },
    "executionInfo": {
     "elapsed": 10493,
     "status": "ok",
     "timestamp": 1637496516172,
     "user": {
      "displayName": "Nicolas Taba",
      "photoUrl": "https://lh3.googleusercontent.com/a-/AOh14GgGA9SnI4R5Et9M9EKoyPEtW0lGQ2uM2Oe93h3tIA=s64",
      "userId": "00004745109023396946"
     },
     "user_tz": -60
    },
    "id": "IqYGPQB53P5J",
    "outputId": "62da11e3-567b-43c2-fc1c-1cf021cf776b"
   },
   "outputs": [
    {
     "name": "stdout",
     "output_type": "stream",
     "text": [
      "k = 1\n",
      "Rand Index = 0.16626052104208416\n",
      "#######################################\n",
      "\n",
      "k = 3\n",
      "Rand Index = 0.6892985971943888\n",
      "#######################################\n",
      "\n",
      "k = 5\n",
      "Rand Index = 0.6833827655310621\n",
      "#######################################\n",
      "\n",
      "k = 7\n",
      "Rand Index = 0.756745490981964\n",
      "#######################################\n",
      "\n"
     ]
    }
   ],
   "source": [
    "# TODO: Enter code here to compute the Rand indices for the two clusterings\n",
    "from sklearn.metrics.cluster import rand_score\n",
    "\n",
    "test_data_y = df[0:500][\"category\"]\n",
    "\n",
    "kmeans1 = KMeans(n_clusters=1, random_state=0).fit(reviews)\n",
    "kmeans3 = KMeans(n_clusters=3, random_state=0).fit(reviews)\n",
    "kmeans5 = KMeans(n_clusters=5, random_state=0).fit(reviews)\n",
    "kmeans7 = KMeans(n_clusters=7, random_state=0).fit(reviews)\n",
    "\n",
    "clusters1 = kmeans1.predict(reviews[0:500])\n",
    "clusters3 = kmeans3.predict(reviews[0:500])\n",
    "clusters5 = kmeans5.predict(reviews[0:500])\n",
    "clusters7 = kmeans7.predict(reviews[0:500])\n",
    "\n",
    "rand1 = rand_score(test_data_y, clusters1)\n",
    "rand3 = rand_score(test_data_y, clusters3)\n",
    "rand5 = rand_score(test_data_y, clusters5)\n",
    "rand7 = rand_score(test_data_y, clusters7)\n",
    "\n",
    "ks = [1,3,5,7]\n",
    "rand_scores = [rand1, rand3, rand5, rand7]\n",
    "for i, k in enumerate(ks):\n",
    "    print(f\"k = {k}\\nRand Index = {rand_scores[i]}\")\n",
    "    print(\"#######################################\\n\")"
   ]
  },
  {
   "cell_type": "markdown",
   "metadata": {
    "id": "bepWFF-b3P5K"
   },
   "source": [
    "**A:** \n",
    "- For *k=1* we observe very bad results since all documents are assigned to the same cluster\n",
    "- For *k=3* and *k=5* we observe very similar results in terms of accuracy.\n",
    "- For *k=7* we observe the best results in comparison to all other models. \n",
    "\n",
    "The unadjusted Rand index is proportional to the number of sample pairs whose labels are the same in both labels_pred and labels_true, or are different in both. (https://scikit-learn.org/stable/modules/clustering.html#rand-score)"
   ]
  },
  {
   "cell_type": "markdown",
   "metadata": {
    "id": "f_72NqBL3P5K"
   },
   "source": [
    "## Topic modelling data set"
   ]
  },
  {
   "cell_type": "markdown",
   "metadata": {
    "id": "aIhctVJc3P5K"
   },
   "source": [
    "The data set for the topic modelling part of this lab is the collection of all [State of the Union](https://en.wikipedia.org/wiki/State_of_the_Union) addresses from the years 1975–2000. These speeches come as a single text file with one sentence per line. The following code cell prints the first 5 lines from the data file:"
   ]
  },
  {
   "cell_type": "code",
   "execution_count": 15,
   "metadata": {
    "colab": {
     "base_uri": "https://localhost:8080/"
    },
    "executionInfo": {
     "elapsed": 407,
     "status": "ok",
     "timestamp": 1637496516566,
     "user": {
      "displayName": "Nicolas Taba",
      "photoUrl": "https://lh3.googleusercontent.com/a-/AOh14GgGA9SnI4R5Et9M9EKoyPEtW0lGQ2uM2Oe93h3tIA=s64",
      "userId": "00004745109023396946"
     },
     "user_tz": -60
    },
    "id": "Mf9PTy573P5L",
    "outputId": "71c87856-5764-4c21-9269-28f1fd9ab89d"
   },
   "outputs": [
    {
     "name": "stdout",
     "output_type": "stream",
     "text": [
      "mr speaker mr vice president members of the 94th congress and distinguished guests\n",
      "twenty six years ago a freshman congressman a young fellow with lots of idealism who was out to change the world stood before sam rayburn in the well of the house and solemnly swore to the same oath that all of you took yesterday an unforgettable experience and i congratulate you all\n",
      "two days later that same freshman stood at the back of this great chamber over there someplace as president truman all charged up by his single handed election victory reported as the constitution requires on the state of the union\n",
      "when the bipartisan applause stopped president truman said i am happy to report to this 81st congress that the state of the union is good our nation is better able than ever before to meet the needs of the american people and to give them their fair chance in the pursuit of happiness it is foremost among the nations of the world in the search for peace\n",
      "today that freshman member from michigan stands where mr truman stood and i must say to you that the state of the union is not good\n",
      "millions of americans are out of work\n"
     ]
    }
   ],
   "source": [
    "with open('sotu_1975_2000.txt') as source:\n",
    "    for i, line in enumerate(source):\n",
    "        print(line.rstrip())\n",
    "        if i >= 5:\n",
    "            break"
   ]
  },
  {
   "cell_type": "markdown",
   "metadata": {
    "id": "uC6ZWzut3P5L"
   },
   "source": [
    "Take a few minutes to think about what topics you would expect in this data set.\n",
    "\n",
    "**A:** Given the information from the Wikipedia article we expect the following topics: nation's budget, economy, news, agenda, achievements,..."
   ]
  },
  {
   "cell_type": "markdown",
   "metadata": {
    "id": "Td7CT4rQ3P5M"
   },
   "source": [
    "## Problem 4: Train a topic model"
   ]
  },
  {
   "cell_type": "markdown",
   "metadata": {
    "id": "8n6D9lN73P5M"
   },
   "source": [
    "Your first task on the topic modelling data is to train an LDA model. For this task you will be using [spaCy](https://spacy.io/) and the [gensim](https://radimrehurek.com/gensim/) topic modelling library.\n",
    "\n",
    "Start by preprocessing the data using spaCy. Given that the data set for this problem is rather small, you do not have to exclude any components from the standard pipeline. Filter out stop words, non-alphabetic tokens, and tokens less than 3 characters in length. Store the documents as a nested list where the first level of nesting corresponds to the sentences and the second level corresponds to the tokens in each sentence."
   ]
  },
  {
   "cell_type": "code",
   "execution_count": 16,
   "metadata": {
    "executionInfo": {
     "elapsed": 2494,
     "status": "ok",
     "timestamp": 1637496519059,
     "user": {
      "displayName": "Nicolas Taba",
      "photoUrl": "https://lh3.googleusercontent.com/a-/AOh14GgGA9SnI4R5Et9M9EKoyPEtW0lGQ2uM2Oe93h3tIA=s64",
      "userId": "00004745109023396946"
     },
     "user_tz": -60
    },
    "id": "x__lhs9X3P5M"
   },
   "outputs": [],
   "source": [
    "# TODO: Replace the following lines with your own code for preprocessing the documents\n",
    "import spacy\n",
    "#from gensim import corpora, models, similarities, downloader\n",
    "\n",
    "nlp = spacy.load(\"en_core_web_sm\", disable=[\"tagger\", \"parser\", \"ner\"])\n",
    "def preprocess(text):\n",
    "    doc = nlp(text)\n",
    "    return [token.text for token in doc if not token.is_stop and token.lemma_.isalpha() and len(token)>=3]\n",
    "\n",
    "with open('sotu_1975_2000.txt') as source:\n",
    "    documents = [preprocess(line) for line in source]"
   ]
  },
  {
   "cell_type": "markdown",
   "metadata": {
    "id": "KPtXUFaE3P5M"
   },
   "source": [
    "Test your preprocessing by running the following cell:"
   ]
  },
  {
   "cell_type": "code",
   "execution_count": 17,
   "metadata": {
    "colab": {
     "base_uri": "https://localhost:8080/",
     "height": 36
    },
    "executionInfo": {
     "elapsed": 16,
     "status": "ok",
     "timestamp": 1637496519060,
     "user": {
      "displayName": "Nicolas Taba",
      "photoUrl": "https://lh3.googleusercontent.com/a-/AOh14GgGA9SnI4R5Et9M9EKoyPEtW0lGQ2uM2Oe93h3tIA=s64",
      "userId": "00004745109023396946"
     },
     "user_tz": -60
    },
    "id": "rE1z0R1W3P5N",
    "outputId": "d1a50acb-9df8-4b53-e9e1-b4adf42d5ff6"
   },
   "outputs": [
    {
     "data": {
      "application/vnd.google.colaboratory.intrinsic+json": {
       "type": "string"
      },
      "text/plain": [
       "'reduce oil imports million barrels day end year million barrels day end'"
      ]
     },
     "execution_count": 17,
     "metadata": {},
     "output_type": "execute_result"
    }
   ],
   "source": [
    "' '.join(documents[42])"
   ]
  },
  {
   "cell_type": "markdown",
   "metadata": {
    "id": "ZXMEqsZe3P5N"
   },
   "source": [
    "You should get the following output:"
   ]
  },
  {
   "cell_type": "raw",
   "metadata": {
    "id": "vhOp5SZ63P5N"
   },
   "source": [
    "'reduce oil imports million barrels day end year million barrels day end'"
   ]
  },
  {
   "cell_type": "markdown",
   "metadata": {
    "id": "7vEA6eOZ3P5N"
   },
   "source": [
    "Once you have the list of documents, skim the section [Pre-process and vectorize the documents](https://radimrehurek.com/gensim/auto_examples/tutorials/run_lda.html#pre-process-and-vectorize-the-documents) of the gensim documentation to learn how to create the dictionary and the vectorized corpus representation required by gensim. (Note that you cannot use the standard scikit-learn pipeline in this case.) Then, write code to train an [LdaModel](https://radimrehurek.com/gensim/models/ldamodel.html) for $k=10$ topics, and using default values for all other parameters."
   ]
  },
  {
   "cell_type": "code",
   "execution_count": 18,
   "metadata": {
    "colab": {
     "base_uri": "https://localhost:8080/"
    },
    "executionInfo": {
     "elapsed": 937,
     "status": "ok",
     "timestamp": 1637496519984,
     "user": {
      "displayName": "Nicolas Taba",
      "photoUrl": "https://lh3.googleusercontent.com/a-/AOh14GgGA9SnI4R5Et9M9EKoyPEtW0lGQ2uM2Oe93h3tIA=s64",
      "userId": "00004745109023396946"
     },
     "user_tz": -60
    },
    "id": "sZv9nuxI3P5N",
    "outputId": "e9c77a9b-7d48-4e6f-a657-31f896b25a35"
   },
   "outputs": [
    {
     "name": "stderr",
     "output_type": "stream",
     "text": [
      "/usr/local/lib/python3.7/dist-packages/gensim/models/phrases.py:598: UserWarning: For a faster implementation, use the gensim.models.phrases.Phraser class\n",
      "  warnings.warn(\"For a faster implementation, use the gensim.models.phrases.Phraser class\")\n"
     ]
    }
   ],
   "source": [
    "# TODO: Enter code here to train an LDA model and store it in a variable `model`\n",
    "\n",
    "# Compute bigrams.\n",
    "from gensim.models import Phrases\n",
    "\n",
    "# Add bigrams and trigrams to docs (only ones that appear 20 times or more).\n",
    "bigram = Phrases(documents, min_count=20)\n",
    "for idx in range(len(documents)):\n",
    "    for token in bigram[documents[idx]]:\n",
    "        if '_' in token:\n",
    "            # Token is a bigram, add to document.\n",
    "            documents[idx].append(token)"
   ]
  },
  {
   "cell_type": "code",
   "execution_count": 19,
   "metadata": {
    "executionInfo": {
     "elapsed": 378,
     "status": "ok",
     "timestamp": 1637496520359,
     "user": {
      "displayName": "Nicolas Taba",
      "photoUrl": "https://lh3.googleusercontent.com/a-/AOh14GgGA9SnI4R5Et9M9EKoyPEtW0lGQ2uM2Oe93h3tIA=s64",
      "userId": "00004745109023396946"
     },
     "user_tz": -60
    },
    "id": "wHhWCaQ53P5O"
   },
   "outputs": [],
   "source": [
    "# Remove rare and common tokens.\n",
    "from gensim.corpora import Dictionary\n",
    "\n",
    "# Create a dictionary representation of the documents.\n",
    "dictionary = Dictionary(documents)\n",
    "\n",
    "# Filter out words that occur less than 20 documents, or more than 50% of the documents.\n",
    "dictionary.filter_extremes(no_below=20, no_above=0.5)"
   ]
  },
  {
   "cell_type": "code",
   "execution_count": 20,
   "metadata": {
    "executionInfo": {
     "elapsed": 6,
     "status": "ok",
     "timestamp": 1637496520360,
     "user": {
      "displayName": "Nicolas Taba",
      "photoUrl": "https://lh3.googleusercontent.com/a-/AOh14GgGA9SnI4R5Et9M9EKoyPEtW0lGQ2uM2Oe93h3tIA=s64",
      "userId": "00004745109023396946"
     },
     "user_tz": -60
    },
    "id": "ODIuQWZj3P5O"
   },
   "outputs": [],
   "source": [
    "# Bag-of-words representation of the documents.\n",
    "corpus = [dictionary.doc2bow(doc) for doc in documents]"
   ]
  },
  {
   "cell_type": "code",
   "execution_count": 21,
   "metadata": {
    "colab": {
     "base_uri": "https://localhost:8080/"
    },
    "executionInfo": {
     "elapsed": 6,
     "status": "ok",
     "timestamp": 1637496520361,
     "user": {
      "displayName": "Nicolas Taba",
      "photoUrl": "https://lh3.googleusercontent.com/a-/AOh14GgGA9SnI4R5Et9M9EKoyPEtW0lGQ2uM2Oe93h3tIA=s64",
      "userId": "00004745109023396946"
     },
     "user_tz": -60
    },
    "id": "zbSC58y43P5O",
    "outputId": "7a1fcfe7-5abb-4ada-ce0a-3fb8af5ec5cc"
   },
   "outputs": [
    {
     "name": "stdout",
     "output_type": "stream",
     "text": [
      "Number of unique tokens: 740\n",
      "Number of documents: 2898\n"
     ]
    }
   ],
   "source": [
    "print('Number of unique tokens: %d' % len(dictionary))\n",
    "print('Number of documents: %d' % len(corpus))"
   ]
  },
  {
   "cell_type": "code",
   "execution_count": 22,
   "metadata": {
    "executionInfo": {
     "elapsed": 1882,
     "status": "ok",
     "timestamp": 1637496522239,
     "user": {
      "displayName": "Nicolas Taba",
      "photoUrl": "https://lh3.googleusercontent.com/a-/AOh14GgGA9SnI4R5Et9M9EKoyPEtW0lGQ2uM2Oe93h3tIA=s64",
      "userId": "00004745109023396946"
     },
     "user_tz": -60
    },
    "id": "JajApRkf3P5O"
   },
   "outputs": [],
   "source": [
    "# Train LDA model.\n",
    "from gensim.models import LdaModel\n",
    "\n",
    "# Set training parameters.\n",
    "num_topics = 10\n",
    "\n",
    "# Make a index to word dictionary.\n",
    "temp = dictionary[0]  # This is only to \"load\" the dictionary.\n",
    "id2word = dictionary.id2token\n",
    "\n",
    "model = LdaModel(\n",
    "    corpus=corpus,\n",
    "    id2word=id2word,\n",
    "    num_topics=num_topics,\n",
    ")"
   ]
  },
  {
   "cell_type": "markdown",
   "metadata": {
    "id": "8S-5x5GH3P5O"
   },
   "source": [
    "Once you have a trained model, run the following cell to print the topics:"
   ]
  },
  {
   "cell_type": "code",
   "execution_count": 23,
   "metadata": {
    "colab": {
     "base_uri": "https://localhost:8080/"
    },
    "executionInfo": {
     "elapsed": 391,
     "status": "ok",
     "timestamp": 1637496522627,
     "user": {
      "displayName": "Nicolas Taba",
      "photoUrl": "https://lh3.googleusercontent.com/a-/AOh14GgGA9SnI4R5Et9M9EKoyPEtW0lGQ2uM2Oe93h3tIA=s64",
      "userId": "00004745109023396946"
     },
     "user_tz": -60
    },
    "id": "x5nCe3OL3P5P",
    "outputId": "7f36db07-2bbb-46f6-e845-ba178f067f39"
   },
   "outputs": [
    {
     "data": {
      "text/plain": [
       "[(0,\n",
       "  '0.026*\"year\" + 0.014*\"new\" + 0.013*\"let\" + 0.013*\"years\" + 0.011*\"help\" + 0.011*\"people\" + 0.011*\"americans\" + 0.010*\"congress\" + 0.010*\"government\" + 0.009*\"education\"'),\n",
       " (1,\n",
       "  '0.032*\"work\" + 0.022*\"people\" + 0.019*\"budget\" + 0.018*\"welfare\" + 0.016*\"america\" + 0.015*\"let\" + 0.015*\"americans\" + 0.015*\"child\" + 0.013*\"security\" + 0.012*\"care\"'),\n",
       " (2,\n",
       "  '0.026*\"congress\" + 0.020*\"children\" + 0.017*\"ask\" + 0.015*\"new\" + 0.012*\"pass\" + 0.012*\"legislation\" + 0.011*\"year\" + 0.009*\"support\" + 0.009*\"america\" + 0.008*\"bill\"'),\n",
       " (3,\n",
       "  '0.026*\"america\" + 0.020*\"people\" + 0.019*\"years\" + 0.016*\"year\" + 0.012*\"government\" + 0.012*\"responsibility\" + 0.010*\"new\" + 0.010*\"thank\" + 0.009*\"nation\" + 0.009*\"work\"'),\n",
       " (4,\n",
       "  '0.023*\"know\" + 0.015*\"children\" + 0.013*\"union\" + 0.012*\"new\" + 0.011*\"state\" + 0.011*\"tonight\" + 0.011*\"school\" + 0.011*\"energy\" + 0.010*\"people\" + 0.010*\"need\"'),\n",
       " (5,\n",
       "  '0.019*\"people\" + 0.016*\"years\" + 0.016*\"school\" + 0.016*\"work\" + 0.016*\"challenge\" + 0.014*\"american\" + 0.013*\"america\" + 0.013*\"support\" + 0.013*\"children\" + 0.013*\"congress\"'),\n",
       " (6,\n",
       "  '0.022*\"children\" + 0.019*\"congress\" + 0.019*\"president\" + 0.017*\"states\" + 0.017*\"new\" + 0.017*\"united\" + 0.015*\"world\" + 0.015*\"united_states\" + 0.013*\"america\" + 0.011*\"vice_president\"'),\n",
       " (7,\n",
       "  '0.019*\"peace\" + 0.018*\"new\" + 0.018*\"people\" + 0.017*\"government\" + 0.016*\"world\" + 0.015*\"america\" + 0.012*\"nuclear\" + 0.011*\"american\" + 0.011*\"weapons\" + 0.010*\"middle\"'),\n",
       " (8,\n",
       "  '0.030*\"new\" + 0.018*\"care\" + 0.016*\"health\" + 0.015*\"people\" + 0.015*\"american\" + 0.011*\"america\" + 0.009*\"need\" + 0.009*\"year\" + 0.009*\"americans\" + 0.009*\"work\"'),\n",
       " (9,\n",
       "  '0.024*\"years\" + 0.023*\"world\" + 0.020*\"america\" + 0.011*\"americans\" + 0.011*\"economic\" + 0.010*\"tonight\" + 0.009*\"nation\" + 0.009*\"century\" + 0.009*\"new\" + 0.009*\"ago\"')]"
      ]
     },
     "execution_count": 23,
     "metadata": {},
     "output_type": "execute_result"
    }
   ],
   "source": [
    "model.print_topics()"
   ]
  },
  {
   "cell_type": "markdown",
   "metadata": {
    "id": "ReP2luCM3P5P"
   },
   "source": [
    "Inspect the topics. Can you &lsquo;label&rsquo; each topic with a short description of what it is about? Do the topics match your expectations? Summarize your discussion in a short text."
   ]
  },
  {
   "cell_type": "markdown",
   "metadata": {
    "id": "bncCxu-93P5P"
   },
   "source": [
    "**A**\n",
    "\n",
    "* Topic 2 seems to deal with a passing legislation\n",
    "* Topic 7 seems to talk about american intervention in the middle east\n",
    "\n",
    "All other topics are difficult to label with the word \"year\"/ \"years\" appearing often in different categories as the words \"america\"/\"americans\". This is somewhat expected as the state of the union focuses generally on the United States and its position in the world as addressed by the current presidency. We recognize a lot of those words in different topics. However, there is no clear topics that can be clearly seen with topical words mixing between clustered topics."
   ]
  },
  {
   "cell_type": "markdown",
   "metadata": {
    "id": "SmNtNbtc3P5P"
   },
   "source": [
    "## Problem 5: Monitor a topic model for convergence"
   ]
  },
  {
   "cell_type": "markdown",
   "metadata": {
    "id": "Ys8sEgqo3P5P"
   },
   "source": [
    "When learning an LDA model, it is important to make sure that the training algorithm has converged to a stable posterior distribution. One way to do so is to plot, after each training epochs (or &lsquo;pass&rsquo;, in gensim parlance) the log likelihood of the training data under the posterior. Your last task in this lab is to create such a plot and, based on this, to suggest an appropriate number of epochs.\n",
    "\n",
    "To collect information about the posterior likelihood after each pass, we need to enable the logging facilities of gensim. Once this is done, gensim will add various diagnostics to a log file `gensim.log`."
   ]
  },
  {
   "cell_type": "code",
   "execution_count": 24,
   "metadata": {
    "executionInfo": {
     "elapsed": 7,
     "status": "ok",
     "timestamp": 1637496522627,
     "user": {
      "displayName": "Nicolas Taba",
      "photoUrl": "https://lh3.googleusercontent.com/a-/AOh14GgGA9SnI4R5Et9M9EKoyPEtW0lGQ2uM2Oe93h3tIA=s64",
      "userId": "00004745109023396946"
     },
     "user_tz": -60
    },
    "id": "qUxdiWwY3P5P"
   },
   "outputs": [],
   "source": [
    "import logging\n",
    "\n",
    "logging.basicConfig(filename='gensim.log', format='%(asctime)s:%(levelname)s:%(message)s', level=logging.INFO)"
   ]
  },
  {
   "cell_type": "markdown",
   "metadata": {
    "id": "OxZ9kVVX3P5Q"
   },
   "source": [
    "The following function will parse the generated logfile and return the list of log likelihoods."
   ]
  },
  {
   "cell_type": "code",
   "execution_count": 25,
   "metadata": {
    "executionInfo": {
     "elapsed": 7,
     "status": "ok",
     "timestamp": 1637496522628,
     "user": {
      "displayName": "Nicolas Taba",
      "photoUrl": "https://lh3.googleusercontent.com/a-/AOh14GgGA9SnI4R5Et9M9EKoyPEtW0lGQ2uM2Oe93h3tIA=s64",
      "userId": "00004745109023396946"
     },
     "user_tz": -60
    },
    "id": "1a2PCpjB3P5Q"
   },
   "outputs": [],
   "source": [
    "import re\n",
    "\n",
    "def parse_logfile():\n",
    "    matcher = re.compile('(-*\\d+\\.\\d+) per-word .* (\\d+\\.\\d+) perplexity')\n",
    "    likelihoods = []\n",
    "    with open('gensim.log') as source:\n",
    "        for line in source:\n",
    "            match = matcher.search(line)\n",
    "            if match:\n",
    "                likelihoods.append(float(match.group(1)))\n",
    "    return likelihoods"
   ]
  },
  {
   "cell_type": "markdown",
   "metadata": {
    "id": "-eluj_t43P5Q"
   },
   "source": [
    "Your task now is to re-train your LDA model for 50&nbsp;passes, retrieve the list of log likelihoods, and create a plot from this data."
   ]
  },
  {
   "cell_type": "code",
   "execution_count": 27,
   "metadata": {
    "executionInfo": {
     "elapsed": 58120,
     "status": "ok",
     "timestamp": 1637497558659,
     "user": {
      "displayName": "Nicolas Taba",
      "photoUrl": "https://lh3.googleusercontent.com/a-/AOh14GgGA9SnI4R5Et9M9EKoyPEtW0lGQ2uM2Oe93h3tIA=s64",
      "userId": "00004745109023396946"
     },
     "user_tz": -60
    },
    "id": "tAP0UYkE3P5Q"
   },
   "outputs": [],
   "source": [
    "# TODO: Enter code here to generate the convergence plot\n",
    "lda_50 = LdaModel(\n",
    "    corpus=corpus,\n",
    "    id2word=id2word,\n",
    "    num_topics=num_topics,\n",
    "    passes = 50\n",
    ")\n",
    "\n",
    "likelihood = parse_logfile()"
   ]
  },
  {
   "cell_type": "code",
   "execution_count": 28,
   "metadata": {
    "colab": {
     "base_uri": "https://localhost:8080/",
     "height": 280
    },
    "executionInfo": {
     "elapsed": 288,
     "status": "ok",
     "timestamp": 1637500074739,
     "user": {
      "displayName": "Nicolas Taba",
      "photoUrl": "https://lh3.googleusercontent.com/a-/AOh14GgGA9SnI4R5Et9M9EKoyPEtW0lGQ2uM2Oe93h3tIA=s64",
      "userId": "00004745109023396946"
     },
     "user_tz": -60
    },
    "id": "JfUIBYLImcPK",
    "outputId": "efd458e7-2033-4c7c-ee2d-8f0fec49ef5d"
   },
   "outputs": [
    {
     "data": {
      "image/png": "[encoded data removed]",
      "text/plain": [
       "<Figure size 432x288 with 1 Axes>"
      ]
     },
     "metadata": {
      "needs_background": "light"
     },
     "output_type": "display_data"
    }
   ],
   "source": [
    "# Plotting\n",
    "\n",
    "plt.plot(range(len(likelihood)), likelihood)\n",
    "plt.xlabel(\"epoch\")\n",
    "plt.ylabel(\"likelihood\")\n",
    "plt.show()"
   ]
  },
  {
   "cell_type": "markdown",
   "metadata": {
    "id": "QYAtqS383P5Q"
   },
   "source": [
    "How do you interpret your plot? Based on the plot, what would be a reasonable choice for the number of passes? Retrain your LDA model with that number and re-inspect the topics it finds. Do you consider the new topics to be &lsquo;better&rsquo; than the ones that you got from the 1-pass model in Problem&nbsp;5?"
   ]
  },
  {
   "cell_type": "markdown",
   "metadata": {
    "id": "qqmcY70e3P5Q"
   },
   "source": [
    "There is little improvement in the likelihood value past 20 epochs. We assume that making more passes than that will lead to only marginal improvement in the topic clustering. We will perform the same LDA model with only 20 passes this time and inspect the topics."
   ]
  },
  {
   "cell_type": "code",
   "execution_count": 29,
   "metadata": {
    "colab": {
     "base_uri": "https://localhost:8080/"
    },
    "executionInfo": {
     "elapsed": 26735,
     "status": "ok",
     "timestamp": 1637500487691,
     "user": {
      "displayName": "Nicolas Taba",
      "photoUrl": "https://lh3.googleusercontent.com/a-/AOh14GgGA9SnI4R5Et9M9EKoyPEtW0lGQ2uM2Oe93h3tIA=s64",
      "userId": "00004745109023396946"
     },
     "user_tz": -60
    },
    "id": "bdEfPt2moT3h",
    "outputId": "d827d18a-9868-44e8-f68a-cf3bb2700050"
   },
   "outputs": [
    {
     "data": {
      "text/plain": [
       "[(0,\n",
       "  '0.035*\"energy\" + 0.035*\"years\" + 0.025*\"ago\" + 0.022*\"new\" + 0.019*\"years_ago\" + 0.017*\"national\" + 0.017*\"nation\" + 0.015*\"world\" + 0.014*\"year\" + 0.012*\"local\"'),\n",
       " (1,\n",
       "  '0.048*\"work\" + 0.037*\"welfare\" + 0.024*\"people\" + 0.023*\"americans\" + 0.022*\"year\" + 0.022*\"family\" + 0.021*\"families\" + 0.021*\"reform\" + 0.015*\"want\" + 0.014*\"income\"'),\n",
       " (2,\n",
       "  '0.026*\"schools\" + 0.023*\"school\" + 0.023*\"children\" + 0.022*\"america\" + 0.020*\"people\" + 0.019*\"state\" + 0.018*\"tonight\" + 0.016*\"good\" + 0.015*\"union\" + 0.014*\"know\"'),\n",
       " (3,\n",
       "  '0.038*\"federal\" + 0.033*\"congress\" + 0.030*\"government\" + 0.027*\"programs\" + 0.024*\"budget\" + 0.019*\"administration\" + 0.018*\"year\" + 0.013*\"program\" + 0.012*\"spending\" + 0.012*\"years\"'),\n",
       " (4,\n",
       "  '0.039*\"world\" + 0.032*\"peace\" + 0.024*\"united\" + 0.022*\"states\" + 0.022*\"america\" + 0.020*\"united_states\" + 0.019*\"nations\" + 0.016*\"soviet\" + 0.016*\"freedom\" + 0.014*\"international\"'),\n",
       " (5,\n",
       "  '0.032*\"new\" + 0.025*\"private\" + 0.017*\"education\" + 0.017*\"jobs\" + 0.016*\"congress\" + 0.015*\"help\" + 0.015*\"community\" + 0.014*\"need\" + 0.014*\"ask\" + 0.013*\"business\"'),\n",
       " (6,\n",
       "  '0.039*\"people\" + 0.038*\"america\" + 0.033*\"american\" + 0.025*\"new\" + 0.020*\"know\" + 0.019*\"government\" + 0.016*\"let\" + 0.015*\"americans\" + 0.015*\"crime\" + 0.014*\"way\"'),\n",
       " (7,\n",
       "  '0.040*\"tax\" + 0.030*\"years\" + 0.029*\"percent\" + 0.024*\"cut\" + 0.023*\"economic\" + 0.022*\"growth\" + 0.021*\"inflation\" + 0.020*\"president\" + 0.020*\"rate\" + 0.018*\"deficit\"'),\n",
       " (8,\n",
       "  '0.070*\"children\" + 0.068*\"health\" + 0.066*\"care\" + 0.029*\"health_care\" + 0.029*\"child\" + 0.026*\"parents\" + 0.023*\"medicare\" + 0.020*\"insurance\" + 0.016*\"people\" + 0.015*\"families\"'),\n",
       " (9,\n",
       "  '0.052*\"security\" + 0.032*\"social\" + 0.024*\"social_security\" + 0.020*\"century\" + 0.016*\"america\" + 0.016*\"new\" + 0.015*\"tonight\" + 0.013*\"meet\" + 0.013*\"challenge\" + 0.012*\"long\"')]"
      ]
     },
     "execution_count": 29,
     "metadata": {},
     "output_type": "execute_result"
    }
   ],
   "source": [
    "lda_20 = LdaModel(\n",
    "    corpus=corpus,\n",
    "    id2word=id2word,\n",
    "    num_topics=num_topics,\n",
    "    passes = 20\n",
    ")\n",
    "\n",
    "lda_20.print_topics()"
   ]
  },
  {
   "cell_type": "markdown",
   "metadata": {
    "id": "RTV1jVBkouyY"
   },
   "source": [
    "We get better results with the 20 passes. The topics are better defined although we still observe some words appearing such as \"year\" in the first topic.\n",
    "Otherwise, the topics are nation, family, school/children, ogvernment and administration, nation/state, americans, taxation, healthcare, security."
   ]
  },
  {
   "cell_type": "markdown",
   "metadata": {
    "id": "LuBIYm443P5R"
   },
   "source": [
    "<div class=\"alert alert-info\">\n",
    "    Please read the section ‘General information’ on the ‘Labs’ page of the course website before submitting this notebook!\n",
    "</div>"
   ]
  }
 ],
 "metadata": {
  "colab": {
   "collapsed_sections": [],
   "name": "TM-L3.ipynb",
   "provenance": []
  },
  "kernelspec": {
   "display_name": "Python 3 (ipykernel)",
   "language": "python",
   "name": "python3"
  },
  "language_info": {
   "codemirror_mode": {
    "name": "ipython",
    "version": 3
   },
   "file_extension": ".py",
   "mimetype": "text/x-python",
   "name": "python",
   "nbconvert_exporter": "python",
   "pygments_lexer": "ipython3",
   "version": "3.7.0"
  }
 },
 "nbformat": 4,
 "nbformat_minor": 1
}
