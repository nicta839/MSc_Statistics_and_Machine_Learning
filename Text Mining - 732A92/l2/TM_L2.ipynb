{
  "nbformat": 4,
  "nbformat_minor": 0,
  "metadata": {
    "kernelspec": {
      "display_name": "Python 3 (ipykernel)",
      "language": "python",
      "name": "python3"
    },
    "language_info": {
      "codemirror_mode": {
        "name": "ipython",
        "version": 3
      },
      "file_extension": ".py",
      "mimetype": "text/x-python",
      "name": "python",
      "nbconvert_exporter": "python",
      "pygments_lexer": "ipython3",
      "version": "3.7.0"
    },
    "colab": {
      "name": "TM_L2_stopwords.ipynb",
      "provenance": [],
      "collapsed_sections": []
    }
  },
  "cells": [
    {
      "cell_type": "markdown",
      "metadata": {
        "id": "TxYzXXvtN25B"
      },
      "source": [
        "# L2: Text classification"
      ]
    },
    {
      "cell_type": "markdown",
      "metadata": {
        "id": "qENNrj1xN25H"
      },
      "source": [
        "Text classification is the task of sorting text documents into predefined classes. The concrete problem you will be working on in this lab is the classification of texts with respect to their political affiliation. The specific texts you are going to classify are speeches held in the [Riksdag](https://www.riksdagen.se/en/), the Swedish national legislature."
      ]
    },
    {
      "cell_type": "markdown",
      "metadata": {
        "id": "IJSuB6FtN25I"
      },
      "source": [
        "**Before starting with this lab, here is a quick reminder about our [Rules for hand-in assignments](https://www.ida.liu.se/~TDDE16/exam.en.shtml#handins) and the [Policy on cheating and plagiarism](https://www.ida.liu.se/~TDDE16/exam.en.shtml#cheating).**"
      ]
    },
    {
      "cell_type": "markdown",
      "metadata": {
        "id": "Tuj4hkbNN25J"
      },
      "source": [
        "## Data set"
      ]
    },
    {
      "cell_type": "markdown",
      "metadata": {
        "id": "4HFrOTnZN25J"
      },
      "source": [
        "The raw data for this lab comes from [The Riksdag’s Open Data](https://data.riksdagen.se/in-english/). We have tokenized the speeches and put them into two compressed [JSON](https://en.wikipedia.org/wiki/JSON) files:\n",
        "\n",
        "* `speeches-201718.json.bz2` (speeches from the 2017/2018 parliamentary session)\n",
        "* `speeches-201819.json.bz2` (ditto, from the 2018/2019 session)\n",
        "\n",
        "We start by loading these files into two separate data frames."
      ]
    },
    {
      "cell_type": "code",
      "metadata": {
        "colab": {
          "base_uri": "https://localhost:8080/"
        },
        "id": "I8I4zqt1ObOM",
        "outputId": "d9460719-e6d5-45a6-96fc-e2a3f53551bd"
      },
      "source": [
        "from google.colab import drive\n",
        "drive.mount('/content/drive')"
      ],
      "execution_count": 1,
      "outputs": [
        {
          "output_type": "stream",
          "name": "stdout",
          "text": [
            "Mounted at /content/drive\n"
          ]
        }
      ]
    },
    {
      "cell_type": "code",
      "metadata": {
        "colab": {
          "base_uri": "https://localhost:8080/"
        },
        "id": "HGRbtz-fPPOV",
        "outputId": "3e654955-200c-45ad-bd4a-3ad9386aadfd"
      },
      "source": [
        "%cd /content/drive/MyDrive/Colab Notebooks"
      ],
      "execution_count": 2,
      "outputs": [
        {
          "output_type": "stream",
          "name": "stdout",
          "text": [
            "/content/drive/MyDrive/Colab Notebooks\n"
          ]
        }
      ]
    },
    {
      "cell_type": "code",
      "metadata": {
        "id": "r2MY5HWzN25K"
      },
      "source": [
        "import pandas as pd\n",
        "import bz2\n",
        "\n",
        "with bz2.open('speeches-201718.json.bz2') as source:\n",
        "    speeches_201718 = pd.read_json(source)\n",
        "\n",
        "with bz2.open('speeches-201819.json.bz2') as source:\n",
        "    speeches_201819 = pd.read_json(source)"
      ],
      "execution_count": 3,
      "outputs": []
    },
    {
      "cell_type": "markdown",
      "metadata": {
        "id": "qfHobY81N25M"
      },
      "source": [
        "When you inspect the two data frames, you can see that there are three labelled columns: `id` (the official speech ID), `words` (the space-separated words of the speech), and `party` (the party of the speaker, represented by its customary abbreviation)."
      ]
    },
    {
      "cell_type": "code",
      "metadata": {
        "colab": {
          "base_uri": "https://localhost:8080/",
          "height": 204
        },
        "id": "Qv8AIUs_N25N",
        "outputId": "f0943c61-39d6-466e-b7b4-11007f63bdcd"
      },
      "source": [
        "speeches_201718.head()"
      ],
      "execution_count": 4,
      "outputs": [
        {
          "output_type": "execute_result",
          "data": {
            "text/html": [
              "<div>\n",
              "<style scoped>\n",
              "    .dataframe tbody tr th:only-of-type {\n",
              "        vertical-align: middle;\n",
              "    }\n",
              "\n",
              "    .dataframe tbody tr th {\n",
              "        vertical-align: top;\n",
              "    }\n",
              "\n",
              "    .dataframe thead th {\n",
              "        text-align: right;\n",
              "    }\n",
              "</style>\n",
              "<table border=\"1\" class=\"dataframe\">\n",
              "  <thead>\n",
              "    <tr style=\"text-align: right;\">\n",
              "      <th></th>\n",
              "      <th>id</th>\n",
              "      <th>words</th>\n",
              "      <th>party</th>\n",
              "    </tr>\n",
              "  </thead>\n",
              "  <tbody>\n",
              "    <tr>\n",
              "      <th>0</th>\n",
              "      <td>H5-002-004</td>\n",
              "      <td>eders majestäter eders kungliga högheter herr ...</td>\n",
              "      <td>S</td>\n",
              "    </tr>\n",
              "    <tr>\n",
              "      <th>1</th>\n",
              "      <td>H5-003-001</td>\n",
              "      <td>aktuell debatt om situationen för ensamkommand...</td>\n",
              "      <td>V</td>\n",
              "    </tr>\n",
              "    <tr>\n",
              "      <th>2</th>\n",
              "      <td>H5-003-002</td>\n",
              "      <td>herr talman och ledamöter jag vill börja med a...</td>\n",
              "      <td>S</td>\n",
              "    </tr>\n",
              "    <tr>\n",
              "      <th>3</th>\n",
              "      <td>H5-003-003</td>\n",
              "      <td>herr talman åhörare den här debatten handlar a...</td>\n",
              "      <td>M</td>\n",
              "    </tr>\n",
              "    <tr>\n",
              "      <th>4</th>\n",
              "      <td>H5-003-004</td>\n",
              "      <td>herr talman ansvar och rättssäkerhet är två or...</td>\n",
              "      <td>SD</td>\n",
              "    </tr>\n",
              "  </tbody>\n",
              "</table>\n",
              "</div>"
            ],
            "text/plain": [
              "           id                                              words party\n",
              "0  H5-002-004  eders majestäter eders kungliga högheter herr ...     S\n",
              "1  H5-003-001  aktuell debatt om situationen för ensamkommand...     V\n",
              "2  H5-003-002  herr talman och ledamöter jag vill börja med a...     S\n",
              "3  H5-003-003  herr talman åhörare den här debatten handlar a...     M\n",
              "4  H5-003-004  herr talman ansvar och rättssäkerhet är två or...    SD"
            ]
          },
          "metadata": {},
          "execution_count": 4
        }
      ]
    },
    {
      "cell_type": "markdown",
      "metadata": {
        "id": "mv8NagHwN25P"
      },
      "source": [
        "Throughout the lab, we will be using the speeches from 2017/2018 as our training data, and the speeches from 2018/2019 as our test data."
      ]
    },
    {
      "cell_type": "code",
      "metadata": {
        "id": "cUYLO2HwN25Q"
      },
      "source": [
        "training_data, test_data = speeches_201718, speeches_201819"
      ],
      "execution_count": 5,
      "outputs": []
    },
    {
      "cell_type": "markdown",
      "metadata": {
        "id": "uzyJZ7LnN25R"
      },
      "source": [
        "For later reference, we store the sorted list of party abbreviations."
      ]
    },
    {
      "cell_type": "code",
      "metadata": {
        "colab": {
          "base_uri": "https://localhost:8080/"
        },
        "id": "zh-xMI5RN25S",
        "outputId": "1c41fc69-1d53-4e5d-826b-b2ff16a54616"
      },
      "source": [
        "parties = sorted(training_data['party'].unique())\n",
        "print(parties)"
      ],
      "execution_count": 6,
      "outputs": [
        {
          "output_type": "stream",
          "name": "stdout",
          "text": [
            "['C', 'KD', 'L', 'M', 'MP', 'S', 'SD', 'V']\n"
          ]
        }
      ]
    },
    {
      "cell_type": "markdown",
      "metadata": {
        "id": "UxLyPcp-N25T"
      },
      "source": [
        "## Problem 1: Visualization"
      ]
    },
    {
      "cell_type": "markdown",
      "metadata": {
        "id": "b-K-spjLN25T"
      },
      "source": [
        "Your first task is to get to know the data better by producing a simple visualization.\n",
        "\n",
        "If you are not familiar with the Swedish political system and the parties represented in the Riksdag in particular, then we suggest that you have a look at the Wikipedia article about the [2018 Swedish general election](https://en.wikipedia.org/wiki/2018_Swedish_general_election).\n",
        "\n",
        "For the lab, we ask you to compare the two data frames with respect to the distribution of the speeches over the different parties. Write code to generate two bar plots that visualize this information, one for the 2017/2018 speeches and one for the 2018/2019 speeches. Inspect the two plots, and compare them\n",
        "\n",
        "* to each other\n",
        "* to the results of the 2014 and the 2018 general elections\n",
        "\n",
        "Summarize your observations in a short text in the cell below.\n",
        "\n",
        "**Tip:** If you need help with creating bar plots, [Bar Plot using Pandas](https://dfrieds.com/data-visualizations/bar-plot-python-pandas) provides a useful tutorial."
      ]
    },
    {
      "cell_type": "markdown",
      "metadata": {
        "id": "lOrkwfSBN25U"
      },
      "source": [
        "**A:** \n",
        "\n",
        "- Comparing both plots with eachother we can see a similar pattern in the bar plots. S and M are the parties with the most speeches in the Riksdag. We can also observe that party MP had proportionally less speeches in 2018/19 compared to 2017/18. On the other hand KD, SD and V had proportionally more speeches in 2018/19 compared to 2017/18. In general, it can also be seen that the total number of speeches (per party) is lower in 2018/19 compared to 2017/18.\n",
        "\n",
        "- Comparing to the 2014 and 2018 general elections we can see why MP had less speeches in 2018/19. MP went from 6.9% to 4.4% and lost 9 Riksdag seats. In general, it looks like the proportion of speeches in the Riksdag depends on the number of seats a party owns. One interesting thing to observe is that the C party seems to have less speeches compared to their proportion of seats in the Riksdag."
      ]
    },
    {
      "cell_type": "code",
      "metadata": {
        "id": "NiG2dQMLN25V"
      },
      "source": [
        "import matplotlib.pyplot as plt\n",
        "import numpy as np"
      ],
      "execution_count": 7,
      "outputs": []
    },
    {
      "cell_type": "code",
      "metadata": {
        "colab": {
          "base_uri": "https://localhost:8080/",
          "height": 279
        },
        "id": "KUgT-dDCN25V",
        "outputId": "e01a5a4e-3eee-48ad-b289-31a5e26d201e"
      },
      "source": [
        "counts_1718 = speeches_201718.groupby([\"party\"]).size().reset_index(name='counts')\n",
        "\n",
        "plt.bar(counts_1718[\"party\"], counts_1718[\"counts\"], color=plt.cm.Paired(np.arange(len(counts_1718))))\n",
        "plt.xlabel(\"Party\")\n",
        "plt.ylabel(\"Number of speeches\")\n",
        "plt.show()"
      ],
      "execution_count": 8,
      "outputs": [
        {
          "output_type": "display_data",
          "data": {
            "image/png": "[encoded data removed]",
            "text/plain": [
              "<Figure size 432x288 with 1 Axes>"
            ]
          },
          "metadata": {
            "needs_background": "light"
          }
        }
      ]
    },
    {
      "cell_type": "code",
      "metadata": {
        "colab": {
          "base_uri": "https://localhost:8080/",
          "height": 279
        },
        "id": "zst0Pjl_N25W",
        "outputId": "028f73d4-192c-4fb0-83bc-20e70d5feaba"
      },
      "source": [
        "counts_1819 = speeches_201819.groupby([\"party\"]).size().reset_index(name='counts')\n",
        "\n",
        "plt.bar(counts_1819[\"party\"], counts_1819[\"counts\"], color=plt.cm.Paired(np.arange(len(counts_1819))))\n",
        "plt.xlabel(\"Party\")\n",
        "plt.ylabel(\"Number of speeches\")\n",
        "plt.show()"
      ],
      "execution_count": 9,
      "outputs": [
        {
          "output_type": "display_data",
          "data": {
            "image/png": "[encoded data removed]",
            "text/plain": [
              "<Figure size 432x288 with 1 Axes>"
            ]
          },
          "metadata": {
            "needs_background": "light"
          }
        }
      ]
    },
    {
      "cell_type": "markdown",
      "metadata": {
        "id": "Uh8SEfjdN25X"
      },
      "source": [
        "## Problem 2: Naive Bayes classifier"
      ]
    },
    {
      "cell_type": "markdown",
      "metadata": {
        "id": "8Z-SgKL0N25X"
      },
      "source": [
        "You are now ready to train and evaluate a classifier. More specifically, we ask you to train a [Multinomial Naive Bayes](https://scikit-learn.org/stable/modules/naive_bayes.html#multinomial-naive-bayes) classifier. You will have to\n",
        "\n",
        "1. vectorize the speeches in the training data\n",
        "2. instantiate and fit the Naive Bayes model\n",
        "3. evaluate the model on the test data\n",
        "\n",
        "The scikit-learn library provides a convenience class [Pipeline](https://scikit-learn.org/stable/modules/generated/sklearn.pipeline.Pipeline.html) that allows you to solve the first two tasks with very compact code. For the evaluation you can use the function [`classification_report`](https://scikit-learn.org/stable/modules/generated/sklearn.metrics.classification_report.html), which will report per-class precision, recall and F1, as well as overall accuracy."
      ]
    },
    {
      "cell_type": "code",
      "metadata": {
        "colab": {
          "base_uri": "https://localhost:8080/"
        },
        "id": "qh3QhvDwN25Y",
        "outputId": "e619afb2-20b2-4a57-be09-6d416b4d4e66"
      },
      "source": [
        "from sklearn.feature_extraction.text import CountVectorizer\n",
        "from sklearn.naive_bayes import MultinomialNB\n",
        "from sklearn.pipeline import Pipeline\n",
        "from sklearn.metrics import classification_report\n",
        "\n",
        "pipe = Pipeline([(\"countVectorizer\", CountVectorizer()), (\"multinomialNB\", MultinomialNB())])\n",
        "\n",
        "X_train = training_data[\"words\"]\n",
        "y_train = training_data[\"party\"]\n",
        "X_test = test_data[\"words\"]\n",
        "y_test = test_data[\"party\"]\n",
        "\n",
        "# Fit model on training_data\n",
        "pipe.fit(X_train, y_train)\n",
        "\n",
        "# Predictions on test_data\n",
        "y_pred = pipe.predict(X_test)\n",
        "\n",
        "# Evaluate model reporting accuracy, precision, recall and F1\n",
        "print(classification_report(y_test, y_pred))"
      ],
      "execution_count": 10,
      "outputs": [
        {
          "output_type": "stream",
          "name": "stdout",
          "text": [
            "              precision    recall  f1-score   support\n",
            "\n",
            "           C       0.63      0.04      0.07       671\n",
            "          KD       0.70      0.02      0.03       821\n",
            "           L       0.92      0.02      0.04       560\n",
            "           M       0.36      0.68      0.47      1644\n",
            "          MP       0.36      0.25      0.29       809\n",
            "           S       0.46      0.84      0.59      2773\n",
            "          SD       0.57      0.12      0.20      1060\n",
            "           V       0.59      0.15      0.24       950\n",
            "\n",
            "    accuracy                           0.43      9288\n",
            "   macro avg       0.57      0.26      0.24      9288\n",
            "weighted avg       0.52      0.43      0.34      9288\n",
            "\n"
          ]
        }
      ]
    },
    {
      "cell_type": "markdown",
      "metadata": {
        "id": "g3HgQf3vN25Y"
      },
      "source": [
        "Would you have expected the results that you got?"
      ]
    },
    {
      "cell_type": "markdown",
      "metadata": {
        "id": "q3vtraWcN25Y"
      },
      "source": [
        "**A:** Yes, we expected the results to be like that. From the imbalance of our training distribution it follows that some parties are over-represented and some are under-represented which results in worse predictions seen in the evaluation. "
      ]
    },
    {
      "cell_type": "markdown",
      "metadata": {
        "id": "M9pxsKEnN25Z"
      },
      "source": [
        "## Problem 3: Baselines"
      ]
    },
    {
      "cell_type": "markdown",
      "metadata": {
        "id": "nI7mkgyIN25Z"
      },
      "source": [
        "Evaluation metrics such as accuracy should not be understood as absolute measures of performance, but should be used only to compare different classifiers. When other classifiers are not available, a simple baseline is a classifier that generates predictions by random sampling, respecting the training set&rsquo;s class distribution. This baseline is implemented by the class [DummyClassifier](https://scikit-learn.org/stable/modules/generated/sklearn.dummy.DummyClassifier.html). What is the performance of the random baseline on the test data?"
      ]
    },
    {
      "cell_type": "code",
      "metadata": {
        "colab": {
          "base_uri": "https://localhost:8080/"
        },
        "id": "cMQc7D7uN25Z",
        "outputId": "24738d49-81b8-4bc4-93ef-24787f20dc3d"
      },
      "source": [
        "from sklearn.dummy import DummyClassifier\n",
        "\n",
        "# Using stratified strategy to generate predictions by respecting the training set’s class distribution\n",
        "dummy_clf = DummyClassifier(strategy=\"stratified\")\n",
        "\n",
        "dummy_clf.fit(X_train, y_train)\n",
        "y_pred = dummy_clf.predict(X_test)\n",
        "\n",
        "print(classification_report(y_test, y_pred))"
      ],
      "execution_count": 11,
      "outputs": [
        {
          "output_type": "stream",
          "name": "stdout",
          "text": [
            "              precision    recall  f1-score   support\n",
            "\n",
            "           C       0.07      0.06      0.06       671\n",
            "          KD       0.08      0.05      0.06       821\n",
            "           L       0.08      0.08      0.08       560\n",
            "           M       0.17      0.18      0.18      1644\n",
            "          MP       0.09      0.12      0.10       809\n",
            "           S       0.30      0.36      0.33      2773\n",
            "          SD       0.10      0.07      0.08      1060\n",
            "           V       0.11      0.07      0.09       950\n",
            "\n",
            "    accuracy                           0.18      9288\n",
            "   macro avg       0.12      0.13      0.12      9288\n",
            "weighted avg       0.17      0.18      0.17      9288\n",
            "\n"
          ]
        }
      ]
    },
    {
      "cell_type": "markdown",
      "metadata": {
        "id": "NaPXfp94N25a"
      },
      "source": [
        "An even dumber baseline is to predict, for every document, that class which appears most often in the training data. This baseline is also called the most frequent class baseline. What is the accuracy of that baseline on the test data?"
      ]
    },
    {
      "cell_type": "code",
      "metadata": {
        "colab": {
          "base_uri": "https://localhost:8080/"
        },
        "id": "2a0ffpehN25a",
        "outputId": "e7076d45-9932-4efa-e674-e5bdaa2303a8"
      },
      "source": [
        "# Using most_frequent strategy to always predict the most frequent label in the training set.\n",
        "dummy_clf = DummyClassifier(strategy=\"most_frequent\")\n",
        "\n",
        "dummy_clf.fit(X_train, y_train)\n",
        "y_pred = dummy_clf.predict(X_test)\n",
        "\n",
        "print(classification_report(y_test, y_pred))"
      ],
      "execution_count": 12,
      "outputs": [
        {
          "output_type": "stream",
          "name": "stdout",
          "text": [
            "              precision    recall  f1-score   support\n",
            "\n",
            "           C       0.00      0.00      0.00       671\n",
            "          KD       0.00      0.00      0.00       821\n",
            "           L       0.00      0.00      0.00       560\n",
            "           M       0.00      0.00      0.00      1644\n",
            "          MP       0.00      0.00      0.00       809\n",
            "           S       0.30      1.00      0.46      2773\n",
            "          SD       0.00      0.00      0.00      1060\n",
            "           V       0.00      0.00      0.00       950\n",
            "\n",
            "    accuracy                           0.30      9288\n",
            "   macro avg       0.04      0.12      0.06      9288\n",
            "weighted avg       0.09      0.30      0.14      9288\n",
            "\n"
          ]
        },
        {
          "output_type": "stream",
          "name": "stderr",
          "text": [
            "/usr/local/lib/python3.7/dist-packages/sklearn/metrics/_classification.py:1272: UndefinedMetricWarning: Precision and F-score are ill-defined and being set to 0.0 in labels with no predicted samples. Use `zero_division` parameter to control this behavior.\n",
            "  _warn_prf(average, modifier, msg_start, len(result))\n"
          ]
        }
      ]
    },
    {
      "cell_type": "markdown",
      "metadata": {
        "id": "pRo6P6pKN25b"
      },
      "source": [
        "## Problem 4: Creating a balanced data set"
      ]
    },
    {
      "cell_type": "markdown",
      "metadata": {
        "id": "Vy5HDp-QN25b"
      },
      "source": [
        "As you saw in Problem&nbsp;1, the distribution of the speeches over the eight different parties (classes) is imbalanced. One technique used to alleviate this is **undersampling**, in which one randomly removes samples from over-represented classes until all classes are represented with the same number of samples.\n",
        "\n",
        "Implement undersampling to create a balanced subset of the training data. Rerun the evaluation from Problem&nbsp;2 on the balanced data and compare the results. Summarise your results in a short text.\n",
        "\n",
        "**Hint:** Your balanced subset should consist of 5,752 speeches."
      ]
    },
    {
      "cell_type": "code",
      "metadata": {
        "colab": {
          "base_uri": "https://localhost:8080/"
        },
        "id": "YKgUEqOFN25b",
        "outputId": "617300f8-29b8-4e51-b1d4-5f5bbf095b8b"
      },
      "source": [
        "min_speeches = counts_1718[\"counts\"].min()\n",
        "\n",
        "training_data_balanced = pd.DataFrame()\n",
        "for party in parties:\n",
        "    training_data_party = training_data[training_data[\"party\"] == party]\n",
        "    sample_to_concat = training_data_party.sample(min_speeches)\n",
        "    training_data_balanced = pd.concat([training_data_balanced, sample_to_concat], axis=0)\n",
        "    \n",
        "training_data_balanced.shape"
      ],
      "execution_count": 13,
      "outputs": [
        {
          "output_type": "execute_result",
          "data": {
            "text/plain": [
              "(5752, 3)"
            ]
          },
          "metadata": {},
          "execution_count": 13
        }
      ]
    },
    {
      "cell_type": "code",
      "metadata": {
        "colab": {
          "base_uri": "https://localhost:8080/"
        },
        "id": "37x6POwZN25c",
        "outputId": "96d1b5e6-6b25-496f-cdac-b48b0c7deabd"
      },
      "source": [
        "pipe = Pipeline([(\"countVectorizer\", CountVectorizer()), (\"multinomialNB\", MultinomialNB())])\n",
        "\n",
        "X_train = training_data_balanced[\"words\"]\n",
        "y_train = training_data_balanced[\"party\"]\n",
        "X_test = test_data[\"words\"]\n",
        "y_test = test_data[\"party\"]\n",
        "\n",
        "# Fit model on training_data\n",
        "pipe.fit(X_train, y_train)\n",
        "\n",
        "# Predictions on test_data\n",
        "y_pred = pipe.predict(X_test)\n",
        "\n",
        "# Evaluate model reporting accuracy, precision, recall and F1\n",
        "print(classification_report(y_test, y_pred))"
      ],
      "execution_count": 14,
      "outputs": [
        {
          "output_type": "stream",
          "name": "stdout",
          "text": [
            "              precision    recall  f1-score   support\n",
            "\n",
            "           C       0.27      0.47      0.34       671\n",
            "          KD       0.29      0.38      0.33       821\n",
            "           L       0.27      0.44      0.33       560\n",
            "           M       0.42      0.47      0.44      1644\n",
            "          MP       0.34      0.40      0.37       809\n",
            "           S       0.79      0.34      0.47      2773\n",
            "          SD       0.47      0.39      0.42      1060\n",
            "           V       0.41      0.54      0.46       950\n",
            "\n",
            "    accuracy                           0.41      9288\n",
            "   macro avg       0.41      0.43      0.40      9288\n",
            "weighted avg       0.50      0.41      0.42      9288\n",
            "\n"
          ]
        }
      ]
    },
    {
      "cell_type": "markdown",
      "metadata": {
        "id": "mU6xOX5TN25d"
      },
      "source": [
        "**A:** We used the minimum number of speeches for a party which is 719 to remove samples from over-represented classes (more than 719 speeches). By looping over all possible target values (parties) and concatenating 719 speeches from each party, we generate a new balanced training dataset. The resulting dataset now consists of 5752 speeches in total (719 speeches x 8 parties).\n",
        "\n",
        "From the evaluation we can see that the overall accuracy went down by 2%. On the other hand, we can observe a more balanced inter-class accuracy. From the f1-score we can see that our predictions are not as much varying as in problem 2. Thus, we can state that undersampling helped us making more robust predictions while at the same time lowering the overall accuracy. "
      ]
    },
    {
      "cell_type": "markdown",
      "metadata": {
        "id": "ORUtvwzSN25d"
      },
      "source": [
        "## Problem 5: Confusion matrix"
      ]
    },
    {
      "cell_type": "markdown",
      "metadata": {
        "id": "XbwrXXaQN25d"
      },
      "source": [
        "A **confusion matrix** is a specific table that is useful when analysing the performance of a classifier. In this table, both the rows and the columns correspond to classes, and each cell $(i, j)$ states how many times a sample with gold-standard class $i$ was predicted as belonging to class $j$.\n",
        "\n",
        "In scitkit-learn, the confusion matrix of a classifier is computed by the function [`confusion_matrix`](https://scikit-learn.org/stable/modules/generated/sklearn.metrics.confusion_matrix.html). If you would rather see a visual representation, you can also use [`plot_confusion_matrix`](https://scikit-learn.org/stable/modules/generated/sklearn.metrics.plot_confusion_matrix.html).\n",
        "\n",
        "Your task is to use the confusion matrix in order to find, for each given party $p$ in the Riksdag, that other party $p'$ which the classifier that you trained in Problem&nbsp;4 most often confuses with $p$ when it predicts the party of a speaker."
      ]
    },
    {
      "cell_type": "code",
      "metadata": {
        "colab": {
          "base_uri": "https://localhost:8080/",
          "height": 279
        },
        "id": "E_f3P-ZdN25d",
        "outputId": "47285a94-9cc5-4d9f-ac7f-f8a41a23ffc7"
      },
      "source": [
        "from sklearn.metrics import plot_confusion_matrix\n",
        "\n",
        "plot_confusion_matrix(pipe, X_test, y_test) \n",
        "plt.show()"
      ],
      "execution_count": 15,
      "outputs": [
        {
          "output_type": "display_data",
          "data": {
            "image/png": "[encoded data removed]",
            "text/plain": [
              "<Figure size 432x288 with 2 Axes>"
            ]
          },
          "metadata": {
            "needs_background": "light"
          }
        }
      ]
    },
    {
      "cell_type": "markdown",
      "metadata": {
        "id": "NX-htza4N25e"
      },
      "source": [
        "**A:** The observations from the confusion matrix make sense. Since we created a more balanced classification model we can see that the misclassifications are more or less proportional. We can also observe that for all parties the most predicted label is actually the true label. An interesting observation is that M is the most misclassified label for any party except L and MP."
      ]
    },
    {
      "cell_type": "markdown",
      "metadata": {
        "id": "Dbr039P2N25e"
      },
      "source": [
        "## Problem 6: Grid search"
      ]
    },
    {
      "cell_type": "markdown",
      "metadata": {
        "id": "itKN6tu5N25f"
      },
      "source": [
        "Until now, you have been using the vectorizer and the Naive Bayes classifier with their default hyperparameters. When working with real-world applications, you would want to find settings for the hyperparameters that maximize the performance for the task at hand.\n",
        "\n",
        "Manually tweaking the hyperparameters of the various components of a vectorizer–classifier pipeline can be cumbersome. However, scikit-learn makes it possible to run an exhaustive search for the best hyperparameters over a grid of possible values. This method is known as **grid search**.\n",
        "\n",
        "The hyperparameters of a pipeline should never be tuned on the final test set. Instead, one should either use a separate validation set, or run cross-validation over different folds. Here we will use cross-validation.\n",
        "\n",
        "Implement a grid search with 5-fold cross-validation to find the optimal parameters in a grid defined by the following choices for the hyperparameters:\n",
        "\n",
        "* In the vectorizer, try a set-of-words (binary) model in addition to the default bag-of-words model (two possible parameter values).\n",
        "* Also in the vectorizer, try extracting bigrams in addition to unigrams (two possible parameter values).\n",
        "* In the Naive Bayes classifier, try using additive smoothing with $\\alpha \\in \\{1, 0{.}1\\}$ (two possible parameter values).\n",
        "\n",
        "Use the class [GridSearchCV](https://scikit-learn.org/stable/modules/generated/sklearn.model_selection.GridSearchCV.html) from the scikit-learn library. Print the results of your best model, along with the parameter values that yielded these results."
      ]
    },
    {
      "cell_type": "code",
      "metadata": {
        "id": "LvYfwzIVRHGf"
      },
      "source": [
        "from sklearn.model_selection import GridSearchCV"
      ],
      "execution_count": 16,
      "outputs": []
    },
    {
      "cell_type": "code",
      "metadata": {
        "colab": {
          "base_uri": "https://localhost:8080/"
        },
        "id": "jcag1CRqN25g",
        "outputId": "2e9507e8-0efc-4a88-d896-ec1aeed8489e"
      },
      "source": [
        "# TODO: Write code here to implement the grid search\n",
        "# pipe.get_params().keys()\n",
        "params = {\"countVectorizer__binary\": [True, False],\n",
        "          \"countVectorizer__ngram_range\": [(1,1), (1,2)],\n",
        "          \"multinomialNB__alpha\": [0.1, 1]}\n",
        "\n",
        "grid_param = GridSearchCV(pipe, params, cv=5, verbose = 1)\n",
        "\n",
        "grid_param.fit(training_data[\"words\"], training_data[\"party\"])"
      ],
      "execution_count": 17,
      "outputs": [
        {
          "output_type": "stream",
          "name": "stdout",
          "text": [
            "Fitting 5 folds for each of 8 candidates, totalling 40 fits\n"
          ]
        },
        {
          "output_type": "stream",
          "name": "stderr",
          "text": [
            "[Parallel(n_jobs=1)]: Using backend SequentialBackend with 1 concurrent workers.\n",
            "[Parallel(n_jobs=1)]: Done  40 out of  40 | elapsed:  4.9min finished\n"
          ]
        },
        {
          "output_type": "execute_result",
          "data": {
            "text/plain": [
              "GridSearchCV(cv=5, error_score=nan,\n",
              "             estimator=Pipeline(memory=None,\n",
              "                                steps=[('countVectorizer',\n",
              "                                        CountVectorizer(analyzer='word',\n",
              "                                                        binary=False,\n",
              "                                                        decode_error='strict',\n",
              "                                                        dtype=<class 'numpy.int64'>,\n",
              "                                                        encoding='utf-8',\n",
              "                                                        input='content',\n",
              "                                                        lowercase=True,\n",
              "                                                        max_df=1.0,\n",
              "                                                        max_features=None,\n",
              "                                                        min_df=1,\n",
              "                                                        ngram_range=(1, 1),\n",
              "                                                        preprocessor=None,\n",
              "                                                        stop_words=None,\n",
              "                                                        strip_accents=None,\n",
              "                                                        token_pa...\n",
              "                                                        tokenizer=None,\n",
              "                                                        vocabulary=None)),\n",
              "                                       ('multinomialNB',\n",
              "                                        MultinomialNB(alpha=1.0,\n",
              "                                                      class_prior=None,\n",
              "                                                      fit_prior=True))],\n",
              "                                verbose=False),\n",
              "             iid='deprecated', n_jobs=None,\n",
              "             param_grid={'countVectorizer__binary': [True, False],\n",
              "                         'countVectorizer__ngram_range': [(1, 1), (1, 2)],\n",
              "                         'multinomialNB__alpha': [0.1, 1]},\n",
              "             pre_dispatch='2*n_jobs', refit=True, return_train_score=False,\n",
              "             scoring=None, verbose=1)"
            ]
          },
          "metadata": {},
          "execution_count": 17
        }
      ]
    },
    {
      "cell_type": "code",
      "metadata": {
        "colab": {
          "base_uri": "https://localhost:8080/"
        },
        "id": "fLURwetkUicx",
        "outputId": "49e3acc1-f5e2-4c49-bbad-3bf13926bcf2"
      },
      "source": [
        "# Best parameter values\n",
        "best_grid_param = grid_param.best_params_\n",
        "best_grid_param"
      ],
      "execution_count": 18,
      "outputs": [
        {
          "output_type": "execute_result",
          "data": {
            "text/plain": [
              "{'countVectorizer__binary': False,\n",
              " 'countVectorizer__ngram_range': (1, 1),\n",
              " 'multinomialNB__alpha': 0.1}"
            ]
          },
          "metadata": {},
          "execution_count": 18
        }
      ]
    },
    {
      "cell_type": "code",
      "metadata": {
        "id": "zVKyel_0Yjiv"
      },
      "source": [
        "# grid_param.cv_results_\n",
        "\n",
        "# On training data\n",
        "predict_train = grid_param.best_estimator_.predict(training_data[\"words\"])\n",
        "# On test data\n",
        "predict_test = grid_param.best_estimator_.predict(test_data[\"words\"])"
      ],
      "execution_count": 19,
      "outputs": []
    },
    {
      "cell_type": "code",
      "metadata": {
        "colab": {
          "base_uri": "https://localhost:8080/"
        },
        "id": "7qFZOkNPauBu",
        "outputId": "28b543d2-3622-463d-86fb-d26b096c483d"
      },
      "source": [
        "# classification report for optimal parameters (training set)\n",
        "print(classification_report(training_data[\"party\"], predict_train))"
      ],
      "execution_count": 20,
      "outputs": [
        {
          "output_type": "stream",
          "name": "stdout",
          "text": [
            "              precision    recall  f1-score   support\n",
            "\n",
            "           C       0.95      0.96      0.96       865\n",
            "          KD       0.97      0.97      0.97       743\n",
            "           L       0.95      0.98      0.97       719\n",
            "           M       0.94      0.96      0.95      2370\n",
            "          MP       0.92      0.92      0.92      1481\n",
            "           S       0.97      0.93      0.95      4261\n",
            "          SD       0.93      0.97      0.95      1010\n",
            "           V       0.92      0.97      0.94       894\n",
            "\n",
            "    accuracy                           0.95     12343\n",
            "   macro avg       0.94      0.96      0.95     12343\n",
            "weighted avg       0.95      0.95      0.95     12343\n",
            "\n"
          ]
        }
      ]
    },
    {
      "cell_type": "code",
      "metadata": {
        "colab": {
          "base_uri": "https://localhost:8080/"
        },
        "id": "Fp67VuB3bLsh",
        "outputId": "53735330-40c8-41bd-933b-a690e06e470d"
      },
      "source": [
        "# classification report for optimal parameters (test set)\n",
        "print(classification_report(test_data[\"party\"], predict_test))"
      ],
      "execution_count": 21,
      "outputs": [
        {
          "output_type": "stream",
          "name": "stdout",
          "text": [
            "              precision    recall  f1-score   support\n",
            "\n",
            "           C       0.39      0.27      0.32       671\n",
            "          KD       0.45      0.24      0.31       821\n",
            "           L       0.37      0.26      0.30       560\n",
            "           M       0.44      0.58      0.50      1644\n",
            "          MP       0.32      0.46      0.38       809\n",
            "           S       0.61      0.65      0.63      2773\n",
            "          SD       0.49      0.43      0.45      1060\n",
            "           V       0.50      0.42      0.46       950\n",
            "\n",
            "    accuracy                           0.48      9288\n",
            "   macro avg       0.45      0.41      0.42      9288\n",
            "weighted avg       0.48      0.48      0.48      9288\n",
            "\n"
          ]
        }
      ]
    },
    {
      "cell_type": "markdown",
      "metadata": {
        "id": "YjmgSnmubgWH"
      },
      "source": [
        "**A**: We get overall better scores using the crossvalidation method. This is due to the fact that we make an exhaustive search through parameters in order to find the appropriate set for our data. One should however be aware of the risks of overfitting when using this method as attested by the sharp drop in accuracy between the training performance and the test set."
      ]
    },
    {
      "cell_type": "markdown",
      "metadata": {
        "id": "PpUXR-cyN25g"
      },
      "source": [
        "## Problem 7: Try to improve your results"
      ]
    },
    {
      "cell_type": "markdown",
      "metadata": {
        "id": "lqMLOsmnN25h"
      },
      "source": [
        "Scikit-learn makes it easy to test different vectorizer–classifier pipelines – among other things, it includes different types of logistic regression classifiers, support vector machines, and decision trees. Browse the library to see which methods are supported.\n",
        "\n",
        "Build a pipeline that you find interesting, and use grid search to find optimal settings for the hyperparameters. Print the results of your best model."
      ]
    },
    {
      "cell_type": "code",
      "metadata": {
        "id": "eIUcuyy48V28"
      },
      "source": [
        "#Including Swedish stop words\n",
        "# courtesy of https://github.com/peterdalle/svensktext\n",
        "\n",
        "# common stop words\n",
        "common_stop_se = '''\n",
        "all\n",
        "alla\n",
        "allas\n",
        "allt\n",
        "alltså\n",
        "andra\n",
        "andras\n",
        "annan\n",
        "annat\n",
        "artonde\n",
        "artonn\n",
        "att\n",
        "av\n",
        "bakom\n",
        "bara\n",
        "bland\n",
        "blev\n",
        "bli\n",
        "blir\n",
        "blivit\n",
        "båda\n",
        "bådas\n",
        "både\n",
        "dag\n",
        "dagar\n",
        "dagarna\n",
        "dagen\n",
        "de\n",
        "del\n",
        "delen\n",
        "dem\n",
        "den\n",
        "denna\n",
        "deras\n",
        "dess\n",
        "dessa\n",
        "det\n",
        "detta\n",
        "dig\n",
        "din\n",
        "dina\n",
        "dit\n",
        "ditt\n",
        "dock\n",
        "dom\n",
        "du\n",
        "där\n",
        "därför\n",
        "då\n",
        "efter\n",
        "eftersom\n",
        "ej\n",
        "elfte\n",
        "eller\n",
        "elva\n",
        "en\n",
        "er\n",
        "era\n",
        "ert\n",
        "ett\n",
        "fall\n",
        "fanns\n",
        "fast\n",
        "fem\n",
        "femte\n",
        "femtio\n",
        "femtionde\n",
        "femton\n",
        "femtonde\n",
        "fick\n",
        "fin\n",
        "finnas\n",
        "finns\n",
        "fjorton\n",
        "fjortonde\n",
        "fjärde\n",
        "fler\n",
        "flera\n",
        "flesta\n",
        "fram\n",
        "framför\n",
        "från\n",
        "fyra\n",
        "fyrtio\n",
        "fyrtionde\n",
        "få\n",
        "får\n",
        "fått\n",
        "för\n",
        "före\n",
        "förra\n",
        "första\n",
        "ge\n",
        "genom\n",
        "ger\n",
        "gick\n",
        "gjorde\n",
        "gjort\n",
        "gälla\n",
        "gäller\n",
        "gällt\n",
        "gärna\n",
        "gå\n",
        "gång\n",
        "går\n",
        "gått\n",
        "gör\n",
        "göra\n",
        "ha\n",
        "hade\n",
        "haft\n",
        "han\n",
        "hans\n",
        "har\n",
        "hela\n",
        "heller\n",
        "hellre\n",
        "helst\n",
        "helt\n",
        "henne\n",
        "hennes\n",
        "heter\n",
        "hit\n",
        "hjälp\n",
        "hon\n",
        "honom\n",
        "hundra\n",
        "hundraen\n",
        "hundraett\n",
        "hur\n",
        "här\n",
        "i\n",
        "ibland\n",
        "icke\n",
        "igen\n",
        "in\n",
        "inför\n",
        "inga\n",
        "ingen\n",
        "inget\n",
        "innan\n",
        "inne\n",
        "inom\n",
        "inte\n",
        "inuti\n",
        "ja\n",
        "jag\n",
        "ju\n",
        "jämfört\n",
        "kan\n",
        "kom\n",
        "komma\n",
        "kommer\n",
        "kommit\n",
        "kunde\n",
        "kunna\n",
        "kunnat\n",
        "kvar\n",
        "kör\n",
        "legat\n",
        "ligga\n",
        "ligger\n",
        "lägga\n",
        "man\n",
        "med\n",
        "mellan\n",
        "men\n",
        "menar\n",
        "mer\n",
        "mera\n",
        "mig\n",
        "min\n",
        "mina\n",
        "mitt\n",
        "mittemot\n",
        "mot\n",
        "ned\n",
        "nederst\n",
        "nedersta\n",
        "nedre\n",
        "nej\n",
        "ner\n",
        "ni\n",
        "nio\n",
        "nionde\n",
        "nittio\n",
        "nittionde\n",
        "nitton\n",
        "nittonde\n",
        "nog\n",
        "noll\n",
        "nr\n",
        "nu\n",
        "nummer\n",
        "nya\n",
        "när\n",
        "nästa\n",
        "någon\n",
        "någonting\n",
        "något\n",
        "några\n",
        "nån\n",
        "nåt\n",
        "och\n",
        "också\n",
        "om\n",
        "oss\n",
        "på\n",
        "rakt\n",
        "redan\n",
        "sade\n",
        "sagt\n",
        "samt\n",
        "sedan\n",
        "sen\n",
        "ser\n",
        "sex\n",
        "sextio\n",
        "sextionde\n",
        "sexton\n",
        "sextonde\n",
        "sig\n",
        "sin\n",
        "sina\n",
        "sist\n",
        "sista\n",
        "siste\n",
        "sitt\n",
        "sitta\n",
        "sju\n",
        "sjunde\n",
        "sjuttio\n",
        "sjuttionde\n",
        "sjutton\n",
        "sjuttonde\n",
        "själv\n",
        "sjätte\n",
        "ska\n",
        "skall\n",
        "skriver\n",
        "skulle\n",
        "slutligen\n",
        "snart\n",
        "som\n",
        "står\n",
        "säga\n",
        "säger\n",
        "sätt\n",
        "så\n",
        "sådan\n",
        "sådana\n",
        "sådant\n",
        "ta\n",
        "tack\n",
        "tar\n",
        "till\n",
        "tills\n",
        "tio\n",
        "tionde\n",
        "tjugo\n",
        "tjugoen\n",
        "tjugoett\n",
        "tjugonde\n",
        "tjugotre\n",
        "tjugotvå\n",
        "tjungo\n",
        "tog\n",
        "tolfte\n",
        "tolv\n",
        "tre\n",
        "tredje\n",
        "trettio\n",
        "trettionde\n",
        "tretton\n",
        "trettonde\n",
        "tro\n",
        "tror\n",
        "två\n",
        "tvåhundra\n",
        "under\n",
        "upp\n",
        "ur\n",
        "ut\n",
        "utan\n",
        "utanför\n",
        "ute\n",
        "vad\n",
        "var\n",
        "vara\n",
        "varför\n",
        "varifrån\n",
        "varit\n",
        "varje\n",
        "varken\n",
        "vars\n",
        "varsågod\n",
        "vart\n",
        "vem\n",
        "vems\n",
        "verkligen\n",
        "vet\n",
        "vi\n",
        "vid\n",
        "vidare\n",
        "vilka\n",
        "vilkas\n",
        "vilken\n",
        "vilket\n",
        "vill\n",
        "visst\n",
        "väl\n",
        "värre\n",
        "vår\n",
        "våra\n",
        "vårt\n",
        "än\n",
        "ändå\n",
        "ännu\n",
        "är\n",
        "även\n",
        "året\n",
        "åt\n",
        "åtminstone\n",
        "åtta\n",
        "åttio\n",
        "åttionde\n",
        "åttonde\n",
        "över\n",
        "övre'''.split()\n",
        "\n",
        "# stop words political \n",
        "\n",
        "politic_stop_se = '''alltså\n",
        "att\n",
        "av\n",
        "bakom\n",
        "bara\n",
        "bland\n",
        "blev\n",
        "bli\n",
        "blir\n",
        "blivit\n",
        "båda\n",
        "bådas\n",
        "både\n",
        "de\n",
        "del\n",
        "delen\n",
        "dem\n",
        "den\n",
        "denna\n",
        "deras\n",
        "dess\n",
        "dessa\n",
        "det\n",
        "detta\n",
        "dig\n",
        "din\n",
        "dina\n",
        "dit\n",
        "ditt\n",
        "dock\n",
        "dom\n",
        "du\n",
        "där\n",
        "därför\n",
        "då\n",
        "efter\n",
        "eftersom\n",
        "elfte\n",
        "eller\n",
        "elva\n",
        "en\n",
        "enkel\n",
        "enkelt\n",
        "enkla\n",
        "enligt\n",
        "er\n",
        "era\n",
        "ert\n",
        "ett\n",
        "fall\n",
        "fanns\n",
        "fast\n",
        "fick\n",
        "fin\n",
        "finnas\n",
        "finns\n",
        "fler\n",
        "flera\n",
        "flesta\n",
        "fram\n",
        "framför\n",
        "från\n",
        "få\n",
        "får\n",
        "fått\n",
        "följande\n",
        "för\n",
        "före\n",
        "förra\n",
        "första\n",
        "ge\n",
        "genast\n",
        "genom\n",
        "ger\n",
        "gick\n",
        "gjorde\n",
        "gjort\n",
        "gälla\n",
        "gäller\n",
        "gällt\n",
        "gå\n",
        "gång\n",
        "går\n",
        "gått\n",
        "gör\n",
        "göra\n",
        "ha\n",
        "hade\n",
        "haft\n",
        "han\n",
        "hans\n",
        "har\n",
        "hela\n",
        "heller\n",
        "hellre\n",
        "helst\n",
        "helt\n",
        "henne\n",
        "hennes\n",
        "heter\n",
        "hit\n",
        "hon\n",
        "honom\n",
        "hur\n",
        "här\n",
        "i\n",
        "ibland\n",
        "idag\n",
        "igen\n",
        "igår\n",
        "imorgon\n",
        "in\n",
        "inför\n",
        "inga\n",
        "innan\n",
        "inne\n",
        "inom\n",
        "inte\n",
        "inuti\n",
        "ja\n",
        "jag\n",
        "jämfört\n",
        "kan\n",
        "kanske\n",
        "knappast\n",
        "kolla\n",
        "kom\n",
        "komma\n",
        "kommer\n",
        "kommit\n",
        "kunde\n",
        "kunna\n",
        "kunnat\n",
        "kvar\n",
        "kör\n",
        "legat\n",
        "ligga\n",
        "ligger\n",
        "lilla\n",
        "lite\n",
        "liten\n",
        "litet\n",
        "lägga\n",
        "länge\n",
        "längre\n",
        "längst\n",
        "lätt\n",
        "lättare\n",
        "lättast\n",
        "långsam\n",
        "långsammare\n",
        "långsammast\n",
        "långsamt\n",
        "långt\n",
        "man\n",
        "med\n",
        "mellan\n",
        "men\n",
        "menar\n",
        "mer\n",
        "mera\n",
        "mest\n",
        "mig\n",
        "min\n",
        "mina\n",
        "mindre\n",
        "minst\n",
        "mitt\n",
        "mittemot\n",
        "mot\n",
        "mycket\n",
        "många\n",
        "måste\n",
        "möjlig\n",
        "möjligen\n",
        "möjligt\n",
        "möjligtvis\n",
        "ned\n",
        "nederst\n",
        "nedersta\n",
        "nedre\n",
        "nej\n",
        "ner\n",
        "ni\n",
        "nog\n",
        "nr\n",
        "nu\n",
        "när\n",
        "nästa\n",
        "någon\n",
        "någonting\n",
        "något\n",
        "några\n",
        "nån\n",
        "nåt\n",
        "och\n",
        "också\n",
        "ofta\n",
        "oftast\n",
        "olika\n",
        "olikt\n",
        "om\n",
        "oss\n",
        "på\n",
        "rakt\n",
        "redan\n",
        "rätt\n",
        "sade\n",
        "sagt\n",
        "samma\n",
        "samt\n",
        "sedan\n",
        "sen\n",
        "senare\n",
        "senast\n",
        "sent\n",
        "sig\n",
        "sin\n",
        "sina\n",
        "sist\n",
        "sista\n",
        "siste\n",
        "sitt\n",
        "ska\n",
        "skall\n",
        "skulle\n",
        "slutligen\n",
        "små\n",
        "smått\n",
        "snart\n",
        "som\n",
        "stor\n",
        "stora\n",
        "stort\n",
        "står\n",
        "säga\n",
        "säger\n",
        "sätt\n",
        "så\n",
        "ta\n",
        "tar\n",
        "till\n",
        "tills\n",
        "under\n",
        "upp\n",
        "ur\n",
        "ut\n",
        "utan\n",
        "ute\n",
        "vad\n",
        "var\n",
        "vara\n",
        "varför\n",
        "varifrån\n",
        "varit\n",
        "varje\n",
        "varken\n",
        "vart\n",
        "vem\n",
        "vems\n",
        "vet\n",
        "vi\n",
        "vid\n",
        "vidare\n",
        "vilka\n",
        "vilken\n",
        "vilket\n",
        "vill\n",
        "visst\n",
        "väl\n",
        "värre\n",
        "vår\n",
        "våra\n",
        "vårt\n",
        "än\n",
        "ändå\n",
        "ännu\n",
        "är\n",
        "även\n",
        "åtminstone\n",
        "över\n",
        "övermorgon\n",
        "ser\n",
        "skriver\n",
        "tog'''.split()\n"
      ],
      "execution_count": 22,
      "outputs": []
    },
    {
      "cell_type": "code",
      "metadata": {
        "colab": {
          "base_uri": "https://localhost:8080/",
          "height": 1000
        },
        "id": "o4doMZXSN25h",
        "outputId": "b822b082-b7b2-42e6-b185-ec8075056153"
      },
      "source": [
        "# TODO: Write code here to search for a better model and print the results\n",
        "from sklearn.linear_model import LogisticRegression\n",
        "from sklearn.preprocessing import StandardScaler\n",
        "\n",
        "# Improved pipeline\n",
        "pipe_improve = Pipeline([(\"countVectorizer\", CountVectorizer()), ('standardscaler', StandardScaler()), (\"LogisticRegression\", LogisticRegression(warm_start = True, multi_class=\"multinomial\", solver=\"lfbgs\"))])\n",
        "# pipe_improve.get_params().keys()\n",
        "# Parameters to grid search over\n",
        "param_improve = {\"countVectorizer__ngram_range\": [(1,1), (1,2)],\n",
        "                 \"countVectorizer__binary\": [True, False],\n",
        "                 \"LogisticRegression__C\": [0.3, 0.6, 0.9, 1.0], #inverse of regularization strength\n",
        "                 \"countVectorizer__stop_words\": [None, politic_stop_se, common_stop_se]} # Improve further by introducing swedish stop words?                                                                      \n",
        "\n",
        "grid_param_improve = GridSearchCV(pipe_improve, param_improve, cv=5, verbose = 2)\n",
        "\n",
        "grid_param_improve.fit(training_data[\"words\"], training_data[\"party\"])\n"
      ],
      "execution_count": 23,
      "outputs": [
        {
          "output_type": "stream",
          "name": "stdout",
          "text": [
            "Fitting 5 folds for each of 48 candidates, totalling 240 fits\n",
            "[CV] LogisticRegression__C=0.3, countVectorizer__binary=True, countVectorizer__ngram_range=(1, 1), countVectorizer__stop_words=None \n"
          ]
        },
        {
          "output_type": "stream",
          "name": "stderr",
          "text": [
            "[Parallel(n_jobs=1)]: Using backend SequentialBackend with 1 concurrent workers.\n",
            "/usr/local/lib/python3.7/dist-packages/sklearn/model_selection/_validation.py:536: FitFailedWarning: Estimator fit failed. The score on this train-test partition for these parameters will be set to nan. Details: \n",
            "ValueError: Cannot center sparse matrices: pass `with_mean=False` instead. See docstring for motivation and alternatives.\n",
            "\n",
            "  FitFailedWarning)\n",
            "[Parallel(n_jobs=1)]: Done   1 out of   1 | elapsed:    2.7s remaining:    0.0s\n"
          ]
        },
        {
          "output_type": "stream",
          "name": "stdout",
          "text": [
            "[CV]  LogisticRegression__C=0.3, countVectorizer__binary=True, countVectorizer__ngram_range=(1, 1), countVectorizer__stop_words=None, total=   2.7s\n",
            "[CV] LogisticRegression__C=0.3, countVectorizer__binary=True, countVectorizer__ngram_range=(1, 1), countVectorizer__stop_words=None \n",
            "[CV]  LogisticRegression__C=0.3, countVectorizer__binary=True, countVectorizer__ngram_range=(1, 1), countVectorizer__stop_words=None, total=   2.6s\n",
            "[CV] LogisticRegression__C=0.3, countVectorizer__binary=True, countVectorizer__ngram_range=(1, 1), countVectorizer__stop_words=None \n",
            "[CV]  LogisticRegression__C=0.3, countVectorizer__binary=True, countVectorizer__ngram_range=(1, 1), countVectorizer__stop_words=None, total=   2.6s\n",
            "[CV] LogisticRegression__C=0.3, countVectorizer__binary=True, countVectorizer__ngram_range=(1, 1), countVectorizer__stop_words=None \n",
            "[CV]  LogisticRegression__C=0.3, countVectorizer__binary=True, countVectorizer__ngram_range=(1, 1), countVectorizer__stop_words=None, total=   2.6s\n",
            "[CV] LogisticRegression__C=0.3, countVectorizer__binary=True, countVectorizer__ngram_range=(1, 1), countVectorizer__stop_words=None \n",
            "[CV]  LogisticRegression__C=0.3, countVectorizer__binary=True, countVectorizer__ngram_range=(1, 1), countVectorizer__stop_words=None, total=   2.6s\n",
            "[CV] LogisticRegression__C=0.3, countVectorizer__binary=True, countVectorizer__ngram_range=(1, 1), countVectorizer__stop_words=['alltså', 'att', 'av', 'bakom', 'bara', 'bland', 'blev', 'bli', 'blir', 'blivit', 'båda', 'bådas', 'både', 'de', 'del', 'delen', 'dem', 'den', 'denna', 'deras', 'dess', 'dessa', 'det', 'detta', 'dig', 'din', 'dina', 'dit', 'ditt', 'dock', 'dom', 'du', 'där', 'därför', 'då', 'efter', 'eftersom', 'elfte', 'eller', 'elva', 'en', 'enkel', 'enkelt', 'enkla', 'enligt', 'er', 'era', 'ert', 'ett', 'fall', 'fanns', 'fast', 'fick', 'fin', 'finnas', 'finns', 'fler', 'flera', 'flesta', 'fram', 'framför', 'från', 'få', 'får', 'fått', 'följande', 'för', 'före', 'förra', 'första', 'ge', 'genast', 'genom', 'ger', 'gick', 'gjorde', 'gjort', 'gälla', 'gäller', 'gällt', 'gå', 'gång', 'går', 'gått', 'gör', 'göra', 'ha', 'hade', 'haft', 'han', 'hans', 'har', 'hela', 'heller', 'hellre', 'helst', 'helt', 'henne', 'hennes', 'heter', 'hit', 'hon', 'honom', 'hur', 'här', 'i', 'ibland', 'idag', 'igen', 'igår', 'imorgon', 'in', 'inför', 'inga', 'innan', 'inne', 'inom', 'inte', 'inuti', 'ja', 'jag', 'jämfört', 'kan', 'kanske', 'knappast', 'kolla', 'kom', 'komma', 'kommer', 'kommit', 'kunde', 'kunna', 'kunnat', 'kvar', 'kör', 'legat', 'ligga', 'ligger', 'lilla', 'lite', 'liten', 'litet', 'lägga', 'länge', 'längre', 'längst', 'lätt', 'lättare', 'lättast', 'långsam', 'långsammare', 'långsammast', 'långsamt', 'långt', 'man', 'med', 'mellan', 'men', 'menar', 'mer', 'mera', 'mest', 'mig', 'min', 'mina', 'mindre', 'minst', 'mitt', 'mittemot', 'mot', 'mycket', 'många', 'måste', 'möjlig', 'möjligen', 'möjligt', 'möjligtvis', 'ned', 'nederst', 'nedersta', 'nedre', 'nej', 'ner', 'ni', 'nog', 'nr', 'nu', 'när', 'nästa', 'någon', 'någonting', 'något', 'några', 'nån', 'nåt', 'och', 'också', 'ofta', 'oftast', 'olika', 'olikt', 'om', 'oss', 'på', 'rakt', 'redan', 'rätt', 'sade', 'sagt', 'samma', 'samt', 'sedan', 'sen', 'senare', 'senast', 'sent', 'sig', 'sin', 'sina', 'sist', 'sista', 'siste', 'sitt', 'ska', 'skall', 'skulle', 'slutligen', 'små', 'smått', 'snart', 'som', 'stor', 'stora', 'stort', 'står', 'säga', 'säger', 'sätt', 'så', 'ta', 'tar', 'till', 'tills', 'under', 'upp', 'ur', 'ut', 'utan', 'ute', 'vad', 'var', 'vara', 'varför', 'varifrån', 'varit', 'varje', 'varken', 'vart', 'vem', 'vems', 'vet', 'vi', 'vid', 'vidare', 'vilka', 'vilken', 'vilket', 'vill', 'visst', 'väl', 'värre', 'vår', 'våra', 'vårt', 'än', 'ändå', 'ännu', 'är', 'även', 'åtminstone', 'över', 'övermorgon', 'ser', 'skriver', 'tog'] \n",
            "[CV]  LogisticRegression__C=0.3, countVectorizer__binary=True, countVectorizer__ngram_range=(1, 1), countVectorizer__stop_words=['alltså', 'att', 'av', 'bakom', 'bara', 'bland', 'blev', 'bli', 'blir', 'blivit', 'båda', 'bådas', 'både', 'de', 'del', 'delen', 'dem', 'den', 'denna', 'deras', 'dess', 'dessa', 'det', 'detta', 'dig', 'din', 'dina', 'dit', 'ditt', 'dock', 'dom', 'du', 'där', 'därför', 'då', 'efter', 'eftersom', 'elfte', 'eller', 'elva', 'en', 'enkel', 'enkelt', 'enkla', 'enligt', 'er', 'era', 'ert', 'ett', 'fall', 'fanns', 'fast', 'fick', 'fin', 'finnas', 'finns', 'fler', 'flera', 'flesta', 'fram', 'framför', 'från', 'få', 'får', 'fått', 'följande', 'för', 'före', 'förra', 'första', 'ge', 'genast', 'genom', 'ger', 'gick', 'gjorde', 'gjort', 'gälla', 'gäller', 'gällt', 'gå', 'gång', 'går', 'gått', 'gör', 'göra', 'ha', 'hade', 'haft', 'han', 'hans', 'har', 'hela', 'heller', 'hellre', 'helst', 'helt', 'henne', 'hennes', 'heter', 'hit', 'hon', 'honom', 'hur', 'här', 'i', 'ibland', 'idag', 'igen', 'igår', 'imorgon', 'in', 'inför', 'inga', 'innan', 'inne', 'inom', 'inte', 'inuti', 'ja', 'jag', 'jämfört', 'kan', 'kanske', 'knappast', 'kolla', 'kom', 'komma', 'kommer', 'kommit', 'kunde', 'kunna', 'kunnat', 'kvar', 'kör', 'legat', 'ligga', 'ligger', 'lilla', 'lite', 'liten', 'litet', 'lägga', 'länge', 'längre', 'längst', 'lätt', 'lättare', 'lättast', 'långsam', 'långsammare', 'långsammast', 'långsamt', 'långt', 'man', 'med', 'mellan', 'men', 'menar', 'mer', 'mera', 'mest', 'mig', 'min', 'mina', 'mindre', 'minst', 'mitt', 'mittemot', 'mot', 'mycket', 'många', 'måste', 'möjlig', 'möjligen', 'möjligt', 'möjligtvis', 'ned', 'nederst', 'nedersta', 'nedre', 'nej', 'ner', 'ni', 'nog', 'nr', 'nu', 'när', 'nästa', 'någon', 'någonting', 'något', 'några', 'nån', 'nåt', 'och', 'också', 'ofta', 'oftast', 'olika', 'olikt', 'om', 'oss', 'på', 'rakt', 'redan', 'rätt', 'sade', 'sagt', 'samma', 'samt', 'sedan', 'sen', 'senare', 'senast', 'sent', 'sig', 'sin', 'sina', 'sist', 'sista', 'siste', 'sitt', 'ska', 'skall', 'skulle', 'slutligen', 'små', 'smått', 'snart', 'som', 'stor', 'stora', 'stort', 'står', 'säga', 'säger', 'sätt', 'så', 'ta', 'tar', 'till', 'tills', 'under', 'upp', 'ur', 'ut', 'utan', 'ute', 'vad', 'var', 'vara', 'varför', 'varifrån', 'varit', 'varje', 'varken', 'vart', 'vem', 'vems', 'vet', 'vi', 'vid', 'vidare', 'vilka', 'vilken', 'vilket', 'vill', 'visst', 'väl', 'värre', 'vår', 'våra', 'vårt', 'än', 'ändå', 'ännu', 'är', 'även', 'åtminstone', 'över', 'övermorgon', 'ser', 'skriver', 'tog'], total=   2.3s\n",
            "[CV] LogisticRegression__C=0.3, countVectorizer__binary=True, countVectorizer__ngram_range=(1, 1), countVectorizer__stop_words=['alltså', 'att', 'av', 'bakom', 'bara', 'bland', 'blev', 'bli', 'blir', 'blivit', 'båda', 'bådas', 'både', 'de', 'del', 'delen', 'dem', 'den', 'denna', 'deras', 'dess', 'dessa', 'det', 'detta', 'dig', 'din', 'dina', 'dit', 'ditt', 'dock', 'dom', 'du', 'där', 'därför', 'då', 'efter', 'eftersom', 'elfte', 'eller', 'elva', 'en', 'enkel', 'enkelt', 'enkla', 'enligt', 'er', 'era', 'ert', 'ett', 'fall', 'fanns', 'fast', 'fick', 'fin', 'finnas', 'finns', 'fler', 'flera', 'flesta', 'fram', 'framför', 'från', 'få', 'får', 'fått', 'följande', 'för', 'före', 'förra', 'första', 'ge', 'genast', 'genom', 'ger', 'gick', 'gjorde', 'gjort', 'gälla', 'gäller', 'gällt', 'gå', 'gång', 'går', 'gått', 'gör', 'göra', 'ha', 'hade', 'haft', 'han', 'hans', 'har', 'hela', 'heller', 'hellre', 'helst', 'helt', 'henne', 'hennes', 'heter', 'hit', 'hon', 'honom', 'hur', 'här', 'i', 'ibland', 'idag', 'igen', 'igår', 'imorgon', 'in', 'inför', 'inga', 'innan', 'inne', 'inom', 'inte', 'inuti', 'ja', 'jag', 'jämfört', 'kan', 'kanske', 'knappast', 'kolla', 'kom', 'komma', 'kommer', 'kommit', 'kunde', 'kunna', 'kunnat', 'kvar', 'kör', 'legat', 'ligga', 'ligger', 'lilla', 'lite', 'liten', 'litet', 'lägga', 'länge', 'längre', 'längst', 'lätt', 'lättare', 'lättast', 'långsam', 'långsammare', 'långsammast', 'långsamt', 'långt', 'man', 'med', 'mellan', 'men', 'menar', 'mer', 'mera', 'mest', 'mig', 'min', 'mina', 'mindre', 'minst', 'mitt', 'mittemot', 'mot', 'mycket', 'många', 'måste', 'möjlig', 'möjligen', 'möjligt', 'möjligtvis', 'ned', 'nederst', 'nedersta', 'nedre', 'nej', 'ner', 'ni', 'nog', 'nr', 'nu', 'när', 'nästa', 'någon', 'någonting', 'något', 'några', 'nån', 'nåt', 'och', 'också', 'ofta', 'oftast', 'olika', 'olikt', 'om', 'oss', 'på', 'rakt', 'redan', 'rätt', 'sade', 'sagt', 'samma', 'samt', 'sedan', 'sen', 'senare', 'senast', 'sent', 'sig', 'sin', 'sina', 'sist', 'sista', 'siste', 'sitt', 'ska', 'skall', 'skulle', 'slutligen', 'små', 'smått', 'snart', 'som', 'stor', 'stora', 'stort', 'står', 'säga', 'säger', 'sätt', 'så', 'ta', 'tar', 'till', 'tills', 'under', 'upp', 'ur', 'ut', 'utan', 'ute', 'vad', 'var', 'vara', 'varför', 'varifrån', 'varit', 'varje', 'varken', 'vart', 'vem', 'vems', 'vet', 'vi', 'vid', 'vidare', 'vilka', 'vilken', 'vilket', 'vill', 'visst', 'väl', 'värre', 'vår', 'våra', 'vårt', 'än', 'ändå', 'ännu', 'är', 'även', 'åtminstone', 'över', 'övermorgon', 'ser', 'skriver', 'tog'] \n",
            "[CV]  LogisticRegression__C=0.3, countVectorizer__binary=True, countVectorizer__ngram_range=(1, 1), countVectorizer__stop_words=['alltså', 'att', 'av', 'bakom', 'bara', 'bland', 'blev', 'bli', 'blir', 'blivit', 'båda', 'bådas', 'både', 'de', 'del', 'delen', 'dem', 'den', 'denna', 'deras', 'dess', 'dessa', 'det', 'detta', 'dig', 'din', 'dina', 'dit', 'ditt', 'dock', 'dom', 'du', 'där', 'därför', 'då', 'efter', 'eftersom', 'elfte', 'eller', 'elva', 'en', 'enkel', 'enkelt', 'enkla', 'enligt', 'er', 'era', 'ert', 'ett', 'fall', 'fanns', 'fast', 'fick', 'fin', 'finnas', 'finns', 'fler', 'flera', 'flesta', 'fram', 'framför', 'från', 'få', 'får', 'fått', 'följande', 'för', 'före', 'förra', 'första', 'ge', 'genast', 'genom', 'ger', 'gick', 'gjorde', 'gjort', 'gälla', 'gäller', 'gällt', 'gå', 'gång', 'går', 'gått', 'gör', 'göra', 'ha', 'hade', 'haft', 'han', 'hans', 'har', 'hela', 'heller', 'hellre', 'helst', 'helt', 'henne', 'hennes', 'heter', 'hit', 'hon', 'honom', 'hur', 'här', 'i', 'ibland', 'idag', 'igen', 'igår', 'imorgon', 'in', 'inför', 'inga', 'innan', 'inne', 'inom', 'inte', 'inuti', 'ja', 'jag', 'jämfört', 'kan', 'kanske', 'knappast', 'kolla', 'kom', 'komma', 'kommer', 'kommit', 'kunde', 'kunna', 'kunnat', 'kvar', 'kör', 'legat', 'ligga', 'ligger', 'lilla', 'lite', 'liten', 'litet', 'lägga', 'länge', 'längre', 'längst', 'lätt', 'lättare', 'lättast', 'långsam', 'långsammare', 'långsammast', 'långsamt', 'långt', 'man', 'med', 'mellan', 'men', 'menar', 'mer', 'mera', 'mest', 'mig', 'min', 'mina', 'mindre', 'minst', 'mitt', 'mittemot', 'mot', 'mycket', 'många', 'måste', 'möjlig', 'möjligen', 'möjligt', 'möjligtvis', 'ned', 'nederst', 'nedersta', 'nedre', 'nej', 'ner', 'ni', 'nog', 'nr', 'nu', 'när', 'nästa', 'någon', 'någonting', 'något', 'några', 'nån', 'nåt', 'och', 'också', 'ofta', 'oftast', 'olika', 'olikt', 'om', 'oss', 'på', 'rakt', 'redan', 'rätt', 'sade', 'sagt', 'samma', 'samt', 'sedan', 'sen', 'senare', 'senast', 'sent', 'sig', 'sin', 'sina', 'sist', 'sista', 'siste', 'sitt', 'ska', 'skall', 'skulle', 'slutligen', 'små', 'smått', 'snart', 'som', 'stor', 'stora', 'stort', 'står', 'säga', 'säger', 'sätt', 'så', 'ta', 'tar', 'till', 'tills', 'under', 'upp', 'ur', 'ut', 'utan', 'ute', 'vad', 'var', 'vara', 'varför', 'varifrån', 'varit', 'varje', 'varken', 'vart', 'vem', 'vems', 'vet', 'vi', 'vid', 'vidare', 'vilka', 'vilken', 'vilket', 'vill', 'visst', 'väl', 'värre', 'vår', 'våra', 'vårt', 'än', 'ändå', 'ännu', 'är', 'även', 'åtminstone', 'över', 'övermorgon', 'ser', 'skriver', 'tog'], total=   2.3s\n",
            "[CV] LogisticRegression__C=0.3, countVectorizer__binary=True, countVectorizer__ngram_range=(1, 1), countVectorizer__stop_words=['alltså', 'att', 'av', 'bakom', 'bara', 'bland', 'blev', 'bli', 'blir', 'blivit', 'båda', 'bådas', 'både', 'de', 'del', 'delen', 'dem', 'den', 'denna', 'deras', 'dess', 'dessa', 'det', 'detta', 'dig', 'din', 'dina', 'dit', 'ditt', 'dock', 'dom', 'du', 'där', 'därför', 'då', 'efter', 'eftersom', 'elfte', 'eller', 'elva', 'en', 'enkel', 'enkelt', 'enkla', 'enligt', 'er', 'era', 'ert', 'ett', 'fall', 'fanns', 'fast', 'fick', 'fin', 'finnas', 'finns', 'fler', 'flera', 'flesta', 'fram', 'framför', 'från', 'få', 'får', 'fått', 'följande', 'för', 'före', 'förra', 'första', 'ge', 'genast', 'genom', 'ger', 'gick', 'gjorde', 'gjort', 'gälla', 'gäller', 'gällt', 'gå', 'gång', 'går', 'gått', 'gör', 'göra', 'ha', 'hade', 'haft', 'han', 'hans', 'har', 'hela', 'heller', 'hellre', 'helst', 'helt', 'henne', 'hennes', 'heter', 'hit', 'hon', 'honom', 'hur', 'här', 'i', 'ibland', 'idag', 'igen', 'igår', 'imorgon', 'in', 'inför', 'inga', 'innan', 'inne', 'inom', 'inte', 'inuti', 'ja', 'jag', 'jämfört', 'kan', 'kanske', 'knappast', 'kolla', 'kom', 'komma', 'kommer', 'kommit', 'kunde', 'kunna', 'kunnat', 'kvar', 'kör', 'legat', 'ligga', 'ligger', 'lilla', 'lite', 'liten', 'litet', 'lägga', 'länge', 'längre', 'längst', 'lätt', 'lättare', 'lättast', 'långsam', 'långsammare', 'långsammast', 'långsamt', 'långt', 'man', 'med', 'mellan', 'men', 'menar', 'mer', 'mera', 'mest', 'mig', 'min', 'mina', 'mindre', 'minst', 'mitt', 'mittemot', 'mot', 'mycket', 'många', 'måste', 'möjlig', 'möjligen', 'möjligt', 'möjligtvis', 'ned', 'nederst', 'nedersta', 'nedre', 'nej', 'ner', 'ni', 'nog', 'nr', 'nu', 'när', 'nästa', 'någon', 'någonting', 'något', 'några', 'nån', 'nåt', 'och', 'också', 'ofta', 'oftast', 'olika', 'olikt', 'om', 'oss', 'på', 'rakt', 'redan', 'rätt', 'sade', 'sagt', 'samma', 'samt', 'sedan', 'sen', 'senare', 'senast', 'sent', 'sig', 'sin', 'sina', 'sist', 'sista', 'siste', 'sitt', 'ska', 'skall', 'skulle', 'slutligen', 'små', 'smått', 'snart', 'som', 'stor', 'stora', 'stort', 'står', 'säga', 'säger', 'sätt', 'så', 'ta', 'tar', 'till', 'tills', 'under', 'upp', 'ur', 'ut', 'utan', 'ute', 'vad', 'var', 'vara', 'varför', 'varifrån', 'varit', 'varje', 'varken', 'vart', 'vem', 'vems', 'vet', 'vi', 'vid', 'vidare', 'vilka', 'vilken', 'vilket', 'vill', 'visst', 'väl', 'värre', 'vår', 'våra', 'vårt', 'än', 'ändå', 'ännu', 'är', 'även', 'åtminstone', 'över', 'övermorgon', 'ser', 'skriver', 'tog'] \n",
            "[CV]  LogisticRegression__C=0.3, countVectorizer__binary=True, countVectorizer__ngram_range=(1, 1), countVectorizer__stop_words=['alltså', 'att', 'av', 'bakom', 'bara', 'bland', 'blev', 'bli', 'blir', 'blivit', 'båda', 'bådas', 'både', 'de', 'del', 'delen', 'dem', 'den', 'denna', 'deras', 'dess', 'dessa', 'det', 'detta', 'dig', 'din', 'dina', 'dit', 'ditt', 'dock', 'dom', 'du', 'där', 'därför', 'då', 'efter', 'eftersom', 'elfte', 'eller', 'elva', 'en', 'enkel', 'enkelt', 'enkla', 'enligt', 'er', 'era', 'ert', 'ett', 'fall', 'fanns', 'fast', 'fick', 'fin', 'finnas', 'finns', 'fler', 'flera', 'flesta', 'fram', 'framför', 'från', 'få', 'får', 'fått', 'följande', 'för', 'före', 'förra', 'första', 'ge', 'genast', 'genom', 'ger', 'gick', 'gjorde', 'gjort', 'gälla', 'gäller', 'gällt', 'gå', 'gång', 'går', 'gått', 'gör', 'göra', 'ha', 'hade', 'haft', 'han', 'hans', 'har', 'hela', 'heller', 'hellre', 'helst', 'helt', 'henne', 'hennes', 'heter', 'hit', 'hon', 'honom', 'hur', 'här', 'i', 'ibland', 'idag', 'igen', 'igår', 'imorgon', 'in', 'inför', 'inga', 'innan', 'inne', 'inom', 'inte', 'inuti', 'ja', 'jag', 'jämfört', 'kan', 'kanske', 'knappast', 'kolla', 'kom', 'komma', 'kommer', 'kommit', 'kunde', 'kunna', 'kunnat', 'kvar', 'kör', 'legat', 'ligga', 'ligger', 'lilla', 'lite', 'liten', 'litet', 'lägga', 'länge', 'längre', 'längst', 'lätt', 'lättare', 'lättast', 'långsam', 'långsammare', 'långsammast', 'långsamt', 'långt', 'man', 'med', 'mellan', 'men', 'menar', 'mer', 'mera', 'mest', 'mig', 'min', 'mina', 'mindre', 'minst', 'mitt', 'mittemot', 'mot', 'mycket', 'många', 'måste', 'möjlig', 'möjligen', 'möjligt', 'möjligtvis', 'ned', 'nederst', 'nedersta', 'nedre', 'nej', 'ner', 'ni', 'nog', 'nr', 'nu', 'när', 'nästa', 'någon', 'någonting', 'något', 'några', 'nån', 'nåt', 'och', 'också', 'ofta', 'oftast', 'olika', 'olikt', 'om', 'oss', 'på', 'rakt', 'redan', 'rätt', 'sade', 'sagt', 'samma', 'samt', 'sedan', 'sen', 'senare', 'senast', 'sent', 'sig', 'sin', 'sina', 'sist', 'sista', 'siste', 'sitt', 'ska', 'skall', 'skulle', 'slutligen', 'små', 'smått', 'snart', 'som', 'stor', 'stora', 'stort', 'står', 'säga', 'säger', 'sätt', 'så', 'ta', 'tar', 'till', 'tills', 'under', 'upp', 'ur', 'ut', 'utan', 'ute', 'vad', 'var', 'vara', 'varför', 'varifrån', 'varit', 'varje', 'varken', 'vart', 'vem', 'vems', 'vet', 'vi', 'vid', 'vidare', 'vilka', 'vilken', 'vilket', 'vill', 'visst', 'väl', 'värre', 'vår', 'våra', 'vårt', 'än', 'ändå', 'ännu', 'är', 'även', 'åtminstone', 'över', 'övermorgon', 'ser', 'skriver', 'tog'], total=   2.4s\n",
            "[CV] LogisticRegression__C=0.3, countVectorizer__binary=True, countVectorizer__ngram_range=(1, 1), countVectorizer__stop_words=['alltså', 'att', 'av', 'bakom', 'bara', 'bland', 'blev', 'bli', 'blir', 'blivit', 'båda', 'bådas', 'både', 'de', 'del', 'delen', 'dem', 'den', 'denna', 'deras', 'dess', 'dessa', 'det', 'detta', 'dig', 'din', 'dina', 'dit', 'ditt', 'dock', 'dom', 'du', 'där', 'därför', 'då', 'efter', 'eftersom', 'elfte', 'eller', 'elva', 'en', 'enkel', 'enkelt', 'enkla', 'enligt', 'er', 'era', 'ert', 'ett', 'fall', 'fanns', 'fast', 'fick', 'fin', 'finnas', 'finns', 'fler', 'flera', 'flesta', 'fram', 'framför', 'från', 'få', 'får', 'fått', 'följande', 'för', 'före', 'förra', 'första', 'ge', 'genast', 'genom', 'ger', 'gick', 'gjorde', 'gjort', 'gälla', 'gäller', 'gällt', 'gå', 'gång', 'går', 'gått', 'gör', 'göra', 'ha', 'hade', 'haft', 'han', 'hans', 'har', 'hela', 'heller', 'hellre', 'helst', 'helt', 'henne', 'hennes', 'heter', 'hit', 'hon', 'honom', 'hur', 'här', 'i', 'ibland', 'idag', 'igen', 'igår', 'imorgon', 'in', 'inför', 'inga', 'innan', 'inne', 'inom', 'inte', 'inuti', 'ja', 'jag', 'jämfört', 'kan', 'kanske', 'knappast', 'kolla', 'kom', 'komma', 'kommer', 'kommit', 'kunde', 'kunna', 'kunnat', 'kvar', 'kör', 'legat', 'ligga', 'ligger', 'lilla', 'lite', 'liten', 'litet', 'lägga', 'länge', 'längre', 'längst', 'lätt', 'lättare', 'lättast', 'långsam', 'långsammare', 'långsammast', 'långsamt', 'långt', 'man', 'med', 'mellan', 'men', 'menar', 'mer', 'mera', 'mest', 'mig', 'min', 'mina', 'mindre', 'minst', 'mitt', 'mittemot', 'mot', 'mycket', 'många', 'måste', 'möjlig', 'möjligen', 'möjligt', 'möjligtvis', 'ned', 'nederst', 'nedersta', 'nedre', 'nej', 'ner', 'ni', 'nog', 'nr', 'nu', 'när', 'nästa', 'någon', 'någonting', 'något', 'några', 'nån', 'nåt', 'och', 'också', 'ofta', 'oftast', 'olika', 'olikt', 'om', 'oss', 'på', 'rakt', 'redan', 'rätt', 'sade', 'sagt', 'samma', 'samt', 'sedan', 'sen', 'senare', 'senast', 'sent', 'sig', 'sin', 'sina', 'sist', 'sista', 'siste', 'sitt', 'ska', 'skall', 'skulle', 'slutligen', 'små', 'smått', 'snart', 'som', 'stor', 'stora', 'stort', 'står', 'säga', 'säger', 'sätt', 'så', 'ta', 'tar', 'till', 'tills', 'under', 'upp', 'ur', 'ut', 'utan', 'ute', 'vad', 'var', 'vara', 'varför', 'varifrån', 'varit', 'varje', 'varken', 'vart', 'vem', 'vems', 'vet', 'vi', 'vid', 'vidare', 'vilka', 'vilken', 'vilket', 'vill', 'visst', 'väl', 'värre', 'vår', 'våra', 'vårt', 'än', 'ändå', 'ännu', 'är', 'även', 'åtminstone', 'över', 'övermorgon', 'ser', 'skriver', 'tog'] \n",
            "[CV]  LogisticRegression__C=0.3, countVectorizer__binary=True, countVectorizer__ngram_range=(1, 1), countVectorizer__stop_words=['alltså', 'att', 'av', 'bakom', 'bara', 'bland', 'blev', 'bli', 'blir', 'blivit', 'båda', 'bådas', 'både', 'de', 'del', 'delen', 'dem', 'den', 'denna', 'deras', 'dess', 'dessa', 'det', 'detta', 'dig', 'din', 'dina', 'dit', 'ditt', 'dock', 'dom', 'du', 'där', 'därför', 'då', 'efter', 'eftersom', 'elfte', 'eller', 'elva', 'en', 'enkel', 'enkelt', 'enkla', 'enligt', 'er', 'era', 'ert', 'ett', 'fall', 'fanns', 'fast', 'fick', 'fin', 'finnas', 'finns', 'fler', 'flera', 'flesta', 'fram', 'framför', 'från', 'få', 'får', 'fått', 'följande', 'för', 'före', 'förra', 'första', 'ge', 'genast', 'genom', 'ger', 'gick', 'gjorde', 'gjort', 'gälla', 'gäller', 'gällt', 'gå', 'gång', 'går', 'gått', 'gör', 'göra', 'ha', 'hade', 'haft', 'han', 'hans', 'har', 'hela', 'heller', 'hellre', 'helst', 'helt', 'henne', 'hennes', 'heter', 'hit', 'hon', 'honom', 'hur', 'här', 'i', 'ibland', 'idag', 'igen', 'igår', 'imorgon', 'in', 'inför', 'inga', 'innan', 'inne', 'inom', 'inte', 'inuti', 'ja', 'jag', 'jämfört', 'kan', 'kanske', 'knappast', 'kolla', 'kom', 'komma', 'kommer', 'kommit', 'kunde', 'kunna', 'kunnat', 'kvar', 'kör', 'legat', 'ligga', 'ligger', 'lilla', 'lite', 'liten', 'litet', 'lägga', 'länge', 'längre', 'längst', 'lätt', 'lättare', 'lättast', 'långsam', 'långsammare', 'långsammast', 'långsamt', 'långt', 'man', 'med', 'mellan', 'men', 'menar', 'mer', 'mera', 'mest', 'mig', 'min', 'mina', 'mindre', 'minst', 'mitt', 'mittemot', 'mot', 'mycket', 'många', 'måste', 'möjlig', 'möjligen', 'möjligt', 'möjligtvis', 'ned', 'nederst', 'nedersta', 'nedre', 'nej', 'ner', 'ni', 'nog', 'nr', 'nu', 'när', 'nästa', 'någon', 'någonting', 'något', 'några', 'nån', 'nåt', 'och', 'också', 'ofta', 'oftast', 'olika', 'olikt', 'om', 'oss', 'på', 'rakt', 'redan', 'rätt', 'sade', 'sagt', 'samma', 'samt', 'sedan', 'sen', 'senare', 'senast', 'sent', 'sig', 'sin', 'sina', 'sist', 'sista', 'siste', 'sitt', 'ska', 'skall', 'skulle', 'slutligen', 'små', 'smått', 'snart', 'som', 'stor', 'stora', 'stort', 'står', 'säga', 'säger', 'sätt', 'så', 'ta', 'tar', 'till', 'tills', 'under', 'upp', 'ur', 'ut', 'utan', 'ute', 'vad', 'var', 'vara', 'varför', 'varifrån', 'varit', 'varje', 'varken', 'vart', 'vem', 'vems', 'vet', 'vi', 'vid', 'vidare', 'vilka', 'vilken', 'vilket', 'vill', 'visst', 'väl', 'värre', 'vår', 'våra', 'vårt', 'än', 'ändå', 'ännu', 'är', 'även', 'åtminstone', 'över', 'övermorgon', 'ser', 'skriver', 'tog'], total=   2.4s\n",
            "[CV] LogisticRegression__C=0.3, countVectorizer__binary=True, countVectorizer__ngram_range=(1, 1), countVectorizer__stop_words=['alltså', 'att', 'av', 'bakom', 'bara', 'bland', 'blev', 'bli', 'blir', 'blivit', 'båda', 'bådas', 'både', 'de', 'del', 'delen', 'dem', 'den', 'denna', 'deras', 'dess', 'dessa', 'det', 'detta', 'dig', 'din', 'dina', 'dit', 'ditt', 'dock', 'dom', 'du', 'där', 'därför', 'då', 'efter', 'eftersom', 'elfte', 'eller', 'elva', 'en', 'enkel', 'enkelt', 'enkla', 'enligt', 'er', 'era', 'ert', 'ett', 'fall', 'fanns', 'fast', 'fick', 'fin', 'finnas', 'finns', 'fler', 'flera', 'flesta', 'fram', 'framför', 'från', 'få', 'får', 'fått', 'följande', 'för', 'före', 'förra', 'första', 'ge', 'genast', 'genom', 'ger', 'gick', 'gjorde', 'gjort', 'gälla', 'gäller', 'gällt', 'gå', 'gång', 'går', 'gått', 'gör', 'göra', 'ha', 'hade', 'haft', 'han', 'hans', 'har', 'hela', 'heller', 'hellre', 'helst', 'helt', 'henne', 'hennes', 'heter', 'hit', 'hon', 'honom', 'hur', 'här', 'i', 'ibland', 'idag', 'igen', 'igår', 'imorgon', 'in', 'inför', 'inga', 'innan', 'inne', 'inom', 'inte', 'inuti', 'ja', 'jag', 'jämfört', 'kan', 'kanske', 'knappast', 'kolla', 'kom', 'komma', 'kommer', 'kommit', 'kunde', 'kunna', 'kunnat', 'kvar', 'kör', 'legat', 'ligga', 'ligger', 'lilla', 'lite', 'liten', 'litet', 'lägga', 'länge', 'längre', 'längst', 'lätt', 'lättare', 'lättast', 'långsam', 'långsammare', 'långsammast', 'långsamt', 'långt', 'man', 'med', 'mellan', 'men', 'menar', 'mer', 'mera', 'mest', 'mig', 'min', 'mina', 'mindre', 'minst', 'mitt', 'mittemot', 'mot', 'mycket', 'många', 'måste', 'möjlig', 'möjligen', 'möjligt', 'möjligtvis', 'ned', 'nederst', 'nedersta', 'nedre', 'nej', 'ner', 'ni', 'nog', 'nr', 'nu', 'när', 'nästa', 'någon', 'någonting', 'något', 'några', 'nån', 'nåt', 'och', 'också', 'ofta', 'oftast', 'olika', 'olikt', 'om', 'oss', 'på', 'rakt', 'redan', 'rätt', 'sade', 'sagt', 'samma', 'samt', 'sedan', 'sen', 'senare', 'senast', 'sent', 'sig', 'sin', 'sina', 'sist', 'sista', 'siste', 'sitt', 'ska', 'skall', 'skulle', 'slutligen', 'små', 'smått', 'snart', 'som', 'stor', 'stora', 'stort', 'står', 'säga', 'säger', 'sätt', 'så', 'ta', 'tar', 'till', 'tills', 'under', 'upp', 'ur', 'ut', 'utan', 'ute', 'vad', 'var', 'vara', 'varför', 'varifrån', 'varit', 'varje', 'varken', 'vart', 'vem', 'vems', 'vet', 'vi', 'vid', 'vidare', 'vilka', 'vilken', 'vilket', 'vill', 'visst', 'väl', 'värre', 'vår', 'våra', 'vårt', 'än', 'ändå', 'ännu', 'är', 'även', 'åtminstone', 'över', 'övermorgon', 'ser', 'skriver', 'tog'] \n",
            "[CV]  LogisticRegression__C=0.3, countVectorizer__binary=True, countVectorizer__ngram_range=(1, 1), countVectorizer__stop_words=['alltså', 'att', 'av', 'bakom', 'bara', 'bland', 'blev', 'bli', 'blir', 'blivit', 'båda', 'bådas', 'både', 'de', 'del', 'delen', 'dem', 'den', 'denna', 'deras', 'dess', 'dessa', 'det', 'detta', 'dig', 'din', 'dina', 'dit', 'ditt', 'dock', 'dom', 'du', 'där', 'därför', 'då', 'efter', 'eftersom', 'elfte', 'eller', 'elva', 'en', 'enkel', 'enkelt', 'enkla', 'enligt', 'er', 'era', 'ert', 'ett', 'fall', 'fanns', 'fast', 'fick', 'fin', 'finnas', 'finns', 'fler', 'flera', 'flesta', 'fram', 'framför', 'från', 'få', 'får', 'fått', 'följande', 'för', 'före', 'förra', 'första', 'ge', 'genast', 'genom', 'ger', 'gick', 'gjorde', 'gjort', 'gälla', 'gäller', 'gällt', 'gå', 'gång', 'går', 'gått', 'gör', 'göra', 'ha', 'hade', 'haft', 'han', 'hans', 'har', 'hela', 'heller', 'hellre', 'helst', 'helt', 'henne', 'hennes', 'heter', 'hit', 'hon', 'honom', 'hur', 'här', 'i', 'ibland', 'idag', 'igen', 'igår', 'imorgon', 'in', 'inför', 'inga', 'innan', 'inne', 'inom', 'inte', 'inuti', 'ja', 'jag', 'jämfört', 'kan', 'kanske', 'knappast', 'kolla', 'kom', 'komma', 'kommer', 'kommit', 'kunde', 'kunna', 'kunnat', 'kvar', 'kör', 'legat', 'ligga', 'ligger', 'lilla', 'lite', 'liten', 'litet', 'lägga', 'länge', 'längre', 'längst', 'lätt', 'lättare', 'lättast', 'långsam', 'långsammare', 'långsammast', 'långsamt', 'långt', 'man', 'med', 'mellan', 'men', 'menar', 'mer', 'mera', 'mest', 'mig', 'min', 'mina', 'mindre', 'minst', 'mitt', 'mittemot', 'mot', 'mycket', 'många', 'måste', 'möjlig', 'möjligen', 'möjligt', 'möjligtvis', 'ned', 'nederst', 'nedersta', 'nedre', 'nej', 'ner', 'ni', 'nog', 'nr', 'nu', 'när', 'nästa', 'någon', 'någonting', 'något', 'några', 'nån', 'nåt', 'och', 'också', 'ofta', 'oftast', 'olika', 'olikt', 'om', 'oss', 'på', 'rakt', 'redan', 'rätt', 'sade', 'sagt', 'samma', 'samt', 'sedan', 'sen', 'senare', 'senast', 'sent', 'sig', 'sin', 'sina', 'sist', 'sista', 'siste', 'sitt', 'ska', 'skall', 'skulle', 'slutligen', 'små', 'smått', 'snart', 'som', 'stor', 'stora', 'stort', 'står', 'säga', 'säger', 'sätt', 'så', 'ta', 'tar', 'till', 'tills', 'under', 'upp', 'ur', 'ut', 'utan', 'ute', 'vad', 'var', 'vara', 'varför', 'varifrån', 'varit', 'varje', 'varken', 'vart', 'vem', 'vems', 'vet', 'vi', 'vid', 'vidare', 'vilka', 'vilken', 'vilket', 'vill', 'visst', 'väl', 'värre', 'vår', 'våra', 'vårt', 'än', 'ändå', 'ännu', 'är', 'även', 'åtminstone', 'över', 'övermorgon', 'ser', 'skriver', 'tog'], total=   2.3s\n",
            "[CV] LogisticRegression__C=0.3, countVectorizer__binary=True, countVectorizer__ngram_range=(1, 1), countVectorizer__stop_words=['all', 'alla', 'allas', 'allt', 'alltså', 'andra', 'andras', 'annan', 'annat', 'artonde', 'artonn', 'att', 'av', 'bakom', 'bara', 'bland', 'blev', 'bli', 'blir', 'blivit', 'båda', 'bådas', 'både', 'dag', 'dagar', 'dagarna', 'dagen', 'de', 'del', 'delen', 'dem', 'den', 'denna', 'deras', 'dess', 'dessa', 'det', 'detta', 'dig', 'din', 'dina', 'dit', 'ditt', 'dock', 'dom', 'du', 'där', 'därför', 'då', 'efter', 'eftersom', 'ej', 'elfte', 'eller', 'elva', 'en', 'er', 'era', 'ert', 'ett', 'fall', 'fanns', 'fast', 'fem', 'femte', 'femtio', 'femtionde', 'femton', 'femtonde', 'fick', 'fin', 'finnas', 'finns', 'fjorton', 'fjortonde', 'fjärde', 'fler', 'flera', 'flesta', 'fram', 'framför', 'från', 'fyra', 'fyrtio', 'fyrtionde', 'få', 'får', 'fått', 'för', 'före', 'förra', 'första', 'ge', 'genom', 'ger', 'gick', 'gjorde', 'gjort', 'gälla', 'gäller', 'gällt', 'gärna', 'gå', 'gång', 'går', 'gått', 'gör', 'göra', 'ha', 'hade', 'haft', 'han', 'hans', 'har', 'hela', 'heller', 'hellre', 'helst', 'helt', 'henne', 'hennes', 'heter', 'hit', 'hjälp', 'hon', 'honom', 'hundra', 'hundraen', 'hundraett', 'hur', 'här', 'i', 'ibland', 'icke', 'igen', 'in', 'inför', 'inga', 'ingen', 'inget', 'innan', 'inne', 'inom', 'inte', 'inuti', 'ja', 'jag', 'ju', 'jämfört', 'kan', 'kom', 'komma', 'kommer', 'kommit', 'kunde', 'kunna', 'kunnat', 'kvar', 'kör', 'legat', 'ligga', 'ligger', 'lägga', 'man', 'med', 'mellan', 'men', 'menar', 'mer', 'mera', 'mig', 'min', 'mina', 'mitt', 'mittemot', 'mot', 'ned', 'nederst', 'nedersta', 'nedre', 'nej', 'ner', 'ni', 'nio', 'nionde', 'nittio', 'nittionde', 'nitton', 'nittonde', 'nog', 'noll', 'nr', 'nu', 'nummer', 'nya', 'när', 'nästa', 'någon', 'någonting', 'något', 'några', 'nån', 'nåt', 'och', 'också', 'om', 'oss', 'på', 'rakt', 'redan', 'sade', 'sagt', 'samt', 'sedan', 'sen', 'ser', 'sex', 'sextio', 'sextionde', 'sexton', 'sextonde', 'sig', 'sin', 'sina', 'sist', 'sista', 'siste', 'sitt', 'sitta', 'sju', 'sjunde', 'sjuttio', 'sjuttionde', 'sjutton', 'sjuttonde', 'själv', 'sjätte', 'ska', 'skall', 'skriver', 'skulle', 'slutligen', 'snart', 'som', 'står', 'säga', 'säger', 'sätt', 'så', 'sådan', 'sådana', 'sådant', 'ta', 'tack', 'tar', 'till', 'tills', 'tio', 'tionde', 'tjugo', 'tjugoen', 'tjugoett', 'tjugonde', 'tjugotre', 'tjugotvå', 'tjungo', 'tog', 'tolfte', 'tolv', 'tre', 'tredje', 'trettio', 'trettionde', 'tretton', 'trettonde', 'tro', 'tror', 'två', 'tvåhundra', 'under', 'upp', 'ur', 'ut', 'utan', 'utanför', 'ute', 'vad', 'var', 'vara', 'varför', 'varifrån', 'varit', 'varje', 'varken', 'vars', 'varsågod', 'vart', 'vem', 'vems', 'verkligen', 'vet', 'vi', 'vid', 'vidare', 'vilka', 'vilkas', 'vilken', 'vilket', 'vill', 'visst', 'väl', 'värre', 'vår', 'våra', 'vårt', 'än', 'ändå', 'ännu', 'är', 'även', 'året', 'åt', 'åtminstone', 'åtta', 'åttio', 'åttionde', 'åttonde', 'över', 'övre'] \n",
            "[CV]  LogisticRegression__C=0.3, countVectorizer__binary=True, countVectorizer__ngram_range=(1, 1), countVectorizer__stop_words=['all', 'alla', 'allas', 'allt', 'alltså', 'andra', 'andras', 'annan', 'annat', 'artonde', 'artonn', 'att', 'av', 'bakom', 'bara', 'bland', 'blev', 'bli', 'blir', 'blivit', 'båda', 'bådas', 'både', 'dag', 'dagar', 'dagarna', 'dagen', 'de', 'del', 'delen', 'dem', 'den', 'denna', 'deras', 'dess', 'dessa', 'det', 'detta', 'dig', 'din', 'dina', 'dit', 'ditt', 'dock', 'dom', 'du', 'där', 'därför', 'då', 'efter', 'eftersom', 'ej', 'elfte', 'eller', 'elva', 'en', 'er', 'era', 'ert', 'ett', 'fall', 'fanns', 'fast', 'fem', 'femte', 'femtio', 'femtionde', 'femton', 'femtonde', 'fick', 'fin', 'finnas', 'finns', 'fjorton', 'fjortonde', 'fjärde', 'fler', 'flera', 'flesta', 'fram', 'framför', 'från', 'fyra', 'fyrtio', 'fyrtionde', 'få', 'får', 'fått', 'för', 'före', 'förra', 'första', 'ge', 'genom', 'ger', 'gick', 'gjorde', 'gjort', 'gälla', 'gäller', 'gällt', 'gärna', 'gå', 'gång', 'går', 'gått', 'gör', 'göra', 'ha', 'hade', 'haft', 'han', 'hans', 'har', 'hela', 'heller', 'hellre', 'helst', 'helt', 'henne', 'hennes', 'heter', 'hit', 'hjälp', 'hon', 'honom', 'hundra', 'hundraen', 'hundraett', 'hur', 'här', 'i', 'ibland', 'icke', 'igen', 'in', 'inför', 'inga', 'ingen', 'inget', 'innan', 'inne', 'inom', 'inte', 'inuti', 'ja', 'jag', 'ju', 'jämfört', 'kan', 'kom', 'komma', 'kommer', 'kommit', 'kunde', 'kunna', 'kunnat', 'kvar', 'kör', 'legat', 'ligga', 'ligger', 'lägga', 'man', 'med', 'mellan', 'men', 'menar', 'mer', 'mera', 'mig', 'min', 'mina', 'mitt', 'mittemot', 'mot', 'ned', 'nederst', 'nedersta', 'nedre', 'nej', 'ner', 'ni', 'nio', 'nionde', 'nittio', 'nittionde', 'nitton', 'nittonde', 'nog', 'noll', 'nr', 'nu', 'nummer', 'nya', 'när', 'nästa', 'någon', 'någonting', 'något', 'några', 'nån', 'nåt', 'och', 'också', 'om', 'oss', 'på', 'rakt', 'redan', 'sade', 'sagt', 'samt', 'sedan', 'sen', 'ser', 'sex', 'sextio', 'sextionde', 'sexton', 'sextonde', 'sig', 'sin', 'sina', 'sist', 'sista', 'siste', 'sitt', 'sitta', 'sju', 'sjunde', 'sjuttio', 'sjuttionde', 'sjutton', 'sjuttonde', 'själv', 'sjätte', 'ska', 'skall', 'skriver', 'skulle', 'slutligen', 'snart', 'som', 'står', 'säga', 'säger', 'sätt', 'så', 'sådan', 'sådana', 'sådant', 'ta', 'tack', 'tar', 'till', 'tills', 'tio', 'tionde', 'tjugo', 'tjugoen', 'tjugoett', 'tjugonde', 'tjugotre', 'tjugotvå', 'tjungo', 'tog', 'tolfte', 'tolv', 'tre', 'tredje', 'trettio', 'trettionde', 'tretton', 'trettonde', 'tro', 'tror', 'två', 'tvåhundra', 'under', 'upp', 'ur', 'ut', 'utan', 'utanför', 'ute', 'vad', 'var', 'vara', 'varför', 'varifrån', 'varit', 'varje', 'varken', 'vars', 'varsågod', 'vart', 'vem', 'vems', 'verkligen', 'vet', 'vi', 'vid', 'vidare', 'vilka', 'vilkas', 'vilken', 'vilket', 'vill', 'visst', 'väl', 'värre', 'vår', 'våra', 'vårt', 'än', 'ändå', 'ännu', 'är', 'även', 'året', 'åt', 'åtminstone', 'åtta', 'åttio', 'åttionde', 'åttonde', 'över', 'övre'], total=   2.3s\n",
            "[CV] LogisticRegression__C=0.3, countVectorizer__binary=True, countVectorizer__ngram_range=(1, 1), countVectorizer__stop_words=['all', 'alla', 'allas', 'allt', 'alltså', 'andra', 'andras', 'annan', 'annat', 'artonde', 'artonn', 'att', 'av', 'bakom', 'bara', 'bland', 'blev', 'bli', 'blir', 'blivit', 'båda', 'bådas', 'både', 'dag', 'dagar', 'dagarna', 'dagen', 'de', 'del', 'delen', 'dem', 'den', 'denna', 'deras', 'dess', 'dessa', 'det', 'detta', 'dig', 'din', 'dina', 'dit', 'ditt', 'dock', 'dom', 'du', 'där', 'därför', 'då', 'efter', 'eftersom', 'ej', 'elfte', 'eller', 'elva', 'en', 'er', 'era', 'ert', 'ett', 'fall', 'fanns', 'fast', 'fem', 'femte', 'femtio', 'femtionde', 'femton', 'femtonde', 'fick', 'fin', 'finnas', 'finns', 'fjorton', 'fjortonde', 'fjärde', 'fler', 'flera', 'flesta', 'fram', 'framför', 'från', 'fyra', 'fyrtio', 'fyrtionde', 'få', 'får', 'fått', 'för', 'före', 'förra', 'första', 'ge', 'genom', 'ger', 'gick', 'gjorde', 'gjort', 'gälla', 'gäller', 'gällt', 'gärna', 'gå', 'gång', 'går', 'gått', 'gör', 'göra', 'ha', 'hade', 'haft', 'han', 'hans', 'har', 'hela', 'heller', 'hellre', 'helst', 'helt', 'henne', 'hennes', 'heter', 'hit', 'hjälp', 'hon', 'honom', 'hundra', 'hundraen', 'hundraett', 'hur', 'här', 'i', 'ibland', 'icke', 'igen', 'in', 'inför', 'inga', 'ingen', 'inget', 'innan', 'inne', 'inom', 'inte', 'inuti', 'ja', 'jag', 'ju', 'jämfört', 'kan', 'kom', 'komma', 'kommer', 'kommit', 'kunde', 'kunna', 'kunnat', 'kvar', 'kör', 'legat', 'ligga', 'ligger', 'lägga', 'man', 'med', 'mellan', 'men', 'menar', 'mer', 'mera', 'mig', 'min', 'mina', 'mitt', 'mittemot', 'mot', 'ned', 'nederst', 'nedersta', 'nedre', 'nej', 'ner', 'ni', 'nio', 'nionde', 'nittio', 'nittionde', 'nitton', 'nittonde', 'nog', 'noll', 'nr', 'nu', 'nummer', 'nya', 'när', 'nästa', 'någon', 'någonting', 'något', 'några', 'nån', 'nåt', 'och', 'också', 'om', 'oss', 'på', 'rakt', 'redan', 'sade', 'sagt', 'samt', 'sedan', 'sen', 'ser', 'sex', 'sextio', 'sextionde', 'sexton', 'sextonde', 'sig', 'sin', 'sina', 'sist', 'sista', 'siste', 'sitt', 'sitta', 'sju', 'sjunde', 'sjuttio', 'sjuttionde', 'sjutton', 'sjuttonde', 'själv', 'sjätte', 'ska', 'skall', 'skriver', 'skulle', 'slutligen', 'snart', 'som', 'står', 'säga', 'säger', 'sätt', 'så', 'sådan', 'sådana', 'sådant', 'ta', 'tack', 'tar', 'till', 'tills', 'tio', 'tionde', 'tjugo', 'tjugoen', 'tjugoett', 'tjugonde', 'tjugotre', 'tjugotvå', 'tjungo', 'tog', 'tolfte', 'tolv', 'tre', 'tredje', 'trettio', 'trettionde', 'tretton', 'trettonde', 'tro', 'tror', 'två', 'tvåhundra', 'under', 'upp', 'ur', 'ut', 'utan', 'utanför', 'ute', 'vad', 'var', 'vara', 'varför', 'varifrån', 'varit', 'varje', 'varken', 'vars', 'varsågod', 'vart', 'vem', 'vems', 'verkligen', 'vet', 'vi', 'vid', 'vidare', 'vilka', 'vilkas', 'vilken', 'vilket', 'vill', 'visst', 'väl', 'värre', 'vår', 'våra', 'vårt', 'än', 'ändå', 'ännu', 'är', 'även', 'året', 'åt', 'åtminstone', 'åtta', 'åttio', 'åttionde', 'åttonde', 'över', 'övre'] \n",
            "[CV]  LogisticRegression__C=0.3, countVectorizer__binary=True, countVectorizer__ngram_range=(1, 1), countVectorizer__stop_words=['all', 'alla', 'allas', 'allt', 'alltså', 'andra', 'andras', 'annan', 'annat', 'artonde', 'artonn', 'att', 'av', 'bakom', 'bara', 'bland', 'blev', 'bli', 'blir', 'blivit', 'båda', 'bådas', 'både', 'dag', 'dagar', 'dagarna', 'dagen', 'de', 'del', 'delen', 'dem', 'den', 'denna', 'deras', 'dess', 'dessa', 'det', 'detta', 'dig', 'din', 'dina', 'dit', 'ditt', 'dock', 'dom', 'du', 'där', 'därför', 'då', 'efter', 'eftersom', 'ej', 'elfte', 'eller', 'elva', 'en', 'er', 'era', 'ert', 'ett', 'fall', 'fanns', 'fast', 'fem', 'femte', 'femtio', 'femtionde', 'femton', 'femtonde', 'fick', 'fin', 'finnas', 'finns', 'fjorton', 'fjortonde', 'fjärde', 'fler', 'flera', 'flesta', 'fram', 'framför', 'från', 'fyra', 'fyrtio', 'fyrtionde', 'få', 'får', 'fått', 'för', 'före', 'förra', 'första', 'ge', 'genom', 'ger', 'gick', 'gjorde', 'gjort', 'gälla', 'gäller', 'gällt', 'gärna', 'gå', 'gång', 'går', 'gått', 'gör', 'göra', 'ha', 'hade', 'haft', 'han', 'hans', 'har', 'hela', 'heller', 'hellre', 'helst', 'helt', 'henne', 'hennes', 'heter', 'hit', 'hjälp', 'hon', 'honom', 'hundra', 'hundraen', 'hundraett', 'hur', 'här', 'i', 'ibland', 'icke', 'igen', 'in', 'inför', 'inga', 'ingen', 'inget', 'innan', 'inne', 'inom', 'inte', 'inuti', 'ja', 'jag', 'ju', 'jämfört', 'kan', 'kom', 'komma', 'kommer', 'kommit', 'kunde', 'kunna', 'kunnat', 'kvar', 'kör', 'legat', 'ligga', 'ligger', 'lägga', 'man', 'med', 'mellan', 'men', 'menar', 'mer', 'mera', 'mig', 'min', 'mina', 'mitt', 'mittemot', 'mot', 'ned', 'nederst', 'nedersta', 'nedre', 'nej', 'ner', 'ni', 'nio', 'nionde', 'nittio', 'nittionde', 'nitton', 'nittonde', 'nog', 'noll', 'nr', 'nu', 'nummer', 'nya', 'när', 'nästa', 'någon', 'någonting', 'något', 'några', 'nån', 'nåt', 'och', 'också', 'om', 'oss', 'på', 'rakt', 'redan', 'sade', 'sagt', 'samt', 'sedan', 'sen', 'ser', 'sex', 'sextio', 'sextionde', 'sexton', 'sextonde', 'sig', 'sin', 'sina', 'sist', 'sista', 'siste', 'sitt', 'sitta', 'sju', 'sjunde', 'sjuttio', 'sjuttionde', 'sjutton', 'sjuttonde', 'själv', 'sjätte', 'ska', 'skall', 'skriver', 'skulle', 'slutligen', 'snart', 'som', 'står', 'säga', 'säger', 'sätt', 'så', 'sådan', 'sådana', 'sådant', 'ta', 'tack', 'tar', 'till', 'tills', 'tio', 'tionde', 'tjugo', 'tjugoen', 'tjugoett', 'tjugonde', 'tjugotre', 'tjugotvå', 'tjungo', 'tog', 'tolfte', 'tolv', 'tre', 'tredje', 'trettio', 'trettionde', 'tretton', 'trettonde', 'tro', 'tror', 'två', 'tvåhundra', 'under', 'upp', 'ur', 'ut', 'utan', 'utanför', 'ute', 'vad', 'var', 'vara', 'varför', 'varifrån', 'varit', 'varje', 'varken', 'vars', 'varsågod', 'vart', 'vem', 'vems', 'verkligen', 'vet', 'vi', 'vid', 'vidare', 'vilka', 'vilkas', 'vilken', 'vilket', 'vill', 'visst', 'väl', 'värre', 'vår', 'våra', 'vårt', 'än', 'ändå', 'ännu', 'är', 'även', 'året', 'åt', 'åtminstone', 'åtta', 'åttio', 'åttionde', 'åttonde', 'över', 'övre'], total=   2.3s\n",
            "[CV] LogisticRegression__C=0.3, countVectorizer__binary=True, countVectorizer__ngram_range=(1, 1), countVectorizer__stop_words=['all', 'alla', 'allas', 'allt', 'alltså', 'andra', 'andras', 'annan', 'annat', 'artonde', 'artonn', 'att', 'av', 'bakom', 'bara', 'bland', 'blev', 'bli', 'blir', 'blivit', 'båda', 'bådas', 'både', 'dag', 'dagar', 'dagarna', 'dagen', 'de', 'del', 'delen', 'dem', 'den', 'denna', 'deras', 'dess', 'dessa', 'det', 'detta', 'dig', 'din', 'dina', 'dit', 'ditt', 'dock', 'dom', 'du', 'där', 'därför', 'då', 'efter', 'eftersom', 'ej', 'elfte', 'eller', 'elva', 'en', 'er', 'era', 'ert', 'ett', 'fall', 'fanns', 'fast', 'fem', 'femte', 'femtio', 'femtionde', 'femton', 'femtonde', 'fick', 'fin', 'finnas', 'finns', 'fjorton', 'fjortonde', 'fjärde', 'fler', 'flera', 'flesta', 'fram', 'framför', 'från', 'fyra', 'fyrtio', 'fyrtionde', 'få', 'får', 'fått', 'för', 'före', 'förra', 'första', 'ge', 'genom', 'ger', 'gick', 'gjorde', 'gjort', 'gälla', 'gäller', 'gällt', 'gärna', 'gå', 'gång', 'går', 'gått', 'gör', 'göra', 'ha', 'hade', 'haft', 'han', 'hans', 'har', 'hela', 'heller', 'hellre', 'helst', 'helt', 'henne', 'hennes', 'heter', 'hit', 'hjälp', 'hon', 'honom', 'hundra', 'hundraen', 'hundraett', 'hur', 'här', 'i', 'ibland', 'icke', 'igen', 'in', 'inför', 'inga', 'ingen', 'inget', 'innan', 'inne', 'inom', 'inte', 'inuti', 'ja', 'jag', 'ju', 'jämfört', 'kan', 'kom', 'komma', 'kommer', 'kommit', 'kunde', 'kunna', 'kunnat', 'kvar', 'kör', 'legat', 'ligga', 'ligger', 'lägga', 'man', 'med', 'mellan', 'men', 'menar', 'mer', 'mera', 'mig', 'min', 'mina', 'mitt', 'mittemot', 'mot', 'ned', 'nederst', 'nedersta', 'nedre', 'nej', 'ner', 'ni', 'nio', 'nionde', 'nittio', 'nittionde', 'nitton', 'nittonde', 'nog', 'noll', 'nr', 'nu', 'nummer', 'nya', 'när', 'nästa', 'någon', 'någonting', 'något', 'några', 'nån', 'nåt', 'och', 'också', 'om', 'oss', 'på', 'rakt', 'redan', 'sade', 'sagt', 'samt', 'sedan', 'sen', 'ser', 'sex', 'sextio', 'sextionde', 'sexton', 'sextonde', 'sig', 'sin', 'sina', 'sist', 'sista', 'siste', 'sitt', 'sitta', 'sju', 'sjunde', 'sjuttio', 'sjuttionde', 'sjutton', 'sjuttonde', 'själv', 'sjätte', 'ska', 'skall', 'skriver', 'skulle', 'slutligen', 'snart', 'som', 'står', 'säga', 'säger', 'sätt', 'så', 'sådan', 'sådana', 'sådant', 'ta', 'tack', 'tar', 'till', 'tills', 'tio', 'tionde', 'tjugo', 'tjugoen', 'tjugoett', 'tjugonde', 'tjugotre', 'tjugotvå', 'tjungo', 'tog', 'tolfte', 'tolv', 'tre', 'tredje', 'trettio', 'trettionde', 'tretton', 'trettonde', 'tro', 'tror', 'två', 'tvåhundra', 'under', 'upp', 'ur', 'ut', 'utan', 'utanför', 'ute', 'vad', 'var', 'vara', 'varför', 'varifrån', 'varit', 'varje', 'varken', 'vars', 'varsågod', 'vart', 'vem', 'vems', 'verkligen', 'vet', 'vi', 'vid', 'vidare', 'vilka', 'vilkas', 'vilken', 'vilket', 'vill', 'visst', 'väl', 'värre', 'vår', 'våra', 'vårt', 'än', 'ändå', 'ännu', 'är', 'även', 'året', 'åt', 'åtminstone', 'åtta', 'åttio', 'åttionde', 'åttonde', 'över', 'övre'] \n",
            "[CV]  LogisticRegression__C=0.3, countVectorizer__binary=True, countVectorizer__ngram_range=(1, 1), countVectorizer__stop_words=['all', 'alla', 'allas', 'allt', 'alltså', 'andra', 'andras', 'annan', 'annat', 'artonde', 'artonn', 'att', 'av', 'bakom', 'bara', 'bland', 'blev', 'bli', 'blir', 'blivit', 'båda', 'bådas', 'både', 'dag', 'dagar', 'dagarna', 'dagen', 'de', 'del', 'delen', 'dem', 'den', 'denna', 'deras', 'dess', 'dessa', 'det', 'detta', 'dig', 'din', 'dina', 'dit', 'ditt', 'dock', 'dom', 'du', 'där', 'därför', 'då', 'efter', 'eftersom', 'ej', 'elfte', 'eller', 'elva', 'en', 'er', 'era', 'ert', 'ett', 'fall', 'fanns', 'fast', 'fem', 'femte', 'femtio', 'femtionde', 'femton', 'femtonde', 'fick', 'fin', 'finnas', 'finns', 'fjorton', 'fjortonde', 'fjärde', 'fler', 'flera', 'flesta', 'fram', 'framför', 'från', 'fyra', 'fyrtio', 'fyrtionde', 'få', 'får', 'fått', 'för', 'före', 'förra', 'första', 'ge', 'genom', 'ger', 'gick', 'gjorde', 'gjort', 'gälla', 'gäller', 'gällt', 'gärna', 'gå', 'gång', 'går', 'gått', 'gör', 'göra', 'ha', 'hade', 'haft', 'han', 'hans', 'har', 'hela', 'heller', 'hellre', 'helst', 'helt', 'henne', 'hennes', 'heter', 'hit', 'hjälp', 'hon', 'honom', 'hundra', 'hundraen', 'hundraett', 'hur', 'här', 'i', 'ibland', 'icke', 'igen', 'in', 'inför', 'inga', 'ingen', 'inget', 'innan', 'inne', 'inom', 'inte', 'inuti', 'ja', 'jag', 'ju', 'jämfört', 'kan', 'kom', 'komma', 'kommer', 'kommit', 'kunde', 'kunna', 'kunnat', 'kvar', 'kör', 'legat', 'ligga', 'ligger', 'lägga', 'man', 'med', 'mellan', 'men', 'menar', 'mer', 'mera', 'mig', 'min', 'mina', 'mitt', 'mittemot', 'mot', 'ned', 'nederst', 'nedersta', 'nedre', 'nej', 'ner', 'ni', 'nio', 'nionde', 'nittio', 'nittionde', 'nitton', 'nittonde', 'nog', 'noll', 'nr', 'nu', 'nummer', 'nya', 'när', 'nästa', 'någon', 'någonting', 'något', 'några', 'nån', 'nåt', 'och', 'också', 'om', 'oss', 'på', 'rakt', 'redan', 'sade', 'sagt', 'samt', 'sedan', 'sen', 'ser', 'sex', 'sextio', 'sextionde', 'sexton', 'sextonde', 'sig', 'sin', 'sina', 'sist', 'sista', 'siste', 'sitt', 'sitta', 'sju', 'sjunde', 'sjuttio', 'sjuttionde', 'sjutton', 'sjuttonde', 'själv', 'sjätte', 'ska', 'skall', 'skriver', 'skulle', 'slutligen', 'snart', 'som', 'står', 'säga', 'säger', 'sätt', 'så', 'sådan', 'sådana', 'sådant', 'ta', 'tack', 'tar', 'till', 'tills', 'tio', 'tionde', 'tjugo', 'tjugoen', 'tjugoett', 'tjugonde', 'tjugotre', 'tjugotvå', 'tjungo', 'tog', 'tolfte', 'tolv', 'tre', 'tredje', 'trettio', 'trettionde', 'tretton', 'trettonde', 'tro', 'tror', 'två', 'tvåhundra', 'under', 'upp', 'ur', 'ut', 'utan', 'utanför', 'ute', 'vad', 'var', 'vara', 'varför', 'varifrån', 'varit', 'varje', 'varken', 'vars', 'varsågod', 'vart', 'vem', 'vems', 'verkligen', 'vet', 'vi', 'vid', 'vidare', 'vilka', 'vilkas', 'vilken', 'vilket', 'vill', 'visst', 'väl', 'värre', 'vår', 'våra', 'vårt', 'än', 'ändå', 'ännu', 'är', 'även', 'året', 'åt', 'åtminstone', 'åtta', 'åttio', 'åttionde', 'åttonde', 'över', 'övre'], total=   2.3s\n",
            "[CV] LogisticRegression__C=0.3, countVectorizer__binary=True, countVectorizer__ngram_range=(1, 1), countVectorizer__stop_words=['all', 'alla', 'allas', 'allt', 'alltså', 'andra', 'andras', 'annan', 'annat', 'artonde', 'artonn', 'att', 'av', 'bakom', 'bara', 'bland', 'blev', 'bli', 'blir', 'blivit', 'båda', 'bådas', 'både', 'dag', 'dagar', 'dagarna', 'dagen', 'de', 'del', 'delen', 'dem', 'den', 'denna', 'deras', 'dess', 'dessa', 'det', 'detta', 'dig', 'din', 'dina', 'dit', 'ditt', 'dock', 'dom', 'du', 'där', 'därför', 'då', 'efter', 'eftersom', 'ej', 'elfte', 'eller', 'elva', 'en', 'er', 'era', 'ert', 'ett', 'fall', 'fanns', 'fast', 'fem', 'femte', 'femtio', 'femtionde', 'femton', 'femtonde', 'fick', 'fin', 'finnas', 'finns', 'fjorton', 'fjortonde', 'fjärde', 'fler', 'flera', 'flesta', 'fram', 'framför', 'från', 'fyra', 'fyrtio', 'fyrtionde', 'få', 'får', 'fått', 'för', 'före', 'förra', 'första', 'ge', 'genom', 'ger', 'gick', 'gjorde', 'gjort', 'gälla', 'gäller', 'gällt', 'gärna', 'gå', 'gång', 'går', 'gått', 'gör', 'göra', 'ha', 'hade', 'haft', 'han', 'hans', 'har', 'hela', 'heller', 'hellre', 'helst', 'helt', 'henne', 'hennes', 'heter', 'hit', 'hjälp', 'hon', 'honom', 'hundra', 'hundraen', 'hundraett', 'hur', 'här', 'i', 'ibland', 'icke', 'igen', 'in', 'inför', 'inga', 'ingen', 'inget', 'innan', 'inne', 'inom', 'inte', 'inuti', 'ja', 'jag', 'ju', 'jämfört', 'kan', 'kom', 'komma', 'kommer', 'kommit', 'kunde', 'kunna', 'kunnat', 'kvar', 'kör', 'legat', 'ligga', 'ligger', 'lägga', 'man', 'med', 'mellan', 'men', 'menar', 'mer', 'mera', 'mig', 'min', 'mina', 'mitt', 'mittemot', 'mot', 'ned', 'nederst', 'nedersta', 'nedre', 'nej', 'ner', 'ni', 'nio', 'nionde', 'nittio', 'nittionde', 'nitton', 'nittonde', 'nog', 'noll', 'nr', 'nu', 'nummer', 'nya', 'när', 'nästa', 'någon', 'någonting', 'något', 'några', 'nån', 'nåt', 'och', 'också', 'om', 'oss', 'på', 'rakt', 'redan', 'sade', 'sagt', 'samt', 'sedan', 'sen', 'ser', 'sex', 'sextio', 'sextionde', 'sexton', 'sextonde', 'sig', 'sin', 'sina', 'sist', 'sista', 'siste', 'sitt', 'sitta', 'sju', 'sjunde', 'sjuttio', 'sjuttionde', 'sjutton', 'sjuttonde', 'själv', 'sjätte', 'ska', 'skall', 'skriver', 'skulle', 'slutligen', 'snart', 'som', 'står', 'säga', 'säger', 'sätt', 'så', 'sådan', 'sådana', 'sådant', 'ta', 'tack', 'tar', 'till', 'tills', 'tio', 'tionde', 'tjugo', 'tjugoen', 'tjugoett', 'tjugonde', 'tjugotre', 'tjugotvå', 'tjungo', 'tog', 'tolfte', 'tolv', 'tre', 'tredje', 'trettio', 'trettionde', 'tretton', 'trettonde', 'tro', 'tror', 'två', 'tvåhundra', 'under', 'upp', 'ur', 'ut', 'utan', 'utanför', 'ute', 'vad', 'var', 'vara', 'varför', 'varifrån', 'varit', 'varje', 'varken', 'vars', 'varsågod', 'vart', 'vem', 'vems', 'verkligen', 'vet', 'vi', 'vid', 'vidare', 'vilka', 'vilkas', 'vilken', 'vilket', 'vill', 'visst', 'väl', 'värre', 'vår', 'våra', 'vårt', 'än', 'ändå', 'ännu', 'är', 'även', 'året', 'åt', 'åtminstone', 'åtta', 'åttio', 'åttionde', 'åttonde', 'över', 'övre'] \n",
            "[CV]  LogisticRegression__C=0.3, countVectorizer__binary=True, countVectorizer__ngram_range=(1, 1), countVectorizer__stop_words=['all', 'alla', 'allas', 'allt', 'alltså', 'andra', 'andras', 'annan', 'annat', 'artonde', 'artonn', 'att', 'av', 'bakom', 'bara', 'bland', 'blev', 'bli', 'blir', 'blivit', 'båda', 'bådas', 'både', 'dag', 'dagar', 'dagarna', 'dagen', 'de', 'del', 'delen', 'dem', 'den', 'denna', 'deras', 'dess', 'dessa', 'det', 'detta', 'dig', 'din', 'dina', 'dit', 'ditt', 'dock', 'dom', 'du', 'där', 'därför', 'då', 'efter', 'eftersom', 'ej', 'elfte', 'eller', 'elva', 'en', 'er', 'era', 'ert', 'ett', 'fall', 'fanns', 'fast', 'fem', 'femte', 'femtio', 'femtionde', 'femton', 'femtonde', 'fick', 'fin', 'finnas', 'finns', 'fjorton', 'fjortonde', 'fjärde', 'fler', 'flera', 'flesta', 'fram', 'framför', 'från', 'fyra', 'fyrtio', 'fyrtionde', 'få', 'får', 'fått', 'för', 'före', 'förra', 'första', 'ge', 'genom', 'ger', 'gick', 'gjorde', 'gjort', 'gälla', 'gäller', 'gällt', 'gärna', 'gå', 'gång', 'går', 'gått', 'gör', 'göra', 'ha', 'hade', 'haft', 'han', 'hans', 'har', 'hela', 'heller', 'hellre', 'helst', 'helt', 'henne', 'hennes', 'heter', 'hit', 'hjälp', 'hon', 'honom', 'hundra', 'hundraen', 'hundraett', 'hur', 'här', 'i', 'ibland', 'icke', 'igen', 'in', 'inför', 'inga', 'ingen', 'inget', 'innan', 'inne', 'inom', 'inte', 'inuti', 'ja', 'jag', 'ju', 'jämfört', 'kan', 'kom', 'komma', 'kommer', 'kommit', 'kunde', 'kunna', 'kunnat', 'kvar', 'kör', 'legat', 'ligga', 'ligger', 'lägga', 'man', 'med', 'mellan', 'men', 'menar', 'mer', 'mera', 'mig', 'min', 'mina', 'mitt', 'mittemot', 'mot', 'ned', 'nederst', 'nedersta', 'nedre', 'nej', 'ner', 'ni', 'nio', 'nionde', 'nittio', 'nittionde', 'nitton', 'nittonde', 'nog', 'noll', 'nr', 'nu', 'nummer', 'nya', 'när', 'nästa', 'någon', 'någonting', 'något', 'några', 'nån', 'nåt', 'och', 'också', 'om', 'oss', 'på', 'rakt', 'redan', 'sade', 'sagt', 'samt', 'sedan', 'sen', 'ser', 'sex', 'sextio', 'sextionde', 'sexton', 'sextonde', 'sig', 'sin', 'sina', 'sist', 'sista', 'siste', 'sitt', 'sitta', 'sju', 'sjunde', 'sjuttio', 'sjuttionde', 'sjutton', 'sjuttonde', 'själv', 'sjätte', 'ska', 'skall', 'skriver', 'skulle', 'slutligen', 'snart', 'som', 'står', 'säga', 'säger', 'sätt', 'så', 'sådan', 'sådana', 'sådant', 'ta', 'tack', 'tar', 'till', 'tills', 'tio', 'tionde', 'tjugo', 'tjugoen', 'tjugoett', 'tjugonde', 'tjugotre', 'tjugotvå', 'tjungo', 'tog', 'tolfte', 'tolv', 'tre', 'tredje', 'trettio', 'trettionde', 'tretton', 'trettonde', 'tro', 'tror', 'två', 'tvåhundra', 'under', 'upp', 'ur', 'ut', 'utan', 'utanför', 'ute', 'vad', 'var', 'vara', 'varför', 'varifrån', 'varit', 'varje', 'varken', 'vars', 'varsågod', 'vart', 'vem', 'vems', 'verkligen', 'vet', 'vi', 'vid', 'vidare', 'vilka', 'vilkas', 'vilken', 'vilket', 'vill', 'visst', 'väl', 'värre', 'vår', 'våra', 'vårt', 'än', 'ändå', 'ännu', 'är', 'även', 'året', 'åt', 'åtminstone', 'åtta', 'åttio', 'åttionde', 'åttonde', 'över', 'övre'], total=   2.3s\n",
            "[CV] LogisticRegression__C=0.3, countVectorizer__binary=True, countVectorizer__ngram_range=(1, 1), countVectorizer__stop_words=['all', 'alla', 'allas', 'allt', 'alltså', 'andra', 'andras', 'annan', 'annat', 'artonde', 'artonn', 'att', 'av', 'bakom', 'bara', 'bland', 'blev', 'bli', 'blir', 'blivit', 'båda', 'bådas', 'både', 'dag', 'dagar', 'dagarna', 'dagen', 'de', 'del', 'delen', 'dem', 'den', 'denna', 'deras', 'dess', 'dessa', 'det', 'detta', 'dig', 'din', 'dina', 'dit', 'ditt', 'dock', 'dom', 'du', 'där', 'därför', 'då', 'efter', 'eftersom', 'ej', 'elfte', 'eller', 'elva', 'en', 'er', 'era', 'ert', 'ett', 'fall', 'fanns', 'fast', 'fem', 'femte', 'femtio', 'femtionde', 'femton', 'femtonde', 'fick', 'fin', 'finnas', 'finns', 'fjorton', 'fjortonde', 'fjärde', 'fler', 'flera', 'flesta', 'fram', 'framför', 'från', 'fyra', 'fyrtio', 'fyrtionde', 'få', 'får', 'fått', 'för', 'före', 'förra', 'första', 'ge', 'genom', 'ger', 'gick', 'gjorde', 'gjort', 'gälla', 'gäller', 'gällt', 'gärna', 'gå', 'gång', 'går', 'gått', 'gör', 'göra', 'ha', 'hade', 'haft', 'han', 'hans', 'har', 'hela', 'heller', 'hellre', 'helst', 'helt', 'henne', 'hennes', 'heter', 'hit', 'hjälp', 'hon', 'honom', 'hundra', 'hundraen', 'hundraett', 'hur', 'här', 'i', 'ibland', 'icke', 'igen', 'in', 'inför', 'inga', 'ingen', 'inget', 'innan', 'inne', 'inom', 'inte', 'inuti', 'ja', 'jag', 'ju', 'jämfört', 'kan', 'kom', 'komma', 'kommer', 'kommit', 'kunde', 'kunna', 'kunnat', 'kvar', 'kör', 'legat', 'ligga', 'ligger', 'lägga', 'man', 'med', 'mellan', 'men', 'menar', 'mer', 'mera', 'mig', 'min', 'mina', 'mitt', 'mittemot', 'mot', 'ned', 'nederst', 'nedersta', 'nedre', 'nej', 'ner', 'ni', 'nio', 'nionde', 'nittio', 'nittionde', 'nitton', 'nittonde', 'nog', 'noll', 'nr', 'nu', 'nummer', 'nya', 'när', 'nästa', 'någon', 'någonting', 'något', 'några', 'nån', 'nåt', 'och', 'också', 'om', 'oss', 'på', 'rakt', 'redan', 'sade', 'sagt', 'samt', 'sedan', 'sen', 'ser', 'sex', 'sextio', 'sextionde', 'sexton', 'sextonde', 'sig', 'sin', 'sina', 'sist', 'sista', 'siste', 'sitt', 'sitta', 'sju', 'sjunde', 'sjuttio', 'sjuttionde', 'sjutton', 'sjuttonde', 'själv', 'sjätte', 'ska', 'skall', 'skriver', 'skulle', 'slutligen', 'snart', 'som', 'står', 'säga', 'säger', 'sätt', 'så', 'sådan', 'sådana', 'sådant', 'ta', 'tack', 'tar', 'till', 'tills', 'tio', 'tionde', 'tjugo', 'tjugoen', 'tjugoett', 'tjugonde', 'tjugotre', 'tjugotvå', 'tjungo', 'tog', 'tolfte', 'tolv', 'tre', 'tredje', 'trettio', 'trettionde', 'tretton', 'trettonde', 'tro', 'tror', 'två', 'tvåhundra', 'under', 'upp', 'ur', 'ut', 'utan', 'utanför', 'ute', 'vad', 'var', 'vara', 'varför', 'varifrån', 'varit', 'varje', 'varken', 'vars', 'varsågod', 'vart', 'vem', 'vems', 'verkligen', 'vet', 'vi', 'vid', 'vidare', 'vilka', 'vilkas', 'vilken', 'vilket', 'vill', 'visst', 'väl', 'värre', 'vår', 'våra', 'vårt', 'än', 'ändå', 'ännu', 'är', 'även', 'året', 'åt', 'åtminstone', 'åtta', 'åttio', 'åttionde', 'åttonde', 'över', 'övre'] \n",
            "[CV]  LogisticRegression__C=0.3, countVectorizer__binary=True, countVectorizer__ngram_range=(1, 1), countVectorizer__stop_words=['all', 'alla', 'allas', 'allt', 'alltså', 'andra', 'andras', 'annan', 'annat', 'artonde', 'artonn', 'att', 'av', 'bakom', 'bara', 'bland', 'blev', 'bli', 'blir', 'blivit', 'båda', 'bådas', 'både', 'dag', 'dagar', 'dagarna', 'dagen', 'de', 'del', 'delen', 'dem', 'den', 'denna', 'deras', 'dess', 'dessa', 'det', 'detta', 'dig', 'din', 'dina', 'dit', 'ditt', 'dock', 'dom', 'du', 'där', 'därför', 'då', 'efter', 'eftersom', 'ej', 'elfte', 'eller', 'elva', 'en', 'er', 'era', 'ert', 'ett', 'fall', 'fanns', 'fast', 'fem', 'femte', 'femtio', 'femtionde', 'femton', 'femtonde', 'fick', 'fin', 'finnas', 'finns', 'fjorton', 'fjortonde', 'fjärde', 'fler', 'flera', 'flesta', 'fram', 'framför', 'från', 'fyra', 'fyrtio', 'fyrtionde', 'få', 'får', 'fått', 'för', 'före', 'förra', 'första', 'ge', 'genom', 'ger', 'gick', 'gjorde', 'gjort', 'gälla', 'gäller', 'gällt', 'gärna', 'gå', 'gång', 'går', 'gått', 'gör', 'göra', 'ha', 'hade', 'haft', 'han', 'hans', 'har', 'hela', 'heller', 'hellre', 'helst', 'helt', 'henne', 'hennes', 'heter', 'hit', 'hjälp', 'hon', 'honom', 'hundra', 'hundraen', 'hundraett', 'hur', 'här', 'i', 'ibland', 'icke', 'igen', 'in', 'inför', 'inga', 'ingen', 'inget', 'innan', 'inne', 'inom', 'inte', 'inuti', 'ja', 'jag', 'ju', 'jämfört', 'kan', 'kom', 'komma', 'kommer', 'kommit', 'kunde', 'kunna', 'kunnat', 'kvar', 'kör', 'legat', 'ligga', 'ligger', 'lägga', 'man', 'med', 'mellan', 'men', 'menar', 'mer', 'mera', 'mig', 'min', 'mina', 'mitt', 'mittemot', 'mot', 'ned', 'nederst', 'nedersta', 'nedre', 'nej', 'ner', 'ni', 'nio', 'nionde', 'nittio', 'nittionde', 'nitton', 'nittonde', 'nog', 'noll', 'nr', 'nu', 'nummer', 'nya', 'när', 'nästa', 'någon', 'någonting', 'något', 'några', 'nån', 'nåt', 'och', 'också', 'om', 'oss', 'på', 'rakt', 'redan', 'sade', 'sagt', 'samt', 'sedan', 'sen', 'ser', 'sex', 'sextio', 'sextionde', 'sexton', 'sextonde', 'sig', 'sin', 'sina', 'sist', 'sista', 'siste', 'sitt', 'sitta', 'sju', 'sjunde', 'sjuttio', 'sjuttionde', 'sjutton', 'sjuttonde', 'själv', 'sjätte', 'ska', 'skall', 'skriver', 'skulle', 'slutligen', 'snart', 'som', 'står', 'säga', 'säger', 'sätt', 'så', 'sådan', 'sådana', 'sådant', 'ta', 'tack', 'tar', 'till', 'tills', 'tio', 'tionde', 'tjugo', 'tjugoen', 'tjugoett', 'tjugonde', 'tjugotre', 'tjugotvå', 'tjungo', 'tog', 'tolfte', 'tolv', 'tre', 'tredje', 'trettio', 'trettionde', 'tretton', 'trettonde', 'tro', 'tror', 'två', 'tvåhundra', 'under', 'upp', 'ur', 'ut', 'utan', 'utanför', 'ute', 'vad', 'var', 'vara', 'varför', 'varifrån', 'varit', 'varje', 'varken', 'vars', 'varsågod', 'vart', 'vem', 'vems', 'verkligen', 'vet', 'vi', 'vid', 'vidare', 'vilka', 'vilkas', 'vilken', 'vilket', 'vill', 'visst', 'väl', 'värre', 'vår', 'våra', 'vårt', 'än', 'ändå', 'ännu', 'är', 'även', 'året', 'åt', 'åtminstone', 'åtta', 'åttio', 'åttionde', 'åttonde', 'över', 'övre'], total=   2.2s\n",
            "[CV] LogisticRegression__C=0.3, countVectorizer__binary=True, countVectorizer__ngram_range=(1, 2), countVectorizer__stop_words=None \n",
            "[CV]  LogisticRegression__C=0.3, countVectorizer__binary=True, countVectorizer__ngram_range=(1, 2), countVectorizer__stop_words=None, total=  10.0s\n",
            "[CV] LogisticRegression__C=0.3, countVectorizer__binary=True, countVectorizer__ngram_range=(1, 2), countVectorizer__stop_words=None \n",
            "[CV]  LogisticRegression__C=0.3, countVectorizer__binary=True, countVectorizer__ngram_range=(1, 2), countVectorizer__stop_words=None, total=  10.0s\n",
            "[CV] LogisticRegression__C=0.3, countVectorizer__binary=True, countVectorizer__ngram_range=(1, 2), countVectorizer__stop_words=None \n",
            "[CV]  LogisticRegression__C=0.3, countVectorizer__binary=True, countVectorizer__ngram_range=(1, 2), countVectorizer__stop_words=None, total=  10.0s\n",
            "[CV] LogisticRegression__C=0.3, countVectorizer__binary=True, countVectorizer__ngram_range=(1, 2), countVectorizer__stop_words=None \n",
            "[CV]  LogisticRegression__C=0.3, countVectorizer__binary=True, countVectorizer__ngram_range=(1, 2), countVectorizer__stop_words=None, total=   9.9s\n",
            "[CV] LogisticRegression__C=0.3, countVectorizer__binary=True, countVectorizer__ngram_range=(1, 2), countVectorizer__stop_words=None \n",
            "[CV]  LogisticRegression__C=0.3, countVectorizer__binary=True, countVectorizer__ngram_range=(1, 2), countVectorizer__stop_words=None, total=   9.8s\n",
            "[CV] LogisticRegression__C=0.3, countVectorizer__binary=True, countVectorizer__ngram_range=(1, 2), countVectorizer__stop_words=['alltså', 'att', 'av', 'bakom', 'bara', 'bland', 'blev', 'bli', 'blir', 'blivit', 'båda', 'bådas', 'både', 'de', 'del', 'delen', 'dem', 'den', 'denna', 'deras', 'dess', 'dessa', 'det', 'detta', 'dig', 'din', 'dina', 'dit', 'ditt', 'dock', 'dom', 'du', 'där', 'därför', 'då', 'efter', 'eftersom', 'elfte', 'eller', 'elva', 'en', 'enkel', 'enkelt', 'enkla', 'enligt', 'er', 'era', 'ert', 'ett', 'fall', 'fanns', 'fast', 'fick', 'fin', 'finnas', 'finns', 'fler', 'flera', 'flesta', 'fram', 'framför', 'från', 'få', 'får', 'fått', 'följande', 'för', 'före', 'förra', 'första', 'ge', 'genast', 'genom', 'ger', 'gick', 'gjorde', 'gjort', 'gälla', 'gäller', 'gällt', 'gå', 'gång', 'går', 'gått', 'gör', 'göra', 'ha', 'hade', 'haft', 'han', 'hans', 'har', 'hela', 'heller', 'hellre', 'helst', 'helt', 'henne', 'hennes', 'heter', 'hit', 'hon', 'honom', 'hur', 'här', 'i', 'ibland', 'idag', 'igen', 'igår', 'imorgon', 'in', 'inför', 'inga', 'innan', 'inne', 'inom', 'inte', 'inuti', 'ja', 'jag', 'jämfört', 'kan', 'kanske', 'knappast', 'kolla', 'kom', 'komma', 'kommer', 'kommit', 'kunde', 'kunna', 'kunnat', 'kvar', 'kör', 'legat', 'ligga', 'ligger', 'lilla', 'lite', 'liten', 'litet', 'lägga', 'länge', 'längre', 'längst', 'lätt', 'lättare', 'lättast', 'långsam', 'långsammare', 'långsammast', 'långsamt', 'långt', 'man', 'med', 'mellan', 'men', 'menar', 'mer', 'mera', 'mest', 'mig', 'min', 'mina', 'mindre', 'minst', 'mitt', 'mittemot', 'mot', 'mycket', 'många', 'måste', 'möjlig', 'möjligen', 'möjligt', 'möjligtvis', 'ned', 'nederst', 'nedersta', 'nedre', 'nej', 'ner', 'ni', 'nog', 'nr', 'nu', 'när', 'nästa', 'någon', 'någonting', 'något', 'några', 'nån', 'nåt', 'och', 'också', 'ofta', 'oftast', 'olika', 'olikt', 'om', 'oss', 'på', 'rakt', 'redan', 'rätt', 'sade', 'sagt', 'samma', 'samt', 'sedan', 'sen', 'senare', 'senast', 'sent', 'sig', 'sin', 'sina', 'sist', 'sista', 'siste', 'sitt', 'ska', 'skall', 'skulle', 'slutligen', 'små', 'smått', 'snart', 'som', 'stor', 'stora', 'stort', 'står', 'säga', 'säger', 'sätt', 'så', 'ta', 'tar', 'till', 'tills', 'under', 'upp', 'ur', 'ut', 'utan', 'ute', 'vad', 'var', 'vara', 'varför', 'varifrån', 'varit', 'varje', 'varken', 'vart', 'vem', 'vems', 'vet', 'vi', 'vid', 'vidare', 'vilka', 'vilken', 'vilket', 'vill', 'visst', 'väl', 'värre', 'vår', 'våra', 'vårt', 'än', 'ändå', 'ännu', 'är', 'även', 'åtminstone', 'över', 'övermorgon', 'ser', 'skriver', 'tog'] \n",
            "[CV]  LogisticRegression__C=0.3, countVectorizer__binary=True, countVectorizer__ngram_range=(1, 2), countVectorizer__stop_words=['alltså', 'att', 'av', 'bakom', 'bara', 'bland', 'blev', 'bli', 'blir', 'blivit', 'båda', 'bådas', 'både', 'de', 'del', 'delen', 'dem', 'den', 'denna', 'deras', 'dess', 'dessa', 'det', 'detta', 'dig', 'din', 'dina', 'dit', 'ditt', 'dock', 'dom', 'du', 'där', 'därför', 'då', 'efter', 'eftersom', 'elfte', 'eller', 'elva', 'en', 'enkel', 'enkelt', 'enkla', 'enligt', 'er', 'era', 'ert', 'ett', 'fall', 'fanns', 'fast', 'fick', 'fin', 'finnas', 'finns', 'fler', 'flera', 'flesta', 'fram', 'framför', 'från', 'få', 'får', 'fått', 'följande', 'för', 'före', 'förra', 'första', 'ge', 'genast', 'genom', 'ger', 'gick', 'gjorde', 'gjort', 'gälla', 'gäller', 'gällt', 'gå', 'gång', 'går', 'gått', 'gör', 'göra', 'ha', 'hade', 'haft', 'han', 'hans', 'har', 'hela', 'heller', 'hellre', 'helst', 'helt', 'henne', 'hennes', 'heter', 'hit', 'hon', 'honom', 'hur', 'här', 'i', 'ibland', 'idag', 'igen', 'igår', 'imorgon', 'in', 'inför', 'inga', 'innan', 'inne', 'inom', 'inte', 'inuti', 'ja', 'jag', 'jämfört', 'kan', 'kanske', 'knappast', 'kolla', 'kom', 'komma', 'kommer', 'kommit', 'kunde', 'kunna', 'kunnat', 'kvar', 'kör', 'legat', 'ligga', 'ligger', 'lilla', 'lite', 'liten', 'litet', 'lägga', 'länge', 'längre', 'längst', 'lätt', 'lättare', 'lättast', 'långsam', 'långsammare', 'långsammast', 'långsamt', 'långt', 'man', 'med', 'mellan', 'men', 'menar', 'mer', 'mera', 'mest', 'mig', 'min', 'mina', 'mindre', 'minst', 'mitt', 'mittemot', 'mot', 'mycket', 'många', 'måste', 'möjlig', 'möjligen', 'möjligt', 'möjligtvis', 'ned', 'nederst', 'nedersta', 'nedre', 'nej', 'ner', 'ni', 'nog', 'nr', 'nu', 'när', 'nästa', 'någon', 'någonting', 'något', 'några', 'nån', 'nåt', 'och', 'också', 'ofta', 'oftast', 'olika', 'olikt', 'om', 'oss', 'på', 'rakt', 'redan', 'rätt', 'sade', 'sagt', 'samma', 'samt', 'sedan', 'sen', 'senare', 'senast', 'sent', 'sig', 'sin', 'sina', 'sist', 'sista', 'siste', 'sitt', 'ska', 'skall', 'skulle', 'slutligen', 'små', 'smått', 'snart', 'som', 'stor', 'stora', 'stort', 'står', 'säga', 'säger', 'sätt', 'så', 'ta', 'tar', 'till', 'tills', 'under', 'upp', 'ur', 'ut', 'utan', 'ute', 'vad', 'var', 'vara', 'varför', 'varifrån', 'varit', 'varje', 'varken', 'vart', 'vem', 'vems', 'vet', 'vi', 'vid', 'vidare', 'vilka', 'vilken', 'vilket', 'vill', 'visst', 'väl', 'värre', 'vår', 'våra', 'vårt', 'än', 'ändå', 'ännu', 'är', 'även', 'åtminstone', 'över', 'övermorgon', 'ser', 'skriver', 'tog'], total=   8.3s\n",
            "[CV] LogisticRegression__C=0.3, countVectorizer__binary=True, countVectorizer__ngram_range=(1, 2), countVectorizer__stop_words=['alltså', 'att', 'av', 'bakom', 'bara', 'bland', 'blev', 'bli', 'blir', 'blivit', 'båda', 'bådas', 'både', 'de', 'del', 'delen', 'dem', 'den', 'denna', 'deras', 'dess', 'dessa', 'det', 'detta', 'dig', 'din', 'dina', 'dit', 'ditt', 'dock', 'dom', 'du', 'där', 'därför', 'då', 'efter', 'eftersom', 'elfte', 'eller', 'elva', 'en', 'enkel', 'enkelt', 'enkla', 'enligt', 'er', 'era', 'ert', 'ett', 'fall', 'fanns', 'fast', 'fick', 'fin', 'finnas', 'finns', 'fler', 'flera', 'flesta', 'fram', 'framför', 'från', 'få', 'får', 'fått', 'följande', 'för', 'före', 'förra', 'första', 'ge', 'genast', 'genom', 'ger', 'gick', 'gjorde', 'gjort', 'gälla', 'gäller', 'gällt', 'gå', 'gång', 'går', 'gått', 'gör', 'göra', 'ha', 'hade', 'haft', 'han', 'hans', 'har', 'hela', 'heller', 'hellre', 'helst', 'helt', 'henne', 'hennes', 'heter', 'hit', 'hon', 'honom', 'hur', 'här', 'i', 'ibland', 'idag', 'igen', 'igår', 'imorgon', 'in', 'inför', 'inga', 'innan', 'inne', 'inom', 'inte', 'inuti', 'ja', 'jag', 'jämfört', 'kan', 'kanske', 'knappast', 'kolla', 'kom', 'komma', 'kommer', 'kommit', 'kunde', 'kunna', 'kunnat', 'kvar', 'kör', 'legat', 'ligga', 'ligger', 'lilla', 'lite', 'liten', 'litet', 'lägga', 'länge', 'längre', 'längst', 'lätt', 'lättare', 'lättast', 'långsam', 'långsammare', 'långsammast', 'långsamt', 'långt', 'man', 'med', 'mellan', 'men', 'menar', 'mer', 'mera', 'mest', 'mig', 'min', 'mina', 'mindre', 'minst', 'mitt', 'mittemot', 'mot', 'mycket', 'många', 'måste', 'möjlig', 'möjligen', 'möjligt', 'möjligtvis', 'ned', 'nederst', 'nedersta', 'nedre', 'nej', 'ner', 'ni', 'nog', 'nr', 'nu', 'när', 'nästa', 'någon', 'någonting', 'något', 'några', 'nån', 'nåt', 'och', 'också', 'ofta', 'oftast', 'olika', 'olikt', 'om', 'oss', 'på', 'rakt', 'redan', 'rätt', 'sade', 'sagt', 'samma', 'samt', 'sedan', 'sen', 'senare', 'senast', 'sent', 'sig', 'sin', 'sina', 'sist', 'sista', 'siste', 'sitt', 'ska', 'skall', 'skulle', 'slutligen', 'små', 'smått', 'snart', 'som', 'stor', 'stora', 'stort', 'står', 'säga', 'säger', 'sätt', 'så', 'ta', 'tar', 'till', 'tills', 'under', 'upp', 'ur', 'ut', 'utan', 'ute', 'vad', 'var', 'vara', 'varför', 'varifrån', 'varit', 'varje', 'varken', 'vart', 'vem', 'vems', 'vet', 'vi', 'vid', 'vidare', 'vilka', 'vilken', 'vilket', 'vill', 'visst', 'väl', 'värre', 'vår', 'våra', 'vårt', 'än', 'ändå', 'ännu', 'är', 'även', 'åtminstone', 'över', 'övermorgon', 'ser', 'skriver', 'tog'] \n",
            "[CV]  LogisticRegression__C=0.3, countVectorizer__binary=True, countVectorizer__ngram_range=(1, 2), countVectorizer__stop_words=['alltså', 'att', 'av', 'bakom', 'bara', 'bland', 'blev', 'bli', 'blir', 'blivit', 'båda', 'bådas', 'både', 'de', 'del', 'delen', 'dem', 'den', 'denna', 'deras', 'dess', 'dessa', 'det', 'detta', 'dig', 'din', 'dina', 'dit', 'ditt', 'dock', 'dom', 'du', 'där', 'därför', 'då', 'efter', 'eftersom', 'elfte', 'eller', 'elva', 'en', 'enkel', 'enkelt', 'enkla', 'enligt', 'er', 'era', 'ert', 'ett', 'fall', 'fanns', 'fast', 'fick', 'fin', 'finnas', 'finns', 'fler', 'flera', 'flesta', 'fram', 'framför', 'från', 'få', 'får', 'fått', 'följande', 'för', 'före', 'förra', 'första', 'ge', 'genast', 'genom', 'ger', 'gick', 'gjorde', 'gjort', 'gälla', 'gäller', 'gällt', 'gå', 'gång', 'går', 'gått', 'gör', 'göra', 'ha', 'hade', 'haft', 'han', 'hans', 'har', 'hela', 'heller', 'hellre', 'helst', 'helt', 'henne', 'hennes', 'heter', 'hit', 'hon', 'honom', 'hur', 'här', 'i', 'ibland', 'idag', 'igen', 'igår', 'imorgon', 'in', 'inför', 'inga', 'innan', 'inne', 'inom', 'inte', 'inuti', 'ja', 'jag', 'jämfört', 'kan', 'kanske', 'knappast', 'kolla', 'kom', 'komma', 'kommer', 'kommit', 'kunde', 'kunna', 'kunnat', 'kvar', 'kör', 'legat', 'ligga', 'ligger', 'lilla', 'lite', 'liten', 'litet', 'lägga', 'länge', 'längre', 'längst', 'lätt', 'lättare', 'lättast', 'långsam', 'långsammare', 'långsammast', 'långsamt', 'långt', 'man', 'med', 'mellan', 'men', 'menar', 'mer', 'mera', 'mest', 'mig', 'min', 'mina', 'mindre', 'minst', 'mitt', 'mittemot', 'mot', 'mycket', 'många', 'måste', 'möjlig', 'möjligen', 'möjligt', 'möjligtvis', 'ned', 'nederst', 'nedersta', 'nedre', 'nej', 'ner', 'ni', 'nog', 'nr', 'nu', 'när', 'nästa', 'någon', 'någonting', 'något', 'några', 'nån', 'nåt', 'och', 'också', 'ofta', 'oftast', 'olika', 'olikt', 'om', 'oss', 'på', 'rakt', 'redan', 'rätt', 'sade', 'sagt', 'samma', 'samt', 'sedan', 'sen', 'senare', 'senast', 'sent', 'sig', 'sin', 'sina', 'sist', 'sista', 'siste', 'sitt', 'ska', 'skall', 'skulle', 'slutligen', 'små', 'smått', 'snart', 'som', 'stor', 'stora', 'stort', 'står', 'säga', 'säger', 'sätt', 'så', 'ta', 'tar', 'till', 'tills', 'under', 'upp', 'ur', 'ut', 'utan', 'ute', 'vad', 'var', 'vara', 'varför', 'varifrån', 'varit', 'varje', 'varken', 'vart', 'vem', 'vems', 'vet', 'vi', 'vid', 'vidare', 'vilka', 'vilken', 'vilket', 'vill', 'visst', 'väl', 'värre', 'vår', 'våra', 'vårt', 'än', 'ändå', 'ännu', 'är', 'även', 'åtminstone', 'över', 'övermorgon', 'ser', 'skriver', 'tog'], total=   8.1s\n",
            "[CV] LogisticRegression__C=0.3, countVectorizer__binary=True, countVectorizer__ngram_range=(1, 2), countVectorizer__stop_words=['alltså', 'att', 'av', 'bakom', 'bara', 'bland', 'blev', 'bli', 'blir', 'blivit', 'båda', 'bådas', 'både', 'de', 'del', 'delen', 'dem', 'den', 'denna', 'deras', 'dess', 'dessa', 'det', 'detta', 'dig', 'din', 'dina', 'dit', 'ditt', 'dock', 'dom', 'du', 'där', 'därför', 'då', 'efter', 'eftersom', 'elfte', 'eller', 'elva', 'en', 'enkel', 'enkelt', 'enkla', 'enligt', 'er', 'era', 'ert', 'ett', 'fall', 'fanns', 'fast', 'fick', 'fin', 'finnas', 'finns', 'fler', 'flera', 'flesta', 'fram', 'framför', 'från', 'få', 'får', 'fått', 'följande', 'för', 'före', 'förra', 'första', 'ge', 'genast', 'genom', 'ger', 'gick', 'gjorde', 'gjort', 'gälla', 'gäller', 'gällt', 'gå', 'gång', 'går', 'gått', 'gör', 'göra', 'ha', 'hade', 'haft', 'han', 'hans', 'har', 'hela', 'heller', 'hellre', 'helst', 'helt', 'henne', 'hennes', 'heter', 'hit', 'hon', 'honom', 'hur', 'här', 'i', 'ibland', 'idag', 'igen', 'igår', 'imorgon', 'in', 'inför', 'inga', 'innan', 'inne', 'inom', 'inte', 'inuti', 'ja', 'jag', 'jämfört', 'kan', 'kanske', 'knappast', 'kolla', 'kom', 'komma', 'kommer', 'kommit', 'kunde', 'kunna', 'kunnat', 'kvar', 'kör', 'legat', 'ligga', 'ligger', 'lilla', 'lite', 'liten', 'litet', 'lägga', 'länge', 'längre', 'längst', 'lätt', 'lättare', 'lättast', 'långsam', 'långsammare', 'långsammast', 'långsamt', 'långt', 'man', 'med', 'mellan', 'men', 'menar', 'mer', 'mera', 'mest', 'mig', 'min', 'mina', 'mindre', 'minst', 'mitt', 'mittemot', 'mot', 'mycket', 'många', 'måste', 'möjlig', 'möjligen', 'möjligt', 'möjligtvis', 'ned', 'nederst', 'nedersta', 'nedre', 'nej', 'ner', 'ni', 'nog', 'nr', 'nu', 'när', 'nästa', 'någon', 'någonting', 'något', 'några', 'nån', 'nåt', 'och', 'också', 'ofta', 'oftast', 'olika', 'olikt', 'om', 'oss', 'på', 'rakt', 'redan', 'rätt', 'sade', 'sagt', 'samma', 'samt', 'sedan', 'sen', 'senare', 'senast', 'sent', 'sig', 'sin', 'sina', 'sist', 'sista', 'siste', 'sitt', 'ska', 'skall', 'skulle', 'slutligen', 'små', 'smått', 'snart', 'som', 'stor', 'stora', 'stort', 'står', 'säga', 'säger', 'sätt', 'så', 'ta', 'tar', 'till', 'tills', 'under', 'upp', 'ur', 'ut', 'utan', 'ute', 'vad', 'var', 'vara', 'varför', 'varifrån', 'varit', 'varje', 'varken', 'vart', 'vem', 'vems', 'vet', 'vi', 'vid', 'vidare', 'vilka', 'vilken', 'vilket', 'vill', 'visst', 'väl', 'värre', 'vår', 'våra', 'vårt', 'än', 'ändå', 'ännu', 'är', 'även', 'åtminstone', 'över', 'övermorgon', 'ser', 'skriver', 'tog'] \n"
          ]
        },
        {
          "output_type": "error",
          "ename": "KeyboardInterrupt",
          "evalue": "ignored",
          "traceback": [
            "\u001b[0;31m---------------------------------------------------------------------------\u001b[0m",
            "\u001b[0;31mKeyboardInterrupt\u001b[0m                         Traceback (most recent call last)",
            "\u001b[0;32m/usr/local/lib/python3.7/dist-packages/sklearn/pipeline.py\u001b[0m in \u001b[0;36m_fit_transform_one\u001b[0;34m(transformer, X, y, weight, message_clsname, message, **fit_params)\u001b[0m\n\u001b[1;32m    727\u001b[0m         \u001b[0;32mif\u001b[0m \u001b[0mhasattr\u001b[0m\u001b[0;34m(\u001b[0m\u001b[0mtransformer\u001b[0m\u001b[0;34m,\u001b[0m \u001b[0;34m'fit_transform'\u001b[0m\u001b[0;34m)\u001b[0m\u001b[0;34m:\u001b[0m\u001b[0;34m\u001b[0m\u001b[0;34m\u001b[0m\u001b[0m\n\u001b[0;32m--> 728\u001b[0;31m             \u001b[0mres\u001b[0m \u001b[0;34m=\u001b[0m \u001b[0mtransformer\u001b[0m\u001b[0;34m.\u001b[0m\u001b[0mfit_transform\u001b[0m\u001b[0;34m(\u001b[0m\u001b[0mX\u001b[0m\u001b[0;34m,\u001b[0m \u001b[0my\u001b[0m\u001b[0;34m,\u001b[0m \u001b[0;34m**\u001b[0m\u001b[0mfit_params\u001b[0m\u001b[0;34m)\u001b[0m\u001b[0;34m\u001b[0m\u001b[0;34m\u001b[0m\u001b[0m\n\u001b[0m\u001b[1;32m    729\u001b[0m         \u001b[0;32melse\u001b[0m\u001b[0;34m:\u001b[0m\u001b[0;34m\u001b[0m\u001b[0;34m\u001b[0m\u001b[0m\n",
            "\u001b[0;32m/usr/local/lib/python3.7/dist-packages/sklearn/feature_extraction/text.py\u001b[0m in \u001b[0;36mfit_transform\u001b[0;34m(self, raw_documents, y)\u001b[0m\n\u001b[1;32m   1225\u001b[0m         \u001b[0;32mif\u001b[0m \u001b[0;32mnot\u001b[0m \u001b[0mself\u001b[0m\u001b[0;34m.\u001b[0m\u001b[0mfixed_vocabulary_\u001b[0m\u001b[0;34m:\u001b[0m\u001b[0;34m\u001b[0m\u001b[0;34m\u001b[0m\u001b[0m\n\u001b[0;32m-> 1226\u001b[0;31m             \u001b[0mX\u001b[0m \u001b[0;34m=\u001b[0m \u001b[0mself\u001b[0m\u001b[0;34m.\u001b[0m\u001b[0m_sort_features\u001b[0m\u001b[0;34m(\u001b[0m\u001b[0mX\u001b[0m\u001b[0;34m,\u001b[0m \u001b[0mvocabulary\u001b[0m\u001b[0;34m)\u001b[0m\u001b[0;34m\u001b[0m\u001b[0;34m\u001b[0m\u001b[0m\n\u001b[0m\u001b[1;32m   1227\u001b[0m \u001b[0;34m\u001b[0m\u001b[0m\n",
            "\u001b[0;32m/usr/local/lib/python3.7/dist-packages/sklearn/feature_extraction/text.py\u001b[0m in \u001b[0;36m_sort_features\u001b[0;34m(self, X, vocabulary)\u001b[0m\n\u001b[1;32m   1062\u001b[0m         \"\"\"\n\u001b[0;32m-> 1063\u001b[0;31m         \u001b[0msorted_features\u001b[0m \u001b[0;34m=\u001b[0m \u001b[0msorted\u001b[0m\u001b[0;34m(\u001b[0m\u001b[0mvocabulary\u001b[0m\u001b[0;34m.\u001b[0m\u001b[0mitems\u001b[0m\u001b[0;34m(\u001b[0m\u001b[0;34m)\u001b[0m\u001b[0;34m)\u001b[0m\u001b[0;34m\u001b[0m\u001b[0;34m\u001b[0m\u001b[0m\n\u001b[0m\u001b[1;32m   1064\u001b[0m         \u001b[0mmap_index\u001b[0m \u001b[0;34m=\u001b[0m \u001b[0mnp\u001b[0m\u001b[0;34m.\u001b[0m\u001b[0mempty\u001b[0m\u001b[0;34m(\u001b[0m\u001b[0mlen\u001b[0m\u001b[0;34m(\u001b[0m\u001b[0msorted_features\u001b[0m\u001b[0;34m)\u001b[0m\u001b[0;34m,\u001b[0m \u001b[0mdtype\u001b[0m\u001b[0;34m=\u001b[0m\u001b[0mX\u001b[0m\u001b[0;34m.\u001b[0m\u001b[0mindices\u001b[0m\u001b[0;34m.\u001b[0m\u001b[0mdtype\u001b[0m\u001b[0;34m)\u001b[0m\u001b[0;34m\u001b[0m\u001b[0;34m\u001b[0m\u001b[0m\n",
            "\u001b[0;31mKeyboardInterrupt\u001b[0m: ",
            "\nDuring handling of the above exception, another exception occurred:\n",
            "\u001b[0;31mKeyboardInterrupt\u001b[0m                         Traceback (most recent call last)",
            "\u001b[0;32m<ipython-input-23-6516ca935557>\u001b[0m in \u001b[0;36m<module>\u001b[0;34m()\u001b[0m\n\u001b[1;32m     14\u001b[0m \u001b[0mgrid_param_improve\u001b[0m \u001b[0;34m=\u001b[0m \u001b[0mGridSearchCV\u001b[0m\u001b[0;34m(\u001b[0m\u001b[0mpipe_improve\u001b[0m\u001b[0;34m,\u001b[0m \u001b[0mparam_improve\u001b[0m\u001b[0;34m,\u001b[0m \u001b[0mcv\u001b[0m\u001b[0;34m=\u001b[0m\u001b[0;36m5\u001b[0m\u001b[0;34m,\u001b[0m \u001b[0mverbose\u001b[0m \u001b[0;34m=\u001b[0m \u001b[0;36m2\u001b[0m\u001b[0;34m)\u001b[0m\u001b[0;34m\u001b[0m\u001b[0;34m\u001b[0m\u001b[0m\n\u001b[1;32m     15\u001b[0m \u001b[0;34m\u001b[0m\u001b[0m\n\u001b[0;32m---> 16\u001b[0;31m \u001b[0mgrid_param_improve\u001b[0m\u001b[0;34m.\u001b[0m\u001b[0mfit\u001b[0m\u001b[0;34m(\u001b[0m\u001b[0mtraining_data\u001b[0m\u001b[0;34m[\u001b[0m\u001b[0;34m\"words\"\u001b[0m\u001b[0;34m]\u001b[0m\u001b[0;34m,\u001b[0m \u001b[0mtraining_data\u001b[0m\u001b[0;34m[\u001b[0m\u001b[0;34m\"party\"\u001b[0m\u001b[0;34m]\u001b[0m\u001b[0;34m)\u001b[0m\u001b[0;34m\u001b[0m\u001b[0;34m\u001b[0m\u001b[0m\n\u001b[0m",
            "\u001b[0;32m/usr/local/lib/python3.7/dist-packages/sklearn/model_selection/_search.py\u001b[0m in \u001b[0;36mfit\u001b[0;34m(self, X, y, groups, **fit_params)\u001b[0m\n\u001b[1;32m    708\u001b[0m                 \u001b[0;32mreturn\u001b[0m \u001b[0mresults\u001b[0m\u001b[0;34m\u001b[0m\u001b[0;34m\u001b[0m\u001b[0m\n\u001b[1;32m    709\u001b[0m \u001b[0;34m\u001b[0m\u001b[0m\n\u001b[0;32m--> 710\u001b[0;31m             \u001b[0mself\u001b[0m\u001b[0;34m.\u001b[0m\u001b[0m_run_search\u001b[0m\u001b[0;34m(\u001b[0m\u001b[0mevaluate_candidates\u001b[0m\u001b[0;34m)\u001b[0m\u001b[0;34m\u001b[0m\u001b[0;34m\u001b[0m\u001b[0m\n\u001b[0m\u001b[1;32m    711\u001b[0m \u001b[0;34m\u001b[0m\u001b[0m\n\u001b[1;32m    712\u001b[0m         \u001b[0;31m# For multi-metric evaluation, store the best_index_, best_params_ and\u001b[0m\u001b[0;34m\u001b[0m\u001b[0;34m\u001b[0m\u001b[0;34m\u001b[0m\u001b[0m\n",
            "\u001b[0;32m/usr/local/lib/python3.7/dist-packages/sklearn/model_selection/_search.py\u001b[0m in \u001b[0;36m_run_search\u001b[0;34m(self, evaluate_candidates)\u001b[0m\n\u001b[1;32m   1149\u001b[0m     \u001b[0;32mdef\u001b[0m \u001b[0m_run_search\u001b[0m\u001b[0;34m(\u001b[0m\u001b[0mself\u001b[0m\u001b[0;34m,\u001b[0m \u001b[0mevaluate_candidates\u001b[0m\u001b[0;34m)\u001b[0m\u001b[0;34m:\u001b[0m\u001b[0;34m\u001b[0m\u001b[0;34m\u001b[0m\u001b[0m\n\u001b[1;32m   1150\u001b[0m         \u001b[0;34m\"\"\"Search all candidates in param_grid\"\"\"\u001b[0m\u001b[0;34m\u001b[0m\u001b[0;34m\u001b[0m\u001b[0m\n\u001b[0;32m-> 1151\u001b[0;31m         \u001b[0mevaluate_candidates\u001b[0m\u001b[0;34m(\u001b[0m\u001b[0mParameterGrid\u001b[0m\u001b[0;34m(\u001b[0m\u001b[0mself\u001b[0m\u001b[0;34m.\u001b[0m\u001b[0mparam_grid\u001b[0m\u001b[0;34m)\u001b[0m\u001b[0;34m)\u001b[0m\u001b[0;34m\u001b[0m\u001b[0;34m\u001b[0m\u001b[0m\n\u001b[0m\u001b[1;32m   1152\u001b[0m \u001b[0;34m\u001b[0m\u001b[0m\n\u001b[1;32m   1153\u001b[0m \u001b[0;34m\u001b[0m\u001b[0m\n",
            "\u001b[0;32m/usr/local/lib/python3.7/dist-packages/sklearn/model_selection/_search.py\u001b[0m in \u001b[0;36mevaluate_candidates\u001b[0;34m(candidate_params)\u001b[0m\n\u001b[1;32m    687\u001b[0m                                \u001b[0;32mfor\u001b[0m \u001b[0mparameters\u001b[0m\u001b[0;34m,\u001b[0m \u001b[0;34m(\u001b[0m\u001b[0mtrain\u001b[0m\u001b[0;34m,\u001b[0m \u001b[0mtest\u001b[0m\u001b[0;34m)\u001b[0m\u001b[0;34m\u001b[0m\u001b[0;34m\u001b[0m\u001b[0m\n\u001b[1;32m    688\u001b[0m                                in product(candidate_params,\n\u001b[0;32m--> 689\u001b[0;31m                                           cv.split(X, y, groups)))\n\u001b[0m\u001b[1;32m    690\u001b[0m \u001b[0;34m\u001b[0m\u001b[0m\n\u001b[1;32m    691\u001b[0m                 \u001b[0;32mif\u001b[0m \u001b[0mlen\u001b[0m\u001b[0;34m(\u001b[0m\u001b[0mout\u001b[0m\u001b[0;34m)\u001b[0m \u001b[0;34m<\u001b[0m \u001b[0;36m1\u001b[0m\u001b[0;34m:\u001b[0m\u001b[0;34m\u001b[0m\u001b[0;34m\u001b[0m\u001b[0m\n",
            "\u001b[0;32m/usr/local/lib/python3.7/dist-packages/joblib/parallel.py\u001b[0m in \u001b[0;36m__call__\u001b[0;34m(self, iterable)\u001b[0m\n\u001b[1;32m   1044\u001b[0m                 \u001b[0mself\u001b[0m\u001b[0;34m.\u001b[0m\u001b[0m_iterating\u001b[0m \u001b[0;34m=\u001b[0m \u001b[0mself\u001b[0m\u001b[0;34m.\u001b[0m\u001b[0m_original_iterator\u001b[0m \u001b[0;32mis\u001b[0m \u001b[0;32mnot\u001b[0m \u001b[0;32mNone\u001b[0m\u001b[0;34m\u001b[0m\u001b[0;34m\u001b[0m\u001b[0m\n\u001b[1;32m   1045\u001b[0m \u001b[0;34m\u001b[0m\u001b[0m\n\u001b[0;32m-> 1046\u001b[0;31m             \u001b[0;32mwhile\u001b[0m \u001b[0mself\u001b[0m\u001b[0;34m.\u001b[0m\u001b[0mdispatch_one_batch\u001b[0m\u001b[0;34m(\u001b[0m\u001b[0miterator\u001b[0m\u001b[0;34m)\u001b[0m\u001b[0;34m:\u001b[0m\u001b[0;34m\u001b[0m\u001b[0;34m\u001b[0m\u001b[0m\n\u001b[0m\u001b[1;32m   1047\u001b[0m                 \u001b[0;32mpass\u001b[0m\u001b[0;34m\u001b[0m\u001b[0;34m\u001b[0m\u001b[0m\n\u001b[1;32m   1048\u001b[0m \u001b[0;34m\u001b[0m\u001b[0m\n",
            "\u001b[0;32m/usr/local/lib/python3.7/dist-packages/joblib/parallel.py\u001b[0m in \u001b[0;36mdispatch_one_batch\u001b[0;34m(self, iterator)\u001b[0m\n\u001b[1;32m    859\u001b[0m                 \u001b[0;32mreturn\u001b[0m \u001b[0;32mFalse\u001b[0m\u001b[0;34m\u001b[0m\u001b[0;34m\u001b[0m\u001b[0m\n\u001b[1;32m    860\u001b[0m             \u001b[0;32melse\u001b[0m\u001b[0;34m:\u001b[0m\u001b[0;34m\u001b[0m\u001b[0;34m\u001b[0m\u001b[0m\n\u001b[0;32m--> 861\u001b[0;31m                 \u001b[0mself\u001b[0m\u001b[0;34m.\u001b[0m\u001b[0m_dispatch\u001b[0m\u001b[0;34m(\u001b[0m\u001b[0mtasks\u001b[0m\u001b[0;34m)\u001b[0m\u001b[0;34m\u001b[0m\u001b[0;34m\u001b[0m\u001b[0m\n\u001b[0m\u001b[1;32m    862\u001b[0m                 \u001b[0;32mreturn\u001b[0m \u001b[0;32mTrue\u001b[0m\u001b[0;34m\u001b[0m\u001b[0;34m\u001b[0m\u001b[0m\n\u001b[1;32m    863\u001b[0m \u001b[0;34m\u001b[0m\u001b[0m\n",
            "\u001b[0;32m/usr/local/lib/python3.7/dist-packages/joblib/parallel.py\u001b[0m in \u001b[0;36m_dispatch\u001b[0;34m(self, batch)\u001b[0m\n\u001b[1;32m    777\u001b[0m         \u001b[0;32mwith\u001b[0m \u001b[0mself\u001b[0m\u001b[0;34m.\u001b[0m\u001b[0m_lock\u001b[0m\u001b[0;34m:\u001b[0m\u001b[0;34m\u001b[0m\u001b[0;34m\u001b[0m\u001b[0m\n\u001b[1;32m    778\u001b[0m             \u001b[0mjob_idx\u001b[0m \u001b[0;34m=\u001b[0m \u001b[0mlen\u001b[0m\u001b[0;34m(\u001b[0m\u001b[0mself\u001b[0m\u001b[0;34m.\u001b[0m\u001b[0m_jobs\u001b[0m\u001b[0;34m)\u001b[0m\u001b[0;34m\u001b[0m\u001b[0;34m\u001b[0m\u001b[0m\n\u001b[0;32m--> 779\u001b[0;31m             \u001b[0mjob\u001b[0m \u001b[0;34m=\u001b[0m \u001b[0mself\u001b[0m\u001b[0;34m.\u001b[0m\u001b[0m_backend\u001b[0m\u001b[0;34m.\u001b[0m\u001b[0mapply_async\u001b[0m\u001b[0;34m(\u001b[0m\u001b[0mbatch\u001b[0m\u001b[0;34m,\u001b[0m \u001b[0mcallback\u001b[0m\u001b[0;34m=\u001b[0m\u001b[0mcb\u001b[0m\u001b[0;34m)\u001b[0m\u001b[0;34m\u001b[0m\u001b[0;34m\u001b[0m\u001b[0m\n\u001b[0m\u001b[1;32m    780\u001b[0m             \u001b[0;31m# A job can complete so quickly than its callback is\u001b[0m\u001b[0;34m\u001b[0m\u001b[0;34m\u001b[0m\u001b[0;34m\u001b[0m\u001b[0m\n\u001b[1;32m    781\u001b[0m             \u001b[0;31m# called before we get here, causing self._jobs to\u001b[0m\u001b[0;34m\u001b[0m\u001b[0;34m\u001b[0m\u001b[0;34m\u001b[0m\u001b[0m\n",
            "\u001b[0;32m/usr/local/lib/python3.7/dist-packages/joblib/_parallel_backends.py\u001b[0m in \u001b[0;36mapply_async\u001b[0;34m(self, func, callback)\u001b[0m\n\u001b[1;32m    206\u001b[0m     \u001b[0;32mdef\u001b[0m \u001b[0mapply_async\u001b[0m\u001b[0;34m(\u001b[0m\u001b[0mself\u001b[0m\u001b[0;34m,\u001b[0m \u001b[0mfunc\u001b[0m\u001b[0;34m,\u001b[0m \u001b[0mcallback\u001b[0m\u001b[0;34m=\u001b[0m\u001b[0;32mNone\u001b[0m\u001b[0;34m)\u001b[0m\u001b[0;34m:\u001b[0m\u001b[0;34m\u001b[0m\u001b[0;34m\u001b[0m\u001b[0m\n\u001b[1;32m    207\u001b[0m         \u001b[0;34m\"\"\"Schedule a func to be run\"\"\"\u001b[0m\u001b[0;34m\u001b[0m\u001b[0;34m\u001b[0m\u001b[0m\n\u001b[0;32m--> 208\u001b[0;31m         \u001b[0mresult\u001b[0m \u001b[0;34m=\u001b[0m \u001b[0mImmediateResult\u001b[0m\u001b[0;34m(\u001b[0m\u001b[0mfunc\u001b[0m\u001b[0;34m)\u001b[0m\u001b[0;34m\u001b[0m\u001b[0;34m\u001b[0m\u001b[0m\n\u001b[0m\u001b[1;32m    209\u001b[0m         \u001b[0;32mif\u001b[0m \u001b[0mcallback\u001b[0m\u001b[0;34m:\u001b[0m\u001b[0;34m\u001b[0m\u001b[0;34m\u001b[0m\u001b[0m\n\u001b[1;32m    210\u001b[0m             \u001b[0mcallback\u001b[0m\u001b[0;34m(\u001b[0m\u001b[0mresult\u001b[0m\u001b[0;34m)\u001b[0m\u001b[0;34m\u001b[0m\u001b[0;34m\u001b[0m\u001b[0m\n",
            "\u001b[0;32m/usr/local/lib/python3.7/dist-packages/joblib/_parallel_backends.py\u001b[0m in \u001b[0;36m__init__\u001b[0;34m(self, batch)\u001b[0m\n\u001b[1;32m    570\u001b[0m         \u001b[0;31m# Don't delay the application, to avoid keeping the input\u001b[0m\u001b[0;34m\u001b[0m\u001b[0;34m\u001b[0m\u001b[0;34m\u001b[0m\u001b[0m\n\u001b[1;32m    571\u001b[0m         \u001b[0;31m# arguments in memory\u001b[0m\u001b[0;34m\u001b[0m\u001b[0;34m\u001b[0m\u001b[0;34m\u001b[0m\u001b[0m\n\u001b[0;32m--> 572\u001b[0;31m         \u001b[0mself\u001b[0m\u001b[0;34m.\u001b[0m\u001b[0mresults\u001b[0m \u001b[0;34m=\u001b[0m \u001b[0mbatch\u001b[0m\u001b[0;34m(\u001b[0m\u001b[0;34m)\u001b[0m\u001b[0;34m\u001b[0m\u001b[0;34m\u001b[0m\u001b[0m\n\u001b[0m\u001b[1;32m    573\u001b[0m \u001b[0;34m\u001b[0m\u001b[0m\n\u001b[1;32m    574\u001b[0m     \u001b[0;32mdef\u001b[0m \u001b[0mget\u001b[0m\u001b[0;34m(\u001b[0m\u001b[0mself\u001b[0m\u001b[0;34m)\u001b[0m\u001b[0;34m:\u001b[0m\u001b[0;34m\u001b[0m\u001b[0;34m\u001b[0m\u001b[0m\n",
            "\u001b[0;32m/usr/local/lib/python3.7/dist-packages/joblib/parallel.py\u001b[0m in \u001b[0;36m__call__\u001b[0;34m(self)\u001b[0m\n\u001b[1;32m    261\u001b[0m         \u001b[0;32mwith\u001b[0m \u001b[0mparallel_backend\u001b[0m\u001b[0;34m(\u001b[0m\u001b[0mself\u001b[0m\u001b[0;34m.\u001b[0m\u001b[0m_backend\u001b[0m\u001b[0;34m,\u001b[0m \u001b[0mn_jobs\u001b[0m\u001b[0;34m=\u001b[0m\u001b[0mself\u001b[0m\u001b[0;34m.\u001b[0m\u001b[0m_n_jobs\u001b[0m\u001b[0;34m)\u001b[0m\u001b[0;34m:\u001b[0m\u001b[0;34m\u001b[0m\u001b[0;34m\u001b[0m\u001b[0m\n\u001b[1;32m    262\u001b[0m             return [func(*args, **kwargs)\n\u001b[0;32m--> 263\u001b[0;31m                     for func, args, kwargs in self.items]\n\u001b[0m\u001b[1;32m    264\u001b[0m \u001b[0;34m\u001b[0m\u001b[0m\n\u001b[1;32m    265\u001b[0m     \u001b[0;32mdef\u001b[0m \u001b[0m__reduce__\u001b[0m\u001b[0;34m(\u001b[0m\u001b[0mself\u001b[0m\u001b[0;34m)\u001b[0m\u001b[0;34m:\u001b[0m\u001b[0;34m\u001b[0m\u001b[0;34m\u001b[0m\u001b[0m\n",
            "\u001b[0;32m/usr/local/lib/python3.7/dist-packages/joblib/parallel.py\u001b[0m in \u001b[0;36m<listcomp>\u001b[0;34m(.0)\u001b[0m\n\u001b[1;32m    261\u001b[0m         \u001b[0;32mwith\u001b[0m \u001b[0mparallel_backend\u001b[0m\u001b[0;34m(\u001b[0m\u001b[0mself\u001b[0m\u001b[0;34m.\u001b[0m\u001b[0m_backend\u001b[0m\u001b[0;34m,\u001b[0m \u001b[0mn_jobs\u001b[0m\u001b[0;34m=\u001b[0m\u001b[0mself\u001b[0m\u001b[0;34m.\u001b[0m\u001b[0m_n_jobs\u001b[0m\u001b[0;34m)\u001b[0m\u001b[0;34m:\u001b[0m\u001b[0;34m\u001b[0m\u001b[0;34m\u001b[0m\u001b[0m\n\u001b[1;32m    262\u001b[0m             return [func(*args, **kwargs)\n\u001b[0;32m--> 263\u001b[0;31m                     for func, args, kwargs in self.items]\n\u001b[0m\u001b[1;32m    264\u001b[0m \u001b[0;34m\u001b[0m\u001b[0m\n\u001b[1;32m    265\u001b[0m     \u001b[0;32mdef\u001b[0m \u001b[0m__reduce__\u001b[0m\u001b[0;34m(\u001b[0m\u001b[0mself\u001b[0m\u001b[0;34m)\u001b[0m\u001b[0;34m:\u001b[0m\u001b[0;34m\u001b[0m\u001b[0;34m\u001b[0m\u001b[0m\n",
            "\u001b[0;32m/usr/local/lib/python3.7/dist-packages/sklearn/model_selection/_validation.py\u001b[0m in \u001b[0;36m_fit_and_score\u001b[0;34m(estimator, X, y, scorer, train, test, verbose, parameters, fit_params, return_train_score, return_parameters, return_n_test_samples, return_times, return_estimator, error_score)\u001b[0m\n\u001b[1;32m    513\u001b[0m             \u001b[0mestimator\u001b[0m\u001b[0;34m.\u001b[0m\u001b[0mfit\u001b[0m\u001b[0;34m(\u001b[0m\u001b[0mX_train\u001b[0m\u001b[0;34m,\u001b[0m \u001b[0;34m**\u001b[0m\u001b[0mfit_params\u001b[0m\u001b[0;34m)\u001b[0m\u001b[0;34m\u001b[0m\u001b[0;34m\u001b[0m\u001b[0m\n\u001b[1;32m    514\u001b[0m         \u001b[0;32melse\u001b[0m\u001b[0;34m:\u001b[0m\u001b[0;34m\u001b[0m\u001b[0;34m\u001b[0m\u001b[0m\n\u001b[0;32m--> 515\u001b[0;31m             \u001b[0mestimator\u001b[0m\u001b[0;34m.\u001b[0m\u001b[0mfit\u001b[0m\u001b[0;34m(\u001b[0m\u001b[0mX_train\u001b[0m\u001b[0;34m,\u001b[0m \u001b[0my_train\u001b[0m\u001b[0;34m,\u001b[0m \u001b[0;34m**\u001b[0m\u001b[0mfit_params\u001b[0m\u001b[0;34m)\u001b[0m\u001b[0;34m\u001b[0m\u001b[0;34m\u001b[0m\u001b[0m\n\u001b[0m\u001b[1;32m    516\u001b[0m \u001b[0;34m\u001b[0m\u001b[0m\n\u001b[1;32m    517\u001b[0m     \u001b[0;32mexcept\u001b[0m \u001b[0mException\u001b[0m \u001b[0;32mas\u001b[0m \u001b[0me\u001b[0m\u001b[0;34m:\u001b[0m\u001b[0;34m\u001b[0m\u001b[0;34m\u001b[0m\u001b[0m\n",
            "\u001b[0;32m/usr/local/lib/python3.7/dist-packages/sklearn/pipeline.py\u001b[0m in \u001b[0;36mfit\u001b[0;34m(self, X, y, **fit_params)\u001b[0m\n\u001b[1;32m    348\u001b[0m             \u001b[0mThis\u001b[0m \u001b[0mestimator\u001b[0m\u001b[0;34m\u001b[0m\u001b[0;34m\u001b[0m\u001b[0m\n\u001b[1;32m    349\u001b[0m         \"\"\"\n\u001b[0;32m--> 350\u001b[0;31m         \u001b[0mXt\u001b[0m\u001b[0;34m,\u001b[0m \u001b[0mfit_params\u001b[0m \u001b[0;34m=\u001b[0m \u001b[0mself\u001b[0m\u001b[0;34m.\u001b[0m\u001b[0m_fit\u001b[0m\u001b[0;34m(\u001b[0m\u001b[0mX\u001b[0m\u001b[0;34m,\u001b[0m \u001b[0my\u001b[0m\u001b[0;34m,\u001b[0m \u001b[0;34m**\u001b[0m\u001b[0mfit_params\u001b[0m\u001b[0;34m)\u001b[0m\u001b[0;34m\u001b[0m\u001b[0;34m\u001b[0m\u001b[0m\n\u001b[0m\u001b[1;32m    351\u001b[0m         with _print_elapsed_time('Pipeline',\n\u001b[1;32m    352\u001b[0m                                  self._log_message(len(self.steps) - 1)):\n",
            "\u001b[0;32m/usr/local/lib/python3.7/dist-packages/sklearn/pipeline.py\u001b[0m in \u001b[0;36m_fit\u001b[0;34m(self, X, y, **fit_params)\u001b[0m\n\u001b[1;32m    313\u001b[0m                 \u001b[0mmessage_clsname\u001b[0m\u001b[0;34m=\u001b[0m\u001b[0;34m'Pipeline'\u001b[0m\u001b[0;34m,\u001b[0m\u001b[0;34m\u001b[0m\u001b[0;34m\u001b[0m\u001b[0m\n\u001b[1;32m    314\u001b[0m                 \u001b[0mmessage\u001b[0m\u001b[0;34m=\u001b[0m\u001b[0mself\u001b[0m\u001b[0;34m.\u001b[0m\u001b[0m_log_message\u001b[0m\u001b[0;34m(\u001b[0m\u001b[0mstep_idx\u001b[0m\u001b[0;34m)\u001b[0m\u001b[0;34m,\u001b[0m\u001b[0;34m\u001b[0m\u001b[0;34m\u001b[0m\u001b[0m\n\u001b[0;32m--> 315\u001b[0;31m                 **fit_params_steps[name])\n\u001b[0m\u001b[1;32m    316\u001b[0m             \u001b[0;31m# Replace the transformer of the step with the fitted\u001b[0m\u001b[0;34m\u001b[0m\u001b[0;34m\u001b[0m\u001b[0;34m\u001b[0m\u001b[0m\n\u001b[1;32m    317\u001b[0m             \u001b[0;31m# transformer. This is necessary when loading the transformer\u001b[0m\u001b[0;34m\u001b[0m\u001b[0;34m\u001b[0m\u001b[0;34m\u001b[0m\u001b[0m\n",
            "\u001b[0;32m/usr/local/lib/python3.7/dist-packages/joblib/memory.py\u001b[0m in \u001b[0;36m__call__\u001b[0;34m(self, *args, **kwargs)\u001b[0m\n\u001b[1;32m    347\u001b[0m \u001b[0;34m\u001b[0m\u001b[0m\n\u001b[1;32m    348\u001b[0m     \u001b[0;32mdef\u001b[0m \u001b[0m__call__\u001b[0m\u001b[0;34m(\u001b[0m\u001b[0mself\u001b[0m\u001b[0;34m,\u001b[0m \u001b[0;34m*\u001b[0m\u001b[0margs\u001b[0m\u001b[0;34m,\u001b[0m \u001b[0;34m**\u001b[0m\u001b[0mkwargs\u001b[0m\u001b[0;34m)\u001b[0m\u001b[0;34m:\u001b[0m\u001b[0;34m\u001b[0m\u001b[0;34m\u001b[0m\u001b[0m\n\u001b[0;32m--> 349\u001b[0;31m         \u001b[0;32mreturn\u001b[0m \u001b[0mself\u001b[0m\u001b[0;34m.\u001b[0m\u001b[0mfunc\u001b[0m\u001b[0;34m(\u001b[0m\u001b[0;34m*\u001b[0m\u001b[0margs\u001b[0m\u001b[0;34m,\u001b[0m \u001b[0;34m**\u001b[0m\u001b[0mkwargs\u001b[0m\u001b[0;34m)\u001b[0m\u001b[0;34m\u001b[0m\u001b[0;34m\u001b[0m\u001b[0m\n\u001b[0m\u001b[1;32m    350\u001b[0m \u001b[0;34m\u001b[0m\u001b[0m\n\u001b[1;32m    351\u001b[0m     \u001b[0;32mdef\u001b[0m \u001b[0mcall_and_shelve\u001b[0m\u001b[0;34m(\u001b[0m\u001b[0mself\u001b[0m\u001b[0;34m,\u001b[0m \u001b[0;34m*\u001b[0m\u001b[0margs\u001b[0m\u001b[0;34m,\u001b[0m \u001b[0;34m**\u001b[0m\u001b[0mkwargs\u001b[0m\u001b[0;34m)\u001b[0m\u001b[0;34m:\u001b[0m\u001b[0;34m\u001b[0m\u001b[0;34m\u001b[0m\u001b[0m\n",
            "\u001b[0;32m/usr/local/lib/python3.7/dist-packages/sklearn/pipeline.py\u001b[0m in \u001b[0;36m_fit_transform_one\u001b[0;34m(transformer, X, y, weight, message_clsname, message, **fit_params)\u001b[0m\n\u001b[1;32m    726\u001b[0m     \u001b[0;32mwith\u001b[0m \u001b[0m_print_elapsed_time\u001b[0m\u001b[0;34m(\u001b[0m\u001b[0mmessage_clsname\u001b[0m\u001b[0;34m,\u001b[0m \u001b[0mmessage\u001b[0m\u001b[0;34m)\u001b[0m\u001b[0;34m:\u001b[0m\u001b[0;34m\u001b[0m\u001b[0;34m\u001b[0m\u001b[0m\n\u001b[1;32m    727\u001b[0m         \u001b[0;32mif\u001b[0m \u001b[0mhasattr\u001b[0m\u001b[0;34m(\u001b[0m\u001b[0mtransformer\u001b[0m\u001b[0;34m,\u001b[0m \u001b[0;34m'fit_transform'\u001b[0m\u001b[0;34m)\u001b[0m\u001b[0;34m:\u001b[0m\u001b[0;34m\u001b[0m\u001b[0;34m\u001b[0m\u001b[0m\n\u001b[0;32m--> 728\u001b[0;31m             \u001b[0mres\u001b[0m \u001b[0;34m=\u001b[0m \u001b[0mtransformer\u001b[0m\u001b[0;34m.\u001b[0m\u001b[0mfit_transform\u001b[0m\u001b[0;34m(\u001b[0m\u001b[0mX\u001b[0m\u001b[0;34m,\u001b[0m \u001b[0my\u001b[0m\u001b[0;34m,\u001b[0m \u001b[0;34m**\u001b[0m\u001b[0mfit_params\u001b[0m\u001b[0;34m)\u001b[0m\u001b[0;34m\u001b[0m\u001b[0;34m\u001b[0m\u001b[0m\n\u001b[0m\u001b[1;32m    729\u001b[0m         \u001b[0;32melse\u001b[0m\u001b[0;34m:\u001b[0m\u001b[0;34m\u001b[0m\u001b[0;34m\u001b[0m\u001b[0m\n\u001b[1;32m    730\u001b[0m             \u001b[0mres\u001b[0m \u001b[0;34m=\u001b[0m \u001b[0mtransformer\u001b[0m\u001b[0;34m.\u001b[0m\u001b[0mfit\u001b[0m\u001b[0;34m(\u001b[0m\u001b[0mX\u001b[0m\u001b[0;34m,\u001b[0m \u001b[0my\u001b[0m\u001b[0;34m,\u001b[0m \u001b[0;34m**\u001b[0m\u001b[0mfit_params\u001b[0m\u001b[0;34m)\u001b[0m\u001b[0;34m.\u001b[0m\u001b[0mtransform\u001b[0m\u001b[0;34m(\u001b[0m\u001b[0mX\u001b[0m\u001b[0;34m)\u001b[0m\u001b[0;34m\u001b[0m\u001b[0;34m\u001b[0m\u001b[0m\n",
            "\u001b[0;31mKeyboardInterrupt\u001b[0m: "
          ]
        }
      ]
    },
    {
      "cell_type": "code",
      "metadata": {
        "id": "r2-jcxkN2gHk"
      },
      "source": [
        "pipe_improve.get_params().keys()\n",
        "# politic_stop_se\n"
      ],
      "execution_count": null,
      "outputs": []
    },
    {
      "cell_type": "markdown",
      "metadata": {
        "id": "pEOXJGLFN25i"
      },
      "source": [
        "## Reflection questions"
      ]
    },
    {
      "cell_type": "markdown",
      "metadata": {
        "id": "vCcL05JVN25i"
      },
      "source": [
        "The following reflection questions are questions that you could be asked in the oral exam. Try to answer each of them in the form of a short text and enter it in the cell below. You will get feedback on your answers from your lab assistant."
      ]
    },
    {
      "cell_type": "markdown",
      "metadata": {
        "id": "dQfz9wXTN25i"
      },
      "source": [
        "**RQ 2.1:** Summarise the results of your experiments for Problem&nbsp;2. Are your results ‘good’ or ‘bad’? How do you determine that?\n",
        "\n",
        "**RQ 2.2:** Summarise the results of your experiments for Problem&nbsp;4. Would you think that your results are typical even for other classification tasks? How would *oversampling* have looked like for this task? When would you use undersampling, when oversampling?\n",
        "\n",
        "**RQ 2.3:** Which model performed best in your experiments for Problem&nbsp;6? Why is it important to do a hyperparameter search before drawing conclusions about the performance of a model? Why is it often not done, anyway? Why should you never tune hyperparameters on the test set?"
      ]
    },
    {
      "cell_type": "markdown",
      "metadata": {
        "id": "HGX29OrdN25j"
      },
      "source": [
        "**A 2.1** In this problem, we apply the Naive Bayes classifier directly on the dataset without any consideration about class over-representation. We obtain results that show a better accuracy for those classes that are more represented and for which more data is available. On the other hand, under-represented classes show poor accuracy and f1-scores. These results are not bad per se, but are in line with what we expect from biased dataset for which class imbalance is not taken into account.\n",
        "\n",
        "\n",
        "**A 2.2:** From the evaluation we can see that the overall accuracy went down by 2%. On the other hand, we can observe a more balanced inter-class accuracy. From the f1-score we can see that our predictions are not as much varying as in problem 2. Thus, we can state that undersampling helped us making more robust predictions while at the same time lowering the overall accuracy. Oversampling would imply that we would duplicate (randomly) data from under-represented class a certain number of times in order to have the same class representation for all classes in the dataset. This method does not add any more information to the dataset. However, generating synthetic text using the Synthetic Minority Over-Sampling Technique ([SMOTE](https://arxiv.org/pdf/1106.1813.pdf)) would provide an alternative by generating synthetic data that could add information during the training process and oversample more efficiently. We would use undersampling in the case where the minority classes have enough information to find the decision boundary for our classifier and performs \"well enough\" compared to the baseline (i.e. we would not see any strong imbalance in our classification that is biased in the same way than our classes in the dataset). We would use oversampling (random or another technique) in the case our underrepresented classes do not have enough information to make up a good decision boundary.\n",
        "\n",
        "**A 2.3:** As marked in the cell above, our best result is with the following parameters: {'countVectorizer__binary': False, 'countVectorizer__ngram_range': (1, 1),'multinomialNB__alpha': 0.1}. Choosing the best set of parameters is important to do before drawing any conlcusions because they depend strongly on the problem and the training set that is fed to the model. We do no wish to introduce any bias when measuring the performance of the model. This is also the reason why we do not tune the hyperparameters on the test set as the hyperparameter tuning process is also part of the training of the model. Grid search is often not done because it is a lengthy and computationally demanding process if we are to increase the number of folds, fine grain the grid, increase the dimensions (more hyperparameters) in order to find the absolute best combination. We also run the risk of overfitting by adding more complexity to the model which would mean a poor generalization of the model."
      ]
    },
    {
      "cell_type": "markdown",
      "metadata": {
        "id": "L-Of_kv6N25j"
      },
      "source": [
        "**Congratulations on finishing L2! 👍**"
      ]
    }
  ]
}