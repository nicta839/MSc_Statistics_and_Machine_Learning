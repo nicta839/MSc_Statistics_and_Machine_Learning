{
 "cells": [
  {
   "cell_type": "markdown",
   "metadata": {
    "id": "TxYzXXvtN25B"
   },
   "source": [
    "# L2: Text classification"
   ]
  },
  {
   "cell_type": "markdown",
   "metadata": {
    "id": "qENNrj1xN25H"
   },
   "source": [
    "Text classification is the task of sorting text documents into predefined classes. The concrete problem you will be working on in this lab is the classification of texts with respect to their political affiliation. The specific texts you are going to classify are speeches held in the [Riksdag](https://www.riksdagen.se/en/), the Swedish national legislature."
   ]
  },
  {
   "cell_type": "markdown",
   "metadata": {
    "id": "IJSuB6FtN25I"
   },
   "source": [
    "**Before starting with this lab, here is a quick reminder about our [Rules for hand-in assignments](https://www.ida.liu.se/~TDDE16/exam.en.shtml#handins) and the [Policy on cheating and plagiarism](https://www.ida.liu.se/~TDDE16/exam.en.shtml#cheating).**"
   ]
  },
  {
   "cell_type": "markdown",
   "metadata": {
    "id": "Tuj4hkbNN25J"
   },
   "source": [
    "## Data set"
   ]
  },
  {
   "cell_type": "markdown",
   "metadata": {
    "id": "4HFrOTnZN25J"
   },
   "source": [
    "The raw data for this lab comes from [The Riksdag’s Open Data](https://data.riksdagen.se/in-english/). We have tokenized the speeches and put them into two compressed [JSON](https://en.wikipedia.org/wiki/JSON) files:\n",
    "\n",
    "* `speeches-201718.json.bz2` (speeches from the 2017/2018 parliamentary session)\n",
    "* `speeches-201819.json.bz2` (ditto, from the 2018/2019 session)\n",
    "\n",
    "We start by loading these files into two separate data frames."
   ]
  },
  {
   "cell_type": "code",
   "execution_count": 1,
   "metadata": {
    "id": "r2MY5HWzN25K"
   },
   "outputs": [],
   "source": [
    "import pandas as pd\n",
    "import bz2\n",
    "\n",
    "with bz2.open('speeches-201718.json.bz2') as source:\n",
    "    speeches_201718 = pd.read_json(source)\n",
    "\n",
    "with bz2.open('speeches-201819.json.bz2') as source:\n",
    "    speeches_201819 = pd.read_json(source)"
   ]
  },
  {
   "cell_type": "markdown",
   "metadata": {
    "id": "qfHobY81N25M"
   },
   "source": [
    "When you inspect the two data frames, you can see that there are three labelled columns: `id` (the official speech ID), `words` (the space-separated words of the speech), and `party` (the party of the speaker, represented by its customary abbreviation)."
   ]
  },
  {
   "cell_type": "code",
   "execution_count": 2,
   "metadata": {
    "colab": {
     "base_uri": "https://localhost:8080/",
     "height": 204
    },
    "id": "Qv8AIUs_N25N",
    "outputId": "f0943c61-39d6-466e-b7b4-11007f63bdcd"
   },
   "outputs": [
    {
     "data": {
      "text/html": [
       "<div>\n",
       "<style scoped>\n",
       "    .dataframe tbody tr th:only-of-type {\n",
       "        vertical-align: middle;\n",
       "    }\n",
       "\n",
       "    .dataframe tbody tr th {\n",
       "        vertical-align: top;\n",
       "    }\n",
       "\n",
       "    .dataframe thead th {\n",
       "        text-align: right;\n",
       "    }\n",
       "</style>\n",
       "<table border=\"1\" class=\"dataframe\">\n",
       "  <thead>\n",
       "    <tr style=\"text-align: right;\">\n",
       "      <th></th>\n",
       "      <th>id</th>\n",
       "      <th>words</th>\n",
       "      <th>party</th>\n",
       "    </tr>\n",
       "  </thead>\n",
       "  <tbody>\n",
       "    <tr>\n",
       "      <th>0</th>\n",
       "      <td>H5-002-004</td>\n",
       "      <td>eders majestäter eders kungliga högheter herr ...</td>\n",
       "      <td>S</td>\n",
       "    </tr>\n",
       "    <tr>\n",
       "      <th>1</th>\n",
       "      <td>H5-003-001</td>\n",
       "      <td>aktuell debatt om situationen för ensamkommand...</td>\n",
       "      <td>V</td>\n",
       "    </tr>\n",
       "    <tr>\n",
       "      <th>2</th>\n",
       "      <td>H5-003-002</td>\n",
       "      <td>herr talman och ledamöter jag vill börja med a...</td>\n",
       "      <td>S</td>\n",
       "    </tr>\n",
       "    <tr>\n",
       "      <th>3</th>\n",
       "      <td>H5-003-003</td>\n",
       "      <td>herr talman åhörare den här debatten handlar a...</td>\n",
       "      <td>M</td>\n",
       "    </tr>\n",
       "    <tr>\n",
       "      <th>4</th>\n",
       "      <td>H5-003-004</td>\n",
       "      <td>herr talman ansvar och rättssäkerhet är två or...</td>\n",
       "      <td>SD</td>\n",
       "    </tr>\n",
       "  </tbody>\n",
       "</table>\n",
       "</div>"
      ],
      "text/plain": [
       "           id                                              words party\n",
       "0  H5-002-004  eders majestäter eders kungliga högheter herr ...     S\n",
       "1  H5-003-001  aktuell debatt om situationen för ensamkommand...     V\n",
       "2  H5-003-002  herr talman och ledamöter jag vill börja med a...     S\n",
       "3  H5-003-003  herr talman åhörare den här debatten handlar a...     M\n",
       "4  H5-003-004  herr talman ansvar och rättssäkerhet är två or...    SD"
      ]
     },
     "execution_count": 2,
     "metadata": {},
     "output_type": "execute_result"
    }
   ],
   "source": [
    "speeches_201718.head()"
   ]
  },
  {
   "cell_type": "markdown",
   "metadata": {
    "id": "mv8NagHwN25P"
   },
   "source": [
    "Throughout the lab, we will be using the speeches from 2017/2018 as our training data, and the speeches from 2018/2019 as our test data."
   ]
  },
  {
   "cell_type": "code",
   "execution_count": 3,
   "metadata": {
    "id": "cUYLO2HwN25Q"
   },
   "outputs": [],
   "source": [
    "training_data, test_data = speeches_201718, speeches_201819"
   ]
  },
  {
   "cell_type": "markdown",
   "metadata": {
    "id": "uzyJZ7LnN25R"
   },
   "source": [
    "For later reference, we store the sorted list of party abbreviations."
   ]
  },
  {
   "cell_type": "code",
   "execution_count": 4,
   "metadata": {
    "colab": {
     "base_uri": "https://localhost:8080/"
    },
    "id": "zh-xMI5RN25S",
    "outputId": "1c41fc69-1d53-4e5d-826b-b2ff16a54616"
   },
   "outputs": [
    {
     "name": "stdout",
     "output_type": "stream",
     "text": [
      "['C', 'KD', 'L', 'M', 'MP', 'S', 'SD', 'V']\n"
     ]
    }
   ],
   "source": [
    "parties = sorted(training_data['party'].unique())\n",
    "print(parties)"
   ]
  },
  {
   "cell_type": "markdown",
   "metadata": {
    "id": "UxLyPcp-N25T"
   },
   "source": [
    "## Problem 1: Visualization"
   ]
  },
  {
   "cell_type": "markdown",
   "metadata": {
    "id": "b-K-spjLN25T"
   },
   "source": [
    "Your first task is to get to know the data better by producing a simple visualization.\n",
    "\n",
    "If you are not familiar with the Swedish political system and the parties represented in the Riksdag in particular, then we suggest that you have a look at the Wikipedia article about the [2018 Swedish general election](https://en.wikipedia.org/wiki/2018_Swedish_general_election).\n",
    "\n",
    "For the lab, we ask you to compare the two data frames with respect to the distribution of the speeches over the different parties. Write code to generate two bar plots that visualize this information, one for the 2017/2018 speeches and one for the 2018/2019 speeches. Inspect the two plots, and compare them\n",
    "\n",
    "* to each other\n",
    "* to the results of the 2014 and the 2018 general elections\n",
    "\n",
    "Summarize your observations in a short text in the cell below.\n",
    "\n",
    "**Tip:** If you need help with creating bar plots, [Bar Plot using Pandas](https://dfrieds.com/data-visualizations/bar-plot-python-pandas) provides a useful tutorial."
   ]
  },
  {
   "cell_type": "markdown",
   "metadata": {
    "id": "lOrkwfSBN25U"
   },
   "source": [
    "**A:** \n",
    "\n",
    "- Comparing both plots with eachother we can see a similar pattern in the bar plots. S and M are the parties with the most speeches in the Riksdag. We can also observe that party MP had proportionally less speeches in 2018/19 compared to 2017/18. On the other hand KD, SD and V had proportionally more speeches in 2018/19 compared to 2017/18. In general, it can also be seen that the total number of speeches (per party) is lower in 2018/19 compared to 2017/18.\n",
    "\n",
    "- Comparing to the 2014 and 2018 general elections we can see why MP had less speeches in 2018/19. MP went from 6.9% to 4.4% and lost 9 Riksdag seats. In general, it looks like the proportion of speeches in the Riksdag depends on the number of seats a party owns. One interesting thing to observe is that the C party seems to have less speeches compared to their proportion of seats in the Riksdag."
   ]
  },
  {
   "cell_type": "code",
   "execution_count": 5,
   "metadata": {
    "id": "NiG2dQMLN25V"
   },
   "outputs": [],
   "source": [
    "import matplotlib.pyplot as plt\n",
    "import numpy as np"
   ]
  },
  {
   "cell_type": "code",
   "execution_count": 6,
   "metadata": {
    "colab": {
     "base_uri": "https://localhost:8080/",
     "height": 279
    },
    "id": "KUgT-dDCN25V",
    "outputId": "e01a5a4e-3eee-48ad-b289-31a5e26d201e"
   },
   "outputs": [
    {
     "data": {
      "image/png": "[encoded data removed]",
      "text/plain": [
       "<Figure size 432x288 with 1 Axes>"
      ]
     },
     "metadata": {
      "needs_background": "light"
     },
     "output_type": "display_data"
    }
   ],
   "source": [
    "counts_1718 = speeches_201718.groupby([\"party\"]).size().reset_index(name='counts')\n",
    "\n",
    "plt.bar(counts_1718[\"party\"], counts_1718[\"counts\"], color=plt.cm.Paired(np.arange(len(counts_1718))))\n",
    "plt.xlabel(\"Party\")\n",
    "plt.ylabel(\"Number of speeches\")\n",
    "plt.show()"
   ]
  },
  {
   "cell_type": "code",
   "execution_count": 7,
   "metadata": {
    "colab": {
     "base_uri": "https://localhost:8080/",
     "height": 279
    },
    "id": "zst0Pjl_N25W",
    "outputId": "028f73d4-192c-4fb0-83bc-20e70d5feaba"
   },
   "outputs": [
    {
     "data": {
      "image/png": "[encoded data removed]",
      "text/plain": [
       "<Figure size 432x288 with 1 Axes>"
      ]
     },
     "metadata": {
      "needs_background": "light"
     },
     "output_type": "display_data"
    }
   ],
   "source": [
    "counts_1819 = speeches_201819.groupby([\"party\"]).size().reset_index(name='counts')\n",
    "\n",
    "plt.bar(counts_1819[\"party\"], counts_1819[\"counts\"], color=plt.cm.Paired(np.arange(len(counts_1819))))\n",
    "plt.xlabel(\"Party\")\n",
    "plt.ylabel(\"Number of speeches\")\n",
    "plt.show()"
   ]
  },
  {
   "cell_type": "markdown",
   "metadata": {
    "id": "Uh8SEfjdN25X"
   },
   "source": [
    "## Problem 2: Naive Bayes classifier"
   ]
  },
  {
   "cell_type": "markdown",
   "metadata": {
    "id": "8Z-SgKL0N25X"
   },
   "source": [
    "You are now ready to train and evaluate a classifier. More specifically, we ask you to train a [Multinomial Naive Bayes](https://scikit-learn.org/stable/modules/naive_bayes.html#multinomial-naive-bayes) classifier. You will have to\n",
    "\n",
    "1. vectorize the speeches in the training data\n",
    "2. instantiate and fit the Naive Bayes model\n",
    "3. evaluate the model on the test data\n",
    "\n",
    "The scikit-learn library provides a convenience class [Pipeline](https://scikit-learn.org/stable/modules/generated/sklearn.pipeline.Pipeline.html) that allows you to solve the first two tasks with very compact code. For the evaluation you can use the function [`classification_report`](https://scikit-learn.org/stable/modules/generated/sklearn.metrics.classification_report.html), which will report per-class precision, recall and F1, as well as overall accuracy."
   ]
  },
  {
   "cell_type": "code",
   "execution_count": 8,
   "metadata": {
    "colab": {
     "base_uri": "https://localhost:8080/"
    },
    "id": "qh3QhvDwN25Y",
    "outputId": "e619afb2-20b2-4a57-be09-6d416b4d4e66"
   },
   "outputs": [
    {
     "name": "stdout",
     "output_type": "stream",
     "text": [
      "              precision    recall  f1-score   support\n",
      "\n",
      "           C       0.63      0.04      0.07       671\n",
      "          KD       0.70      0.02      0.03       821\n",
      "           L       0.92      0.02      0.04       560\n",
      "           M       0.36      0.68      0.47      1644\n",
      "          MP       0.36      0.25      0.29       809\n",
      "           S       0.46      0.84      0.59      2773\n",
      "          SD       0.57      0.12      0.20      1060\n",
      "           V       0.59      0.15      0.24       950\n",
      "\n",
      "    accuracy                           0.43      9288\n",
      "   macro avg       0.57      0.26      0.24      9288\n",
      "weighted avg       0.52      0.43      0.34      9288\n",
      "\n"
     ]
    }
   ],
   "source": [
    "from sklearn.feature_extraction.text import CountVectorizer\n",
    "from sklearn.naive_bayes import MultinomialNB\n",
    "from sklearn.pipeline import Pipeline\n",
    "from sklearn.metrics import classification_report\n",
    "\n",
    "pipe = Pipeline([(\"countVectorizer\", CountVectorizer()), (\"multinomialNB\", MultinomialNB())])\n",
    "\n",
    "X_train = training_data[\"words\"]\n",
    "y_train = training_data[\"party\"]\n",
    "X_test = test_data[\"words\"]\n",
    "y_test = test_data[\"party\"]\n",
    "\n",
    "# Fit model on training_data\n",
    "pipe.fit(X_train, y_train)\n",
    "\n",
    "# Predictions on test_data\n",
    "y_pred = pipe.predict(X_test)\n",
    "\n",
    "# Evaluate model reporting accuracy, precision, recall and F1\n",
    "print(classification_report(y_test, y_pred))"
   ]
  },
  {
   "cell_type": "markdown",
   "metadata": {
    "id": "g3HgQf3vN25Y"
   },
   "source": [
    "Would you have expected the results that you got?"
   ]
  },
  {
   "cell_type": "markdown",
   "metadata": {
    "id": "q3vtraWcN25Y"
   },
   "source": [
    "**A:** Yes, we expected the results to be like that. From the imbalance of our training distribution it follows that some parties are over-represented and some are under-represented which results in worse predictions seen in the evaluation. "
   ]
  },
  {
   "cell_type": "markdown",
   "metadata": {
    "id": "M9pxsKEnN25Z"
   },
   "source": [
    "## Problem 3: Baselines"
   ]
  },
  {
   "cell_type": "markdown",
   "metadata": {
    "id": "nI7mkgyIN25Z"
   },
   "source": [
    "Evaluation metrics such as accuracy should not be understood as absolute measures of performance, but should be used only to compare different classifiers. When other classifiers are not available, a simple baseline is a classifier that generates predictions by random sampling, respecting the training set&rsquo;s class distribution. This baseline is implemented by the class [DummyClassifier](https://scikit-learn.org/stable/modules/generated/sklearn.dummy.DummyClassifier.html). What is the performance of the random baseline on the test data?"
   ]
  },
  {
   "cell_type": "code",
   "execution_count": 9,
   "metadata": {
    "colab": {
     "base_uri": "https://localhost:8080/"
    },
    "id": "cMQc7D7uN25Z",
    "outputId": "24738d49-81b8-4bc4-93ef-24787f20dc3d"
   },
   "outputs": [
    {
     "name": "stdout",
     "output_type": "stream",
     "text": [
      "              precision    recall  f1-score   support\n",
      "\n",
      "           C       0.07      0.06      0.06       671\n",
      "          KD       0.09      0.06      0.07       821\n",
      "           L       0.07      0.06      0.06       560\n",
      "           M       0.18      0.20      0.19      1644\n",
      "          MP       0.10      0.14      0.11       809\n",
      "           S       0.29      0.34      0.32      2773\n",
      "          SD       0.13      0.10      0.11      1060\n",
      "           V       0.10      0.07      0.09       950\n",
      "\n",
      "    accuracy                           0.18      9288\n",
      "   macro avg       0.13      0.13      0.13      9288\n",
      "weighted avg       0.17      0.18      0.17      9288\n",
      "\n"
     ]
    }
   ],
   "source": [
    "from sklearn.dummy import DummyClassifier\n",
    "\n",
    "# Using stratified strategy to generate predictions by respecting the training set’s class distribution\n",
    "dummy_clf = DummyClassifier(strategy=\"stratified\")\n",
    "\n",
    "dummy_clf.fit(X_train, y_train)\n",
    "y_pred = dummy_clf.predict(X_test)\n",
    "\n",
    "print(classification_report(y_test, y_pred))"
   ]
  },
  {
   "cell_type": "markdown",
   "metadata": {
    "id": "NaPXfp94N25a"
   },
   "source": [
    "An even dumber baseline is to predict, for every document, that class which appears most often in the training data. This baseline is also called the most frequent class baseline. What is the accuracy of that baseline on the test data?"
   ]
  },
  {
   "cell_type": "code",
   "execution_count": 10,
   "metadata": {
    "colab": {
     "base_uri": "https://localhost:8080/"
    },
    "id": "2a0ffpehN25a",
    "outputId": "e7076d45-9932-4efa-e674-e5bdaa2303a8"
   },
   "outputs": [
    {
     "name": "stdout",
     "output_type": "stream",
     "text": [
      "              precision    recall  f1-score   support\n",
      "\n",
      "           C       0.00      0.00      0.00       671\n",
      "          KD       0.00      0.00      0.00       821\n",
      "           L       0.00      0.00      0.00       560\n",
      "           M       0.00      0.00      0.00      1644\n",
      "          MP       0.00      0.00      0.00       809\n",
      "           S       0.30      1.00      0.46      2773\n",
      "          SD       0.00      0.00      0.00      1060\n",
      "           V       0.00      0.00      0.00       950\n",
      "\n",
      "    accuracy                           0.30      9288\n",
      "   macro avg       0.04      0.12      0.06      9288\n",
      "weighted avg       0.09      0.30      0.14      9288\n",
      "\n"
     ]
    },
    {
     "name": "stderr",
     "output_type": "stream",
     "text": [
      "/Users/yuki/opt/miniconda3/envs/tssl/lib/python3.7/site-packages/sklearn/metrics/_classification.py:1248: UndefinedMetricWarning: Precision and F-score are ill-defined and being set to 0.0 in labels with no predicted samples. Use `zero_division` parameter to control this behavior.\n",
      "  _warn_prf(average, modifier, msg_start, len(result))\n",
      "/Users/yuki/opt/miniconda3/envs/tssl/lib/python3.7/site-packages/sklearn/metrics/_classification.py:1248: UndefinedMetricWarning: Precision and F-score are ill-defined and being set to 0.0 in labels with no predicted samples. Use `zero_division` parameter to control this behavior.\n",
      "  _warn_prf(average, modifier, msg_start, len(result))\n",
      "/Users/yuki/opt/miniconda3/envs/tssl/lib/python3.7/site-packages/sklearn/metrics/_classification.py:1248: UndefinedMetricWarning: Precision and F-score are ill-defined and being set to 0.0 in labels with no predicted samples. Use `zero_division` parameter to control this behavior.\n",
      "  _warn_prf(average, modifier, msg_start, len(result))\n"
     ]
    }
   ],
   "source": [
    "# Using most_frequent strategy to always predict the most frequent label in the training set.\n",
    "dummy_clf = DummyClassifier(strategy=\"most_frequent\")\n",
    "\n",
    "dummy_clf.fit(X_train, y_train)\n",
    "y_pred = dummy_clf.predict(X_test)\n",
    "\n",
    "print(classification_report(y_test, y_pred))"
   ]
  },
  {
   "cell_type": "markdown",
   "metadata": {
    "id": "pRo6P6pKN25b"
   },
   "source": [
    "## Problem 4: Creating a balanced data set"
   ]
  },
  {
   "cell_type": "markdown",
   "metadata": {
    "id": "Vy5HDp-QN25b"
   },
   "source": [
    "As you saw in Problem&nbsp;1, the distribution of the speeches over the eight different parties (classes) is imbalanced. One technique used to alleviate this is **undersampling**, in which one randomly removes samples from over-represented classes until all classes are represented with the same number of samples.\n",
    "\n",
    "Implement undersampling to create a balanced subset of the training data. Rerun the evaluation from Problem&nbsp;2 on the balanced data and compare the results. Summarise your results in a short text.\n",
    "\n",
    "**Hint:** Your balanced subset should consist of 5,752 speeches."
   ]
  },
  {
   "cell_type": "code",
   "execution_count": 11,
   "metadata": {
    "colab": {
     "base_uri": "https://localhost:8080/"
    },
    "id": "YKgUEqOFN25b",
    "outputId": "617300f8-29b8-4e51-b1d4-5f5bbf095b8b"
   },
   "outputs": [
    {
     "data": {
      "text/plain": [
       "(5752, 3)"
      ]
     },
     "execution_count": 11,
     "metadata": {},
     "output_type": "execute_result"
    }
   ],
   "source": [
    "min_speeches = counts_1718[\"counts\"].min()\n",
    "\n",
    "training_data_balanced = pd.DataFrame()\n",
    "for party in parties:\n",
    "    training_data_party = training_data[training_data[\"party\"] == party]\n",
    "    sample_to_concat = training_data_party.sample(min_speeches)\n",
    "    training_data_balanced = pd.concat([training_data_balanced, sample_to_concat], axis=0)\n",
    "    \n",
    "training_data_balanced.shape"
   ]
  },
  {
   "cell_type": "code",
   "execution_count": 12,
   "metadata": {
    "colab": {
     "base_uri": "https://localhost:8080/"
    },
    "id": "37x6POwZN25c",
    "outputId": "96d1b5e6-6b25-496f-cdac-b48b0c7deabd"
   },
   "outputs": [
    {
     "name": "stdout",
     "output_type": "stream",
     "text": [
      "              precision    recall  f1-score   support\n",
      "\n",
      "           C       0.29      0.44      0.35       671\n",
      "          KD       0.28      0.38      0.32       821\n",
      "           L       0.27      0.44      0.33       560\n",
      "           M       0.39      0.50      0.43      1644\n",
      "          MP       0.34      0.37      0.36       809\n",
      "           S       0.80      0.30      0.43      2773\n",
      "          SD       0.45      0.36      0.40      1060\n",
      "           V       0.38      0.55      0.45       950\n",
      "\n",
      "    accuracy                           0.40      9288\n",
      "   macro avg       0.40      0.42      0.39      9288\n",
      "weighted avg       0.49      0.40      0.40      9288\n",
      "\n"
     ]
    }
   ],
   "source": [
    "pipe = Pipeline([(\"countVectorizer\", CountVectorizer()), (\"multinomialNB\", MultinomialNB())])\n",
    "\n",
    "X_train = training_data_balanced[\"words\"]\n",
    "y_train = training_data_balanced[\"party\"]\n",
    "X_test = test_data[\"words\"]\n",
    "y_test = test_data[\"party\"]\n",
    "\n",
    "# Fit model on training_data\n",
    "pipe.fit(X_train, y_train)\n",
    "\n",
    "# Predictions on test_data\n",
    "y_pred = pipe.predict(X_test)\n",
    "\n",
    "# Evaluate model reporting accuracy, precision, recall and F1\n",
    "print(classification_report(y_test, y_pred))"
   ]
  },
  {
   "cell_type": "markdown",
   "metadata": {
    "id": "mU6xOX5TN25d"
   },
   "source": [
    "**A:** We used the minimum number of speeches for a party which is 719 to remove samples from over-represented classes (more than 719 speeches). By looping over all possible target values (parties) and concatenating 719 speeches from each party, we generate a new balanced training dataset. The resulting dataset now consists of 5752 speeches in total (719 speeches x 8 parties).\n",
    "\n",
    "From the evaluation we can see that the overall accuracy went down by 2%. On the other hand, we can observe a more balanced inter-class accuracy. From the f1-score we can see that our predictions are not as much varying as in problem 2. Thus, we can state that undersampling helped us making more robust predictions while at the same time lowering the overall accuracy. "
   ]
  },
  {
   "cell_type": "markdown",
   "metadata": {
    "id": "ORUtvwzSN25d"
   },
   "source": [
    "## Problem 5: Confusion matrix"
   ]
  },
  {
   "cell_type": "markdown",
   "metadata": {
    "id": "XbwrXXaQN25d"
   },
   "source": [
    "A **confusion matrix** is a specific table that is useful when analysing the performance of a classifier. In this table, both the rows and the columns correspond to classes, and each cell $(i, j)$ states how many times a sample with gold-standard class $i$ was predicted as belonging to class $j$.\n",
    "\n",
    "In scitkit-learn, the confusion matrix of a classifier is computed by the function [`confusion_matrix`](https://scikit-learn.org/stable/modules/generated/sklearn.metrics.confusion_matrix.html). If you would rather see a visual representation, you can also use [`plot_confusion_matrix`](https://scikit-learn.org/stable/modules/generated/sklearn.metrics.plot_confusion_matrix.html).\n",
    "\n",
    "Your task is to use the confusion matrix in order to find, for each given party $p$ in the Riksdag, that other party $p'$ which the classifier that you trained in Problem&nbsp;4 most often confuses with $p$ when it predicts the party of a speaker."
   ]
  },
  {
   "cell_type": "code",
   "execution_count": 13,
   "metadata": {
    "colab": {
     "base_uri": "https://localhost:8080/",
     "height": 279
    },
    "id": "E_f3P-ZdN25d",
    "outputId": "47285a94-9cc5-4d9f-ac7f-f8a41a23ffc7"
   },
   "outputs": [
    {
     "data": {
      "image/png": "[encoded data removed]",
      "text/plain": [
       "<Figure size 432x288 with 2 Axes>"
      ]
     },
     "metadata": {
      "needs_background": "light"
     },
     "output_type": "display_data"
    }
   ],
   "source": [
    "from sklearn.metrics import plot_confusion_matrix\n",
    "\n",
    "plot_confusion_matrix(pipe, X_test, y_test) \n",
    "plt.show()"
   ]
  },
  {
   "cell_type": "markdown",
   "metadata": {
    "id": "NX-htza4N25e"
   },
   "source": [
    "**A:** The observations from the confusion matrix make sense. Since we created a more balanced classification model we can see that the misclassifications are more or less proportional. We can also observe that for all parties the most predicted label is actually the true label. An interesting observation is that M is the most misclassified label for any party except L and MP."
   ]
  },
  {
   "cell_type": "markdown",
   "metadata": {
    "id": "Dbr039P2N25e"
   },
   "source": [
    "## Problem 6: Grid search"
   ]
  },
  {
   "cell_type": "markdown",
   "metadata": {
    "id": "itKN6tu5N25f"
   },
   "source": [
    "Until now, you have been using the vectorizer and the Naive Bayes classifier with their default hyperparameters. When working with real-world applications, you would want to find settings for the hyperparameters that maximize the performance for the task at hand.\n",
    "\n",
    "Manually tweaking the hyperparameters of the various components of a vectorizer–classifier pipeline can be cumbersome. However, scikit-learn makes it possible to run an exhaustive search for the best hyperparameters over a grid of possible values. This method is known as **grid search**.\n",
    "\n",
    "The hyperparameters of a pipeline should never be tuned on the final test set. Instead, one should either use a separate validation set, or run cross-validation over different folds. Here we will use cross-validation.\n",
    "\n",
    "Implement a grid search with 5-fold cross-validation to find the optimal parameters in a grid defined by the following choices for the hyperparameters:\n",
    "\n",
    "* In the vectorizer, try a set-of-words (binary) model in addition to the default bag-of-words model (two possible parameter values).\n",
    "* Also in the vectorizer, try extracting bigrams in addition to unigrams (two possible parameter values).\n",
    "* In the Naive Bayes classifier, try using additive smoothing with $\\alpha \\in \\{1, 0{.}1\\}$ (two possible parameter values).\n",
    "\n",
    "Use the class [GridSearchCV](https://scikit-learn.org/stable/modules/generated/sklearn.model_selection.GridSearchCV.html) from the scikit-learn library. Print the results of your best model, along with the parameter values that yielded these results."
   ]
  },
  {
   "cell_type": "code",
   "execution_count": 14,
   "metadata": {
    "id": "LvYfwzIVRHGf"
   },
   "outputs": [],
   "source": [
    "from sklearn.model_selection import GridSearchCV"
   ]
  },
  {
   "cell_type": "code",
   "execution_count": 15,
   "metadata": {
    "colab": {
     "base_uri": "https://localhost:8080/"
    },
    "id": "jcag1CRqN25g",
    "outputId": "2e9507e8-0efc-4a88-d896-ec1aeed8489e"
   },
   "outputs": [
    {
     "data": {
      "text/plain": [
       "GridSearchCV(cv=5,\n",
       "             estimator=Pipeline(steps=[('countVectorizer', CountVectorizer()),\n",
       "                                       ('multinomialNB', MultinomialNB())]),\n",
       "             param_grid={'countVectorizer__binary': [True, False],\n",
       "                         'countVectorizer__ngram_range': [(1, 1), (1, 2)],\n",
       "                         'multinomialNB__alpha': [0.1, 1]})"
      ]
     },
     "execution_count": 15,
     "metadata": {},
     "output_type": "execute_result"
    }
   ],
   "source": [
    "# TODO: Write code here to implement the grid search\n",
    "# pipe.get_params().keys()\n",
    "params = {\"countVectorizer__binary\": [True, False],\n",
    "          \"countVectorizer__ngram_range\": [(1,1), (1,2)],\n",
    "          \"multinomialNB__alpha\": [0.1, 1]}\n",
    "\n",
    "grid_param = GridSearchCV(pipe, params, cv=5)\n",
    "\n",
    "grid_param.fit(training_data[\"words\"], training_data[\"party\"])"
   ]
  },
  {
   "cell_type": "code",
   "execution_count": 16,
   "metadata": {
    "colab": {
     "base_uri": "https://localhost:8080/"
    },
    "id": "fLURwetkUicx",
    "outputId": "49e3acc1-f5e2-4c49-bbad-3bf13926bcf2"
   },
   "outputs": [
    {
     "data": {
      "text/plain": [
       "{'countVectorizer__binary': False,\n",
       " 'countVectorizer__ngram_range': (1, 1),\n",
       " 'multinomialNB__alpha': 0.1}"
      ]
     },
     "execution_count": 16,
     "metadata": {},
     "output_type": "execute_result"
    }
   ],
   "source": [
    "# Best parameter values\n",
    "best_grid_param = grid_param.best_params_\n",
    "best_grid_param"
   ]
  },
  {
   "cell_type": "code",
   "execution_count": 17,
   "metadata": {
    "id": "zVKyel_0Yjiv"
   },
   "outputs": [],
   "source": [
    "# grid_param.cv_results_\n",
    "\n",
    "# On training data\n",
    "predict_train = grid_param.best_estimator_.predict(training_data[\"words\"])\n",
    "# On test data\n",
    "predict_test = grid_param.best_estimator_.predict(test_data[\"words\"])"
   ]
  },
  {
   "cell_type": "code",
   "execution_count": 18,
   "metadata": {
    "colab": {
     "base_uri": "https://localhost:8080/"
    },
    "id": "7qFZOkNPauBu",
    "outputId": "28b543d2-3622-463d-86fb-d26b096c483d"
   },
   "outputs": [
    {
     "name": "stdout",
     "output_type": "stream",
     "text": [
      "              precision    recall  f1-score   support\n",
      "\n",
      "           C       0.95      0.96      0.96       865\n",
      "          KD       0.97      0.97      0.97       743\n",
      "           L       0.95      0.98      0.97       719\n",
      "           M       0.94      0.96      0.95      2370\n",
      "          MP       0.92      0.92      0.92      1481\n",
      "           S       0.97      0.93      0.95      4261\n",
      "          SD       0.93      0.97      0.95      1010\n",
      "           V       0.92      0.97      0.94       894\n",
      "\n",
      "    accuracy                           0.95     12343\n",
      "   macro avg       0.94      0.96      0.95     12343\n",
      "weighted avg       0.95      0.95      0.95     12343\n",
      "\n"
     ]
    }
   ],
   "source": [
    "# classification report for optimal parameters (training set)\n",
    "print(classification_report(training_data[\"party\"], predict_train))"
   ]
  },
  {
   "cell_type": "code",
   "execution_count": 19,
   "metadata": {
    "colab": {
     "base_uri": "https://localhost:8080/"
    },
    "id": "Fp67VuB3bLsh",
    "outputId": "53735330-40c8-41bd-933b-a690e06e470d"
   },
   "outputs": [
    {
     "name": "stdout",
     "output_type": "stream",
     "text": [
      "              precision    recall  f1-score   support\n",
      "\n",
      "           C       0.39      0.27      0.32       671\n",
      "          KD       0.45      0.24      0.31       821\n",
      "           L       0.37      0.26      0.30       560\n",
      "           M       0.44      0.58      0.50      1644\n",
      "          MP       0.32      0.46      0.38       809\n",
      "           S       0.61      0.65      0.63      2773\n",
      "          SD       0.49      0.43      0.45      1060\n",
      "           V       0.50      0.42      0.46       950\n",
      "\n",
      "    accuracy                           0.48      9288\n",
      "   macro avg       0.45      0.41      0.42      9288\n",
      "weighted avg       0.48      0.48      0.48      9288\n",
      "\n"
     ]
    }
   ],
   "source": [
    "# classification report for optimal parameters (test set)\n",
    "print(classification_report(test_data[\"party\"], predict_test))"
   ]
  },
  {
   "cell_type": "markdown",
   "metadata": {
    "id": "YjmgSnmubgWH"
   },
   "source": [
    "**A**: We get overall better scores using the crossvalidation method. This is due to the fact that we make an exhaustive search through parameters in order to find the appropriate set for our data. One should however be aware of the risks of overfitting when using this method as attested by the sharp drop in accuracy between the training performance and the test set."
   ]
  },
  {
   "cell_type": "markdown",
   "metadata": {
    "id": "PpUXR-cyN25g"
   },
   "source": [
    "## Problem 7: Try to improve your results"
   ]
  },
  {
   "cell_type": "markdown",
   "metadata": {
    "id": "lqMLOsmnN25h"
   },
   "source": [
    "Scikit-learn makes it easy to test different vectorizer–classifier pipelines – among other things, it includes different types of logistic regression classifiers, support vector machines, and decision trees. Browse the library to see which methods are supported.\n",
    "\n",
    "Build a pipeline that you find interesting, and use grid search to find optimal settings for the hyperparameters. Print the results of your best model."
   ]
  },
  {
   "cell_type": "code",
   "execution_count": 20,
   "metadata": {
    "colab": {
     "base_uri": "https://localhost:8080/",
     "height": 1000
    },
    "id": "o4doMZXSN25h",
    "outputId": "b822b082-b7b2-42e6-b185-ec8075056153"
   },
   "outputs": [],
   "source": [
    "from sklearn.linear_model import LogisticRegression\n",
    "from sklearn.ensemble import RandomForestClassifier\n",
    "from sklearn.svm import SVC\n",
    "\n",
    "# LogisticRegression Pipeline\n",
    "pipe_lr = Pipeline([\n",
    "    (\"countVectorizer\", CountVectorizer()),\n",
    "    (\"LogisticRegression\", LogisticRegression(multi_class=\"multinomial\", max_iter=100))])\n",
    "\n",
    "# RandomForestClassifier Pipeline\n",
    "pipe_rf = Pipeline([\n",
    "    ('countVectorizer', CountVectorizer()),\n",
    "    ('RandomForestClassifier', RandomForestClassifier(random_state=0))])\n",
    "\n",
    "# SVC\n",
    "pipe_svm = Pipeline([\n",
    "    ('countVectorizer', CountVectorizer()),\n",
    "    ('SVM', SVC(random_state=0))])\n",
    "\n",
    "\n",
    "# Define pipeline parameters for all models\n",
    "params_lr = {\n",
    "    \"countVectorizer__ngram_range\": [(1,1), (1,2)],\n",
    "    \"countVectorizer__binary\": [True, False],\n",
    "    \"LogisticRegression__C\": [0.5, 1.0],\n",
    "    #\"LogisticRegression__solver\": [\"newton-cg\", \"lbfgs\"],\n",
    "    #\"LogisticRegression__warm_start\": [True, False]\n",
    "}\n",
    "\n",
    "params_rf = {\n",
    "    \"countVectorizer__ngram_range\": [(1,1), (1,2)],\n",
    "    \"countVectorizer__binary\": [True, False],\n",
    "    \"RandomForestClassifier__criterion\": [\"gini\", \"entropy\"],\n",
    "    #\"RandomForestClassifier__bootstrap\": [True, False],\n",
    "    #\"RandomForestClassifier__warm_start\": [True, False]\n",
    "}\n",
    "\n",
    "params_svm = {\n",
    "    \"countVectorizer__ngram_range\": [(1,1), (1,2)],\n",
    "    \"countVectorizer__binary\": [True, False],\n",
    "    \"SVM__kernel\": [\"linear\", \"rbf\", \"sigmoid\"], \n",
    "    #\"SVM__C\": [0.5, 1.0]\n",
    "}\n",
    "\n",
    "grid_param_lr = GridSearchCV(\n",
    "    estimator=pipe_lr,\n",
    "    param_grid=params_lr,\n",
    "    scoring='accuracy',\n",
    "    cv=5) \n",
    "\n",
    "grid_param_rf = GridSearchCV(\n",
    "    estimator=pipe_rf,\n",
    "    param_grid=params_rf,\n",
    "    scoring=\"accuracy\",\n",
    "    cv=5)\n",
    "\n",
    "grid_param_svm = GridSearchCV(\n",
    "    estimator=pipe_svm,\n",
    "    param_grid=params_svm,\n",
    "    scoring=\"accuracy\",\n",
    "    cv=5)\n",
    "\n",
    "pipelines = [(grid_param_lr, params_lr, pipe_lr), (grid_param_rf, params_rf, pipe_rf), (grid_param_svm, params_svm, pipe_svm)]"
   ]
  },
  {
   "cell_type": "code",
   "execution_count": 21,
   "metadata": {},
   "outputs": [
    {
     "name": "stdout",
     "output_type": "stream",
     "text": [
      "Performing grid search...\n",
      "Pipeline: ['countVectorizer', 'LogisticRegression']\n",
      "Parameters:\n",
      "{'LogisticRegression__C': [0.5, 1.0],\n",
      " 'countVectorizer__binary': [True, False],\n",
      " 'countVectorizer__ngram_range': [(1, 1), (1, 2)]}\n",
      "Done in 4786.617s\n",
      "\n",
      "Best score: 0.612\n",
      "Best parameters set:\n",
      "\tLogisticRegression__C: 0.5\n",
      "\tcountVectorizer__binary: False\n",
      "\tcountVectorizer__ngram_range: (1, 2)\n",
      "\n",
      "Classification report for optimal parameters (training set)\n",
      "\n",
      "              precision    recall  f1-score   support\n",
      "\n",
      "           C       1.00      0.99      0.99       865\n",
      "          KD       1.00      1.00      1.00       743\n",
      "           L       1.00      0.99      1.00       719\n",
      "           M       1.00      0.99      1.00      2370\n",
      "          MP       1.00      0.99      1.00      1481\n",
      "           S       0.99      1.00      1.00      4261\n",
      "          SD       1.00      1.00      1.00      1010\n",
      "           V       1.00      1.00      1.00       894\n",
      "\n",
      "    accuracy                           1.00     12343\n",
      "   macro avg       1.00      1.00      1.00     12343\n",
      "weighted avg       1.00      1.00      1.00     12343\n",
      "\n",
      "\n",
      "Classification report for optimal parameters (test data)\n",
      "\n",
      "              precision    recall  f1-score   support\n",
      "\n",
      "           C       0.39      0.37      0.38       671\n",
      "          KD       0.49      0.21      0.30       821\n",
      "           L       0.41      0.28      0.34       560\n",
      "           M       0.50      0.56      0.53      1644\n",
      "          MP       0.30      0.35      0.32       809\n",
      "           S       0.56      0.80      0.66      2773\n",
      "          SD       0.55      0.40      0.46      1060\n",
      "           V       0.59      0.27      0.37       950\n",
      "\n",
      "    accuracy                           0.50      9288\n",
      "   macro avg       0.47      0.41      0.42      9288\n",
      "weighted avg       0.50      0.50      0.48      9288\n",
      "\n",
      "################################################################\n",
      "Performing grid search...\n",
      "Pipeline: ['countVectorizer', 'RandomForestClassifier']\n",
      "Parameters:\n",
      "{'RandomForestClassifier__criterion': ['gini', 'entropy'],\n",
      " 'countVectorizer__binary': [True, False],\n",
      " 'countVectorizer__ngram_range': [(1, 1), (1, 2)]}\n",
      "Done in 5110.996s\n",
      "\n",
      "Best score: 0.432\n",
      "Best parameters set:\n",
      "\tRandomForestClassifier__criterion: 'gini'\n",
      "\tcountVectorizer__binary: False\n",
      "\tcountVectorizer__ngram_range: (1, 1)\n",
      "\n",
      "Classification report for optimal parameters (training set)\n",
      "\n",
      "              precision    recall  f1-score   support\n",
      "\n",
      "           C       1.00      1.00      1.00       865\n",
      "          KD       1.00      1.00      1.00       743\n",
      "           L       1.00      1.00      1.00       719\n",
      "           M       1.00      1.00      1.00      2370\n",
      "          MP       1.00      1.00      1.00      1481\n",
      "           S       1.00      1.00      1.00      4261\n",
      "          SD       1.00      1.00      1.00      1010\n",
      "           V       1.00      1.00      1.00       894\n",
      "\n",
      "    accuracy                           1.00     12343\n",
      "   macro avg       1.00      1.00      1.00     12343\n",
      "weighted avg       1.00      1.00      1.00     12343\n",
      "\n",
      "\n",
      "Classification report for optimal parameters (test data)\n",
      "\n",
      "              precision    recall  f1-score   support\n",
      "\n",
      "           C       0.83      0.03      0.05       671\n",
      "          KD       1.00      0.06      0.11       821\n",
      "           L       0.76      0.05      0.10       560\n",
      "           M       0.41      0.30      0.35      1644\n",
      "          MP       0.52      0.01      0.03       809\n",
      "           S       0.34      0.97      0.51      2773\n",
      "          SD       0.91      0.04      0.08      1060\n",
      "           V       0.76      0.01      0.03       950\n",
      "\n",
      "    accuracy                           0.36      9288\n",
      "   macro avg       0.69      0.18      0.16      9288\n",
      "weighted avg       0.60      0.36      0.25      9288\n",
      "\n",
      "################################################################\n",
      "Performing grid search...\n",
      "Pipeline: ['countVectorizer', 'SVM']\n",
      "Parameters:\n",
      "{'SVM__kernel': ['linear', 'rbf', 'sigmoid'],\n",
      " 'countVectorizer__binary': [True, False],\n",
      " 'countVectorizer__ngram_range': [(1, 1), (1, 2)]}\n",
      "Done in 50784.726s\n",
      "\n",
      "Best score: 0.586\n",
      "Best parameters set:\n",
      "\tSVM__kernel: 'linear'\n",
      "\tcountVectorizer__binary: True\n",
      "\tcountVectorizer__ngram_range: (1, 2)\n",
      "\n",
      "Classification report for optimal parameters (training set)\n",
      "\n",
      "              precision    recall  f1-score   support\n",
      "\n",
      "           C       1.00      1.00      1.00       865\n",
      "          KD       1.00      1.00      1.00       743\n",
      "           L       1.00      1.00      1.00       719\n",
      "           M       1.00      1.00      1.00      2370\n",
      "          MP       1.00      1.00      1.00      1481\n",
      "           S       1.00      1.00      1.00      4261\n",
      "          SD       1.00      1.00      1.00      1010\n",
      "           V       1.00      1.00      1.00       894\n",
      "\n",
      "    accuracy                           1.00     12343\n",
      "   macro avg       1.00      1.00      1.00     12343\n",
      "weighted avg       1.00      1.00      1.00     12343\n",
      "\n",
      "\n",
      "Classification report for optimal parameters (test data)\n",
      "\n",
      "              precision    recall  f1-score   support\n",
      "\n",
      "           C       0.42      0.29      0.34       671\n",
      "          KD       0.46      0.17      0.24       821\n",
      "           L       0.38      0.20      0.26       560\n",
      "           M       0.44      0.54      0.48      1644\n",
      "          MP       0.31      0.34      0.33       809\n",
      "           S       0.52      0.78      0.62      2773\n",
      "          SD       0.53      0.35      0.42      1060\n",
      "           V       0.60      0.30      0.40       950\n",
      "\n",
      "    accuracy                           0.48      9288\n",
      "   macro avg       0.46      0.37      0.39      9288\n",
      "weighted avg       0.48      0.48      0.45      9288\n",
      "\n",
      "################################################################\n"
     ]
    }
   ],
   "source": [
    "from pprint import pprint\n",
    "from time import time\n",
    "import warnings\n",
    "\n",
    "warnings.filterwarnings('ignore')\n",
    "\n",
    "for pipe in pipelines:\n",
    "    print(\"Performing grid search...\")\n",
    "    print(\"Pipeline:\", [name for name, _ in pipe[2].steps])\n",
    "    print(\"Parameters:\")\n",
    "    pprint(pipe[1])\n",
    "    t0 = time()\n",
    "    pipe[0].fit(training_data[\"words\"], training_data[\"party\"])\n",
    "    print(\"Done in %0.3fs\\n\" % (time() - t0))\n",
    "    print(\"Best score: %0.3f\" % pipe[0].best_score_)\n",
    "    print(\"Best parameters set:\")\n",
    "    best_parameters = pipe[0].best_estimator_.get_params()\n",
    "    for param_name in sorted(pipe[1].keys()):\n",
    "        print(\"\\t%s: %r\" % (param_name, best_parameters[param_name]))\n",
    "        \n",
    "    # On training data\n",
    "    predict_train = pipe[0].best_estimator_.predict(training_data[\"words\"])\n",
    "    # On test data\n",
    "    predict_test = pipe[0].best_estimator_.predict(test_data[\"words\"])\n",
    "\n",
    "    # classification report for optimal parameters (training set)\n",
    "    print(\"\\nClassification report for optimal parameters (training set)\\n\")\n",
    "    print(classification_report(training_data[\"party\"], predict_train))\n",
    "\n",
    "    # classification report for optimal parameters (test set)\n",
    "    print(\"\\nClassification report for optimal parameters (test data)\\n\")\n",
    "    print(classification_report(test_data[\"party\"], predict_test))\n",
    "    \n",
    "    print(\"################################################################\")"
   ]
  },
  {
   "cell_type": "markdown",
   "metadata": {},
   "source": [
    "Initially we tried to tune even more hyperparameters for each model (commented out) but we realized that the grid search would take up too much time. Thus, we decided to keep it simple and only tune one parameter per model (LR, RF, SVM) in addition to tuning the countVectorizer parameters from exercise 6. It can be seen that the Logistic Regression model returned the best results in terms of accuracy compared to Naive Bayes, Random Forest and SVM. The optimal parameters, accuracy on the test/training set as well as a classification report for each model can be seen in the output above."
   ]
  },
  {
   "cell_type": "markdown",
   "metadata": {
    "id": "pEOXJGLFN25i"
   },
   "source": [
    "## Reflection questions"
   ]
  },
  {
   "cell_type": "markdown",
   "metadata": {
    "id": "vCcL05JVN25i"
   },
   "source": [
    "The following reflection questions are questions that you could be asked in the oral exam. Try to answer each of them in the form of a short text and enter it in the cell below. You will get feedback on your answers from your lab assistant."
   ]
  },
  {
   "cell_type": "markdown",
   "metadata": {
    "id": "dQfz9wXTN25i"
   },
   "source": [
    "**RQ 2.1:** Summarise the results of your experiments for Problem&nbsp;2. Are your results ‘good’ or ‘bad’? How do you determine that?\n",
    "\n",
    "**RQ 2.2:** Summarise the results of your experiments for Problem&nbsp;4. Would you think that your results are typical even for other classification tasks? How would *oversampling* have looked like for this task? When would you use undersampling, when oversampling?\n",
    "\n",
    "**RQ 2.3:** Which model performed best in your experiments for Problem&nbsp;6? Why is it important to do a hyperparameter search before drawing conclusions about the performance of a model? Why is it often not done, anyway? Why should you never tune hyperparameters on the test set?"
   ]
  },
  {
   "cell_type": "markdown",
   "metadata": {
    "id": "HGX29OrdN25j"
   },
   "source": [
    "**A 2.1** In this problem, we apply the Naive Bayes classifier directly on the dataset without any consideration about class over-representation. We obtain results that show a better accuracy for those classes that are more represented and for which more data is available. On the other hand, under-represented classes show poor accuracy and f1-scores. These results are not bad per se, but are in line with what we expect from biased dataset for which class imbalance is not taken into account.\n",
    "\n",
    "\n",
    "**A 2.2:** From the evaluation we can see that the overall accuracy went down by 2%. On the other hand, we can observe a more balanced inter-class accuracy. From the f1-score we can see that our predictions are not as much varying as in problem 2. Thus, we can state that undersampling helped us making more robust predictions while at the same time lowering the overall accuracy. Oversampling would imply that we would duplicate (randomly) data from under-represented class a certain number of times in order to have the same class representation for all classes in the dataset. This method does not add any more information to the dataset. However, generating synthetic text using the Synthetic Minority Over-Sampling Technique ([SMOTE](https://arxiv.org/pdf/1106.1813.pdf)) would provide an alternative by generating synthetic data that could add information during the training process and oversample more efficiently. We would use undersampling in the case where the minority classes have enough information to find the decision boundary for our classifier and performs \"well enough\" compared to the baseline (i.e. we would not see any strong imbalance in our classification that is biased in the same way than our classes in the dataset). We would use oversampling (random or another technique) in the case our underrepresented classes do not have enough information to make up a good decision boundary.\n",
    "\n",
    "**A 2.3:** As marked in the cell above, our best result is with the following parameters: {'countVectorizer__binary': False, 'countVectorizer__ngram_range': (1, 1),'multinomialNB__alpha': 0.1}. Choosing the best set of parameters is important to do before drawing any conlcusions because they depend strongly on the problem and the training set that is fed to the model. We do no wish to introduce any bias when measuring the performance of the model. This is also the reason why we do not tune the hyperparameters on the test set as the hyperparameter tuning process is also part of the training of the model. Grid search is often not done because it is a lengthy and computationally demanding process if we are to increase the number of folds, fine grain the grid, increase the dimensions (more hyperparameters) in order to find the absolute best combination. We also run the risk of overfitting by adding more complexity to the model which would mean a poor generalization of the model."
   ]
  },
  {
   "cell_type": "markdown",
   "metadata": {
    "id": "L-Of_kv6N25j"
   },
   "source": [
    "**Congratulations on finishing L2! 👍**"
   ]
  }
 ],
 "metadata": {
  "colab": {
   "collapsed_sections": [],
   "name": "TM_L2_stopwords.ipynb",
   "provenance": []
  },
  "kernelspec": {
   "display_name": "Python 3 (ipykernel)",
   "language": "python",
   "name": "python3"
  },
  "language_info": {
   "codemirror_mode": {
    "name": "ipython",
    "version": 3
   },
   "file_extension": ".py",
   "mimetype": "text/x-python",
   "name": "python",
   "nbconvert_exporter": "python",
   "pygments_lexer": "ipython3",
   "version": "3.7.0"
  }
 },
 "nbformat": 4,
 "nbformat_minor": 1
}
